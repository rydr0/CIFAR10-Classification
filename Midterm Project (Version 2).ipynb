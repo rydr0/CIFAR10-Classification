{
 "cells": [
  {
   "cell_type": "markdown",
   "metadata": {},
   "source": [
    "# Identifying objects in images.\n",
    "## 1st dataset to try: CIFAR 10"
   ]
  },
  {
   "cell_type": "markdown",
   "metadata": {},
   "source": [
    "Starting lines and imports"
   ]
  },
  {
   "cell_type": "code",
   "execution_count": 1,
   "metadata": {},
   "outputs": [],
   "source": [
    "%matplotlib inline\n",
    "import numpy as np\n",
    "\n",
    "import matplotlib.pyplot as plt\n",
    "\n",
    "import torch\n",
    "import torch.nn as nn\n",
    "import torch.optim as optim\n",
    "from torch.autograd import Variable\n",
    "\n",
    "import torchvision\n",
    "import torchvision.transforms as transforms\n",
    "from torchvision import datasets, transforms\n",
    "\n",
    "%load_ext autoreload\n",
    "%autoreload 2"
   ]
  },
  {
   "cell_type": "code",
   "execution_count": 2,
   "metadata": {},
   "outputs": [
    {
     "name": "stdout",
     "output_type": "stream",
     "text": [
      "CUDA is available. Using GPU.\n"
     ]
    }
   ],
   "source": []
  },
  {
   "cell_type": "markdown",
   "metadata": {},
   "source": [
    "## Load CIFAR 10"
   ]
  },
  {
   "cell_type": "markdown",
   "metadata": {},
   "source": [
    "#### Define transforms for the dataset and load"
   ]
  },
  {
   "cell_type": "code",
   "execution_count": 3,
   "metadata": {},
   "outputs": [],
   "source": [
    "transform_tr = transforms.Compose([transforms.ToTensor(),transforms.Normalize((0.4914, 0.4822, 0.4465),(0.2470, 0.2435, 0.2616))])\n",
    "transform_tst = transforms.Compose([transforms.ToTensor(), transforms.Normalize((0.4942, 0.4851, 0.4504),(0.2467, 0.2429, 0.2616))])"
   ]
  },
  {
   "cell_type": "code",
   "execution_count": 40,
   "metadata": {},
   "outputs": [
    {
     "name": "stdout",
     "output_type": "stream",
     "text": [
      "Files already downloaded and verified\n"
     ]
    }
   ],
   "source": [
    "# CIFAR-10 training dataset and data loader\n",
    "train_batch_size = 64\n",
    "val_batch_size = 500\n",
    "\n",
    "indices = np.arange(50000)\n",
    "np.random.shuffle(indices)\n",
    "\n",
    "tr_sampler = torch.utils.data.SubsetRandomSampler(indices[:45000])\n",
    "val_sampler = torch.utils.data.SubsetRandomSampler(indices[45000:50000])\n",
    "\n",
    "train_dataset = datasets.CIFAR10('CIFAR10',\n",
    "                                 train=True, \n",
    "                                 download=True, \n",
    "                                 transform=transform_tr)\n",
    "\n",
    "train_loader = torch.utils.data.DataLoader(train_dataset,\n",
    "                                          batch_size=train_batch_size,\n",
    "                                          shuffle=False,\n",
    "                                          sampler=tr_sampler)\n",
    "val_loader = torch.utils.data.DataLoader(train_dataset,\n",
    "                                          batch_size=val_batch_size,\n",
    "                                          shuffle=False,\n",
    "                                          sampler=val_sampler)"
   ]
  },
  {
   "cell_type": "code",
   "execution_count": 41,
   "metadata": {},
   "outputs": [
    {
     "name": "stdout",
     "output_type": "stream",
     "text": [
      "Files already downloaded and verified\n"
     ]
    }
   ],
   "source": [
    "# CIFAR-10 test dataset and data loader\n",
    "test_batch_size = 10000\n",
    "\n",
    "test_dataset = datasets.CIFAR10('CIFAR10', \n",
    "                                train=False, \n",
    "                                download=True, \n",
    "                                transform=transform_tst)\n",
    "\n",
    "test_loader = torch.utils.data.DataLoader(test_dataset,\n",
    "                                          batch_size=test_batch_size,\n",
    "                                          shuffle=True)"
   ]
  },
  {
   "cell_type": "code",
   "execution_count": 8,
   "metadata": {},
   "outputs": [
    {
     "data": {
      "text/plain": [
       "176"
      ]
     },
     "execution_count": 8,
     "metadata": {},
     "output_type": "execute_result"
    }
   ],
   "source": [
    "# num of batches in each training epoch\n",
    "len(train_loader)"
   ]
  },
  {
   "cell_type": "code",
   "execution_count": 9,
   "metadata": {},
   "outputs": [],
   "source": [
    "def mean_and_stddev(loader):\n",
    "    chsum = 0\n",
    "    for j, (images, labels) in enumerate(loader):\n",
    "        chsum += images.sum(dim=(0,2,3), keepdim=True)\n",
    "    mean = chsum/len(loader.dataset.data)/images.size(2)/images.size(3)\n",
    "    print(mean.view(-1))\n",
    "    chsum = 0\n",
    "    for j, (images, labels) in enumerate(loader):\n",
    "        chsum += (images - mean).pow(2).sum(dim=(0,2,3), keepdim=True)\n",
    "    std = torch.sqrt(chsum/(len(loader.dataset.data)*images.size(2)*images.size(3)-1))\n",
    "    print(std.view(-1))"
   ]
  },
  {
   "cell_type": "code",
   "execution_count": 11,
   "metadata": {},
   "outputs": [
    {
     "name": "stdout",
     "output_type": "stream",
     "text": [
      "tensor([0.0008, 0.0003, 0.0008])\n",
      "tensor([0.9496, 0.9494, 0.9489])\n"
     ]
    }
   ],
   "source": [
    "mean_and_stddev(train_loader)"
   ]
  },
  {
   "cell_type": "code",
   "execution_count": 12,
   "metadata": {},
   "outputs": [
    {
     "name": "stdout",
     "output_type": "stream",
     "text": [
      "tensor([5.7946e-05, 1.2927e-04, 3.4821e-05])\n",
      "tensor([0.9998, 1.0000, 1.0000])\n"
     ]
    }
   ],
   "source": [
    "mean_and_stddev(test_loader)"
   ]
  },
  {
   "cell_type": "markdown",
   "metadata": {},
   "source": [
    "#### Function to show individual image and associated label"
   ]
  },
  {
   "cell_type": "code",
   "execution_count": 15,
   "metadata": {},
   "outputs": [],
   "source": [
    "def show_image(image_num):\n",
    "    plt.imshow(train_loader.dataset.data[image_num,:,:])\n",
    "    target = train_loader.dataset.targets[image_num]\n",
    "    print(\"This image is a(n) \" + str(train_loader.dataset.classes[target])+\".\")"
   ]
  },
  {
   "cell_type": "code",
   "execution_count": 16,
   "metadata": {
    "scrolled": true
   },
   "outputs": [
    {
     "name": "stdout",
     "output_type": "stream",
     "text": [
      "This image is a(n) airplane.\n"
     ]
    },
    {
     "data": {
      "image/png": "[encoded data removed]",
      "text/plain": [
       "<Figure size 432x288 with 1 Axes>"
      ]
     },
     "metadata": {
      "needs_background": "light"
     },
     "output_type": "display_data"
    }
   ],
   "source": [
    "show_image(1701)"
   ]
  },
  {
   "cell_type": "code",
   "execution_count": 17,
   "metadata": {},
   "outputs": [
    {
     "name": "stdout",
     "output_type": "stream",
     "text": [
      "This image is a(n) ship.\n"
     ]
    },
    {
     "data": {
      "image/png": "[encoded data removed]",
      "text/plain": [
       "<Figure size 432x288 with 1 Axes>"
      ]
     },
     "metadata": {
      "needs_background": "light"
     },
     "output_type": "display_data"
    }
   ],
   "source": [
    "show_image(9154)"
   ]
  },
  {
   "cell_type": "markdown",
   "metadata": {},
   "source": [
    "# Initialize settings for Neural Network"
   ]
  },
  {
   "cell_type": "code",
   "execution_count": 79,
   "metadata": {},
   "outputs": [],
   "source": [
    "class Neural_Network(nn.Module):\n",
    "    def __init__(self):\n",
    "        super(Neural_Network, self).__init__()\n",
    "        # Convolutional Layer - \n",
    "        self.conv1 = nn.Conv2d(3,6,5)\n",
    "        \n",
    "        # 2nd Convolutional Layer -\n",
    "        self.conv2 = nn.Conv2d(6,16,5)\n",
    "        \n",
    "        # 3rd Convolutional Layer -\n",
    "        self.conv3 = nn.Conv2d(16,32,5)\n",
    "        \n",
    "        # Max Pooling layers - \n",
    "        self.pool = nn.MaxPool2d(2,2)\n",
    "             \n",
    "        # 3 fully connected layers\n",
    "        self.fc1 = nn.Linear(2048, 250)\n",
    "        self.fc2 = nn.Linear(250, 120)\n",
    "        self.fc3 = nn.Linear(120, 84)\n",
    "        self.fc4 = nn.Linear(84, 10)\n",
    "        \n",
    "        #Dropout for regularization using default p=0.5\n",
    "        #self.dr1 = nn.Dropout2d()\n",
    "        self.dr2 = nn.Dropout()\n",
    "        \n",
    "        # Activation function\n",
    "        self.activ1 = nn.ReLU()\n",
    "        #self.activ1 = nn.Tanh()\n",
    "        #self.activ2 = nn.LocalResponseNorm(2)\n",
    "        \n",
    "    def forward(self, x):\n",
    "        # 2 convolutional / pooling layers\n",
    "        x = self.activ1(self.conv1(x))\n",
    "        x = self.activ1(self.conv2(x))\n",
    "        x = self.pool(x)\n",
    "        x = self.activ1(self.conv3(x))\n",
    "        \n",
    "        # 2 fully connected hidden layers\n",
    "        x = x.view(-1,2048)\n",
    "        x = self.activ1(self.fc1(x))\n",
    "        x = self.dr2(x)\n",
    "        x = self.activ1(self.fc2(x))\n",
    "        x = self.dr2(x)\n",
    "        x = self.activ1(self.fc3(x))\n",
    "        x = self.dr2(x)\n",
    "        \n",
    "        # final output layer\n",
    "        x = self.fc4(x)\n",
    "        \n",
    "        return x"
   ]
  },
  {
   "cell_type": "code",
   "execution_count": 19,
   "metadata": {},
   "outputs": [],
   "source": [
    "class Neural_Network2(nn.Module):\n",
    "    def __init__(self):\n",
    "        super(Neural_Network2, self).__init__()\n",
    "        # Convolutional Layer - \n",
    "        self.conv1 = nn.Conv2d(3,6,3)\n",
    "        \n",
    "        # 2nd Convolutional Layer -\n",
    "        self.conv2 = nn.Conv2d(6,6,5)\n",
    "        \n",
    "        # 3rd Convolutional Layer -\n",
    "        self.conv3 = nn.Conv2d(6,8,5)\n",
    "        \n",
    "        # 4th Convolutional Layer\n",
    "        self.conv4 = nn.Conv2d(8,10,5)\n",
    "        \n",
    "        # Max Pooling layers - \n",
    "        self.pool = nn.MaxPool2d(2,2)\n",
    "             \n",
    "        # 3 fully connected layers\n",
    "        self.fc1 = nn.Linear(40, 10)\n",
    "        \n",
    "        # Activation function\n",
    "        self.activ1 = nn.ReLU()\n",
    "        \n",
    "    def forward(self, x):\n",
    "        # 2 convolutional / pooling layers\n",
    "        x = self.activ1(self.conv1(x))\n",
    "        x = self.activ1(self.conv2(x))\n",
    "        x = self.pool(x)\n",
    "        x = self.activ1(self.conv3(x))\n",
    "        x = self.activ1(self.conv4(x))\n",
    "        x = self.pool(x)\n",
    "        \n",
    "        # 2 fully connected hidden layers\n",
    "        x = x.view(-1,40)\n",
    "        x = self.activ1(self.fc1(x))\n",
    "        \n",
    "        return x"
   ]
  },
  {
   "cell_type": "code",
   "execution_count": 24,
   "metadata": {},
   "outputs": [],
   "source": [
    "class Neural_Network_Linear(nn.Module):\n",
    "    def __init__(self):\n",
    "        super(Neural_Network, self).__init__()\n",
    "        self.fc1 = nn.Linear(32* 32 * 3, 256)\n",
    "        self.fc2 = nn.Linear(256,200)\n",
    "        self.fc3 = nn.Linear(200, 10)\n",
    "        self.activ = nn.functional.relu\n",
    "        \n",
    "    def forward(self, x):\n",
    "        x = self.activ(self.fc1(x))\n",
    "        x = self.activ(self.fc2(x))\n",
    "        x = self.fc3(x)\n",
    "        \n",
    "        return x"
   ]
  },
  {
   "cell_type": "markdown",
   "metadata": {},
   "source": [
    "## Function to calculate classification prediction accuracy"
   ]
  },
  {
   "cell_type": "code",
   "execution_count": 31,
   "metadata": {},
   "outputs": [],
   "source": [
    "def accuracy(outputs, labels):\n",
    "    prediction = outputs.cpu().max(1, keepdim=True)[1].squeeze()\n",
    "    prediction_comp = torch.eq(prediction.cpu(), labels.cpu())\n",
    "    prediction_comp = prediction_comp.sum().numpy() / torch.numel(prediction.cpu())\n",
    "    return prediction_comp * 100"
   ]
  },
  {
   "cell_type": "code",
   "execution_count": 89,
   "metadata": {},
   "outputs": [
    {
     "name": "stdout",
     "output_type": "stream",
     "text": [
      "CUDA is available. Using GPU.\n"
     ]
    },
    {
     "data": {
      "text/plain": [
       "Neural_Network(\n",
       "  (conv1): Conv2d(3, 6, kernel_size=(5, 5), stride=(1, 1))\n",
       "  (conv2): Conv2d(6, 16, kernel_size=(5, 5), stride=(1, 1))\n",
       "  (conv3): Conv2d(16, 32, kernel_size=(5, 5), stride=(1, 1))\n",
       "  (pool): MaxPool2d(kernel_size=2, stride=2, padding=0, dilation=1, ceil_mode=False)\n",
       "  (fc1): Linear(in_features=2048, out_features=250, bias=True)\n",
       "  (fc2): Linear(in_features=250, out_features=120, bias=True)\n",
       "  (fc3): Linear(in_features=120, out_features=84, bias=True)\n",
       "  (fc4): Linear(in_features=84, out_features=10, bias=True)\n",
       "  (dr2): Dropout(p=0.5, inplace=False)\n",
       "  (activ1): ReLU()\n",
       ")"
      ]
     },
     "execution_count": 89,
     "metadata": {},
     "output_type": "execute_result"
    }
   ],
   "source": [
    "neural_network = Neural_Network()\n",
    "train_on_gpu = torch.cuda.is_available()\n",
    "if not train_on_gpu:\n",
    "    print(\"CUDA is not available. Using CPU.\")\n",
    "    device = torch.device('cpu')\n",
    "else:\n",
    "    print(\"CUDA is available. Using GPU.\")\n",
    "    device = torch.device('cuda:0')\n",
    "neural_network.to(device)"
   ]
  },
  {
   "cell_type": "code",
   "execution_count": 90,
   "metadata": {},
   "outputs": [
    {
     "name": "stdout",
     "output_type": "stream",
     "text": [
      "Log -- Step size: 0.01, Momentum: 0.9, batch_size = 64\n",
      "Epoch 0/100 -> Tr. Loss = 2.16, Val. Loss = 1.97, Tr. Acc = 15.51, Val. Acc = 19.00\n",
      "Epoch 1/100 -> Tr. Loss = 1.91, Val. Loss = 1.84, Tr. Acc = 22.79, Val. Acc = 27.20\n",
      "Epoch 2/100 -> Tr. Loss = 1.73, Val. Loss = 1.74, Tr. Acc = 34.41, Val. Acc = 37.00\n",
      "Epoch 3/100 -> Tr. Loss = 1.57, Val. Loss = 1.51, Tr. Acc = 41.89, Val. Acc = 43.40\n",
      "Epoch 4/100 -> Tr. Loss = 1.44, Val. Loss = 1.41, Tr. Acc = 48.00, Val. Acc = 49.80\n",
      "Epoch 5/100 -> Tr. Loss = 1.36, Val. Loss = 1.37, Tr. Acc = 51.83, Val. Acc = 49.60\n",
      "Epoch 6/100 -> Tr. Loss = 1.29, Val. Loss = 1.31, Tr. Acc = 55.24, Val. Acc = 53.40\n",
      "Epoch 7/100 -> Tr. Loss = 1.23, Val. Loss = 1.29, Tr. Acc = 57.60, Val. Acc = 58.40\n",
      "Epoch 8/100 -> Tr. Loss = 1.18, Val. Loss = 1.28, Tr. Acc = 60.18, Val. Acc = 57.40\n",
      "Epoch 9/100 -> Tr. Loss = 1.14, Val. Loss = 1.16, Tr. Acc = 61.23, Val. Acc = 62.00\n",
      "Epoch 10/100 -> Tr. Loss = 1.11, Val. Loss = 1.27, Tr. Acc = 62.48, Val. Acc = 57.60\n",
      "Epoch 11/100 -> Tr. Loss = 1.08, Val. Loss = 1.20, Tr. Acc = 63.80, Val. Acc = 59.40\n",
      "Epoch 12/100 -> Tr. Loss = 1.07, Val. Loss = 1.21, Tr. Acc = 64.29, Val. Acc = 61.20\n",
      "Epoch 13/100 -> Tr. Loss = 1.03, Val. Loss = 1.18, Tr. Acc = 65.30, Val. Acc = 62.00\n",
      "Epoch 14/100 -> Tr. Loss = 1.01, Val. Loss = 1.18, Tr. Acc = 66.21, Val. Acc = 60.20\n",
      "Log -- Step size: 0.001, Momentum: 0.9, batch_size = 64\n",
      "Epoch 15/100 -> Tr. Loss = 0.83, Val. Loss = 1.24, Tr. Acc = 72.21, Val. Acc = 65.20\n",
      "Epoch 16/100 -> Tr. Loss = 0.77, Val. Loss = 1.08, Tr. Acc = 74.12, Val. Acc = 69.40\n",
      "Epoch 17/100 -> Tr. Loss = 0.74, Val. Loss = 1.05, Tr. Acc = 75.25, Val. Acc = 64.80\n",
      "Epoch 18/100 -> Tr. Loss = 0.73, Val. Loss = 1.21, Tr. Acc = 75.53, Val. Acc = 63.40\n",
      "Epoch 19/100 -> Tr. Loss = 0.70, Val. Loss = 1.10, Tr. Acc = 76.27, Val. Acc = 66.40\n",
      "Epoch 20/100 -> Tr. Loss = 0.68, Val. Loss = 1.21, Tr. Acc = 76.98, Val. Acc = 61.80\n",
      "Epoch 21/100 -> Tr. Loss = 0.66, Val. Loss = 1.17, Tr. Acc = 77.58, Val. Acc = 65.20\n",
      "Epoch 22/100 -> Tr. Loss = 0.64, Val. Loss = 1.13, Tr. Acc = 78.26, Val. Acc = 66.20\n",
      "Epoch 23/100 -> Tr. Loss = 0.63, Val. Loss = 1.09, Tr. Acc = 78.96, Val. Acc = 67.20\n",
      "Epoch 24/100 -> Tr. Loss = 0.61, Val. Loss = 1.16, Tr. Acc = 79.19, Val. Acc = 64.80\n",
      "Epoch 25/100 -> Tr. Loss = 0.59, Val. Loss = 1.20, Tr. Acc = 80.17, Val. Acc = 63.00\n",
      "Epoch 26/100 -> Tr. Loss = 0.59, Val. Loss = 1.12, Tr. Acc = 80.18, Val. Acc = 68.40\n",
      "Epoch 27/100 -> Tr. Loss = 0.56, Val. Loss = 1.25, Tr. Acc = 80.81, Val. Acc = 64.40\n",
      "Epoch 28/100 -> Tr. Loss = 0.55, Val. Loss = 1.18, Tr. Acc = 81.33, Val. Acc = 63.20\n",
      "Epoch 29/100 -> Tr. Loss = 0.54, Val. Loss = 1.25, Tr. Acc = 81.70, Val. Acc = 65.40\n",
      "Epoch 30/100 -> Tr. Loss = 0.52, Val. Loss = 1.21, Tr. Acc = 82.59, Val. Acc = 65.00\n",
      "Epoch 31/100 -> Tr. Loss = 0.51, Val. Loss = 1.26, Tr. Acc = 82.76, Val. Acc = 64.40\n",
      "Epoch 32/100 -> Tr. Loss = 0.50, Val. Loss = 1.24, Tr. Acc = 82.89, Val. Acc = 67.20\n",
      "Epoch 33/100 -> Tr. Loss = 0.49, Val. Loss = 1.15, Tr. Acc = 83.69, Val. Acc = 66.00\n",
      "Epoch 34/100 -> Tr. Loss = 0.48, Val. Loss = 1.25, Tr. Acc = 83.87, Val. Acc = 65.60\n",
      "Epoch 35/100 -> Tr. Loss = 0.47, Val. Loss = 1.39, Tr. Acc = 84.46, Val. Acc = 65.40\n",
      "Epoch 36/100 -> Tr. Loss = 0.45, Val. Loss = 1.33, Tr. Acc = 84.66, Val. Acc = 61.80\n",
      "Epoch 37/100 -> Tr. Loss = 0.45, Val. Loss = 1.36, Tr. Acc = 84.87, Val. Acc = 66.60\n",
      "Epoch 38/100 -> Tr. Loss = 0.44, Val. Loss = 1.55, Tr. Acc = 85.27, Val. Acc = 61.80\n",
      "Epoch 39/100 -> Tr. Loss = 0.43, Val. Loss = 1.64, Tr. Acc = 85.59, Val. Acc = 61.40\n",
      "Epoch 40/100 -> Tr. Loss = 0.42, Val. Loss = 1.24, Tr. Acc = 85.85, Val. Acc = 66.20\n",
      "Epoch 41/100 -> Tr. Loss = 0.42, Val. Loss = 1.35, Tr. Acc = 86.09, Val. Acc = 65.20\n",
      "Epoch 42/100 -> Tr. Loss = 0.40, Val. Loss = 1.48, Tr. Acc = 86.72, Val. Acc = 63.40\n",
      "Epoch 43/100 -> Tr. Loss = 0.39, Val. Loss = 1.36, Tr. Acc = 86.77, Val. Acc = 65.40\n",
      "Epoch 44/100 -> Tr. Loss = 0.38, Val. Loss = 1.46, Tr. Acc = 87.30, Val. Acc = 61.60\n",
      "Epoch 45/100 -> Tr. Loss = 0.38, Val. Loss = 1.41, Tr. Acc = 87.29, Val. Acc = 66.40\n",
      "Epoch 46/100 -> Tr. Loss = 0.37, Val. Loss = 1.62, Tr. Acc = 87.63, Val. Acc = 60.40\n",
      "Epoch 47/100 -> Tr. Loss = 0.36, Val. Loss = 1.34, Tr. Acc = 87.75, Val. Acc = 67.80\n",
      "Epoch 48/100 -> Tr. Loss = 0.35, Val. Loss = 1.58, Tr. Acc = 88.15, Val. Acc = 60.40\n",
      "Epoch 49/100 -> Tr. Loss = 0.35, Val. Loss = 1.57, Tr. Acc = 88.27, Val. Acc = 62.00\n",
      "Log -- Step size: 0.001, Momentum: 0.9, batch_size = 64\n",
      "Epoch 50/100 -> Tr. Loss = 0.35, Val. Loss = 1.49, Tr. Acc = 88.43, Val. Acc = 62.00\n",
      "Epoch 51/100 -> Tr. Loss = 0.34, Val. Loss = 1.53, Tr. Acc = 88.61, Val. Acc = 64.00\n",
      "Epoch 52/100 -> Tr. Loss = 0.34, Val. Loss = 1.65, Tr. Acc = 88.62, Val. Acc = 64.00\n",
      "Epoch 53/100 -> Tr. Loss = 0.34, Val. Loss = 1.52, Tr. Acc = 88.87, Val. Acc = 63.60\n",
      "Epoch 54/100 -> Tr. Loss = 0.33, Val. Loss = 1.41, Tr. Acc = 89.08, Val. Acc = 64.40\n",
      "Epoch 55/100 -> Tr. Loss = 0.33, Val. Loss = 1.52, Tr. Acc = 89.23, Val. Acc = 60.20\n",
      "Epoch 56/100 -> Tr. Loss = 0.32, Val. Loss = 1.55, Tr. Acc = 89.39, Val. Acc = 65.20\n",
      "Epoch 57/100 -> Tr. Loss = 0.31, Val. Loss = 1.81, Tr. Acc = 89.84, Val. Acc = 59.40\n",
      "Epoch 58/100 -> Tr. Loss = 0.31, Val. Loss = 1.78, Tr. Acc = 89.78, Val. Acc = 61.60\n",
      "Epoch 59/100 -> Tr. Loss = 0.31, Val. Loss = 1.83, Tr. Acc = 89.59, Val. Acc = 63.00\n"
     ]
    },
    {
     "ename": "KeyboardInterrupt",
     "evalue": "",
     "output_type": "error",
     "traceback": [
      "\u001b[1;31m---------------------------------------------------------------------------\u001b[0m",
      "\u001b[1;31mKeyboardInterrupt\u001b[0m                         Traceback (most recent call last)",
      "\u001b[1;32m<ipython-input-90-69523901a98c>\u001b[0m in \u001b[0;36m<module>\u001b[1;34m\u001b[0m\n\u001b[0;32m     47\u001b[0m         \u001b[0moutputs\u001b[0m \u001b[1;33m=\u001b[0m \u001b[0mneural_network\u001b[0m\u001b[1;33m(\u001b[0m\u001b[0mimages\u001b[0m\u001b[1;33m)\u001b[0m\u001b[1;33m\u001b[0m\u001b[0m\n\u001b[0;32m     48\u001b[0m         \u001b[0mloss\u001b[0m \u001b[1;33m=\u001b[0m \u001b[0mcriterion\u001b[0m\u001b[1;33m(\u001b[0m\u001b[0moutputs\u001b[0m\u001b[1;33m,\u001b[0m \u001b[0mlabels\u001b[0m\u001b[1;33m)\u001b[0m\u001b[1;33m\u001b[0m\u001b[0m\n\u001b[1;32m---> 49\u001b[1;33m         \u001b[0mloss\u001b[0m\u001b[1;33m.\u001b[0m\u001b[0mbackward\u001b[0m\u001b[1;33m(\u001b[0m\u001b[1;33m)\u001b[0m\u001b[1;33m\u001b[0m\u001b[0m\n\u001b[0m\u001b[0;32m     50\u001b[0m         \u001b[0moptimiser\u001b[0m\u001b[1;33m.\u001b[0m\u001b[0mstep\u001b[0m\u001b[1;33m(\u001b[0m\u001b[1;33m)\u001b[0m\u001b[1;33m\u001b[0m\u001b[0m\n\u001b[0;32m     51\u001b[0m \u001b[1;33m\u001b[0m\u001b[0m\n",
      "\u001b[1;32mC:\\Users\\ah19410\\AppData\\Local\\conda\\conda\\envs\\my_root\\lib\\site-packages\\torch\\tensor.py\u001b[0m in \u001b[0;36mbackward\u001b[1;34m(self, gradient, retain_graph, create_graph)\u001b[0m\n\u001b[0;32m    193\u001b[0m                 \u001b[0mproducts\u001b[0m\u001b[1;33m.\u001b[0m \u001b[0mDefaults\u001b[0m \u001b[0mto\u001b[0m\u001b[0;31m \u001b[0m\u001b[0;31m`\u001b[0m\u001b[0;31m`\u001b[0m\u001b[1;32mFalse\u001b[0m\u001b[0;31m`\u001b[0m\u001b[0;31m`\u001b[0m\u001b[1;33m.\u001b[0m\u001b[1;33m\u001b[0m\u001b[0m\n\u001b[0;32m    194\u001b[0m         \"\"\"\n\u001b[1;32m--> 195\u001b[1;33m         \u001b[0mtorch\u001b[0m\u001b[1;33m.\u001b[0m\u001b[0mautograd\u001b[0m\u001b[1;33m.\u001b[0m\u001b[0mbackward\u001b[0m\u001b[1;33m(\u001b[0m\u001b[0mself\u001b[0m\u001b[1;33m,\u001b[0m \u001b[0mgradient\u001b[0m\u001b[1;33m,\u001b[0m \u001b[0mretain_graph\u001b[0m\u001b[1;33m,\u001b[0m \u001b[0mcreate_graph\u001b[0m\u001b[1;33m)\u001b[0m\u001b[1;33m\u001b[0m\u001b[0m\n\u001b[0m\u001b[0;32m    196\u001b[0m \u001b[1;33m\u001b[0m\u001b[0m\n\u001b[0;32m    197\u001b[0m     \u001b[1;32mdef\u001b[0m \u001b[0mregister_hook\u001b[0m\u001b[1;33m(\u001b[0m\u001b[0mself\u001b[0m\u001b[1;33m,\u001b[0m \u001b[0mhook\u001b[0m\u001b[1;33m)\u001b[0m\u001b[1;33m:\u001b[0m\u001b[1;33m\u001b[0m\u001b[0m\n",
      "\u001b[1;32mC:\\Users\\ah19410\\AppData\\Local\\conda\\conda\\envs\\my_root\\lib\\site-packages\\torch\\autograd\\__init__.py\u001b[0m in \u001b[0;36mbackward\u001b[1;34m(tensors, grad_tensors, retain_graph, create_graph, grad_variables)\u001b[0m\n\u001b[0;32m     97\u001b[0m     Variable._execution_engine.run_backward(\n\u001b[0;32m     98\u001b[0m         \u001b[0mtensors\u001b[0m\u001b[1;33m,\u001b[0m \u001b[0mgrad_tensors\u001b[0m\u001b[1;33m,\u001b[0m \u001b[0mretain_graph\u001b[0m\u001b[1;33m,\u001b[0m \u001b[0mcreate_graph\u001b[0m\u001b[1;33m,\u001b[0m\u001b[1;33m\u001b[0m\u001b[0m\n\u001b[1;32m---> 99\u001b[1;33m         allow_unreachable=True)  # allow_unreachable flag\n\u001b[0m\u001b[0;32m    100\u001b[0m \u001b[1;33m\u001b[0m\u001b[0m\n\u001b[0;32m    101\u001b[0m \u001b[1;33m\u001b[0m\u001b[0m\n",
      "\u001b[1;31mKeyboardInterrupt\u001b[0m: "
     ]
    }
   ],
   "source": [
    "neural_network.train()\n",
    "criterion = nn.CrossEntropyLoss()\n",
    "\n",
    "# Initial hyperparameters\n",
    "number_of_epochs = 100\n",
    "step_size = 0.01\n",
    "momentum_parameter = 0.9\n",
    "weight_decay = 0.001\n",
    "\n",
    "# Initialize optimiser\n",
    "optimiser = optim.SGD(neural_network.parameters(), lr=step_size, momentum=momentum_parameter, weight_decay=weight_decay)\n",
    "\n",
    "\n",
    "# initialize lists for running counts of loss and accuracy\n",
    "running_loss = []\n",
    "running_val_loss = []\n",
    "running_training_accuracy = []\n",
    "running_training_accuracy.append(0)\n",
    "running_val_accuracy = []\n",
    "running_val_accuracy.append(0)\n",
    "\n",
    "print(\"Log -- Step size: {}, Momentum: {}, batch_size = {}\".format(step_size,momentum_parameter,train_batch_size))\n",
    "# loop for epochs\n",
    "for k in range(number_of_epochs):\n",
    "    device = torch.device('cuda:0')\n",
    "    neural_network.to(device)\n",
    "    \n",
    "    # initialize epoch loss and training accuracy\n",
    "    epoch_loss = 0\n",
    "    training_accuracy = 0\n",
    "    \n",
    "    \n",
    "    # handle reducing step size at 15th iteration and 50th iteration.\n",
    "    if k > 49:\n",
    "        step_size = 0.001\n",
    "        optimiser = optim.SGD(neural_network.parameters(), lr=step_size, momentum=momentum_parameter, weight_decay=weight_decay)\n",
    "        if k == 50: \n",
    "            print(\"Log -- Step size: {}, Momentum: {}, batch_size = {}\".format(step_size,momentum_parameter,train_batch_size))\n",
    "            \n",
    "    elif k > 14:\n",
    "        step_size = 0.001\n",
    "        optimiser = optim.SGD(neural_network.parameters(), lr=step_size, momentum=momentum_parameter, weight_decay=weight_decay)\n",
    "        if k == 15: \n",
    "            print(\"Log -- Step size: {}, Momentum: {}, batch_size = {}\".format(step_size,momentum_parameter,train_batch_size))\n",
    "     \n",
    "    # Main Training Loop\n",
    "    for j, (images, labels) in enumerate(train_loader):\n",
    "        images, labels = images.to(device), labels.to(device)\n",
    "        optimiser.zero_grad()\n",
    "        outputs = neural_network(images)\n",
    "        loss = criterion(outputs, labels)\n",
    "        loss.backward()\n",
    "        optimiser.step()\n",
    "        \n",
    "        epoch_loss += loss.item()\n",
    "        training_accuracy += accuracy(outputs, labels)\n",
    "    \n",
    "    # Caclulate average loss and accuracy for each epoch\n",
    "    running_loss.append(epoch_loss/len(train_loader))\n",
    "    running_training_accuracy.append(training_accuracy/len(train_loader))\n",
    "    \n",
    "    # Validation test once per epoch\n",
    "    device = torch.device('cpu')\n",
    "    neural_network.to(device)\n",
    "    val_images, val_labels = iter(val_loader).next()\n",
    "    val_images, val_labels = val_images.to(device), val_labels.to(device)\n",
    "    val_outputs = neural_network(val_images)\n",
    "    val_loss = criterion(val_outputs, val_labels).item()\n",
    "    \n",
    "    # Store validation loss and accuracy\n",
    "    running_val_loss.append(val_loss)\n",
    "    val_accuracy = accuracy(val_outputs, val_labels)\n",
    "    running_val_accuracy.append(val_accuracy)\n",
    "    \n",
    "    if k % 1 == 0:\n",
    "        print(\"Epoch {a}/{b} -> Tr. Loss = {c:.2f}, Val. Loss = {d:.2f}, Tr. Acc = {e:.2f}, Val. Acc = {f:.2f}\".format(a=k, b=number_of_epochs, c=running_loss[-1], d=running_val_loss[-1], e=running_training_accuracy[-1], f=running_val_accuracy[-1]))\n",
    "    \n",
    "    #if (len(running_val_loss) > 3) and (running_val_loss[-3] - running_val_loss[-1] < 0):\n",
    "        #break\n",
    "        \n",
    "print(\"Final Epoch {} -> Loss = {}\".format(k, running_loss[-1]))"
   ]
  },
  {
   "cell_type": "code",
   "execution_count": 91,
   "metadata": {},
   "outputs": [
    {
     "data": {
      "image/png": "[encoded data removed]",
      "text/plain": [
       "<Figure size 432x288 with 1 Axes>"
      ]
     },
     "metadata": {
      "needs_background": "light"
     },
     "output_type": "display_data"
    }
   ],
   "source": [
    "plt.plot(running_loss, label=\"Training Loss\")\n",
    "plt.plot(running_val_loss, label=\"Validation Loss\")\n",
    "for i in range(len(running_val_loss)):\n",
    "    if running_val_loss[i] == np.min(running_val_loss):\n",
    "        lowest_index = i\n",
    "plt.scatter(lowest_index, running_val_loss[lowest_index], label=\"Lowest Validation Loss\", c=\"r\")\n",
    "plt.scatter(lowest_index, running_loss[lowest_index], label=\"Corresponding Train Loss\", c=\"r\")\n",
    "plt.legend()\n",
    "plt.ylabel(\"Loss\")\n",
    "plt.xlabel(\"Epoch\")\n",
    "plt.grid()\n",
    "plt.show()"
   ]
  },
  {
   "cell_type": "code",
   "execution_count": 92,
   "metadata": {
    "scrolled": true
   },
   "outputs": [
    {
     "data": {
      "image/png": "[encoded data removed]",
      "text/plain": [
       "<Figure size 432x288 with 1 Axes>"
      ]
     },
     "metadata": {
      "needs_background": "light"
     },
     "output_type": "display_data"
    }
   ],
   "source": [
    "plt.plot(running_training_accuracy, label=\"Training Accuracy\")\n",
    "plt.plot(running_val_accuracy, label=\"Test Accuracy\")\n",
    "for i in range(len(running_val_accuracy)):\n",
    "    if running_val_accuracy[i] == np.max(running_val_accuracy):\n",
    "        highest_index = i\n",
    "plt.scatter(highest_index, running_val_accuracy[highest_index], label=\"Highest Validation Accuracy\", c=\"r\")\n",
    "plt.scatter(highest_index, running_training_accuracy[highest_index], label=\"Corresponding Train Accuracy\", c=\"r\")\n",
    "plt.legend()\n",
    "plt.ylabel(\"Model Accuracy\")\n",
    "plt.xlabel(\"Epoch\")\n",
    "plt.grid()\n",
    "plt.show()"
   ]
  },
  {
   "cell_type": "code",
   "execution_count": 93,
   "metadata": {},
   "outputs": [
    {
     "name": "stdout",
     "output_type": "stream",
     "text": [
      "Test Loss is : 1.34\n",
      "Test Accuracy is : 68.51%\n"
     ]
    }
   ],
   "source": [
    "device = torch.device('cpu')\n",
    "neural_network.to(device)\n",
    "neural_network.eval()\n",
    "test_images, test_labels = iter(test_loader).next()\n",
    "test_outputs = neural_network(test_images)\n",
    "test_loss = criterion(test_outputs, test_labels).item()\n",
    "test_accuracy = accuracy(test_outputs, test_labels)\n",
    "print(\"Test Loss is : {a:.2f}\".format(a=test_loss))\n",
    "print(\"Test Accuracy is : {a:.2f}%\".format(a=test_accuracy))"
   ]
  },
  {
   "cell_type": "code",
   "execution_count": 94,
   "metadata": {},
   "outputs": [],
   "source": [
    "model = neural_network\n",
    "torch.save(model.state_dict(), \"Conv-NN-Relu-256batch-7layers-l2reg\")"
   ]
  },
  {
   "cell_type": "code",
   "execution_count": null,
   "metadata": {},
   "outputs": [],
   "source": [
    "model = TheModelClass(*args, **kwargs)\n",
    "model.load_state_dict(torch.load(PATH))\n",
    "model.eval()"
   ]
  },
  {
   "cell_type": "code",
   "execution_count": 103,
   "metadata": {
    "scrolled": false
   },
   "outputs": [
    {
     "name": "stdout",
     "output_type": "stream",
     "text": [
      "<bound method Module.parameters of Neural_Network(\n",
      "  (conv1): Conv2d(3, 12, kernel_size=(3, 3), stride=(1, 1), padding=(1, 1))\n",
      "  (conv2): Conv2d(12, 12, kernel_size=(3, 3), stride=(1, 1), padding=(1, 1))\n",
      "  (conv3): Conv2d(12, 16, kernel_size=(2, 2), stride=(1, 1), padding=(1, 1))\n",
      "  (conv4): Conv2d(16, 16, kernel_size=(2, 2), stride=(1, 1), padding=(1, 1))\n",
      "  (pool): MaxPool2d(kernel_size=2, stride=2, padding=0, dilation=1, ceil_mode=False)\n",
      "  (fc1): Linear(in_features=6144, out_features=120, bias=True)\n",
      "  (fc2): Linear(in_features=120, out_features=84, bias=True)\n",
      "  (fc3): Linear(in_features=400, out_features=10, bias=True)\n",
      "  (dr1): Dropout2d(p=0.5, inplace=False)\n",
      "  (dr2): Dropout(p=0.5, inplace=False)\n",
      "  (activ2): LocalResponseNorm(2, alpha=0.0001, beta=0.75, k=1.0)\n",
      ")>\n"
     ]
    }
   ],
   "source": [
    "print(neural_network.)"
   ]
  }
 ],
 "metadata": {
  "kernelspec": {
   "display_name": "Python 3",
   "language": "python",
   "name": "python3"
  },
  "language_info": {
   "codemirror_mode": {
    "name": "ipython",
    "version": 3
   },
   "file_extension": ".py",
   "mimetype": "text/x-python",
   "name": "python",
   "nbconvert_exporter": "python",
   "pygments_lexer": "ipython3",
   "version": "3.6.2"
  }
 },
 "nbformat": 4,
 "nbformat_minor": 2
}

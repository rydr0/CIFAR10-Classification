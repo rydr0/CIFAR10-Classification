{
 "cells": [
  {
   "cell_type": "markdown",
   "metadata": {},
   "source": [
    "# Identifying objects in images.\n",
    "## 1st dataset to try: CIFAR 10"
   ]
  },
  {
   "cell_type": "markdown",
   "metadata": {},
   "source": [
    "Starting lines and imports"
   ]
  },
  {
   "cell_type": "code",
   "execution_count": 16,
   "metadata": {
    "ExecuteTime": {
     "end_time": "2020-03-03T14:26:56.079178Z",
     "start_time": "2020-03-03T14:26:55.999255Z"
    }
   },
   "outputs": [
    {
     "name": "stdout",
     "output_type": "stream",
     "text": [
      "The autoreload extension is already loaded. To reload it, use:\n",
      "  %reload_ext autoreload\n"
     ]
    }
   ],
   "source": [
    "%matplotlib inline\n",
    "import numpy as np\n",
    "\n",
    "import matplotlib.pyplot as plt\n",
    "\n",
    "import torch\n",
    "import torch.nn as nn\n",
    "import torch.optim as optim\n",
    "from torch.autograd import Variable\n",
    "\n",
    "import torchvision\n",
    "import torchvision.transforms as transforms\n",
    "from torchvision import datasets, transforms\n",
    "\n",
    "from torchsummary import summary\n",
    "\n",
    "%load_ext autoreload\n",
    "%autoreload 2"
   ]
  },
  {
   "cell_type": "markdown",
   "metadata": {},
   "source": [
    "## Load CIFAR 10"
   ]
  },
  {
   "cell_type": "markdown",
   "metadata": {},
   "source": [
    "#### Define transforms for the dataset and load"
   ]
  },
  {
   "cell_type": "code",
   "execution_count": 4,
   "metadata": {
    "ExecuteTime": {
     "end_time": "2020-03-03T14:26:01.065810Z",
     "start_time": "2020-03-03T14:26:00.995844Z"
    },
    "collapsed": true
   },
   "outputs": [],
   "source": [
    "transform_tr = transforms.Compose([transforms.RandomCrop(32, padding=4),transforms.RandomHorizontalFlip(), transforms.ToTensor(),\n",
    "                                   transforms.Normalize((0.4914, 0.4822, 0.4465),(0.2470, 0.2435, 0.2616))])\n",
    "transform_tst = transforms.Compose([transforms.ToTensor(), \n",
    "                                    transforms.Normalize((0.4942, 0.4851, 0.4504),(0.2467, 0.2429, 0.2616))])"
   ]
  },
  {
   "cell_type": "code",
   "execution_count": 3,
   "metadata": {
    "ExecuteTime": {
     "end_time": "2020-03-03T14:23:30.055229Z",
     "start_time": "2020-03-03T14:23:13.127973Z"
    }
   },
   "outputs": [
    {
     "name": "stdout",
     "output_type": "stream",
     "text": [
      "Files already downloaded and verified\n"
     ]
    }
   ],
   "source": [
    "# CIFAR-10 training dataset and data loader\n",
    "train_batch_size = 32\n",
    "val_batch_size = 5000\n",
    "\n",
    "indices = np.arange(50000)\n",
    "np.random.shuffle(indices)\n",
    "\n",
    "tr_sampler = torch.utils.data.SubsetRandomSampler(indices[:45000])\n",
    "val_sampler = torch.utils.data.SubsetRandomSampler(indices[45000:50000])\n",
    "\n",
    "train_dataset = datasets.CIFAR10('CIFAR10',\n",
    "                                 train=True, \n",
    "                                 download=True, \n",
    "                                 transform=transform_tr)\n",
    "\n",
    "train_loader = torch.utils.data.DataLoader(train_dataset,\n",
    "                                          batch_size=train_batch_size,\n",
    "                                          shuffle=False,\n",
    "                                          sampler=tr_sampler,\n",
    "                                          num_workers=2)\n",
    "val_loader = torch.utils.data.DataLoader(train_dataset,\n",
    "                                          batch_size=val_batch_size,\n",
    "                                          shuffle=False,\n",
    "                                          sampler=val_sampler)"
   ]
  },
  {
   "cell_type": "code",
   "execution_count": 6,
   "metadata": {
    "ExecuteTime": {
     "end_time": "2020-03-03T14:26:24.262916Z",
     "start_time": "2020-03-03T14:26:18.929631Z"
    }
   },
   "outputs": [
    {
     "name": "stdout",
     "output_type": "stream",
     "text": [
      "Files already downloaded and verified\n"
     ]
    }
   ],
   "source": [
    "# CIFAR-10 test dataset and data loader\n",
    "test_batch_size = 10000\n",
    "\n",
    "test_dataset = datasets.CIFAR10('CIFAR10', \n",
    "                                train=False, \n",
    "                                download=True, \n",
    "                                transform=transform_tst)\n",
    "\n",
    "test_loader = torch.utils.data.DataLoader(test_dataset,\n",
    "                                          batch_size=test_batch_size,\n",
    "                                          shuffle=True,\n",
    "                                         num_workers=2)"
   ]
  },
  {
   "cell_type": "code",
   "execution_count": 7,
   "metadata": {
    "ExecuteTime": {
     "end_time": "2020-03-03T14:26:26.268153Z",
     "start_time": "2020-03-03T14:26:26.191997Z"
    }
   },
   "outputs": [
    {
     "data": {
      "text/plain": [
       "1407"
      ]
     },
     "execution_count": 7,
     "metadata": {},
     "output_type": "execute_result"
    }
   ],
   "source": [
    "# num of batches in each training epoch\n",
    "len(train_loader)"
   ]
  },
  {
   "cell_type": "code",
   "execution_count": 33,
   "metadata": {
    "ExecuteTime": {
     "end_time": "2020-03-03T14:35:59.223293Z",
     "start_time": "2020-03-03T14:35:51.075681Z"
    }
   },
   "outputs": [
    {
     "name": "stdout",
     "output_type": "stream",
     "text": [
      "torch.Size([32, 3, 32, 32])\n"
     ]
    }
   ],
   "source": [
    "for j, (images, labels) in enumerate(train_loader):\n",
    "    if j == 1:\n",
    "        print(images.shape)"
   ]
  },
  {
   "cell_type": "code",
   "execution_count": 8,
   "metadata": {
    "ExecuteTime": {
     "end_time": "2020-03-03T14:26:27.736835Z",
     "start_time": "2020-03-03T14:26:27.661909Z"
    },
    "collapsed": true
   },
   "outputs": [],
   "source": [
    "def mean_and_stddev(loader):\n",
    "    chsum = 0\n",
    "    for j, (images, labels) in enumerate(loader):\n",
    "        chsum += images.sum(dim=(0,2,3), keepdim=True)\n",
    "    mean = chsum/len(loader.dataset.data)/images.size(2)/images.size(3)\n",
    "    print(mean.view(-1))\n",
    "    chsum = 0\n",
    "    for j, (images, labels) in enumerate(loader):\n",
    "        chsum += (images - mean).pow(2).sum(dim=(0,2,3), keepdim=True)\n",
    "    std = torch.sqrt(chsum/(len(loader.dataset.data)*images.size(2)*images.size(3)-1))\n",
    "    print(std.view(-1))"
   ]
  },
  {
   "cell_type": "code",
   "execution_count": 7,
   "metadata": {},
   "outputs": [
    {
     "name": "stdout",
     "output_type": "stream",
     "text": [
      "tensor([0.0011, 0.0005, 0.0007])\n",
      "tensor([0.9493, 0.9491, 0.9493])\n"
     ]
    }
   ],
   "source": [
    "mean_and_stddev(train_loader)"
   ]
  },
  {
   "cell_type": "code",
   "execution_count": 8,
   "metadata": {},
   "outputs": [
    {
     "name": "stdout",
     "output_type": "stream",
     "text": [
      "tensor([5.7950e-05, 1.2928e-04, 3.4801e-05])\n",
      "tensor([0.9998, 1.0000, 1.0000])\n"
     ]
    }
   ],
   "source": [
    "mean_and_stddev(test_loader)"
   ]
  },
  {
   "cell_type": "markdown",
   "metadata": {},
   "source": [
    "#### Function to show individual image and associated label"
   ]
  },
  {
   "cell_type": "code",
   "execution_count": 9,
   "metadata": {
    "ExecuteTime": {
     "end_time": "2020-03-03T14:26:30.147824Z",
     "start_time": "2020-03-03T14:26:30.082885Z"
    },
    "collapsed": true
   },
   "outputs": [],
   "source": [
    "def show_image(image_num):\n",
    "    plt.imshow(train_loader.dataset.data[image_num,:,:])\n",
    "    target = train_loader.dataset.targets[image_num]\n",
    "    print(\"This image is a(n) \" + str(train_loader.dataset.classes[target])+\".\")"
   ]
  },
  {
   "cell_type": "code",
   "execution_count": 10,
   "metadata": {
    "ExecuteTime": {
     "end_time": "2020-03-03T14:26:31.669274Z",
     "start_time": "2020-03-03T14:26:31.487825Z"
    },
    "scrolled": true
   },
   "outputs": [
    {
     "name": "stdout",
     "output_type": "stream",
     "text": [
      "This image is a(n) airplane.\n"
     ]
    },
    {
     "data": {
      "image/png": "[encoded data removed]",
      "text/plain": [
       "<Figure size 432x288 with 1 Axes>"
      ]
     },
     "metadata": {},
     "output_type": "display_data"
    }
   ],
   "source": [
    "show_image(1701)"
   ]
  },
  {
   "cell_type": "code",
   "execution_count": 11,
   "metadata": {
    "ExecuteTime": {
     "end_time": "2020-03-03T14:26:33.681967Z",
     "start_time": "2020-03-03T14:26:33.535584Z"
    }
   },
   "outputs": [
    {
     "name": "stdout",
     "output_type": "stream",
     "text": [
      "This image is a(n) ship.\n"
     ]
    },
    {
     "data": {
      "image/png": "[encoded data removed]",
      "text/plain": [
       "<Figure size 432x288 with 1 Axes>"
      ]
     },
     "metadata": {},
     "output_type": "display_data"
    }
   ],
   "source": [
    "show_image(9154)"
   ]
  },
  {
   "cell_type": "markdown",
   "metadata": {},
   "source": [
    "# Initialize settings for Neural Network"
   ]
  },
  {
   "cell_type": "code",
   "execution_count": 143,
   "metadata": {
    "ExecuteTime": {
     "end_time": "2020-03-03T15:37:54.634769Z",
     "start_time": "2020-03-03T15:37:54.509837Z"
    },
    "collapsed": true
   },
   "outputs": [],
   "source": [
    "class Neural_Network(nn.Module):\n",
    "    def __init__(self):\n",
    "        super(Neural_Network, self).__init__()\n",
    "        # Convolutional Layer - \n",
    "        self.conv1 = nn.Conv2d(3,6,5, padding=1)\n",
    "        \n",
    "        # 2nd Convolutional Layer -\n",
    "        self.conv2 = nn.Conv2d(6,16,5, padding=1)\n",
    "        \n",
    "        # 3rd Convolutional Layer -\n",
    "        self.conv3 = nn.Conv2d(16,32,5, padding=1)\n",
    "        \n",
    "        # Max Pooling layers - \n",
    "        self.pool = nn.MaxPool2d(2,2)\n",
    "             \n",
    "        # 3 fully connected layers\n",
    "        self.fc1 = nn.Linear(4608, 250)\n",
    "        self.fc2 = nn.Linear(250, 120)\n",
    "        self.fc3 = nn.Linear(120, 84)\n",
    "        self.fc4 = nn.Linear(84, 10)\n",
    "        \n",
    "        #Dropout for regularization using default p=0.5\n",
    "        #self.dr1 = nn.Dropout2d()\n",
    "        self.dr2 = nn.Dropout()\n",
    "        \n",
    "        # Activation function\n",
    "        self.activ1 = nn.ReLU()\n",
    "        #self.activ1 = nn.Tanh()\n",
    "        #self.activ2 = nn.LocalResponseNorm(2)\n",
    "        \n",
    "    def forward(self, x):\n",
    "        # 2 convolutional / pooling layers\n",
    "        x = self.activ1(self.conv1(x))\n",
    "        x = self.activ1(self.conv2(x))\n",
    "        x = self.pool(x)\n",
    "        x = self.activ1(self.conv3(x))\n",
    "        \n",
    "        # 2 fully connected hidden layers\n",
    "        x = x.view(x.shape[0],-1)\n",
    "        x = self.activ1(self.fc1(x))\n",
    "        x = self.dr2(x)\n",
    "        x = self.activ1(self.fc2(x))\n",
    "        x = self.dr2(x)\n",
    "        x = self.activ1(self.fc3(x))\n",
    "        x = self.dr2(x)\n",
    "        \n",
    "        # final output layer\n",
    "        x = self.fc4(x)\n",
    "        \n",
    "        return x"
   ]
  },
  {
   "cell_type": "code",
   "execution_count": 153,
   "metadata": {
    "ExecuteTime": {
     "end_time": "2020-03-03T15:41:49.270133Z",
     "start_time": "2020-03-03T15:41:49.136075Z"
    },
    "collapsed": true
   },
   "outputs": [],
   "source": [
    "class Neural_Network2(nn.Module):\n",
    "    def __init__(self):\n",
    "        super(Neural_Network2, self).__init__()\n",
    "        # Convolutional Layer - \n",
    "        self.conv1 = nn.Conv2d(3,100,3, padding=1)\n",
    "        \n",
    "        # 2nd Convolutional Layer -\n",
    "        self.conv2 = nn.Conv2d(100,200,2, padding=1)\n",
    "        \n",
    "        # 3rd Convolutional Layer -\n",
    "        self.conv3 = nn.Conv2d(200,300,2, padding=1)\n",
    "        self.conv4 = nn.Conv2d(300,400,2, padding=1)\n",
    "        self.conv5 = nn.Conv2d(400,500,2, padding=1)\n",
    "        \n",
    "        # Max Pooling layers - \n",
    "        self.pool = nn.MaxPool2d(2,2)\n",
    "             \n",
    "        # 3 fully connected layers\n",
    "        #self.fc1 = nn.Linear(4608, 250)\n",
    "        #self.fc2 = nn.Linear(250, 120)\n",
    "        #self.fc3 = nn.Linear(120, 84)\n",
    "        self.fc4 = nn.Linear(4500, 10)\n",
    "        \n",
    "        #Dropout for regularization using default p=0.5\n",
    "        #self.dr1 = nn.Dropout2d()\n",
    "        self.dr2 = nn.Dropout()\n",
    "        \n",
    "        # Activation function\n",
    "        self.activ1 = nn.ReLU()\n",
    "        #self.activ1 = nn.Tanh()\n",
    "        #self.activ2 = nn.LocalResponseNorm(2)\n",
    "        \n",
    "    def forward(self, x):\n",
    "        # 2 convolutional / pooling layers\n",
    "        x = self.activ1(self.conv1(x))\n",
    "        x = self.pool(x)\n",
    "        x = self.activ1(self.conv2(x))\n",
    "        x = self.pool(x)\n",
    "        x = self.activ1(self.conv3(x))\n",
    "        x = self.pool(x)\n",
    "        x = self.activ1(self.conv4(x))\n",
    "        x = self.pool(x)\n",
    "        x = self.activ1(self.conv5(x))\n",
    "        \n",
    "        \n",
    "        # 2 fully connected hidden layers\n",
    "        x = x.view(x.shape[0],-1)\n",
    "        #x = self.activ1(self.fc1(x))\n",
    "        #x = self.dr2(x)\n",
    "        #x = self.activ1(self.fc2(x))\n",
    "        #x = self.dr2(x)\n",
    "        #x = self.activ1(self.fc3(x))\n",
    "        #x = self.dr2(x)\n",
    "        \n",
    "        # final output layer\n",
    "        x = self.fc4(x)\n",
    "        \n",
    "        return x"
   ]
  },
  {
   "cell_type": "markdown",
   "metadata": {},
   "source": [
    "class Neural_Network2(nn.Module):\n",
    "    def __init__(self):\n",
    "        super(Neural_Network2, self).__init__()\n",
    "        # Convolutional Layer - \n",
    "        self.conv1 = nn.Conv2d(3,6,3)\n",
    "        \n",
    "        # 2nd Convolutional Layer -\n",
    "        self.conv2 = nn.Conv2d(6,6,5)\n",
    "        \n",
    "        # 3rd Convolutional Layer -\n",
    "        self.conv3 = nn.Conv2d(6,8,5)\n",
    "        \n",
    "        # 4th Convolutional Layer\n",
    "        self.conv4 = nn.Conv2d(8,10,5)\n",
    "        \n",
    "        # Max Pooling layers - \n",
    "        self.pool = nn.MaxPool2d(2,2)\n",
    "             \n",
    "        # 3 fully connected layers\n",
    "        self.fc1 = nn.Linear(40, 10)\n",
    "        \n",
    "        # Activation function\n",
    "        self.activ1 = nn.ReLU()\n",
    "        \n",
    "    def forward(self, x):\n",
    "        # 2 convolutional / pooling layers\n",
    "        x = self.activ1(self.conv1(x))\n",
    "        x = self.activ1(self.conv2(x))\n",
    "        x = self.pool(x)\n",
    "        x = self.activ1(self.conv3(x))\n",
    "        x = self.activ1(self.conv4(x))\n",
    "        x = self.pool(x)\n",
    "        \n",
    "        # 2 fully connected hidden layers\n",
    "        x = x.view(-1,40)\n",
    "        x = self.activ1(self.fc1(x))\n",
    "        \n",
    "        return x"
   ]
  },
  {
   "cell_type": "markdown",
   "metadata": {},
   "source": [
    "#All fully connected layer architecture\n",
    "class Neural_Network_Linear(nn.Module):\n",
    "    def __init__(self):\n",
    "        super(Neural_Network, self).__init__()\n",
    "        self.fc1 = nn.Linear(32* 32 * 3, 256)\n",
    "        self.fc2 = nn.Linear(256,200)\n",
    "        self.fc3 = nn.Linear(200, 10)\n",
    "        self.activ = nn.functional.relu\n",
    "        \n",
    "    def forward(self, x):\n",
    "        x = self.activ(self.fc1(x))\n",
    "        x = self.activ(self.fc2(x))\n",
    "        x = self.fc3(x)\n",
    "        \n",
    "        return x"
   ]
  },
  {
   "cell_type": "markdown",
   "metadata": {
    "ExecuteTime": {
     "end_time": "2020-03-03T14:26:40.134256Z",
     "start_time": "2020-03-03T14:26:40.034281Z"
    },
    "collapsed": true
   },
   "source": [
    "#VGG16 architecture\n",
    "class CNN(nn.Module):\n",
    "    def __init__(self):\n",
    "        super(CNN,self).__init__()\n",
    "        \n",
    "        self.conv_layer = nn.Sequential(\n",
    "        \n",
    "            #1st conv layer block\n",
    "            nn.Conv2d(in_channels=3, out_channels=32, kernel_size=3, padding=1),\n",
    "            nn.BatchNorm2d(32),\n",
    "            nn.ReLU(inplace=True),\n",
    "            nn.Conv2d(in_channels=32, out_channels=64, kernel_size=3, padding=1),\n",
    "            nn.ReLU(inplace=True),\n",
    "            nn.MaxPool2d(kernel_size=2, stride=2),\n",
    "\n",
    "            #2nd conv layer block\n",
    "            nn.Conv2d(in_channels=64, out_channels=128, kernel_size=3, padding=1),\n",
    "            nn.BatchNorm2d(128),\n",
    "            nn.ReLU(inplace=True),\n",
    "            nn.Conv2d(in_channels=128, out_channels=128, kernel_size=3, padding=1),\n",
    "            nn.ReLU(inplace=True),\n",
    "            nn.MaxPool2d(kernel_size=2, stride=2),\n",
    "            nn.Dropout2d(p=0.05),\n",
    "\n",
    "            #3rd conv layer block\n",
    "            nn.Conv2d(in_channels=128, out_channels=256, kernel_size=3, padding=1),\n",
    "            nn.BatchNorm2d(256),\n",
    "            nn.ReLU(inplace=True),\n",
    "            nn.Conv2d(in_channels=256, out_channels=256, kernel_size=3, padding=1),\n",
    "            nn.ReLU(inplace=True),\n",
    "            nn.MaxPool2d(kernel_size=2, stride=2),\n",
    "        )\n",
    "        \n",
    "            #fully connected layers block\n",
    "        self.fc_layer = nn.Sequential(\n",
    "            nn.Dropout(p=0.1),\n",
    "            nn.Linear(4096,1024),\n",
    "            nn.ReLU(inplace=True),\n",
    "            nn.Linear(1024,512),\n",
    "            nn.ReLU(inplace=True),\n",
    "            nn.Dropout(p=0.1),\n",
    "            nn.Linear(512,10)\n",
    "        )\n",
    "        \n",
    "            #perform forward\n",
    "        def forward(self, x):\n",
    "            #conv layers\n",
    "            x = self.conv_layer(x)\n",
    "            #flatten\n",
    "            x = x.view(x.size(0), -1)\n",
    "            #fully connected layer\n",
    "            x = self.fc_layer(x)\n",
    "            \n",
    "            return x"
   ]
  },
  {
   "cell_type": "markdown",
   "metadata": {},
   "source": [
    "## Function to calculate classification prediction accuracy"
   ]
  },
  {
   "cell_type": "code",
   "execution_count": 84,
   "metadata": {
    "ExecuteTime": {
     "end_time": "2020-03-03T15:20:00.574256Z",
     "start_time": "2020-03-03T15:20:00.505094Z"
    },
    "collapsed": true
   },
   "outputs": [],
   "source": [
    "def cpu_or_gpu():\n",
    "    train_on_gpu = torch.cuda.is_available()\n",
    "    if not train_on_gpu:\n",
    "        #print(\"CUDA is not available. Using CPU.\")\n",
    "        device = torch.device('cpu')\n",
    "    else:\n",
    "        #print(\"CUDA is available. Using GPU.\")\n",
    "        device = torch.device('cuda:0')\n",
    "    return device"
   ]
  },
  {
   "cell_type": "code",
   "execution_count": 154,
   "metadata": {
    "ExecuteTime": {
     "end_time": "2020-03-03T15:41:55.254036Z",
     "start_time": "2020-03-03T15:41:55.170439Z"
    }
   },
   "outputs": [
    {
     "data": {
      "text/plain": [
       "Neural_Network2(\n",
       "  (conv1): Conv2d(3, 100, kernel_size=(3, 3), stride=(1, 1), padding=(1, 1))\n",
       "  (conv2): Conv2d(100, 200, kernel_size=(2, 2), stride=(1, 1), padding=(1, 1))\n",
       "  (conv3): Conv2d(200, 300, kernel_size=(2, 2), stride=(1, 1), padding=(1, 1))\n",
       "  (conv4): Conv2d(300, 400, kernel_size=(2, 2), stride=(1, 1), padding=(1, 1))\n",
       "  (conv5): Conv2d(400, 500, kernel_size=(2, 2), stride=(1, 1), padding=(1, 1))\n",
       "  (pool): MaxPool2d(kernel_size=2, stride=2, padding=0, dilation=1, ceil_mode=False)\n",
       "  (fc4): Linear(in_features=4500, out_features=10, bias=True)\n",
       "  (dr2): Dropout(p=0.5, inplace=False)\n",
       "  (activ1): ReLU()\n",
       ")"
      ]
     },
     "execution_count": 154,
     "metadata": {},
     "output_type": "execute_result"
    }
   ],
   "source": [
    "neural_network = Neural_Network2()\n",
    "device = cpu_or_gpu()\n",
    "neural_network.to(device)"
   ]
  },
  {
   "cell_type": "code",
   "execution_count": 155,
   "metadata": {
    "ExecuteTime": {
     "end_time": "2020-03-03T15:41:59.669389Z",
     "start_time": "2020-03-03T15:41:59.582982Z"
    }
   },
   "outputs": [
    {
     "name": "stdout",
     "output_type": "stream",
     "text": [
      "----------------------------------------------------------------\n",
      "        Layer (type)               Output Shape         Param #\n",
      "================================================================\n",
      "            Conv2d-1          [-1, 100, 32, 32]           2,800\n",
      "              ReLU-2          [-1, 100, 32, 32]               0\n",
      "         MaxPool2d-3          [-1, 100, 16, 16]               0\n",
      "            Conv2d-4          [-1, 200, 17, 17]          80,200\n",
      "              ReLU-5          [-1, 200, 17, 17]               0\n",
      "         MaxPool2d-6            [-1, 200, 8, 8]               0\n",
      "            Conv2d-7            [-1, 300, 9, 9]         240,300\n",
      "              ReLU-8            [-1, 300, 9, 9]               0\n",
      "         MaxPool2d-9            [-1, 300, 4, 4]               0\n",
      "           Conv2d-10            [-1, 400, 5, 5]         480,400\n",
      "             ReLU-11            [-1, 400, 5, 5]               0\n",
      "        MaxPool2d-12            [-1, 400, 2, 2]               0\n",
      "           Conv2d-13            [-1, 500, 3, 3]         800,500\n",
      "             ReLU-14            [-1, 500, 3, 3]               0\n",
      "           Linear-15                   [-1, 10]          45,010\n",
      "================================================================\n",
      "Total params: 1,649,210\n",
      "Trainable params: 1,649,210\n",
      "Non-trainable params: 0\n",
      "----------------------------------------------------------------\n",
      "Input size (MB): 0.01\n",
      "Forward/backward pass size (MB): 3.38\n",
      "Params size (MB): 6.29\n",
      "Estimated Total Size (MB): 9.68\n",
      "----------------------------------------------------------------\n"
     ]
    }
   ],
   "source": [
    "summary(neural_network, input_size=(3, 32, 32))"
   ]
  },
  {
   "cell_type": "code",
   "execution_count": 156,
   "metadata": {
    "ExecuteTime": {
     "end_time": "2020-03-03T15:42:11.367584Z",
     "start_time": "2020-03-03T15:42:11.292623Z"
    },
    "collapsed": true
   },
   "outputs": [],
   "source": [
    "def accuracy(outputs, labels):\n",
    "    prediction = outputs.cpu().max(1, keepdim=True)[1].squeeze()\n",
    "    prediction_comp = torch.eq(prediction.cpu(), labels.cpu())\n",
    "    prediction_comp = prediction_comp.sum().numpy() / torch.numel(prediction.cpu())\n",
    "    return prediction_comp * 100"
   ]
  },
  {
   "cell_type": "code",
   "execution_count": 157,
   "metadata": {
    "ExecuteTime": {
     "end_time": "2020-03-03T17:09:54.937878Z",
     "start_time": "2020-03-03T15:42:17.297262Z"
    }
   },
   "outputs": [
    {
     "name": "stdout",
     "output_type": "stream",
     "text": [
      "Log -- Step size: 0.01, Momentum: 0.9, batch_size = 32\n",
      "Epoch 0/100 -> Tr. Loss = 1.75, Val. Loss = 1.43, Tr. Acc = 34.48, Val. Acc = 46.84\n",
      "Epoch 1/100 -> Tr. Loss = 1.26, Val. Loss = 1.14, Tr. Acc = 54.60, Val. Acc = 59.12\n",
      "Epoch 2/100 -> Tr. Loss = 1.02, Val. Loss = 0.97, Tr. Acc = 63.78, Val. Acc = 66.00\n",
      "Epoch 3/100 -> Tr. Loss = 0.89, Val. Loss = 0.91, Tr. Acc = 68.83, Val. Acc = 68.14\n",
      "Epoch 4/100 -> Tr. Loss = 0.81, Val. Loss = 0.78, Tr. Acc = 71.77, Val. Acc = 71.86\n",
      "Epoch 5/100 -> Tr. Loss = 0.75, Val. Loss = 0.76, Tr. Acc = 73.59, Val. Acc = 73.58\n",
      "Epoch 6/100 -> Tr. Loss = 0.72, Val. Loss = 0.78, Tr. Acc = 75.04, Val. Acc = 72.76\n",
      "Epoch 7/100 -> Tr. Loss = 0.68, Val. Loss = 0.67, Tr. Acc = 76.04, Val. Acc = 76.08\n",
      "Epoch 8/100 -> Tr. Loss = 0.65, Val. Loss = 0.66, Tr. Acc = 77.38, Val. Acc = 77.28\n",
      "Epoch 9/100 -> Tr. Loss = 0.62, Val. Loss = 0.65, Tr. Acc = 78.27, Val. Acc = 77.28\n",
      "Log -- Step size: 0.001, Momentum: 0.9, batch_size = 32\n",
      "Epoch 10/100 -> Tr. Loss = 0.47, Val. Loss = 0.53, Tr. Acc = 83.91, Val. Acc = 81.78\n",
      "Epoch 11/100 -> Tr. Loss = 0.43, Val. Loss = 0.51, Tr. Acc = 85.05, Val. Acc = 82.14\n",
      "Epoch 12/100 -> Tr. Loss = 0.41, Val. Loss = 0.51, Tr. Acc = 85.53, Val. Acc = 82.56\n",
      "Epoch 13/100 -> Tr. Loss = 0.40, Val. Loss = 0.49, Tr. Acc = 85.99, Val. Acc = 82.62\n",
      "Epoch 14/100 -> Tr. Loss = 0.39, Val. Loss = 0.48, Tr. Acc = 86.25, Val. Acc = 83.02\n",
      "Epoch 15/100 -> Tr. Loss = 0.39, Val. Loss = 0.48, Tr. Acc = 86.60, Val. Acc = 83.50\n",
      "Epoch 16/100 -> Tr. Loss = 0.38, Val. Loss = 0.49, Tr. Acc = 86.78, Val. Acc = 83.32\n",
      "Epoch 17/100 -> Tr. Loss = 0.37, Val. Loss = 0.48, Tr. Acc = 86.97, Val. Acc = 83.52\n",
      "Epoch 18/100 -> Tr. Loss = 0.37, Val. Loss = 0.46, Tr. Acc = 87.50, Val. Acc = 83.84\n",
      "Epoch 19/100 -> Tr. Loss = 0.36, Val. Loss = 0.46, Tr. Acc = 87.58, Val. Acc = 84.52\n",
      "Epoch 20/100 -> Tr. Loss = 0.36, Val. Loss = 0.49, Tr. Acc = 87.72, Val. Acc = 83.10\n",
      "Epoch 21/100 -> Tr. Loss = 0.35, Val. Loss = 0.46, Tr. Acc = 87.80, Val. Acc = 83.64\n",
      "Epoch 22/100 -> Tr. Loss = 0.34, Val. Loss = 0.48, Tr. Acc = 88.05, Val. Acc = 82.86\n",
      "Epoch 23/100 -> Tr. Loss = 0.34, Val. Loss = 0.46, Tr. Acc = 88.26, Val. Acc = 83.56\n",
      "Epoch 24/100 -> Tr. Loss = 0.34, Val. Loss = 0.46, Tr. Acc = 88.15, Val. Acc = 84.06\n",
      "Epoch 25/100 -> Tr. Loss = 0.33, Val. Loss = 0.45, Tr. Acc = 88.57, Val. Acc = 83.92\n",
      "Epoch 26/100 -> Tr. Loss = 0.33, Val. Loss = 0.45, Tr. Acc = 88.59, Val. Acc = 84.24\n",
      "Epoch 27/100 -> Tr. Loss = 0.33, Val. Loss = 0.45, Tr. Acc = 88.67, Val. Acc = 84.18\n",
      "Epoch 28/100 -> Tr. Loss = 0.32, Val. Loss = 0.45, Tr. Acc = 88.87, Val. Acc = 84.56\n",
      "Epoch 29/100 -> Tr. Loss = 0.32, Val. Loss = 0.46, Tr. Acc = 88.81, Val. Acc = 83.94\n",
      "Epoch 30/100 -> Tr. Loss = 0.32, Val. Loss = 0.44, Tr. Acc = 88.94, Val. Acc = 84.68\n",
      "Epoch 31/100 -> Tr. Loss = 0.32, Val. Loss = 0.45, Tr. Acc = 89.09, Val. Acc = 84.68\n",
      "Epoch 32/100 -> Tr. Loss = 0.31, Val. Loss = 0.44, Tr. Acc = 89.25, Val. Acc = 84.56\n",
      "Epoch 33/100 -> Tr. Loss = 0.31, Val. Loss = 0.45, Tr. Acc = 89.45, Val. Acc = 84.32\n",
      "Epoch 34/100 -> Tr. Loss = 0.31, Val. Loss = 0.45, Tr. Acc = 89.48, Val. Acc = 84.50\n",
      "Epoch 35/100 -> Tr. Loss = 0.30, Val. Loss = 0.46, Tr. Acc = 89.52, Val. Acc = 84.38\n",
      "Epoch 36/100 -> Tr. Loss = 0.30, Val. Loss = 0.44, Tr. Acc = 89.73, Val. Acc = 84.98\n",
      "Epoch 37/100 -> Tr. Loss = 0.30, Val. Loss = 0.45, Tr. Acc = 89.76, Val. Acc = 84.58\n",
      "Epoch 38/100 -> Tr. Loss = 0.29, Val. Loss = 0.44, Tr. Acc = 89.97, Val. Acc = 85.20\n",
      "Epoch 39/100 -> Tr. Loss = 0.29, Val. Loss = 0.47, Tr. Acc = 89.92, Val. Acc = 83.18\n",
      "Epoch 40/100 -> Tr. Loss = 0.29, Val. Loss = 0.43, Tr. Acc = 89.97, Val. Acc = 85.48\n",
      "Epoch 41/100 -> Tr. Loss = 0.29, Val. Loss = 0.44, Tr. Acc = 90.07, Val. Acc = 85.46\n",
      "Epoch 42/100 -> Tr. Loss = 0.28, Val. Loss = 0.46, Tr. Acc = 90.21, Val. Acc = 84.22\n",
      "Epoch 43/100 -> Tr. Loss = 0.28, Val. Loss = 0.45, Tr. Acc = 90.43, Val. Acc = 84.78\n",
      "Epoch 44/100 -> Tr. Loss = 0.28, Val. Loss = 0.46, Tr. Acc = 90.51, Val. Acc = 84.02\n",
      "Epoch 45/100 -> Tr. Loss = 0.28, Val. Loss = 0.45, Tr. Acc = 90.61, Val. Acc = 84.90\n",
      "Epoch 46/100 -> Tr. Loss = 0.27, Val. Loss = 0.43, Tr. Acc = 90.76, Val. Acc = 84.80\n",
      "Epoch 47/100 -> Tr. Loss = 0.27, Val. Loss = 0.45, Tr. Acc = 90.70, Val. Acc = 84.20\n",
      "Epoch 48/100 -> Tr. Loss = 0.26, Val. Loss = 0.44, Tr. Acc = 91.03, Val. Acc = 84.86\n",
      "Epoch 49/100 -> Tr. Loss = 0.26, Val. Loss = 0.43, Tr. Acc = 90.91, Val. Acc = 85.42\n",
      "Log -- Step size: 0.0001, Momentum: 0.9, batch_size = 32\n",
      "Epoch 50/100 -> Tr. Loss = 0.23, Val. Loss = 0.40, Tr. Acc = 92.36, Val. Acc = 86.24\n",
      "Epoch 51/100 -> Tr. Loss = 0.22, Val. Loss = 0.41, Tr. Acc = 92.69, Val. Acc = 86.06\n",
      "Epoch 52/100 -> Tr. Loss = 0.22, Val. Loss = 0.40, Tr. Acc = 92.73, Val. Acc = 86.44\n",
      "Epoch 53/100 -> Tr. Loss = 0.22, Val. Loss = 0.39, Tr. Acc = 92.94, Val. Acc = 86.52\n",
      "Epoch 54/100 -> Tr. Loss = 0.21, Val. Loss = 0.40, Tr. Acc = 92.93, Val. Acc = 86.10\n",
      "Epoch 55/100 -> Tr. Loss = 0.21, Val. Loss = 0.41, Tr. Acc = 93.02, Val. Acc = 86.16\n",
      "Epoch 56/100 -> Tr. Loss = 0.21, Val. Loss = 0.41, Tr. Acc = 92.87, Val. Acc = 86.02\n",
      "Epoch 57/100 -> Tr. Loss = 0.21, Val. Loss = 0.41, Tr. Acc = 93.04, Val. Acc = 86.40\n",
      "Epoch 58/100 -> Tr. Loss = 0.21, Val. Loss = 0.41, Tr. Acc = 93.07, Val. Acc = 85.72\n",
      "Epoch 59/100 -> Tr. Loss = 0.21, Val. Loss = 0.40, Tr. Acc = 93.12, Val. Acc = 86.08\n",
      "Epoch 60/100 -> Tr. Loss = 0.21, Val. Loss = 0.41, Tr. Acc = 93.04, Val. Acc = 86.46\n",
      "Epoch 61/100 -> Tr. Loss = 0.20, Val. Loss = 0.41, Tr. Acc = 93.24, Val. Acc = 86.12\n",
      "Epoch 62/100 -> Tr. Loss = 0.21, Val. Loss = 0.40, Tr. Acc = 93.11, Val. Acc = 86.24\n",
      "Epoch 63/100 -> Tr. Loss = 0.21, Val. Loss = 0.42, Tr. Acc = 93.14, Val. Acc = 85.72\n",
      "Epoch 64/100 -> Tr. Loss = 0.20, Val. Loss = 0.41, Tr. Acc = 93.30, Val. Acc = 86.16\n",
      "Epoch 65/100 -> Tr. Loss = 0.20, Val. Loss = 0.41, Tr. Acc = 93.20, Val. Acc = 85.96\n",
      "Epoch 66/100 -> Tr. Loss = 0.20, Val. Loss = 0.40, Tr. Acc = 93.65, Val. Acc = 86.22\n",
      "Epoch 67/100 -> Tr. Loss = 0.20, Val. Loss = 0.40, Tr. Acc = 93.46, Val. Acc = 86.56\n",
      "Epoch 68/100 -> Tr. Loss = 0.20, Val. Loss = 0.39, Tr. Acc = 93.22, Val. Acc = 86.78\n",
      "Epoch 69/100 -> Tr. Loss = 0.20, Val. Loss = 0.41, Tr. Acc = 93.31, Val. Acc = 86.60\n",
      "Epoch 70/100 -> Tr. Loss = 0.20, Val. Loss = 0.40, Tr. Acc = 93.30, Val. Acc = 86.40\n"
     ]
    },
    {
     "ename": "KeyboardInterrupt",
     "evalue": "",
     "output_type": "error",
     "traceback": [
      "\u001b[1;31m---------------------------------------------------------------------------\u001b[0m",
      "\u001b[1;31mKeyboardInterrupt\u001b[0m                         Traceback (most recent call last)",
      "\u001b[1;32m<ipython-input-157-c3b6cd9729a7>\u001b[0m in \u001b[0;36m<module>\u001b[1;34m()\u001b[0m\n\u001b[0;32m     53\u001b[0m         \u001b[0moptimiser\u001b[0m\u001b[1;33m.\u001b[0m\u001b[0mstep\u001b[0m\u001b[1;33m(\u001b[0m\u001b[1;33m)\u001b[0m\u001b[1;33m\u001b[0m\u001b[0m\n\u001b[0;32m     54\u001b[0m \u001b[1;33m\u001b[0m\u001b[0m\n\u001b[1;32m---> 55\u001b[1;33m         \u001b[0mepoch_loss\u001b[0m \u001b[1;33m+=\u001b[0m \u001b[0mloss\u001b[0m\u001b[1;33m.\u001b[0m\u001b[0mitem\u001b[0m\u001b[1;33m(\u001b[0m\u001b[1;33m)\u001b[0m\u001b[1;33m\u001b[0m\u001b[0m\n\u001b[0m\u001b[0;32m     56\u001b[0m         \u001b[0mtraining_accuracy\u001b[0m \u001b[1;33m+=\u001b[0m \u001b[0maccuracy\u001b[0m\u001b[1;33m(\u001b[0m\u001b[0moutputs\u001b[0m\u001b[1;33m,\u001b[0m \u001b[0mlabels\u001b[0m\u001b[1;33m)\u001b[0m\u001b[1;33m\u001b[0m\u001b[0m\n\u001b[0;32m     57\u001b[0m \u001b[1;33m\u001b[0m\u001b[0m\n",
      "\u001b[1;31mKeyboardInterrupt\u001b[0m: "
     ]
    }
   ],
   "source": [
    "neural_network.train()\n",
    "criterion = nn.CrossEntropyLoss()\n",
    "\n",
    "# Initial hyperparameters\n",
    "number_of_epochs = 100\n",
    "step_size = 0.01\n",
    "momentum_parameter = 0.9\n",
    "weight_decay = 0.001\n",
    "\n",
    "# Initialize optimiser\n",
    "optimiser = optim.SGD(neural_network.parameters(), lr=step_size, momentum=momentum_parameter, weight_decay=weight_decay)\n",
    "\n",
    "\n",
    "# initialize lists for running counts of loss and accuracy\n",
    "running_loss = []\n",
    "running_val_loss = []\n",
    "running_training_accuracy = []\n",
    "running_training_accuracy.append(0)\n",
    "running_val_accuracy = []\n",
    "running_val_accuracy.append(0)\n",
    "\n",
    "print(\"Log -- Step size: {}, Momentum: {}, batch_size = {}\".format(step_size,momentum_parameter,train_batch_size))\n",
    "# loop for epochs\n",
    "for k in range(number_of_epochs):\n",
    "    device = cpu_or_gpu()\n",
    "    neural_network.to(device)\n",
    "    \n",
    "    # initialize epoch loss and training accuracy\n",
    "    epoch_loss = 0\n",
    "    training_accuracy = 0\n",
    "    \n",
    "    \n",
    "    # handle reducing step size at 15th iteration and 50th iteration.\n",
    "    if k > 49:\n",
    "        step_size = 0.0001\n",
    "        optimiser = optim.SGD(neural_network.parameters(), lr=step_size, momentum=momentum_parameter, weight_decay=weight_decay)\n",
    "        if k == 50: \n",
    "            print(\"Log -- Step size: {}, Momentum: {}, batch_size = {}\".format(step_size,momentum_parameter,train_batch_size))\n",
    "            \n",
    "    elif k > 9:\n",
    "        step_size = 0.001\n",
    "        optimiser = optim.SGD(neural_network.parameters(), lr=step_size, momentum=momentum_parameter, weight_decay=weight_decay)\n",
    "        if k == 10: \n",
    "            print(\"Log -- Step size: {}, Momentum: {}, batch_size = {}\".format(step_size,momentum_parameter,train_batch_size))\n",
    "     \n",
    "    # Main Training Loop\n",
    "    for j, (images, labels) in enumerate(train_loader):\n",
    "        images, labels = images.to(device), labels.to(device)\n",
    "        optimiser.zero_grad()\n",
    "        outputs = neural_network(images)\n",
    "        loss = criterion(outputs, labels)\n",
    "        loss.backward()\n",
    "        optimiser.step()\n",
    "        \n",
    "        epoch_loss += loss.item()\n",
    "        training_accuracy += accuracy(outputs, labels)\n",
    "    \n",
    "    # Caclulate average loss and accuracy for each epoch\n",
    "    running_loss.append(epoch_loss/len(train_loader))\n",
    "    running_training_accuracy.append(training_accuracy/len(train_loader))\n",
    "    \n",
    "    # Validation test once per epoch\n",
    "    device = torch.device('cpu')\n",
    "    neural_network.to(device)\n",
    "    val_images, val_labels = iter(val_loader).next()\n",
    "    val_images, val_labels = val_images.to(device), val_labels.to(device)\n",
    "    val_outputs = neural_network(val_images)\n",
    "    val_loss = criterion(val_outputs, val_labels).item()\n",
    "    \n",
    "    # Store validation loss and accuracy\n",
    "    running_val_loss.append(val_loss)\n",
    "    val_accuracy = accuracy(val_outputs, val_labels)\n",
    "    running_val_accuracy.append(val_accuracy)\n",
    "    \n",
    "    if k % 1 == 0:\n",
    "        print(\"Epoch {a}/{b} -> Tr. Loss = {c:.2f}, Val. Loss = {d:.2f}, Tr. Acc = {e:.2f}, Val. Acc = {f:.2f}\".format(a=k, b=number_of_epochs, c=running_loss[-1], d=running_val_loss[-1], e=running_training_accuracy[-1], f=running_val_accuracy[-1]))\n",
    "    \n",
    "    #if (len(running_val_loss) > 3) and (running_val_loss[-3] - running_val_loss[-1] < 0):\n",
    "        #break\n",
    "        \n",
    "print(\"Final Epoch {} -> Loss = {}\".format(k, running_loss[-1]))"
   ]
  },
  {
   "cell_type": "code",
   "execution_count": 158,
   "metadata": {
    "ExecuteTime": {
     "end_time": "2020-03-03T17:10:01.720624Z",
     "start_time": "2020-03-03T17:10:00.812932Z"
    }
   },
   "outputs": [
    {
     "data": {
      "image/png": "[encoded data removed]",
      "text/plain": [
       "<Figure size 432x288 with 1 Axes>"
      ]
     },
     "metadata": {},
     "output_type": "display_data"
    }
   ],
   "source": [
    "plt.plot(running_loss, label=\"Training Loss\")\n",
    "plt.plot(running_val_loss, label=\"Validation Loss\")\n",
    "for i in range(len(running_val_loss)):\n",
    "    if running_val_loss[i] == np.min(running_val_loss):\n",
    "        lowest_index = i\n",
    "plt.scatter(lowest_index, running_val_loss[lowest_index], label=\"Lowest Validation Loss\", c=\"r\")\n",
    "plt.scatter(lowest_index, running_loss[lowest_index], label=\"Corresponding Train Loss\", c=\"r\")\n",
    "plt.legend()\n",
    "plt.ylabel(\"Loss\")\n",
    "plt.xlabel(\"Epoch\")\n",
    "plt.grid()\n",
    "plt.show()"
   ]
  },
  {
   "cell_type": "code",
   "execution_count": 159,
   "metadata": {
    "ExecuteTime": {
     "end_time": "2020-03-03T17:10:13.055282Z",
     "start_time": "2020-03-03T17:10:12.820407Z"
    },
    "scrolled": true
   },
   "outputs": [
    {
     "data": {
      "image/png": "[encoded data removed]",
      "text/plain": [
       "<Figure size 432x288 with 1 Axes>"
      ]
     },
     "metadata": {},
     "output_type": "display_data"
    }
   ],
   "source": [
    "plt.plot(running_training_accuracy, label=\"Training Accuracy\")\n",
    "plt.plot(running_val_accuracy, label=\"Test Accuracy\")\n",
    "for i in range(len(running_val_accuracy)):\n",
    "    if running_val_accuracy[i] == np.max(running_val_accuracy):\n",
    "        highest_index = i\n",
    "plt.scatter(highest_index, running_val_accuracy[highest_index], label=\"Highest Validation Accuracy\", c=\"r\")\n",
    "plt.scatter(highest_index, running_training_accuracy[highest_index], label=\"Corresponding Train Accuracy\", c=\"r\")\n",
    "plt.legend()\n",
    "plt.ylabel(\"Model Accuracy\")\n",
    "plt.xlabel(\"Epoch\")\n",
    "plt.grid()\n",
    "plt.show()"
   ]
  },
  {
   "cell_type": "code",
   "execution_count": 174,
   "metadata": {
    "ExecuteTime": {
     "end_time": "2020-03-03T17:20:37.120248Z",
     "start_time": "2020-03-03T17:20:37.024670Z"
    },
    "collapsed": true
   },
   "outputs": [],
   "source": [
    "## Accuracy on full test dataset (10,000 test images)\n",
    "def test_on_testing_data():\n",
    "    indices = np.arange(5000)\n",
    "    np.random.shuffle(indices)\n",
    "    \n",
    "    test_batch_size = 10000\n",
    "\n",
    "    test_dataset = datasets.CIFAR10('CIFAR10', \n",
    "                                train=False, \n",
    "                                download=True, \n",
    "                                transform=transform_tst)\n",
    "\n",
    "    test_loader = torch.utils.data.DataLoader(test_dataset,\n",
    "                                          batch_size=test_batch_size,\n",
    "                                          shuffle=False,\n",
    "                                        sample=torch.utils.data.SubsetRandomSampler(indices[:5000]))\n",
    "    \n",
    "    \n",
    "    device = torch.device('cpu')\n",
    "    neural_network.to(device)\n",
    "    neural_network.eval()\n",
    "    test_accuracy = 0\n",
    "    epoch_loss = 0\n",
    "    for j, (test_images, test_labels) in enumerate(test_loader1):\n",
    "        test_outputs = neural_network(test_images)\n",
    "        epoch_loss += criterion(test_outputs, test_labels).item()\n",
    "        test_accuracy += accuracy(test_outputs, test_labels)\n",
    "    test_accuracy = test_accuracy/len(test_loader1)\n",
    "    test_loss = epoch_loss/len(test_loader1)\n",
    "    test_accuracy = accuracy(test_outputs, test_labels)\n",
    "    print(\"Test Loss is : {a:.2f}\".format(a=test_loss))\n",
    "    print(\"Test Accuracy is : {a:.2f}%\".format(a=test_accuracy))"
   ]
  },
  {
   "cell_type": "code",
   "execution_count": 175,
   "metadata": {
    "ExecuteTime": {
     "end_time": "2020-03-03T17:20:45.303630Z",
     "start_time": "2020-03-03T17:20:38.899720Z"
    }
   },
   "outputs": [
    {
     "name": "stdout",
     "output_type": "stream",
     "text": [
      "Files already downloaded and verified\n"
     ]
    },
    {
     "ename": "MemoryError",
     "evalue": "",
     "output_type": "error",
     "traceback": [
      "\u001b[1;31m---------------------------------------------------------------------------\u001b[0m",
      "\u001b[1;31mMemoryError\u001b[0m                               Traceback (most recent call last)",
      "\u001b[1;32m<ipython-input-175-3970b04a7f61>\u001b[0m in \u001b[0;36m<module>\u001b[1;34m()\u001b[0m\n\u001b[1;32m----> 1\u001b[1;33m \u001b[0mtest_on_testing_data\u001b[0m\u001b[1;33m(\u001b[0m\u001b[1;33m)\u001b[0m\u001b[1;33m\u001b[0m\u001b[0m\n\u001b[0m",
      "\u001b[1;32m<ipython-input-174-9f4ff78a5129>\u001b[0m in \u001b[0;36mtest_on_testing_data\u001b[1;34m()\u001b[0m\n\u001b[0;32m      9\u001b[0m                                 \u001b[0mtrain\u001b[0m\u001b[1;33m=\u001b[0m\u001b[1;32mFalse\u001b[0m\u001b[1;33m,\u001b[0m\u001b[1;33m\u001b[0m\u001b[0m\n\u001b[0;32m     10\u001b[0m                                 \u001b[0mdownload\u001b[0m\u001b[1;33m=\u001b[0m\u001b[1;32mTrue\u001b[0m\u001b[1;33m,\u001b[0m\u001b[1;33m\u001b[0m\u001b[0m\n\u001b[1;32m---> 11\u001b[1;33m                                 transform=transform_tst)\n\u001b[0m\u001b[0;32m     12\u001b[0m \u001b[1;33m\u001b[0m\u001b[0m\n\u001b[0;32m     13\u001b[0m     test_loader = torch.utils.data.DataLoader(test_dataset,\n",
      "\u001b[1;32mC:\\Users\\ah19410\\AppData\\Local\\conda\\conda\\envs\\my_root\\lib\\site-packages\\torchvision\\datasets\\cifar.py\u001b[0m in \u001b[0;36m__init__\u001b[1;34m(self, root, train, transform, target_transform, download)\u001b[0m\n\u001b[0;32m     83\u001b[0m                     \u001b[0mentry\u001b[0m \u001b[1;33m=\u001b[0m \u001b[0mpickle\u001b[0m\u001b[1;33m.\u001b[0m\u001b[0mload\u001b[0m\u001b[1;33m(\u001b[0m\u001b[0mf\u001b[0m\u001b[1;33m)\u001b[0m\u001b[1;33m\u001b[0m\u001b[0m\n\u001b[0;32m     84\u001b[0m                 \u001b[1;32melse\u001b[0m\u001b[1;33m:\u001b[0m\u001b[1;33m\u001b[0m\u001b[0m\n\u001b[1;32m---> 85\u001b[1;33m                     \u001b[0mentry\u001b[0m \u001b[1;33m=\u001b[0m \u001b[0mpickle\u001b[0m\u001b[1;33m.\u001b[0m\u001b[0mload\u001b[0m\u001b[1;33m(\u001b[0m\u001b[0mf\u001b[0m\u001b[1;33m,\u001b[0m \u001b[0mencoding\u001b[0m\u001b[1;33m=\u001b[0m\u001b[1;34m'latin1'\u001b[0m\u001b[1;33m)\u001b[0m\u001b[1;33m\u001b[0m\u001b[0m\n\u001b[0m\u001b[0;32m     86\u001b[0m                 \u001b[0mself\u001b[0m\u001b[1;33m.\u001b[0m\u001b[0mdata\u001b[0m\u001b[1;33m.\u001b[0m\u001b[0mappend\u001b[0m\u001b[1;33m(\u001b[0m\u001b[0mentry\u001b[0m\u001b[1;33m[\u001b[0m\u001b[1;34m'data'\u001b[0m\u001b[1;33m]\u001b[0m\u001b[1;33m)\u001b[0m\u001b[1;33m\u001b[0m\u001b[0m\n\u001b[0;32m     87\u001b[0m                 \u001b[1;32mif\u001b[0m \u001b[1;34m'labels'\u001b[0m \u001b[1;32min\u001b[0m \u001b[0mentry\u001b[0m\u001b[1;33m:\u001b[0m\u001b[1;33m\u001b[0m\u001b[0m\n",
      "\u001b[1;31mMemoryError\u001b[0m: "
     ]
    }
   ],
   "source": [
    "test_on_testing_data()"
   ]
  },
  {
   "cell_type": "code",
   "execution_count": 176,
   "metadata": {
    "ExecuteTime": {
     "end_time": "2020-03-03T17:21:28.623581Z",
     "start_time": "2020-03-03T17:21:28.533598Z"
    },
    "collapsed": true
   },
   "outputs": [],
   "source": [
    "## Accuracy on full train dataset (50,000 training images) without data augmentation\n",
    "def test_on_training_data():\n",
    "    transform_tr1 = transforms.Compose([transforms.ToTensor(), transforms.Normalize((0.4914, 0.4822, 0.4465),(0.2470, 0.2435, 0.2616))])\n",
    "    train_dataset1 = datasets.CIFAR10('CIFAR10',\n",
    "                                 train=True, \n",
    "                                 download=True, \n",
    "                                 transform=transform_tr1)\n",
    "\n",
    "    train_loader1 = torch.utils.data.DataLoader(train_dataset1,\n",
    "                                          batch_size=10000,\n",
    "                                          shuffle=True)\n",
    "    device = torch.device('cpu')\n",
    "    neural_network.to(device)\n",
    "    neural_network.eval()\n",
    "    test_accuracy = 0\n",
    "    epoch_loss += loss.item()\n",
    "    for j, (test_images, test_labels) in enumerate(train_loader1):\n",
    "        test_outputs = neural_network(test_images)\n",
    "        epoch_loss += criterion(test_outputs, test_labels).item()\n",
    "        test_accuracy += accuracy(test_outputs, test_labels)\n",
    "    test_accuracy = test_accuracy/len(train_loader1)\n",
    "    test_loss = epoch_loss/len(train_loader1)\n",
    "    print(\"Training Loss (Full Dataset) is : {a:.2f}\".format(a=test_loss))\n",
    "    print(\"Training Accuracy (Full Dataset) is : {a:.2f}%\".format(a=test_accuracy))"
   ]
  },
  {
   "cell_type": "code",
   "execution_count": 177,
   "metadata": {
    "ExecuteTime": {
     "end_time": "2020-03-03T17:21:51.726249Z",
     "start_time": "2020-03-03T17:21:32.419427Z"
    },
    "scrolled": true
   },
   "outputs": [
    {
     "name": "stdout",
     "output_type": "stream",
     "text": [
      "Files already downloaded and verified\n"
     ]
    },
    {
     "ename": "MemoryError",
     "evalue": "",
     "output_type": "error",
     "traceback": [
      "\u001b[1;31m---------------------------------------------------------------------------\u001b[0m",
      "\u001b[1;31mMemoryError\u001b[0m                               Traceback (most recent call last)",
      "\u001b[1;32m<ipython-input-177-c9c3e8f18781>\u001b[0m in \u001b[0;36m<module>\u001b[1;34m()\u001b[0m\n\u001b[1;32m----> 1\u001b[1;33m \u001b[0mtest_on_training_data\u001b[0m\u001b[1;33m(\u001b[0m\u001b[1;33m)\u001b[0m\u001b[1;33m\u001b[0m\u001b[0m\n\u001b[0m",
      "\u001b[1;32m<ipython-input-176-45927e99ce6e>\u001b[0m in \u001b[0;36mtest_on_training_data\u001b[1;34m()\u001b[0m\n\u001b[0;32m      5\u001b[0m                                  \u001b[0mtrain\u001b[0m\u001b[1;33m=\u001b[0m\u001b[1;32mTrue\u001b[0m\u001b[1;33m,\u001b[0m\u001b[1;33m\u001b[0m\u001b[0m\n\u001b[0;32m      6\u001b[0m                                  \u001b[0mdownload\u001b[0m\u001b[1;33m=\u001b[0m\u001b[1;32mTrue\u001b[0m\u001b[1;33m,\u001b[0m\u001b[1;33m\u001b[0m\u001b[0m\n\u001b[1;32m----> 7\u001b[1;33m                                  transform=transform_tr1)\n\u001b[0m\u001b[0;32m      8\u001b[0m \u001b[1;33m\u001b[0m\u001b[0m\n\u001b[0;32m      9\u001b[0m     train_loader1 = torch.utils.data.DataLoader(train_dataset1,\n",
      "\u001b[1;32mC:\\Users\\ah19410\\AppData\\Local\\conda\\conda\\envs\\my_root\\lib\\site-packages\\torchvision\\datasets\\cifar.py\u001b[0m in \u001b[0;36m__init__\u001b[1;34m(self, root, train, transform, target_transform, download)\u001b[0m\n\u001b[0;32m     83\u001b[0m                     \u001b[0mentry\u001b[0m \u001b[1;33m=\u001b[0m \u001b[0mpickle\u001b[0m\u001b[1;33m.\u001b[0m\u001b[0mload\u001b[0m\u001b[1;33m(\u001b[0m\u001b[0mf\u001b[0m\u001b[1;33m)\u001b[0m\u001b[1;33m\u001b[0m\u001b[0m\n\u001b[0;32m     84\u001b[0m                 \u001b[1;32melse\u001b[0m\u001b[1;33m:\u001b[0m\u001b[1;33m\u001b[0m\u001b[0m\n\u001b[1;32m---> 85\u001b[1;33m                     \u001b[0mentry\u001b[0m \u001b[1;33m=\u001b[0m \u001b[0mpickle\u001b[0m\u001b[1;33m.\u001b[0m\u001b[0mload\u001b[0m\u001b[1;33m(\u001b[0m\u001b[0mf\u001b[0m\u001b[1;33m,\u001b[0m \u001b[0mencoding\u001b[0m\u001b[1;33m=\u001b[0m\u001b[1;34m'latin1'\u001b[0m\u001b[1;33m)\u001b[0m\u001b[1;33m\u001b[0m\u001b[0m\n\u001b[0m\u001b[0;32m     86\u001b[0m                 \u001b[0mself\u001b[0m\u001b[1;33m.\u001b[0m\u001b[0mdata\u001b[0m\u001b[1;33m.\u001b[0m\u001b[0mappend\u001b[0m\u001b[1;33m(\u001b[0m\u001b[0mentry\u001b[0m\u001b[1;33m[\u001b[0m\u001b[1;34m'data'\u001b[0m\u001b[1;33m]\u001b[0m\u001b[1;33m)\u001b[0m\u001b[1;33m\u001b[0m\u001b[0m\n\u001b[0;32m     87\u001b[0m                 \u001b[1;32mif\u001b[0m \u001b[1;34m'labels'\u001b[0m \u001b[1;32min\u001b[0m \u001b[0mentry\u001b[0m\u001b[1;33m:\u001b[0m\u001b[1;33m\u001b[0m\u001b[0m\n",
      "\u001b[1;31mMemoryError\u001b[0m: "
     ]
    }
   ],
   "source": [
    "test_on_training_data()"
   ]
  },
  {
   "cell_type": "code",
   "execution_count": 178,
   "metadata": {
    "ExecuteTime": {
     "end_time": "2020-03-03T17:21:57.200320Z",
     "start_time": "2020-03-03T17:21:57.107346Z"
    },
    "collapsed": true
   },
   "outputs": [],
   "source": [
    "def test_single_prediction():\n",
    "    device = torch.device('cpu')\n",
    "    neural_network.to(device)\n",
    "    neural_network.eval()\n",
    "    indices = np.arange(10000)\n",
    "    np.random.shuffle(indices)\n",
    "    sampler = torch.utils.data.SubsetRandomSampler(indices[:1])\n",
    "    \n",
    "\n",
    "    transform_tr1 = transforms.Compose([transforms.ToTensor()])\n",
    "    test_dataset1 = datasets.CIFAR10('CIFAR10',\n",
    "\n",
    "                                 train=False, \n",
    "\n",
    "                                 download=True, \n",
    "\n",
    "                                 transform=transform_tr1)\n",
    "    test_loader1 = torch.utils.data.DataLoader(test_dataset1, batch_size=1, shuffle=False, sampler=sampler)\n",
    "    for test_images, test_labels in test_loader1:\n",
    "        sample_image = test_images[0,:,:]    # Reshape them according to your needs.\n",
    "        sample_label = test_labels[0]     \n",
    "    sample_image = test_images[0,:,:]    # Reshape them according to your needs.\n",
    "    sample_label = test_labels[0]\n",
    "    output = neural_network(test_images)\n",
    "    _, predicted = torch.max(output, 1)\n",
    "    print(\"Predicted label is: {} - {}\".format(predicted[0], train_dataset.classes[predicted[0]]))\n",
    "    print(\"Actual label is: {} - {}\".format(sample_label, train_dataset.classes[sample_label]))\n",
    "    plt.imshow(np.transpose(sample_image, (1,2,0)))"
   ]
  },
  {
   "cell_type": "code",
   "execution_count": 179,
   "metadata": {
    "ExecuteTime": {
     "end_time": "2020-03-03T17:21:59.983624Z",
     "start_time": "2020-03-03T17:21:59.235244Z"
    }
   },
   "outputs": [
    {
     "name": "stdout",
     "output_type": "stream",
     "text": [
      "Files already downloaded and verified\n"
     ]
    },
    {
     "ename": "MemoryError",
     "evalue": "",
     "output_type": "error",
     "traceback": [
      "\u001b[1;31m---------------------------------------------------------------------------\u001b[0m",
      "\u001b[1;31mMemoryError\u001b[0m                               Traceback (most recent call last)",
      "\u001b[1;32m<ipython-input-179-2f70f3c20063>\u001b[0m in \u001b[0;36m<module>\u001b[1;34m()\u001b[0m\n\u001b[1;32m----> 1\u001b[1;33m \u001b[0mtest_single_prediction\u001b[0m\u001b[1;33m(\u001b[0m\u001b[1;33m)\u001b[0m\u001b[1;33m\u001b[0m\u001b[0m\n\u001b[0m",
      "\u001b[1;32m<ipython-input-178-522256523450>\u001b[0m in \u001b[0;36mtest_single_prediction\u001b[1;34m()\u001b[0m\n\u001b[0;32m     15\u001b[0m                                  \u001b[0mdownload\u001b[0m\u001b[1;33m=\u001b[0m\u001b[1;32mTrue\u001b[0m\u001b[1;33m,\u001b[0m\u001b[1;33m\u001b[0m\u001b[0m\n\u001b[0;32m     16\u001b[0m \u001b[1;33m\u001b[0m\u001b[0m\n\u001b[1;32m---> 17\u001b[1;33m                                  transform=transform_tr1)\n\u001b[0m\u001b[0;32m     18\u001b[0m     \u001b[0mtest_loader1\u001b[0m \u001b[1;33m=\u001b[0m \u001b[0mtorch\u001b[0m\u001b[1;33m.\u001b[0m\u001b[0mutils\u001b[0m\u001b[1;33m.\u001b[0m\u001b[0mdata\u001b[0m\u001b[1;33m.\u001b[0m\u001b[0mDataLoader\u001b[0m\u001b[1;33m(\u001b[0m\u001b[0mtest_dataset1\u001b[0m\u001b[1;33m,\u001b[0m \u001b[0mbatch_size\u001b[0m\u001b[1;33m=\u001b[0m\u001b[1;36m1\u001b[0m\u001b[1;33m,\u001b[0m \u001b[0mshuffle\u001b[0m\u001b[1;33m=\u001b[0m\u001b[1;32mFalse\u001b[0m\u001b[1;33m,\u001b[0m \u001b[0msampler\u001b[0m\u001b[1;33m=\u001b[0m\u001b[0msampler\u001b[0m\u001b[1;33m)\u001b[0m\u001b[1;33m\u001b[0m\u001b[0m\n\u001b[0;32m     19\u001b[0m     \u001b[1;32mfor\u001b[0m \u001b[0mtest_images\u001b[0m\u001b[1;33m,\u001b[0m \u001b[0mtest_labels\u001b[0m \u001b[1;32min\u001b[0m \u001b[0mtest_loader1\u001b[0m\u001b[1;33m:\u001b[0m\u001b[1;33m\u001b[0m\u001b[0m\n",
      "\u001b[1;32mC:\\Users\\ah19410\\AppData\\Local\\conda\\conda\\envs\\my_root\\lib\\site-packages\\torchvision\\datasets\\cifar.py\u001b[0m in \u001b[0;36m__init__\u001b[1;34m(self, root, train, transform, target_transform, download)\u001b[0m\n\u001b[0;32m     83\u001b[0m                     \u001b[0mentry\u001b[0m \u001b[1;33m=\u001b[0m \u001b[0mpickle\u001b[0m\u001b[1;33m.\u001b[0m\u001b[0mload\u001b[0m\u001b[1;33m(\u001b[0m\u001b[0mf\u001b[0m\u001b[1;33m)\u001b[0m\u001b[1;33m\u001b[0m\u001b[0m\n\u001b[0;32m     84\u001b[0m                 \u001b[1;32melse\u001b[0m\u001b[1;33m:\u001b[0m\u001b[1;33m\u001b[0m\u001b[0m\n\u001b[1;32m---> 85\u001b[1;33m                     \u001b[0mentry\u001b[0m \u001b[1;33m=\u001b[0m \u001b[0mpickle\u001b[0m\u001b[1;33m.\u001b[0m\u001b[0mload\u001b[0m\u001b[1;33m(\u001b[0m\u001b[0mf\u001b[0m\u001b[1;33m,\u001b[0m \u001b[0mencoding\u001b[0m\u001b[1;33m=\u001b[0m\u001b[1;34m'latin1'\u001b[0m\u001b[1;33m)\u001b[0m\u001b[1;33m\u001b[0m\u001b[0m\n\u001b[0m\u001b[0;32m     86\u001b[0m                 \u001b[0mself\u001b[0m\u001b[1;33m.\u001b[0m\u001b[0mdata\u001b[0m\u001b[1;33m.\u001b[0m\u001b[0mappend\u001b[0m\u001b[1;33m(\u001b[0m\u001b[0mentry\u001b[0m\u001b[1;33m[\u001b[0m\u001b[1;34m'data'\u001b[0m\u001b[1;33m]\u001b[0m\u001b[1;33m)\u001b[0m\u001b[1;33m\u001b[0m\u001b[0m\n\u001b[0;32m     87\u001b[0m                 \u001b[1;32mif\u001b[0m \u001b[1;34m'labels'\u001b[0m \u001b[1;32min\u001b[0m \u001b[0mentry\u001b[0m\u001b[1;33m:\u001b[0m\u001b[1;33m\u001b[0m\u001b[0m\n",
      "\u001b[1;31mMemoryError\u001b[0m: "
     ]
    }
   ],
   "source": [
    "test_single_prediction()"
   ]
  },
  {
   "cell_type": "code",
   "execution_count": 181,
   "metadata": {
    "ExecuteTime": {
     "end_time": "2020-03-03T17:23:38.522349Z",
     "start_time": "2020-03-03T17:23:36.338956Z"
    },
    "collapsed": true
   },
   "outputs": [],
   "source": [
    "## For saving neural network parameters\n",
    "model = neural_network\n",
    "torch.save(model.state_dict(), \"Conv-NN-ReLU-100-200-300-400-500\")"
   ]
  },
  {
   "cell_type": "code",
   "execution_count": 20,
   "metadata": {},
   "outputs": [
    {
     "ename": "NameError",
     "evalue": "name 'TheModelClass' is not defined",
     "output_type": "error",
     "traceback": [
      "\u001b[1;31m---------------------------------------------------------------------------\u001b[0m",
      "\u001b[1;31mNameError\u001b[0m                                 Traceback (most recent call last)",
      "\u001b[1;32m<ipython-input-20-055c24f97c93>\u001b[0m in \u001b[0;36m<module>\u001b[1;34m\u001b[0m\n\u001b[1;32m----> 1\u001b[1;33m \u001b[0mmodel\u001b[0m \u001b[1;33m=\u001b[0m \u001b[0mTheModelClass\u001b[0m\u001b[1;33m(\u001b[0m\u001b[1;33m*\u001b[0m\u001b[0margs\u001b[0m\u001b[1;33m,\u001b[0m \u001b[1;33m**\u001b[0m\u001b[0mkwargs\u001b[0m\u001b[1;33m)\u001b[0m\u001b[1;33m\u001b[0m\u001b[1;33m\u001b[0m\u001b[0m\n\u001b[0m\u001b[0;32m      2\u001b[0m \u001b[0mmodel\u001b[0m\u001b[1;33m.\u001b[0m\u001b[0mload_state_dict\u001b[0m\u001b[1;33m(\u001b[0m\u001b[0mtorch\u001b[0m\u001b[1;33m.\u001b[0m\u001b[0mload\u001b[0m\u001b[1;33m(\u001b[0m\u001b[0mPATH\u001b[0m\u001b[1;33m)\u001b[0m\u001b[1;33m)\u001b[0m\u001b[1;33m\u001b[0m\u001b[1;33m\u001b[0m\u001b[0m\n\u001b[0;32m      3\u001b[0m \u001b[0mmodel\u001b[0m\u001b[1;33m.\u001b[0m\u001b[0meval\u001b[0m\u001b[1;33m(\u001b[0m\u001b[1;33m)\u001b[0m\u001b[1;33m\u001b[0m\u001b[1;33m\u001b[0m\u001b[0m\n",
      "\u001b[1;31mNameError\u001b[0m: name 'TheModelClass' is not defined"
     ]
    }
   ],
   "source": [
    "model = TheModelClass(*args, **kwargs)\n",
    "model.load_state_dict(torch.load(PATH))\n",
    "model.eval()"
   ]
  }
 ],
 "metadata": {
  "kernelspec": {
   "display_name": "Python 3",
   "language": "python",
   "name": "python3"
  },
  "language_info": {
   "codemirror_mode": {
    "name": "ipython",
    "version": 3
   },
   "file_extension": ".py",
   "mimetype": "text/x-python",
   "name": "python",
   "nbconvert_exporter": "python",
   "pygments_lexer": "ipython3",
   "version": "3.6.2"
  }
 },
 "nbformat": 4,
 "nbformat_minor": 4
}

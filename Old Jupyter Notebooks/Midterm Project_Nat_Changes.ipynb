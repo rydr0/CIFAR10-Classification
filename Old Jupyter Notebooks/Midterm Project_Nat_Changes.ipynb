{
 "cells": [
  {
   "cell_type": "markdown",
   "metadata": {},
   "source": [
    "# Identifying objects in images.\n",
    "## 1st dataset to try: CIFAR 10"
   ]
  },
  {
   "cell_type": "markdown",
   "metadata": {},
   "source": [
    "Starting lines and imports"
   ]
  },
  {
   "cell_type": "code",
   "execution_count": 1,
   "metadata": {},
   "outputs": [],
   "source": [
    "%matplotlib inline\n",
    "import numpy as np\n",
    "\n",
    "import matplotlib.pyplot as plt\n",
    "\n",
    "import torch\n",
    "import torch.nn as nn\n",
    "import torch.optim as optim\n",
    "from torch.autograd import Variable\n",
    "\n",
    "import torchvision\n",
    "import torchvision.transforms as transforms\n",
    "from torchvision import datasets, transforms\n",
    "\n",
    "%load_ext autoreload\n",
    "%autoreload 2"
   ]
  },
  {
   "cell_type": "code",
   "execution_count": 2,
   "metadata": {},
   "outputs": [
    {
     "name": "stdout",
     "output_type": "stream",
     "text": [
      "CUDA is not available. Using CPU.\n"
     ]
    }
   ],
   "source": [
    "train_on_gpu = torch.cuda.is_available()\n",
    "if not train_on_gpu:\n",
    "    print(\"CUDA is not available. Using CPU.\")\n",
    "else:\n",
    "    print(\"CUDA is available. Using GPU.\")"
   ]
  },
  {
   "cell_type": "markdown",
   "metadata": {},
   "source": [
    "## Load CIFAR 10"
   ]
  },
  {
   "cell_type": "markdown",
   "metadata": {},
   "source": [
    "#### Define transforms for the dataset and load"
   ]
  },
  {
   "cell_type": "code",
   "execution_count": 3,
   "metadata": {},
   "outputs": [],
   "source": [
    "transform_tr = transforms.Compose([transforms.ToTensor(), transforms.Normalize((0.4914, 0.4822, 0.4465),(0.2470, 0.2435, 0.2616))])\n",
    "transform_tst = transforms.Compose([transforms.ToTensor(), transforms.Normalize((0.4942, 0.4851, 0.4504),(0.2467, 0.2429, 0.2616))])"
   ]
  },
  {
   "cell_type": "code",
   "execution_count": 4,
   "metadata": {},
   "outputs": [
    {
     "name": "stdout",
     "output_type": "stream",
     "text": [
      "Files already downloaded and verified\n"
     ]
    }
   ],
   "source": [
    "# CIFAR-10 training dataset and data loader\n",
    "train_batch_size = 256\n",
    "\n",
    "train_dataset = datasets.CIFAR10('CIFAR10', train=True, download=True, transform=transform_tr)\n",
    "\n",
    "train_loader = torch.utils.data.DataLoader(train_dataset,\n",
    "                                          batch_size=train_batch_size,\n",
    "                                          shuffle=True)"
   ]
  },
  {
   "cell_type": "code",
   "execution_count": null,
   "metadata": {},
   "outputs": [],
   "source": [
    "indices = np.arange(50000)\n",
    "np.random.shuffle(indices)\n",
    "\n",
    "# Build the train loader\n",
    "train_loader = torch.utils.data.DataLoader(train_dataset,\n",
    "                     batch_size=64, shuffle=False, sampler=torch.utils.data.SubsetRandomSampler(indices[:45000]))\n",
    "\n",
    "# Build the validation loader\n",
    "val_loader = torch.utils.data.DataLoader(train_dataset,\n",
    "                   batch_size=64, shuffle=False, sampler=torch.utils.data.SubsetRandomSampler(indices[45000:50000]))"
   ]
  },
  {
   "cell_type": "code",
   "execution_count": 5,
   "metadata": {},
   "outputs": [
    {
     "name": "stdout",
     "output_type": "stream",
     "text": [
      "Files already downloaded and verified\n"
     ]
    }
   ],
   "source": [
    "# CIFAR-10 test dataset and data loader\n",
    "test_batch_size = 10000\n",
    "\n",
    "test_dataset = datasets.CIFAR10('CIFAR10', train=False, download=True, transform=transform_tst)\n",
    "\n",
    "test_loader = torch.utils.data.DataLoader(test_dataset,\n",
    "                                          batch_size=test_batch_size,\n",
    "                                          shuffle=True)"
   ]
  },
  {
   "cell_type": "code",
   "execution_count": 6,
   "metadata": {},
   "outputs": [
    {
     "data": {
      "text/plain": [
       "10000"
      ]
     },
     "execution_count": 6,
     "metadata": {},
     "output_type": "execute_result"
    }
   ],
   "source": [
    "len(train_loader.dataset.data)\n",
    "len(test_loader.dataset.data)"
   ]
  },
  {
   "cell_type": "code",
   "execution_count": 7,
   "metadata": {},
   "outputs": [],
   "source": [
    "def mean_and_stddev(loader):\n",
    "    chsum = 0\n",
    "    for j, (images, labels) in enumerate(loader):\n",
    "        chsum += images.sum(dim=(0,2,3), keepdim=True)\n",
    "    mean = chsum/len(loader.dataset.data)/images.size(2)/images.size(3)\n",
    "    print(mean.view(-1))\n",
    "    chsum = 0\n",
    "    for j, (images, labels) in enumerate(loader):\n",
    "        chsum += (images - mean).pow(2).sum(dim=(0,2,3), keepdim=True)\n",
    "    std = torch.sqrt(chsum/(len(loader.dataset.data)*images.size(2)*images.size(3)-1))\n",
    "    print(std.view(-1))"
   ]
  },
  {
   "cell_type": "code",
   "execution_count": 8,
   "metadata": {},
   "outputs": [
    {
     "name": "stdout",
     "output_type": "stream",
     "text": [
      "tensor([-1.2799e-06, -1.7074e-04,  1.1819e-04])\n",
      "tensor([1.0001, 0.9999, 1.0000])\n"
     ]
    }
   ],
   "source": [
    "mean_and_stddev(train_loader)"
   ]
  },
  {
   "cell_type": "code",
   "execution_count": 9,
   "metadata": {},
   "outputs": [
    {
     "name": "stdout",
     "output_type": "stream",
     "text": [
      "tensor([5.7954e-05, 1.2926e-04, 3.4817e-05])\n",
      "tensor([0.9998, 1.0000, 1.0000])\n"
     ]
    }
   ],
   "source": [
    "mean_and_stddev(test_loader)"
   ]
  },
  {
   "cell_type": "code",
   "execution_count": 10,
   "metadata": {},
   "outputs": [
    {
     "data": {
      "text/plain": [
       "Normalize(mean=120.70756512369792, std=72.6896523164628)"
      ]
     },
     "execution_count": 10,
     "metadata": {},
     "output_type": "execute_result"
    }
   ],
   "source": [
    "c_mean_tr = np.mean(train_dataset.data)\n",
    "c_sd_tr = np.std(train_dataset.data[:,1,:,:])\n",
    "transforms.Normalize((c_mean_tr),(c_sd_tr))"
   ]
  },
  {
   "cell_type": "code",
   "execution_count": 11,
   "metadata": {},
   "outputs": [
    {
     "data": {
      "text/plain": [
       "Normalize(mean=121.52915475260417, std=64.06097012299574)"
      ]
     },
     "execution_count": 11,
     "metadata": {},
     "output_type": "execute_result"
    }
   ],
   "source": [
    "c_mean_tst = np.mean(test_dataset.data)\n",
    "c_sd_tst = np.std(test_dataset.data)\n",
    "transforms.Normalize((c_mean_tst),(c_sd_tst))"
   ]
  },
  {
   "cell_type": "markdown",
   "metadata": {},
   "source": [
    "#### Function to show individual image and associated label"
   ]
  },
  {
   "cell_type": "code",
   "execution_count": 14,
   "metadata": {},
   "outputs": [],
   "source": [
    "def show_image(image_num):\n",
    "    plt.imshow(train_loader.dataset.data[image_num,:,:])\n",
    "    target = train_loader.dataset.targets[image_num]\n",
    "    print(\"This image is a(n) \" + str(train_loader.dataset.classes[target])+\".\")"
   ]
  },
  {
   "cell_type": "code",
   "execution_count": 15,
   "metadata": {
    "scrolled": true
   },
   "outputs": [
    {
     "name": "stdout",
     "output_type": "stream",
     "text": [
      "This image is a(n) airplane.\n"
     ]
    },
    {
     "data": {
      "image/png": "[encoded data removed]",
      "text/plain": [
       "<Figure size 432x288 with 1 Axes>"
      ]
     },
     "metadata": {
      "needs_background": "light"
     },
     "output_type": "display_data"
    }
   ],
   "source": [
    "show_image(1701)"
   ]
  },
  {
   "cell_type": "code",
   "execution_count": 109,
   "metadata": {},
   "outputs": [],
   "source": [
    "class Neural_Network(nn.Module):\n",
    "    def __init__(self):\n",
    "        super(Neural_Network, self).__init__()\n",
    "        #self.pool = nn.MaxPool2d(2,2)\n",
    "        \n",
    "        self.fc1 = nn.Linear(32* 32 * 3, 512)\n",
    "        self.fc2 = nn.Linear(512, 256)\n",
    "        self.fc3 = nn.Linear(256, 128)\n",
    "        self.fc4 = nn.Linear(128, 10)\n",
    "        self.activ = nn.functional.relu\n",
    "        self.dr2 = nn.Dropout()\n",
    "        \n",
    "          \n",
    "    def forward(self, x):\n",
    "        x = self.dr2(x)\n",
    "        x = self.activ(self.fc1(x))\n",
    "        x = self.dr2(x)\n",
    "        x = self.activ(self.fc2(x))\n",
    "        x = self.dr2(x)\n",
    "        x = self.activ(self.fc3(x))\n",
    "        x = self.dr2(x)\n",
    "        x = self.fc4(x)\n",
    "        \n",
    "        return x"
   ]
  },
  {
   "cell_type": "markdown",
   "metadata": {},
   "source": [
    "# Initialize settings for Neural Network"
   ]
  },
  {
   "cell_type": "markdown",
   "metadata": {},
   "source": [
    "class Neural_Network(nn.Module):\n",
    "    def __init__(self):\n",
    "        super(Neural_Network, self).__init__()\n",
    "        self.conv1 = nn.Conv2d(3,6,5)\n",
    "        self.pool = nn.MaxPool2d(2,2)\n",
    "        self.conv2 = nn.Conv2d(6,16,5)\n",
    "        self.fc1 = nn.Linear(16*5*5, 120)\n",
    "        self.fc2 = nn.Linear(120, 84)\n",
    "        self.fc3 = nn.Linear(84, 10)\n",
    "        self.dr1 = nn.Dropout2d()\n",
    "        self.dr2 = nn.Dropout()\n",
    "        self.activ = nn.functional.relu\n",
    "        \n",
    "    def forward(self, x):\n",
    "        x = self.pool(self.activ(self.conv1(x)))\n",
    "        x = self.pool(self.activ(self.conv2(x)))\n",
    "        x = x.view(-1,16*5*5)\n",
    "        x = self.activ(self.fc1(x))\n",
    "        x = self.dr2(x)\n",
    "        x = self.activ(self.fc2(x))\n",
    "        x = self.dr2(x)\n",
    "        x = self.fc3(x)\n",
    "        \n",
    "        return x"
   ]
  },
  {
   "cell_type": "markdown",
   "metadata": {},
   "source": [
    "## Function to calculate classification prediction accuracy"
   ]
  },
  {
   "cell_type": "code",
   "execution_count": 17,
   "metadata": {},
   "outputs": [],
   "source": [
    "def accuracy(outputs, labels):\n",
    "    prediction = outputs.max(1, keepdim=True)[1].squeeze()\n",
    "    prediction_comp = torch.eq(prediction, labels)\n",
    "    prediction_comp = prediction_comp.sum().numpy() / torch.numel(prediction)\n",
    "    return prediction_comp * 100"
   ]
  },
  {
   "cell_type": "code",
   "execution_count": 110,
   "metadata": {},
   "outputs": [],
   "source": [
    "neural_network = Neural_Network()"
   ]
  },
  {
   "cell_type": "code",
   "execution_count": 112,
   "metadata": {},
   "outputs": [
    {
     "name": "stdout",
     "output_type": "stream",
     "text": [
      "Log -- Step size: 0.005, Momentum: 0.8, batch_size = 256\n",
      "Epoch 0/50 -> Tr. Loss = 2.01, Tst. Loss = 1.98, Tr. Acc = 25.7633131377551, Tst. Acc = 26.61\n",
      "Epoch 1/50 -> Tr. Loss = 1.95, Tst. Loss = 1.91, Tr. Acc = 28.997927295918366, Tst. Acc = 30.599999999999998\n",
      "Epoch 2/50 -> Tr. Loss = 1.90, Tst. Loss = 1.88, Tr. Acc = 31.23923788265306, Tst. Acc = 31.34\n",
      "Epoch 3/50 -> Tr. Loss = 1.87, Tst. Loss = 1.85, Tr. Acc = 32.68853635204081, Tst. Acc = 33.1\n",
      "Epoch 4/50 -> Tr. Loss = 1.84, Tst. Loss = 1.82, Tr. Acc = 33.36375956632653, Tst. Acc = 34.74\n",
      "Epoch 5/50 -> Tr. Loss = 1.81, Tst. Loss = 1.80, Tr. Acc = 34.779177295918366, Tst. Acc = 35.339999999999996\n",
      "Epoch 6/50 -> Tr. Loss = 1.80, Tst. Loss = 1.78, Tr. Acc = 35.41772959183673, Tst. Acc = 36.059999999999995\n",
      "Epoch 7/50 -> Tr. Loss = 1.78, Tst. Loss = 1.76, Tr. Acc = 36.134008290816325, Tst. Acc = 37.21\n",
      "Epoch 8/50 -> Tr. Loss = 1.76, Tst. Loss = 1.75, Tr. Acc = 36.941964285714285, Tst. Acc = 36.730000000000004\n",
      "Epoch 9/50 -> Tr. Loss = 1.75, Tst. Loss = 1.73, Tr. Acc = 37.481664540816325, Tst. Acc = 38.2\n",
      "Epoch 10/50 -> Tr. Loss = 1.74, Tst. Loss = 1.74, Tr. Acc = 38.08832908163265, Tst. Acc = 37.8\n",
      "Epoch 11/50 -> Tr. Loss = 1.73, Tst. Loss = 1.71, Tr. Acc = 38.258131377551024, Tst. Acc = 39.34\n",
      "Epoch 12/50 -> Tr. Loss = 1.71, Tst. Loss = 1.72, Tr. Acc = 39.04057716836735, Tst. Acc = 38.97\n",
      "Epoch 13/50 -> Tr. Loss = 1.70, Tst. Loss = 1.71, Tr. Acc = 39.207589285714285, Tst. Acc = 39.7\n",
      "Epoch 14/50 -> Tr. Loss = 1.69, Tst. Loss = 1.69, Tr. Acc = 39.810666454081634, Tst. Acc = 39.95\n",
      "Epoch 15/50 -> Tr. Loss = 1.68, Tst. Loss = 1.67, Tr. Acc = 40.379464285714285, Tst. Acc = 40.77\n",
      "Epoch 16/50 -> Tr. Loss = 1.68, Tst. Loss = 1.68, Tr. Acc = 40.4460299744898, Tst. Acc = 40.43\n",
      "Epoch 17/50 -> Tr. Loss = 1.66, Tst. Loss = 1.68, Tr. Acc = 40.88129783163265, Tst. Acc = 40.65\n",
      "Epoch 18/50 -> Tr. Loss = 1.66, Tst. Loss = 1.66, Tr. Acc = 41.23684630102041, Tst. Acc = 41.63\n",
      "Epoch 19/50 -> Tr. Loss = 1.65, Tst. Loss = 1.66, Tr. Acc = 41.292649872448976, Tst. Acc = 41.93\n",
      "Epoch 20/50 -> Tr. Loss = 1.64, Tst. Loss = 1.66, Tr. Acc = 42.002949617346935, Tst. Acc = 40.9\n",
      "Epoch 21/50 -> Tr. Loss = 1.63, Tst. Loss = 1.65, Tr. Acc = 41.97783801020408, Tst. Acc = 41.64\n",
      "Epoch 22/50 -> Tr. Loss = 1.62, Tst. Loss = 1.64, Tr. Acc = 42.338169642857146, Tst. Acc = 42.07\n",
      "Epoch 23/50 -> Tr. Loss = 1.62, Tst. Loss = 1.63, Tr. Acc = 42.35809948979592, Tst. Acc = 42.61\n",
      "Epoch 24/50 -> Tr. Loss = 1.61, Tst. Loss = 1.63, Tr. Acc = 42.82405931122449, Tst. Acc = 42.88\n",
      "Epoch 25/50 -> Tr. Loss = 1.61, Tst. Loss = 1.62, Tr. Acc = 42.86192602040816, Tst. Acc = 42.58\n",
      "Epoch 26/50 -> Tr. Loss = 1.60, Tst. Loss = 1.61, Tr. Acc = 43.517219387755105, Tst. Acc = 42.78\n",
      "Epoch 27/50 -> Tr. Loss = 1.59, Tst. Loss = 1.62, Tr. Acc = 43.4733737244898, Tst. Acc = 42.69\n",
      "Epoch 28/50 -> Tr. Loss = 1.59, Tst. Loss = 1.61, Tr. Acc = 43.980389030612244, Tst. Acc = 43.13\n",
      "Epoch 29/50 -> Tr. Loss = 1.58, Tst. Loss = 1.61, Tr. Acc = 43.66470025510204, Tst. Acc = 43.13\n",
      "Epoch 30/50 -> Tr. Loss = 1.58, Tst. Loss = 1.60, Tr. Acc = 44.115513392857146, Tst. Acc = 43.11\n",
      "Epoch 31/50 -> Tr. Loss = 1.57, Tst. Loss = 1.60, Tr. Acc = 44.366629464285715, Tst. Acc = 43.61\n",
      "Epoch 32/50 -> Tr. Loss = 1.56, Tst. Loss = 1.59, Tr. Acc = 44.701052295918366, Tst. Acc = 43.76\n",
      "Epoch 33/50 -> Tr. Loss = 1.56, Tst. Loss = 1.60, Tr. Acc = 44.91230867346939, Tst. Acc = 42.99\n",
      "Epoch 34/50 -> Tr. Loss = 1.56, Tst. Loss = 1.60, Tr. Acc = 45.01474808673469, Tst. Acc = 43.480000000000004\n",
      "Epoch 35/50 -> Tr. Loss = 1.55, Tst. Loss = 1.59, Tr. Acc = 45.494260204081634, Tst. Acc = 44.09\n",
      "Epoch 36/50 -> Tr. Loss = 1.54, Tst. Loss = 1.59, Tr. Acc = 45.372688137755105, Tst. Acc = 43.480000000000004\n",
      "Epoch 37/50 -> Tr. Loss = 1.54, Tst. Loss = 1.57, Tr. Acc = 45.41254783163265, Tst. Acc = 44.98\n",
      "Epoch 38/50 -> Tr. Loss = 1.53, Tst. Loss = 1.58, Tr. Acc = 45.57796556122449, Tst. Acc = 44.95\n",
      "Epoch 39/50 -> Tr. Loss = 1.53, Tst. Loss = 1.58, Tr. Acc = 45.748166454081634, Tst. Acc = 44.39\n",
      "Epoch 40/50 -> Tr. Loss = 1.52, Tst. Loss = 1.57, Tr. Acc = 46.35762117346939, Tst. Acc = 45.12\n",
      "Epoch 41/50 -> Tr. Loss = 1.52, Tst. Loss = 1.58, Tr. Acc = 45.96340880102041, Tst. Acc = 44.35\n",
      "Epoch 42/50 -> Tr. Loss = 1.52, Tst. Loss = 1.57, Tr. Acc = 46.255580357142854, Tst. Acc = 44.940000000000005\n",
      "Epoch 43/50 -> Tr. Loss = 1.52, Tst. Loss = 1.57, Tr. Acc = 46.388313137755105, Tst. Acc = 44.629999999999995\n",
      "Epoch 44/50 -> Tr. Loss = 1.51, Tst. Loss = 1.56, Tr. Acc = 46.52822066326531, Tst. Acc = 44.97\n",
      "Epoch 45/50 -> Tr. Loss = 1.50, Tst. Loss = 1.58, Tr. Acc = 46.73389668367347, Tst. Acc = 44.83\n",
      "Epoch 46/50 -> Tr. Loss = 1.51, Tst. Loss = 1.56, Tr. Acc = 46.890943877551024, Tst. Acc = 45.2\n",
      "Epoch 47/50 -> Tr. Loss = 1.50, Tst. Loss = 1.55, Tr. Acc = 47.0344387755102, Tst. Acc = 44.879999999999995\n",
      "Epoch 48/50 -> Tr. Loss = 1.49, Tst. Loss = 1.56, Tr. Acc = 47.05755739795919, Tst. Acc = 44.86\n",
      "Epoch 49/50 -> Tr. Loss = 1.49, Tst. Loss = 1.55, Tr. Acc = 47.16717155612245, Tst. Acc = 44.66\n",
      "Final Epoch 49 -> Loss = 1.494104883500508\n"
     ]
    }
   ],
   "source": [
    "criterion = nn.CrossEntropyLoss()\n",
    "number_of_epochs = 50\n",
    "step_size = 0.005\n",
    "momentum_parameter = 0.8\n",
    "optimiser = optim.SGD(neural_network.parameters(), lr=step_size, momentum=momentum_parameter, weight_decay=0.0001)\n",
    "\n",
    "running_loss = []\n",
    "running_test_loss = []\n",
    "running_training_accuracy = []\n",
    "running_training_accuracy.append(0)\n",
    "running_test_accuracy = []\n",
    "running_test_accuracy.append(0)\n",
    "\n",
    "print(\"Log -- Step size: {}, Momentum: {}, batch_size = {}\".format(step_size,momentum_parameter,train_batch_size))\n",
    "# loop for epochs\n",
    "for k in range(number_of_epochs):\n",
    "    epoch_loss = 0\n",
    "    training_accuracy = 0\n",
    "    \n",
    "    for j, (images, labels) in enumerate(train_loader):\n",
    "        optimiser.zero_grad()\n",
    "        outputs = neural_network(images.view(-1, 3072))\n",
    "        loss = criterion(outputs, labels)\n",
    "        loss.backward()\n",
    "        optimiser.step()\n",
    "        \n",
    "        epoch_loss += loss.item()\n",
    "        training_accuracy += accuracy(outputs, labels)\n",
    "    \n",
    "    running_loss.append(epoch_loss/len(train_loader))\n",
    "    running_training_accuracy.append(training_accuracy/len(train_loader))\n",
    "    \n",
    "    test_images, test_labels = iter(test_loader).next()\n",
    "    test_outputs = neural_network(test_images.view(-1,3072))\n",
    "    test_loss = criterion(test_outputs, test_labels).item()\n",
    "    running_test_loss.append(test_loss)\n",
    "    test_accuracy = accuracy(test_outputs, test_labels)\n",
    "    running_test_accuracy.append(test_accuracy)\n",
    "    \n",
    "    if k % 1 == 0:\n",
    "        print(\"Epoch {a}/{b} -> Tr. Loss = {c:.2f}, Tst. Loss = {d:.2f}, Tr. Acc = {e}, Tst. Acc = {f}\".format(a=k, b=number_of_epochs, c=running_loss[-1], d=running_test_loss[-1], e=running_training_accuracy[-1], f=running_test_accuracy[-1]))\n",
    "    \n",
    "    #if (len(running_test_loss) > 3) and (running_test_loss[-3] - running_test_loss[-1] < 0):\n",
    "        #break\n",
    "        \n",
    "print(\"Final Epoch {} -> Loss = {}\".format(k, running_loss[-1]))"
   ]
  },
  {
   "cell_type": "code",
   "execution_count": 113,
   "metadata": {},
   "outputs": [
    {
     "data": {
      "image/png": "[encoded data removed]",
      "text/plain": [
       "<Figure size 432x288 with 1 Axes>"
      ]
     },
     "metadata": {
      "needs_background": "light"
     },
     "output_type": "display_data"
    }
   ],
   "source": [
    "plt.plot(running_loss, label=\"Training Loss\")\n",
    "plt.plot(running_test_loss, label=\"Test Loss\")\n",
    "for i in range(len(running_test_loss)):\n",
    "    if running_test_loss[i] == np.min(running_test_loss):\n",
    "        lowest_index = i\n",
    "plt.scatter(lowest_index, running_test_loss[lowest_index], label=\"Lowest Test Loss\", c=\"r\")\n",
    "plt.scatter(lowest_index, running_loss[lowest_index], label=\"Corresponding Train Loss\", c=\"r\")\n",
    "plt.legend()\n",
    "plt.ylabel(\"Loss\")\n",
    "plt.xlabel(\"Epoch\")\n",
    "plt.show()"
   ]
  },
  {
   "cell_type": "code",
   "execution_count": 114,
   "metadata": {},
   "outputs": [
    {
     "data": {
      "image/png": "[encoded data removed]",
      "text/plain": [
       "<Figure size 432x288 with 1 Axes>"
      ]
     },
     "metadata": {
      "needs_background": "light"
     },
     "output_type": "display_data"
    }
   ],
   "source": [
    "plt.plot(running_training_accuracy, label=\"Training Accuracy\")\n",
    "plt.plot(running_test_accuracy, label=\"Test Accuracy\")\n",
    "for i in range(len(running_test_accuracy)):\n",
    "    if running_test_accuracy[i] == np.max(running_test_accuracy):\n",
    "        highest_index = i\n",
    "plt.scatter(highest_index, running_test_accuracy[highest_index], label=\"Highest Test Accuracy\", c=\"r\")\n",
    "plt.scatter(highest_index, running_training_accuracy[highest_index], label=\"Corresponding Train Accuracy\", c=\"r\")\n",
    "plt.legend()\n",
    "plt.ylabel(\"Model Prediction Accuracy\")\n",
    "plt.xlabel(\"Epoch\")\n",
    "plt.grid()\n",
    "plt.show()"
   ]
  },
  {
   "cell_type": "code",
   "execution_count": 35,
   "metadata": {},
   "outputs": [],
   "source": [
    "epsilon = 0.07"
   ]
  },
  {
   "cell_type": "code",
   "execution_count": 21,
   "metadata": {},
   "outputs": [
    {
     "name": "stdout",
     "output_type": "stream",
     "text": [
      "Files already downloaded and verified\n"
     ]
    }
   ],
   "source": [
    "fgsm_loader = torch.utils.data.DataLoader(\n",
    "    datasets.CIFAR10('CIFAR10', train=False, download=True, transform=transforms.Compose([\n",
    "            transforms.ToTensor(),\n",
    "            ])), \n",
    "        batch_size=1, shuffle=True)"
   ]
  },
  {
   "cell_type": "code",
   "execution_count": 22,
   "metadata": {},
   "outputs": [
    {
     "data": {
      "text/plain": [
       "torch.Size([1, 3, 32, 32])"
      ]
     },
     "execution_count": 22,
     "metadata": {},
     "output_type": "execute_result"
    }
   ],
   "source": [
    "iter(fgsm_loader).next()[0].size()"
   ]
  },
  {
   "cell_type": "code",
   "execution_count": 23,
   "metadata": {},
   "outputs": [],
   "source": [
    "def fgsm(images, epsilon, images_grad): \n",
    "    # need the orig image, \n",
    "    #loss - criterion = nn.CrossEntropyLoss(), \n",
    "    #gradient of the loss\n",
    "    sign=images_grad.sign()\n",
    "    print(sign.shape)\n",
    "    new_image = images + epsilon * sign.to(dtype=torch.double) # ??\n",
    "    return new_image"
   ]
  },
  {
   "cell_type": "code",
   "execution_count": 30,
   "metadata": {},
   "outputs": [],
   "source": [
    "import torch.nn.functional as F"
   ]
  },
  {
   "cell_type": "code",
   "execution_count": 36,
   "metadata": {},
   "outputs": [],
   "source": [
    "def testing_the_fsgm(neural_network, fgsm_loader, epsilon):\n",
    "    \n",
    "    correct = 0\n",
    "    total = 0\n",
    "\n",
    "    for j, (images, labels) in enumerate(fgsm_loader):\n",
    "\n",
    "\n",
    "        images.requires_grad = True\n",
    "        outputs = neural_network(images)\n",
    "        prediction = outputs.max(1, keepdim=True)[1].squeeze()\n",
    "\n",
    "        if prediction != labels:\n",
    "            continue\n",
    "        loss = F.nll_loss(outputs, labels)\n",
    "        optimiser.zero_grad()\n",
    "        loss.backward()\n",
    "        images_grad = images.grad.data\n",
    "\n",
    "        #perturbed_images = fgsm(images, epsilon, images_grad)\n",
    "\n",
    "        peturbed_images=images+epsilon*images_grad.sign()\n",
    "        outputs = neural_network(peturbed_images)\n",
    "        final_pred = outputs.max(1, keepdim=True)[1].squeeze()\n",
    "\n",
    "\n",
    "        total += 1\n",
    "        correct += (final_pred == labels).sum()\n",
    "\n",
    "    final_acc = correct/float(len(test_loader))\n",
    "    #print(\"Epsilon: {}\\tTest Accuracy = {} / {} = {}\".format(epsilon, correct, len(test_loader), final_acc))\n",
    "    print('Epsilon %.2f completed, Testing accuracy: %.2f %%' \n",
    "                   %(epsilon, final_acc))\n",
    "            #print(\"Epoch {a}/{b} -> Tr. Loss = {c:.2f}, Tst. Loss = {d:.2f}, Tr. Acc = {e}, Tst. Acc = {f}\"\n",
    "            #      .format(a=k, b=number_of_epochs, c=running_loss[-1], d=running_test_loss[-1], \n",
    "            #              e=running_training_accuracy[-1], f=running_test_accuracy[-1]))\n",
    "    \n",
    "    return final_acc"
   ]
  },
  {
   "cell_type": "code",
   "execution_count": 37,
   "metadata": {},
   "outputs": [
    {
     "name": "stdout",
     "output_type": "stream",
     "text": [
      "Epsilon 0.07 completed, Training accuracy: 614.00 %\n"
     ]
    }
   ],
   "source": [
    "test = testing_the_fsgm(neural_network, fgsm_loader, epsilon)"
   ]
  },
  {
   "cell_type": "code",
   "execution_count": null,
   "metadata": {},
   "outputs": [],
   "source": []
  },
  {
   "cell_type": "code",
   "execution_count": null,
   "metadata": {},
   "outputs": [],
   "source": []
  }
 ],
 "metadata": {
  "kernelspec": {
   "display_name": "Python 3",
   "language": "python",
   "name": "python3"
  },
  "language_info": {
   "codemirror_mode": {
    "name": "ipython",
    "version": 3
   },
   "file_extension": ".py",
   "mimetype": "text/x-python",
   "name": "python",
   "nbconvert_exporter": "python",
   "pygments_lexer": "ipython3",
   "version": "3.7.3"
  }
 },
 "nbformat": 4,
 "nbformat_minor": 2
}

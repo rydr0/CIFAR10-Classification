{
 "cells": [
  {
   "cell_type": "code",
   "execution_count": null,
   "metadata": {},
   "outputs": [],
   "source": [
    "def zca_matrix(data_tensor):\n",
    "    \"\"\"\n",
    "    Helper function: compute ZCA whitening matrix across a dataset ~ (N, C, H, W).\n",
    "    \"\"\"\n",
    "    # 1. flatten dataset:\n",
    "    X = data_tensor.view(data_tensor.shape[0], -1)\n",
    "    \n",
    "    # 2. zero-center the matrix:\n",
    "    X = X - torch.mean(X) / torch.std(X)\n",
    "    \n",
    "    # 3. compute covariances:\n",
    "    cov = torch.t(X) @ X\n",
    "\n",
    "    # 4. compute ZCA(X) == U @ (diag(1/S)) @ torch.t(V) where U, S, V = SVD(cov):\n",
    "    U, S, V = torch.svd(cov)\n",
    "    return (U @ torch.diag(torch.reciprocal(S)) @ torch.t(V)) "
   ]
  },
  {
   "cell_type": "code",
   "execution_count": null,
   "metadata": {},
   "outputs": [],
   "source": [
    "def get_zca_matrix():\n",
    "    train_loader = torch.utils.data.DataLoader(train_dataset_raw,\n",
    "                                               batch_size=50000,\n",
    "                                               shuffle=True)\n",
    "\n",
    "    images, labels = iter(train_loader).next()\n",
    "    zca = zca_matrix(images)\n",
    "    tr_zca_mean = torch.mean(images.view(images.shape[0], -1), dim=0)\n",
    "\n",
    "    return zca, tr_zca_mean"
   ]
  },
  {
   "cell_type": "code",
   "execution_count": null,
   "metadata": {},
   "outputs": [],
   "source": [
    "def get_zca_matrix_tst():\n",
    "    test_loader = torch.utils.data.DataLoader(test_dataset_raw,\n",
    "                                              batch_size=10000,\n",
    "                                              shuffle=True)\n",
    "\n",
    "    images, labels = iter(train_loader).next()\n",
    "    zca = zca_matrix(images.tr)\n",
    "    tr_zca_mean = torch.mean(images.view(images.shape[0], -1), dim=0)\n",
    "\n",
    "    return zca, tr_zca_mean"
   ]
  },
  {
   "cell_type": "code",
   "execution_count": null,
   "metadata": {},
   "outputs": [],
   "source": [
    "zca_matrix, tr_zca_mean = get_zca_matrix()\n",
    "print(zca_matrix.shape)\n",
    "print(tr_zca_mean.shape)"
   ]
  },
  {
   "cell_type": "code",
   "execution_count": null,
   "metadata": {},
   "outputs": [],
   "source": [
    "print(zca_matrix.shape)\n",
    "print(tr_zca_mean.shape)"
   ]
  },
  {
   "cell_type": "code",
   "execution_count": null,
   "metadata": {},
   "outputs": [],
   "source": [
    "def pgd_linf(model, X, y, epsilon=0.1, alpha=0.01, num_iter=20, randomize=False):\n",
    "    \"\"\" Construct FGSM adversarial examples on the examples X\"\"\"\n",
    "    if randomize:\n",
    "        delta = torch.rand_like(X, requires_grad=True)\n",
    "        delta.data = delta.data * 2 * epsilon - epsilon\n",
    "    else:\n",
    "        delta = torch.zeros_like(X, requires_grad=True)\n",
    "        \n",
    "    for t in range(num_iter):\n",
    "        loss = nn.CrossEntropyLoss()(model(X + delta), y)\n",
    "        loss.backward()\n",
    "        delta.data = (delta + alpha*delta.grad.detach().sign()).clamp(-epsilon,epsilon)\n",
    "        delta.grad.zero_()\n",
    "    return delta.detach()"
   ]
  },
  {
   "cell_type": "code",
   "execution_count": null,
   "metadata": {},
   "outputs": [],
   "source": [
    "def maxdrop(x, p):\n",
    "    channels = x.shape[1]\n",
    "    channels_list = []\n",
    "    for i in range(0,channels):\n",
    "        if torch.randint(0,11,(1,1)) * 0.1 <= p:\n",
    "            channels_list.append(i)\n",
    "    for channel in channels_list:\n",
    "        x[:,channel,:,:][x[:,channel,:,:]==torch.max(x[:,channel,:,:])] = 0\n",
    "    return x"
   ]
  },
  {
   "cell_type": "code",
   "execution_count": null,
   "metadata": {},
   "outputs": [],
   "source": [
    "test_tensor = torch.ones((32,3,32,32))\n",
    "test_tensor[0,0,0,0] = 5\n",
    "test_tensor[0,1,0,0] = 5\n",
    "test_tensor[0,2,0,0] = 5\n",
    "maxdrop(test_tensor, 0.5)"
   ]
  }
 ],
 "metadata": {
  "kernelspec": {
   "display_name": "Python 3",
   "language": "python",
   "name": "python3"
  },
  "language_info": {
   "codemirror_mode": {
    "name": "ipython",
    "version": 3
   },
   "file_extension": ".py",
   "mimetype": "text/x-python",
   "name": "python",
   "nbconvert_exporter": "python",
   "pygments_lexer": "ipython3",
   "version": "3.7.3"
  },
  "toc": {
   "base_numbering": 1,
   "nav_menu": {},
   "number_sections": true,
   "sideBar": true,
   "skip_h1_title": false,
   "title_cell": "Table of Contents",
   "title_sidebar": "Contents",
   "toc_cell": false,
   "toc_position": {},
   "toc_section_display": true,
   "toc_window_display": false
  },
  "varInspector": {
   "cols": {
    "lenName": 16,
    "lenType": 16,
    "lenVar": 40
   },
   "kernels_config": {
    "python": {
     "delete_cmd_postfix": "",
     "delete_cmd_prefix": "del ",
     "library": "var_list.py",
     "varRefreshCmd": "print(var_dic_list())"
    },
    "r": {
     "delete_cmd_postfix": ") ",
     "delete_cmd_prefix": "rm(",
     "library": "var_list.r",
     "varRefreshCmd": "cat(var_dic_list()) "
    }
   },
   "types_to_exclude": [
    "module",
    "function",
    "builtin_function_or_method",
    "instance",
    "_Feature"
   ],
   "window_display": false
  }
 },
 "nbformat": 4,
 "nbformat_minor": 2
}

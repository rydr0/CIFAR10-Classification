{
 "cells": [
  {
   "cell_type": "markdown",
   "metadata": {
    "colab_type": "text",
    "id": "6GSWhnNW4i4t"
   },
   "source": [
    "# Classification of CIFAR 10 Image Dataset"
   ]
  },
  {
   "cell_type": "markdown",
   "metadata": {
    "colab_type": "text",
    "id": "ldaJLTi34i4w"
   },
   "source": [
    "### Starting lines and necessary imports"
   ]
  },
  {
   "cell_type": "code",
   "execution_count": 3,
   "metadata": {
    "ExecuteTime": {
<<<<<<< Updated upstream
     "end_time": "2020-03-05T00:34:03.113296Z",
     "start_time": "2020-03-05T00:33:59.190262Z"
=======
     "end_time": "2020-03-05T21:39:30.844285Z",
     "start_time": "2020-03-05T21:39:26.714772Z"
>>>>>>> Stashed changes
    },
    "colab": {},
    "colab_type": "code",
    "id": "Dsz_EbPK4i4z"
   },
   "outputs": [],
   "source": [
    "from torchsummary import summary\n",
    "from torchvision import datasets, transforms\n",
    "import torchvision.transforms as transforms\n",
    "import torchvision\n",
    "from torch.autograd import Variable\n",
    "import torch.optim as optim\n",
    "import torch.nn as nn\n",
    "import torch\n",
    "import matplotlib.pyplot as plt\n",
    "import numpy as np\n",
    "%matplotlib inline\n",
    "\n",
    "\n",
    "%load_ext autoreload\n",
    "%autoreload 2"
   ]
  },
  {
   "cell_type": "markdown",
   "metadata": {},
   "source": [
    "Run the two cells below if using Google Colab (you need to have a folder called AdvMachineLearningProject with the files in it)"
   ]
  },
  {
   "cell_type": "code",
   "execution_count": 2,
   "metadata": {
    "colab": {
     "base_uri": "https://localhost:8080/",
     "height": 125
    },
    "colab_type": "code",
    "id": "5Tzf-Hgb4pFr",
    "outputId": "e8710589-8dee-4794-b5d8-a2365f528a58"
   },
   "outputs": [
    {
     "name": "stdout",
     "output_type": "stream",
     "text": [
      "Go to this URL in a browser: https://accounts.google.com/o/oauth2/auth?client_id=947318989803-6bn6qk8qdgf4n4g3pfee6491hc0brc4i.apps.googleusercontent.com&redirect_uri=urn%3aietf%3awg%3aoauth%3a2.0%3aoob&response_type=code&scope=email%20https%3a%2f%2fwww.googleapis.com%2fauth%2fdocs.test%20https%3a%2f%2fwww.googleapis.com%2fauth%2fdrive%20https%3a%2f%2fwww.googleapis.com%2fauth%2fdrive.photos.readonly%20https%3a%2f%2fwww.googleapis.com%2fauth%2fpeopleapi.readonly\n",
      "\n",
      "Enter your authorization code:\n",
      "··········\n",
      "Mounted at /drive\n"
     ]
    }
   ],
   "source": [
    "from google.colab import drive\n",
    "drive.mount('/drive')"
   ]
  },
  {
   "cell_type": "code",
   "execution_count": 6,
   "metadata": {
    "colab": {
     "base_uri": "https://localhost:8080/",
     "height": 35
    },
    "colab_type": "code",
    "id": "pPpRZwiy43Ev",
    "outputId": "6fd5541b-a90a-48c0-c179-5b1793192bc5"
   },
   "outputs": [
    {
     "name": "stdout",
     "output_type": "stream",
     "text": [
      "/drive/My Drive/AdvMachineLearningProject\n"
     ]
    }
   ],
   "source": [
    "cd /drive/My\\ Drive/AdvMachineLearningProject"
   ]
  },
  {
   "cell_type": "markdown",
   "metadata": {
    "colab_type": "text",
    "id": "TSTN90EK4i48"
   },
   "source": [
    "## Load CIFAR 10 Data using torchvision"
   ]
  },
  {
   "cell_type": "markdown",
   "metadata": {
    "colab_type": "text",
    "id": "-XZSdQej4i5T"
   },
   "source": [
    "### Data Pre-processing (Mean, Standard Deviation and Transforms)"
   ]
  },
  {
   "cell_type": "code",
   "execution_count": 4,
   "metadata": {
    "ExecuteTime": {
<<<<<<< Updated upstream
     "end_time": "2020-03-05T00:34:11.673368Z",
     "start_time": "2020-03-05T00:34:06.562985Z"
=======
     "end_time": "2020-03-05T21:46:13.973267Z",
     "start_time": "2020-03-05T21:39:34.007478Z"
>>>>>>> Stashed changes
    },
    "colab": {
     "base_uri": "https://localhost:8080/",
     "height": 52
    },
    "colab_type": "code",
    "id": "ea3SByUy4i5V",
    "outputId": "8252ad99-857e-40f5-fe1c-894503d9cc89"
   },
   "outputs": [
    {
     "name": "stdout",
     "output_type": "stream",
     "text": [
      "Downloading https://www.cs.toronto.edu/~kriz/cifar-10-python.tar.gz to CIFAR10\\cifar-10-python.tar.gz\n"
     ]
    },
    {
     "data": {
      "application/vnd.jupyter.widget-view+json": {
       "model_id": "d42279499f904292b8b7ea1eeb5b279e",
       "version_major": 2,
       "version_minor": 0
      },
      "text/plain": [
       "HBox(children=(IntProgress(value=1, bar_style='info', max=1), HTML(value='')))"
      ]
     },
     "metadata": {},
     "output_type": "display_data"
    },
    {
     "name": "stdout",
     "output_type": "stream",
     "text": [
      "Extracting CIFAR10\\cifar-10-python.tar.gz to CIFAR10\n",
      "Files already downloaded and verified\n"
     ]
    }
   ],
   "source": [
    "# Data Sets without any processing\n",
    "train_dataset_raw = datasets.CIFAR10('CIFAR10',\n",
    "                                     train=True,\n",
    "                                     download=True,\n",
    "                                     transform=transforms.ToTensor())\n",
    "test_dataset_raw = datasets.CIFAR10('CIFAR10',\n",
    "                                    train=False,\n",
    "                                    download=True,\n",
    "                                    transform=transforms.ToTensor())"
   ]
  },
  {
   "cell_type": "code",
   "execution_count": 5,
   "metadata": {
    "ExecuteTime": {
     "end_time": "2020-03-05T00:34:12.378806Z",
     "start_time": "2020-03-05T00:34:12.190316Z"
    },
    "colab": {},
    "colab_type": "code",
    "id": "n6Er1EsL4i5g"
   },
   "outputs": [],
   "source": [
    "def calculate_mean(loader):\n",
    "    images, labels = iter(loader).next()\n",
    "    mean = images.sum(dim=(0, 2, 3), keepdim=True)\n",
    "    mean = mean/images.shape[0]/images.size(2)/images.size(3)\n",
    "    return mean"
   ]
  },
  {
   "cell_type": "code",
   "execution_count": 6,
   "metadata": {
    "ExecuteTime": {
     "end_time": "2020-03-05T00:34:13.490930Z",
     "start_time": "2020-03-05T00:34:13.294509Z"
    },
    "colab": {},
    "colab_type": "code",
    "id": "ovR2qSlB4i5o"
   },
   "outputs": [],
   "source": [
    "def calculate_std(loader, mean):\n",
    "    images, labels = iter(loader).next()\n",
    "    std = (images - mean).pow(2).sum(dim=(0, 2, 3), keepdim=True)\n",
    "    std = torch.sqrt(std/(images.shape[0]*images.size(2)*images.size(3)-1))\n",
    "    return std"
   ]
  },
  {
   "cell_type": "code",
   "execution_count": 7,
   "metadata": {
    "ExecuteTime": {
     "end_time": "2020-03-05T00:34:15.169354Z",
     "start_time": "2020-03-05T00:34:14.958923Z"
    },
    "colab": {},
    "colab_type": "code",
    "id": "NrrltaFq4i5x"
   },
   "outputs": [],
   "source": [
    "def mean_and_stddev():\n",
    "    train_loader = torch.utils.data.DataLoader(train_dataset_raw,\n",
    "                                               batch_size=50000,\n",
    "                                               shuffle=True)\n",
    "    test_loader = torch.utils.data.DataLoader(test_dataset_raw,\n",
    "                                              batch_size=10000,\n",
    "                                              shuffle=True)\n",
    "\n",
    "    tr_mean = calculate_mean(train_loader)\n",
    "    tst_mean = calculate_mean(test_loader)\n",
    "    tr_std = calculate_std(train_loader, tr_mean)\n",
    "    tst_std = calculate_std(test_loader, tst_mean)\n",
    "\n",
    "    return tr_mean.view(-1), tst_mean.view(-1), tr_std.view(-1), tst_std.view(-1)"
   ]
  },
  {
   "cell_type": "markdown",
   "metadata": {},
   "source": [
    "#### Mean and Standard Deviation for Training and Test Datasets"
   ]
  },
  {
   "cell_type": "code",
   "execution_count": 8,
   "metadata": {
    "ExecuteTime": {
     "end_time": "2020-03-05T00:35:01.859899Z",
     "start_time": "2020-03-05T00:34:16.848139Z"
    },
    "colab": {
     "base_uri": "https://localhost:8080/",
     "height": 87
    },
    "colab_type": "code",
    "id": "Q91W6K8P4i56",
    "outputId": "03932748-410b-4929-a81f-7410beaf26da"
   },
   "outputs": [
    {
     "name": "stdout",
     "output_type": "stream",
     "text": [
      "tensor([0.4914, 0.4822, 0.4465])\n",
      "tensor([0.4942, 0.4851, 0.4504])\n",
      "tensor([0.2470, 0.2435, 0.2616])\n",
      "tensor([0.2467, 0.2429, 0.2616])\n"
     ]
    }
   ],
   "source": [
    "tr_mean, tst_mean, tr_std, tst_std = mean_and_stddev()\n",
    "print(tr_mean)\n",
    "print(tst_mean)\n",
    "print(tr_std)\n",
    "print(tst_std)"
   ]
  },
  {
   "cell_type": "markdown",
   "metadata": {},
   "source": [
    "#### Transformations"
   ]
  },
  {
   "cell_type": "code",
   "execution_count": 9,
   "metadata": {
    "ExecuteTime": {
     "end_time": "2020-03-05T00:35:02.643804Z",
     "start_time": "2020-03-05T00:35:02.422395Z"
    },
    "colab": {},
    "colab_type": "code",
    "id": "E8GIUBZE4i6B"
   },
   "outputs": [],
   "source": [
    "# Transformations on training set\n",
    "# Crop, Horizontal Flip, Tensor, Normalize (3 channels)\n",
    "transform_tr = transforms.Compose([\n",
    "    transforms.RandomCrop(32, padding=4),\n",
    "    transforms.RandomHorizontalFlip(),\n",
    "    transforms.ToTensor(),\n",
    "    transforms.Normalize(tr_mean, tr_std)\n",
    "])\n",
    "\n",
    "# Transformations on testing set\n",
    "# Tensor and Normalize (3 channels)\n",
    "transform_tst = transforms.Compose([\n",
    "    transforms.ToTensor(),\n",
    "    transforms.Normalize(tst_mean, tst_std)\n",
    "])"
   ]
  },
  {
   "cell_type": "markdown",
   "metadata": {
    "colab_type": "text",
    "id": "oPHpgoQO4i6K"
   },
   "source": [
    "### Load Training and Testing Data"
   ]
  },
  {
   "cell_type": "code",
   "execution_count": 10,
   "metadata": {
    "ExecuteTime": {
     "end_time": "2020-03-05T00:35:08.725536Z",
     "start_time": "2020-03-05T00:35:03.135488Z"
    },
    "colab": {
     "base_uri": "https://localhost:8080/",
     "height": 52
    },
    "colab_type": "code",
    "id": "V4OnwQ3d4i6N",
    "outputId": "4975ecf3-1b68-419b-e44f-55f03835b45a"
   },
   "outputs": [
    {
     "name": "stdout",
     "output_type": "stream",
     "text": [
      "Files already downloaded and verified\n",
      "Files already downloaded and verified\n"
     ]
    }
   ],
   "source": [
    "# Batch Size Hyperparameters\n",
    "train_batch_size = 32\n",
    "val_batch_size = 5000  # representing a 90/10 train/validation split\n",
    "test_batch_size = 5000  # smaller test batches due to memory constraints\n",
    "\n",
    "# to randomly shuffle data\n",
    "indices = np.arange(50000)\n",
    "np.random.shuffle(indices)\n",
    "\n",
    "# samplers to split into training and validation set\n",
    "tr_sampler = torch.utils.data.SubsetRandomSampler(indices[:45000])\n",
    "val_sampler = torch.utils.data.SubsetRandomSampler(indices[45000:50000])\n",
    "\n",
    "\n",
    "# CIFAR-10 training dataset and data loader\n",
    "train_dataset = datasets.CIFAR10('CIFAR10',\n",
    "                                 train=True,\n",
    "                                 download=True,\n",
    "                                 transform=transform_tr)\n",
    "\n",
    "train_loader = torch.utils.data.DataLoader(train_dataset,\n",
    "                                           batch_size=train_batch_size,\n",
    "                                           shuffle=False,\n",
    "                                           sampler=tr_sampler)\n",
    "val_loader = torch.utils.data.DataLoader(train_dataset,\n",
    "                                         batch_size=val_batch_size,\n",
    "                                         shuffle=False,\n",
    "                                         sampler=val_sampler)\n",
    "\n",
    "# CIFAR-10 test dataset and data loader\n",
    "test_dataset = datasets.CIFAR10('CIFAR10',\n",
    "                                train=False,\n",
    "                                download=True,\n",
    "                                transform=transform_tst)\n",
    "\n",
    "test_loader = torch.utils.data.DataLoader(test_dataset,\n",
    "                                          batch_size=test_batch_size,\n",
    "                                          shuffle=True)"
   ]
  },
  {
   "cell_type": "markdown",
   "metadata": {
    "colab_type": "text",
    "id": "ZLOUbI5F4i6V"
   },
   "source": [
    "#### Check batches and image/label shapes"
   ]
  },
  {
   "cell_type": "code",
   "execution_count": 11,
   "metadata": {
    "ExecuteTime": {
     "end_time": "2020-03-05T00:35:09.720877Z",
     "start_time": "2020-03-05T00:35:09.388765Z"
    },
    "colab": {
     "base_uri": "https://localhost:8080/",
     "height": 105
    },
    "colab_type": "code",
    "id": "Q_MP-CfJ4i6X",
    "outputId": "fd8eee4c-a8ff-44d1-fdfe-254eccbbe494"
   },
   "outputs": [
    {
     "name": "stdout",
     "output_type": "stream",
     "text": [
      "1407\n",
      "1\n",
      "2\n",
      "torch.Size([32, 3, 32, 32])\n",
      "torch.Size([32])\n"
     ]
    }
   ],
   "source": [
    "# check num of batches in each training epoch (should be 45,000/train_batch_size)\n",
    "print(len(train_loader))\n",
    "# check num of batches in each training epoch (should be 5,000/val_batch_size = 1)\n",
    "print(len(val_loader))\n",
    "# check num of batches in each test epoch (should be 10,000/test_batch_size)\n",
    "print(len(test_loader))\n",
    "# check shape\n",
    "images, labels = iter(train_loader).next()\n",
    "print(images.shape)  # shape = (train_batch_size, RGB channels, H, W)\n",
    "print(labels.shape)  # shape = (train_batch_size)"
   ]
  },
  {
   "cell_type": "markdown",
   "metadata": {
    "colab_type": "text",
    "id": "av6sQUP64i6e"
   },
   "source": [
    "#### Function to show individual image and associated label"
   ]
  },
  {
   "cell_type": "code",
   "execution_count": 12,
   "metadata": {
    "ExecuteTime": {
     "end_time": "2020-03-05T00:36:22.836027Z",
     "start_time": "2020-03-05T00:36:22.615577Z"
    },
    "colab": {},
    "colab_type": "code",
    "id": "Ol_bWLxo4i6j"
   },
   "outputs": [],
   "source": [
    "def show_images():\n",
    "    train_loader = torch.utils.data.DataLoader(train_dataset_raw,\n",
    "                                               batch_size=1,\n",
    "                                               shuffle=True)\n",
    "\n",
    "    fig = plt.figure(figsize=(32, 32))\n",
    "    columns = 5\n",
    "    rows = 4\n",
    "\n",
    "    ax = []\n",
    "    plt.rcParams.update({'font.size': 22})\n",
    "    for i in range(1, columns * rows + 1):\n",
    "        image, label = iter(train_loader).next()\n",
    "        ax.append(fig.add_subplot(rows, columns, i))\n",
    "        ax[-1].set_title(\n",
    "            str(label.item()) + \" - \" +\n",
    "            str(train_loader.dataset.classes[label]))\n",
    "        plt.imshow(np.transpose(image[0], (1, 2, 0)))\n",
    "    plt.show()\n",
    "    plt.rcParams.update({'font.size': 12})"
   ]
  },
  {
   "cell_type": "code",
   "execution_count": 13,
   "metadata": {
    "ExecuteTime": {
     "end_time": "2020-03-05T00:36:32.334445Z",
     "start_time": "2020-03-05T00:36:24.728539Z"
    },
    "colab": {},
    "colab_type": "code",
    "id": "E-Sk3EfB4i6r",
    "outputId": "a044b53b-6825-4187-b3bd-ea8dbba23741",
    "scrolled": false
   },
   "outputs": [
    {
     "data": {
      "image/png": "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\n",
      "text/plain": [
       "<Figure size 2304x2304 with 20 Axes>"
      ]
     },
     "metadata": {
      "needs_background": "light"
     },
     "output_type": "display_data"
    }
   ],
   "source": [
    "show_images()"
   ]
  },
  {
   "cell_type": "markdown",
   "metadata": {
    "colab_type": "text",
    "id": "yBGNZ9WP4i6z"
   },
   "source": [
    "# Helper functions for Neural Network"
   ]
  },
  {
   "cell_type": "code",
   "execution_count": 14,
   "metadata": {
    "ExecuteTime": {
     "end_time": "2020-03-05T00:36:40.408108Z",
     "start_time": "2020-03-05T00:36:40.206690Z"
    },
    "colab": {},
    "colab_type": "code",
    "id": "9rT9PnCc4i62"
   },
   "outputs": [],
   "source": [
    "def accuracy(outputs, labels):\n",
    "    \"\"\"Function for determining the accuracy of a set of model outputs compared to label values.\"\"\"\n",
    "    prediction = outputs.cpu().max(1, keepdim=True)[1].squeeze()\n",
    "    prediction_comp = torch.eq(prediction.cpu(), labels.cpu())\n",
    "    prediction_comp = prediction_comp.sum().numpy() / torch.numel(prediction.cpu())\n",
    "    return prediction_comp * 100"
   ]
  },
  {
   "cell_type": "code",
   "execution_count": 15,
   "metadata": {
    "ExecuteTime": {
     "end_time": "2020-03-05T00:36:42.109866Z",
     "start_time": "2020-03-05T00:36:41.914382Z"
    },
    "colab": {},
    "colab_type": "code",
    "id": "23GbaeTO4i7A"
   },
   "outputs": [],
   "source": [
    "def cpu_or_gpu():\n",
    "    \"\"\"Function to determine whether to train using a GPU or CPU.\"\"\"\n",
    "    train_on_gpu = torch.cuda.is_available()\n",
    "    if not train_on_gpu:\n",
    "        device = torch.device('cpu')\n",
    "    else:\n",
    "        device = torch.device('cuda:0')\n",
    "    return device"
   ]
  },
  {
   "cell_type": "code",
   "execution_count": 16,
   "metadata": {
    "ExecuteTime": {
     "end_time": "2020-03-05T00:36:43.817124Z",
     "start_time": "2020-03-05T00:36:43.620662Z"
    },
    "colab": {},
    "colab_type": "code",
    "id": "1nc5gfNc4i7J"
   },
   "outputs": [],
   "source": [
    "def reduce_step_size(iteration_cutoff, old_step_size, new_step_size, epoch):\n",
    "    \"\"\"Used in training to reduce step size\"\"\"\n",
    "    step_size = old_step_size\n",
    "    if epoch == iteration_cutoff:\n",
    "        step_size = new_step_size\n",
    "        if epoch == iteration_cutoff:\n",
    "            print(\n",
    "                \"Log -- Decreased Step size from {} to {}\".format(old_step_size, new_step_size))\n",
    "    return step_size"
   ]
  },
  {
   "cell_type": "markdown",
   "metadata": {
    "colab_type": "text",
    "id": "XQEd9taj4i7U"
   },
   "source": [
    "# Initialize settings for Neural Network"
   ]
  },
  {
   "cell_type": "markdown",
   "metadata": {},
   "source": [
    "## Main Model"
   ]
  },
  {
   "cell_type": "code",
   "execution_count": 17,
   "metadata": {
    "ExecuteTime": {
     "end_time": "2020-03-05T00:36:47.886231Z",
     "start_time": "2020-03-05T00:36:47.675743Z"
    },
    "colab": {},
    "colab_type": "code",
    "id": "NDvHbGwy4i7W"
   },
   "outputs": [],
   "source": [
    "class Neural_Network(nn.Module):\n",
    "    def __init__(self):\n",
    "        super(Neural_Network, self).__init__()\n",
    "\n",
    "        # 5 Convolutional Layers\n",
    "        # 100 - 3x3, 200 - 2x2, 300 - 2x2, 400 - 2x2, 500 - 2x2\n",
    "        self.conv1 = nn.Conv2d(3, 100, 3, padding=1)\n",
    "        self.conv2 = nn.Conv2d(100, 200, 2, padding=1)\n",
    "        self.conv3 = nn.Conv2d(200, 300, 2, padding=1)\n",
    "        self.conv4 = nn.Conv2d(300, 400, 2, padding=1)\n",
    "        self.conv5 = nn.Conv2d(400, 500, 2, padding=1)\n",
    "\n",
    "        # Max Pooling Layer (2 x 2)\n",
    "        self.pool = nn.MaxPool2d(2, 2)\n",
    "\n",
    "        # Fully Connected Output Layer\n",
    "        self.fc4 = nn.Linear(4500, 10)\n",
    "\n",
    "        # Activation function\n",
    "        self.activ1 = nn.ReLU()\n",
    "\n",
    "    def forward(self, x):\n",
    "        # 5 convolutional / pooling layers\n",
    "        x = self.activ1(self.conv1(x))\n",
    "        x = self.pool(x)\n",
    "        x = self.activ1(self.conv2(x))\n",
    "        x = self.pool(x)\n",
    "        x = self.activ1(self.conv3(x))\n",
    "        x = self.pool(x)\n",
    "        x = self.activ1(self.conv4(x))\n",
    "        x = self.pool(x)\n",
    "        x = self.activ1(self.conv5(x))\n",
    "\n",
    "        # Final Output Layer\n",
    "        x = x.view(x.shape[0], -1)\n",
    "        x = self.fc4(x)\n",
    "\n",
    "        return x"
   ]
  },
  {
   "cell_type": "markdown",
   "metadata": {
    "colab_type": "text",
    "id": "-YXZxf_84i7e"
   },
   "source": [
    "## Other attempts"
   ]
  },
  {
   "cell_type": "code",
   "execution_count": 0,
   "metadata": {
    "ExecuteTime": {
     "end_time": "2020-03-04T16:22:23.379325Z",
     "start_time": "2020-03-04T16:22:23.260135Z"
    },
    "colab": {},
    "colab_type": "code",
    "id": "iwISaGLD4i7g"
   },
   "outputs": [],
   "source": [
    "class Neural_Network_3(nn.Module):\n",
    "    def __init__(self):\n",
    "        super(Neural_Network, self).__init__()\n",
    "        # Convolutional Layer -\n",
    "        self.conv1 = nn.Conv2d(3, 6, 5, padding=1)\n",
    "\n",
    "        # 2nd Convolutional Layer -\n",
    "        self.conv2 = nn.Conv2d(6, 16, 5, padding=1)\n",
    "\n",
    "        # 3rd Convolutional Layer -\n",
    "        self.conv3 = nn.Conv2d(16, 32, 5, padding=1)\n",
    "\n",
    "        # Max Pooling layers -\n",
    "        self.pool = nn.MaxPool2d(2, 2)\n",
    "\n",
    "        # 3 fully connected layers\n",
    "        self.fc1 = nn.Linear(2048, 250)\n",
    "        self.fc2 = nn.Linear(250, 120)\n",
    "        self.fc3 = nn.Linear(120, 84)\n",
    "        self.fc4 = nn.Linear(84, 10)\n",
    "\n",
    "        #Dropout for regularization using default p=0.5\n",
    "        #self.dr1 = nn.Dropout2d()\n",
    "        self.dr2 = nn.Dropout()\n",
    "\n",
    "        # Activation function\n",
    "        self.activ1 = nn.ReLU()\n",
    "        #self.activ1 = nn.Tanh()\n",
    "        #self.activ2 = nn.LocalResponseNorm(2)\n",
    "\n",
    "    def forward(self, x):\n",
    "        # 2 convolutional / pooling layers\n",
    "        x = self.activ1(self.conv1(x))\n",
    "        x = self.activ1(self.conv2(x))\n",
    "        x = self.pool(x)\n",
    "        x = self.activ1(self.conv3(x))\n",
    "\n",
    "        # 2 fully connected hidden layers\n",
    "        x = x.view(x.shape[0], -1)\n",
    "        x = self.activ1(self.fc1(x))\n",
    "        x = self.dr2(x)\n",
    "        x = self.activ1(self.fc2(x))\n",
    "        x = self.dr2(x)\n",
    "        x = self.activ1(self.fc3(x))\n",
    "        x = self.dr2(x)\n",
    "\n",
    "        # final output layer\n",
    "        x = self.fc4(x)\n",
    "\n",
    "        return x"
   ]
  },
  {
   "cell_type": "code",
   "execution_count": 0,
   "metadata": {
    "colab": {},
    "colab_type": "code",
    "id": "0mCLpOB64i7o"
   },
   "outputs": [],
   "source": [
    "class Neural_Network2(nn.Module):\n",
    "    def __init__(self):\n",
    "        super(Neural_Network2, self).__init__()\n",
    "        # Convolutional Layer - \n",
    "        self.conv1 = nn.Conv2d(3,6,3)\n",
    "        \n",
    "        # 2nd Convolutional Layer -\n",
    "        self.conv2 = nn.Conv2d(6,6,5)\n",
    "        \n",
    "        # 3rd Convolutional Layer -\n",
    "        self.conv3 = nn.Conv2d(6,8,5)\n",
    "        \n",
    "        # 4th Convolutional Layer\n",
    "        self.conv4 = nn.Conv2d(8,10,5)\n",
    "        \n",
    "        # Max Pooling layers - \n",
    "        self.pool = nn.MaxPool2d(2,2)\n",
    "             \n",
    "        # 3 fully connected layers\n",
    "        self.fc1 = nn.Linear(40, 10)\n",
    "        \n",
    "        # Activation function\n",
    "        self.activ1 = nn.ReLU()\n",
    "        \n",
    "    def forward(self, x):\n",
    "        # 2 convolutional / pooling layers\n",
    "        x = self.activ1(self.conv1(x))\n",
    "        x = self.activ1(self.conv2(x))\n",
    "        x = self.pool(x)\n",
    "        x = self.activ1(self.conv3(x))\n",
    "        x = self.activ1(self.conv4(x))\n",
    "        x = self.pool(x)\n",
    "        \n",
    "        # 2 fully connected hidden layers\n",
    "        x = x.view(-1,40)\n",
    "        x = self.activ1(self.fc1(x))\n",
    "        \n",
    "        return x"
   ]
  },
  {
   "cell_type": "code",
   "execution_count": 0,
   "metadata": {
    "colab": {},
    "colab_type": "code",
    "id": "ER-kym1v4i7y"
   },
   "outputs": [],
   "source": [
    "#All fully connected layer architecture\n",
    "class Neural_Network_Linear(nn.Module):\n",
    "    def __init__(self):\n",
    "        super(Neural_Network, self).__init__()\n",
    "        self.fc1 = nn.Linear(32* 32 * 3, 256)\n",
    "        self.fc2 = nn.Linear(256,200)\n",
    "        self.fc3 = nn.Linear(200, 10)\n",
    "        self.activ = nn.functional.relu\n",
    "        \n",
    "    def forward(self, x):\n",
    "        x = self.activ(self.fc1(x))\n",
    "        x = self.activ(self.fc2(x))\n",
    "        x = self.fc3(x)\n",
    "        \n",
    "        return x"
   ]
  },
  {
   "cell_type": "code",
   "execution_count": 0,
   "metadata": {
    "ExecuteTime": {
     "end_time": "2020-03-03T14:26:40.134256Z",
     "start_time": "2020-03-03T14:26:40.034281Z"
    },
    "colab": {},
    "colab_type": "code",
    "id": "cmi-bKPd4i75"
   },
   "outputs": [],
   "source": [
    "#VGG16 architecture\n",
    "class CNN(nn.Module):\n",
    "    def __init__(self):\n",
    "        super(CNN,self).__init__()\n",
    "        \n",
    "        self.conv_layer = nn.Sequential(\n",
    "        \n",
    "            #1st conv layer block\n",
    "            nn.Conv2d(in_channels=3, out_channels=32, kernel_size=3, padding=1),\n",
    "            nn.BatchNorm2d(32),\n",
    "            nn.ReLU(inplace=True),\n",
    "            nn.Conv2d(in_channels=32, out_channels=64, kernel_size=3, padding=1),\n",
    "            nn.ReLU(inplace=True),\n",
    "            nn.MaxPool2d(kernel_size=2, stride=2),\n",
    "\n",
    "            #2nd conv layer block\n",
    "            nn.Conv2d(in_channels=64, out_channels=128, kernel_size=3, padding=1),\n",
    "            nn.BatchNorm2d(128),\n",
    "            nn.ReLU(inplace=True),\n",
    "            nn.Conv2d(in_channels=128, out_channels=128, kernel_size=3, padding=1),\n",
    "            nn.ReLU(inplace=True),\n",
    "            nn.MaxPool2d(kernel_size=2, stride=2),\n",
    "            nn.Dropout2d(p=0.05),\n",
    "\n",
    "            #3rd conv layer block\n",
    "            nn.Conv2d(in_channels=128, out_channels=256, kernel_size=3, padding=1),\n",
    "            nn.BatchNorm2d(256),\n",
    "            nn.ReLU(inplace=True),\n",
    "            nn.Conv2d(in_channels=256, out_channels=256, kernel_size=3, padding=1),\n",
    "            nn.ReLU(inplace=True),\n",
    "            nn.MaxPool2d(kernel_size=2, stride=2),\n",
    "        )\n",
    "        \n",
    "            #fully connected layers block\n",
    "        self.fc_layer = nn.Sequential(\n",
    "            nn.Dropout(p=0.1),\n",
    "            nn.Linear(4096,1024),\n",
    "            nn.ReLU(inplace=True),\n",
    "            nn.Linear(1024,512),\n",
    "            nn.ReLU(inplace=True),\n",
    "            nn.Dropout(p=0.1),\n",
    "            nn.Linear(512,10)\n",
    "        )\n",
    "        \n",
    "            #perform forward\n",
    "        def forward(self, x):\n",
    "            #conv layers\n",
    "            x = self.conv_layer(x)\n",
    "            #flatten\n",
    "            x = x.view(x.size(0), -1)\n",
    "            #fully connected layer\n",
    "            x = self.fc_layer(x)\n",
    "            \n",
    "            return x"
   ]
  },
  {
   "cell_type": "markdown",
   "metadata": {
    "colab_type": "text",
    "id": "FSnQKYqY4i8D"
   },
   "source": [
    "# Neural Network Training"
   ]
  },
  {
   "cell_type": "markdown",
   "metadata": {},
   "source": [
    "## Training new model"
   ]
  },
  {
   "cell_type": "code",
   "execution_count": 18,
   "metadata": {
    "ExecuteTime": {
     "end_time": "2020-03-05T00:36:53.961314Z",
     "start_time": "2020-03-05T00:36:53.714935Z"
    },
    "colab": {
     "base_uri": "https://localhost:8080/",
     "height": 193
    },
    "colab_type": "code",
    "id": "yjXsgr7E4i8F",
    "outputId": "e09fe667-80ba-46bc-d588-31d643e1f7b6"
   },
   "outputs": [
    {
     "data": {
      "text/plain": [
       "Neural_Network(\n",
       "  (conv1): Conv2d(3, 100, kernel_size=(3, 3), stride=(1, 1), padding=(1, 1))\n",
       "  (conv2): Conv2d(100, 200, kernel_size=(2, 2), stride=(1, 1), padding=(1, 1))\n",
       "  (conv3): Conv2d(200, 300, kernel_size=(2, 2), stride=(1, 1), padding=(1, 1))\n",
       "  (conv4): Conv2d(300, 400, kernel_size=(2, 2), stride=(1, 1), padding=(1, 1))\n",
       "  (conv5): Conv2d(400, 500, kernel_size=(2, 2), stride=(1, 1), padding=(1, 1))\n",
       "  (pool): MaxPool2d(kernel_size=2, stride=2, padding=0, dilation=1, ceil_mode=False)\n",
       "  (fc4): Linear(in_features=4500, out_features=10, bias=True)\n",
       "  (activ1): ReLU()\n",
       ")"
      ]
     },
     "execution_count": 18,
     "metadata": {},
     "output_type": "execute_result"
    }
   ],
   "source": [
    "# Use this cell if training a new model\n",
    "model = Neural_Network()\n",
    "device = cpu_or_gpu()\n",
    "model.to(device)"
   ]
  },
  {
   "cell_type": "markdown",
   "metadata": {},
   "source": [
    "## Loading previously saved model"
   ]
  },
  {
   "cell_type": "code",
   "execution_count": 19,
   "metadata": {
    "ExecuteTime": {
     "end_time": "2020-03-05T00:36:56.771414Z",
     "start_time": "2020-03-05T00:36:56.528114Z"
    },
    "colab": {
     "base_uri": "https://localhost:8080/",
     "height": 193
    },
    "colab_type": "code",
    "id": "4-XJAjsA4i8N",
    "outputId": "7e5379f6-c92d-438e-c5b6-3f37a24ed5ae"
   },
   "outputs": [
    {
     "data": {
      "text/plain": [
       "Neural_Network(\n",
       "  (conv1): Conv2d(3, 100, kernel_size=(3, 3), stride=(1, 1), padding=(1, 1))\n",
       "  (conv2): Conv2d(100, 200, kernel_size=(2, 2), stride=(1, 1), padding=(1, 1))\n",
       "  (conv3): Conv2d(200, 300, kernel_size=(2, 2), stride=(1, 1), padding=(1, 1))\n",
       "  (conv4): Conv2d(300, 400, kernel_size=(2, 2), stride=(1, 1), padding=(1, 1))\n",
       "  (conv5): Conv2d(400, 500, kernel_size=(2, 2), stride=(1, 1), padding=(1, 1))\n",
       "  (pool): MaxPool2d(kernel_size=2, stride=2, padding=0, dilation=1, ceil_mode=False)\n",
       "  (fc4): Linear(in_features=4500, out_features=10, bias=True)\n",
       "  (activ1): ReLU()\n",
       ")"
      ]
     },
     "execution_count": 19,
     "metadata": {},
     "output_type": "execute_result"
    }
   ],
   "source": [
    "# Use this cell if loading a saved model\n",
    "model = Neural_Network()\n",
    "model.load_state_dict(\n",
    "    torch.load(\"Conv-NN-ReLU-88.5testaccuracy\"))  # <------- Insert path of saved model as string here\n",
    "\n",
    "model.eval()\n",
    "\n",
    "device = cpu_or_gpu()\n",
    "model.to(device)"
   ]
  },
  {
   "cell_type": "markdown",
   "metadata": {},
   "source": [
    "## Model Summary"
   ]
  },
  {
   "cell_type": "code",
   "execution_count": 20,
   "metadata": {
    "ExecuteTime": {
     "end_time": "2020-03-05T00:36:59.356175Z",
     "start_time": "2020-03-05T00:36:58.974100Z"
    },
    "colab": {
     "base_uri": "https://localhost:8080/",
     "height": 510
    },
    "colab_type": "code",
    "id": "kXLrfa4o4i8V",
    "outputId": "6f81d85f-9981-4704-adf8-b22930b85f94"
   },
   "outputs": [
    {
     "name": "stdout",
     "output_type": "stream",
     "text": [
      "----------------------------------------------------------------\n",
      "        Layer (type)               Output Shape         Param #\n",
      "================================================================\n",
      "            Conv2d-1          [-1, 100, 32, 32]           2,800\n",
      "              ReLU-2          [-1, 100, 32, 32]               0\n",
      "         MaxPool2d-3          [-1, 100, 16, 16]               0\n",
      "            Conv2d-4          [-1, 200, 17, 17]          80,200\n",
      "              ReLU-5          [-1, 200, 17, 17]               0\n",
      "         MaxPool2d-6            [-1, 200, 8, 8]               0\n",
      "            Conv2d-7            [-1, 300, 9, 9]         240,300\n",
      "              ReLU-8            [-1, 300, 9, 9]               0\n",
      "         MaxPool2d-9            [-1, 300, 4, 4]               0\n",
      "           Conv2d-10            [-1, 400, 5, 5]         480,400\n",
      "             ReLU-11            [-1, 400, 5, 5]               0\n",
      "        MaxPool2d-12            [-1, 400, 2, 2]               0\n",
      "           Conv2d-13            [-1, 500, 3, 3]         800,500\n",
      "             ReLU-14            [-1, 500, 3, 3]               0\n",
      "           Linear-15                   [-1, 10]          45,010\n",
      "================================================================\n",
      "Total params: 1,649,210\n",
      "Trainable params: 1,649,210\n",
      "Non-trainable params: 0\n",
      "----------------------------------------------------------------\n",
      "Input size (MB): 0.01\n",
      "Forward/backward pass size (MB): 3.38\n",
      "Params size (MB): 6.29\n",
      "Estimated Total Size (MB): 9.68\n",
      "----------------------------------------------------------------\n"
     ]
    }
   ],
   "source": [
    "# Summary of layers, output shape, parameters, and size\n",
    "summary(model, input_size=(3, 32, 32))"
   ]
  },
  {
   "cell_type": "markdown",
   "metadata": {},
   "source": [
    "## Train function"
   ]
  },
  {
   "cell_type": "code",
   "execution_count": 21,
   "metadata": {
    "ExecuteTime": {
     "end_time": "2020-03-05T00:37:03.082195Z",
     "start_time": "2020-03-05T00:37:02.891714Z"
    },
    "colab": {},
    "colab_type": "code",
    "id": "Wk5pSTPL4i8e"
   },
   "outputs": [],
   "source": [
    "# Initialize cross entropy loss for use in training/testing\n",
    "criterion = nn.CrossEntropyLoss()"
   ]
  },
  {
   "cell_type": "code",
   "execution_count": 0,
   "metadata": {
    "ExecuteTime": {
     "end_time": "2020-03-04T14:52:09.096789Z",
     "start_time": "2020-03-04T14:52:08.901903Z"
    },
    "colab": {},
    "colab_type": "code",
    "id": "2UcjkYoy4i8m"
   },
   "outputs": [],
   "source": [
    "def train():\n",
    "    model.train()\n",
    "\n",
    "    # Initial hyperparameters\n",
    "    number_of_epochs = 100\n",
    "    step_size = 0.01\n",
    "    momentum_parameter = 0.9\n",
    "    weight_decay = 0\n",
    "    lambda1 = 0.001\n",
    "\n",
    "    # L1 Regularization\n",
    "    all_linear1_params = torch.cat(\n",
    "        [x.view(-1) for x in model.fc4.parameters()])\n",
    "    l1_regularization = lambda1 * torch.norm(all_linear1_params, 1)\n",
    "\n",
    "    # Initialize optimiser\n",
    "    optimiser = optim.SGD(model.parameters(),\n",
    "                          lr=step_size,\n",
    "                          momentum=momentum_parameter,\n",
    "                          weight_decay=weight_decay)\n",
    "\n",
    "    # initialize lists for running counts of loss and accuracy\n",
    "    running_loss = []\n",
    "    running_val_loss = []\n",
    "    running_training_accuracy = []\n",
    "    running_training_accuracy.append(0)\n",
    "    running_val_accuracy = []\n",
    "    running_val_accuracy.append(0)\n",
    "\n",
    "    print(\"Log -- Step size: {}, Momentum: {}, batch_size = {}\".format(\n",
    "        step_size, momentum_parameter, train_batch_size))\n",
    "    # loop for epochs\n",
    "    for k in range(number_of_epochs):\n",
    "        device = cpu_or_gpu()\n",
    "        model.to(device)\n",
    "\n",
    "        # initialize epoch loss and training accuracy\n",
    "        epoch_loss = 0\n",
    "        training_accuracy = 0\n",
    "\n",
    "        # handle reducing step size at various iterations\n",
    "\n",
    "        step_size = reduce_step_size(iteration_cutoff=10,\n",
    "                                     old_step_size=step_size,\n",
    "                                     new_step_size=0.001,\n",
    "                                     epoch=k)\n",
    "        step_size = reduce_step_size(iteration_cutoff=20,\n",
    "                                     old_step_size=step_size,\n",
    "                                     new_step_size=0.0005,\n",
    "                                     epoch=k)\n",
    "        step_size = reduce_step_size(iteration_cutoff=30,\n",
    "                                     old_step_size=step_size,\n",
    "                                     new_step_size=0.0001,\n",
    "                                     epoch=k)\n",
    "        step_size = reduce_step_size(iteration_cutoff=40,\n",
    "                                     old_step_size=step_size,\n",
    "                                     new_step_size=0.00005,\n",
    "                                     epoch=k)\n",
    "\n",
    "        optimiser = optim.SGD(model.parameters(),\n",
    "                              lr=step_size,\n",
    "                              momentum=momentum_parameter,\n",
    "                              weight_decay=weight_decay)\n",
    "\n",
    "        # Main Training Loop\n",
    "        for j, (images, labels) in enumerate(train_loader):\n",
    "            images, labels = images.to(device), labels.to(device)\n",
    "            optimiser.zero_grad()\n",
    "            outputs = model(images)\n",
    "            loss = criterion(outputs, labels) + l1_regularization/len(images)\n",
    "            loss.backward(retain_graph=True)\n",
    "            optimiser.step()\n",
    "\n",
    "            epoch_loss += loss.item()\n",
    "            training_accuracy += accuracy(outputs, labels)\n",
    "\n",
    "        # Caclulate average loss and accuracy for each epoch\n",
    "        running_loss.append(epoch_loss / len(train_loader))\n",
    "        running_training_accuracy.append(training_accuracy / len(train_loader))\n",
    "\n",
    "        # Validation test once per epoch\n",
    "        device = torch.device('cpu')\n",
    "        model.to(device)\n",
    "        val_images, val_labels = iter(val_loader).next()\n",
    "        val_images, val_labels = val_images.to(device), val_labels.to(device)\n",
    "        val_outputs = model(val_images) + l1_regularization/len(images)\n",
    "        val_loss = criterion(val_outputs, val_labels).item()\n",
    "\n",
    "        # Store validation loss and accuracy\n",
    "        running_val_loss.append(val_loss)\n",
    "        val_accuracy = accuracy(val_outputs, val_labels)\n",
    "        running_val_accuracy.append(val_accuracy)\n",
    "\n",
    "        if k % 1 == 0:\n",
    "            print(\n",
    "                \"Epoch {a}/{b} -> Tr. Loss = {c:.2f}, Val. Loss = {d:.2f}, Tr. Acc = {e:.2f}, Val. Acc = {f:.2f}\"\n",
    "                .format(a=k,\n",
    "                        b=number_of_epochs,\n",
    "                        c=running_loss[-1],\n",
    "                        d=running_val_loss[-1],\n",
    "                        e=running_training_accuracy[-1],\n",
    "                        f=running_val_accuracy[-1]))\n",
    "\n",
    "    print(\"Final Epoch {} -> Loss = {}\".format(k, running_loss[-1]))\n",
    "\n",
    "    return running_loss, running_val_loss, running_training_accuracy, running_val_accuracy"
   ]
  },
  {
   "cell_type": "code",
   "execution_count": 0,
   "metadata": {
    "ExecuteTime": {
     "end_time": "2020-03-04T15:53:57.246216Z",
     "start_time": "2020-03-04T14:52:12.741889Z"
    },
    "colab": {},
    "colab_type": "code",
    "id": "_P23_2xu4i8v",
    "outputId": "d3ce65e6-7586-4696-cf24-a4ccbd8e4276"
   },
   "outputs": [
    {
     "name": "stdout",
     "output_type": "stream",
     "text": [
      "Log -- Step size: 0.01, Momentum: 0.9, batch_size = 32\n",
      "Epoch 0/100 -> Tr. Loss = 0.65, Val. Loss = 0.59, Tr. Acc = 78.27, Val. Acc = 79.86\n",
      "Epoch 1/100 -> Tr. Loss = 0.57, Val. Loss = 0.52, Tr. Acc = 81.13, Val. Acc = 81.68\n",
      "Epoch 2/100 -> Tr. Loss = 0.54, Val. Loss = 0.49, Tr. Acc = 82.17, Val. Acc = 83.44\n",
      "Epoch 3/100 -> Tr. Loss = 0.50, Val. Loss = 0.50, Tr. Acc = 83.52, Val. Acc = 82.76\n",
      "Epoch 4/100 -> Tr. Loss = 0.48, Val. Loss = 0.49, Tr. Acc = 84.57, Val. Acc = 83.32\n",
      "Epoch 5/100 -> Tr. Loss = 0.46, Val. Loss = 0.46, Tr. Acc = 84.82, Val. Acc = 84.22\n",
      "Epoch 6/100 -> Tr. Loss = 0.44, Val. Loss = 0.50, Tr. Acc = 85.92, Val. Acc = 82.56\n",
      "Epoch 7/100 -> Tr. Loss = 0.42, Val. Loss = 0.47, Tr. Acc = 86.30, Val. Acc = 84.10\n",
      "Epoch 8/100 -> Tr. Loss = 0.41, Val. Loss = 0.50, Tr. Acc = 86.72, Val. Acc = 83.06\n",
      "Epoch 9/100 -> Tr. Loss = 0.40, Val. Loss = 0.47, Tr. Acc = 86.98, Val. Acc = 84.28\n",
      "Log -- Decreased Step size from 0.01 to 0.001\n",
      "Epoch 10/100 -> Tr. Loss = 0.27, Val. Loss = 0.37, Tr. Acc = 91.43, Val. Acc = 87.62\n",
      "Epoch 11/100 -> Tr. Loss = 0.24, Val. Loss = 0.35, Tr. Acc = 92.74, Val. Acc = 88.40\n",
      "Epoch 12/100 -> Tr. Loss = 0.23, Val. Loss = 0.36, Tr. Acc = 93.10, Val. Acc = 88.06\n",
      "Epoch 13/100 -> Tr. Loss = 0.22, Val. Loss = 0.34, Tr. Acc = 93.40, Val. Acc = 88.40\n",
      "Epoch 14/100 -> Tr. Loss = 0.21, Val. Loss = 0.34, Tr. Acc = 93.73, Val. Acc = 88.70\n",
      "Epoch 15/100 -> Tr. Loss = 0.20, Val. Loss = 0.35, Tr. Acc = 93.91, Val. Acc = 88.62\n",
      "Epoch 16/100 -> Tr. Loss = 0.19, Val. Loss = 0.35, Tr. Acc = 94.29, Val. Acc = 88.86\n",
      "Epoch 17/100 -> Tr. Loss = 0.19, Val. Loss = 0.34, Tr. Acc = 94.42, Val. Acc = 88.96\n",
      "Epoch 18/100 -> Tr. Loss = 0.18, Val. Loss = 0.34, Tr. Acc = 94.62, Val. Acc = 89.16\n",
      "Epoch 19/100 -> Tr. Loss = 0.18, Val. Loss = 0.35, Tr. Acc = 94.86, Val. Acc = 89.08\n",
      "Log -- Decreased Step size from 0.001 to 0.0005\n",
      "Epoch 20/100 -> Tr. Loss = 0.17, Val. Loss = 0.34, Tr. Acc = 95.04, Val. Acc = 89.10\n",
      "Epoch 21/100 -> Tr. Loss = 0.17, Val. Loss = 0.36, Tr. Acc = 95.10, Val. Acc = 88.98\n",
      "Epoch 22/100 -> Tr. Loss = 0.16, Val. Loss = 0.35, Tr. Acc = 95.17, Val. Acc = 89.12\n",
      "Epoch 23/100 -> Tr. Loss = 0.16, Val. Loss = 0.34, Tr. Acc = 95.44, Val. Acc = 89.22\n",
      "Epoch 24/100 -> Tr. Loss = 0.16, Val. Loss = 0.34, Tr. Acc = 95.58, Val. Acc = 88.98\n",
      "Epoch 25/100 -> Tr. Loss = 0.16, Val. Loss = 0.34, Tr. Acc = 95.50, Val. Acc = 89.34\n",
      "Epoch 26/100 -> Tr. Loss = 0.15, Val. Loss = 0.36, Tr. Acc = 95.64, Val. Acc = 88.92\n",
      "Epoch 27/100 -> Tr. Loss = 0.15, Val. Loss = 0.34, Tr. Acc = 95.74, Val. Acc = 89.00\n",
      "Epoch 28/100 -> Tr. Loss = 0.15, Val. Loss = 0.34, Tr. Acc = 95.80, Val. Acc = 90.24\n",
      "Epoch 29/100 -> Tr. Loss = 0.15, Val. Loss = 0.34, Tr. Acc = 95.80, Val. Acc = 89.22\n",
      "Log -- Decreased Step size from 0.0005 to 0.0001\n",
      "Epoch 30/100 -> Tr. Loss = 0.14, Val. Loss = 0.34, Tr. Acc = 96.00, Val. Acc = 89.28\n",
      "Epoch 31/100 -> Tr. Loss = 0.14, Val. Loss = 0.33, Tr. Acc = 96.11, Val. Acc = 90.04\n",
      "Epoch 32/100 -> Tr. Loss = 0.14, Val. Loss = 0.34, Tr. Acc = 96.09, Val. Acc = 89.08\n",
      "Epoch 33/100 -> Tr. Loss = 0.14, Val. Loss = 0.34, Tr. Acc = 96.19, Val. Acc = 89.32\n",
      "Epoch 34/100 -> Tr. Loss = 0.14, Val. Loss = 0.35, Tr. Acc = 96.18, Val. Acc = 89.48\n",
      "Epoch 35/100 -> Tr. Loss = 0.14, Val. Loss = 0.35, Tr. Acc = 96.27, Val. Acc = 89.26\n",
      "Epoch 36/100 -> Tr. Loss = 0.14, Val. Loss = 0.34, Tr. Acc = 96.22, Val. Acc = 89.44\n",
      "Epoch 37/100 -> Tr. Loss = 0.14, Val. Loss = 0.34, Tr. Acc = 96.30, Val. Acc = 89.40\n",
      "Epoch 38/100 -> Tr. Loss = 0.14, Val. Loss = 0.35, Tr. Acc = 96.22, Val. Acc = 89.60\n",
      "Epoch 39/100 -> Tr. Loss = 0.14, Val. Loss = 0.35, Tr. Acc = 96.09, Val. Acc = 90.02\n",
      "Log -- Decreased Step size from 0.0001 to 5e-05\n",
      "Epoch 40/100 -> Tr. Loss = 0.14, Val. Loss = 0.34, Tr. Acc = 96.29, Val. Acc = 89.48\n",
      "Epoch 41/100 -> Tr. Loss = 0.14, Val. Loss = 0.36, Tr. Acc = 96.25, Val. Acc = 88.82\n",
      "Epoch 42/100 -> Tr. Loss = 0.13, Val. Loss = 0.35, Tr. Acc = 96.30, Val. Acc = 89.04\n",
      "Epoch 43/100 -> Tr. Loss = 0.13, Val. Loss = 0.33, Tr. Acc = 96.30, Val. Acc = 89.90\n",
      "Epoch 44/100 -> Tr. Loss = 0.13, Val. Loss = 0.36, Tr. Acc = 96.34, Val. Acc = 89.28\n",
      "Epoch 45/100 -> Tr. Loss = 0.13, Val. Loss = 0.36, Tr. Acc = 96.40, Val. Acc = 89.06\n"
     ]
    },
    {
     "ename": "KeyboardInterrupt",
     "evalue": "",
     "output_type": "error",
     "traceback": [
      "\u001b[1;31m---------------------------------------------------------------------------\u001b[0m",
      "\u001b[1;31mKeyboardInterrupt\u001b[0m                         Traceback (most recent call last)",
      "\u001b[1;32m<ipython-input-21-2c57a5352f2c>\u001b[0m in \u001b[0;36m<module>\u001b[1;34m()\u001b[0m\n\u001b[1;32m----> 1\u001b[1;33m \u001b[0mrunning_loss\u001b[0m\u001b[1;33m,\u001b[0m \u001b[0mrunning_val_loss\u001b[0m\u001b[1;33m,\u001b[0m \u001b[0mrunning_training_accuracy\u001b[0m\u001b[1;33m,\u001b[0m \u001b[0mrunning_val_accuracy\u001b[0m \u001b[1;33m=\u001b[0m \u001b[0mtrain\u001b[0m\u001b[1;33m(\u001b[0m\u001b[1;33m)\u001b[0m\u001b[1;33m\u001b[0m\u001b[0m\n\u001b[0m",
      "\u001b[1;32m<ipython-input-20-79f8f9d9d2d6>\u001b[0m in \u001b[0;36mtrain\u001b[1;34m()\u001b[0m\n\u001b[0;32m     72\u001b[0m             \u001b[0moptimiser\u001b[0m\u001b[1;33m.\u001b[0m\u001b[0mstep\u001b[0m\u001b[1;33m(\u001b[0m\u001b[1;33m)\u001b[0m\u001b[1;33m\u001b[0m\u001b[0m\n\u001b[0;32m     73\u001b[0m \u001b[1;33m\u001b[0m\u001b[0m\n\u001b[1;32m---> 74\u001b[1;33m             \u001b[0mepoch_loss\u001b[0m \u001b[1;33m+=\u001b[0m \u001b[0mloss\u001b[0m\u001b[1;33m.\u001b[0m\u001b[0mitem\u001b[0m\u001b[1;33m(\u001b[0m\u001b[1;33m)\u001b[0m\u001b[1;33m\u001b[0m\u001b[0m\n\u001b[0m\u001b[0;32m     75\u001b[0m             \u001b[0mtraining_accuracy\u001b[0m \u001b[1;33m+=\u001b[0m \u001b[0maccuracy\u001b[0m\u001b[1;33m(\u001b[0m\u001b[0moutputs\u001b[0m\u001b[1;33m,\u001b[0m \u001b[0mlabels\u001b[0m\u001b[1;33m)\u001b[0m\u001b[1;33m\u001b[0m\u001b[0m\n\u001b[0;32m     76\u001b[0m \u001b[1;33m\u001b[0m\u001b[0m\n",
      "\u001b[1;31mKeyboardInterrupt\u001b[0m: "
     ]
    }
   ],
   "source": [
    "running_loss, running_val_loss, running_training_accuracy, running_val_accuracy = train()"
   ]
  },
  {
   "cell_type": "markdown",
   "metadata": {
    "colab_type": "text",
    "id": "dJvsPHdK4i83"
   },
   "source": [
    "### Training Epoch Loss and Accuracy Visualizations"
   ]
  },
  {
   "cell_type": "code",
   "execution_count": 0,
   "metadata": {
    "ExecuteTime": {
     "end_time": "2020-03-04T15:54:01.000479Z",
     "start_time": "2020-03-04T15:54:00.880543Z"
    },
    "colab": {},
    "colab_type": "code",
    "id": "YYDuywwX4i85",
    "outputId": "15845407-b789-40cc-b31b-cc90ff8c0d41"
   },
   "outputs": [
    {
     "ename": "NameError",
     "evalue": "name 'running_loss' is not defined",
     "output_type": "error",
     "traceback": [
      "\u001b[1;31m---------------------------------------------------------------------------\u001b[0m",
      "\u001b[1;31mNameError\u001b[0m                                 Traceback (most recent call last)",
      "\u001b[1;32m<ipython-input-22-283ba322a910>\u001b[0m in \u001b[0;36m<module>\u001b[1;34m()\u001b[0m\n\u001b[1;32m----> 1\u001b[1;33m \u001b[0mplt\u001b[0m\u001b[1;33m.\u001b[0m\u001b[0mplot\u001b[0m\u001b[1;33m(\u001b[0m\u001b[0mrunning_loss\u001b[0m\u001b[1;33m,\u001b[0m \u001b[0mlabel\u001b[0m\u001b[1;33m=\u001b[0m\u001b[1;34m\"Training Loss\"\u001b[0m\u001b[1;33m)\u001b[0m\u001b[1;33m\u001b[0m\u001b[0m\n\u001b[0m\u001b[0;32m      2\u001b[0m \u001b[0mplt\u001b[0m\u001b[1;33m.\u001b[0m\u001b[0mplot\u001b[0m\u001b[1;33m(\u001b[0m\u001b[0mrunning_val_loss\u001b[0m\u001b[1;33m,\u001b[0m \u001b[0mlabel\u001b[0m\u001b[1;33m=\u001b[0m\u001b[1;34m\"Validation Loss\"\u001b[0m\u001b[1;33m)\u001b[0m\u001b[1;33m\u001b[0m\u001b[0m\n\u001b[0;32m      3\u001b[0m \u001b[1;32mfor\u001b[0m \u001b[0mi\u001b[0m \u001b[1;32min\u001b[0m \u001b[0mrange\u001b[0m\u001b[1;33m(\u001b[0m\u001b[0mlen\u001b[0m\u001b[1;33m(\u001b[0m\u001b[0mrunning_val_loss\u001b[0m\u001b[1;33m)\u001b[0m\u001b[1;33m)\u001b[0m\u001b[1;33m:\u001b[0m\u001b[1;33m\u001b[0m\u001b[0m\n\u001b[0;32m      4\u001b[0m     \u001b[1;32mif\u001b[0m \u001b[0mrunning_val_loss\u001b[0m\u001b[1;33m[\u001b[0m\u001b[0mi\u001b[0m\u001b[1;33m]\u001b[0m \u001b[1;33m==\u001b[0m \u001b[0mnp\u001b[0m\u001b[1;33m.\u001b[0m\u001b[0mmin\u001b[0m\u001b[1;33m(\u001b[0m\u001b[0mrunning_val_loss\u001b[0m\u001b[1;33m)\u001b[0m\u001b[1;33m:\u001b[0m\u001b[1;33m\u001b[0m\u001b[0m\n\u001b[0;32m      5\u001b[0m         \u001b[0mlowest_index\u001b[0m \u001b[1;33m=\u001b[0m \u001b[0mi\u001b[0m\u001b[1;33m\u001b[0m\u001b[0m\n",
      "\u001b[1;31mNameError\u001b[0m: name 'running_loss' is not defined"
     ]
    }
   ],
   "source": [
    "plt.plot(running_loss, label=\"Training Loss\")\n",
    "plt.plot(running_val_loss, label=\"Validation Loss\")\n",
    "for i in range(len(running_val_loss)):\n",
    "    if running_val_loss[i] == np.min(running_val_loss):\n",
    "        lowest_index = i\n",
    "plt.scatter(lowest_index,\n",
    "            running_val_loss[lowest_index],\n",
    "            label=\"Lowest Validation Loss\",\n",
    "            c=\"r\")\n",
    "plt.scatter(lowest_index,\n",
    "            running_loss[lowest_index],\n",
    "            label=\"Corresponding Train Loss\",\n",
    "            c=\"r\")\n",
    "plt.legend()\n",
    "plt.ylabel(\"Loss\")\n",
    "plt.xlabel(\"Epoch\")\n",
    "plt.grid()\n",
    "plt.show()"
   ]
  },
  {
   "cell_type": "code",
   "execution_count": 0,
   "metadata": {
    "ExecuteTime": {
     "end_time": "2020-03-03T17:10:13.055282Z",
     "start_time": "2020-03-03T17:10:12.820407Z"
    },
    "colab": {},
    "colab_type": "code",
    "id": "lenIpOC-4i9B",
    "scrolled": true
   },
   "outputs": [],
   "source": [
    "plt.plot(running_training_accuracy, label=\"Training Accuracy\")\n",
    "plt.plot(running_val_accuracy, label=\"Test Accuracy\")\n",
    "for i in range(len(running_val_accuracy)):\n",
    "    if running_val_accuracy[i] == np.max(running_val_accuracy):\n",
    "        highest_index = i\n",
    "plt.scatter(highest_index,\n",
    "            running_val_accuracy[highest_index],\n",
    "            label=\"Highest Validation Accuracy\",\n",
    "            c=\"r\")\n",
    "plt.scatter(highest_index,\n",
    "            running_training_accuracy[highest_index],\n",
    "            label=\"Corresponding Train Accuracy\",\n",
    "            c=\"r\")\n",
    "plt.legend()\n",
    "plt.ylabel(\"Model Accuracy\")\n",
    "plt.xlabel(\"Epoch\")\n",
    "plt.grid()\n",
    "plt.show()"
   ]
  },
  {
   "cell_type": "markdown",
   "metadata": {
    "ExecuteTime": {
     "end_time": "2020-03-05T01:03:52.160790Z",
     "start_time": "2020-03-05T01:03:52.154815Z"
    }
   },
   "source": [
    "# Saving Model State_Dict"
   ]
  },
  {
   "cell_type": "code",
   "execution_count": 0,
   "metadata": {
    "ExecuteTime": {
     "end_time": "2020-03-04T16:13:57.860967Z",
     "start_time": "2020-03-04T16:13:57.611064Z"
    },
    "colab": {},
    "colab_type": "code",
    "id": "XsdZjfnY4i9n"
   },
   "outputs": [],
   "source": [
    "# For saving neural network parameters\n",
    "torch.save(model.state_dict(),\n",
    "           \"Name_Here\")  # <----- make sure to update the path if saving new model"
   ]
  },
  {
   "cell_type": "markdown",
   "metadata": {
    "colab_type": "text",
    "id": "y5Q1kSXr4i9H"
   },
   "source": [
    "# Neural Network Testing"
   ]
  },
  {
   "cell_type": "markdown",
   "metadata": {},
   "source": [
    "## Test on test dataset"
   ]
  },
  {
   "cell_type": "code",
   "execution_count": 22,
   "metadata": {
    "ExecuteTime": {
     "end_time": "2020-03-05T00:37:10.560708Z",
     "start_time": "2020-03-05T00:37:10.362229Z"
    },
    "colab": {},
    "colab_type": "code",
    "id": "b72_n5c74i9J"
   },
   "outputs": [],
   "source": [
    "# Accuracy on full test dataset (10,000 test images)\n",
    "def test_on_testing_data():\n",
    "    \"\"\"for testing model on test set (10,000 test images), batch size of 1000 \n",
    "    is used for computational purposes and accuracy/loss are averaged after\"\"\"\n",
    "\n",
    "    criterion = nn.CrossEntropyLoss()  # in case not previously defined\n",
    "\n",
    "    # initialize network to use CPU\n",
    "    device = torch.device('cpu')\n",
    "    model.to(device)\n",
    "    model.eval()\n",
    "\n",
    "    # initialize accuracy and loss\n",
    "    test_accuracy = 0\n",
    "    epoch_loss = 0\n",
    "\n",
    "    # loop through test batches and send to CPU\n",
    "    for j, (test_images, test_labels) in enumerate(test_loader):\n",
    "        test_images, test_labels = test_images.to(\n",
    "            device), test_labels.to(device)\n",
    "\n",
    "        # run images through model to create outputs\n",
    "        test_outputs = model(test_images)\n",
    "\n",
    "        # compare outputs to actual labels\n",
    "        epoch_loss += criterion(test_outputs, test_labels).item()\n",
    "        test_accuracy += accuracy(test_outputs, test_labels)\n",
    "\n",
    "    # average over the number of batches\n",
    "    test_accuracy = test_accuracy / len(test_loader)\n",
    "    test_loss = epoch_loss / len(test_loader)\n",
    "\n",
    "    # print results\n",
    "    print(\"Test Loss is : {a:.2f}\".format(a=test_loss))\n",
    "    print(\"Test Accuracy is : {a:.2f}%\".format(a=test_accuracy))"
   ]
  },
  {
   "cell_type": "code",
   "execution_count": 22,
   "metadata": {
    "ExecuteTime": {
     "end_time": "2020-03-04T16:24:32.545088Z",
     "start_time": "2020-03-04T16:23:34.857789Z"
    },
    "colab": {
     "base_uri": "https://localhost:8080/",
     "height": 52
    },
    "colab_type": "code",
    "id": "siywUy4t4i9P",
    "outputId": "9b6c68ea-5acf-4c5a-962c-71f6aaaeb595"
   },
   "outputs": [
    {
     "name": "stdout",
     "output_type": "stream",
     "text": [
      "Test Loss is : 0.40\n",
      "Test Accuracy is : 88.47%\n"
     ]
    }
   ],
   "source": [
    "test_on_testing_data()"
   ]
  },
  {
   "cell_type": "markdown",
   "metadata": {},
   "source": [
    "## Test on training dataset"
   ]
  },
  {
   "cell_type": "code",
   "execution_count": 23,
   "metadata": {
    "ExecuteTime": {
     "end_time": "2020-03-05T00:37:15.095681Z",
     "start_time": "2020-03-05T00:37:14.888237Z"
    },
    "colab": {},
    "colab_type": "code",
    "id": "D9TW85bM4i9Z"
   },
   "outputs": [],
   "source": [
    "# Accuracy on full train dataset (50,000 training images) without data augmentation\n",
    "def test_on_training_data():\n",
    "    \"\"\"for testing model on training batch (50,000 test images), batch size of 1000 \n",
    "    is used for computational purposes and accuracy/loss are averaged after\"\"\"\n",
    "\n",
    "    criterion = nn.CrossEntropyLoss()  # in case not previously defined\n",
    "\n",
    "    # initialize network to use CPU\n",
    "    device = torch.device('cpu')\n",
    "    model.to(device)\n",
    "    model.eval()\n",
    "\n",
    "    # we want to test on data without additional transformations\n",
    "    transform_tr1 = transforms.Compose([\n",
    "        transforms.ToTensor(),\n",
    "        transforms.Normalize((0.4914, 0.4822, 0.4465),\n",
    "                             (0.2470, 0.2435, 0.2616))\n",
    "    ])\n",
    "\n",
    "    # define new train dataset using above transformations\n",
    "    train_dataset1 = datasets.CIFAR10('CIFAR10',\n",
    "                                      train=True,\n",
    "                                      download=True,\n",
    "                                      transform=transform_tr1)\n",
    "\n",
    "    # define new loader with batch size and dataset\n",
    "    train_loader1 = torch.utils.data.DataLoader(train_dataset1,\n",
    "                                                batch_size=1000,\n",
    "                                                shuffle=True)\n",
    "    # initialize accuracy and loss\n",
    "    test_accuracy = 0\n",
    "    epoch_loss = 0\n",
    "\n",
    "    # loop through test batches and send to CPU\n",
    "    for j, (test_images, test_labels) in enumerate(train_loader1):\n",
    "        test_images, test_labels = test_images.to(device), test_labels.to(\n",
    "            device)\n",
    "\n",
    "        # run images through model to create outputs\n",
    "        test_outputs = model(test_images)\n",
    "\n",
    "        # compare outputs to actual labels\n",
    "        epoch_loss += criterion(test_outputs, test_labels).item()\n",
    "        test_accuracy += accuracy(test_outputs, test_labels)\n",
    "\n",
    "    # average over the number of batches\n",
    "    test_accuracy = test_accuracy / len(train_loader1)\n",
    "    test_loss = epoch_loss / len(train_loader1)\n",
    "\n",
    "    # print results\n",
    "    print(\"Training Loss (Full Dataset) is : {a:.2f}\".format(a=test_loss))\n",
    "    print(\"Training Accuracy (Full Dataset) is : {a:.2f}%\".format(\n",
    "        a=test_accuracy))"
   ]
  },
  {
   "cell_type": "code",
   "execution_count": 24,
   "metadata": {
    "ExecuteTime": {
     "end_time": "2020-03-04T15:59:48.415556Z",
     "start_time": "2020-03-04T15:57:37.374746Z"
    },
    "colab": {
     "base_uri": "https://localhost:8080/",
     "height": 70
    },
    "colab_type": "code",
    "id": "fHV2ORxx4i9h",
    "outputId": "70b4c3db-fb6b-4800-cd0f-c996223a06c2",
    "scrolled": true
   },
   "outputs": [
    {
     "name": "stdout",
     "output_type": "stream",
     "text": [
      "Files already downloaded and verified\n",
      "Training Loss (Full Dataset) is : 0.11\n",
      "Training Accuracy (Full Dataset) is : 96.38%\n"
     ]
    }
   ],
   "source": [
    "test_on_training_data()"
   ]
  },
  {
   "cell_type": "markdown",
   "metadata": {
    "colab_type": "text",
    "id": "aJXfQhib4i9v"
   },
   "source": [
    "# Adversarial Attacks"
   ]
  },
  {
   "cell_type": "code",
   "execution_count": 24,
   "metadata": {
    "ExecuteTime": {
     "end_time": "2020-03-05T00:37:20.069277Z",
     "start_time": "2020-03-05T00:37:19.875752Z"
    },
    "colab": {},
    "colab_type": "code",
    "id": "2v1eu9GG4i9y"
   },
   "outputs": [],
   "source": [
    "test_loader1 = torch.utils.data.DataLoader(test_dataset,\n",
    "                                           batch_size=1,\n",
    "                                           shuffle=True)\n",
    "epsilon = [0, 0.05, 0.1, 0.2, 0.3]"
   ]
  },
  {
   "cell_type": "code",
   "execution_count": 25,
   "metadata": {
    "ExecuteTime": {
     "end_time": "2020-03-05T00:37:21.747151Z",
     "start_time": "2020-03-05T00:37:21.552704Z"
    },
    "colab": {},
    "colab_type": "code",
    "id": "WKb-qTe84i93"
   },
   "outputs": [],
   "source": [
    "def fgsm(images, epsilon, images_gradient):\n",
    "    sign = images.grad.sign()\n",
    "    new_image = images + epsilon * sign\n",
    "\n",
    "    return new_image"
   ]
  },
  {
   "cell_type": "code",
   "execution_count": 26,
   "metadata": {
    "ExecuteTime": {
     "end_time": "2020-03-05T00:37:25.295902Z",
     "start_time": "2020-03-05T00:37:25.067466Z"
    },
    "colab": {},
    "colab_type": "code",
    "id": "m6s-QyUW4i99"
   },
   "outputs": [],
   "source": [
    "def test_single_prediction(epsilon):\n",
    "\n",
    "    # Run model on CPU\n",
    "    device = torch.device('cpu')\n",
    "    model.to(device)\n",
    "    model.eval()\n",
    "\n",
    "    # For randomly sampling one image from the data loader\n",
    "    indices = np.arange(10000)\n",
    "    np.random.shuffle(indices)\n",
    "    sampler = torch.utils.data.SubsetRandomSampler(indices[:1])\n",
    "\n",
    "    test_loader1 = torch.utils.data.DataLoader(test_dataset,\n",
    "                                               batch_size=1,\n",
    "                                               shuffle=False,\n",
    "                                               sampler=sampler)\n",
    "\n",
    "    # define sample image out of the batch in the correct shape for visualization\n",
    "    for test_images, test_labels in test_loader1:\n",
    "        sample_image = test_images[0, :, :]\n",
    "        sample_label = test_labels[0]\n",
    "\n",
    "    # fgsm requires that we track gradients\n",
    "    sample_image.requires_grad = True\n",
    "    test_images.requires_grad = True\n",
    "\n",
    "    # run model on single image in test_images and backward pass\n",
    "    output = model(test_images)\n",
    "    loss = criterion(output, test_labels)\n",
    "    model.zero_grad()\n",
    "    loss.backward()\n",
    "\n",
    "    # predicted label is the highest value in output\n",
    "    _, predicted = torch.max(output, 1)\n",
    "\n",
    "    # calculate confidence in prediction(probability)\n",
    "    # by applying softmax to output\n",
    "    confidence = torch.nn.functional.softmax(output, dim=1)\n",
    "    confidence = torch.max(confidence, 1)\n",
    "\n",
    "    # fgsm adversarial attack on test_images\n",
    "    fgsm_images = fgsm(test_images, epsilon, test_images.grad.data)\n",
    "\n",
    "    # run model on single perturbed image\n",
    "    fgsm_output = model(fgsm_images)\n",
    "\n",
    "    # predicted label is the highest value in output\n",
    "    _, fgsm_predicted = torch.max(fgsm_output, 1)\n",
    "\n",
    "    # calculate confidence in prediction(probability)\n",
    "    # by applying softmax to output\n",
    "    fgsm_confidence = torch.nn.functional.softmax(fgsm_output, dim=1)\n",
    "    fgsm_confidence = torch.max(fgsm_confidence, 1)\n",
    "\n",
    "    # logging model prediction before and after fgsm attack\n",
    "    print(\"True label is: {tl} - {tl_desc}\\n\\\n",
    "    \\nBefore fgsm - Model prediction: {pred1} - {pred1_desc} with {conf1:.2f}% Confidence\\n\\\n",
    "    \\nAfter fgsm - Model prediction: {pred2} - {pred2_desc} with {conf2:.2f}% Confidence\\n\\\n",
    "    \".format(tl=sample_label,\n",
    "             tl_desc=train_dataset.classes[sample_label],\n",
    "             pred1=predicted[0],\n",
    "             pred1_desc=train_dataset.classes[predicted[0]],\n",
    "             pred2=fgsm_predicted[0],\n",
    "             pred2_desc=train_dataset.classes[fgsm_predicted[0]],\n",
    "             conf1=confidence[0].item() * 100,\n",
    "             conf2=fgsm_confidence[0].item() * 100))\n",
    "\n",
    "    # define mean and standard deviation for reversing normalization\n",
    "    std = tst_std\n",
    "    mean = tst_mean\n",
    "    mean = mean[:, None, None]\n",
    "    std = std[:, None, None]\n",
    "\n",
    "    # reverse normalization\n",
    "    sample_image = sample_image * std + mean\n",
    "    adv_image = fgsm_images * std + mean\n",
    "    fgsm_vis = epsilon * test_images.grad.sign()\n",
    "\n",
    "    # list of images and label for visualization\n",
    "    images_list = [\n",
    "        sample_image.detach(),\n",
    "        fgsm_vis.detach()[0, :, :],\n",
    "        adv_image.detach()[0, :, :]\n",
    "    ]\n",
    "    labels_for_vis = [\"Original Image\", \"FGSM Noise\", \"Perturbed Image\"]\n",
    "\n",
    "    # setup figure with 3 columns and 1\n",
    "    ax = []\n",
    "    fig = plt.figure(figsize=(32, 32))\n",
    "    columns = 3\n",
    "    rows = 1\n",
    "\n",
    "    # visualization\n",
    "    plt.rcParams.update({'font.size': 22})\n",
    "    for i in range(1, columns * rows + 1):\n",
    "        ax.append(fig.add_subplot(rows, columns, i))\n",
    "        ax[-1].set_title(labels_for_vis[i - 1])\n",
    "        plt.imshow(np.transpose(images_list[i - 1], (1, 2, 0)))\n",
    "\n",
    "    plt.rcParams.update({'font.size': 12})\n",
    "    plt.show()"
   ]
  },
  {
   "cell_type": "code",
   "execution_count": 27,
   "metadata": {
    "ExecuteTime": {
     "end_time": "2020-03-05T00:37:28.900180Z",
     "start_time": "2020-03-05T00:37:28.703731Z"
    },
    "colab": {
     "base_uri": "https://localhost:8080/",
     "height": 52
    },
    "colab_type": "code",
    "id": "LB3oY2AhFwRS",
    "outputId": "a3ed5a18-bf18-4bbf-b0c4-af9357f238f7"
   },
   "outputs": [
    {
     "name": "stdout",
     "output_type": "stream",
     "text": [
      "Classes are: ['airplane', 'automobile', 'bird', 'cat', 'deer', 'dog', 'frog', 'horse', 'ship', 'truck']\n",
      "\n"
     ]
    }
   ],
   "source": [
    "print(\"Classes are: {}\\n\".format(test_dataset.classes))"
   ]
  },
  {
   "cell_type": "code",
   "execution_count": 32,
   "metadata": {
    "ExecuteTime": {
     "end_time": "2020-03-05T00:38:15.123581Z",
     "start_time": "2020-03-05T00:38:12.434212Z"
    },
    "colab": {
     "base_uri": "https://localhost:8080/",
     "height": 752
    },
    "colab_type": "code",
    "id": "BrS8Bdys4i-H",
    "outputId": "a8c3c066-9efd-4350-c763-df84d0256dd8",
    "scrolled": false
   },
   "outputs": [
    {
     "name": "stdout",
     "output_type": "stream",
     "text": [
      "True label is: 3 - cat\n",
      "    \n",
      "Before fgsm - Model prediction: 3 - cat with 99.57% Confidence\n",
      "    \n",
      "After fgsm - Model prediction: 5 - dog with 99.32% Confidence\n",
      "    \n"
     ]
    },
    {
     "name": "stderr",
     "output_type": "stream",
     "text": [
      "Clipping input data to the valid range for imshow with RGB data ([0..1] for floats or [0..255] for integers).\n",
      "Clipping input data to the valid range for imshow with RGB data ([0..1] for floats or [0..255] for integers).\n"
     ]
    },
    {
     "data": {
      "image/png": "iVBORw0KGgoAAAANSUhEUgAABysAAAJQCAYAAAA+HIhoAAAABHNCSVQICAgIfAhkiAAAAAlwSFlzAAALEgAACxIB0t1+/AAAADh0RVh0U29mdHdhcmUAbWF0cGxvdGxpYiB2ZXJzaW9uMy4xLjAsIGh0dHA6Ly9tYXRwbG90bGliLm9yZy+17YcXAAAgAElEQVR4nOzdd5xkVZn/8e+3w/SEHsKMZJABh6AICqIiqIDg6ioGFMEFxUwwxwV3Dbi6YpZVMa7KGjDxWzGuKCi4ruJK0EUBBWFQwgAOI0xP6Olwfn+cW3ZNTVV1dT+3+vY0n/frVa/bVfeeU88NVXX6PPee65SSAAAAAAAAAAAAAGCm9VQdAAAAAAAAAAAAAID7J5KVAAAAAAAAAAAAACpBshIAAAAAAAAAAABAJUhWAgAAAAAAAAAAAKgEyUoAAAAAAAAAAAAAlSBZCQAAAAAAAAAAAKASJCuBLrB9gO332b7K9t22h23fbvuntt9se8eS32+F7WT7rDLrrav/0qL+87pRf5TtFxbxpWmWP6tW3vaycqMDAAD3V/VtlA4eF05S13zbL7D9Zdt/sL3a9ojtVbb/z/YXbJ9ke/Ek9dj2021/3fbNttfZXmv7Jts/t32u7RNs79CifH3MG2xv28F2OLWh3HmTlWlRz6V1dayyvVWHy186nffrIJ6utsEBAEDWpk01Zvse2/9r+922d6k61tnK9peKbXZx1bG0Y7uvbv8+bxrlj46UB1AdkpVAiWwvsP0ZSVdLepOkAyU9QNI8STtJepykd0u6wfZrKwsUAAAAWwzb/yDpj5LOk3SipL0kbSOpT9ISSftLer6kL0m6zfY7bbtJPVtL+pGkb0l6jqRlkhZIWihpD0mPkfRySV+V9NkOQhuQdHwHyz2/g2Wmaomk13WhXgAAsOXokbStpEdKerOka20/tcqAbL+rSJTdWGUcALClIVkJlKQ4i/1Hkl6q/Nm6StILJS1XTlg+VNIbJN0haVDSh21/pJJgAQAAMNOeImlxm8dzmxWy/a+Szpe0s6S1kj4i6cmS9lRO2C0vnn9E0j1FXW+R1NukugskHVX8fZGkZ0jaR9LSop5nSfqUpLs7WJ/7imnbRKTtPSUdJmlc0lAH9U7F62xvU3KdAABgdqtvU22t3N/2PuW2xlaSvm77QdWFBwCYjr6qAwDmkE8od8RI0sckvTalNFY3f5Wk39n+nKTvSTpU0qts/yal1MmZ6y2llJZFyndQ/xHdrB8AAOB+YH1KaUrJOtsvkPRPxdMrJD0jpXR7w2Krla+6vMj224rl39ikridIOrp4ek5KqfGqxHuKer5p+zXKI4S08/+UT8w7zPaeKaWbWixXS2b+RDkhOjhJvZ24RdKuyh2Ub5D01hLqnLJut8EBAEBTjW2q30k6w/Y6SWcpjxjxekmvqCA2AMA0cWUlUALbT5R0UvH0vyS9uiFR+Tcppb9KeqqklcVL53BGOAAAAOoV94L8aPH0VklPbJKo3ERK6d6U0hnKbc3xhtlH1/39/knqGU4pXT5JiH+S9NPi73b3A6rN++Ik9U3FCuUhbyXpNbaXllg3AADYMr1X0obi76PaLQgAmH1IVgLleH0xTZJek1JK7RYuEpa1M8AHJZ3auIztFcUY92cVz0+0fbHtO22P2z6n1bLN2H6Y7a/avsP2Bts32/647d2L+bWbT7+wSdlLi3nnNZl3VjFvRfF8me1PFDENF/FeYLvl2fnFzbOPsP1B21fYXm17xPYq2z+z/Qbbi1qV77Ym++J42z8p4rvP9uW2T2gos5ftTxfbeYPtP9v+qO0lbd5nqe3n2/6a7RttryvK/sn2N2z/XYfxHmv7kmI7Dtm+xvZbinuqHlG3r5e1qWPvIt5rba8pYvm97Y/YfmBHGw4AAEScpjy8mSS9uWg/diSl9IOUUmOy8gF1f6+JBlf4QjFtOhSs7UOVr6Zcp3wlZpn+RdKo8jZ603Qrsd1TtL9+YPsu2xuL6Q9sn9Ts3p91Zdu2wW0favtLtm+yvb5oT91i+xe232P7kW3q3rZov/2yaHMO277V9ldsP2a66wsAwFyVUtqgPEqEJO3WbBnbC22/zvZPbd9d/O7fYfubtp/cqm433IfS9kNtf7au7+svto+2nST9c1HsQXX9L7XHxXV1vrR4bbTdehVtiU3KTiWuNvUeYfvbtlcWfU832H6/8wlzbdleYvttRTvlnuK9/mz7fNuP7qD8/kWbpvbetT7Krvc3NW5P248u+txuL9pr19k+0/ZAXZltnfs/r7W9tmibXWD7wW3eZ77tp9r+pO3/c+4/HCnamT+y/RLb/R3Ee6BzP2H9tvqY7d2c+1Nrx1bLkwej+wuYKQwDCwQ536vyicXTn6aUbuiw6Fck/Zvy8BTHKp8B1uIt/GVJJwZiPEnSedr0M79M0umSTnCHSbAO3udwSd9SHpKrZntJz5Z0jO1jUkqbNa6Uh+Y4p8nrS5SH1j1M0stsPymldEsZsU6X7U9JOqXh5UdL+qrtvVJK7yq25wWa6GCU8lBlr5R0pO3HpJSadRJeLOnhTV7frXgcZ/uTKaXT28R3rqSXN7z80OJxnPKQKG3ZfoOk92jz34i9i8dLbJ+QUvruZHUBAIBpO7aYrpH0jRLqW13399GSvllCnRco3/5gedG++UXD/JOL6TdTSkNunfebspTSTc4n0r1U0ittfzCl1Mm9Nv/GeXSTb0l6fMOs7SQ9qXi82PaxKaX7GstPUvcb1fwK1gcWj0OU22fHNCl7pPK2bTzJbRfle5s+1/Y7U0pvm0pMAADcD9RGOdus0WH74ZK+rc0TmTtKeqakZ9r+d0mntRotrajnWZK+LGl+KRGXZCpx2X6F8v3O6y9kWq58K4F/sH1ESunGFmWPlvR1SY1JzV0l/UNR/u0ppX9pUf545REy6hN1y5T7KI9XvifpjLD9YuX7tdf3f+0r6WxJj7X9DEm7S/qBpL3qllmo3Nd5tO3HpZSuaVL9+5X7ARttp9wWP1rSi2w/NaV0b4v4Tpb0OW16L/plyv2oJ6iDbRXdX8BM4spKIO4QTfxoXNZpoZTSWklXFk8Psr2gxaIvUU5Ufl7So5TPin+I8g/NpGw/TBOJytuUz3zfuXg8X3mIjI7qmsTWymfM3yLpWZJ2Um7wvUDSXyUNSPqc7WYnSQwr38fzJcrbc5nyj/fDlBtKt0naR9JXS4gz4mTlROVHlWNbqpyo/Hkx/6y6RsD1kv5eeT2WSXpXscx+kt7cov7bJX1c0tOK+rdX7sw6XNJnlYdzO832ZlfiSn9rbNYSlb9QHvZkO+UG51uUG1wfbLeCRR0fUD5evqvcSbdjUc/fSfpv5UbZN2zv364uAAAwPbYXauKekb9KKQ2XUO0ldX9/xvbLbG8VqbBI4H27eLrJ1ZW25yl3OEnlDgFb752SNkpaJOmMqRR0zpx+TROJys9KOki5fXeQcseQJD1B0vlTrHtv5RO/pLzdn6zc0fUASQdIeoZy+3yzjinbBynfVmKJpN8qD6O7rHj+iLq43mr7pVOJCwCAuay4Sm158fT2hnnLlO+fvZvycPIvK5ZdIml/5b6SceWToNrdC/sBkv5D0o3KJ5btpJz0eUlR/2JJ7yuWval4Xv/Y7CSlkrSLq9E+kj4s6VfKCbPtlE9Mf6ekEeWTo75bf2VhjfOoEN9TTnz9n3J/5e7K2/Fg5faNJL3DzUdu218TicrbNdFHuYukFyvvg5nq+9tX0ieV22qPV96G+yr3v0r5tgovUj5pcFHx966SdlC+b/uQcl/ouS3qX6Pc1jxR0iOLsjsqb6d3KveVHqZ84t9mijZhLVH5Z+Xbj+2kvK1eoLyv2m6r6P4CZlxKiQcPHoGHcvIqFY8Tplj2k3VllzfMW1E3772T1FNb9qwm8y4q5t0raY8m85cr/4DW3uuFTZa5tJh3XpN5Z9WVvVrSoibLPKtumSdPYxvvrHw1QJJ0ZJP5L6zVP819WL8Oy9ps3yTpjCbzl0i6r5g/otzgm99kuS8Vy9wxzThPL8qvkOSGeQvqtlGr9z+hbj02W1flRs+GYt6nWsTQp9wAT5K+W8ZniAcPHjx48Jirj/o2ivJJTIMtHgsbyu1dV+7jJcZzkTZtC4xIukK5TfqiZu2gJnXUyp5VPH9q8XyVpHl1yz27eP12Sb3Fa7U21XnTjL/WJr207rWPF6+tk7TjZMvXzXtm3bq8u8X7va9umac3mV9bn7MaXn9V8fqd9dukw3X8TVH215IWtFjmncUyd7dahgcPHjx48JhLj4Y21REtlnlT3TKfaZj3/eL1WyQ9oEX5U4tlNjRpU7yrru7rJG3VJtbasjdOsk4vLZYbnWS5Wl/SxW3eq5O4vlS37JXN2hDKCcPaMq9pmGflE6lq5TfrdyqWO7tYZqWkgYZ5Pyjm3SfpQU3K7idpfV0Mz5vGsXJ0u/IN2+FCST1NlvmFJtrKq9W8r/C0unqWTyPOhytfCTwmafcm8y8p6l7dYv7eygnTputaxv7iwWOmH1xZCcTVX0bf8b2Emizf6l6GqyW9fYr1SpJs76SJIWo/klK6uXGZlId1+Oh06m/ijJSvGG10oSaGHmt5b55WUkq3S/pR8fSJ7Zbtsj8pX3W4iZTSPZJ+WDztk3RmyvdKaFQ742nHaY7D/x/FdHdtOvyEJD1d0jbF303fP6X0NeUGVyunKV8Bu0rSq5stkFIalVQbcuwpxfBpAABgct9XPkGs2ePahmXr25dNh4WSJNu9tgdbPOY1KXKs8lBXtaHN+pSv1jtV+cztm23/dzG0f6cuknSXclu2fiiq2pWW56c2Q6mV4F+VR+lYoNajVzRTuypxpVoPk/9W5XWrX74TtZFE7k4pbey0UDH86wG190sprW+x6LslrVW+AqCU2zkAALAlcr739G62/1m5TSDlBNOH65bZS/mkMSkn4Frdx/HTyiciDSifdNXKW9IUh4efIVOJ64xm7YyU0ueUT5iS8ols9Y5WTiZK0kta9HtJ+aSq9cpXIB5de9H2zppot3wkpfTHxoIppd8pn0Q3E5Kk16XN7/Mu5SsipdymOyeltKLNMlIeCW9qb57Sr5VPUutRHhntb2zvKunI4uk5qcktsVJKf1A+aa+V0P4CqkCyEoirHwc/daH+H7f5QZnMIZqI79ttlvvWNOuvN6x8xd1mih/+2lj3OzZbxvkm56+wfZHzTa031N0kOkl6TrHoPiXEOl0Xt+lsqzWyhtV6OOD6hlir7bCP7Q/ZvsL2atujddugPhHcuB0OLaZDarEfCu32da1R8t+S+lt1fioPcSvlY+sRbeoDAADT0+nNHY9U6wToPzUunFJal1I6TdKeysOm/lCbJ0MfK+kntl/TSQDFiUxfKZ4+X5JsL9VE4rJbQ8DW3v825c5FSTrF9i6TlSmGgD2sePrtVgnFlIff/U7x9LFTCOvqYrqf7fcU26MTtbbYKkm/b9MW69VEe+zgKcQFAMBc8JO6fpIx5RPL36U8tOiw8ohh9SeC1X5fRyVd3ub3dZHyUJlS69/XceWrA2ebqcR1n6Qft5n/n8V0f9uL616vbce7JN3YZjv2SPpDsWz9djxUE23cdvdO/88288p0Q7OLOgr1/XcXNVsgpbRa0j3F01Z9fEttn2n7Mtt32d7Y0NdZu+1DYx/fYxTvz43uL2DGNbt3HICpuafu78abFU+m/qq01S2WuWmKddZbVvf379ssd32beZ26O6U00mb+umK6sHFGcZbbRZL26OB9tp5GbGW5vc282hlpdxeddu2WkfLZ/5uwfbqkf9OmNxlvpXE7LCumN7Q4K6ym3b6uNY6eqdzJ2YntOlwOAID7uyNTSpd2uGx9+7L0tk9K6U/KQ5y+r0jc7aU8esVpkh6q3DnyIdv/k1K6ooMqvyjpNZKOsb1E0nOV2zPXpJR+U3b8TZytfOXjAuUk7SsmWX4rTbTDG69qbfS7Yrqt7a06uWIhpXSp7QuV21RnSHqj7Ssk/UzSTyVd0mI0klpbbKlyR2InaIsBAO7vRpWTS5coX7HX2P9V+33tk3RHh3W2+n29s8VveNWmEtcfJuk3uq6Y9ijf47PWVqptx+01vT6jZXV/t+ubuq7NvDJ10scntT9mass16+M7TDmZ2MlJa636+KTp9+dG9xcw47iyEohbUff3g6dYtrb8iKRbWyyzrsXrnVhU93e7RstQ4D1qOh3ea5MrBWz3Kp81tYdyjP8q6XBJD1QeTqx2E/LaGftVnmTRyTpOdzsconxT7n7lM/leqjx+/Q7KHWqLi2lN43ao7evJGqft9vV0OkPnT6MMAABo71bljjepzagSKaWLU0quf0z1jVL2h5TSucpnd3+jmNWjfL/sTuq4Urkja56k4yWdXMz6wlTjmY6U0h2SPlE8fWkHw+3XXyUwWTu4vnNncculNne88r2zblK+EvLRkt6g3Gl1l+2P2t6qoQxtMQAAJvcUTfQVLUop9aeU9k0pvaJJolIq9/c10kfXTVOJa7K2T/38+rZPdDsOFtM0SWK1jD7KTnTaf9fJco19fNso3xJrqfKVjWcqXy25i/IJc7Xj95dFkVZ9fCml1G7f0seHOYUrK4G4Xyj/cPUqJ9k6YnuRJobQvLrNPWki6n/8F6n1GdqDLV6fCYcrn8EvScellJoOW1Fsr7ns5cqNm5slPaZZY8R2uyt3a/t6su3Ubl8PKTeaPpBSetMk9QAAgC5JKa2zfbXyvb4faXugGJK02+87avsVmhh+/6ApFP+i8hWOb1IeZnZc0vnlRtjWe5XvvblI0lskndJm2foE5GTt4Pr5nZ6VrmLEkQ9I+oDt5codVI+XdIzyUGGvlHSI7cfUjcpR63C6IqU05fu8AwBwP7E+pTSVhFZt2ZUppZ26EdA0dXorqbL776fb9qltx8tTSo+ZxvvWytv2ojYJyyr7KMtyvPK9xcckHZ5SanoFZMMwu/XWTizihW0SlpP18UnT31/AjOPKSiAopbRGeagJSTrc9oM6LHqCJhJL3RqPvf4GzHu3Wa7K+0A+vJiubpWoLOw/E8FUqLYdvtWmEdJuG9T29XLb7b7b2+3r2pDDB7ZZBgAAzIzavXwWayJ52HUppbuVzwCXmgzf38aXlROUexbPL0kptRteq1QppbuUR6mQpBfabnd7gfs0cQuGh0xS9X7F9J5OhoBtEduNKaUvppRepjyc2keKWQcrJy9ram2xB9semM57AQCAzdR+X3e03fTeghXZUEx7bbe7HdDOJb/v3pP0G9VGgRuX9Oe612vbcb9J4m1lRd3f+3bw/luyWh/f1W0SlfMlLW9Rvoz+3Oj+AmYcyUqgHB8qppZ0zmQL295a0juLp0OSPt2luH6hiTO1nt5muWd06f07UeuI6W21QDHOeyf3s9ySTbodJD2/zbz/KaaLJR3RZrl2+/qHxfTwSTr4AABA931SE2dEn10MJ9V1xWgWtffqONmYUvqzpEvrXpqRIWAbvE/5CoB+SW9rtVBKKWmi7fS0Vh04tudJelrx9H+aLTNVxVWUZ9W9VN8hV2uLLVI+Ix8AAMT9sO7vF83A+40U03b9O9Km90JsmnSyvVR5pI0ybSXpCW3mH1tMryku0KipbcfFko6bxvv+XBN9lMe2We5Z06h7tumkj+8E5VsoNFNGf250fwEzjmQlUIKU0kWSvlo8Pcb2OcW9GDdTJCq/o4kzo16bUlrdbNkS4rpD0sXF01fbXtYknj0lvaob79+h2pk+W9k+snFmcS+fj89sSJWobYcnNTuT3vYT1L5R/R1J9xZ/n92ijuMkHdqmjnMlDSsPMfJF222H3rBd5RW5AADMaUX7sNZG21XSj2xP+8x62y+1fdwkZ9JL0ls10XHyoym+zXOVk28PlvT1KZYNSymt0sRVi8+XtKzN4p8tpjupdWLzHcr3D5ekz3Qah+29JtnO9SOxrKr7+4eSflv8/UHb7c6kl+1lXIEJAEB7KaXfaSJx8xbbh7Rb3vYORd/ddNV+27dv1TdYuEoTic0XtFjm/erOfQTfa3tB44u2X6yJ0bY+3zD7vyRdV/z94WKY+5Zs71F/Qlgx4kZtP7y62ch0tveTdFpnqzCr1V/V2Gw9d1O+fUJTDScBvrZYvrGO5cq3lGoltL+AKpCsBMpzqqTLi79fI+mXtp9ve0/bS2w/xPZrJV0r6XHFch9NKX22WWUlOkN5jPStJf3U9om2dyweJ0n6qaS7uxxDOz/QRJLtK7ZPtv3AIr7jlLfpQyU1u0n6XPK1Yrq3pO/aPsz2A2zvY/ttkr6rNtugGDr2rcXTR0m6xPaRtpcWx+Cble8ldVObOm6V9Nri6WGSfm37VNt7297G9k62D7X9Btu/lHRBaI0BAEBbKaXzJL27eHqwpBtsf8T2k4tE1Ta2t7d9kO3X2/51XfHxhur2lfQNSTfbfrftJ9ne3fbWtne1/VTbFyq3HaV8VeW5moKU0t0ppeuLx8Ypr3A5PqjctuyVtHub5b4l6aLi77fY/pTthxft9ofZ/oykM4v5308pfWcKMfyzpD/aPtv2E23vVuyrB9l+kSZuAbFW+YQzSX+74vNkSeslbSfpV7bfbvvAIq7tbB9g+8W2vy3pRuWz5QEAQHunSvqL8hD3l9p+v+1HF/0uS4s+u5Nsf1V5CM7IaFNXFtOFkt5e9KX02+6rP5kppfRXTQz7/3rbby3aZktsP9b2t5STmDcHYmnmNkkHSPqx7aOK9V9u+x3KI3tIuf/pk/WFUkrjyu2UDconc11RxPzwunbKw2y/xPZ3JN2gidtf1bxJOUG7WLmP8qSi/28n2y+U9GNtesXpluoC5bb4PEnft/2MYh13LRLClytvgz+1qeMflftzt5X0M9vPrdtWz5N0mSZu3bCZkvYXMKPKvkEvcL+VUrrP9lGSPibphZIeodbDXw1JentK6UMt5pcZ19XFD+HnlO+R8+WGRVYrD7/wv8Xz0W7HVC+ldK/t0yR9SfnH8z8aFhlXTqA9QtXeW7PbvqA81MXTJB1dPOrdWsxvOtZ94WPK91U6VTnZ+OOG+ddIersmOsg229cppU/aHle+KuFBamicNriqzTwAAFCClNI/2/6d8pn1OytfbdluVIw1ygm79ze8Xrvf4gMlvbl4tHK9pGNTSve2WWZWSimttn2Ocpun3XLJ9nOVk5aPl3RK8Wj0E0n/MI1QliknO89sMX+9pOcVI6HUx3W17aOVr0zdRXnI2LNa1DFWPAAAQBsppRW2D1fuD9lH0huLR9PFNXHF43RcrtzH9ijlk8rfWjfvEm3a3/N6SYcot8/+pXjUjEt6XVFPmbfquV7Se5T7fS5uMv82SU9LKQ03zkgpXWH7icrtlJ2axFxvVA0nz6WUrrH9fOWT6XdW7gust1q53XW5tmAppd/bfovySYd7S7qwYZH1kk5UPgYf2KKOK2y/THl0jwdK+krDIquU+3N/WTxv1scX2l/ATOPKSqBEKaV1KaXakAkflPRr5R+PEUkrJf1M+UzrvWYiUVkX1xeUx7j/hvJZNxuVz975jHISsD4BtmazCrof31clHa589eDqIr5blX9MH59S+uhMxzTTijOejlVuiP5a+cynIeUrcc+W9PCUUturS1N2mvJY9JcqX1WwrqjjHcoN4PrGS9N9nVL6tKQ9Jf2rcgP7HuWOsDVFXecpj4t/2JRXFAAATFlK6Xzlk4hepHzrgRuVf+dHlX+nf6t8wtfJknZMKb0jpbS+oY5/Ue6ce61ym/A65d/2MeU2x43KZ4E/T9IBKaV2J0jNdh9WblO2VVzRcKTydvuh8mgjo8X0h8pDyR6VUrqvZSXNnVGUPU+5XXdnUe8aSVcrJ5L3TSk1dlzV4vq5csfWq5SH4r1T+f+J9cpXV3xL0ksk7dCt20kAADDXpJSulbS/cnvqu8qjSGxU7n/5s/Kwma+UtGsxdOx03ydJepJyv+B1yr/frZa9TTkZ+TFJK4p47lJxMlVK6SOtykaklD4m6YmSvle837CkP0r6gKT9U0o3tCn7M0nLJb1aOdl5lybaKTcpJ+ZerNxO2awNlVL6mvKIIV9VbuPU91EepIkrU7doKaWzlfvOLlU+aXBYeR9/VtLBrdqBDXV8XtKjldvotf7cWyR9Srk/t34/terjC+0vYCY5f38CuD+zfaAmrpI7OKU0JxoG2Jzt10n6kHIjZuvEjwAAAAAAAACwRbH9SE2MlPfwlNJvqowHiOLKSgBSHnpUymf5/LbKQNB1tX19FYlKAAAAAAAAYItU6+NbrzwSGrBFI1kJ3A/YXtJm3l6S3lA8/XazMemx5ZhkXx+vPNSZlIfYBQAAAAAAADDLTNLHt6/y7R0k6cKUUuQ+q8CswDCwwP2A7e8pD/v5FeXhXtdI2lHS30v6J0kPUB73/OCU0jVVxYk423dK+rLy/Q2uV74/0h7KN+5+laQ+5fsQHJBSWldVnAAAAAAAAACas/0D5fvTf1X5vue1/tynKvfnLlEeJe+g4p6swBaNZCVwP1D8uD2pzSLDkk5OKXG13RbO9gZJA20WuVXSkyM3iwcAAAAAAADQPbYvlnRUm0WGJZ2UUvp/MxQS0FUkK4H7AduHSHq2pMMl7aJ8JeWwpD9JukTSOSmlm6uLEGWxfZzyFbOPkrSDpG2Uz7z6vaRvSzo3pbSmuggBAAAAAAAAtGP7MZKOk/Q4bdqfe4uki5X7c2+pLkKgXDOWrLR9oqTTJR0gqVd5eMLPS/pESmm8g/JkVQEAQKf+klLaruog5qpou66oI/X0TP/26ePjHb1NWz2z4Pbt44qtR2QbzhbRbSDF92UJh5Oiu6KUY3rLPxxUwuFQvTL2Q3Q7lHAwxI/JaAyz4LuhlH0ZXI8S9mV4T1T8mzuucaWUHA4CTZXVrutehAAAYC5p1a6bkWSl7XMlvVzSBuWruEaUL2FeLOmbkp6TUhqbpI5QoHa8XctVqAAAbDGuTCkdXHUQc1EZ7TpJ6u3tTQsXLpx2HENDQ9MuWzOowXAdUUOKrcfgYPXrEBXdBlJ8X5ZwOCm6K0o5prf8w0ElHA7VK2M/RLdDCQdD/JiMxjALvhtK2ZfB9ShhX4b3RMW/ueu0TmNpjGRlF5TVrrOd+vr6ph3H6OjotMvW9Ko3VN6KH1D9dhUAACAASURBVGKjiq1Hb29sHWaDMU16uEwqui/H4iEouivGSghiDhwOKuFwqF4Z+yG6HUo4GOLHZDSGWfDdUMq+DK5HCfsyvCdK+H7qU+A3X6Mtk5VdP/fW9rOVGz4rJR2QUjompXSspL0kXSfpWEmv7HYcAAAAiKFdBwAAMDfQrgMAALPJTAwU9OZiekZK6YbaiymlO5WHmZCkM23PhUGLAAAA5jLadQAAAHMD7ToAADBrdLXBYXtXSY+QtFHSNxrnp5Quk3SbpB0lHdLNWAAAADB9tOsAAADmBtp1AABgtun22VEHFtPfpZTWt1jmVw3LAgAAYPahXQcAADA30K4DAACzSreTlXsU01vaLPOnhmUBAAAw+9CuAwAAmBto1wEAgFml28nKwWK6ts0yQ8V0cZdjAQAAwPTRrgMAAJgbaNcBAIBZpa/L9buYpmkVtk+RdEp54QAAAGCaQu06adO2ne1JlgYAAECXlNquAwAAiOp2snJNMR1ss0xt3prGGSmlT0v6tCTZnnYDCgAAAGGhdp20aduut7eXth0AAEA1Sm3X0WcHAACiuj0M7IpiunubZXZrWBYAAACzz4piSrsOAABgy7aimNKuAwAAs0K3k5VXF9P9bC9oscwjG5YFAADA7EO7DgAAYG6gXQcAAGaVriYrU0p/lnSVpHmSntM43/bhknaVtFLSL7oZCwAAAKaPdh0AAMDcQLsOAADMNt2+slKSzi6m77W9vPai7e0lfbx4+p6U0vgMxAIAAIDpo10HAAAwN9CuAwAAs0Zft98gpXSB7U9IOl3SNbYvljQi6ShJW0m6UNLHuh0HAAAAYmjXAQAAzA206wAAwGzilNLMvJF9oqRXSNpfUq+k6yV9TtInOjlLy/bMBNpGb29v1SFA0kwds/cHtqsOAbMEn6u5o4x92dMTG3hhbGwsHEMJrkwpHVx1EHNVtF0nSb29vWnhwoXTD2JoaPplawYHY+XLiGEWCK9FcDMORiuQNBTcF4PRY6GEGMoQXo8SVmEoWsmcOJ7CIYS/XkoIIVxL9HAqZx2CytiX4QriH8zod0M532+RGNYppTH+ee2SMtp1tlOkz8wl/P/QOzAQq2B4OBzDbBBei+BmnJfmRSPQxo0bYzHMqz6GMgyEj+l4DMPRSoKrMBCtQNJw8LMd3Q05hlj5+BEdryX6iShnHYJKCCL8zVDCd0v0uyH6mcgi10COKqXUtF3X9Ssra1JK50s6f6beDwAAAN1Buw4AAGBuoF0HAABmg5m4ZyUAAAAAAAAAAAAAbIZkJQAAAAAAAAAAAIBKkKwEAAAAAAAAAAAAUAmSlQAAAAAAAAAAAAAqQbISAAAAAAAAAAAAQCVIVgIAAAAAAAAAAACoBMlKAAAAAAAAAAAAAJUgWQkAAAAAAAAAAACgEiQrAQAAAAAAAAAAAFSCZCUAAAAAAAAAAACASpCsBAAAAAAAAAAAAFAJkpUAAAAAAAAAAAAAKkGyEgAAAAAAAAAAAEAlSFYCAAAAAAAAAAAAqATJSgAAAAAAAAAAAACV6Ks6gJnS0xPPy86fP7+ESGJSGg+Vt+PbIaUULB+OIFrBnOBSKonWMhf2RSlbcosX/VzPFdGjwSX81kT3xfh47HdCkubNmxcqv3bt2nAMY2Nj4Towtw1pMFxHvIa4oWD5wcG5sR2iytgOcbEYyliDoegBFT4iq1fKGsyC42kWhFDCxqz+eAp/x5awCtFdWf1WlObGLwW6zYH+hVHF/v+QpEXRPrtw/4i0IdhnN3/+gnAMA3Ogz25gYCBcR1wshjJ6kIejPRQDG8IxDEQ/m+FdGT8WosdTGUdj9JAupc9uuNoKytiOG4Pl55eRHwrui/X9/eEYFi1aFCo/HD4WJKk7fXZcWQkAAAAAAAAAAACgEiQrAQAAAAAAAAAAAFSCZCUAAAAAAAAAAACASpCsBAAAAAAAAAAAAFAJkpUAAAAAAAAAAAAAKkGyEgAAAAAAAAAAAEAlSFYCAAAAAAAAAAAAqATJSgAAAAAAAAAAAACVIFkJAAAAAAAAAAAAoBIkKwEAAAAAAAAAAABUgmQlAAAAAAAAAAAAgEqQrAQAAAAAAAAAAABQCZKVAAAAAAAAAAAAACpBshIAAAAAAAAAAABAJUhWAgAAAAAAAAAAAKhEX9UBTIXtaZdNKYXff3R0NFh+PBzDWHQ9xmPrIEnunf5+kKT+YI58TLH3L8P4+Fi4juTguQIlHNPhTZni+yLyuS6CiBWPfyzjlZRxSPfEjqee8fjx1BvcFyM9sfIpuA1yELGfRWt9PIae2AHR09MfDmHevN5YDCUc1PFvWcx24+PS0FCkhlDhwmCodBkRBEOIbsRcRbD84GB0O5awJUvZGTHh7VDCvoyKroNU0v4MRlB1FeV8O1X/uYoeD4NVHwqS4od0/DMR/54u43MJdJs1Ohr5H2BjOILR0dj/QWs3xGPQvNj/tKP3xmOI/h+1cGAgVH5dCftSw9EK4v0bffNi2+G+jeGVCOvrj62DJI06uD83RPvsSjiegl3hZezJfsX2xUgJUSzsj31HppGRUPn1JXTZpZ5YX9W6sRJ6moJ1jHhhOIRhVd9nV0p3ehNcWQkAAAAAAAAAAACgEiQrAQAAAAAAAAAAAFSCZCUAAAAAAAAAAACASpCsBAAAAAAAAAAAAFAJkpUAAAAAAAAAAAAAKkGyEgAAAAAAAAAAAEAlSFYCAAAAAAAAAAAAqATJSgAAAAAAAAAAAACVIFkJAAAAAAAAAAAAoBIkKwEAAAAAAAAAAABUgmQlAAAAAAAAAAAAgEqQrAQAAAAAAAAAAABQCZKVAAAAAAAAAAAAACpBshIAAAAAAAAAAABAJUhWAgAAAAAAAAAAAKgEyUoAAAAAAAAAAAAAleirOoCpSClNu2xvb2/4/d0Ty+16bDgcwwF77hwqv3TJwnAMP73yxlD5jcHDbv48h8pL0tjGDaHyvfEQNDY+FipfxpkG0dUYn/5H8m96HPxcORbEiOIrEd4XJWzHNBY8nuJfkfHvyPHBWPmR9aHykvTA7eaFyu+394PDMVx5/c2h8itXrQ3H4OD3dJ/7wzGMaDRcB2a7cUlD0y49GPvKkCQNBd6/tCCiyghhKLYdhoLlB0vZjsF1KCOC4HYoQ3RblrIOwd0ZPRpK2Q3B7VjOxzL6uSoliBIqqVrwM1FSFCGz4KdmNvzWYLZLkkamXXpgIB7Bxp7pv78kuS/ey/LgZbE+u52XLAjHcPHlvw+VXzcc61sYXLQoVF6SxoZj3xcbwxFIoxtjfbhl9NnN74911KwfifdD98a6SDQ/2PG4toRuAffF+jcGSui02zAa2xcLSviO9EjwO1KxnILH4312u+2wOFR++d57hmO46jex79i7h+IHdbjPbn68z27jhlhupRWurAQAAAAAAAAAAABQCZKVAAAAAAAAAAAAACpBshIAAAAAAAAAAABAJUhWAgAAAAAAAAAAAKgEyUoAAAAAAAAAAAAAlSBZCQAAAAAAAAAAAKASJCsBAAAAAAAAAAAAVIJkJQAAAAAAAAAAAIBKkKwEAAAAAAAAAAAAUAmSlQAAAAAAAAAAAAAqQbISAAAAAAAAAAAAQCVIVgIAAAAAAAAAAACoBMlKAAAAAAAAAAAAAJUgWQkAAAAAAAAAAACgEiQrAQAAAAAAAAAAAFSir+oAtiQOlh8tIYY9d1oaKv+PL3xKOIZv/vBnofKf/8H/hcr/Zc2aUHlJGpg3L1R+ZCyFY7BGghX0hmMYc3+o/Lg2hmNIjp4zEdsOyWPB95fGe2LrED+apN6x2PFkR7/hpOEUO540tj5U/An77Bp7f0knP/NRofLb7rRnOIYz3/fZUPmVui8cgzweKp44FQod6OmRFi6sOIihYPnBMmKIBRFdBUkaHCxjRaZvKLgNJGkwujNmwb4sJYY5IbohyvhUbOkRlGQOHJNDs+KLvvoIwl9PZQQRqGPduhLeH13XV3EPo4dj5VOK/2e+55JFofL/+IJ4n93By3YIlT/vomtC5VeuXh0qL0mLemP/JIz1ldDLMhzrn1Cwe0SSxrwgVD6V0CIZC/YVjSr6D1/8ByD1xvqAN4QjkDwaW48Suuy0YV7sS9ojsc/EkfvuEiovSSc8I9pn9+BwDGdevyJU/p41JRxRG2N9dvNK6LMbC3THj7Xpiu96d6Lt82ynNo/rux0DAAAA4mjXAQAAzB207QAAwGwxk+c9/Y+kG5u8fscMxgAAAIA42nUAAABzB207AABQqZlMVv57Sum8GXw/AAAAdAftOgAAgLmDth0AAKgUd5UCAAAAAAAAAAAAUAmSlQAAAAAAAAAAAAAqMZPDwB5p+wBJg5LulPQzST9KKY3PYAwAAACIo10HAAAwd9C2AwAAlZrJZOXJTV671vZzU0rXzGAcAAAAiKFdBwAAMHfQtgMAAJWaiWFgfy3p1ZL2Uz5Da2dJx0j6jaSHSLrY9i4zEAcAAABiaNcBAADMHbTtAADArND1KytTSuc0vLRW0vds/0jSZZIOkfRmSa9sLGv7FEmndDtGAAAATC7SrpM2bdvZXQwUAAAAk6LPDgAAzBYzcWVlUymljZLOLp4+pcUyn04pHZxSOnjmIgMAAMBUdNKuK5b7W9uOZCUAAMDsRJ8dAACYaZUlKwvXF1OGlAAAANiy0a4DAACYO2jbAQCAGVN1snJpMR2qNAoAAABE0a4DAACYO2jbAQCAGVN1svL4YvqrSqMAAABAFO06AACAuYO2HQAAmDFdTVbafrjtY2z3NrzeZ/v1kl5dvPThbsYBAACAGNp1AAAAcwdtOwAAMJv0dbn+ZZK+Keke23+QdKukxZL2l7SzpHFJZ6SULupyHAAAAIhZJtp1AAAAc8Uy0bYDAACzRLeTlb+R9G+SHiVpd0kHSkrKDaDPSzo3pXRll2MAAABAHO06AACAuYO2HQAAmDW6mqxMKd0s6bXdfI8ZlVKsvOeFQ7jk6ptD5Z9x+N3hGE560mGh8g9dtnOo/Mcv/HmovCT98obbYhXM3zocg7QhVHpsbCweQnKoeH9/8DMhqTfF1qPPsXUYHhsNlZekkbHgiNq9i8IxhNdidDwcw9b9sX1x0nH7hco/6ZADQ+UlaWn/PqHyP7zymnAMt9we+57u6+8Px5BS8IiKlsesNNvadUNlVDJYRiVBwRjKWIWhodjWHByMRVHKOgSPiMESohgKbocyhD8Xc2EdylDxZ2K2GJoVX5JB4X1ZQgzBSqLf0aUoI4TQdlhXQgBoNJvadsMl1DFvXrB/YnggHMOPr10RKn988H9BSTruiIND5cN9dl+/NFRekn5+08pQ+b4FS8MxjAbvnDY+Gu+zGw72d/UsiPcN9AY/Vj2O9TX1KN7vOD4c+w3pHdg2HEP0W254JN5nt2De/FD5E4/bO1S+lD678WWh8pdd9YdwDHeuujdUfjyaX5KU0tpQeW8ooV216QjyU9T6+7Gr96wEAAAAAAAAAAAAgFZIVgIAAAAAAAAAAACoBMlKAAAAAAAAAAAAAJUgWQkAAAAAAAAAAACgEiQrAQAAAAAAAAAAAFSCZCUAAAAAAAAAAACASpCsBAAAAAAAAAAAAFAJkpUAAAAAAAAAAAAAKkGyEgAAAAAAAAAAAEAlSFYCAAAAAAAAAAAAqATJSgAAAAAAAAAAAACVIFkJAAAAAAAAAAAAoBIkKwEAAAAAAAAAAABUgmQlAAAAAAAAAAAAgEqQrAQAAAAAAAAAAABQib6qA9iSpGD5Po2GY1i7bmOo/PcvvyEcwwEHPCJUfv+HzguVP3vHbUPlJen7v7guVP4/f3xVOIaR4MfvQUu3Dsfw0B37Q+W33jr6qZC0cThUfNFA7HhY0zM/VF6SfnXDPaHyf7zz3nAMo2Ox4+mgvZeFY3jmEw4Mld9j1+1C5bfZdpdQeUm6677YdrzwssvDMWwIfjck9YZjGE9jwQqC5XE/0SNp4bRLD5YSw1Cs9FCsvCQNDkbXJB6DgjGUsBWqr6GMzRitpISDuoRDMix6TEc/V/HPlOIbsoQdMRQ8IEr5jqz6gCphX4aPh6q3gaSyfvG29BCwJZj+/zEDJfwP06/xUPmRkXXhGEbHY+tRRp/dPqccGiq/9+DiUPmzto332V0S7bP7ydXhGEZ7Y//T7rnzonAMe20T7bNbEI5hwA6V71Msho0L4n2fv/rdHaHyf7zzvnAM6+bFjodD9t89HMPfH/qQUPlwn92Oe4bKS9K90T67H10WjmHDaOy3JvXEvxvGU2w79PaXkBIci22HVriyEgAAAAAAAAAAAEAlSFYCAAAAAAAAAAAAqATJSgAAAAAAAAAAAACVIFkJAAAAAAAAAAAAoBIkKwEAAAAAAAAAAABUgmQlAAAAAAAAAAAAgEqQrAQAAAAAAAAAAABQCZKVAAAAAAAAAAAAACpBshIAAAAAAAAAAABAJUhWAgAAAAAAAAAAAKgEyUoAAAAAAAAAAAAAlSBZCQAAAAAAAAAAAKASJCsBAAAAAAAAAAAAVIJkJQAAAAAAAAAAAIBKkKwEAAAAAAAAAAAAUIm+qgPYotih4v3qDYcw3BOL4eKrrw7HcPIdTwmV3367JaHyIyP3hMpL0vFHLA+VP2jX+Eenb2BRqPz2284PxzAwtiFUfsPIxnAMoxoPld9qm9jx5J55ofKS9PTHjoXKrxuK7QdJWrX6L6Hyy/Z+SDiGofFtQuVHRxfEAhiLHQuSdPm1/xsqf80tN4VjcE/wt2I0/rm0+kPlx1zGuVCx7wZsAcbHpaGh6ZcfHAyHEHn7HEI8hlkhuiFU/XYYUnQd4uLHQ3wdqt8TcYPRtSjjUIiGMFTGnoitSPhjreq/44bKWYlg+XgI0WNyLnyupXKOScxuaXR0+oV7S+gv2xjrLxvsD/4/KmnYsf9hLvn1r8MxnLBiy++ze8YRu4XK77drrI9GkhZtFdsO228bOx4laWDdLOizG4j1DWy1YDb02e0dKr96VQrHsGr1baHyZfTZjfTvECo/Ph78jlwX6weXpMuv/U2o/G9X/ikcQ/ST3T8e/1zOD/bZbSihz25sNP492wxXVgIAAAAAAAAAAACoBMlKAAAAAAAAAAAAAJUgWQkAAAAAAAAAAACgEiQrAQAAAAAAAAAAAFSCZCUAAAAAAAAAAACASpCsBAAAAAAAAAAAAFAJkpUAAAAAAAAAAAAAKkGyEgAAAAAAAAAAAEAlSFYCAAAAAAAAAAAAqATJSgAAAAAAAAAAAACVIFkJAAAAAAAAAAAAoBIkKwEAAAAAAAAAAABUgmQlAAAAAAAAAAAAgEqQrAQAAAAAAAAAAABQCZKVAAAAAAAAAAAAACpBshIAAAAAAAAAAABAJfqqDmBL4mD50TQaD6I3ll9evXooHMKXvnJhqPxrT39BqHzPoh1C5SVp5V+vCZXfY/ddwjEsnL8gVH50fGM4hp133i9UfvWqe8IxDN17X6j8ogWLQuUHt98+VF6Sbr3p5lD5rbfqD8ewYGHs67yMfXnvxvFQ+Qcu2ydUfvVf14TKS9IFF/5XqHwKRyBZse1YBjv2i1fGdsDcNy4p0ioZjDdpwkoJYShWy+DgYDiEaBVDwXUow6BiKzFUxt6MbocS9mV0PaLbUYofD9FjuozjMboVBss4nmbBdoiKfyS2/OOxiKKEOqpVzuG05W8HtDcWKNs3HH9/z4uVX1tCn9346Eio/D339IZj+MY3Y//Tnv6i54bK9yzaJlReklb/9a5Q+TL67LaN9tn1R3uRpaXLdgqVX7dqbTiGVffeHSo/uM2SUPn+rbcOlZeku2+L9dltv1W8h2ObbXcPlf9LCX12Gxzre9xhp1if3br18X7sL3/9W6Hy4yn+Hdsb+rWTyugxi/bZbSjhNzf2q98aV1YCAAAAAAAAAAAAqATJSgAAAAAAAAAAAACVIFkJAAAAAAAAAAAAoBIkKwEAAAAAAAAAAABUgmQlAAAAAAAAAAAAgEqQrAQAAAAAAAAAAABQCZKVAAAAAAAAAAAAACpBshIAAAAAAAAAAABAJUhWAgAAAAAAAAAAAKgEyUoAAAAAAAAAAAAAlSBZCQAAAAAAAAAAAKASJCsBAAAAAAAAAAAAVIJkJQAAAAAAAAAAAIBKkKwEAAAAAAAAAAAAUAmSlQAAAAAAAAAAAAAq0Vd1APcnqTdeR8/4eKj8eO9AOIafX//7UPlT12wIlV+6zTah8pJ0x5rYoX/fmqFwDBpPsfJbLwqHMH/5XqHye+45Go7hr3fcESo/NrwxVH5gmweEykvSfb+NfSa2XRTfl2tHY5+r/oF54RgWK3Y8WCOh8qvuXRsqL0m3rVoVq6DH4Rjs2HlEKcV+J4CZ0tPTo4ULF067fAm/xOFKBqsPQUNDpWyJkMHBMrZETHQ7lLIG0e1Qwr4cjK5JCRtiMLwa1R/T0Q0xVMI6xHdFvIbqv1+q/24p43MZDqHqAFTWnph+Leu0rpQI0F29vdPv9BouoXdyXrCLZV4JfXbDwS6SsbH4/5OX/uaaUPlTN54QKr/z9juEykvSijXXhcoPB/sdJWldf7CPpD9+UG+9/KGh8js+ON5nt2TFilD5McX67LQg3mf3xxtWhMov7OsPx7BxdDhUvn9gq3AM48OxPjMHWySr7o1/v90e7bMbGwvHEF2L4CdCkhQ7mqR4dkga0fR/NMfUej9wZSUAAAAAAAAAAACASnScrLS9j+3X2P6S7ettj9tOto/roOyJtv/b9r22h2xfYfsVjl4+AgAAgCmjXQcAADA30K4DAABzwVSuST9d0mum+ga2z5X0ckkbJF0iaUTSUZI+Juko289JKcWvwQUAAECnaNcBAADMDbTrAADAFm8qZ0r9VtL7JZ0gabmkyyYrYPvZyg2flZIOSCkdk1I6VtJekq6TdKykV041aAAAAITQrgMAAJgbaNcBAIAtXsdXVqaU/r3+ud3R7UTfXEzPSCndUFfXnbZPl3SppDNtfzSlNN5pLAAAAJg+2nUAAABzA+06AAAwF3RtDHrbu0p6hKSNkr7ROD+ldJmk2yTtKOmQbsUBAACAGNp1AAAAcwPtOgAAMBt184bZBxbT36WU1rdY5lcNywIAAGD2oV0HAAAwN9CuAwAAs043k5V7FNNb2izzp4ZlAQAAMPvQrgMAAJgbaNcBAIBZp+N7Vk7DYDFd22aZoWK6uNlM26dIOqXMoAAAADBl4XadtGnbrsP7KQEAAKBcpbfrAAAAorqZrKz1QKXpVpBS+rSkT0uS7WnXAwAAgJBwu07atG3X29tL2w4AAGDmld6uo88OAABEdXMY2DXFdLDNMrV5a9osAwAAgGrRrgMAAJgbaNcBAIBZp5vJyhXFdPc2y+zWsCwAAABmnxXFlHYdAADAlm1FMaVdBwAAZo1uJiuvLqb72V7QYplHNiwLAACA2Yd2HQAAwNxAuw4AAMw6XUtWppT+LOkqSfMkPadxvu3DJe0qaaWkX3QrDgAAAMTQrgMAAJgbaNcBAIDZqJtXVkrS2cX0vbaX1160vb2kjxdP35NSGu9yHAAAAIihXQcAADA30K4DAACzSl+nC9o+SBMNFkl6SDF9t+031l5MKR1S9/cFtj8h6XRJ19i+WNKIpKMkbSXpQkkfm374AAAAmCradQAAAHMD7ToAADAXdJysVG6sPLrJ63u1K5RSerntn0l6haTDJfVKul7S5yR94v50ltaYUriOeT1T2WVNYhh3OIYN/aOh8uuH7giV37aEQ6Z3/d2h8ttvt1M4ht0etG+ofP+SJeEY1q5eGyp/x603h2MYXX9fqHx/T+xztc2ixaHyknTo4Y8Lld/wl7+EY7jr7pWh8itX3haOYWTdhlD5gXl7hsrfu251qLwkrdsY+0y4pzccgxX/ngY6sMW36wZLqGOohDqqNjgY3xJDQ8EtES1fwjqUcTxEhbdjGaIbooRVKOOYxCw5noLmxLEwR35swqtRwnaYC8f0LLbFt+sGSqgj2uNWRp9dr2P/y7l/fjiGcJ/dqhWh8tum/lB5SVo4C/rstt8j1j9RRp/dX9fF+idW/DHeZ9c7Xm2f3YLtHxAqL8X77O69Ld5fNhf67LZa/OBQ+RtuWxUqL0nrNsbWoSf+FSsPB/vs4j814d/MdSX86I5tGItX0kTHma+U0qXS9HpQU0rnSzp/OmUBAABQLtp1AAAAcwPtOgAAMBd0+56VAAAAAAAAAAAAANAUyUoAAAAAAAAAAAAAlSBZCQAAAAAAAAAAAKASJCsBAAAAAAAAAAAAVIJkJQAAAAAAAAAAAIBKkKwEAAAAAAAAAAAAUAmSlQAAAAAAAAAAAAAqQbISAAAAAAAAAAAAQCVIVgIAAAAAAAAAAACoBMlKAAAAAAAAAAAAAJUgWQkAAAAAAAAAAACgEiQrAQAAAADA/2fv3oMsT8/6sH/fPn2Z6Tlz25t2VyuthLSSLAGSjAABRgIplCsUEBPAhpgQuxyrwtUUFaJQMa5UKQ4yLgJUuLgUCKqEUHEMARdFXCAEUbi6tKsLEovQXbsr7X1nd+f0TN/f/DEtWK9mdnv6+c38eo4+n6qpM919nref3/u7ved5+nQDAACMQrMSAAAAAAAAGIVmJQAAAAAAADCKxbETuJa0tFr8wqSexG4tfGmp3p8+v7VRiv/gX95Zij96x22l+CRZPbpail9svZzDmccfL8Wvf/q+cg5r9z1Qin/oocfKOfS+XYpfPlI7prc/9rFSfJLc/oIXluIXUz+eNtZnpfillfr1aa2vlOI/9okPluL/9M6PluKTZKN4nV9ars1BkvTNzVJ8a7VtSJLea8dkNR4+n0yn1RFq1/9hFDdigE2oDlHfD8m0OA+z2WHYl/UcZrMBJrOWwQBj1LZhOsQBdRgUj8n6MX0Y5nGIHGrzMJ0egovkAOd15bw4d+5c+fsz/6o1uwxQs1te3inF98Wtcg7nt2pjfPAvP1CKH6JmN6nW7I7UX4+eMdOyvQAAIABJREFUO3++FP/EB/6snMPaw2dK8Q/de385h95r50W5Znf87lJ8krzkpS8rxQ9Rs0uvHU/TE7VzIkm2i3Wauz90Vyn+XX90byk+SWrVsmR1+UQ5h75xthS/vFy/zve+Xotfrx/Tk8nBrw07O5e+V3pnJQAAAAAAADAKzUoAAAAAAABgFJqVAAAAAAAAwCg0KwEAAAAAAIBRaFYCAAAAAAAAo9CsBAAAAAAAAEahWQkAAAAAAACMQrMSAAAAAAAAGIVmJQAAAAAAADAKzUoAAAAAAABgFJqVAAAAAAAAwCg0KwEAAAAAAIBRaFYCAAAAAAAAo9CsBAAAAAAAAEahWQkAAAAAAACMQrMSAAAAAAAAGMXi2AlcLa218hgLk9oYiztL5RwWi0MsrdRzuP74tBS/evpEKX76vNtL8Ukym50uxa/cWNuGJDl5/Egp/tTpWnyS5KbrSuG33r9bTmGyW/uZia1pLYcjx7dK8Umy02vx672+L7cWa/vy0ScfKuewc7R2S7luaacUPz1Rv6WtHlktxW9sFw+GJDs7tXmoZ1A3xD2X+be7u5vZbHbg+Om0th45LA4+AxdMU5+H6lRW9uNQ6ofDfBxP1a2YDTEPI0/ldDZAAvUTs57CPJxX5U2oz8Fc3CvGPxQyG2JfjH1x4IqrvI5ZWqrXqlrx7Rit1V9P7izV6hPTlfp5ct3xlVL85HQtful5N5fikyRbtdflKzfeWE6hWrM7ulp/TbzyvFtK8bde97JyDpOlcWt2J5cPQc1uuV6zm+0cK8V/5uF6zW7x1PFS/Mndas2uFp8kp06eLMUPUrPrtTH6ZjmFckdvs9WTWLhC74H0zkoAAAAAAABgFJqVAAAAAAAAwCg0KwEAAAAAAIBRaFYCAAAAAAAAo9CsBAAAAAAAAEahWQkAAAAAAACMQrMSAAAAAAAAGIVmJQAAAAAAADAKzUoAAAAAAABgFJqVAAAAAAAAwCg0KwEAAAAAAIBRaFYCAAAAAAAAo9CsBAAAAAAAAEahWQkAAAAAAACMQrMSAAAAAAAAGMXi2AlcLb3Xx5hMJqX4xcVWzuHoylJtgIXaNiTJjTfeVIp/zk03luJ3Z7NSfJIsrN5Sil9bvb6cw6nJk6X41SPFYyHJ0nNeVIq/YXW7nEMe3yiF95eeLMVvbn2iFJ8kZ+59sBS/vHxzOYf1ndrxcOSmG8o5HN8+U4rffPL+UvxzTp8qxSfJqWO1a+SnH14r59CLN6zW6vcauDoWkqyOncT4ZtNafDE8SWbFtdV0WktigKVdeRuSehLVeRjGAJNZNB3ioBzZrDqPA+yG8uE0xKFQHmP8Y2Hs69uFQYrxQ+zL6q1mkEvL+NcnrrSDv5Yaoma3uFh7LbewUC+RTnK0FF/dhiQ5ceJEKf75z7utFL872yrFJ8lWsWb32GSIml2tVrU63S3nMH1+rWZ3fFKv2S2eLw5QrNltz+o1uwfuvacU3xdOl3Pop2q19JMb49fszj75WCn+OaefU4pPkqOLHyrFr52rnxO9eKtoA5TSs1IMr57XSbayUx/kIryzEgAAAAAAABiFZiUAAAAAAAAwCs1KAAAAAAAAYBSalQAAAAAAAMAoNCsBAAAAAACAUWhWAgAAAAAAAKPQrAQAAAAAAABGoVkJAAAAAAAAjEKzEgAAAAAAABiFZiUAAAAAAAAwCs1KAAAAAAAAYBSalQAAAAAAAMAoNCsBAAAAAACAUWhWAgAAAAAAAKPQrAQAAAAAAABGoVkJAAAAAAAAjGJx7ASunl4eYXe3Nsb29nY5h+1ie3m7b5Zz+NS995TiP/axG0vxL/qKLynFJ8ny9Ggpfu3Mk+UcPn72wVL88288Xs5heelsKf7JJ9bLOZw8s1uKf+zec6X446dbKT5J1neWS/Gf/MhH6jmsnCjFLx+rxSfJ0uZSKb4dWSnFP/Tww6X4JFk/v1GKn0wm5Rx2e+2cqN/t6no/DFlw2C0sJKurhQFms3IO00xrA9RTKBtgGuqKSRT3wiCGmMbZodgZtdmcDrAzxp6H6QAbUb02DDMH1e0YIIfiXJa34BCcU0OkUD8m60lURxji2lA7Imqv+bg6FhcLr6036rWFpcnpUvzG+a1yDr1WGsj6Zr1mt7tZq/N87O67S/FD1OyOF2t2Zwao2f3FPePX7HantePhyfX6eXXkgfOl+McmZ0rxN9xcr9n1xdq++OgANbt+olYLXz5aq5clyVKr3cxPtLVS/EMP31eKT+o1u+3t4kU6ydKkVvvsqd9rarOQ9OUBanbblfrnziW/su/WV2vtpa21f9Ja++XW2odaa7uttd5a+9ZniHn73nMu9e9Dl7klAAAUWdcBAMwH6zoAYB5czjsrvzvJPzng9/mjJB+9yOfvP+B4AAAcnHUdAMB8sK4DAK55l9Os/GCSf5nkziR3JfnFJK/fZ+wv9N7ffnmpAQBwhVjXAQDMB+s6AOCat+9mZe/9F576cWv13xkNAMDVZ10HADAfrOsAgHmw779ZCQAAAAAAADCky/k1sBVf21r74iTTJA8m+cMk7+i9716l7w8AwDCs6wAA5oN1HQBwKFytZuV3XeRzd7fWvr33/oGrlAMAAHXWdQAA88G6DgA4FK70r4F9X5IfSPKKXPgprVuTfEOS9yd5eZLfba0991LBrbU3tdbubK3deYXzBADgmZXWdcl/uLbrvV/pfAEAuLhB13VXOlkAYP5d0XdW9t5/6mmfWkvyW621dyR5V5LXJvmRJN93ifi3JXlbkrTWVLQAAEZSXdftjfFXa7vJZGJtBwAwgqHXdWp2AEDVlX5n5UX13jeT/Njeh18/Rg4AANRZ1wEAzAfrOgBgLKM0K/d8aO/xGX+tBAAAh551HQDAfLCuAwCuujGbldfvPc5GzAEAgDrrOgCA+WBdBwBcdWM2K//u3uO7R8wBAIA66zoAgPlgXQcAXHVXrFnZWntVa+0bWmuTp31+sbX2Q0l+YO9TP3mlcgAAoM66DgBgPljXAQCH0eJ+n9ha+5tJfu4pn3r53uP/2Fr7rz/7yd77a/f++4Ikv57ksdbah5Pcl+R4ki9KcmuS3SRv7r3/9oGzBwDgslnXAQDMB+s6AGAe7LtZmeREki+/yOfvuMTz35/kp5N8WZLbk7w6Sc+FRdAvJfnZ3vtdl/H9R7e9vVWK773Xk2i1N8Pu7NS2IUnOPrley6E4DSeec/2zP+lZbJ57ohS/e/ZcOYf33/XhUvzvfPz+cg63vP4rS/EfPlOfhwd//32l+Fd8/cUuS/t3/uyZUnySbH3y06X4556elnN46asudSnen9M3HC/nsL3USvE725dzS/pcj61tluKTZGN3uRS/2zfKOewOca8YWWu1Y4GrYvR13e5uMiv8JaRp6tfOqtkAf8ppOq1tR2UO58msfDgMcDxVd0bxWJgbh+CcKO+Kw7AvB8ihPJeHYBqqhtiEWXEih8ihfs90sznkRl/XJcn29uVG/LVJVg4e/Fffv1bvWu+1WleSXHfkRCl+Y22Imt1aKf4w1OzO7tRqdkee3CnnUK7Zffqxcg4veH1tXw5Rs7vnt/99Kf4Vf+d1pfjzj9Rrdgv312p2NwxQs/viVx0rxZ++vV6zW1urXeM2j177NbulAcptm1u163RtFi9YKd4zz7fzA2RxZex7fnrv/2+SfVcfe++fSPKDB8gJAIAryLoOAGA+WNcBAPPgiv3NSgAAAAAAAIBnolkJAAAAAAAAjEKzEgAAAAAAABiFZiUAAAAAAAAwCs1KAAAAAAAAYBSalQAAAAAAAMAoNCsBAAAAAACAUWhWAgAAAAAAAKPQrAQAAAAAAABGoVkJAAAAAAAAjEKzEgAAAAAAABiFZiUAAAAAAAAwCs1KAAAAAAAAYBSalQAAAAAAAMAoFsdO4GrpvZfHWFio9nbrOayd365l0DfKOZw4WpuHBx7bKcWfPfN4KT5Jjh09Xoq/+WUvL+fQZ0ul+JV7a/OYJB/87btL8dO/8eJyDrf8zS8vxR85MynF/+E731OKT5I3PP9Fpfhbv+B55Rxu+YJaDqen5RTyxONrpfg7H14vxd99zxOl+CQ5t75Vil9arN9Wt3ZqOewOcL+raq2NnQLXhN0kswNHHzzyr02ntYvfdIgkZrVBqtuwN0oxfoiJqJkWt+EwHE+DKB5PORTHU1V9b86q21DdD0l5X8yGyKFqVrzGDnEoVafhEOQwyPXpEIzA54OD16s2CrGfdeToSil+5Wz9/RxrxdfEC8v113LXHT9Sin9grVizOzdEze6GUvzJl9VrLMvFmt2Jh95XzuGDv/neUvz0la8o5/CqV7+uFF+u2f3On5Tik+QNL67VcG997k3lHKo1u9Wlej1/sv5YKf7O+2o1u4899GQpPkl2qjW7Y0fLOWwWF2b1u11da7X7xAWbA4zxubyzEgAAAAAAABiFZiUAAAAAAAAwCs1KAAAAAAAAYBSalQAAAAAAAMAoNCsBAAAAAACAUWhWAgAAAAAAAKPQrAQAAAAAAABGoVkJAAAAAAAAjEKzEgAAAAAAABiFZiUAAAAAAAAwCs1KAAAAAAAAYBSalQAAAAAAAMAoNCsBAAAAAACAUWhWAgAAAAAAAKPQrAQAAAAAAABGoVkJAAAAAAAAjGJx7ASuJa3VervbW2v1HBZqOaxOV8o5PLm+Xor/vbvuLsX/x19yWyk+Sd7wJS8txS8c3yzncMPffkMp/vS0Pg8vf+ThUvyHz8zKObz6lV9aiv/4B2vH03/+TV9fik+SL33h80vxy7ceLedw4sXXl+If+VhtHpPk3Frt2vDhTz5Yin/o8fo1dmlSu8ZubdWvDbu9l+Jba+UcqnZ3d8dOgc8H07ETyEA51AaZpX4vnpZzKE7ErL4NVdMB5rE6QnU/DGE2wL6YTsfdjvLxmGGOh3lQ35fjz+Ns/NOq7hBswxDXhox8beCQW64PUa7ZLdRfy7WFWs1tcqycQp5c3ynF/7v3fLwU/4YvHKJmd7oUf3T5bDmHG77mq0rxp5eGqNndV4r/wAA1u9e+7m+V4qs1uxu+8ZtL8Unyt172nFL88vVD1OxuKcV/+u73lnPY2a7Vmj51/z2l+CFqdrurtev82gA1u7KlsRNIzp8/Xx9kMqmPcRHeWQkAAAAAAACMQrMSAAAAAAAAGIVmJQAAAAAAADAKzUoAAAAAAABgFJqVAAAAAAAAwCg0KwEAAAAAAIBRaFYCAAAAAAAAo9CsBAAAAAAAAEahWQkAAAAAAACMQrMSAAAAAAAAGIVmJQAAAAAAADAKzUoAAAAAAABgFJqVAAAAAAAAwCg0KwEAAAAAAIBRaFYCAAAAAAAAo1gcO4HPJwutPkbvO6X4cxsb9RyKPe6/fODxUvxb/s93l+KT5MabX1CKf8nKQ+UcFq4/WYq/8ZXPK+dw+hOTUvzWxx4u5/DgA58uxR8/dqwU/4KbbizFJ8mpF9X25ep1vZzDI5/5cCn+zOP1fTnbOlKK/+DH7yvF3//Yk6X4JEmr3RZ3drbrORS1Vr/ZDDEGXGnTTMtjzDIbIJNrX30eavtiOq3vy8zG35fl7RhkG4r7YoBzYlbcjurRMMDRVDfEMV1NYYAxqvuymsQQ21C9VwxynzgE81DejkEO6fGv0xxey1kuj7GRWr1ra4iXQL34enCjVvMbwtlize7Hf+PPyjncVq7Z1edx4dabSvE3vrIWnwxRs6vVWJLknk99vBR/fLFWY3nBi24rxSfJqTuqNbv69alaszs3QM3u0WLN7q5ize6BAWp2y61WA97aGWAtUjstszzAvWazbdYGWKnnkO0rc7/yzkoAAAAAAABgFJqVAAAAAAAAwCg0KwEAAAAAAIBRaFYCAAAAAAAAo9CsBAAAAAAAAEahWQkAAAAAAACMQrMSAAAAAAAAGIVmJQAAAAAAADAKzUoAAAAAAABgFJqVAAAAAAAAwCg0KwEAAAAAAIBRaFYCAAAAAAAAo9CsBAAAAAAAAEahWQkAAAAAAACMQrMSAAAAAAAAGIVmJQAAAAAAADCKxbETuHr6IRihlUeoJrG7Vd+Kag47xfi1tfO1AZJ87JP3l+Kf/9wvKOew9MRnSvHT615SzmG2eroUv7L1WDmHjdNLpfil4mm1vF2/DC7ddKoUv7l1XzmH/kRtX5yYTss5vPd995Ti/+R9HyrFb2zXr7HLk51S/KTVc9jptYtkGyCH6hhD5ABXwzT1a9/YZmMnkCSzYhYD3IMOg1lxHoaZhfH3RXWE8jwOsA2HYV/OivtyiHmYVs/t4kxU90MyxCE9/jkxyJV+/EvD4bhfcYjVa1XLWSnF76b2WjBJevG13OZWPYfyVG6tl8LX1mrxyeGo2e0+9IlS/PWD1OxWS/ErC7X4JFk5XbsB7Lba1X95cqwUnyS7J4s1u/WHyzmsP1Q7pk9cf305h/f++4/U4t//yVL82nq9TrS6UrxGtloNOkkmxYtsa9vlHNpmbS6PDFCzWx/gvn0x+3pnZWttqbX2xtbaT7TW/rS1dn9rbbO19unW2q+21r7mWeL/s9baH7TWnmitzVprd7bWvre15p2dAABXkXUdAMB8sK4DAObFft9S9Pok79j7/wNJ7kqyluTlSb4lybe01t7Se/9nTw9srf1sku9Jsp7knUm2krwxyc8keWNr7dt67wP86BAAAPtgXQcAMB+s6wCAubDfn5TaTfJrSV7Xe7+l9/4Nvfe/13v/oiTfnmQnyY+21r72qUGttW/JhYXPA0m+eC/um5PckeQvknxzku8baFsAAHh21nUAAPPBug4AmAv7alb23n+v9/6tvfc/uMjX/nWSt+99+J1P+/KP7D2+uff+kafEPJjku/c+/G/9egkAgKvDug4AYD5Y1wEA82KoRcd79x5v++wnWmu3JfmSJJtJ/s3TA3rv70ry6SQ3J3ntQHkAAFBjXQcAMB+s6wCAa8JQzco79h7vf8rnXr33+Oe99/OXiHv3054LAMC4rOsAAOaDdR0AcE0oNytbazcn+Qd7H/7aU770wr3HTz1D+D1Pey4AACOxrgMAmA/WdQDAtWSxEtxaW0zyy0lOJnln7/03n/Ll6d7j2jMMMdt7PH6J8d+U5E2VHAEAeHZXel239z2s7QAArjDrOgDgWlNqVib5V0nemOTefO4f6257j/2gg/fe35bkbUnSWjvwOAAAPKsruq5LrO0AAK4S6zoA4Jpy4F8D21r76ST/KMkDSd7Ye3/gaU85u/c4zaV99mtnn+E5AABcQdZ1AADzwboOALgWHahZ2Vr7iSQ/kOThXFj4fOQiT/vk3uPtzzDU8572XAAAriLrOgCA+WBdBwBcqy67Wdla+/EkP5Tk0SRf13u/+xJPfe/e4ytaa0cv8ZwvfdpzAQC4SqzrAADmg3UdAHAtu6xmZWvtrUl+OMmZXFj4vP9Sz+2935vkPUmWk3zbRcZ6fZLbcuHXUvzJ5eQBAECNdR0AwHywrgMArnX7bla21t6S5M1JHs+Fhc9+frrqx/Ye/0Vr7cVPGeumJD+39+Fbe++7+80DAIAa6zoAgPlgXQcAzIPF/TyptfZNSf7p3ocfTfL9rbWLPfVDvfe3fvaD3vuvttZ+Psl3J/lAa+13k2wleWOSE0l+I8nPHDx9AAAuh3UdAMB8sK4DAObFvpqVSa57yv9fs/fvYt6V5K1P/UTv/Xtaa3+Y5HuTvD7JJMmHkvyvSX7+cn5Ka2Fhst+nfo7eLvvPc36OSXopfqmcQbK97112cUeyXc7h+uMH3w9J8uJbri/Ff+cbX1qKT5KXXbdVin/k058q5/Dc219Uim8758o5LJ8+UYpfWjlWzuH0ysnaABtPlsJ3ztXnse1uluIffeKRcg4b2zul+CcGmIdHH3uoFL9V/ZndxfpVtmWjFD+Z1K6PSdJ3a/ea5KLFicsboXjPvESBhMPjUKzrqmaDDDLIKCXT6XTsFMqTWd6GIfZDdRoPRQpDHAu1DZkOsC/GP6sOgQF25XSQ46Gmui/LW3AIro+DnJWH4V5zjY9wLvXXKnNsLtZ1m61W60qSpY31UvzuVu11fZJMFi/1J0D3ZyW1WlWSXL9cey338pfcWor/zq+6vRSfJC+75dqv2W3u1Go0SdKrNbtiDTlJVnOkNsBC7bw6DDW7x9brNbudSW1fPPH4E+UcPjN2ze5IfS1RrdmtDlCzO7deu9fsbNfrZceL1/m1Vjyvk0xy8PNqJ5e+Pu7rTOm9vz3J2w+aQO/9V5L8ykHjAQAYhnUdAMB8sK4DAOZF/e2GAAAAAAAAAAegWQkAAAAAAACMQrMSAAAAAAAAGIVmJQAAAAAAADAKzUoAAAAAAABgFJqVAAAAAAAAwCg0KwEAAAAAAIBRaFYCAAAAAAAAo9CsBAAAAAAAAEahWQkAAAAAAACMQrMSAAAAAAAAGIVmJQAAAAAAADAKzUoAAAAAAABgFJqVAAAAAAAAwCg0KwEAAAAAAIBRLI6dwH61tEz65MDxW72Vc3jVi59bin/xqfp07+70UvwtJ5fLObzkeadK8c+96UQp/tj0eCk+SY5cPy3Fb5x7opzD2YfuLcUfmdR/1uD8uaOl+Ee3Hi/nsPjRtVL8uSceLMVPb9guxSfJdfdtluK3F8+Xc9hYPVaKXxngZ1e+8EW3lOJPra6W4h+ZnSvFJyn/CE/fHSCFhdq9otVvd1lYOPj9Nkl67VbF54uFJJXTfjar51BbDgyivBWzITaimEVxXwywJzMt7szZAFlMp7Uchjkci/MwyHl1GOah6nBkUTLEiTW2AY7H8ghDHArFMarXtwuK1+kB9kX1Gskh15KFxYO/htjd2Cqn8MrXPL8U/+KTQ9TsajW3W44MUbOr1Xm+oFizWxykZnd9Kf7JMw+Vczj7RG2MG1c/Vs7h/FZtX35m67FyDov31mpmO8Wa3fYANbtj1ZrdsUNQs9sYv2Z3slize+DRM6X4JNlY2CjF7y7VC2btSO1ecaStlHNYOFqr2a0/XF/XLSwMUHy82LhXZFQAAAAAAACAZ6FZCQAAAAAAAIxCsxIAAAAAAAAYhWYlAAAAAAAAMArNSgAAAAAAAGAUmpUAAAAAAADAKDQrAQAAAAAAgFFoVgIAAAAAAACj0KwEAAAAAAAARqFZCQAAAAAAAIxCsxIAAAAAAAAYhWYlAAAAAAAAMArNSgAAAAAAAGAUmpUAAAAAAADAKDQrAQAAAAAAgFEsjp3A5VhoheDdjfL3f+0dN5biX3f7UjmHtScfKcU/57m3lnM4ef0NpfjF5aOl+N1e77Hv7uyW4o8fP1HO4exsrRS/8alPlHM4unpdKf6W247Vczg6LcWvnd8qxR85uV2KT5Kt5fOl+OMrtXMiSRZ2eyl+beNcOYcbV1dL8a94Xu3a8rH7/7IUnyRbrbYNrdWPp5bavkwqN0u4ehZ2k9VZYYDa7SNJMhtikNFVJvGC6iyUM5jW98OsmMT0EOQwhMNwRJePp8MwkVWzAY6nAc7ta90g52V5gAH2Q3E7hjgnynM5xD13Hs5tLmmhJ0cLL83XJ/XXUa998W2l+ENRs7vh+nIONxVrdjvVml0xPknOn6vV7G64oVa/TZJHHq3V7J48W6/ZnSrX7Opl/1OnajeAxx6vXfuHqdk9Xoo/vlCvfW5tr5fi1zZq8ckQNbva9enjn3m0FJ8kW0snawNs1M7rJGkry7UUNuo9quPHj9cGWFkp57CzXquFX4p3VgIAAAAAAACj0KwEAAAAAAAARqFZCQAAAAAAAIxCsxIAAAAAAAAYhWYlAAAAAAAAMArNSgAAAAAAAGAUmpUAAAAAAADAKDQrAQAAAAAAgFFoVgIAAAAAAACj0KwEAAAAAAAARqFZCQAAAAAAAIxCsxIAAAAAAAAYhWYlAAAAAAAAMArNSgAAAAAAAGAUmpUAAAAAAADAKBbHTuBytIVCb3W3/v2nC5ul+FtvvK6cw/3LrRQ/WT1eziFHT5XCl6e1+Mn2Rik+SXa2zpbiFxfrff7WavvyzKMPl3N44L57SvGt1Y+n6264qRR/9PhyKX5zt348rT1UG6PtTso5bGzXjqfe68d0390qxX/HN762FP+pBx4qxSfJ++55shQ/mdT3ZWq7Ej5/zA7DINNyBtP6EGWDTCWHw/Ta35vTQ3BSzGbjz+NhmIey4jTOhrg6FefxMOyH8Y/GgVTm8ty54fLgCmlprfCacmennMG0WOe59cTt5RweK9bsVgeo2W0Ua3ar1ZrdAC+Jd2Zqdkly5uGPlOI3B6jZLSw+rxR//HStZrc9qdfszjxUq/Oc310t57AxqR1PC5WeyJ7lpdoY3/F1tZrdhz91Xyk+ST74QO14WFleKefQ0kvxte7SIVK52D/DPd87KwEAAAAAAIBRaFYCAAAAAAAAo9CsBAAAAAAAAEahWQkAAAAAAACMQrMSAAAAAAAAGIVmJQAAAAAAADAKzUoAAAAAAABgFJqVAAAAAAAAwCg0KwEAAAAAAIBRaFYCAAAAAAAAo9CsBAAAAAAAAEahWQkAAAAAAACMQrMSAAAAAAAAGIVmJQAAAAAAADAKzUoAAAAAAABgFJqVAAAAAAAAwCgWx05g31pLWxi3t/rE2bXaAEdOlHOYHrmxlsJkUs5habuX4vvZJ2oJrCzV4pPysbS2VjwWkiwvL5fij0+Pl3PYPF/bjjMP31PO4cyDnyzFHz1am8d2tH48rUyOlOKXF2vxSbJ48mhtgKPHyjns9tp5dcfttWP6u77tq0vxSfLo//bOUvy9D58r57C0VD8mgWvHbOwEkkyn07FTqKtuwmyAPVGcx0OxFwaYhllxQ6bFfTHEOVU9J2YDHE/TQ3BEVLejOo9DzEF1G6rHM08xxHWWQ61UZ9mpf//DULNbOlmr2bXt7XIO00mtRrK4uV6LH6Bmt3u0WLN77LFyDsvHa/WJG5bqNbtHH65tx5n7hqjZ3V+KP7VQqyFvDlCzO7F6shQ/22nlHI6akUBrAAAeGklEQVTddKo2wAA1u/PrW6X4O15SO6b/8d9/Yyk+Sf7FL/y7UvxnnqzX8xeWrp122hW1M8CN+yL2dfVvrS211t7YWvuJ1tqfttbub61tttY+3Vr71dba11wi7u2ttf4M/z406NYAAPCMrOsAAOaDdR0AMC/22wp+fZJ37P3/gSR3JVlL8vIk35LkW1prb+m9/7NLxP9Rko9e5PO1H88AAOByWdcBAMwH6zoAYC7st1m5m+TXkvx07/0PnvqF1trfS/J/JPnR1trv995//yLxv9B7f3spUwAAhmBdBwAwH6zrAIC5sK9fA9t7/73e+7c+feGz97V/neTtex9+54C5AQAwMOs6AID5YF0HAMyL2l8s/mvv3Xu8baDxAAAYh3UdAMB8sK4DAK4J+/01sM/mjr3HS/1O+69trX1xkmmSB5P8YZJ39N53B/r+AAAMw7oOAGA+WNcBANeEcrOytXZzkn+w9+GvXeJp33WRz93dWvv23vsHqjkAAFBnXQcAMB+s6wCAa0np18C21haT/HKSk0ne2Xv/zac95X1JfiDJK3Lhp7RuTfINSd6f5OVJfre19txnGP9NrbU7W2t3pvdKqgAAPIMrva7b+x5/tbazsgMAuDKu/rrOyg4AqKm+s/JfJXljkntzkT/W3Xv/qad9ai3Jb7XW3pHkXUlem+RHknzfxQbvvb8tyduSZGFhYuUDAHDlXNF13d4Yf7W2m7RmbQcAcGVc5XXdgnUdAFBy4HdWttZ+Osk/SvJAkjf23h/Yb2zvfTPJj+19+PUHzQEAgDrrOgCA+WBdBwBciw7UrGyt/UQu/LqIh3Nh4fORAwzzob3HZ/y1EgAAXDnWdQAA88G6DgC4Vl12s7K19uNJfijJo0m+rvd+9wG/9/V7j7MDxgMAUGBdBwAwH6zrAIBr2WU1K1trb03yw0nO5MLC5/2F7/139x7fXRgDAIADsK4DAJgP1nUAwLVu383K1tpbkrw5yeO5sPB577M8/1WttW9orU2e9vnF1toP5cKvpUiSn7zMnAEAKLCuAwCYD9Z1AMA8WNzPk1pr35Tkn+59+NEk399au9hTP9R7f+ve/1+Q5NeTPNZa+3CS+5IcT/JFSW5Nspvkzb333z5w9gAAXBbrOgCA+WBdBwDMi301K5Nc95T/v2bv38W8K8lnFz/vT/LTSb4sye1JXp2k58Ii6JeS/Gzv/a7LSXa3X3TBtU+TZ3/Kszi/u1OKP3P28XIOJ26o/X3zlcll/5nSz3H0yH4Pm4vrO7V5zMa5WnySpcXaPKysrJZzWCjui6MrS+UcltqNpfhTJ46Xc1ib1f4Mxvr6ein+2ImTpfgkWZjUri+bm1vlHPrOZil+sR8p53Dk6IlS/Mb2bin+q1/zqlJ8kqzNavvif/hf/p9yDhu9Fj9ZqN/vdna2S/ELqe1LrrhDsa4rmw4wRvUvMQ2SQy2J6QA5zIo5zIMhduXUPCapz2X5tBxiZx4G1ePpEEzEfFxbxp/HTOvzeBj2xLRwTJ47V68BzLFDs64r1ezqL2HqNbvNAWp2KzfU4k/UJ2Kh1eZhp1hb2HmyfsWZFGt2x4ao2aX2wnyhWDtNkqWTtZrd0ZV6zW57q1YjeeKJJ0rxN904RM2udjycPVs/pvu5s6X4xSND1Oxq87C2VjsWvuyL/kYpPkn+8TfX9sU//9/fWc5hu6/UBjhSq7clybnDULObHPwa90w1x32N2nt/e5K3X8437b1/IskPXk4MAABXlnUdAMB8sK4DAOZF/W12AAAAAAAAAAegWQkAAAAAAACMQrMSAAAAAAAAGIVmJQAAAAAAADAKzUoAAAAAAABgFJqVAAAAAAAAwCg0KwEAAAAAAIBRaFYCAAAAAAAAo9CsBAAAAAAAAEahWQkAAAAAAACMQrMSAAAAAAAAGIVmJQAAAAAAADAKzUoAAAAAAABgFJqVAAAAAAAAwCg0KwEAAAAAAIBRLI6dwL71lt3dSrq75RRuPdZL8cc3Hy3nsP7YpBS/evpkOYezZx4vxS8t1g671eXlUnySrEyWSvHTE8fKOWxurpfit9fPl3OY7KzVBtgqxidZXtgqxe+kNo/rjz9Yik+S0zfeXIpfPLZazmE7tWN6ZXK0nsPmZim+99rPz7T1c6X4JPnaV91Riv+jL3lJOYffffeHS/F9sXYsJElP7TrbWivnAM9qVh9iOp2OnUJSzWE2yETUx6B8QAxxPFV35RBHQvWYdDheUD0eDsU0zsHOnA5zpS+Zn8v8+HPJldNTrdnVvfC62muYQWp2a8WaXT9SzuH8Qq1WVK7ZrQxQs1upzePpIWp2Z2u1prUhanaL26X4lYWNcg5bW8V13cphqNndXorfGaBmt1ms2R0boma3XtsXfbmWQ+s7pfgk+dov/8JS/J13f7Scwzvf/fFS/PpO/b2DxV2RPkDNbj2169OleGclAAAAAAAAMArNSgAAAAAAAGAUmpUAAAAAAADAKDQrAQAAAAAAgFFoVgIAAAAAAACj0KwEAAAAAAAARqFZCQAAAAAAAIxCsxIAAAAAAAAYhWYlAAAAAAAAMArNSgAAAAAAAGAUmpUAAAAAAADAKDQrAQAAAAAAgFFoVgIAAAAAAACj0KwEAAAAAAAARqFZCQAAAAAAAIxicewE9q8nfacWXzSdHivF33z96XIOs3a0FH9qWotPkunJm0vxO632/ScLk9oASXY210vxK0v1U+fo0mopfmep/rMGy9kqxZ88UTsnkmQyqe3P2dqslsBuLTxJjp+6qZbCyvFyDme3asfD+k7l+nrB0mLt5F7cruWwuLxSik+S49dPS/Ff9LIXlnO4688/XorfWa5f5zOpXePOp3ih5/PDQpLKrbB4+b8wRnGQae2akST1EerKUzn+AGWzAfZleWcOMA31XTFAEiPPwyBH03T8a0PVILuyuB2zQ3CNLRvigCpux7R6PA6gvC9TPZ7Olb8/V1jryVLh9dxmPYVpsU4zRM1uq1qzWz1SzmHpplp9Yqe4LyYL27UBUq/ZZYCa3ZHrajW7pbP1mt25lVrN7shKfR5ueu51pfitx2r3j40hanbPqZ3buys3lHMo1+zO1Wt2p26u1XBna7V78eLxQ1Cze0G9ZveeP/9MKX5nud7XqNbsHt+o33Rbq2zHpY9n76wEAAAAAAAARqFZCQAAAAAAAIxCsxIAAAAAAAAYhWYlAAAAAAAAMArNSgAAAAAAAGAUmpUAAAAAAADAKDQrAQAAAAAAgFFoVgIAAAAAAACj0KwEAAAAAAAARqFZCQAAAAAAAIxCsxIAAAAAAAAYhWYlAAAAAAAAMArNSgAAAAAAAGAUmpUAAAAAAADAKDQrAQAAAAAAgFFoVgIAAAAAAACjWBw7gf3rWczGgaO3BujL/vF926X4zcW1cg5HjyyV4pdWd8o55GhtOxaOHi3F9836NvT19VJ8294q57Bx9mx5jLJWDG/FAZIsF4+HNqmd2327dl4nSc/9tQEWHyvnsN1rl/PN9HIOk+lyKf7s2SdL8YsLk1J8kiwu1ubx7nseLueQldo5MVleLaewvVW7xvXd3XIOfD5YSFI5Xmf1FKbT+hhVswG241rPYYD9UB1hiBkob8UAh2N9Ow7BOVFMYXoI9uZsiHPqEOyK8ZMY//o4yNFUHWSIe9X4U5lDkgRXSEutwLg5QA5//HDt9eDZP6vX7E612uugpdXaa+ok2Ri7ZtfqpeblYs1uc3uA1+WHoGa3Ua3ZbQ5QsztVOx6OTGrHdN+un5f9k7Wa28bOADW75WLNbqNes1u9/ngp/pFHaufV4tHxa3bvHaJml2LNbuVYOYPt2fg1u1bfnRflnZUAAAAAAADAKDQrAQAAAAAAgFFoVgIAAAAAAACj0KwEAAAAAAAARqFZCQAAAAAAAIxCsxIAAAAAAAAYhWYlAAAAAAAAMArNSgAAAAAAAGAUmpUAAAAAAADAKDQrAQAAAAAAgFFoVgIAAAAAAACj0KwEAAAAAAAARqFZCQAAAAAAAIxCsxIAAAAAAAAYhWYlAAAAAAAAMIrWex87h31ZaK2vtIPH7y4sl3PYrA6wUx4hyaQYvztADtfGMXNlDdHnr85j4YQYdIyqag7V+Hk5J6rzMMQ2DDGX17Y2xLVhUrvOt4XFeg67xfvVzk49hfIIuav3/pr6MFwpk8mkr66uFkaYlXOY1Ycom44+QH2QWXUipwNsRDmHegqD7Iqiw3BMj22YU+Iw7M2a8nmZZFqeh8NwQI58fUt9HofIoWrsU+LcuWRnpx+GF69cwmSh9dXFg78O2V2ovx49t1Edof4aplqxqw9QH2Sn+lqu+Hp2L4liDvUUBtkVRQO8rB7AuDW7yRCVgUm9J1BXm4ednfIFLpPyuXkYDsiRr29JllaOluK3tgaYx2LNbnmIsmEhdns76f3i67p9V1Vba9/fWvu/Wmt/0Vp7tLW21Vp7uLX2u62172ytXfQbtNYWWmvf21q7s7U2a6090Vr7g9badxx0gwAAODjrOgCA+WBdBwDMg8vpo745yU1JPpjkj5OsJbk9yRuSvDHJt7bW/tPe+181VltrkyT/d5JvSvJkkt9JsrL3/F9prX1F7/0HhtgQAAD2zboOAGA+WNcBANe8y2lWfnuS9/be1576ydbaK5K8M8l/kuS/SPJLT/nyD+bCwufuJG/ovT+4F3NHkj9I8v2ttXf23v/twTcBAIDLZF0HADAfrOsAgGvevn8NbO/9D5++8Nn7/J8n+dm9D7/us5/f+ymt/2bvw+/+7MJnL+YjufCTX0ny311u0gAAHJx1HQDAfLCuAwDmwb6blc9ie+9x/Smf+4pc+DUU9/Xe/7+LxPybJFtJvrS19tyB8gAAoMa6DgBgPljXAQDXhHKzsrX2wiT/1d6Hv/mUL7167/HdF4vrvZ9L8ud7H76qmgcAADXWdQAA88G6DgC4llzO36xMkrTW/mGS1ydZSnJbkq/Mhabnj/Xef/0pT33h3uOnnmG4e3Jh4fPCZ3gOAABXgHUdAMB8sK4DAK5ll92sTPJVufCHuT9rO8mPJvmfnva86d7j5/ze/KeY7T0ev9gXW2tvSvKmA+QIAMCzu2rruuQ/XNu11i4rUQAAntF467rLShMA4HNd9q+B7b3/l733lmQ1ySuS/FSS/z7Jn7bWbn3KUz+7VukHTa73/rbe+2t676+x8AEAGNbVXNftfb+/XttpVgIADGbcdV1lJACAwt+s7L2f773f3Xv/4SQ/kuSVSX7mKU85u/c4/Zzgv/bZr519hucAAHAFWdcBAMwH6zoA4Fp04Gbl0/zS3uM3ttaW9v7/yb3H258h7nlPey4AAOOyrgMAmA/WdQDANWGoZuXjufC78BeTXLf3uffsPX7pxQJaa6tJvnDvw/cOlAcAADXWdQAA88G6DgC4JgzVrHxdLix8Hk/yyN7n/iTJQ0lua6297iIx35ZkKcm7e++fHigPAABqrOsAAOaDdR0AcE3YV7OytfbVrbW/31pbucjXvirJL+59+Iu9950k2Xv8l3uf//nW2k1PibkjyVv3PvznB00eAIDLY10HADAfrOsAgHmxuM/nvSgXfs/9z7TW3pPkgSTH9z7/8r3n/FaSH31a3E/mwk9xfWOSj7TW3pkLP531HyU5kuR/7r3/29IWAABwOazrAADmg3UdADAX9tusfFeStyT56iQvSfKVSVouLIJ+Lckv995/4+lBvfed1trfSfI9Sf5hkr+dZCfJXUl+rvf+K+UtAADgcljXAQDMB+s6AGAutN772DnsS2vt2kj0GbQ2dgbDmJPNAAZ2zV+kB3CN3FI/X9zVe3/N2ElwaZPJpK+urh44fpZZOYdppqX42WyAHKa1HDJADrPiPJQ3oRa+N8ggo5Qchn1Z3RlDHNNVh2Ea64obkaR6ZpSPx3oK5QGG2ZVD7IuxDXGvKY9QzqF03z6X9J2uFHGItdb64uJ+3w/xubazXc5hcd/vx7hEDtv1HJaWJrUBtnbKOWwV52F5qfb9N2vhF2zV90XV8lJtHgfZhuLxtDnA8VRVPp62hsmjpnheJ7nwsyAHVz4ek/TyXNaO6WF2ZX0exjfA/a48DfV5LN23t5PeL76u29ffrAQAAAAAAAAYmmYlAAAAAAAAMArNSgAAAAAAAGAUmpUAAAAAAADAKDQrAQAAAAAAgFFoVgIAAAAAAACj0KwEAAAAAAAARqFZCQAAAAAAAIxCsxIAAAAAAAAYhWYlAAAAAAAAMArNSgAAAAAAAGAUmpUAAAAAAADAKDQrAQAAAAAAgFFoVgLw/7d3bzGSlGUYx59nF0QRNBEEAhhCcKMBD3iAgMhyWLkxgEZ2UZEgRC4EIptgCOECYyQGxBAxnIwR5YJwISgYw41AFFEgsoiorES8WAQCCihHIZxeL+qbbO9MT09191tVXTP/X9Kp7eoqqHnzzNdPUjM9AAAAAAAAAAB0gpuVAAAAAAAAAAAAADrhiOj6Gmqx/ZSkR5Y4bFdJT7dwOcsdc8zBHHMwxxzMMQdzzNHGHPeJiHc3/P/AFGp0O77fcjDHHMwxB3PMwRxzMMcc9DrQ69rDHHMwxxzMMQdzzMEcc3Ta63pzs7IO25si4uNdX0ffMccczDEHc8zBHHMwxxzMEXWQkxzMMQdzzMEcczDHHMwxB3NEHeQkB3PMwRxzMMcczDEHc8zR9Rz5GFgAAAAAAAAAAAAAneBmJQAAAAAAAAAAAIBOLLeblT/s+gKWCeaYgznmYI45mGMO5piDOaIOcpKDOeZgjjmYYw7mmIM55mCOqIOc5GCOOZhjDuaYgznmYI45Op3jsvqblQAAAAAAAAAAAAD6Y7n9ZiUAAAAAAAAAAACAnuj9zUrbJ9m+0/Zztl+0vcn2WbZ7/7W1wfa1tmPE46Gur3FW2H6f7Y22r7P9kO03y4zW1ziXnBaTzJGcbsv29rbX2b7U9j22n7D9qu3Hbd9o+8glziePxaSzJJML2f6a7Z/a/pvtZ2y/Zvsp27fZPtm2FzlvVcnfppLH50o+v9j214DusT5Nj/WpHnpdDnpdDrpdDnpdHnodMrA2TY/1qR56XR663fTodTnodXn61Ou2a+o/3AbbV0o6U9Irkm6X9JqkdZKukLTO9oaIeKPDS+yT30v6x5D9T7R9ITPsDEkbxz2JnC4w0RwLclo5QtKt5d9PSrpP0kuS9pd0gqQTbF8YEd+YfyJ5XGDiWRZkcqvzJO0m6a+S7lI1x30kHa0qY+ttfy4i3pw7wfZqST+XdLyk5yX9StIO5fjrbR8aEWe3+lWgM6xP6VifRqPX5aDX5aDb5aDX5aHXYSqsTelYn0aj1+Wh202PXpeDXpenP70uInr5UBXKUBWwNQP7d5e0uby2sevrnPWHpGvLrE7t+lpm/SHpdEmXSDpR0n6SflNmt37EOeQ0Z47kdNt5HC3pRkmHD3nt85JeL/M6at5r5DFvlmRy4bw+KentQ/YfoKpYhqTT5r329bL/QUm7D+xfM3DOZ7r+2ni0kh/Wp7xZsj7VmxO9rrs5ktGFM6HbdTtHMrlwXvQ6HtPkh7Upb5asT/XmRK/rdpbkdNt50Ou6nSN5XDiv3vS6zoc1xZA3laGcMuS1Iwa+uVd1fa2z/OAbeKrZ1XnDJqc5cySn4830R2Ve18zbTx7zZkkmx5vjBWVe1w/sWy3pX2X/2iHnfLm89oeur59HKxlhfcqbJevTZHOj17U3RzI6/lzpds3OkUyON0d6HY+lMsLalDdL1qfJ5kava3eW5HS8mdLrmp0jeRxvjjPV63r5Wce295b0MUmvSrph/usRcYekxyXtIemQdq8OqJBTdOj+st17bgd5nNiCWWIir5ftKwP7DlX1MRSPRcRvh5xzg6qPPDnI9l4NXx86xPqEPiCn6BjdLge9Lge9DotibUIfkFN0jF6Xg16XY6Z6XV//ZuVHyvbBiHh5kWPulbRXOfauVq6q346y/SFJO6m6c/47SbfGwGcVY2zkNB85rWdN2Q5+Djt5nMywWQ4ik0uwva+kr5anvxx4aS6T9w47LyL+Z/tBSQeWx+ONXSS6xvrUDNanXOQ0Hxmtj26Xg143JXodamBtagbrUy5y2gxyWg+9Lge9bkqz2Ov6erNy37J9ZMQx/5x3LEY7Zci+zba/EBF/af1qlgdymo+cLsH2HpJOLU9/NvASeRzTiFkOIpPz2D5N1UeUbK/qJ9w+IWmVpIsi4qaBQ+tm8kCRyeWO9akZrE+5yGk+MloD3S4HvW4y9DpMgLWpGaxPuchpM8jpEuh1Oeh1k+lDr+vlx8CquiMuSS+NOObFst254Wvpuz9JOlvVH1TdSdKeko6V9ICk/SXdxse0TIyc5iGnNdjeTtJ1kt4p6faIGPypGPI4hiVmKZHJUQ5T9fn1J0laW/ZdIOlb844jk5hDFnKxPjWDnOYhozXR7XLQ66ZCr8O4yEIu1qdmkNNc5LQGel0Oet1UZr7X9fVmpcs2Or2KZSAiLouIyyNic0S8FBFPRMQtkg6WdI+qzyc+v9ur7C1ymoSc1vYDSeskPSrp5HmvkcfxjJolmRwhIk6PCEvaUVU5vEzSNyXdY3vPgUPJJOaQhUSsT40hp0nI6FjodjnodROi12ECZCER61NjyGkiclobvS4HvW5Cfeh1fb1Z+ULZ7jTimLnXXhhxDBYREa9Kuqg8/XSX19Jj5LRh5HQr29+X9BVJT0paFxFPzjuEPNZUY5aLIpNbRcTLpRyeq6oIfljSFQOHkEnMIQstYH2aGjltGBndFt0uB70uB70OYyALLWB9mho5bQE53Ypel4Nel2OWe11fb1ZuKdt9RhzznnnHYnwPle1K/dXoaW0pW3LarBWfU9uXqvqIg6dUvVk/POSwLWVLHkeoOculrPhMDvGTsj3O9vbl31vKlkxiS9mSheaxPk1uS9mS02aRUdHtstDrGkOvwyhbypYsNI/1aXJbypacNm/F55Rel4Ne15iZ6nV9vVl5f9keYPttixxz0LxjMb5dyvbFkUdhMeS0HSs6p7YvkXSOpGckHRMRmxc5lDwuYYxZLmVFZ3IRz0p6XdJ2kt5V9v2xbA8adoLtHSV9oDxdkZlcQVif2sP6NDly2o4Vn1G6XQ56XaPodRiFtak9rE+TI6ftWdE5pdfloNc1aqZ6XS9vVkbEo6qG9hZJG+a/bvsISXur+pXgu9u9umXlxLK9t9Or6Cly2poVm1PbF0s6V9J/Vb1ZP7DYseRxtHFmWcOKzeQIa1UVn2clPV323S3p35L2tr12yDkbJG0v6d6IeLyVq0QnWJ9axfo0IXLamhWdUbpdDnpd4+h1WBRrU6tYnyZETlu1YnNKr8tBr2vcTPW6Xt6sLOY+Y/g7tt87t9P2bpKuKk8vjog3W7+ynrB9oO1jba+et3872+eo+tVqSfpe+1e3bJDTKZHT4WxfKOk8VW8mx0REnZ9kIY9DjDtLMrmQ7cNtf8n2DkNeO0zSNeXpNRHxhiSV7XfL/qtLDufOWSPp4vL0281dOWYI61MC1qfGkdMpkdHF0e1y0OumR69DAtamBKxPjSOnCcjpcPS6HPS66fWt1zkisv+brbF9laQzJL0i6TZJr0laJ+kdkm6WtH5uyFjI9mcl3STpP5L+LukxSTtL+qCkPSW9Ken8iLiks4ucIbY/qq1vDpK0v6p5PaxqhpKkiDhk3nnkdMC4cySnC9k+XtIvytNNkh5c5NCHIuLiwR3kcVuTzJJMLmT7VFWfc/+sqp8GfFLVTPZT9T0uSbdI2hARLw+ct1rVLI+T9Lyk21X9dNanJL1V0uURMVcmscyxPk2P9ak+el0Oel0Oul0Oel0Oeh0ysDZNj/WpPnpdHrrd9Oh1Oeh1OfrW63p9s1KSbJ8k6SxVoVut6g+l/ljS1SvpJw0mYXtfSRslHazqD6buIilUfSPfKenKiLivuyucLbaPlPTrpY6LCA85l5wW486RnC408EazlDsi4sgh55PHYpJZksmFykxOk3S4pPdK2lWSVZWgTZKui4ibFzl3laQzy/nvl/SGpD9Luioirm/+6jFLWJ+mw/pUH70uB70uB90uB70uB70OWVibpsP6VB+9Lg/dbnr0uhz0uhx963W9v1kJAAAAAAAAAAAAoJ/6/DcrAQAAAAAAAAAAAPQYNysBAAAAAAAAAAAAdIKblQAAAAAAAAAAAAA6wc1KAAAAAAAAAAAAAJ3gZiUAAAAAAAAAAACATnCzEgAAAAAAAAAAAEAnuFkJAAAAAAAAAAAAoBPcrAQAAAAAAAAAAADQCW5WAgAAAAAAAAAAAOgENysBAAAAAAAAAAAAdOL/IseR8kDOPAAAAAAASUVORK5CYII=\n",
      "text/plain": [
       "<Figure size 2304x2304 with 3 Axes>"
      ]
     },
     "metadata": {
      "needs_background": "light"
     },
     "output_type": "display_data"
    }
   ],
   "source": [
    "test_single_prediction(epsilon=0.05)"
   ]
  },
  {
   "cell_type": "code",
   "execution_count": 41,
   "metadata": {
    "ExecuteTime": {
     "end_time": "2020-03-05T00:40:14.550367Z",
     "start_time": "2020-03-05T00:40:12.085995Z"
    }
   },
   "outputs": [
    {
     "name": "stdout",
     "output_type": "stream",
     "text": [
      "True label is: 5 - dog\n",
      "    \n",
      "Before fgsm - Model prediction: 5 - dog with 41.43% Confidence\n",
      "    \n",
      "After fgsm - Model prediction: 9 - truck with 99.87% Confidence\n",
      "    \n"
     ]
    },
    {
     "name": "stderr",
     "output_type": "stream",
     "text": [
      "Clipping input data to the valid range for imshow with RGB data ([0..1] for floats or [0..255] for integers).\n"
     ]
    },
    {
     "data": {
      "image/png": "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\n",
      "text/plain": [
       "<Figure size 2304x2304 with 3 Axes>"
      ]
     },
     "metadata": {
      "needs_background": "light"
     },
     "output_type": "display_data"
    }
   ],
   "source": [
    "test_single_prediction(epsilon=0.1)"
   ]
  },
  {
   "cell_type": "code",
   "execution_count": 33,
   "metadata": {
    "ExecuteTime": {
     "end_time": "2020-03-05T00:38:20.183365Z",
     "start_time": "2020-03-05T00:38:19.966050Z"
    },
    "colab": {},
    "colab_type": "code",
    "id": "4HLy1zRB4i-V"
   },
   "outputs": [],
   "source": [
    "def test_fgsm(model, device, test_loader1, epsilon):\n",
    "    device = torch.device('cpu')\n",
    "    model.to(device)\n",
    "    model.eval()\n",
    "\n",
    "    # Accuracy counter\n",
    "    correct = 0\n",
    "    adv_examples = []\n",
    "\n",
    "    # Loop over all examples in test set\n",
    "    for images, labels in test_loader1:\n",
    "\n",
    "        # Send the data and label to the device\n",
    "        images, labels = images.to(device), labels.to(device)\n",
    "\n",
    "        # Set requires_grad attribute of tensor. Important for Attack\n",
    "        images.requires_grad = True\n",
    "\n",
    "        # Forward pass the data through the model\n",
    "        output = neural_network(images)\n",
    "        init_pred = output.max(\n",
    "            1, keepdim=True)[1]  # get the index of the max log-probability\n",
    "\n",
    "        # If the initial prediction is wrong, dont bother attacking, just move on\n",
    "        if init_pred.item() != labels.item():\n",
    "            continue\n",
    "\n",
    "        # Calculate the loss\n",
    "        loss = criterion(output, labels)\n",
    "\n",
    "        # Zero all existing gradients\n",
    "        model.zero_grad()\n",
    "\n",
    "        # Calculate gradients of model in backward pass\n",
    "        loss.backward()\n",
    "\n",
    "        # Collect datagrad\n",
    "        images_gradient = images.grad.data\n",
    "\n",
    "        # Call FGSM Attack\n",
    "        perturbed_data = fgsm(images, epsilon, images_gradient)\n",
    "\n",
    "        # Re-classify the perturbed image\n",
    "        output = model(perturbed_data)\n",
    "\n",
    "        # Check for success\n",
    "        final_pred = output.max(\n",
    "            1, keepdim=True)[1]  # get the index of the max log-probability\n",
    "        if final_pred.item() == labels.item():\n",
    "            correct += 1\n",
    "            # Special case for saving 0 epsilon examples\n",
    "            if (epsilon == 0) and (len(adv_examples) < 5):\n",
    "                adv_ex = perturbed_data.squeeze().detach().cpu().numpy()\n",
    "                adv_examples.append(\n",
    "                    (init_pred.item(), final_pred.item(), adv_ex))\n",
    "        else:\n",
    "            # Save some adv examples for visualization later\n",
    "            if len(adv_examples) < 5:\n",
    "                adv_ex = perturbed_data.squeeze().detach().cpu().numpy()\n",
    "                adv_examples.append(\n",
    "                    (init_pred.item(), final_pred.item(), adv_ex))\n",
    "\n",
    "    # Calculate final accuracy for this epsilon\n",
    "    final_acc = correct / float(len(test_loader1))\n",
    "    print(\"Epsilon: {}\\tTest Accuracy = {} / {} = {}\".format(\n",
    "        epsilon, correct, len(test_loader1), final_acc))\n",
    "\n",
    "    # Return the accuracy and an adversarial example\n",
    "    return final_acc, adv_examples"
   ]
  },
  {
   "cell_type": "code",
   "execution_count": 0,
   "metadata": {
    "ExecuteTime": {
     "end_time": "2020-03-03T19:15:19.306340Z",
     "start_time": "2020-03-03T18:56:52.266743Z"
    },
    "colab": {},
    "colab_type": "code",
    "id": "8hh0fubC4i-b"
   },
   "outputs": [],
   "source": [
    "accuracies = []\n",
    "examples = []\n",
    "\n",
    "# Run test for each epsilon\n",
    "for eps in epsilon:\n",
    "    acc, ex = test_fgsm(model, device, test_loader1, eps)\n",
    "    accuracies.append(acc)\n",
    "    examples.append(ex)"
   ]
  },
  {
   "cell_type": "code",
   "execution_count": 0,
   "metadata": {
    "ExecuteTime": {
     "end_time": "2020-03-03T19:16:56.826262Z",
     "start_time": "2020-03-03T19:16:56.666353Z"
    },
    "colab": {},
    "colab_type": "code",
    "id": "2vtp5b_a4i-g"
   },
   "outputs": [],
   "source": [
    "plt.figure(figsize=(5, 5))\n",
    "plt.plot(epsilon, accuracies, \"*-\")\n",
    "plt.yticks(np.arange(0, 0.4, step=0.1))\n",
    "plt.xticks(np.arange(0.05, 0.11, step=0.01))\n",
    "plt.title(\"Accuracy vs Epsilon\")\n",
    "plt.xlabel(\"Epsilon\")\n",
    "plt.ylabel(\"Accuracy\")\n",
    "plt.show()"
   ]
  }
 ],
 "metadata": {
  "colab": {
   "machine_shape": "hm",
   "name": "Midterm Project (Version 4).ipynb",
   "provenance": []
  },
  "kernelspec": {
   "display_name": "Python 3",
   "language": "python",
   "name": "python3"
  },
  "language_info": {
   "codemirror_mode": {
    "name": "ipython",
    "version": 3
   },
   "file_extension": ".py",
   "mimetype": "text/x-python",
   "name": "python",
   "nbconvert_exporter": "python",
   "pygments_lexer": "ipython3",
   "version": "3.7.3"
  },
  "toc": {
   "base_numbering": 1,
   "nav_menu": {},
   "number_sections": true,
   "sideBar": true,
   "skip_h1_title": false,
   "title_cell": "Table of Contents",
   "title_sidebar": "Contents",
   "toc_cell": false,
   "toc_position": {},
   "toc_section_display": true,
   "toc_window_display": true
  },
  "varInspector": {
   "cols": {
    "lenName": 16,
    "lenType": 16,
    "lenVar": 40
   },
   "kernels_config": {
    "python": {
     "delete_cmd_postfix": "",
     "delete_cmd_prefix": "del ",
     "library": "var_list.py",
     "varRefreshCmd": "print(var_dic_list())"
    },
    "r": {
     "delete_cmd_postfix": ") ",
     "delete_cmd_prefix": "rm(",
     "library": "var_list.r",
     "varRefreshCmd": "cat(var_dic_list()) "
    }
   },
   "position": {
    "height": "404.667px",
    "left": "878.222px",
    "right": "20px",
    "top": "122px",
    "width": "518.111px"
   },
   "types_to_exclude": [
    "module",
    "function",
    "builtin_function_or_method",
    "instance",
    "_Feature"
   ],
   "window_display": false
  }
 },
 "nbformat": 4,
 "nbformat_minor": 1
}

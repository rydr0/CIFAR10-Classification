{
 "cells": [
  {
   "cell_type": "markdown",
   "metadata": {
    "colab_type": "text",
    "id": "6GSWhnNW4i4t"
   },
   "source": [
    "# Classification of CIFAR-10 Image Dataset"
   ]
  },
  {
   "cell_type": "markdown",
   "metadata": {
    "colab_type": "text",
    "id": "n91YhwF3H1dM"
   },
   "source": [
    "**Natalie Kane, Ryan Drozdz, Wanyu Ma**\n",
    "\n",
    "Our chosen dataset is CIFAR-10. The classes the dataset contains are:\n",
    "\\begin{itemize}\n",
    "\\item airplane\n",
    "\\item automobile\n",
    "\\item bird\n",
    "\\item cat\n",
    "\\item deer\n",
    "\\item dog\n",
    "\\item frog\n",
    "\\item horse\n",
    "\\item ship\n",
    "\\item truck\n",
    "\\end{itemize}\n",
    "The size of each image in the CIFAR-10 dataset is 3x32x32. They have 3 colour channels namely red, green and blue and 32x32 pixel resolution.\n",
    " \n",
    "Our aim is to build a neural network classifier that can take an RGB image as an input and accurately determine which of the 10 distinct classes it belongs to. In addition to this, we will also implement an adversarial attack on our trained neural network which would cause our model to misclassify the images. Once sucessful in implementing an effective adversarial attack, we will focus on building a robust model that is resistant to those same attacks."
   ]
  },
  {
   "cell_type": "markdown",
   "metadata": {
    "colab_type": "text",
    "id": "ldaJLTi34i4w"
   },
   "source": [
    "### Starting Lines and Necessary Imports\n",
    "\n",
    "\\begin{enumerate}\n",
    "\n",
    "\\item Import various pytorch packages for neural network constructing and model training\n",
    "\\item Torchvision used to import, load and transform the dataset\n",
    "\\item Import numpy, pandas packages for data manipulation\n",
    "\\item Import matplotlib, seaborn packages for visualisation\n",
    "\\item Torchsummary used to summarise parameters, to install use \"pip install torchsummary\" in your console\n",
    "\n",
    "\\end{enumerate}"
   ]
  },
  {
   "cell_type": "code",
   "execution_count": 0,
   "metadata": {
    "ExecuteTime": {
     "end_time": "2020-03-15T23:21:34.461492Z",
     "start_time": "2020-03-15T23:21:25.470661Z"
    },
    "colab": {},
    "colab_type": "code",
    "id": "Dsz_EbPK4i4z"
   },
   "outputs": [],
   "source": [
    "from torchsummary import summary\n",
    "from torchvision import datasets, transforms\n",
    "import torchvision.transforms as transforms\n",
    "import torchvision\n",
    "from torch.autograd import Variable\n",
    "import torch.optim as optim\n",
    "import torch.nn as nn\n",
    "import torch\n",
    "import matplotlib.pyplot as plt\n",
    "import numpy as np\n",
    "import pandas as pd\n",
    "import seaborn as sn\n",
    "\n",
    "%matplotlib inline\n",
    "\n",
    "\n",
    "%load_ext autoreload\n",
    "%autoreload 2"
   ]
  },
  {
   "cell_type": "markdown",
   "metadata": {
    "colab_type": "text",
    "id": "0XIo3lSNpwev"
   },
   "source": [
    "### Google Colab is used to surpass the hardware limitations with our current setup. \n",
    "Run the two cells below if using Google Colab (you need to have a folder called AdvMachineLearningProject with the files in it)"
   ]
  },
  {
   "cell_type": "code",
   "execution_count": 2,
   "metadata": {
    "colab": {
     "base_uri": "https://localhost:8080/",
     "height": 122
    },
    "colab_type": "code",
    "id": "5Tzf-Hgb4pFr",
    "outputId": "54220bb5-fe37-461a-c77a-3586978d9218",
    "scrolled": true
   },
   "outputs": [
    {
     "name": "stdout",
     "output_type": "stream",
     "text": [
      "Go to this URL in a browser: https://accounts.google.com/o/oauth2/auth?client_id=947318989803-6bn6qk8qdgf4n4g3pfee6491hc0brc4i.apps.googleusercontent.com&redirect_uri=urn%3aietf%3awg%3aoauth%3a2.0%3aoob&response_type=code&scope=email%20https%3a%2f%2fwww.googleapis.com%2fauth%2fdocs.test%20https%3a%2f%2fwww.googleapis.com%2fauth%2fdrive%20https%3a%2f%2fwww.googleapis.com%2fauth%2fdrive.photos.readonly%20https%3a%2f%2fwww.googleapis.com%2fauth%2fpeopleapi.readonly\n",
      "\n",
      "Enter your authorization code:\n",
      "··········\n",
      "Mounted at /drive\n"
     ]
    }
   ],
   "source": [
    "from google.colab import drive\n",
    "drive.mount('/drive')"
   ]
  },
  {
   "cell_type": "markdown",
   "metadata": {
    "colab_type": "text",
    "id": "ifnJ5m-WeOY2"
   },
   "source": [
    "Create a target folder to store project files"
   ]
  },
  {
   "cell_type": "code",
   "execution_count": 3,
   "metadata": {
    "colab": {
     "base_uri": "https://localhost:8080/",
     "height": 34
    },
    "colab_type": "code",
    "id": "pPpRZwiy43Ev",
    "outputId": "5ac2911d-a343-4c59-bf0d-f8125e64c1de"
   },
   "outputs": [
    {
     "name": "stdout",
     "output_type": "stream",
     "text": [
      "/drive/My Drive/AdvMachineLearningProject\n"
     ]
    }
   ],
   "source": [
    "cd /drive/My\\ Drive/AdvMachineLearningProject"
   ]
  },
  {
   "cell_type": "markdown",
   "metadata": {
    "colab_type": "text",
    "id": "TSTN90EK4i48"
   },
   "source": [
    "## Load CIFAR 10 Data using torchvision"
   ]
  },
  {
   "cell_type": "markdown",
   "metadata": {
    "colab_type": "text",
    "id": "-XZSdQej4i5T"
   },
   "source": [
    "### Data Pre-processing (Mean, Standard Deviation and Transforms)"
   ]
  },
  {
   "cell_type": "markdown",
   "metadata": {
    "colab_type": "text",
    "id": "Bh6iB30MeOZI"
   },
   "source": [
    "We first calculate the mean and standard deviation of each channel using the dataset without any transformations. These values normalise the images by diving each channel by its standard deviation and subtracting its mean to get all the pixel values in each channel a range from -1 to 1. \n",
    "\n",
    "We also use the transformations ‘RandomCrop’ and ‘HorizontalFlip’ during training to add some stochasticity to our input data. That will produce a model that generalises better to unseen data. These transformations also aid model regularisations."
   ]
  },
  {
   "cell_type": "code",
   "execution_count": 4,
   "metadata": {
    "ExecuteTime": {
     "start_time": "2020-03-05T21:39:33.991Z"
    },
    "colab": {
     "base_uri": "https://localhost:8080/",
     "height": 51
    },
    "colab_type": "code",
    "id": "ea3SByUy4i5V",
    "outputId": "895e815d-5765-4423-fa41-fdac00b4eb68"
   },
   "outputs": [
    {
     "name": "stdout",
     "output_type": "stream",
     "text": [
      "Files already downloaded and verified\n",
      "Files already downloaded and verified\n"
     ]
    }
   ],
   "source": [
    "# Data Sets without any processing\n",
    "train_dataset_raw = datasets.CIFAR10('CIFAR10',\n",
    "                                     train=True,\n",
    "                                     download=True,\n",
    "                                     transform=transforms.ToTensor())\n",
    "test_dataset_raw = datasets.CIFAR10('CIFAR10',\n",
    "                                    train=False,\n",
    "                                    download=True,\n",
    "                                    transform=transforms.ToTensor())"
   ]
  },
  {
   "cell_type": "code",
   "execution_count": 0,
   "metadata": {
    "ExecuteTime": {
     "end_time": "2020-03-05T19:35:53.974302Z",
     "start_time": "2020-03-05T19:35:53.906115Z"
    },
    "colab": {},
    "colab_type": "code",
    "id": "n6Er1EsL4i5g"
   },
   "outputs": [],
   "source": [
    "def calculate_mean(loader):\n",
    "    images, labels = iter(loader).next()\n",
    "    mean = images.sum(dim=(0, 2, 3), keepdim=True)\n",
    "    mean = mean/images.shape[0]/images.size(2)/images.size(3)\n",
    "    return mean"
   ]
  },
  {
   "cell_type": "code",
   "execution_count": 0,
   "metadata": {
    "ExecuteTime": {
     "end_time": "2020-03-05T19:35:54.407530Z",
     "start_time": "2020-03-05T19:35:54.336521Z"
    },
    "colab": {},
    "colab_type": "code",
    "id": "ovR2qSlB4i5o"
   },
   "outputs": [],
   "source": [
    "def calculate_std(loader, mean):\n",
    "    images, labels = iter(loader).next()\n",
    "    std = (images - mean).pow(2).sum(dim=(0, 2, 3), keepdim=True)\n",
    "    std = torch.sqrt(std/(images.shape[0]*images.size(2)*images.size(3)-1))\n",
    "    return std"
   ]
  },
  {
   "cell_type": "code",
   "execution_count": 0,
   "metadata": {
    "ExecuteTime": {
     "end_time": "2020-03-05T19:35:54.827772Z",
     "start_time": "2020-03-05T19:35:54.754100Z"
    },
    "colab": {},
    "colab_type": "code",
    "id": "NrrltaFq4i5x"
   },
   "outputs": [],
   "source": [
    "def mean_and_stddev():\n",
    "    train_loader = torch.utils.data.DataLoader(train_dataset_raw,\n",
    "                                               batch_size=50000,\n",
    "                                               shuffle=True)\n",
    "    test_loader = torch.utils.data.DataLoader(test_dataset_raw,\n",
    "                                              batch_size=10000,\n",
    "                                              shuffle=True)\n",
    "\n",
    "    tr_mean = calculate_mean(train_loader)\n",
    "    tst_mean = calculate_mean(test_loader)\n",
    "    tr_std = calculate_std(train_loader, tr_mean)\n",
    "    tst_std = calculate_std(test_loader, tst_mean)\n",
    "\n",
    "    return tr_mean.view(-1), tst_mean.view(-1), tr_std.view(-1), tst_std.view(-1)"
   ]
  },
  {
   "cell_type": "markdown",
   "metadata": {
    "colab_type": "text",
    "id": "1mGc5kgnpwf-"
   },
   "source": [
    "#### Mean and Standard Deviation for Training and Test Datasets"
   ]
  },
  {
   "cell_type": "code",
   "execution_count": 8,
   "metadata": {
    "ExecuteTime": {
     "end_time": "2020-03-05T19:36:08.797647Z",
     "start_time": "2020-03-05T19:35:56.112935Z"
    },
    "colab": {
     "base_uri": "https://localhost:8080/",
     "height": 85
    },
    "colab_type": "code",
    "id": "Q91W6K8P4i56",
    "outputId": "e6259ffc-6d66-434a-f85a-58434d3bbb0f"
   },
   "outputs": [
    {
     "name": "stdout",
     "output_type": "stream",
     "text": [
      "tensor([0.4914, 0.4822, 0.4465])\n",
      "tensor([0.4942, 0.4851, 0.4504])\n",
      "tensor([0.2470, 0.2435, 0.2616])\n",
      "tensor([0.2467, 0.2429, 0.2616])\n"
     ]
    }
   ],
   "source": [
    "tr_mean, tst_mean, tr_std, tst_std = mean_and_stddev()\n",
    "print(tr_mean)\n",
    "print(tst_mean)\n",
    "print(tr_std)\n",
    "print(tst_std)"
   ]
  },
  {
   "cell_type": "markdown",
   "metadata": {
    "colab_type": "text",
    "id": "1-uPfvXLpwgK"
   },
   "source": [
    "#### Transformations"
   ]
  },
  {
   "cell_type": "code",
   "execution_count": 0,
   "metadata": {
    "ExecuteTime": {
     "end_time": "2020-03-05T19:36:09.232530Z",
     "start_time": "2020-03-05T19:36:09.164134Z"
    },
    "colab": {},
    "colab_type": "code",
    "id": "E8GIUBZE4i6B"
   },
   "outputs": [],
   "source": [
    "# Transformations on training set\n",
    "# Crop, Horizontal Flip, Tensor, Normalize (3 channels)\n",
    "transform_tr = transforms.Compose([\n",
    "    transforms.RandomCrop(32, padding=4),\n",
    "    transforms.RandomHorizontalFlip(),\n",
    "    transforms.ToTensor(),\n",
    "    transforms.Normalize(tr_mean, tr_std)\n",
    "])\n",
    "\n",
    "# Transformations on testing set\n",
    "# Tensor and Normalize (3 channels)\n",
    "transform_tst = transforms.Compose([\n",
    "    transforms.ToTensor(),\n",
    "    transforms.Normalize(tst_mean, tst_std)\n",
    "])"
   ]
  },
  {
   "cell_type": "markdown",
   "metadata": {
    "colab_type": "text",
    "id": "oPHpgoQO4i6K"
   },
   "source": [
    "### Load Training and Testing Data"
   ]
  },
  {
   "cell_type": "markdown",
   "metadata": {
    "colab_type": "text",
    "id": "0rVpZ9ZYeOaD"
   },
   "source": [
    "Our dataset consists of 50,000 training images and corresponding labels, as well as 10,000 test images and labels. As the training error is not representative of the generalised error, we split our training image and label sets into a 90/10 training and validation set. Using a validation set will help tune the hyperparameters and evaluate the fit of the model to prevent overfitting of the data."
   ]
  },
  {
   "cell_type": "code",
   "execution_count": 10,
   "metadata": {
    "ExecuteTime": {
     "end_time": "2020-03-05T19:36:14.241606Z",
     "start_time": "2020-03-05T19:36:09.589837Z"
    },
    "colab": {
     "base_uri": "https://localhost:8080/",
     "height": 51
    },
    "colab_type": "code",
    "id": "V4OnwQ3d4i6N",
    "outputId": "5a7bdc96-ec0e-4055-be29-7b5664829eec"
   },
   "outputs": [
    {
     "name": "stdout",
     "output_type": "stream",
     "text": [
      "Files already downloaded and verified\n",
      "Files already downloaded and verified\n"
     ]
    }
   ],
   "source": [
    "# Batch Size Hyperparameters\n",
    "train_batch_size = 32\n",
    "val_batch_size = 5000  # representing a 90/10 train/validation split\n",
    "test_batch_size = 5000  # smaller test batches due to memory constraints\n",
    "\n",
    "# to randomly shuffle data\n",
    "indices = np.arange(50000)\n",
    "np.random.shuffle(indices)\n",
    "\n",
    "# samplers to split into training and validation set\n",
    "tr_sampler = torch.utils.data.SubsetRandomSampler(indices[:45000])\n",
    "val_sampler = torch.utils.data.SubsetRandomSampler(indices[45000:50000])\n",
    "\n",
    "\n",
    "# CIFAR-10 training dataset and data loader\n",
    "train_dataset = datasets.CIFAR10('CIFAR10',\n",
    "                                 train=True,\n",
    "                                 download=True,\n",
    "                                 transform=transform_tr)\n",
    "\n",
    "train_loader = torch.utils.data.DataLoader(train_dataset,\n",
    "                                           batch_size=train_batch_size,\n",
    "                                           shuffle=False,\n",
    "                                           sampler=tr_sampler)\n",
    "val_loader = torch.utils.data.DataLoader(train_dataset,\n",
    "                                         batch_size=val_batch_size,\n",
    "                                         shuffle=False,\n",
    "                                         sampler=val_sampler)\n",
    "\n",
    "# CIFAR-10 test dataset and data loader\n",
    "test_dataset = datasets.CIFAR10('CIFAR10',\n",
    "                                train=False,\n",
    "                                download=True,\n",
    "                                transform=transform_tst)\n",
    "\n",
    "test_loader = torch.utils.data.DataLoader(test_dataset,\n",
    "                                          batch_size=test_batch_size,\n",
    "                                          shuffle=True)"
   ]
  },
  {
   "cell_type": "markdown",
   "metadata": {
    "colab_type": "text",
    "id": "ZLOUbI5F4i6V"
   },
   "source": [
    "#### Check batches and image/label shapes"
   ]
  },
  {
   "cell_type": "code",
   "execution_count": 11,
   "metadata": {
    "ExecuteTime": {
     "end_time": "2020-03-05T19:36:14.687934Z",
     "start_time": "2020-03-05T19:36:14.609890Z"
    },
    "colab": {
     "base_uri": "https://localhost:8080/",
     "height": 102
    },
    "colab_type": "code",
    "id": "Q_MP-CfJ4i6X",
    "outputId": "16bdaf7b-2508-4484-dc77-24c18cd3c7e9"
   },
   "outputs": [
    {
     "name": "stdout",
     "output_type": "stream",
     "text": [
      "1407\n",
      "1\n",
      "2\n",
      "torch.Size([32, 3, 32, 32])\n",
      "torch.Size([32])\n"
     ]
    }
   ],
   "source": [
    "# check num of batches in each training epoch (should be 45,000/train_batch_size)\n",
    "print(len(train_loader))\n",
    "# check num of batches in each training epoch (should be 5,000/val_batch_size = 1)\n",
    "print(len(val_loader))\n",
    "# check num of batches in each test epoch (should be 10,000/test_batch_size)\n",
    "print(len(test_loader))\n",
    "# check shape\n",
    "images, labels = iter(train_loader).next()\n",
    "print(images.shape)  # shape = (train_batch_size, RGB channels, H, W)\n",
    "print(labels.shape)  # shape = (train_batch_size)"
   ]
  },
  {
   "cell_type": "markdown",
   "metadata": {
    "colab_type": "text",
    "id": "av6sQUP64i6e"
   },
   "source": [
    "#### Function to show individual image and associated label"
   ]
  },
  {
   "cell_type": "markdown",
   "metadata": {
    "colab_type": "text",
    "id": "-ppUleN1eOaa"
   },
   "source": [
    "We visualised a grid of 20 randomly selected images from the image set."
   ]
  },
  {
   "cell_type": "code",
   "execution_count": 0,
   "metadata": {
    "ExecuteTime": {
     "end_time": "2020-03-05T19:36:15.163373Z",
     "start_time": "2020-03-05T19:36:15.087372Z"
    },
    "colab": {},
    "colab_type": "code",
    "id": "Ol_bWLxo4i6j"
   },
   "outputs": [],
   "source": [
    "def show_images():\n",
    "    train_loader = torch.utils.data.DataLoader(train_dataset_raw,\n",
    "                                               batch_size=1,\n",
    "                                               shuffle=True)\n",
    "\n",
    "    fig = plt.figure(figsize=(32, 32))\n",
    "    columns = 5\n",
    "    rows = 4\n",
    "\n",
    "    ax = []\n",
    "    plt.rcParams.update({'font.size': 22})\n",
    "    for i in range(1, columns * rows + 1):\n",
    "        image, label = iter(train_loader).next()\n",
    "        ax.append(fig.add_subplot(rows, columns, i))\n",
    "        ax[-1].set_title(\n",
    "            str(label.item()) + \" - \" +\n",
    "            str(train_loader.dataset.classes[label]))\n",
    "        plt.imshow(np.transpose(image[0], (1, 2, 0)))\n",
    "    plt.show()\n",
    "    plt.rcParams.update({'font.size': 12})"
   ]
  },
  {
   "cell_type": "code",
   "execution_count": 14,
   "metadata": {
    "ExecuteTime": {
     "end_time": "2020-03-05T19:36:17.367498Z",
     "start_time": "2020-03-05T19:36:15.556531Z"
    },
    "colab": {
     "base_uri": "https://localhost:8080/",
     "height": 1000
    },
    "colab_type": "code",
    "id": "E-Sk3EfB4i6r",
    "outputId": "e2475d11-03ef-4d45-d573-8b4fe44d649a",
    "scrolled": false
   },
   "outputs": [
    {
     "data": {
      "image/png": "[encoded data removed]",
      "text/plain": [
       "<Figure size 2304x2304 with 20 Axes>"
      ]
     },
     "metadata": {
      "tags": []
     },
     "output_type": "display_data"
    }
   ],
   "source": [
    "show_images()"
   ]
  },
  {
   "cell_type": "markdown",
   "metadata": {
    "colab_type": "text",
    "id": "yBGNZ9WP4i6z"
   },
   "source": [
    "# Helper functions for Neural Network"
   ]
  },
  {
   "cell_type": "markdown",
   "metadata": {
    "colab_type": "text",
    "id": "f72s7mwxeOat"
   },
   "source": [
    "Here we define some helper functions used throughout training and testing of our model.\n",
    "\n",
    "\\textbf{Accuracy function} - comparing model outputs and true labels to give a percentage of correct outputs from 0-100%. This function was used in each training epoch to calculate training and validation loss. The model prediction is the maximum score out of the 10 ouputs (one for each class).\n",
    "\n",
    "\\textbf{GPU check function} - used during training to move training batches to the GPU for calculation, unless a GPU is not available, in that case pytorch will attempt to use the CPU.\n",
    "\n",
    "\\textbf{Reduce step size function} - used during training to reduce step size at specified epochs."
   ]
  },
  {
   "cell_type": "code",
   "execution_count": 0,
   "metadata": {
    "ExecuteTime": {
     "end_time": "2020-03-05T19:36:17.835266Z",
     "start_time": "2020-03-05T19:36:17.765316Z"
    },
    "colab": {},
    "colab_type": "code",
    "id": "9rT9PnCc4i62"
   },
   "outputs": [],
   "source": [
    "def accuracy(outputs, labels):\n",
    "    \"\"\"Function for determining the accuracy of a set of model outputs compared to label values.\"\"\"\n",
    "    prediction = outputs.cpu().max(1, keepdim=True)[1].squeeze()\n",
    "    prediction_comp = torch.eq(prediction.cpu(), labels.cpu())\n",
    "    prediction_comp = prediction_comp.sum().numpy() / torch.numel(prediction.cpu())\n",
    "    return prediction_comp * 100"
   ]
  },
  {
   "cell_type": "code",
   "execution_count": 0,
   "metadata": {
    "ExecuteTime": {
     "end_time": "2020-03-05T19:36:18.287895Z",
     "start_time": "2020-03-05T19:36:18.218514Z"
    },
    "colab": {},
    "colab_type": "code",
    "id": "23GbaeTO4i7A"
   },
   "outputs": [],
   "source": [
    "def cpu_or_gpu():\n",
    "    \"\"\"Function to determine whether to train using a GPU or CPU.\"\"\"\n",
    "    train_on_gpu = torch.cuda.is_available()\n",
    "    if not train_on_gpu:\n",
    "        device = torch.device('cpu')\n",
    "    else:\n",
    "        device = torch.device('cuda:0')\n",
    "    return device"
   ]
  },
  {
   "cell_type": "code",
   "execution_count": 0,
   "metadata": {
    "ExecuteTime": {
     "end_time": "2020-03-05T19:36:18.752387Z",
     "start_time": "2020-03-05T19:36:18.682445Z"
    },
    "colab": {},
    "colab_type": "code",
    "id": "1nc5gfNc4i7J"
   },
   "outputs": [],
   "source": [
    "def reduce_step_size(iteration_cutoff, old_step_size, new_step_size, epoch):\n",
    "    \"\"\"Used in training to reduce step size\"\"\"\n",
    "    step_size = old_step_size\n",
    "    if epoch == iteration_cutoff:\n",
    "        step_size = new_step_size\n",
    "        if epoch == iteration_cutoff:\n",
    "            print(\n",
    "                \"Log -- Decreased Step size from {} to {}\".format(old_step_size, new_step_size))\n",
    "    return step_size"
   ]
  },
  {
   "cell_type": "markdown",
   "metadata": {
    "colab_type": "text",
    "id": "XQEd9taj4i7U"
   },
   "source": [
    "# Initialize settings for Neural Network"
   ]
  },
  {
   "cell_type": "markdown",
   "metadata": {
    "colab_type": "text",
    "id": "V6M1D6jPpwhn"
   },
   "source": [
    "## Main Model"
   ]
  },
  {
   "cell_type": "markdown",
   "metadata": {
    "colab_type": "text",
    "id": "nXiuTgEseObL"
   },
   "source": [
    "Below is our main model, a convolutional neural network with 5 convolutional layers and one linear ouput layer. \n",
    "\n",
    "\\textbf{Convolutional Layer 1} - In-channels: 3, Out-channels: 100, ReLU() activation, 3x3 kernel with padding = 1\n",
    "\\begin{itemize}\n",
    "\\item Filter that convolves around the input image, multiplying each of the input pixels in the filter region with a weight then summing to produce a value for that region in a \"feature map\"\n",
    "\\item In-channels correspond to the channels in the input for the layer\n",
    "\\item Out-channels correspond to the number of feature maps created by the convolutional layer\n",
    "\\item Applies the ReLU() activation function, $y=max(0,x)$, to all values in feature maps\n",
    "\\end{itemize}\n",
    "\n",
    "\\textbf{Max Pooling Layer 1} - 2 x 2\n",
    "\\begin{itemize}\n",
    "\\item Selects the maximum value out of each 2x2 region of each feature map\n",
    "\\item Reduces the size of each feature map by a factor of 2\n",
    "\\end{itemize}\n",
    "\n",
    "\\textbf{Convolutional Layer 2} -  In-channels: 100, Out-channels: 200, 2x2 kernel with padding = 1, ReLU() activation\n",
    "\n",
    "\\textbf{Max Pooling Layer 2}  - 2 x 2\n",
    "\n",
    "\\textbf{Convolutional Layer 3} - In-channels: 200, Out-channels: 300, 2x2 kernel with padding = 1, ReLU() activation\n",
    "\n",
    "\\textbf{Max Pooling Layer 3}  - 2 x 2\n",
    "\n",
    "\\textbf{Convolutional Layer 4} - In-channels: 300, Out-channels: 400, 2x2 kernel with padding = 1, ReLU() activation\n",
    "\n",
    "\\textbf{Max Pooling Layer 4}  - 2 x 2\n",
    "\n",
    "\\textbf{Convolutional Layer 5} - In-channels: 400, Out-channels: 500, 2x2 kernel with padding = 1, ReLU() activation\n",
    "\n",
    "\\textbf{Dropout Layer} - p = 0.5\n",
    "\\begin{itemize}\n",
    "\\item Drop channel with 50% probability\n",
    "\\item Regularizes output of convolutional layers\n",
    "\\end{itemize}\n",
    "\n",
    "\\textbf{Flatten} - From previous convolutional layer into 4500 Nodes\n",
    "\n",
    "\\textbf{Fully Connected Layer} - From 4500 to 10 output weights"
   ]
  },
  {
   "cell_type": "code",
   "execution_count": 0,
   "metadata": {
    "ExecuteTime": {
     "end_time": "2020-03-05T19:36:20.743751Z",
     "start_time": "2020-03-05T19:36:20.643000Z"
    },
    "colab": {},
    "colab_type": "code",
    "id": "NDvHbGwy4i7W"
   },
   "outputs": [],
   "source": [
    "class Neural_Network(nn.Module):\n",
    "    def __init__(self):\n",
    "        super(Neural_Network, self).__init__()\n",
    "\n",
    "        # 5 Convolutional Layers\n",
    "        # 100 - 3x3, 200 - 2x2, 300 - 2x2, 400 - 2x2, 500 - 2x2\n",
    "        self.conv1 = nn.Conv2d(3, 100, 3, padding=1)\n",
    "        self.conv2 = nn.Conv2d(100, 200, 2, padding=1)\n",
    "        self.conv3 = nn.Conv2d(200, 300, 2, padding=1)\n",
    "        self.conv4 = nn.Conv2d(300, 400, 2, padding=1)\n",
    "        self.conv5 = nn.Conv2d(400, 500, 2, padding=1)\n",
    "\n",
    "        # Dropout Layer (p=0.5)\n",
    "        self.drop = nn.Dropout2d()\n",
    "\n",
    "        # Max Pooling Layer (2 x 2)\n",
    "        self.pool = nn.MaxPool2d(2, 2)\n",
    "\n",
    "        # Fully Connected Output Layer\n",
    "        self.fc1 = nn.Linear(4500, 10)\n",
    "\n",
    "        # Activation function\n",
    "        self.activ1 = nn.ReLU()\n",
    "\n",
    "    def forward(self, x):\n",
    "        # 5 convolutional / pooling layers\n",
    "        x = self.activ1(self.conv1(x))\n",
    "        x = self.pool(x)\n",
    "        x = self.activ1(self.conv2(x))\n",
    "        x = self.pool(x)\n",
    "        x = self.activ1(self.conv3(x))\n",
    "        x = self.pool(x)\n",
    "        x = self.activ1(self.conv4(x))\n",
    "        x = self.pool(x)\n",
    "        x = self.activ1(self.conv5(x))\n",
    "        x = self.drop(x)\n",
    "\n",
    "        # Final Output Layer\n",
    "        x = x.view(x.shape[0], -1)\n",
    "        x = self.fc1(x)\n",
    "\n",
    "        return x"
   ]
  },
  {
   "cell_type": "markdown",
   "metadata": {
    "colab_type": "text",
    "id": "-YXZxf_84i7e"
   },
   "source": [
    "## Other attempts"
   ]
  },
  {
   "cell_type": "markdown",
   "metadata": {
    "colab_type": "text",
    "id": "6vP636syeObV"
   },
   "source": [
    "While building our main model, we experimented with various other network architectures, some of  which are shown below as markdown cells. These range from experimentations with different layer types, different levels of normalization and different activation functions. These either had a worse result than our main model or surpassed the level of computation that we had at our disposal."
   ]
  },
  {
   "cell_type": "markdown",
   "metadata": {
    "colab_type": "text",
    "id": "pCYQfRNUpwiD"
   },
   "source": [
    "class Neural_Network_batch_norm(nn.Module):\n",
    "    def __init__(self):\n",
    "        super(Neural_Network2, self).__init__()\n",
    "\n",
    "        # 5 Convolutional Layers\n",
    "        # 100 - 3x3, 200 - 2x2, 300 - 2x2, 400 - 2x2, 500 - 2x2\n",
    "        self.conv1 = nn.Conv2d(3, 100, 3, padding=1)\n",
    "        self.conv2 = nn.Conv2d(100, 200, 2, padding=1)\n",
    "        self.conv3 = nn.Conv2d(200, 300, 2, padding=1)\n",
    "        self.conv4 = nn.Conv2d(300, 400, 2, padding=1)\n",
    "        self.conv5 = nn.Conv2d(400, 500, 2, padding=1)\n",
    "\n",
    "        # Max Pooling Layer (2 x 2)\n",
    "        self.maxpool = nn.MaxPool2d(2, 2)\n",
    "        \n",
    "        # Batch Normalization\n",
    "        self.bn1 = nn.BatchNorm2d(100)\n",
    "        self.bn2 = nn.BatchNorm2d(200)\n",
    "        self.bn3 = nn.BatchNorm2d(300)\n",
    "        self.bn4 = nn.BatchNorm2d(400)\n",
    "        self.bn5 = nn.BatchNorm2d(500)\n",
    "\n",
    "        # Fully Connected Output Layer\n",
    "        self.fc1 = nn.Linear(4500, 100)\n",
    "\n",
    "        # Activation function\n",
    "        self.activ1 = nn.ReLU(inplace=True)\n",
    "\n",
    "    def forward(self, x):\n",
    "        # 5 convolutional / pooling layers\n",
    "        x = self.activ1(self.bn1(self.conv1(x)))\n",
    "        x = self.maxpool(x)\n",
    "        x = self.activ1(self.bn2(self.conv2(x)))\n",
    "        x = self.maxpool(x)\n",
    "        x = self.activ1(self.bn3(self.conv3(x)))\n",
    "        x = self.maxpool(x)\n",
    "        x = self.activ1(self.bn4(self.conv4(x)))\n",
    "        x = self.maxpool(x)\n",
    "        x = self.activ1(self.bn5(self.conv5(x)))\n",
    "\n",
    "        # Final Output Layer\n",
    "        x = x.view(x.shape[0], -1)\n",
    "        x = self.fc1(x)\n",
    "\n",
    "        return x"
   ]
  },
  {
   "cell_type": "markdown",
   "metadata": {
    "colab_type": "text",
    "id": "iwISaGLD4i7g"
   },
   "source": [
    "class Neural_Network_3(nn.Module):\n",
    "    def __init__(self):\n",
    "        super(Neural_Network, self).__init__()\n",
    "        # Convolutional Layer -\n",
    "        self.conv1 = nn.Conv2d(3, 6, 5, padding=1)\n",
    "\n",
    "        # 2nd Convolutional Layer -\n",
    "        self.conv2 = nn.Conv2d(6, 16, 5, padding=1)\n",
    "\n",
    "        # 3rd Convolutional Layer -\n",
    "        self.conv3 = nn.Conv2d(16, 32, 5, padding=1)\n",
    "\n",
    "        # Max Pooling layers -\n",
    "        self.pool = nn.MaxPool2d(2, 2)\n",
    "\n",
    "        # 3 fully connected layers\n",
    "        self.fc1 = nn.Linear(2048, 250)\n",
    "        self.fc2 = nn.Linear(250, 120)\n",
    "        self.fc3 = nn.Linear(120, 84)\n",
    "        self.fc4 = nn.Linear(84, 10)\n",
    "\n",
    "        #Dropout for regularization using default p=0.5\n",
    "        #self.dr1 = nn.Dropout2d()\n",
    "        self.dr2 = nn.Dropout()\n",
    "\n",
    "        # Activation function\n",
    "        self.activ1 = nn.ReLU()\n",
    "        #self.activ1 = nn.Tanh()\n",
    "        #self.activ2 = nn.LocalResponseNorm(2)\n",
    "\n",
    "    def forward(self, x):\n",
    "        # 2 convolutional / pooling layers\n",
    "        x = self.activ1(self.conv1(x))\n",
    "        x = self.activ1(self.conv2(x))\n",
    "        x = self.pool(x)\n",
    "        x = self.activ1(self.conv3(x))\n",
    "\n",
    "        # 2 fully connected hidden layers\n",
    "        x = x.view(x.shape[0], -1)\n",
    "        x = self.activ1(self.fc1(x))\n",
    "        x = self.dr2(x)\n",
    "        x = self.activ1(self.fc2(x))\n",
    "        x = self.dr2(x)\n",
    "        x = self.activ1(self.fc3(x))\n",
    "        x = self.dr2(x)\n",
    "\n",
    "        # final output layer\n",
    "        x = self.fc4(x)\n",
    "\n",
    "        return x"
   ]
  },
  {
   "cell_type": "markdown",
   "metadata": {
    "colab_type": "text",
    "id": "0mCLpOB64i7o"
   },
   "source": [
    "class Neural_Network2(nn.Module):\n",
    "    def __init__(self):\n",
    "        super(Neural_Network2, self).__init__()\n",
    "        # Convolutional Layer - \n",
    "        self.conv1 = nn.Conv2d(3,6,3)\n",
    "        \n",
    "        # 2nd Convolutional Layer -\n",
    "        self.conv2 = nn.Conv2d(6,6,5)\n",
    "        \n",
    "        # 3rd Convolutional Layer -\n",
    "        self.conv3 = nn.Conv2d(6,8,5)\n",
    "        \n",
    "        # 4th Convolutional Layer\n",
    "        self.conv4 = nn.Conv2d(8,10,5)\n",
    "        \n",
    "        # Max Pooling layers - \n",
    "        self.pool = nn.MaxPool2d(2,2)\n",
    "             \n",
    "        # 3 fully connected layers\n",
    "        self.fc1 = nn.Linear(40, 10)\n",
    "        \n",
    "        # Activation function\n",
    "        self.activ1 = nn.ReLU()\n",
    "        \n",
    "    def forward(self, x):\n",
    "        # 2 convolutional / pooling layers\n",
    "        x = self.activ1(self.conv1(x))\n",
    "        x = self.activ1(self.conv2(x))\n",
    "        x = self.pool(x)\n",
    "        x = self.activ1(self.conv3(x))\n",
    "        x = self.activ1(self.conv4(x))\n",
    "        x = self.pool(x)\n",
    "        \n",
    "        # 2 fully connected hidden layers\n",
    "        x = x.view(-1,40)\n",
    "        x = self.activ1(self.fc1(x))\n",
    "        \n",
    "        return x"
   ]
  },
  {
   "cell_type": "markdown",
   "metadata": {
    "colab_type": "text",
    "id": "ER-kym1v4i7y"
   },
   "source": [
    "class Neural_Network_Linear(nn.Module):\n",
    "    def __init__(self):\n",
    "        super(Neural_Network, self).__init__()\n",
    "        self.fc1 = nn.Linear(32* 32 * 3, 256)\n",
    "        self.fc2 = nn.Linear(256,200)\n",
    "        self.fc3 = nn.Linear(200, 10)\n",
    "        self.activ = nn.functional.relu\n",
    "        \n",
    "    def forward(self, x):\n",
    "        x = self.activ(self.fc1(x))\n",
    "        x = self.activ(self.fc2(x))\n",
    "        x = self.fc3(x)\n",
    "        \n",
    "        return x"
   ]
  },
  {
   "cell_type": "markdown",
   "metadata": {
    "colab_type": "text",
    "id": "cmi-bKPd4i75"
   },
   "source": [
    "VGG16 architecture\n",
    "class CNN(nn.Module):\n",
    "    def __init__(self):\n",
    "        super(CNN,self).__init__()\n",
    "        \n",
    "        self.conv_layer = nn.Sequential(\n",
    "        \n",
    "            #1st conv layer block\n",
    "            nn.Conv2d(in_channels=3, out_channels=32, kernel_size=3, padding=1),\n",
    "            nn.BatchNorm2d(32),\n",
    "            nn.ReLU(inplace=True),\n",
    "            nn.Conv2d(in_channels=32, out_channels=64, kernel_size=3, padding=1),\n",
    "            nn.ReLU(inplace=True),\n",
    "            nn.MaxPool2d(kernel_size=2, stride=2),\n",
    "\n",
    "            #2nd conv layer block\n",
    "            nn.Conv2d(in_channels=64, out_channels=128, kernel_size=3, padding=1),\n",
    "            nn.BatchNorm2d(128),\n",
    "            nn.ReLU(inplace=True),\n",
    "            nn.Conv2d(in_channels=128, out_channels=128, kernel_size=3, padding=1),\n",
    "            nn.ReLU(inplace=True),\n",
    "            nn.MaxPool2d(kernel_size=2, stride=2),\n",
    "            nn.Dropout2d(p=0.05),\n",
    "\n",
    "            #3rd conv layer block\n",
    "            nn.Conv2d(in_channels=128, out_channels=256, kernel_size=3, padding=1),\n",
    "            nn.BatchNorm2d(256),\n",
    "            nn.ReLU(inplace=True),\n",
    "            nn.Conv2d(in_channels=256, out_channels=256, kernel_size=3, padding=1),\n",
    "            nn.ReLU(inplace=True),\n",
    "            nn.MaxPool2d(kernel_size=2, stride=2),\n",
    "        )\n",
    "        \n",
    "            #fully connected layers block\n",
    "        self.fc_layer = nn.Sequential(\n",
    "            nn.Dropout(p=0.1),\n",
    "            nn.Linear(4096,1024),\n",
    "            nn.ReLU(inplace=True),\n",
    "            nn.Linear(1024,512),\n",
    "            nn.ReLU(inplace=True),\n",
    "            nn.Dropout(p=0.1),\n",
    "            nn.Linear(512,10)\n",
    "        )\n",
    "        \n",
    "            #perform forward\n",
    "        def forward(self, x):\n",
    "            #conv layers\n",
    "            x = self.conv_layer(x)\n",
    "            #flatten\n",
    "            x = x.view(x.size(0), -1)\n",
    "            #fully connected layer\n",
    "            x = self.fc_layer(x)\n",
    "            \n",
    "            return x"
   ]
  },
  {
   "cell_type": "markdown",
   "metadata": {
    "colab_type": "text",
    "id": "FSnQKYqY4i8D"
   },
   "source": [
    "# Neural Network Training"
   ]
  },
  {
   "cell_type": "markdown",
   "metadata": {
    "colab_type": "text",
    "id": "1urLrHt2eObj"
   },
   "source": [
    "Here we can train a new model or load a previously saved one.\n",
    "\n",
    "Outputs are saved assuming that the marker will load the previously saved model. If desired, one can re-run the training stages, however please keep in mind that training times can be long.\n",
    "\n",
    "If using a previously saved model, the training functions do not need to be ran, and only the criterion cell needs to be defined."
   ]
  },
  {
   "cell_type": "markdown",
   "metadata": {
    "colab_type": "text",
    "id": "rRw9k35opwiw"
   },
   "source": [
    "## Training new model"
   ]
  },
  {
   "cell_type": "code",
   "execution_count": 18,
   "metadata": {
    "ExecuteTime": {
     "end_time": "2020-03-05T18:34:05.745488Z",
     "start_time": "2020-03-05T18:34:02.935691Z"
    },
    "colab": {
     "base_uri": "https://localhost:8080/",
     "height": 204
    },
    "colab_type": "code",
    "id": "yjXsgr7E4i8F",
    "outputId": "661e9166-aad7-4307-b834-d6da4342d6c2"
   },
   "outputs": [
    {
     "data": {
      "text/plain": [
       "Neural_Network(\n",
       "  (conv1): Conv2d(3, 100, kernel_size=(3, 3), stride=(1, 1), padding=(1, 1))\n",
       "  (conv2): Conv2d(100, 200, kernel_size=(2, 2), stride=(1, 1), padding=(1, 1))\n",
       "  (conv3): Conv2d(200, 300, kernel_size=(2, 2), stride=(1, 1), padding=(1, 1))\n",
       "  (conv4): Conv2d(300, 400, kernel_size=(2, 2), stride=(1, 1), padding=(1, 1))\n",
       "  (conv5): Conv2d(400, 500, kernel_size=(2, 2), stride=(1, 1), padding=(1, 1))\n",
       "  (drop): Dropout2d(p=0.5, inplace=False)\n",
       "  (pool): MaxPool2d(kernel_size=2, stride=2, padding=0, dilation=1, ceil_mode=False)\n",
       "  (fc1): Linear(in_features=4500, out_features=10, bias=True)\n",
       "  (activ1): ReLU()\n",
       ")"
      ]
     },
     "execution_count": 18,
     "metadata": {
      "tags": []
     },
     "output_type": "execute_result"
    }
   ],
   "source": [
    "# Use this cell if training a new model. Please skip if using saved model.\n",
    "model = Neural_Network()\n",
    "device = cpu_or_gpu()\n",
    "model.to(device)"
   ]
  },
  {
   "cell_type": "markdown",
   "metadata": {
    "colab_type": "text",
    "id": "26j1ZwrSpwi7"
   },
   "source": [
    "## Loading previously saved model"
   ]
  },
  {
   "cell_type": "code",
   "execution_count": 100,
   "metadata": {
    "ExecuteTime": {
     "end_time": "2020-03-05T19:54:04.627247Z",
     "start_time": "2020-03-05T19:54:04.243891Z"
    },
    "colab": {
     "base_uri": "https://localhost:8080/",
     "height": 204
    },
    "colab_type": "code",
    "id": "4-XJAjsA4i8N",
    "outputId": "a3cd56bb-cd43-42b8-aa9f-f995f7dde956"
   },
   "outputs": [
    {
     "data": {
      "text/plain": [
       "Neural_Network(\n",
       "  (conv1): Conv2d(3, 100, kernel_size=(3, 3), stride=(1, 1), padding=(1, 1))\n",
       "  (conv2): Conv2d(100, 200, kernel_size=(2, 2), stride=(1, 1), padding=(1, 1))\n",
       "  (conv3): Conv2d(200, 300, kernel_size=(2, 2), stride=(1, 1), padding=(1, 1))\n",
       "  (conv4): Conv2d(300, 400, kernel_size=(2, 2), stride=(1, 1), padding=(1, 1))\n",
       "  (conv5): Conv2d(400, 500, kernel_size=(2, 2), stride=(1, 1), padding=(1, 1))\n",
       "  (drop): Dropout2d(p=0.5, inplace=False)\n",
       "  (pool): MaxPool2d(kernel_size=2, stride=2, padding=0, dilation=1, ceil_mode=False)\n",
       "  (fc1): Linear(in_features=4500, out_features=10, bias=True)\n",
       "  (activ1): ReLU()\n",
       ")"
      ]
     },
     "execution_count": 100,
     "metadata": {
      "tags": []
     },
     "output_type": "execute_result"
    }
   ],
   "source": [
    "# Use this cell if loading a saved model. Please skip if training a new model from scratch.\n",
    "model = Neural_Network()\n",
    "device = cpu_or_gpu()\n",
    "model.to(device)\n",
    "model.load_state_dict(\n",
    "    torch.load(\"final_model\"))  # <------- Insert path of saved model as string here\n",
    "\n",
    "model.eval()"
   ]
  },
  {
   "cell_type": "markdown",
   "metadata": {
    "colab_type": "text",
    "id": "HzWoB1aKpwjK"
   },
   "source": [
    "## Model Summary"
   ]
  },
  {
   "cell_type": "code",
   "execution_count": 101,
   "metadata": {
    "ExecuteTime": {
     "end_time": "2020-03-05T19:36:36.275179Z",
     "start_time": "2020-03-05T19:36:33.665663Z"
    },
    "colab": {
     "base_uri": "https://localhost:8080/",
     "height": 510
    },
    "colab_type": "code",
    "id": "kXLrfa4o4i8V",
    "outputId": "6e517e65-cb05-4ec3-f9a0-01333e10b977"
   },
   "outputs": [
    {
     "name": "stdout",
     "output_type": "stream",
     "text": [
      "----------------------------------------------------------------\n",
      "        Layer (type)               Output Shape         Param #\n",
      "================================================================\n",
      "            Conv2d-1          [-1, 100, 32, 32]           2,800\n",
      "              ReLU-2          [-1, 100, 32, 32]               0\n",
      "         MaxPool2d-3          [-1, 100, 16, 16]               0\n",
      "            Conv2d-4          [-1, 200, 17, 17]          80,200\n",
      "              ReLU-5          [-1, 200, 17, 17]               0\n",
      "         MaxPool2d-6            [-1, 200, 8, 8]               0\n",
      "            Conv2d-7            [-1, 300, 9, 9]         240,300\n",
      "              ReLU-8            [-1, 300, 9, 9]               0\n",
      "         MaxPool2d-9            [-1, 300, 4, 4]               0\n",
      "           Conv2d-10            [-1, 400, 5, 5]         480,400\n",
      "             ReLU-11            [-1, 400, 5, 5]               0\n",
      "        MaxPool2d-12            [-1, 400, 2, 2]               0\n",
      "           Conv2d-13            [-1, 500, 3, 3]         800,500\n",
      "             ReLU-14            [-1, 500, 3, 3]               0\n",
      "        Dropout2d-15            [-1, 500, 3, 3]               0\n",
      "           Linear-16                   [-1, 10]          45,010\n",
      "================================================================\n",
      "Total params: 1,649,210\n",
      "Trainable params: 1,649,210\n",
      "Non-trainable params: 0\n",
      "----------------------------------------------------------------\n",
      "Input size (MB): 0.01\n",
      "Forward/backward pass size (MB): 3.41\n",
      "Params size (MB): 6.29\n",
      "Estimated Total Size (MB): 9.72\n",
      "----------------------------------------------------------------\n"
     ]
    }
   ],
   "source": [
    "# Summary of layers, output shape, parameters, and size\n",
    "summary(model, input_size=(3, 32, 32))"
   ]
  },
  {
   "cell_type": "markdown",
   "metadata": {
    "colab_type": "text",
    "id": "CR59Tw-4pwjV"
   },
   "source": [
    "## Train function"
   ]
  },
  {
   "cell_type": "markdown",
   "metadata": {
    "colab_type": "text",
    "id": "hV0xvTbLeOcG"
   },
   "source": [
    "We use cross entropy loss as our loss function in training and testing. \n",
    "\n",
    "The Pytorch implementation of cross entropy loss combines Softmax and Negative Log Likelihood.\n",
    "\n",
    "$$\\text{loss}(x, class) = -\\log\\left(\\frac{\\exp(x[class])}{\\sum_j \\exp(x[j])}\\right)\n",
    "                   = -x[class] + \\log\\left(\\sum_j \\exp(x[j])\\right)$$\n",
    "                   \n",
    "Furthermore, we add L1 (Lasso) regularization with a small regularisation factor ($\\lambda = 0.001$) to this loss during training to promote scarce weights in the final fully connected layer.\n",
    "\n",
    "$$\\text{loss} = \\text{loss} + \\lambda(\\text{fc1_weights}) $$"
   ]
  },
  {
   "cell_type": "code",
   "execution_count": 0,
   "metadata": {
    "ExecuteTime": {
     "end_time": "2020-03-05T19:36:36.727567Z",
     "start_time": "2020-03-05T19:36:36.659142Z"
    },
    "colab": {},
    "colab_type": "code",
    "id": "Wk5pSTPL4i8e"
   },
   "outputs": [],
   "source": [
    "# Initialize cross entropy loss for use in training/testing\n",
    "criterion = nn.CrossEntropyLoss()"
   ]
  },
  {
   "cell_type": "markdown",
   "metadata": {
    "colab_type": "text",
    "id": "4S59VOQK9ng6"
   },
   "source": [
    "We use the Pytorch implementation of stochastic gradient descent as an optimizer to train our models.\n",
    "\n",
    "$$v_{t+1} = \\mu * v_{t} + g_{t+1} \\\\\n",
    "              p_{t+1} = p_{t} - lr * v_{t+1}$$\n",
    "              \n",
    "where\n",
    "\\begin{itemize}\n",
    "\\item $p$ = parameters\n",
    "\\item $g$ = gradient\n",
    "\\item $v$ = velocity\n",
    "\\item $\\mu$ = momentum\n",
    "\\end{itemize}\n",
    "\n",
    "Our hyperparameter settings (that yielded the best results after experimentation) are:\n",
    "\\begin{itemize}\n",
    "\\item step size (learning rate) = 0.01 decreasing to 0.001 after 10 epochs\n",
    "\\item $\\lambda$ (L1 Regularization factor) = 0.001\n",
    "\\item $\\mu$ (momentum) = 0.9\n",
    "\\end{itemize}"
   ]
  },
  {
   "cell_type": "code",
   "execution_count": 0,
   "metadata": {
    "ExecuteTime": {
     "end_time": "2020-03-05T19:54:16.694769Z",
     "start_time": "2020-03-05T19:54:16.428562Z"
    },
    "colab": {},
    "colab_type": "code",
    "id": "2UcjkYoy4i8m"
   },
   "outputs": [],
   "source": [
    "def train(number_of_epochs):\n",
    "\n",
    "    # Initial hyperparameters\n",
    "    number_of_epochs = number_of_epochs\n",
    "    step_size = 0.01\n",
    "    momentum_parameter = 0.9\n",
    "    lambda1 = 0.001\n",
    "\n",
    "    # L1 Regularisation\n",
    "    all_linear1_params = torch.cat(\n",
    "        [x.view(-1) for x in model.fc1.parameters()])\n",
    "    l1_regularization = lambda1 * torch.norm(all_linear1_params, 1)\n",
    "\n",
    "    # Initialize optimiser\n",
    "    optimiser = optim.SGD(model.parameters(),\n",
    "                          lr=step_size,\n",
    "                          momentum=momentum_parameter)\n",
    "\n",
    "    # initialize lists for running counts of loss and accuracy\n",
    "    running_loss = []\n",
    "    running_val_loss = []\n",
    "    running_training_accuracy = []\n",
    "    running_training_accuracy.append(0)\n",
    "    running_val_accuracy = []\n",
    "    running_val_accuracy.append(0)\n",
    "\n",
    "    print(\"Log -- Step size: {}, Momentum: {}, batch_size = {}\".format(\n",
    "        step_size, momentum_parameter, train_batch_size))\n",
    "    \n",
    "    # loop for epochs\n",
    "    for k in range(number_of_epochs):\n",
    "        model.train()\n",
    "        device = cpu_or_gpu()\n",
    "        model.to(device)\n",
    "\n",
    "        # initialize epoch loss and training accuracy\n",
    "        epoch_loss = 0\n",
    "        training_accuracy = 0\n",
    "\n",
    "\n",
    "        # handle reducing step size at various iterations\n",
    "\n",
    "        step_size = reduce_step_size(iteration_cutoff=10,\n",
    "                                     old_step_size=step_size,\n",
    "                                     new_step_size=0.001,\n",
    "                                     epoch=k)\n",
    "\n",
    "        optimiser = optim.SGD(model.parameters(),\n",
    "                              lr=step_size,\n",
    "                              momentum=momentum_parameter)\n",
    "\n",
    "        # Main Training Loop\n",
    "        for j, (images, labels) in enumerate(train_loader):\n",
    "            images, labels = images.to(device), labels.to(device)\n",
    "            optimiser.zero_grad()\n",
    "            outputs = model(images)\n",
    "            loss = criterion(outputs, labels)+ (l1_regularization/len(images))\n",
    "            loss.backward(retain_graph=True)\n",
    "            optimiser.step()\n",
    "\n",
    "            epoch_loss += loss.item()\n",
    "            training_accuracy += accuracy(outputs, labels)\n",
    "\n",
    "        # Caclulate average loss and accuracy for each epoch\n",
    "        running_loss.append(epoch_loss / len(train_loader))\n",
    "        running_training_accuracy.append(training_accuracy / len(train_loader))\n",
    "\n",
    "        # Validation test once per epoch\n",
    "        device = torch.device('cpu')\n",
    "        model.eval()\n",
    "        model.to(device)\n",
    "        val_images, val_labels = iter(val_loader).next()\n",
    "        val_images, val_labels = val_images.to(device), val_labels.to(device)\n",
    "        val_outputs = model(val_images) + (l1_regularization/len(val_images))\n",
    "        val_loss = criterion(val_outputs, val_labels).item()\n",
    "\n",
    "        # Store validation loss and accuracy\n",
    "        running_val_loss.append(val_loss)\n",
    "        val_accuracy = accuracy(val_outputs, val_labels)\n",
    "        running_val_accuracy.append(val_accuracy)\n",
    "        \n",
    "        # Running log\n",
    "        if k % 1 == 0:\n",
    "            print(\n",
    "                \"Epoch {a}/{b} -> Tr. Loss = {c:.4f}, Val. Loss = {d:.4f}, Tr. Acc = {e:.2f}, Val. Acc = {f:.2f}\"\n",
    "                .format(a=k,\n",
    "                        b=number_of_epochs,\n",
    "                        c=running_loss[-1],\n",
    "                        d=running_val_loss[-1],\n",
    "                        e=running_training_accuracy[-1],\n",
    "                        f=running_val_accuracy[-1]))\n",
    "        \n",
    "\n",
    "    print(\"Final Epoch {} -> Loss = {}\".format(k, running_loss[-1]))\n",
    "\n",
    "    return running_loss, running_val_loss, running_training_accuracy, running_val_accuracy"
   ]
  },
  {
   "cell_type": "markdown",
   "metadata": {
    "colab_type": "text",
    "id": "cp7EyNrm9kPv"
   },
   "source": [
    "We first train for 100 epochs, achieving 96.01% training accuracy and 87.42% validation accuracy."
   ]
  },
  {
   "cell_type": "code",
   "execution_count": 22,
   "metadata": {
    "ExecuteTime": {
     "start_time": "2020-03-05T19:54:24.705Z"
    },
    "colab": {
     "base_uri": "https://localhost:8080/",
     "height": 1000
    },
    "colab_type": "code",
    "id": "_P23_2xu4i8v",
    "outputId": "ce75df4f-f675-4c18-92b0-7b02c2154fba"
   },
   "outputs": [
    {
     "name": "stdout",
     "output_type": "stream",
     "text": [
      "Log -- Step size: 0.01, Momentum: 0.9, batch_size = 32\n",
      "Epoch 0/100 -> Tr. Loss = 1.7883, Val. Loss = 1.4816, Tr. Acc = 33.19, Val. Acc = 44.42\n",
      "Epoch 1/100 -> Tr. Loss = 1.2865, Val. Loss = 1.1729, Tr. Acc = 53.74, Val. Acc = 58.40\n",
      "Epoch 2/100 -> Tr. Loss = 1.0301, Val. Loss = 0.9448, Tr. Acc = 64.06, Val. Acc = 66.98\n",
      "Epoch 3/100 -> Tr. Loss = 0.9004, Val. Loss = 0.8215, Tr. Acc = 68.74, Val. Acc = 72.02\n",
      "Epoch 4/100 -> Tr. Loss = 0.8128, Val. Loss = 0.7906, Tr. Acc = 71.92, Val. Acc = 72.88\n",
      "Epoch 5/100 -> Tr. Loss = 0.7519, Val. Loss = 0.7282, Tr. Acc = 74.13, Val. Acc = 75.00\n",
      "Epoch 6/100 -> Tr. Loss = 0.7081, Val. Loss = 0.7010, Tr. Acc = 75.76, Val. Acc = 75.60\n",
      "Epoch 7/100 -> Tr. Loss = 0.6696, Val. Loss = 0.6539, Tr. Acc = 77.02, Val. Acc = 76.96\n",
      "Epoch 8/100 -> Tr. Loss = 0.6462, Val. Loss = 0.6297, Tr. Acc = 78.05, Val. Acc = 78.86\n",
      "Epoch 9/100 -> Tr. Loss = 0.6142, Val. Loss = 0.6457, Tr. Acc = 79.09, Val. Acc = 78.36\n",
      "Log -- Decreased Step size from 0.01 to 0.001\n",
      "Epoch 10/100 -> Tr. Loss = 0.4764, Val. Loss = 0.4939, Tr. Acc = 83.84, Val. Acc = 83.12\n",
      "Epoch 11/100 -> Tr. Loss = 0.4408, Val. Loss = 0.4627, Tr. Acc = 84.90, Val. Acc = 84.08\n",
      "Epoch 12/100 -> Tr. Loss = 0.4218, Val. Loss = 0.4739, Tr. Acc = 85.64, Val. Acc = 83.70\n",
      "Epoch 13/100 -> Tr. Loss = 0.4116, Val. Loss = 0.4611, Tr. Acc = 85.98, Val. Acc = 84.36\n",
      "Epoch 14/100 -> Tr. Loss = 0.3996, Val. Loss = 0.4557, Tr. Acc = 86.35, Val. Acc = 84.70\n",
      "Epoch 15/100 -> Tr. Loss = 0.3863, Val. Loss = 0.4447, Tr. Acc = 86.70, Val. Acc = 84.58\n",
      "Epoch 16/100 -> Tr. Loss = 0.3835, Val. Loss = 0.4578, Tr. Acc = 86.92, Val. Acc = 84.04\n",
      "Epoch 17/100 -> Tr. Loss = 0.3724, Val. Loss = 0.4453, Tr. Acc = 87.30, Val. Acc = 84.94\n",
      "Epoch 18/100 -> Tr. Loss = 0.3661, Val. Loss = 0.4485, Tr. Acc = 87.62, Val. Acc = 85.16\n",
      "Epoch 19/100 -> Tr. Loss = 0.3567, Val. Loss = 0.4403, Tr. Acc = 87.89, Val. Acc = 85.04\n",
      "Epoch 20/100 -> Tr. Loss = 0.3552, Val. Loss = 0.4343, Tr. Acc = 87.86, Val. Acc = 84.90\n",
      "Epoch 21/100 -> Tr. Loss = 0.3444, Val. Loss = 0.4303, Tr. Acc = 88.24, Val. Acc = 85.26\n",
      "Epoch 22/100 -> Tr. Loss = 0.3427, Val. Loss = 0.4375, Tr. Acc = 88.20, Val. Acc = 85.08\n",
      "Epoch 23/100 -> Tr. Loss = 0.3394, Val. Loss = 0.4459, Tr. Acc = 88.44, Val. Acc = 85.58\n",
      "Epoch 24/100 -> Tr. Loss = 0.3263, Val. Loss = 0.4381, Tr. Acc = 88.88, Val. Acc = 85.12\n",
      "Epoch 25/100 -> Tr. Loss = 0.3272, Val. Loss = 0.4153, Tr. Acc = 88.85, Val. Acc = 86.02\n",
      "Epoch 26/100 -> Tr. Loss = 0.3219, Val. Loss = 0.4284, Tr. Acc = 89.00, Val. Acc = 85.42\n",
      "Epoch 27/100 -> Tr. Loss = 0.3186, Val. Loss = 0.4261, Tr. Acc = 89.21, Val. Acc = 86.02\n",
      "Epoch 28/100 -> Tr. Loss = 0.3109, Val. Loss = 0.4108, Tr. Acc = 89.51, Val. Acc = 86.12\n",
      "Epoch 29/100 -> Tr. Loss = 0.3081, Val. Loss = 0.4305, Tr. Acc = 89.55, Val. Acc = 85.66\n",
      "Epoch 30/100 -> Tr. Loss = 0.3050, Val. Loss = 0.4174, Tr. Acc = 89.60, Val. Acc = 85.92\n",
      "Epoch 31/100 -> Tr. Loss = 0.2980, Val. Loss = 0.4197, Tr. Acc = 89.79, Val. Acc = 85.76\n",
      "Epoch 32/100 -> Tr. Loss = 0.2914, Val. Loss = 0.4106, Tr. Acc = 90.26, Val. Acc = 86.56\n",
      "Epoch 33/100 -> Tr. Loss = 0.2878, Val. Loss = 0.4148, Tr. Acc = 90.32, Val. Acc = 86.50\n",
      "Epoch 34/100 -> Tr. Loss = 0.2863, Val. Loss = 0.3988, Tr. Acc = 90.25, Val. Acc = 86.72\n",
      "Epoch 35/100 -> Tr. Loss = 0.2786, Val. Loss = 0.4267, Tr. Acc = 90.49, Val. Acc = 86.14\n",
      "Epoch 36/100 -> Tr. Loss = 0.2775, Val. Loss = 0.4204, Tr. Acc = 90.34, Val. Acc = 86.36\n",
      "Epoch 37/100 -> Tr. Loss = 0.2733, Val. Loss = 0.4121, Tr. Acc = 90.57, Val. Acc = 86.34\n",
      "Epoch 38/100 -> Tr. Loss = 0.2705, Val. Loss = 0.4262, Tr. Acc = 90.69, Val. Acc = 86.30\n",
      "Epoch 39/100 -> Tr. Loss = 0.2662, Val. Loss = 0.4229, Tr. Acc = 91.06, Val. Acc = 86.20\n",
      "Epoch 40/100 -> Tr. Loss = 0.2605, Val. Loss = 0.4237, Tr. Acc = 91.18, Val. Acc = 86.74\n",
      "Epoch 41/100 -> Tr. Loss = 0.2539, Val. Loss = 0.4173, Tr. Acc = 91.36, Val. Acc = 86.52\n",
      "Epoch 42/100 -> Tr. Loss = 0.2544, Val. Loss = 0.4105, Tr. Acc = 91.20, Val. Acc = 86.70\n",
      "Epoch 43/100 -> Tr. Loss = 0.2506, Val. Loss = 0.4067, Tr. Acc = 91.46, Val. Acc = 86.44\n",
      "Epoch 44/100 -> Tr. Loss = 0.2478, Val. Loss = 0.4171, Tr. Acc = 91.55, Val. Acc = 86.48\n",
      "Epoch 45/100 -> Tr. Loss = 0.2479, Val. Loss = 0.4221, Tr. Acc = 91.60, Val. Acc = 86.34\n",
      "Epoch 46/100 -> Tr. Loss = 0.2415, Val. Loss = 0.4234, Tr. Acc = 91.78, Val. Acc = 86.36\n",
      "Epoch 47/100 -> Tr. Loss = 0.2361, Val. Loss = 0.4129, Tr. Acc = 92.08, Val. Acc = 86.60\n",
      "Epoch 48/100 -> Tr. Loss = 0.2360, Val. Loss = 0.4037, Tr. Acc = 92.05, Val. Acc = 87.06\n",
      "Epoch 49/100 -> Tr. Loss = 0.2305, Val. Loss = 0.4218, Tr. Acc = 92.27, Val. Acc = 86.46\n",
      "Epoch 50/100 -> Tr. Loss = 0.2289, Val. Loss = 0.4015, Tr. Acc = 92.27, Val. Acc = 86.96\n",
      "Epoch 51/100 -> Tr. Loss = 0.2259, Val. Loss = 0.4189, Tr. Acc = 92.32, Val. Acc = 86.84\n",
      "Epoch 52/100 -> Tr. Loss = 0.2207, Val. Loss = 0.4095, Tr. Acc = 92.55, Val. Acc = 86.78\n",
      "Epoch 53/100 -> Tr. Loss = 0.2190, Val. Loss = 0.4168, Tr. Acc = 92.63, Val. Acc = 86.58\n",
      "Epoch 54/100 -> Tr. Loss = 0.2147, Val. Loss = 0.4108, Tr. Acc = 92.80, Val. Acc = 87.10\n",
      "Epoch 55/100 -> Tr. Loss = 0.2151, Val. Loss = 0.4162, Tr. Acc = 92.86, Val. Acc = 87.20\n",
      "Epoch 56/100 -> Tr. Loss = 0.2104, Val. Loss = 0.4210, Tr. Acc = 92.95, Val. Acc = 86.30\n",
      "Epoch 57/100 -> Tr. Loss = 0.2066, Val. Loss = 0.4225, Tr. Acc = 93.09, Val. Acc = 86.78\n",
      "Epoch 58/100 -> Tr. Loss = 0.2014, Val. Loss = 0.3941, Tr. Acc = 93.20, Val. Acc = 87.24\n",
      "Epoch 59/100 -> Tr. Loss = 0.2014, Val. Loss = 0.4199, Tr. Acc = 93.24, Val. Acc = 87.40\n",
      "Epoch 60/100 -> Tr. Loss = 0.1997, Val. Loss = 0.4180, Tr. Acc = 93.18, Val. Acc = 87.48\n",
      "Epoch 61/100 -> Tr. Loss = 0.1984, Val. Loss = 0.4172, Tr. Acc = 93.44, Val. Acc = 86.80\n",
      "Epoch 62/100 -> Tr. Loss = 0.1942, Val. Loss = 0.4202, Tr. Acc = 93.41, Val. Acc = 86.96\n",
      "Epoch 63/100 -> Tr. Loss = 0.1959, Val. Loss = 0.4191, Tr. Acc = 93.39, Val. Acc = 86.92\n",
      "Epoch 64/100 -> Tr. Loss = 0.1873, Val. Loss = 0.4311, Tr. Acc = 93.69, Val. Acc = 86.64\n",
      "Epoch 65/100 -> Tr. Loss = 0.1860, Val. Loss = 0.4325, Tr. Acc = 93.76, Val. Acc = 86.78\n",
      "Epoch 66/100 -> Tr. Loss = 0.1833, Val. Loss = 0.4291, Tr. Acc = 93.82, Val. Acc = 86.60\n",
      "Epoch 67/100 -> Tr. Loss = 0.1867, Val. Loss = 0.4241, Tr. Acc = 93.70, Val. Acc = 86.78\n",
      "Epoch 68/100 -> Tr. Loss = 0.1791, Val. Loss = 0.4257, Tr. Acc = 93.99, Val. Acc = 87.00\n",
      "Epoch 69/100 -> Tr. Loss = 0.1784, Val. Loss = 0.4314, Tr. Acc = 94.00, Val. Acc = 87.16\n",
      "Epoch 70/100 -> Tr. Loss = 0.1752, Val. Loss = 0.4335, Tr. Acc = 94.13, Val. Acc = 87.24\n",
      "Epoch 71/100 -> Tr. Loss = 0.1737, Val. Loss = 0.4195, Tr. Acc = 94.08, Val. Acc = 87.16\n",
      "Epoch 72/100 -> Tr. Loss = 0.1693, Val. Loss = 0.4128, Tr. Acc = 94.19, Val. Acc = 88.10\n",
      "Epoch 73/100 -> Tr. Loss = 0.1678, Val. Loss = 0.4320, Tr. Acc = 94.37, Val. Acc = 86.76\n",
      "Epoch 74/100 -> Tr. Loss = 0.1649, Val. Loss = 0.4303, Tr. Acc = 94.43, Val. Acc = 87.22\n",
      "Epoch 75/100 -> Tr. Loss = 0.1641, Val. Loss = 0.4404, Tr. Acc = 94.53, Val. Acc = 86.80\n",
      "Epoch 76/100 -> Tr. Loss = 0.1628, Val. Loss = 0.4165, Tr. Acc = 94.55, Val. Acc = 87.26\n",
      "Epoch 77/100 -> Tr. Loss = 0.1607, Val. Loss = 0.4434, Tr. Acc = 94.59, Val. Acc = 87.44\n",
      "Epoch 78/100 -> Tr. Loss = 0.1582, Val. Loss = 0.4404, Tr. Acc = 94.72, Val. Acc = 87.24\n",
      "Epoch 79/100 -> Tr. Loss = 0.1563, Val. Loss = 0.4562, Tr. Acc = 94.75, Val. Acc = 86.94\n",
      "Epoch 80/100 -> Tr. Loss = 0.1554, Val. Loss = 0.4590, Tr. Acc = 94.78, Val. Acc = 86.54\n",
      "Epoch 81/100 -> Tr. Loss = 0.1500, Val. Loss = 0.4411, Tr. Acc = 94.94, Val. Acc = 87.64\n",
      "Epoch 82/100 -> Tr. Loss = 0.1507, Val. Loss = 0.4299, Tr. Acc = 94.92, Val. Acc = 87.62\n",
      "Epoch 83/100 -> Tr. Loss = 0.1497, Val. Loss = 0.4666, Tr. Acc = 94.88, Val. Acc = 87.00\n",
      "Epoch 84/100 -> Tr. Loss = 0.1459, Val. Loss = 0.4595, Tr. Acc = 95.07, Val. Acc = 87.22\n",
      "Epoch 85/100 -> Tr. Loss = 0.1483, Val. Loss = 0.4370, Tr. Acc = 95.10, Val. Acc = 87.70\n",
      "Epoch 86/100 -> Tr. Loss = 0.1441, Val. Loss = 0.4402, Tr. Acc = 95.22, Val. Acc = 87.48\n",
      "Epoch 87/100 -> Tr. Loss = 0.1394, Val. Loss = 0.4301, Tr. Acc = 95.37, Val. Acc = 86.90\n",
      "Epoch 88/100 -> Tr. Loss = 0.1396, Val. Loss = 0.4531, Tr. Acc = 95.38, Val. Acc = 87.24\n",
      "Epoch 89/100 -> Tr. Loss = 0.1388, Val. Loss = 0.4556, Tr. Acc = 95.33, Val. Acc = 86.98\n",
      "Epoch 90/100 -> Tr. Loss = 0.1366, Val. Loss = 0.4539, Tr. Acc = 95.56, Val. Acc = 87.20\n",
      "Epoch 91/100 -> Tr. Loss = 0.1326, Val. Loss = 0.4519, Tr. Acc = 95.64, Val. Acc = 87.40\n",
      "Epoch 92/100 -> Tr. Loss = 0.1365, Val. Loss = 0.4541, Tr. Acc = 95.51, Val. Acc = 87.42\n",
      "Epoch 93/100 -> Tr. Loss = 0.1339, Val. Loss = 0.4577, Tr. Acc = 95.54, Val. Acc = 87.34\n",
      "Epoch 94/100 -> Tr. Loss = 0.1324, Val. Loss = 0.4671, Tr. Acc = 95.68, Val. Acc = 87.30\n",
      "Epoch 95/100 -> Tr. Loss = 0.1274, Val. Loss = 0.4752, Tr. Acc = 95.79, Val. Acc = 87.38\n",
      "Epoch 96/100 -> Tr. Loss = 0.1274, Val. Loss = 0.4493, Tr. Acc = 95.76, Val. Acc = 87.66\n",
      "Epoch 97/100 -> Tr. Loss = 0.1268, Val. Loss = 0.4419, Tr. Acc = 95.84, Val. Acc = 87.58\n",
      "Epoch 98/100 -> Tr. Loss = 0.1219, Val. Loss = 0.4616, Tr. Acc = 95.94, Val. Acc = 87.54\n",
      "Epoch 99/100 -> Tr. Loss = 0.1226, Val. Loss = 0.4577, Tr. Acc = 96.01, Val. Acc = 87.42\n",
      "Final Epoch 99 -> Loss = 0.12260103938993869\n"
     ]
    }
   ],
   "source": [
    "# do not execute if using saved model\n",
    "running_loss, running_val_loss, running_training_accuracy, running_val_accuracy = train(number_of_epochs=100)"
   ]
  },
  {
   "cell_type": "markdown",
   "metadata": {
    "colab_type": "text",
    "id": "hhWwC98f-0mT"
   },
   "source": [
    "We then run for another 100 epochs, starting with the parameters from the previous model. After this training run, we achieve our final results of 97.79% training accuracy and 88.46% validation accuracy."
   ]
  },
  {
   "cell_type": "code",
   "execution_count": 27,
   "metadata": {
    "colab": {
     "base_uri": "https://localhost:8080/",
     "height": 1000
    },
    "colab_type": "code",
    "id": "mdVErLJNfrcx",
    "outputId": "2af9cc9e-3e11-47f5-be3b-a69aadf27ed4"
   },
   "outputs": [
    {
     "name": "stdout",
     "output_type": "stream",
     "text": [
      "Log -- Step size: 0.01, Momentum: 0.9, batch_size = 32\n",
      "Epoch 0/100 -> Tr. Loss = 0.6181, Val. Loss = 0.6421, Tr. Acc = 82.20, Val. Acc = 78.82\n",
      "Epoch 1/100 -> Tr. Loss = 0.5912, Val. Loss = 0.5713, Tr. Acc = 83.15, Val. Acc = 80.96\n",
      "Epoch 2/100 -> Tr. Loss = 0.5803, Val. Loss = 0.5263, Tr. Acc = 83.41, Val. Acc = 82.66\n",
      "Epoch 3/100 -> Tr. Loss = 0.5684, Val. Loss = 0.6046, Tr. Acc = 84.00, Val. Acc = 80.22\n",
      "Epoch 4/100 -> Tr. Loss = 0.5518, Val. Loss = 0.5711, Tr. Acc = 84.58, Val. Acc = 81.44\n",
      "Epoch 5/100 -> Tr. Loss = 0.5519, Val. Loss = 0.5651, Tr. Acc = 84.68, Val. Acc = 81.16\n",
      "Epoch 6/100 -> Tr. Loss = 0.5431, Val. Loss = 0.5496, Tr. Acc = 85.09, Val. Acc = 82.82\n",
      "Epoch 7/100 -> Tr. Loss = 0.5379, Val. Loss = 0.5226, Tr. Acc = 85.12, Val. Acc = 83.72\n",
      "Epoch 8/100 -> Tr. Loss = 0.5242, Val. Loss = 0.5418, Tr. Acc = 85.79, Val. Acc = 81.94\n",
      "Epoch 9/100 -> Tr. Loss = 0.5269, Val. Loss = 0.5285, Tr. Acc = 85.69, Val. Acc = 82.20\n",
      "Log -- Decreased Step size from 0.01 to 0.001\n",
      "Epoch 10/100 -> Tr. Loss = 0.4048, Val. Loss = 0.4300, Tr. Acc = 89.59, Val. Acc = 86.12\n",
      "Epoch 11/100 -> Tr. Loss = 0.3595, Val. Loss = 0.4218, Tr. Acc = 91.01, Val. Acc = 86.54\n",
      "Epoch 12/100 -> Tr. Loss = 0.3414, Val. Loss = 0.4294, Tr. Acc = 91.71, Val. Acc = 86.30\n",
      "Epoch 13/100 -> Tr. Loss = 0.3329, Val. Loss = 0.4288, Tr. Acc = 92.03, Val. Acc = 86.46\n",
      "Epoch 14/100 -> Tr. Loss = 0.3213, Val. Loss = 0.4350, Tr. Acc = 92.41, Val. Acc = 87.28\n",
      "Epoch 15/100 -> Tr. Loss = 0.3163, Val. Loss = 0.4302, Tr. Acc = 92.54, Val. Acc = 86.82\n",
      "Epoch 16/100 -> Tr. Loss = 0.3101, Val. Loss = 0.4158, Tr. Acc = 92.90, Val. Acc = 87.46\n",
      "Epoch 17/100 -> Tr. Loss = 0.2974, Val. Loss = 0.4296, Tr. Acc = 93.15, Val. Acc = 87.26\n",
      "Epoch 18/100 -> Tr. Loss = 0.2948, Val. Loss = 0.4200, Tr. Acc = 93.33, Val. Acc = 87.00\n",
      "Epoch 19/100 -> Tr. Loss = 0.2939, Val. Loss = 0.4393, Tr. Acc = 93.43, Val. Acc = 86.62\n",
      "Epoch 20/100 -> Tr. Loss = 0.2832, Val. Loss = 0.4082, Tr. Acc = 93.83, Val. Acc = 87.50\n",
      "Epoch 21/100 -> Tr. Loss = 0.2801, Val. Loss = 0.4328, Tr. Acc = 93.90, Val. Acc = 87.32\n",
      "Epoch 22/100 -> Tr. Loss = 0.2757, Val. Loss = 0.4024, Tr. Acc = 94.04, Val. Acc = 87.52\n",
      "Epoch 23/100 -> Tr. Loss = 0.2666, Val. Loss = 0.4294, Tr. Acc = 94.28, Val. Acc = 87.78\n",
      "Epoch 24/100 -> Tr. Loss = 0.2683, Val. Loss = 0.4120, Tr. Acc = 94.18, Val. Acc = 87.92\n",
      "Epoch 25/100 -> Tr. Loss = 0.2614, Val. Loss = 0.4216, Tr. Acc = 94.49, Val. Acc = 87.58\n",
      "Epoch 26/100 -> Tr. Loss = 0.2651, Val. Loss = 0.4184, Tr. Acc = 94.29, Val. Acc = 87.86\n",
      "Epoch 27/100 -> Tr. Loss = 0.2609, Val. Loss = 0.4313, Tr. Acc = 94.53, Val. Acc = 87.80\n",
      "Epoch 28/100 -> Tr. Loss = 0.2586, Val. Loss = 0.4309, Tr. Acc = 94.60, Val. Acc = 88.14\n",
      "Epoch 29/100 -> Tr. Loss = 0.2552, Val. Loss = 0.4277, Tr. Acc = 94.74, Val. Acc = 87.36\n",
      "Epoch 30/100 -> Tr. Loss = 0.2506, Val. Loss = 0.4223, Tr. Acc = 94.96, Val. Acc = 87.50\n",
      "Epoch 31/100 -> Tr. Loss = 0.2519, Val. Loss = 0.4276, Tr. Acc = 94.82, Val. Acc = 87.98\n",
      "Epoch 32/100 -> Tr. Loss = 0.2450, Val. Loss = 0.4420, Tr. Acc = 95.10, Val. Acc = 87.60\n",
      "Epoch 33/100 -> Tr. Loss = 0.2439, Val. Loss = 0.4179, Tr. Acc = 95.17, Val. Acc = 88.10\n",
      "Epoch 34/100 -> Tr. Loss = 0.2443, Val. Loss = 0.4302, Tr. Acc = 95.11, Val. Acc = 87.82\n",
      "Epoch 35/100 -> Tr. Loss = 0.2416, Val. Loss = 0.4483, Tr. Acc = 95.13, Val. Acc = 87.64\n",
      "Epoch 36/100 -> Tr. Loss = 0.2391, Val. Loss = 0.4320, Tr. Acc = 95.19, Val. Acc = 87.76\n",
      "Epoch 37/100 -> Tr. Loss = 0.2354, Val. Loss = 0.4322, Tr. Acc = 95.34, Val. Acc = 88.26\n",
      "Epoch 38/100 -> Tr. Loss = 0.2320, Val. Loss = 0.4229, Tr. Acc = 95.53, Val. Acc = 88.12\n",
      "Epoch 39/100 -> Tr. Loss = 0.2317, Val. Loss = 0.4296, Tr. Acc = 95.49, Val. Acc = 88.22\n",
      "Epoch 40/100 -> Tr. Loss = 0.2298, Val. Loss = 0.4226, Tr. Acc = 95.62, Val. Acc = 88.46\n",
      "Epoch 41/100 -> Tr. Loss = 0.2286, Val. Loss = 0.4329, Tr. Acc = 95.68, Val. Acc = 88.04\n",
      "Epoch 42/100 -> Tr. Loss = 0.2244, Val. Loss = 0.4464, Tr. Acc = 95.80, Val. Acc = 88.04\n",
      "Epoch 43/100 -> Tr. Loss = 0.2237, Val. Loss = 0.4162, Tr. Acc = 95.81, Val. Acc = 88.74\n",
      "Epoch 44/100 -> Tr. Loss = 0.2221, Val. Loss = 0.4215, Tr. Acc = 95.90, Val. Acc = 88.00\n",
      "Epoch 45/100 -> Tr. Loss = 0.2206, Val. Loss = 0.4411, Tr. Acc = 95.90, Val. Acc = 88.14\n",
      "Epoch 46/100 -> Tr. Loss = 0.2185, Val. Loss = 0.4400, Tr. Acc = 96.07, Val. Acc = 87.60\n",
      "Epoch 47/100 -> Tr. Loss = 0.2173, Val. Loss = 0.4475, Tr. Acc = 96.06, Val. Acc = 88.04\n",
      "Epoch 48/100 -> Tr. Loss = 0.2159, Val. Loss = 0.4445, Tr. Acc = 96.12, Val. Acc = 88.06\n",
      "Epoch 49/100 -> Tr. Loss = 0.2151, Val. Loss = 0.4649, Tr. Acc = 96.13, Val. Acc = 88.08\n",
      "Epoch 50/100 -> Tr. Loss = 0.2135, Val. Loss = 0.4512, Tr. Acc = 96.26, Val. Acc = 88.04\n",
      "Epoch 51/100 -> Tr. Loss = 0.2103, Val. Loss = 0.4498, Tr. Acc = 96.28, Val. Acc = 88.00\n",
      "Epoch 52/100 -> Tr. Loss = 0.2085, Val. Loss = 0.4632, Tr. Acc = 96.32, Val. Acc = 87.74\n",
      "Epoch 53/100 -> Tr. Loss = 0.2106, Val. Loss = 0.4461, Tr. Acc = 96.27, Val. Acc = 88.38\n",
      "Epoch 54/100 -> Tr. Loss = 0.2073, Val. Loss = 0.4762, Tr. Acc = 96.37, Val. Acc = 87.94\n",
      "Epoch 55/100 -> Tr. Loss = 0.2040, Val. Loss = 0.4721, Tr. Acc = 96.53, Val. Acc = 88.12\n",
      "Epoch 56/100 -> Tr. Loss = 0.2035, Val. Loss = 0.4372, Tr. Acc = 96.55, Val. Acc = 88.26\n",
      "Epoch 57/100 -> Tr. Loss = 0.2029, Val. Loss = 0.4568, Tr. Acc = 96.55, Val. Acc = 88.06\n",
      "Epoch 58/100 -> Tr. Loss = 0.2000, Val. Loss = 0.4487, Tr. Acc = 96.70, Val. Acc = 88.66\n",
      "Epoch 59/100 -> Tr. Loss = 0.2021, Val. Loss = 0.4636, Tr. Acc = 96.58, Val. Acc = 88.24\n",
      "Epoch 60/100 -> Tr. Loss = 0.2009, Val. Loss = 0.4636, Tr. Acc = 96.64, Val. Acc = 88.18\n",
      "Epoch 61/100 -> Tr. Loss = 0.2012, Val. Loss = 0.4938, Tr. Acc = 96.54, Val. Acc = 87.30\n",
      "Epoch 62/100 -> Tr. Loss = 0.2007, Val. Loss = 0.4714, Tr. Acc = 96.63, Val. Acc = 88.14\n",
      "Epoch 63/100 -> Tr. Loss = 0.1965, Val. Loss = 0.4524, Tr. Acc = 96.72, Val. Acc = 88.20\n",
      "Epoch 64/100 -> Tr. Loss = 0.1963, Val. Loss = 0.4679, Tr. Acc = 96.74, Val. Acc = 88.68\n",
      "Epoch 65/100 -> Tr. Loss = 0.1948, Val. Loss = 0.4716, Tr. Acc = 96.94, Val. Acc = 88.10\n",
      "Epoch 66/100 -> Tr. Loss = 0.1937, Val. Loss = 0.4734, Tr. Acc = 96.86, Val. Acc = 88.20\n",
      "Epoch 67/100 -> Tr. Loss = 0.1900, Val. Loss = 0.4738, Tr. Acc = 97.02, Val. Acc = 88.24\n",
      "Epoch 68/100 -> Tr. Loss = 0.1948, Val. Loss = 0.4533, Tr. Acc = 96.86, Val. Acc = 88.16\n",
      "Epoch 69/100 -> Tr. Loss = 0.1906, Val. Loss = 0.4606, Tr. Acc = 96.98, Val. Acc = 88.44\n",
      "Epoch 70/100 -> Tr. Loss = 0.1873, Val. Loss = 0.4688, Tr. Acc = 97.13, Val. Acc = 88.04\n",
      "Epoch 71/100 -> Tr. Loss = 0.1863, Val. Loss = 0.4694, Tr. Acc = 97.15, Val. Acc = 88.46\n",
      "Epoch 72/100 -> Tr. Loss = 0.1878, Val. Loss = 0.4794, Tr. Acc = 97.01, Val. Acc = 88.50\n",
      "Epoch 73/100 -> Tr. Loss = 0.1867, Val. Loss = 0.4541, Tr. Acc = 97.15, Val. Acc = 88.96\n",
      "Epoch 74/100 -> Tr. Loss = 0.1849, Val. Loss = 0.4702, Tr. Acc = 97.13, Val. Acc = 87.86\n",
      "Epoch 75/100 -> Tr. Loss = 0.1846, Val. Loss = 0.4919, Tr. Acc = 97.16, Val. Acc = 88.20\n",
      "Epoch 76/100 -> Tr. Loss = 0.1852, Val. Loss = 0.4756, Tr. Acc = 97.13, Val. Acc = 88.32\n",
      "Epoch 77/100 -> Tr. Loss = 0.1830, Val. Loss = 0.4640, Tr. Acc = 97.27, Val. Acc = 89.04\n",
      "Epoch 78/100 -> Tr. Loss = 0.1846, Val. Loss = 0.4666, Tr. Acc = 97.22, Val. Acc = 88.60\n",
      "Epoch 79/100 -> Tr. Loss = 0.1817, Val. Loss = 0.4658, Tr. Acc = 97.31, Val. Acc = 88.76\n",
      "Epoch 80/100 -> Tr. Loss = 0.1798, Val. Loss = 0.5020, Tr. Acc = 97.42, Val. Acc = 88.00\n",
      "Epoch 81/100 -> Tr. Loss = 0.1784, Val. Loss = 0.5151, Tr. Acc = 97.44, Val. Acc = 88.00\n",
      "Epoch 82/100 -> Tr. Loss = 0.1796, Val. Loss = 0.4924, Tr. Acc = 97.33, Val. Acc = 87.66\n",
      "Epoch 83/100 -> Tr. Loss = 0.1784, Val. Loss = 0.4752, Tr. Acc = 97.45, Val. Acc = 88.62\n",
      "Epoch 84/100 -> Tr. Loss = 0.1768, Val. Loss = 0.5052, Tr. Acc = 97.55, Val. Acc = 88.10\n",
      "Epoch 85/100 -> Tr. Loss = 0.1782, Val. Loss = 0.5093, Tr. Acc = 97.35, Val. Acc = 88.44\n",
      "Epoch 86/100 -> Tr. Loss = 0.1757, Val. Loss = 0.4925, Tr. Acc = 97.50, Val. Acc = 88.28\n",
      "Epoch 87/100 -> Tr. Loss = 0.1760, Val. Loss = 0.4799, Tr. Acc = 97.44, Val. Acc = 89.06\n",
      "Epoch 88/100 -> Tr. Loss = 0.1763, Val. Loss = 0.5139, Tr. Acc = 97.49, Val. Acc = 88.22\n",
      "Epoch 89/100 -> Tr. Loss = 0.1762, Val. Loss = 0.4941, Tr. Acc = 97.41, Val. Acc = 88.20\n",
      "Epoch 90/100 -> Tr. Loss = 0.1735, Val. Loss = 0.4903, Tr. Acc = 97.61, Val. Acc = 88.36\n",
      "Epoch 91/100 -> Tr. Loss = 0.1733, Val. Loss = 0.4790, Tr. Acc = 97.59, Val. Acc = 88.38\n",
      "Epoch 92/100 -> Tr. Loss = 0.1709, Val. Loss = 0.5022, Tr. Acc = 97.68, Val. Acc = 88.02\n",
      "Epoch 93/100 -> Tr. Loss = 0.1721, Val. Loss = 0.4845, Tr. Acc = 97.64, Val. Acc = 88.22\n",
      "Epoch 94/100 -> Tr. Loss = 0.1696, Val. Loss = 0.5084, Tr. Acc = 97.81, Val. Acc = 88.74\n",
      "Epoch 95/100 -> Tr. Loss = 0.1703, Val. Loss = 0.5196, Tr. Acc = 97.69, Val. Acc = 88.64\n",
      "Epoch 96/100 -> Tr. Loss = 0.1705, Val. Loss = 0.5063, Tr. Acc = 97.71, Val. Acc = 88.32\n",
      "Epoch 97/100 -> Tr. Loss = 0.1733, Val. Loss = 0.5117, Tr. Acc = 97.55, Val. Acc = 88.18\n",
      "Epoch 98/100 -> Tr. Loss = 0.1693, Val. Loss = 0.5016, Tr. Acc = 97.69, Val. Acc = 87.92\n",
      "Epoch 99/100 -> Tr. Loss = 0.1679, Val. Loss = 0.5044, Tr. Acc = 97.79, Val. Acc = 88.46\n",
      "Final Epoch 99 -> Loss = 0.16788193090489847\n"
     ]
    }
   ],
   "source": [
    "# do not execute if using saved model\n",
    "running_loss2, running_val_loss2, running_training_accuracy2, running_val_accuracy2 = train(number_of_epochs=100)"
   ]
  },
  {
   "cell_type": "code",
   "execution_count": 0,
   "metadata": {
    "colab": {},
    "colab_type": "code",
    "id": "jQt2TRRmHtL0"
   },
   "outputs": [],
   "source": [
    "# do not execute if using saved model\n",
    "running_loss = running_loss + running_loss2\n",
    "running_val_loss = running_val_loss + running_val_loss2\n",
    "running_training_accuracy = running_training_accuracy + running_training_accuracy2\n",
    "running_val_accuracy = running_val_accuracy + running_val_accuracy2"
   ]
  },
  {
   "cell_type": "code",
   "execution_count": 0,
   "metadata": {
    "colab": {},
    "colab_type": "code",
    "id": "pirgT3WuIjeI"
   },
   "outputs": [],
   "source": [
    "# for saving loss and accuracy logs\n",
    "rl = np.array(running_loss)\n",
    "rvl = np.array(running_val_loss)\n",
    "rta = np.array(running_training_accuracy)\n",
    "rva = np.array(running_val_accuracy)\n",
    "np.savez(\"rl\", rl)\n",
    "np.savez(\"rvl\", rvl)\n",
    "np.savez(\"rta\", rta)\n",
    "np.savez(\"rva\", rva)"
   ]
  },
  {
   "cell_type": "markdown",
   "metadata": {
    "colab_type": "text",
    "id": "dJvsPHdK4i83"
   },
   "source": [
    "### Training Epoch Loss and Accuracy Visualizations"
   ]
  },
  {
   "cell_type": "code",
   "execution_count": 43,
   "metadata": {
    "ExecuteTime": {
     "end_time": "2020-03-05T19:18:21.922933Z",
     "start_time": "2020-03-05T19:18:21.722216Z"
    },
    "colab": {
     "base_uri": "https://localhost:8080/",
     "height": 285
    },
    "colab_type": "code",
    "id": "YYDuywwX4i85",
    "outputId": "1cd19153-9dc3-49f2-a268-33adbe22bcd0"
   },
   "outputs": [
    {
     "data": {
      "image/png": "[encoded data removed]",
      "text/plain": [
       "<Figure size 432x288 with 1 Axes>"
      ]
     },
     "metadata": {
      "tags": []
     },
     "output_type": "display_data"
    }
   ],
   "source": [
    "# do not execute if using saved model\n",
    "plt.plot(running_loss, label=\"Training Loss\")\n",
    "plt.plot(running_val_loss, label=\"Validation Loss\")\n",
    "for i in range(len(running_val_loss)):\n",
    "    if running_val_loss[i] == np.min(running_val_loss):\n",
    "        lowest_index = i\n",
    "plt.scatter(lowest_index,\n",
    "            running_val_loss[lowest_index],\n",
    "            label=\"Lowest Validation Loss\",\n",
    "            c=\"r\")\n",
    "plt.scatter(lowest_index,\n",
    "            running_loss[lowest_index],\n",
    "            label=\"Corresponding Train Loss\",\n",
    "            c=\"r\")\n",
    "plt.legend()\n",
    "plt.ylabel(\"Loss\")\n",
    "plt.xlabel(\"Epoch\")\n",
    "plt.grid()\n",
    "plt.show()"
   ]
  },
  {
   "cell_type": "code",
   "execution_count": 44,
   "metadata": {
    "ExecuteTime": {
     "end_time": "2020-03-05T19:15:11.283120Z",
     "start_time": "2020-03-05T19:15:11.086733Z"
    },
    "colab": {
     "base_uri": "https://localhost:8080/",
     "height": 285
    },
    "colab_type": "code",
    "id": "lenIpOC-4i9B",
    "outputId": "5dbe7ca7-d519-4e58-a7c9-aef409d2e756",
    "scrolled": true
   },
   "outputs": [
    {
     "data": {
      "image/png": "[encoded data removed]",
      "text/plain": [
       "<Figure size 432x288 with 1 Axes>"
      ]
     },
     "metadata": {
      "tags": []
     },
     "output_type": "display_data"
    }
   ],
   "source": [
    "# do not execute if using saved model\n",
    "plt.plot(running_training_accuracy, label=\"Training Accuracy\")\n",
    "plt.plot(running_val_accuracy, label=\"Test Accuracy\")\n",
    "for i in range(len(running_val_accuracy)):\n",
    "    if running_val_accuracy[i] == np.max(running_val_accuracy):\n",
    "        highest_index = i\n",
    "plt.scatter(highest_index,\n",
    "            running_val_accuracy[highest_index],\n",
    "            label=\"Highest Validation Accuracy\",\n",
    "            c=\"r\")\n",
    "plt.scatter(highest_index,\n",
    "            running_training_accuracy[highest_index],\n",
    "            label=\"Corresponding Train Accuracy\",\n",
    "            c=\"r\")\n",
    "plt.legend()\n",
    "plt.ylabel(\"Model Accuracy\")\n",
    "plt.xlabel(\"Epoch\")\n",
    "plt.grid()\n",
    "plt.show()"
   ]
  },
  {
   "cell_type": "code",
   "execution_count": 0,
   "metadata": {
    "colab": {},
    "colab_type": "code",
    "id": "ulfZdvYBDdct"
   },
   "outputs": [],
   "source": [
    "def confusion_matrix(model):\n",
    "    \"\"\"create a confusion matrix for the test images and labels given a set of weights.\n",
    "    save_as: used for naming when saving the file\n",
    "    degree: used in case of polynomial regression, default value is 1\"\"\"\n",
    "    device = cpu_or_gpu()\n",
    "    model.to(device)\n",
    "    model.eval()\n",
    "    \n",
    "    test_loader1 = torch.utils.data.DataLoader(test_dataset,\n",
    "                                               batch_size=1,\n",
    "                                               shuffle=True)\n",
    "    \n",
    "    for j, (test_images, test_labels) in enumerate(test_loader1):\n",
    "        test_images, test_labels = test_images.to(\n",
    "            device), test_labels.to(device)\n",
    "        outputs = model(test_images)\n",
    "        _, predicted = torch.max(outputs, 1)\n",
    "        if j == 0:\n",
    "          predictions = predicted\n",
    "          labels = test_labels\n",
    "        else:\n",
    "          predictions = torch.cat((predictions, predicted))\n",
    "          labels = torch.cat((labels, test_labels))\n",
    "  \n",
    "    predictions = predictions.to(\"cpu\")\n",
    "    labels = labels.to(\"cpu\")\n",
    "    predictions = predictions.squeeze().numpy()\n",
    "    labels = labels.squeeze().numpy()\n",
    "    \n",
    "    # create dataframe and confusion matrix\n",
    "    data = {'y_Predicted': predictions, 'y_Actual': labels}\n",
    "    df = pd.DataFrame(data, columns=['y_Actual', 'y_Predicted'])\n",
    "    confusion_matrix = pd.crosstab(df['y_Actual'], df['y_Predicted'], rownames=['Actual'], colnames=['Predicted'], margins=False)\n",
    "\n",
    "    fig, ax = plt.subplots(figsize=(10,10))\n",
    "    # define labels\n",
    "    x_axis_labels = test_dataset.classes # labels for x-axis\n",
    "    y_axis_labels = test_dataset.classes # labels for y-axis\n",
    "    \n",
    "    hm = sn.heatmap(confusion_matrix/1000, annot=True, ax=ax, xticklabels=x_axis_labels, yticklabels=y_axis_labels, fmt='0.0%')"
   ]
  },
  {
   "cell_type": "markdown",
   "metadata": {
    "colab_type": "text",
    "id": "5jdUmcQgdqu-"
   },
   "source": [
    "As seen below in the class confusion matrix, our model does well in classifying most classes (percentages along the diagonal), although it has some difficulty differentiating between images of cats and dogs."
   ]
  },
  {
   "cell_type": "code",
   "execution_count": 109,
   "metadata": {
    "colab": {
     "base_uri": "https://localhost:8080/",
     "height": 666
    },
    "colab_type": "code",
    "id": "iAC1ni2TD0F9",
    "outputId": "58e98a5a-4ee6-4167-f597-424fcef924f8"
   },
   "outputs": [
    {
     "data": {
      "image/png": "[encoded data removed]",
      "text/plain": [
       "<Figure size 720x720 with 2 Axes>"
      ]
     },
     "metadata": {
      "tags": []
     },
     "output_type": "display_data"
    }
   ],
   "source": [
    "confusion_matrix(model)"
   ]
  },
  {
   "cell_type": "markdown",
   "metadata": {
    "ExecuteTime": {
     "end_time": "2020-03-05T01:03:52.160790Z",
     "start_time": "2020-03-05T01:03:52.154815Z"
    },
    "colab_type": "text",
    "id": "1UCJOYMjpwkG"
   },
   "source": [
    "# Saving Model State_Dict"
   ]
  },
  {
   "cell_type": "code",
   "execution_count": 0,
   "metadata": {
    "ExecuteTime": {
     "end_time": "2020-03-05T19:17:04.977111Z",
     "start_time": "2020-03-05T19:17:04.711372Z"
    },
    "colab": {},
    "colab_type": "code",
    "id": "XsdZjfnY4i9n"
   },
   "outputs": [],
   "source": [
    "# For saving neural network parameters\n",
    "#torch.save(model.state_dict(), \n",
    "           #\"finalmodel\")  # <----- make sure to update the path if saving new model"
   ]
  },
  {
   "cell_type": "markdown",
   "metadata": {
    "colab_type": "text",
    "id": "y5Q1kSXr4i9H"
   },
   "source": [
    "# Neural Network Testing"
   ]
  },
  {
   "cell_type": "markdown",
   "metadata": {
    "colab_type": "text",
    "id": "VFKB1Cb9M8kZ"
   },
   "source": [
    "Now we test our model on the untouched test dataset and re-test on the full training dataset to get the final accuracy percentages for our model.\n",
    "\n",
    "Test Set Accuracy: 88.20%\n",
    "\n",
    "Training Set Accuracy: 97.74%"
   ]
  },
  {
   "cell_type": "markdown",
   "metadata": {
    "colab_type": "text",
    "id": "3cWSfOSlpwkZ"
   },
   "source": [
    "## Test on test dataset"
   ]
  },
  {
   "cell_type": "code",
   "execution_count": 0,
   "metadata": {
    "ExecuteTime": {
     "end_time": "2020-03-05T19:52:37.423923Z",
     "start_time": "2020-03-05T19:52:37.322439Z"
    },
    "colab": {},
    "colab_type": "code",
    "id": "b72_n5c74i9J"
   },
   "outputs": [],
   "source": [
    "# Accuracy on full test dataset (10,000 test images)\n",
    "def test_on_testing_data(model):\n",
    "    \"\"\"for testing model on test set (10,000 test images), batch size of 1000 \n",
    "    is used for computational purposes and accuracy/loss are averaged after\"\"\"\n",
    "\n",
    "    criterion = nn.CrossEntropyLoss()  # in case not previously defined\n",
    "\n",
    "    # initialize network to use CPU\n",
    "    device = torch.device('cpu')\n",
    "    model.to(device)\n",
    "    model.eval()\n",
    "\n",
    "    # initialize accuracy and loss\n",
    "    test_accuracy = 0\n",
    "    epoch_loss = 0\n",
    "\n",
    "    # loop through test batches and send to CPU\n",
    "    for j, (test_images, test_labels) in enumerate(test_loader):\n",
    "        test_images, test_labels = test_images.to(\n",
    "            device), test_labels.to(device)\n",
    "\n",
    "        # run images through model to create outputs\n",
    "        test_outputs = model(test_images)\n",
    "\n",
    "        # compare outputs to actual labels\n",
    "        epoch_loss += criterion(test_outputs, test_labels).item()\n",
    "        test_accuracy += accuracy(test_outputs, test_labels)\n",
    "\n",
    "    # average over the number of batches\n",
    "    test_accuracy = test_accuracy / len(test_loader)\n",
    "    test_loss = epoch_loss / len(test_loader)\n",
    "\n",
    "    # print results\n",
    "    print(\"Test Loss is : {a:.2f}\".format(a=test_loss))\n",
    "    print(\"Test Accuracy is : {a:.2f}%\".format(a=test_accuracy))"
   ]
  },
  {
   "cell_type": "code",
   "execution_count": 111,
   "metadata": {
    "ExecuteTime": {
     "end_time": "2020-03-05T19:53:29.126044Z",
     "start_time": "2020-03-05T19:52:39.688784Z"
    },
    "colab": {
     "base_uri": "https://localhost:8080/",
     "height": 51
    },
    "colab_type": "code",
    "id": "siywUy4t4i9P",
    "outputId": "6e357ec6-6fe1-4d91-c177-5db2550bf32f"
   },
   "outputs": [
    {
     "name": "stdout",
     "output_type": "stream",
     "text": [
      "Test Loss is : 0.53\n",
      "Test Accuracy is : 88.20%\n"
     ]
    }
   ],
   "source": [
    "test_on_testing_data(model)"
   ]
  },
  {
   "cell_type": "markdown",
   "metadata": {
    "colab_type": "text",
    "id": "ldwTrAo7pwkv"
   },
   "source": [
    "## Test on training dataset"
   ]
  },
  {
   "cell_type": "code",
   "execution_count": 0,
   "metadata": {
    "ExecuteTime": {
     "end_time": "2020-03-05T17:27:17.190002Z",
     "start_time": "2020-03-05T17:27:17.048808Z"
    },
    "colab": {},
    "colab_type": "code",
    "id": "D9TW85bM4i9Z"
   },
   "outputs": [],
   "source": [
    "# Accuracy on full train dataset (50,000 training images) without data augmentation\n",
    "def test_on_training_data(model):\n",
    "    \"\"\"for testing model on training batch (50,000 test images), batch size of 1000 \n",
    "    is used for computational purposes and accuracy/loss are averaged after\"\"\"\n",
    "\n",
    "    criterion = nn.CrossEntropyLoss()  # in case not previously defined\n",
    "\n",
    "    # initialize network to use CPU\n",
    "    device = torch.device('cpu')\n",
    "    model.to(device)\n",
    "    model.eval()\n",
    "\n",
    "    # we want to test on data without additional transformations\n",
    "    transform_tr1 = transforms.Compose([\n",
    "        transforms.ToTensor(),\n",
    "        transforms.Normalize((0.4914, 0.4822, 0.4465),\n",
    "                             (0.2470, 0.2435, 0.2616))\n",
    "    ])\n",
    "\n",
    "    # define new train dataset using above transformations\n",
    "    train_dataset1 = datasets.CIFAR10('CIFAR10',\n",
    "                                      train=True,\n",
    "                                      download=True,\n",
    "                                      transform=transform_tr1)\n",
    "\n",
    "    # define new loader with batch size and dataset\n",
    "    train_loader1 = torch.utils.data.DataLoader(train_dataset1,\n",
    "                                                batch_size=100,\n",
    "                                                shuffle=True)\n",
    "    # initialize accuracy and loss\n",
    "    test_accuracy = 0  \n",
    "    epoch_loss = 0\n",
    "\n",
    "    # loop through test batches and send to CPU\n",
    "    for j, (test_images, test_labels) in enumerate(train_loader1):\n",
    "        test_images, test_labels = test_images.to(device), test_labels.to(\n",
    "            device)\n",
    "\n",
    "        # run images through model to create outputs\n",
    "        test_outputs = model(test_images)\n",
    "\n",
    "        # compare outputs to actual labels\n",
    "        epoch_loss += criterion(test_outputs, test_labels).item()\n",
    "        test_accuracy += accuracy(test_outputs, test_labels)\n",
    "\n",
    "    # average over the number of batches\n",
    "    test_accuracy = test_accuracy / len(train_loader1)\n",
    "    test_loss = epoch_loss / len(train_loader1)\n",
    "\n",
    "    # print results\n",
    "    print(\"Training Loss (Full Dataset) is : {a:.2f}\".format(a=test_loss))\n",
    "    print(\"Training Accuracy (Full Dataset) is : {a:.2f}%\".format(\n",
    "        a=test_accuracy))"
   ]
  },
  {
   "cell_type": "code",
   "execution_count": 113,
   "metadata": {
    "ExecuteTime": {
     "end_time": "2020-03-05T17:29:38.846021Z",
     "start_time": "2020-03-05T17:27:18.903620Z"
    },
    "colab": {
     "base_uri": "https://localhost:8080/",
     "height": 68
    },
    "colab_type": "code",
    "id": "fHV2ORxx4i9h",
    "outputId": "8a8ad2f2-ab96-43fc-a553-41577b876696",
    "scrolled": true
   },
   "outputs": [
    {
     "name": "stdout",
     "output_type": "stream",
     "text": [
      "Files already downloaded and verified\n",
      "Training Loss (Full Dataset) is : 0.07\n",
      "Training Accuracy (Full Dataset) is : 97.74%\n"
     ]
    }
   ],
   "source": [
    "test_on_training_data(model)"
   ]
  },
  {
   "cell_type": "markdown",
   "metadata": {
    "colab_type": "text",
    "id": "aJXfQhib4i9v"
   },
   "source": [
    "# Adversarial Attacks"
   ]
  },
  {
   "cell_type": "markdown",
   "metadata": {
    "colab_type": "text",
    "id": "REOfj0YOeOd1"
   },
   "source": [
    "Create a test loader of a single image preparing for further testing on the model with attacks being conducted."
   ]
  },
  {
   "cell_type": "code",
   "execution_count": 0,
   "metadata": {
    "ExecuteTime": {
     "end_time": "2020-03-05T00:37:20.069277Z",
     "start_time": "2020-03-05T00:37:19.875752Z"
    },
    "colab": {},
    "colab_type": "code",
    "id": "2v1eu9GG4i9y"
   },
   "outputs": [],
   "source": [
    "# define loader with a single image loaded at a time\n",
    "test_loader1 = torch.utils.data.DataLoader(test_dataset,\n",
    "                                           batch_size=1,\n",
    "                                           shuffle=True)"
   ]
  },
  {
   "cell_type": "markdown",
   "metadata": {
    "colab_type": "text",
    "id": "kzwFpG6iRWO5"
   },
   "source": [
    "## Define Fast Gradient Sign Method (FGSM) attack"
   ]
  },
  {
   "cell_type": "markdown",
   "metadata": {
    "colab_type": "text",
    "id": "7ApzMkBheOd-"
   },
   "source": [
    "In this section we implement adversarial attacks on our established deep convolutional neural networks model. We start from one of the most fundamental attack methods - Fast Gradient Sign Method (FGSM). FGSM works by using the gradient of the model to create an adversarial example. For an input image from CIFAR-10 dataset, the method uses the gradients of the loss with respect to the input image to create a new image (an adversarial image) by adding a perturbation of magnitude in the direction of the gradient that maximises the loss. \n",
    "The formula for FGSM is given as the following:\n",
    "\\begin{equation}\n",
    "x_{adv} \\leftarrow x + \\epsilon sign(\\nabla_xL(F(x),y_{true}))\n",
    "\\end{equation}\n",
    "where: \n",
    "\n",
    "$x_{adv}$ : Perturbed image\n",
    "\n",
    "$x$ : Original input image\n",
    "\n",
    "$y$ : Original input label\n",
    "\n",
    "$\\epsilon$ : Small multiplier to the perturbation\n",
    "\n",
    "$y_{true}$ : True label of the original input\n",
    "\n",
    "$L$ : Classification loss function\n",
    "\n",
    "\n",
    "\n",
    "\n",
    "\n"
   ]
  },
  {
   "cell_type": "code",
   "execution_count": 0,
   "metadata": {
    "ExecuteTime": {
     "end_time": "2020-03-05T00:37:21.747151Z",
     "start_time": "2020-03-05T00:37:21.552704Z"
    },
    "colab": {},
    "colab_type": "code",
    "id": "WKb-qTe84i93"
   },
   "outputs": [],
   "source": [
    "def fgsm(images, epsilon, images_gradient):\n",
    "    \"\"\"given a set of images, stored image gradients, and epsilon,\n",
    "    return fast gradient sign method perturbed image\"\"\"\n",
    "    sign = images.grad.sign()\n",
    "    new_image = images + epsilon * sign\n",
    "    return new_image"
   ]
  },
  {
   "cell_type": "markdown",
   "metadata": {
    "colab_type": "text",
    "id": "8AhKQSJNRWPM"
   },
   "source": [
    "## Test model with FGSM attack on single image"
   ]
  },
  {
   "cell_type": "markdown",
   "metadata": {
    "colab_type": "text",
    "id": "JO8Xul4xeOeI"
   },
   "source": [
    "Given one image and a value of epsilon, show the model prediction with and without pertubation. Visualisation of the image before and after the FGSM attack. It also gives a confidence in the prediction by using softmax on the outputs."
   ]
  },
  {
   "cell_type": "code",
   "execution_count": 0,
   "metadata": {
    "ExecuteTime": {
     "end_time": "2020-03-05T00:37:25.295902Z",
     "start_time": "2020-03-05T00:37:25.067466Z"
    },
    "colab": {},
    "colab_type": "code",
    "id": "m6s-QyUW4i99"
   },
   "outputs": [],
   "source": [
    "def test_single_prediction(epsilon, model, sample_image_index):\n",
    "    # Run model on CPU\n",
    "    device = torch.device('cpu')\n",
    "    model.to(device)\n",
    "    model.eval()\n",
    "\n",
    "    # For randomly sampling one image from the data loader\n",
    "    indices = np.arange(10000)\n",
    "    sampler = torch.utils.data.SubsetRandomSampler(indices[sample_image_index-1:sample_image_index])\n",
    "\n",
    "    test_loader1 = torch.utils.data.DataLoader(test_dataset,\n",
    "                                               batch_size=1,\n",
    "                                               shuffle=False,\n",
    "                                               sampler=sampler)\n",
    "\n",
    "    # define sample image out of the batch in the correct shape for visualization\n",
    "    for test_images, test_labels in test_loader1:\n",
    "        sample_image = test_images[0, :, :]\n",
    "        sample_label = test_labels[0]\n",
    "        test_images, test_labels = test_images.to(device), test_labels.to(device) \n",
    "\n",
    "    # fgsm requires that we track gradients\n",
    "    sample_image.requires_grad = True\n",
    "    test_images.requires_grad = True\n",
    "\n",
    "    # run model on single image in test_images and backward pass\n",
    "    output = model(test_images)\n",
    "\n",
    "    loss = criterion(output, test_labels)\n",
    "    model.zero_grad()\n",
    "    loss.backward()\n",
    "\n",
    "    # predicted label is the highest value in output\n",
    "    _, predicted = torch.max(output, 1)\n",
    "\n",
    "    # calculate confidence in prediction(probability)\n",
    "    # by applying softmax to output\n",
    "    confidence = torch.nn.functional.softmax(output, dim=1)\n",
    "    confidence = torch.max(confidence, 1)\n",
    "\n",
    "    # fgsm adversarial attack on test_images\n",
    "    fgsm_images = fgsm(test_images, epsilon, test_images.grad.data)\n",
    "    fgsm_images = fgsm_images.to(device)\n",
    "\n",
    "    # run model on single perturbed image\n",
    "    fgsm_output = model(fgsm_images)\n",
    "\n",
    "    # predicted label is the highest value in output\n",
    "    _, fgsm_predicted = torch.max(fgsm_output, 1)\n",
    "\n",
    "    # calculate confidence in prediction(probability)\n",
    "    # by applying softmax to output\n",
    "    fgsm_confidence = torch.nn.functional.softmax(fgsm_output, dim=1)\n",
    "    fgsm_confidence = torch.max(fgsm_confidence, 1)\n",
    "\n",
    "    # logging model prediction before and after fgsm attack\n",
    "    print(\"True label is: {tl} - {tl_desc}\\n\\\n",
    "    \\nBefore fgsm - Model prediction: {pred1} - {pred1_desc} with {conf1:.2f}% Confidence\\n\\\n",
    "    \\nAfter fgsm - Model prediction: {pred2} - {pred2_desc} with {conf2:.2f}% Confidence\\n\\\n",
    "    \".format(tl=sample_label,\n",
    "             tl_desc=train_dataset.classes[sample_label],\n",
    "             pred1=predicted[0],\n",
    "             pred1_desc=train_dataset.classes[predicted[0]],\n",
    "             pred2=fgsm_predicted[0],\n",
    "             pred2_desc=train_dataset.classes[fgsm_predicted[0]],\n",
    "             conf1=confidence[0].item() * 100,\n",
    "             conf2=fgsm_confidence[0].item() * 100))\n",
    "\n",
    "    # define mean and standard deviation for reversing normalization\n",
    "    std = tst_std\n",
    "    mean = tst_mean\n",
    "    mean = mean[:, None, None]\n",
    "    std = std[:, None, None]\n",
    "\n",
    "    # reverse normalization\n",
    "    sample_image = sample_image * std + mean\n",
    "    adv_image = fgsm_images * std + mean\n",
    "    fgsm_vis = epsilon * test_images.grad.sign()\n",
    "\n",
    "    # list of images and label for visualization\n",
    "    images_list = [\n",
    "        sample_image.detach(),\n",
    "        fgsm_vis.detach()[0, :, :],\n",
    "        adv_image.detach()[0, :, :]\n",
    "    ]\n",
    "    labels_for_vis = [\"Original Image\", \"FGSM Noise\", \"Perturbed Image\"]\n",
    "\n",
    "    # setup figure with 3 columns and 1\n",
    "    ax = []\n",
    "    fig = plt.figure(figsize=(32, 32))\n",
    "    columns = 3\n",
    "    rows = 1\n",
    "\n",
    "    # visualization\n",
    "    plt.rcParams.update({'font.size': 22})\n",
    "    for i in range(1, columns * rows + 1):\n",
    "        ax.append(fig.add_subplot(rows, columns, i))\n",
    "        ax[-1].set_title(labels_for_vis[i - 1])\n",
    "        plt.imshow(np.transpose(images_list[i - 1], (1, 2, 0)))\n",
    "\n",
    "    plt.rcParams.update({'font.size': 12})\n",
    "    plt.show()"
   ]
  },
  {
   "cell_type": "code",
   "execution_count": 117,
   "metadata": {
    "ExecuteTime": {
     "end_time": "2020-03-05T00:37:28.900180Z",
     "start_time": "2020-03-05T00:37:28.703731Z"
    },
    "colab": {
     "base_uri": "https://localhost:8080/",
     "height": 51
    },
    "colab_type": "code",
    "id": "LB3oY2AhFwRS",
    "outputId": "dfd2ed4d-ef9e-436e-f341-1150cc0d2c26"
   },
   "outputs": [
    {
     "name": "stdout",
     "output_type": "stream",
     "text": [
      "Classes are: ['airplane', 'automobile', 'bird', 'cat', 'deer', 'dog', 'frog', 'horse', 'ship', 'truck']\n",
      "\n"
     ]
    }
   ],
   "source": [
    "print(\"Classes are: {}\\n\".format(test_dataset.classes))"
   ]
  },
  {
   "cell_type": "markdown",
   "metadata": {
    "colab_type": "text",
    "id": "AuDpRQM-eOeX"
   },
   "source": [
    "Print out a visual comparison between the original image and the corresponding perturbed image. It is shown that our attack has a significant negative impact on our model. As illustrated in the tests below, the visual distinction between two images has become more significant due to the higher distortion on random pixels from the original image as epsilon value increases from 0.01 to 0.1. \n",
    "\n",
    "We conclude that as the value of epsilon is increased, it becomes easier to fool the network. However, this comes as a trade-off which results in the perturbations becoming more identifiable."
   ]
  },
  {
   "cell_type": "code",
   "execution_count": 118,
   "metadata": {
    "ExecuteTime": {
     "end_time": "2020-03-05T00:38:15.123581Z",
     "start_time": "2020-03-05T00:38:12.434212Z"
    },
    "colab": {
     "base_uri": "https://localhost:8080/",
     "height": 748
    },
    "colab_type": "code",
    "id": "BrS8Bdys4i-H",
    "outputId": "f0068886-4fb6-4009-e3dd-9f8dea0f6524",
    "scrolled": false
   },
   "outputs": [
    {
     "name": "stderr",
     "output_type": "stream",
     "text": [
      "Clipping input data to the valid range for imshow with RGB data ([0..1] for floats or [0..255] for integers).\n"
     ]
    },
    {
     "name": "stdout",
     "output_type": "stream",
     "text": [
      "True label is: 5 - dog\n",
      "    \n",
      "Before fgsm - Model prediction: 5 - dog with 96.85% Confidence\n",
      "    \n",
      "After fgsm - Model prediction: 3 - cat with 82.94% Confidence\n",
      "    \n"
     ]
    },
    {
     "data": {
      "image/png": "[encoded data removed]",
      "text/plain": [
       "<Figure size 2304x2304 with 3 Axes>"
      ]
     },
     "metadata": {
      "tags": []
     },
     "output_type": "display_data"
    }
   ],
   "source": [
    "#visualise the difference between original image with perturbed image(with epsilon=0.01)\n",
    "test_single_prediction(epsilon=0.01, model=model, sample_image_index=1001)"
   ]
  },
  {
   "cell_type": "code",
   "execution_count": 119,
   "metadata": {
    "ExecuteTime": {
     "end_time": "2020-03-05T00:40:14.550367Z",
     "start_time": "2020-03-05T00:40:12.085995Z"
    },
    "colab": {
     "base_uri": "https://localhost:8080/",
     "height": 748
    },
    "colab_type": "code",
    "id": "pJ2XqsQWpwll",
    "outputId": "cfa4c87a-d49f-4b45-8473-676264b7389f"
   },
   "outputs": [
    {
     "name": "stderr",
     "output_type": "stream",
     "text": [
      "Clipping input data to the valid range for imshow with RGB data ([0..1] for floats or [0..255] for integers).\n"
     ]
    },
    {
     "name": "stdout",
     "output_type": "stream",
     "text": [
      "True label is: 5 - dog\n",
      "    \n",
      "Before fgsm - Model prediction: 5 - dog with 96.85% Confidence\n",
      "    \n",
      "After fgsm - Model prediction: 3 - cat with 100.00% Confidence\n",
      "    \n"
     ]
    },
    {
     "data": {
      "image/png": "[encoded data removed]",
      "text/plain": [
       "<Figure size 2304x2304 with 3 Axes>"
      ]
     },
     "metadata": {
      "tags": []
     },
     "output_type": "display_data"
    }
   ],
   "source": [
    "#visualise the difference between original image with perturbed image(with epsilon=0.1)\n",
    "test_single_prediction(epsilon=0.1, model=model, sample_image_index=1001)"
   ]
  },
  {
   "cell_type": "markdown",
   "metadata": {
    "colab_type": "text",
    "id": "TnoGAW0VRWPq"
   },
   "source": [
    "## Test model with FGSM attacks on entire testing dataset"
   ]
  },
  {
   "cell_type": "markdown",
   "metadata": {
    "colab_type": "text",
    "id": "GrJp5f6yeOem"
   },
   "source": [
    "Testing the model's test accuracy against attacks with increasing epsilon values with step size $\\frac{1}{255}$:\n",
    "\n",
    "| Epsilon          | 0.000 | 0.004 | 0.008 | 0.012 | 0.016 | 0.020 | 0.024 | 0.027 | 0.031 | 0.035 | 0.039 | 0.043 | 0.047 | 0.051 | 0.055 | 0.059 | 0.063 | 0.067 | 0.071 | 0.075 | 0.078 |\n",
    "|------------------|-------|-------|-------|-------|-------|-------|-------|-------|-------|-------|-------|-------|-------|-------|-------|-------|-------|-------|-------|-------|-------|"
   ]
  },
  {
   "cell_type": "code",
   "execution_count": 0,
   "metadata": {
    "ExecuteTime": {
     "end_time": "2020-03-05T00:38:20.183365Z",
     "start_time": "2020-03-05T00:38:19.966050Z"
    },
    "colab": {},
    "colab_type": "code",
    "id": "4HLy1zRB4i-V"
   },
   "outputs": [],
   "source": [
    "def test_fgsm(model, device, test_loader1, epsilon):\n",
    "    \"\"\"given value of epsilon, determine prediction accuracy on test set\n",
    "    without and without perturbation\"\"\"\n",
    "    \n",
    "    device = cpu_or_gpu()\n",
    "    model.to(device)\n",
    "    model.eval()\n",
    "\n",
    "    # Initliaze counter for accuracy\n",
    "    correct = 0\n",
    "    adv_examples = []\n",
    "\n",
    "    # Loop through images and labels one by one\n",
    "    for images, labels in test_loader1:\n",
    "\n",
    "        # Send the data and label to the device\n",
    "        images, labels = images.to(device), labels.to(device)\n",
    "\n",
    "        # Run image through model\n",
    "        images.requires_grad = True\n",
    "        output = model(images)\n",
    "        init_pred = output.max(\n",
    "            1, keepdim=True)[1]\n",
    "\n",
    "        # If the initial prediction is wrong don't attack\n",
    "        if init_pred.item() != labels.item():\n",
    "            continue\n",
    "\n",
    "        # Calculate the loss\n",
    "        loss = criterion(output, labels)\n",
    "\n",
    "        # Zero all existing gradients\n",
    "        model.zero_grad()\n",
    "\n",
    "        # Backward pass to get gradients\n",
    "        loss.backward()\n",
    "        images_gradient = images.grad.data\n",
    "\n",
    "        # FGSM Attack and re-classification\n",
    "        perturbed_data = fgsm(images, epsilon, images_gradient)\n",
    "        output = model(perturbed_data)\n",
    "\n",
    "        # Check for success\n",
    "        prediction = output.max(\n",
    "            1, keepdim=True)[1]\n",
    "\n",
    "        if prediction.item() == labels.item():\n",
    "            correct += 1\n",
    "            \n",
    "            # 0 epsilon samples\n",
    "            if (epsilon == 0) and (len(adv_examples) < 5):\n",
    "                adv_ex = perturbed_data.squeeze().detach().cpu().numpy()\n",
    "                adv_examples.append(\n",
    "                    (init_pred.item(), prediction.item(), adv_ex))\n",
    "        else:\n",
    "            # Save some adv examples for visualization later\n",
    "            if len(adv_examples) < 5:\n",
    "                adv_ex = perturbed_data.squeeze().detach().cpu().numpy()\n",
    "                adv_examples.append(\n",
    "                    (init_pred.item(), prediction.item(), adv_ex))\n",
    "\n",
    "    # Final accuracy\n",
    "    final_acc = correct / float(len(test_loader1))\n",
    "    print(\"Epsilon: {:.3f}\\tTest Accuracy = {} / {} = {}\".format(\n",
    "        epsilon, correct, len(test_loader1), final_acc))\n",
    "\n",
    "    # Return the accuracy and an adversarial example\n",
    "    return final_acc, adv_examples"
   ]
  },
  {
   "cell_type": "code",
   "execution_count": 0,
   "metadata": {
    "colab": {},
    "colab_type": "code",
    "id": "UwyglKIsRWPw"
   },
   "outputs": [],
   "source": [
    "# List of epsilon values to test\n",
    "epsilon = np.array((0,1,2,3,4,5,6,7,8,9,10,11,12,13,14,15,16,17,18,19,20))/255"
   ]
  },
  {
   "cell_type": "code",
   "execution_count": 128,
   "metadata": {
    "ExecuteTime": {
     "end_time": "2020-03-03T19:15:19.306340Z",
     "start_time": "2020-03-03T18:56:52.266743Z"
    },
    "colab": {
     "base_uri": "https://localhost:8080/",
     "height": 408
    },
    "colab_type": "code",
    "id": "8hh0fubC4i-b",
    "outputId": "68fa5a79-2c0f-4af6-c33b-cd84e8208e96",
    "scrolled": false
   },
   "outputs": [
    {
     "name": "stdout",
     "output_type": "stream",
     "text": [
      "Epsilons to test: [ 0.  1.  2.  3.  4.  5.  6.  7.  8.  9. 10. 11. 12. 13. 14. 15. 16. 17.\n",
      " 18. 19. 20.]/255\n",
      "Epsilon: 0.000\tTest Accuracy = 8820 / 10000 = 0.882\n",
      "Epsilon: 0.004\tTest Accuracy = 8110 / 10000 = 0.811\n",
      "Epsilon: 0.008\tTest Accuracy = 7383 / 10000 = 0.7383\n",
      "Epsilon: 0.012\tTest Accuracy = 6603 / 10000 = 0.6603\n",
      "Epsilon: 0.016\tTest Accuracy = 5897 / 10000 = 0.5897\n",
      "Epsilon: 0.020\tTest Accuracy = 5261 / 10000 = 0.5261\n",
      "Epsilon: 0.024\tTest Accuracy = 4842 / 10000 = 0.4842\n",
      "Epsilon: 0.027\tTest Accuracy = 4489 / 10000 = 0.4489\n",
      "Epsilon: 0.031\tTest Accuracy = 4250 / 10000 = 0.425\n",
      "Epsilon: 0.035\tTest Accuracy = 4079 / 10000 = 0.4079\n",
      "Epsilon: 0.039\tTest Accuracy = 3933 / 10000 = 0.3933\n",
      "Epsilon: 0.043\tTest Accuracy = 3807 / 10000 = 0.3807\n",
      "Epsilon: 0.047\tTest Accuracy = 3693 / 10000 = 0.3693\n",
      "Epsilon: 0.051\tTest Accuracy = 3587 / 10000 = 0.3587\n",
      "Epsilon: 0.055\tTest Accuracy = 3482 / 10000 = 0.3482\n",
      "Epsilon: 0.059\tTest Accuracy = 3394 / 10000 = 0.3394\n",
      "Epsilon: 0.063\tTest Accuracy = 3305 / 10000 = 0.3305\n",
      "Epsilon: 0.067\tTest Accuracy = 3224 / 10000 = 0.3224\n",
      "Epsilon: 0.071\tTest Accuracy = 3143 / 10000 = 0.3143\n",
      "Epsilon: 0.075\tTest Accuracy = 3070 / 10000 = 0.307\n",
      "Epsilon: 0.078\tTest Accuracy = 3008 / 10000 = 0.3008\n"
     ]
    }
   ],
   "source": [
    "accuracies = []\n",
    "examples = []\n",
    "\n",
    "print(\"Epsilons to test: {}/255\".format(epsilon*255))\n",
    "# Run test for each epsilon\n",
    "for eps in epsilon:\n",
    "    acc, ex = test_fgsm(model, device, test_loader1, eps)\n",
    "    accuracies.append(acc)\n",
    "    examples.append(ex)"
   ]
  },
  {
   "cell_type": "markdown",
   "metadata": {
    "colab_type": "text",
    "id": "j_Nn0tZ1eOe5"
   },
   "source": [
    "As expected, the performance of our model decreases significantly against an increasing epsilon due to the larger distortion created by higher epsilon values:\n",
    "\n",
    "| Epsilon          | 0.000 | 0.004 | 0.008 | 0.012 | 0.016 | 0.020 | 0.024 | 0.027 | 0.031 | 0.035 | 0.039 | 0.043 | 0.047 | 0.051 | 0.055 | 0.059 | 0.063 | 0.067 | 0.071 | 0.075 | 0.078 |\n",
    "|------------------|-------|-------|-------|-------|-------|-------|-------|-------|-------|-------|-------|-------|-------|-------|-------|-------|-------|-------|-------|-------|-------|\n",
    "| Test Accuracy(%) | 88.20 | 81.10 | 73.83 | 66.03 | 58.97 | 52.61 | 48.42 | 44.89 | 42.50 | 40.79 | 39.33 | 38.07 | 36.93 | 35.87 | 34.82 | 33.94 | 33.05 | 32.24 | 31.43 | 30.70 | 30.08 |"
   ]
  },
  {
   "cell_type": "code",
   "execution_count": 129,
   "metadata": {
    "ExecuteTime": {
     "end_time": "2020-03-03T19:16:56.826262Z",
     "start_time": "2020-03-03T19:16:56.666353Z"
    },
    "colab": {
     "base_uri": "https://localhost:8080/",
     "height": 357
    },
    "colab_type": "code",
    "id": "2vtp5b_a4i-g",
    "outputId": "ff8f99cb-3518-42cf-c4e4-773ac6126a48",
    "scrolled": true
   },
   "outputs": [
    {
     "data": {
      "image/png": "[encoded data removed]",
      "text/plain": [
       "<Figure size 360x360 with 1 Axes>"
      ]
     },
     "metadata": {
      "tags": []
     },
     "output_type": "display_data"
    }
   ],
   "source": [
    "# visualization of epsilon vs test accuracy\n",
    "plt.figure(figsize=(5, 5))\n",
    "plt.plot(epsilon, np.array(accuracies)*100, \"*-\")\n",
    "plt.yscale(\"linear\")\n",
    "plt.title(\"Accuracy vs Epsilon\")\n",
    "plt.xlabel(\"Epsilon\")\n",
    "plt.ylabel(\"Accuracy (%)\")\n",
    "plt.show()"
   ]
  },
  {
   "cell_type": "markdown",
   "metadata": {
    "colab_type": "text",
    "id": "JWg3Vg12RWQC"
   },
   "source": [
    "# Defending Against Adversarial Attacks"
   ]
  },
  {
   "cell_type": "markdown",
   "metadata": {
    "colab_type": "text",
    "id": "WU7LABWqeOfC"
   },
   "source": [
    "Implementing one of the most common defence techniques consisting of introducting inputs that have already been attacked and including them as part of the original training set to train a more robust network. This technique is known as Adversarial Training which can be formulated as the following:\n",
    "\n",
    "\\begin{equation}\\label{eq:}\n",
    "L(F(x),y_{true}) = c*L(F(x),y_{true}) + (1-c)*L(F(x),x + \\epsilon sign(\\nabla_x L(F(x),y_{true}), y_{true})\n",
    "\\end{equation}\n",
    "\n",
    "where: \n",
    "\n",
    "$x + \\epsilon sign(\\nabla_x L(F(x),y_{true}))$ : FGSM-generated     adversarial samples\n",
    "\n",
    "$c$ : the hyperparameter that is used to balance the accuracy on original and adversarial samples\n",
    "\n",
    "\n",
    "For the CIFAR-10 dataset, we generate our robust model from the target model by adding some perturbed images derived from the original images using the FGSM attack method."
   ]
  },
  {
   "cell_type": "markdown",
   "metadata": {
    "colab_type": "text",
    "id": "q8xNvbcMRWQF"
   },
   "source": [
    "## Building robust model "
   ]
  },
  {
   "cell_type": "code",
   "execution_count": 39,
   "metadata": {
    "colab": {
     "base_uri": "https://localhost:8080/",
     "height": 204
    },
    "colab_type": "code",
    "id": "XOv_Rsd-K-eP",
    "outputId": "23cee763-057c-47e5-c5d3-14d7cf7fec70"
   },
   "outputs": [
    {
     "data": {
      "text/plain": [
       "Neural_Network(\n",
       "  (conv1): Conv2d(3, 100, kernel_size=(3, 3), stride=(1, 1), padding=(1, 1))\n",
       "  (conv2): Conv2d(100, 200, kernel_size=(2, 2), stride=(1, 1), padding=(1, 1))\n",
       "  (conv3): Conv2d(200, 300, kernel_size=(2, 2), stride=(1, 1), padding=(1, 1))\n",
       "  (conv4): Conv2d(300, 400, kernel_size=(2, 2), stride=(1, 1), padding=(1, 1))\n",
       "  (conv5): Conv2d(400, 500, kernel_size=(2, 2), stride=(1, 1), padding=(1, 1))\n",
       "  (drop): Dropout2d(p=0.5, inplace=False)\n",
       "  (pool): MaxPool2d(kernel_size=2, stride=2, padding=0, dilation=1, ceil_mode=False)\n",
       "  (fc1): Linear(in_features=4500, out_features=10, bias=True)\n",
       "  (activ1): ReLU()\n",
       ")"
      ]
     },
     "execution_count": 39,
     "metadata": {
      "tags": []
     },
     "output_type": "execute_result"
    }
   ],
   "source": [
    "# Use this cell if training a new model\n",
    "model_robust = Neural_Network()\n",
    "device = cpu_or_gpu()\n",
    "model_robust.to(device)"
   ]
  },
  {
   "cell_type": "code",
   "execution_count": 25,
   "metadata": {
    "colab": {
     "base_uri": "https://localhost:8080/",
     "height": 204
    },
    "colab_type": "code",
    "id": "ztOpOYR2RWQM",
    "outputId": "b5fde998-aeef-4753-f40a-0c9a1f6a131e"
   },
   "outputs": [
    {
     "data": {
      "text/plain": [
       "Neural_Network(\n",
       "  (conv1): Conv2d(3, 100, kernel_size=(3, 3), stride=(1, 1), padding=(1, 1))\n",
       "  (conv2): Conv2d(100, 200, kernel_size=(2, 2), stride=(1, 1), padding=(1, 1))\n",
       "  (conv3): Conv2d(200, 300, kernel_size=(2, 2), stride=(1, 1), padding=(1, 1))\n",
       "  (conv4): Conv2d(300, 400, kernel_size=(2, 2), stride=(1, 1), padding=(1, 1))\n",
       "  (conv5): Conv2d(400, 500, kernel_size=(2, 2), stride=(1, 1), padding=(1, 1))\n",
       "  (drop): Dropout2d(p=0.5, inplace=False)\n",
       "  (pool): MaxPool2d(kernel_size=2, stride=2, padding=0, dilation=1, ceil_mode=False)\n",
       "  (fc1): Linear(in_features=4500, out_features=10, bias=True)\n",
       "  (activ1): ReLU()\n",
       ")"
      ]
     },
     "execution_count": 25,
     "metadata": {
      "tags": []
     },
     "output_type": "execute_result"
    }
   ],
   "source": [
    "# Use this cell if loading a saved model\n",
    "model_robust = Neural_Network()\n",
    "device = cpu_or_gpu()\n",
    "model_robust.to(device)\n",
    "model_robust.load_state_dict(\n",
    "    torch.load(\"robust_model\"))  # <------- Insert path of saved model as string here\n",
    "\n",
    "model_robust.eval()"
   ]
  },
  {
   "cell_type": "code",
   "execution_count": 23,
   "metadata": {
    "colab": {
     "base_uri": "https://localhost:8080/",
     "height": 510
    },
    "colab_type": "code",
    "id": "I2-wPnYERWQT",
    "outputId": "95d72f3e-a8df-4ae2-f029-f7b524b94e43"
   },
   "outputs": [
    {
     "name": "stdout",
     "output_type": "stream",
     "text": [
      "----------------------------------------------------------------\n",
      "        Layer (type)               Output Shape         Param #\n",
      "================================================================\n",
      "            Conv2d-1          [-1, 100, 32, 32]           2,800\n",
      "              ReLU-2          [-1, 100, 32, 32]               0\n",
      "         MaxPool2d-3          [-1, 100, 16, 16]               0\n",
      "            Conv2d-4          [-1, 200, 17, 17]          80,200\n",
      "              ReLU-5          [-1, 200, 17, 17]               0\n",
      "         MaxPool2d-6            [-1, 200, 8, 8]               0\n",
      "            Conv2d-7            [-1, 300, 9, 9]         240,300\n",
      "              ReLU-8            [-1, 300, 9, 9]               0\n",
      "         MaxPool2d-9            [-1, 300, 4, 4]               0\n",
      "           Conv2d-10            [-1, 400, 5, 5]         480,400\n",
      "             ReLU-11            [-1, 400, 5, 5]               0\n",
      "        MaxPool2d-12            [-1, 400, 2, 2]               0\n",
      "           Conv2d-13            [-1, 500, 3, 3]         800,500\n",
      "             ReLU-14            [-1, 500, 3, 3]               0\n",
      "        Dropout2d-15            [-1, 500, 3, 3]               0\n",
      "           Linear-16                   [-1, 10]          45,010\n",
      "================================================================\n",
      "Total params: 1,649,210\n",
      "Trainable params: 1,649,210\n",
      "Non-trainable params: 0\n",
      "----------------------------------------------------------------\n",
      "Input size (MB): 0.01\n",
      "Forward/backward pass size (MB): 3.41\n",
      "Params size (MB): 6.29\n",
      "Estimated Total Size (MB): 9.72\n",
      "----------------------------------------------------------------\n"
     ]
    }
   ],
   "source": [
    "# Summary of layers, output shape, parameters, and size\n",
    "summary(model, input_size=(3, 32, 32))"
   ]
  },
  {
   "cell_type": "markdown",
   "metadata": {
    "colab_type": "text",
    "id": "73qIArCwRWQY"
   },
   "source": [
    "## Robust training function"
   ]
  },
  {
   "cell_type": "markdown",
   "metadata": {
    "colab_type": "text",
    "id": "mNqHN5JMeOfY"
   },
   "source": [
    "The training function randomly adds a batch of adversarial samples corresponding to the original batch of images. An epsilon value for each adversarial batch is randomly selected in the range of 0 to 0.078. "
   ]
  },
  {
   "cell_type": "code",
   "execution_count": 0,
   "metadata": {
    "colab": {},
    "colab_type": "code",
    "id": "7d8rCEToLmPi"
   },
   "outputs": [],
   "source": [
    "def train_robust(number_of_epochs):\n",
    "\n",
    "    # Initial hyperparameters\n",
    "    number_of_epochs = number_of_epochs\n",
    "    step_size = 0.01\n",
    "    momentum_parameter = 0.9\n",
    "    lambda1 = 0.001\n",
    "\n",
    "    # L1 Regularization\n",
    "    all_linear1_params = torch.cat(\n",
    "        [x.view(-1) for x in model_robust.fc1.parameters()])\n",
    "    l1_regularization = lambda1 * torch.norm(all_linear1_params, 1)\n",
    "\n",
    "    # Initialize optimiser\n",
    "    optimiser = optim.SGD(model_robust.parameters(),\n",
    "                          lr=step_size,\n",
    "                          momentum=momentum_parameter)\n",
    "\n",
    "    # initialize lists for running counts of loss and accuracy\n",
    "    running_loss = []\n",
    "    running_val_loss = []\n",
    "    running_loss_robust = []\n",
    "    running_training_accuracy = []\n",
    "    running_training_accuracy.append(0)\n",
    "    running_val_accuracy = []\n",
    "    running_val_accuracy.append(0)\n",
    "\n",
    "    print(\"Log -- Step size: {}, Momentum: {}, batch_size = {}\".format(\n",
    "        step_size, momentum_parameter, train_batch_size))\n",
    "    \n",
    "    # loop for epochs\n",
    "    for k in range(number_of_epochs):\n",
    "        model_robust.train()\n",
    "        device = cpu_or_gpu()\n",
    "        model_robust.to(device)\n",
    "\n",
    "        # initialize epoch loss and training accuracy\n",
    "        epoch_loss = 0\n",
    "        epoch_loss_robust = 0\n",
    "        training_accuracy = 0\n",
    "\n",
    "\n",
    "        # handle reducing step size at various iterations\n",
    "\n",
    "        step_size = reduce_step_size(iteration_cutoff=10,\n",
    "                                     old_step_size=step_size,\n",
    "                                     new_step_size=0.001,\n",
    "                                     epoch=k)\n",
    "\n",
    "        optimiser = optim.SGD(model_robust.parameters(),\n",
    "                              lr=step_size,\n",
    "                              momentum=momentum_parameter)\n",
    "\n",
    "        # Main Training Loop\n",
    "        for j, (images, labels) in enumerate(train_loader):\n",
    "            images, labels = images.to(device), labels.to(device)\n",
    "            images.requires_grad = True\n",
    "            \n",
    "             # pass inputs through model one time to get regular model loss\n",
    "            optimiser.zero_grad()\n",
    "            outputs = model_robust(images)\n",
    "            loss = criterion(outputs, labels)+ (l1_regularization/len(images))\n",
    "            loss.backward(retain_graph=True)\n",
    "            \n",
    "            # with probablity p=0.5, perturb images using random epsilon between 0 and 0.3\n",
    "            #probability = int(np.random.randint(1,10,1))\n",
    "            #if probability < 2:\n",
    "            #images = fgsm(images, int(np.random.randint(1,20,1))*(1/255), images.grad.sign())\n",
    "            \n",
    "            # for each batch, add a second batch with a pertubation with random epsilon between 0 and 20/255\n",
    "            images_list = [images]\n",
    "\n",
    "            images_add = fgsm(images, int(np.random.randint(1,20,1))*(1/255), images.grad.sign())\n",
    "            images_list.append(images_add)\n",
    "            \n",
    "            # pass new inputs through model a second time to get robust model loss\n",
    "            for images_el in images_list:\n",
    "              optimiser.zero_grad()\n",
    "              outputs = model_robust(images_el)\n",
    "              loss_robust = criterion(outputs, labels) + (l1_regularization/len(images_el))\n",
    "              loss_robust.backward(retain_graph=True)\n",
    "              optimiser.step()\n",
    "              epoch_loss_robust += loss_robust.item()\n",
    "              training_accuracy += accuracy(outputs, labels)\n",
    "              \n",
    "            epoch_loss += loss.item()\n",
    "\n",
    "        # Caclulate average loss and accuracy for each epoch\n",
    "        running_loss.append(epoch_loss / len(train_loader))\n",
    "        running_loss_robust.append(epoch_loss_robust / (len(train_loader)*len(images_list)))\n",
    "        running_training_accuracy.append(training_accuracy / (len(train_loader)*len(images_list)))\n",
    "\n",
    "        # Validation test once per epoch\n",
    "        device = torch.device('cpu')\n",
    "        model_robust.eval()\n",
    "        model_robust.to(device)\n",
    "        val_images, val_labels = iter(val_loader).next()\n",
    "        val_images, val_labels = val_images.to(device), val_labels.to(device)\n",
    "        val_outputs = model_robust(val_images) + (l1_regularization/len(val_images))\n",
    "        val_loss = criterion(val_outputs, val_labels).item()\n",
    "\n",
    "        # Store validation loss and accuracy\n",
    "        running_val_loss.append(val_loss)\n",
    "        val_accuracy = accuracy(val_outputs, val_labels)\n",
    "        running_val_accuracy.append(val_accuracy)\n",
    "        \n",
    "        # Running log\n",
    "        if k % 1 == 0:\n",
    "            print(\n",
    "                \"Epoch {a}/{b} -> Tr. Loss (Original) = {c:.4f}, Tr. Loss (Robust) = {g:.4f} Val. Loss = {d:.4f}, Tr. Acc = {e:.2f}, Val. Acc = {f:.2f}\"\n",
    "                .format(a=k,\n",
    "                        b=number_of_epochs,\n",
    "                        c=running_loss[-1],\n",
    "                        d=running_val_loss[-1],\n",
    "                        e=running_training_accuracy[-1],\n",
    "                        f=running_val_accuracy[-1],\n",
    "                        g=running_loss_robust[-1]))\n",
    "\n",
    "    print(\"Final Epoch {} -> Loss = {}\".format(k, running_loss_robust[-1]))\n",
    "\n",
    "    return running_loss, running_loss_robust, running_val_loss, running_training_accuracy, running_val_accuracy"
   ]
  },
  {
   "cell_type": "code",
   "execution_count": 41,
   "metadata": {
    "colab": {
     "base_uri": "https://localhost:8080/",
     "height": 1000
    },
    "colab_type": "code",
    "id": "GkaPA3zHaszi",
    "outputId": "ba21101b-c8dd-43f5-fea9-5e78ab47506d"
   },
   "outputs": [
    {
     "name": "stdout",
     "output_type": "stream",
     "text": [
      "Log -- Step size: 0.01, Momentum: 0.9, batch_size = 32\n",
      "Epoch 0/50 -> Tr. Loss (Original) = 1.7212, Tr. Loss (Robust) = 1.8095 Val. Loss = 1.3804, Tr. Acc = 32.88, Val. Acc = 49.98\n",
      "Epoch 1/50 -> Tr. Loss (Original) = 1.2610, Tr. Loss (Robust) = 1.4309 Val. Loss = 1.1330, Tr. Acc = 48.10, Val. Acc = 60.82\n",
      "Epoch 2/50 -> Tr. Loss (Original) = 1.0709, Tr. Loss (Robust) = 1.2743 Val. Loss = 1.0339, Tr. Acc = 54.48, Val. Acc = 64.72\n",
      "Epoch 3/50 -> Tr. Loss (Original) = 0.9671, Tr. Loss (Robust) = 1.1966 Val. Loss = 0.9270, Tr. Acc = 57.51, Val. Acc = 68.56\n",
      "Epoch 4/50 -> Tr. Loss (Original) = 0.8954, Tr. Loss (Robust) = 1.1322 Val. Loss = 1.0022, Tr. Acc = 60.08, Val. Acc = 64.18\n",
      "Epoch 5/50 -> Tr. Loss (Original) = 0.8427, Tr. Loss (Robust) = 1.0907 Val. Loss = 0.7911, Tr. Acc = 61.73, Val. Acc = 73.18\n",
      "Epoch 6/50 -> Tr. Loss (Original) = 0.8040, Tr. Loss (Robust) = 1.0579 Val. Loss = 0.8031, Tr. Acc = 62.85, Val. Acc = 72.30\n",
      "Epoch 7/50 -> Tr. Loss (Original) = 0.7685, Tr. Loss (Robust) = 1.0282 Val. Loss = 0.7625, Tr. Acc = 63.92, Val. Acc = 73.94\n",
      "Epoch 8/50 -> Tr. Loss (Original) = 0.7464, Tr. Loss (Robust) = 1.0150 Val. Loss = 0.7247, Tr. Acc = 64.63, Val. Acc = 75.52\n",
      "Epoch 9/50 -> Tr. Loss (Original) = 0.7289, Tr. Loss (Robust) = 0.9954 Val. Loss = 0.7391, Tr. Acc = 65.28, Val. Acc = 74.26\n",
      "Log -- Decreased Step size from 0.01 to 0.001\n",
      "Epoch 10/50 -> Tr. Loss (Original) = 0.5713, Tr. Loss (Robust) = 0.8377 Val. Loss = 0.5863, Tr. Acc = 71.05, Val. Acc = 80.12\n",
      "Epoch 11/50 -> Tr. Loss (Original) = 0.5324, Tr. Loss (Robust) = 0.7945 Val. Loss = 0.5730, Tr. Acc = 72.60, Val. Acc = 80.30\n",
      "Epoch 12/50 -> Tr. Loss (Original) = 0.5061, Tr. Loss (Robust) = 0.7670 Val. Loss = 0.5614, Tr. Acc = 73.38, Val. Acc = 80.48\n",
      "Epoch 13/50 -> Tr. Loss (Original) = 0.4963, Tr. Loss (Robust) = 0.7587 Val. Loss = 0.5530, Tr. Acc = 73.74, Val. Acc = 81.10\n",
      "Epoch 14/50 -> Tr. Loss (Original) = 0.4887, Tr. Loss (Robust) = 0.7499 Val. Loss = 0.5530, Tr. Acc = 73.92, Val. Acc = 81.20\n",
      "Epoch 15/50 -> Tr. Loss (Original) = 0.4799, Tr. Loss (Robust) = 0.7369 Val. Loss = 0.5322, Tr. Acc = 74.43, Val. Acc = 81.82\n",
      "Epoch 16/50 -> Tr. Loss (Original) = 0.4700, Tr. Loss (Robust) = 0.7222 Val. Loss = 0.5365, Tr. Acc = 74.94, Val. Acc = 81.92\n",
      "Epoch 17/50 -> Tr. Loss (Original) = 0.4591, Tr. Loss (Robust) = 0.7182 Val. Loss = 0.5309, Tr. Acc = 75.07, Val. Acc = 82.32\n",
      "Epoch 18/50 -> Tr. Loss (Original) = 0.4500, Tr. Loss (Robust) = 0.7052 Val. Loss = 0.5263, Tr. Acc = 75.54, Val. Acc = 82.16\n",
      "Epoch 19/50 -> Tr. Loss (Original) = 0.4472, Tr. Loss (Robust) = 0.6989 Val. Loss = 0.5206, Tr. Acc = 75.75, Val. Acc = 82.06\n",
      "Epoch 20/50 -> Tr. Loss (Original) = 0.4397, Tr. Loss (Robust) = 0.6968 Val. Loss = 0.5193, Tr. Acc = 75.68, Val. Acc = 82.20\n",
      "Epoch 21/50 -> Tr. Loss (Original) = 0.4320, Tr. Loss (Robust) = 0.6877 Val. Loss = 0.5164, Tr. Acc = 75.96, Val. Acc = 82.70\n",
      "Epoch 22/50 -> Tr. Loss (Original) = 0.4278, Tr. Loss (Robust) = 0.6773 Val. Loss = 0.5122, Tr. Acc = 76.54, Val. Acc = 83.20\n",
      "Epoch 23/50 -> Tr. Loss (Original) = 0.4200, Tr. Loss (Robust) = 0.6693 Val. Loss = 0.4978, Tr. Acc = 76.71, Val. Acc = 83.34\n",
      "Epoch 24/50 -> Tr. Loss (Original) = 0.4192, Tr. Loss (Robust) = 0.6696 Val. Loss = 0.5072, Tr. Acc = 76.65, Val. Acc = 82.40\n",
      "Epoch 25/50 -> Tr. Loss (Original) = 0.4114, Tr. Loss (Robust) = 0.6598 Val. Loss = 0.5067, Tr. Acc = 76.83, Val. Acc = 82.90\n",
      "Epoch 26/50 -> Tr. Loss (Original) = 0.4070, Tr. Loss (Robust) = 0.6559 Val. Loss = 0.4969, Tr. Acc = 77.13, Val. Acc = 82.86\n",
      "Epoch 27/50 -> Tr. Loss (Original) = 0.4013, Tr. Loss (Robust) = 0.6515 Val. Loss = 0.4951, Tr. Acc = 77.19, Val. Acc = 83.20\n",
      "Epoch 28/50 -> Tr. Loss (Original) = 0.3949, Tr. Loss (Robust) = 0.6324 Val. Loss = 0.4850, Tr. Acc = 77.78, Val. Acc = 83.62\n",
      "Epoch 29/50 -> Tr. Loss (Original) = 0.3896, Tr. Loss (Robust) = 0.6380 Val. Loss = 0.4873, Tr. Acc = 77.67, Val. Acc = 83.58\n",
      "Epoch 30/50 -> Tr. Loss (Original) = 0.3818, Tr. Loss (Robust) = 0.6278 Val. Loss = 0.4929, Tr. Acc = 78.07, Val. Acc = 83.54\n",
      "Epoch 31/50 -> Tr. Loss (Original) = 0.3788, Tr. Loss (Robust) = 0.6236 Val. Loss = 0.4878, Tr. Acc = 78.21, Val. Acc = 83.70\n",
      "Epoch 32/50 -> Tr. Loss (Original) = 0.3754, Tr. Loss (Robust) = 0.6194 Val. Loss = 0.4802, Tr. Acc = 78.32, Val. Acc = 83.42\n",
      "Epoch 33/50 -> Tr. Loss (Original) = 0.3717, Tr. Loss (Robust) = 0.6184 Val. Loss = 0.4779, Tr. Acc = 78.60, Val. Acc = 84.12\n",
      "Epoch 34/50 -> Tr. Loss (Original) = 0.3642, Tr. Loss (Robust) = 0.6075 Val. Loss = 0.4786, Tr. Acc = 78.65, Val. Acc = 83.58\n",
      "Epoch 35/50 -> Tr. Loss (Original) = 0.3600, Tr. Loss (Robust) = 0.5980 Val. Loss = 0.4759, Tr. Acc = 79.02, Val. Acc = 83.76\n",
      "Epoch 36/50 -> Tr. Loss (Original) = 0.3596, Tr. Loss (Robust) = 0.6023 Val. Loss = 0.4816, Tr. Acc = 78.75, Val. Acc = 83.76\n",
      "Epoch 37/50 -> Tr. Loss (Original) = 0.3553, Tr. Loss (Robust) = 0.6073 Val. Loss = 0.4823, Tr. Acc = 78.64, Val. Acc = 83.60\n",
      "Epoch 38/50 -> Tr. Loss (Original) = 0.3513, Tr. Loss (Robust) = 0.6023 Val. Loss = 0.4735, Tr. Acc = 78.83, Val. Acc = 83.80\n",
      "Epoch 39/50 -> Tr. Loss (Original) = 0.3450, Tr. Loss (Robust) = 0.5935 Val. Loss = 0.4718, Tr. Acc = 79.13, Val. Acc = 84.02\n",
      "Epoch 40/50 -> Tr. Loss (Original) = 0.3427, Tr. Loss (Robust) = 0.5937 Val. Loss = 0.4737, Tr. Acc = 79.03, Val. Acc = 84.10\n"
     ]
    },
    {
     "ename": "KeyboardInterrupt",
     "evalue": "ignored",
     "output_type": "error",
     "traceback": [
      "\u001b[0;31m---------------------------------------------------------------------------\u001b[0m",
      "\u001b[0;31mKeyboardInterrupt\u001b[0m                         Traceback (most recent call last)",
      "\u001b[0;32m<ipython-input-41-7f7a5679544a>\u001b[0m in \u001b[0;36m<module>\u001b[0;34m()\u001b[0m\n\u001b[0;32m----> 1\u001b[0;31m \u001b[0mrunning_loss1\u001b[0m\u001b[0;34m,\u001b[0m \u001b[0mrunning_loss_robust\u001b[0m\u001b[0;34m,\u001b[0m \u001b[0mrunning_val_loss1\u001b[0m\u001b[0;34m,\u001b[0m \u001b[0mrunning_training_accuracy1\u001b[0m\u001b[0;34m,\u001b[0m \u001b[0mrunning_val_accuracy1\u001b[0m \u001b[0;34m=\u001b[0m \u001b[0mtrain_robust\u001b[0m\u001b[0;34m(\u001b[0m\u001b[0mnumber_of_epochs\u001b[0m\u001b[0;34m=\u001b[0m\u001b[0;36m50\u001b[0m\u001b[0;34m)\u001b[0m\u001b[0;34m\u001b[0m\u001b[0;34m\u001b[0m\u001b[0m\n\u001b[0m",
      "\u001b[0;32m<ipython-input-40-81ddbd2544df>\u001b[0m in \u001b[0;36mtrain_robust\u001b[0;34m(number_of_epochs)\u001b[0m\n\u001b[1;32m     76\u001b[0m             \u001b[0;32mfor\u001b[0m \u001b[0mimages_el\u001b[0m \u001b[0;32min\u001b[0m \u001b[0mimages_list\u001b[0m\u001b[0;34m:\u001b[0m\u001b[0;34m\u001b[0m\u001b[0;34m\u001b[0m\u001b[0m\n\u001b[1;32m     77\u001b[0m               \u001b[0moptimiser\u001b[0m\u001b[0;34m.\u001b[0m\u001b[0mzero_grad\u001b[0m\u001b[0;34m(\u001b[0m\u001b[0;34m)\u001b[0m\u001b[0;34m\u001b[0m\u001b[0;34m\u001b[0m\u001b[0m\n\u001b[0;32m---> 78\u001b[0;31m               \u001b[0moutputs\u001b[0m \u001b[0;34m=\u001b[0m \u001b[0mmodel_robust\u001b[0m\u001b[0;34m(\u001b[0m\u001b[0mimages_el\u001b[0m\u001b[0;34m)\u001b[0m\u001b[0;34m\u001b[0m\u001b[0;34m\u001b[0m\u001b[0m\n\u001b[0m\u001b[1;32m     79\u001b[0m               \u001b[0mloss_robust\u001b[0m \u001b[0;34m=\u001b[0m \u001b[0mcriterion\u001b[0m\u001b[0;34m(\u001b[0m\u001b[0moutputs\u001b[0m\u001b[0;34m,\u001b[0m \u001b[0mlabels\u001b[0m\u001b[0;34m)\u001b[0m \u001b[0;34m+\u001b[0m \u001b[0;34m(\u001b[0m\u001b[0ml1_regularization\u001b[0m\u001b[0;34m/\u001b[0m\u001b[0mlen\u001b[0m\u001b[0;34m(\u001b[0m\u001b[0mimages_el\u001b[0m\u001b[0;34m)\u001b[0m\u001b[0;34m)\u001b[0m\u001b[0;34m\u001b[0m\u001b[0;34m\u001b[0m\u001b[0m\n\u001b[1;32m     80\u001b[0m               \u001b[0mloss_robust\u001b[0m\u001b[0;34m.\u001b[0m\u001b[0mbackward\u001b[0m\u001b[0;34m(\u001b[0m\u001b[0mretain_graph\u001b[0m\u001b[0;34m=\u001b[0m\u001b[0;32mTrue\u001b[0m\u001b[0;34m)\u001b[0m\u001b[0;34m\u001b[0m\u001b[0;34m\u001b[0m\u001b[0m\n",
      "\u001b[0;32m/usr/local/lib/python3.6/dist-packages/torch/nn/modules/module.py\u001b[0m in \u001b[0;36m__call__\u001b[0;34m(self, *input, **kwargs)\u001b[0m\n\u001b[1;32m    530\u001b[0m             \u001b[0mresult\u001b[0m \u001b[0;34m=\u001b[0m \u001b[0mself\u001b[0m\u001b[0;34m.\u001b[0m\u001b[0m_slow_forward\u001b[0m\u001b[0;34m(\u001b[0m\u001b[0;34m*\u001b[0m\u001b[0minput\u001b[0m\u001b[0;34m,\u001b[0m \u001b[0;34m**\u001b[0m\u001b[0mkwargs\u001b[0m\u001b[0;34m)\u001b[0m\u001b[0;34m\u001b[0m\u001b[0;34m\u001b[0m\u001b[0m\n\u001b[1;32m    531\u001b[0m         \u001b[0;32melse\u001b[0m\u001b[0;34m:\u001b[0m\u001b[0;34m\u001b[0m\u001b[0;34m\u001b[0m\u001b[0m\n\u001b[0;32m--> 532\u001b[0;31m             \u001b[0mresult\u001b[0m \u001b[0;34m=\u001b[0m \u001b[0mself\u001b[0m\u001b[0;34m.\u001b[0m\u001b[0mforward\u001b[0m\u001b[0;34m(\u001b[0m\u001b[0;34m*\u001b[0m\u001b[0minput\u001b[0m\u001b[0;34m,\u001b[0m \u001b[0;34m**\u001b[0m\u001b[0mkwargs\u001b[0m\u001b[0;34m)\u001b[0m\u001b[0;34m\u001b[0m\u001b[0;34m\u001b[0m\u001b[0m\n\u001b[0m\u001b[1;32m    533\u001b[0m         \u001b[0;32mfor\u001b[0m \u001b[0mhook\u001b[0m \u001b[0;32min\u001b[0m \u001b[0mself\u001b[0m\u001b[0;34m.\u001b[0m\u001b[0m_forward_hooks\u001b[0m\u001b[0;34m.\u001b[0m\u001b[0mvalues\u001b[0m\u001b[0;34m(\u001b[0m\u001b[0;34m)\u001b[0m\u001b[0;34m:\u001b[0m\u001b[0;34m\u001b[0m\u001b[0;34m\u001b[0m\u001b[0m\n\u001b[1;32m    534\u001b[0m             \u001b[0mhook_result\u001b[0m \u001b[0;34m=\u001b[0m \u001b[0mhook\u001b[0m\u001b[0;34m(\u001b[0m\u001b[0mself\u001b[0m\u001b[0;34m,\u001b[0m \u001b[0minput\u001b[0m\u001b[0;34m,\u001b[0m \u001b[0mresult\u001b[0m\u001b[0;34m)\u001b[0m\u001b[0;34m\u001b[0m\u001b[0;34m\u001b[0m\u001b[0m\n",
      "\u001b[0;32m<ipython-input-18-3da0d6212282>\u001b[0m in \u001b[0;36mforward\u001b[0;34m(self, x)\u001b[0m\n\u001b[1;32m     33\u001b[0m         \u001b[0mx\u001b[0m \u001b[0;34m=\u001b[0m \u001b[0mself\u001b[0m\u001b[0;34m.\u001b[0m\u001b[0mactiv1\u001b[0m\u001b[0;34m(\u001b[0m\u001b[0mself\u001b[0m\u001b[0;34m.\u001b[0m\u001b[0mconv4\u001b[0m\u001b[0;34m(\u001b[0m\u001b[0mx\u001b[0m\u001b[0;34m)\u001b[0m\u001b[0;34m)\u001b[0m\u001b[0;34m\u001b[0m\u001b[0;34m\u001b[0m\u001b[0m\n\u001b[1;32m     34\u001b[0m         \u001b[0mx\u001b[0m \u001b[0;34m=\u001b[0m \u001b[0mself\u001b[0m\u001b[0;34m.\u001b[0m\u001b[0mpool\u001b[0m\u001b[0;34m(\u001b[0m\u001b[0mx\u001b[0m\u001b[0;34m)\u001b[0m\u001b[0;34m\u001b[0m\u001b[0;34m\u001b[0m\u001b[0m\n\u001b[0;32m---> 35\u001b[0;31m         \u001b[0mx\u001b[0m \u001b[0;34m=\u001b[0m \u001b[0mself\u001b[0m\u001b[0;34m.\u001b[0m\u001b[0mactiv1\u001b[0m\u001b[0;34m(\u001b[0m\u001b[0mself\u001b[0m\u001b[0;34m.\u001b[0m\u001b[0mconv5\u001b[0m\u001b[0;34m(\u001b[0m\u001b[0mx\u001b[0m\u001b[0;34m)\u001b[0m\u001b[0;34m)\u001b[0m\u001b[0;34m\u001b[0m\u001b[0;34m\u001b[0m\u001b[0m\n\u001b[0m\u001b[1;32m     36\u001b[0m         \u001b[0mx\u001b[0m \u001b[0;34m=\u001b[0m \u001b[0mself\u001b[0m\u001b[0;34m.\u001b[0m\u001b[0mdrop\u001b[0m\u001b[0;34m(\u001b[0m\u001b[0mx\u001b[0m\u001b[0;34m)\u001b[0m\u001b[0;34m\u001b[0m\u001b[0;34m\u001b[0m\u001b[0m\n\u001b[1;32m     37\u001b[0m \u001b[0;34m\u001b[0m\u001b[0m\n",
      "\u001b[0;32m/usr/local/lib/python3.6/dist-packages/torch/nn/modules/module.py\u001b[0m in \u001b[0;36m__call__\u001b[0;34m(self, *input, **kwargs)\u001b[0m\n\u001b[1;32m    530\u001b[0m             \u001b[0mresult\u001b[0m \u001b[0;34m=\u001b[0m \u001b[0mself\u001b[0m\u001b[0;34m.\u001b[0m\u001b[0m_slow_forward\u001b[0m\u001b[0;34m(\u001b[0m\u001b[0;34m*\u001b[0m\u001b[0minput\u001b[0m\u001b[0;34m,\u001b[0m \u001b[0;34m**\u001b[0m\u001b[0mkwargs\u001b[0m\u001b[0;34m)\u001b[0m\u001b[0;34m\u001b[0m\u001b[0;34m\u001b[0m\u001b[0m\n\u001b[1;32m    531\u001b[0m         \u001b[0;32melse\u001b[0m\u001b[0;34m:\u001b[0m\u001b[0;34m\u001b[0m\u001b[0;34m\u001b[0m\u001b[0m\n\u001b[0;32m--> 532\u001b[0;31m             \u001b[0mresult\u001b[0m \u001b[0;34m=\u001b[0m \u001b[0mself\u001b[0m\u001b[0;34m.\u001b[0m\u001b[0mforward\u001b[0m\u001b[0;34m(\u001b[0m\u001b[0;34m*\u001b[0m\u001b[0minput\u001b[0m\u001b[0;34m,\u001b[0m \u001b[0;34m**\u001b[0m\u001b[0mkwargs\u001b[0m\u001b[0;34m)\u001b[0m\u001b[0;34m\u001b[0m\u001b[0;34m\u001b[0m\u001b[0m\n\u001b[0m\u001b[1;32m    533\u001b[0m         \u001b[0;32mfor\u001b[0m \u001b[0mhook\u001b[0m \u001b[0;32min\u001b[0m \u001b[0mself\u001b[0m\u001b[0;34m.\u001b[0m\u001b[0m_forward_hooks\u001b[0m\u001b[0;34m.\u001b[0m\u001b[0mvalues\u001b[0m\u001b[0;34m(\u001b[0m\u001b[0;34m)\u001b[0m\u001b[0;34m:\u001b[0m\u001b[0;34m\u001b[0m\u001b[0;34m\u001b[0m\u001b[0m\n\u001b[1;32m    534\u001b[0m             \u001b[0mhook_result\u001b[0m \u001b[0;34m=\u001b[0m \u001b[0mhook\u001b[0m\u001b[0;34m(\u001b[0m\u001b[0mself\u001b[0m\u001b[0;34m,\u001b[0m \u001b[0minput\u001b[0m\u001b[0;34m,\u001b[0m \u001b[0mresult\u001b[0m\u001b[0;34m)\u001b[0m\u001b[0;34m\u001b[0m\u001b[0;34m\u001b[0m\u001b[0m\n",
      "\u001b[0;32m/usr/local/lib/python3.6/dist-packages/torch/nn/modules/activation.py\u001b[0m in \u001b[0;36mforward\u001b[0;34m(self, input)\u001b[0m\n\u001b[1;32m     92\u001b[0m \u001b[0;34m\u001b[0m\u001b[0m\n\u001b[1;32m     93\u001b[0m     \u001b[0;32mdef\u001b[0m \u001b[0mforward\u001b[0m\u001b[0;34m(\u001b[0m\u001b[0mself\u001b[0m\u001b[0;34m,\u001b[0m \u001b[0minput\u001b[0m\u001b[0;34m)\u001b[0m\u001b[0;34m:\u001b[0m\u001b[0;34m\u001b[0m\u001b[0;34m\u001b[0m\u001b[0m\n\u001b[0;32m---> 94\u001b[0;31m         \u001b[0;32mreturn\u001b[0m \u001b[0mF\u001b[0m\u001b[0;34m.\u001b[0m\u001b[0mrelu\u001b[0m\u001b[0;34m(\u001b[0m\u001b[0minput\u001b[0m\u001b[0;34m,\u001b[0m \u001b[0minplace\u001b[0m\u001b[0;34m=\u001b[0m\u001b[0mself\u001b[0m\u001b[0;34m.\u001b[0m\u001b[0minplace\u001b[0m\u001b[0;34m)\u001b[0m\u001b[0;34m\u001b[0m\u001b[0;34m\u001b[0m\u001b[0m\n\u001b[0m\u001b[1;32m     95\u001b[0m \u001b[0;34m\u001b[0m\u001b[0m\n\u001b[1;32m     96\u001b[0m     \u001b[0;32mdef\u001b[0m \u001b[0mextra_repr\u001b[0m\u001b[0;34m(\u001b[0m\u001b[0mself\u001b[0m\u001b[0;34m)\u001b[0m\u001b[0;34m:\u001b[0m\u001b[0;34m\u001b[0m\u001b[0;34m\u001b[0m\u001b[0m\n",
      "\u001b[0;32m/usr/local/lib/python3.6/dist-packages/torch/nn/functional.py\u001b[0m in \u001b[0;36mrelu\u001b[0;34m(input, inplace)\u001b[0m\n\u001b[1;32m    912\u001b[0m         \u001b[0mresult\u001b[0m \u001b[0;34m=\u001b[0m \u001b[0mtorch\u001b[0m\u001b[0;34m.\u001b[0m\u001b[0mrelu_\u001b[0m\u001b[0;34m(\u001b[0m\u001b[0minput\u001b[0m\u001b[0;34m)\u001b[0m\u001b[0;34m\u001b[0m\u001b[0;34m\u001b[0m\u001b[0m\n\u001b[1;32m    913\u001b[0m     \u001b[0;32melse\u001b[0m\u001b[0;34m:\u001b[0m\u001b[0;34m\u001b[0m\u001b[0;34m\u001b[0m\u001b[0m\n\u001b[0;32m--> 914\u001b[0;31m         \u001b[0mresult\u001b[0m \u001b[0;34m=\u001b[0m \u001b[0mtorch\u001b[0m\u001b[0;34m.\u001b[0m\u001b[0mrelu\u001b[0m\u001b[0;34m(\u001b[0m\u001b[0minput\u001b[0m\u001b[0;34m)\u001b[0m\u001b[0;34m\u001b[0m\u001b[0;34m\u001b[0m\u001b[0m\n\u001b[0m\u001b[1;32m    915\u001b[0m     \u001b[0;32mreturn\u001b[0m \u001b[0mresult\u001b[0m\u001b[0;34m\u001b[0m\u001b[0;34m\u001b[0m\u001b[0m\n\u001b[1;32m    916\u001b[0m \u001b[0;34m\u001b[0m\u001b[0m\n",
      "\u001b[0;31mKeyboardInterrupt\u001b[0m: "
     ]
    }
   ],
   "source": [
    "running_loss1, running_loss_robust, running_val_loss1, running_training_accuracy1, running_val_accuracy1 = train_robust(number_of_epochs=50)"
   ]
  },
  {
   "cell_type": "code",
   "execution_count": 0,
   "metadata": {
    "colab": {},
    "colab_type": "code",
    "id": "iKkBJlHbRWQo"
   },
   "outputs": [],
   "source": [
    "# For saving neural network parameters\n",
    "#torch.save(model_robust.state_dict(), \n",
    "#           \"robust_model\")  # <----- make sure to update the path if saving new model"
   ]
  },
  {
   "cell_type": "markdown",
   "metadata": {
    "colab_type": "text",
    "id": "alIEFIqokeYp"
   },
   "source": [
    "When we previously ran the tests with the original model we got the following results:\n",
    "\n",
    "**Epsilon = 0.01**\n",
    "\n",
    "Before fgsm - Model prediction: 5 - dog with 96.85% Confidence\n",
    "\n",
    "After fgsm - Model prediction: 3 - cat with 82.94% Confidence"
   ]
  },
  {
   "cell_type": "code",
   "execution_count": 43,
   "metadata": {
    "colab": {
     "base_uri": "https://localhost:8080/",
     "height": 748
    },
    "colab_type": "code",
    "id": "DYPP0N0cwR4G",
    "outputId": "10406041-4a80-49dc-d1db-128f7749c924"
   },
   "outputs": [
    {
     "name": "stderr",
     "output_type": "stream",
     "text": [
      "Clipping input data to the valid range for imshow with RGB data ([0..1] for floats or [0..255] for integers).\n"
     ]
    },
    {
     "name": "stdout",
     "output_type": "stream",
     "text": [
      "True label is: 5 - dog\n",
      "    \n",
      "Before fgsm - Model prediction: 5 - dog with 98.45% Confidence\n",
      "    \n",
      "After fgsm - Model prediction: 5 - dog with 96.88% Confidence\n",
      "    \n"
     ]
    },
    {
     "data": {
      "image/png": "[encoded data removed]",
      "text/plain": [
       "<Figure size 2304x2304 with 3 Axes>"
      ]
     },
     "metadata": {
      "tags": []
     },
     "output_type": "display_data"
    }
   ],
   "source": [
    "test_single_prediction(epsilon=0.01, model=model_robust, sample_image_index=1001)"
   ]
  },
  {
   "cell_type": "markdown",
   "metadata": {
    "colab_type": "text",
    "id": "YAqk6RfOnut2"
   },
   "source": [
    "**Original model**\n",
    "\n",
    "**Epsilon = 0.1**\n",
    "\n",
    "Before fgsm - Model prediction: 5 - dog with 96.85% Confidence\n",
    "    \n",
    "After fgsm - Model prediction: 3 - cat with 100.00% Confidence"
   ]
  },
  {
   "cell_type": "code",
   "execution_count": 44,
   "metadata": {
    "colab": {
     "base_uri": "https://localhost:8080/",
     "height": 748
    },
    "colab_type": "code",
    "id": "B1QuDwiswVnN",
    "outputId": "a8d1db7e-38f3-4483-fd70-70b915e228c0"
   },
   "outputs": [
    {
     "name": "stderr",
     "output_type": "stream",
     "text": [
      "Clipping input data to the valid range for imshow with RGB data ([0..1] for floats or [0..255] for integers).\n"
     ]
    },
    {
     "name": "stdout",
     "output_type": "stream",
     "text": [
      "True label is: 5 - dog\n",
      "    \n",
      "Before fgsm - Model prediction: 5 - dog with 98.45% Confidence\n",
      "    \n",
      "After fgsm - Model prediction: 5 - dog with 40.90% Confidence\n",
      "    \n"
     ]
    },
    {
     "data": {
      "image/png": "[encoded data removed]",
      "text/plain": [
       "<Figure size 2304x2304 with 3 Axes>"
      ]
     },
     "metadata": {
      "tags": []
     },
     "output_type": "display_data"
    }
   ],
   "source": [
    "test_single_prediction(epsilon=0.1, model=model_robust, sample_image_index=1001)"
   ]
  },
  {
   "cell_type": "markdown",
   "metadata": {
    "colab_type": "text",
    "id": "LR4bD9lBlD-_"
   },
   "source": [
    "So our robust model works much better for the small epsilon value 0.01 that we have been using to attack our model. However, for epsilon = 0.1, which we did not have in our model, it only does slightly better.\n",
    "\n",
    "Now we will try on the entire testing set."
   ]
  },
  {
   "cell_type": "code",
   "execution_count": 26,
   "metadata": {
    "colab": {
     "base_uri": "https://localhost:8080/",
     "height": 374
    },
    "colab_type": "code",
    "id": "4x6hOVJaRWQt",
    "outputId": "920a9058-e690-4f06-e15a-2185ce2a6b20"
   },
   "outputs": [
    {
     "name": "stdout",
     "output_type": "stream",
     "text": [
      "Epsilon: 0.000\tTest Accuracy = 8361 / 10000 = 0.8361\n",
      "Epsilon: 0.004\tTest Accuracy = 8132 / 10000 = 0.8132\n",
      "Epsilon: 0.008\tTest Accuracy = 7904 / 10000 = 0.7904\n",
      "Epsilon: 0.012\tTest Accuracy = 7667 / 10000 = 0.7667\n",
      "Epsilon: 0.016\tTest Accuracy = 7460 / 10000 = 0.746\n",
      "Epsilon: 0.020\tTest Accuracy = 7221 / 10000 = 0.7221\n",
      "Epsilon: 0.024\tTest Accuracy = 6975 / 10000 = 0.6975\n",
      "Epsilon: 0.027\tTest Accuracy = 6762 / 10000 = 0.6762\n",
      "Epsilon: 0.031\tTest Accuracy = 6536 / 10000 = 0.6536\n",
      "Epsilon: 0.035\tTest Accuracy = 6296 / 10000 = 0.6296\n",
      "Epsilon: 0.039\tTest Accuracy = 6070 / 10000 = 0.607\n",
      "Epsilon: 0.043\tTest Accuracy = 5880 / 10000 = 0.588\n",
      "Epsilon: 0.047\tTest Accuracy = 5664 / 10000 = 0.5664\n",
      "Epsilon: 0.051\tTest Accuracy = 5454 / 10000 = 0.5454\n",
      "Epsilon: 0.055\tTest Accuracy = 5261 / 10000 = 0.5261\n",
      "Epsilon: 0.059\tTest Accuracy = 5059 / 10000 = 0.5059\n",
      "Epsilon: 0.063\tTest Accuracy = 4864 / 10000 = 0.4864\n",
      "Epsilon: 0.067\tTest Accuracy = 4677 / 10000 = 0.4677\n",
      "Epsilon: 0.071\tTest Accuracy = 4512 / 10000 = 0.4512\n",
      "Epsilon: 0.075\tTest Accuracy = 4344 / 10000 = 0.4344\n",
      "Epsilon: 0.078\tTest Accuracy = 4174 / 10000 = 0.4174\n"
     ]
    }
   ],
   "source": [
    "accuracies_robust = []\n",
    "examples_robust = []\n",
    "\n",
    "# Run test for each epsilon\n",
    "for eps in epsilon:\n",
    "    acc_robust, ex_robust = test_fgsm(model_robust, device, test_loader1, eps)\n",
    "    accuracies_robust.append(acc_robust)\n",
    "    examples_robust.append(ex_robust)"
   ]
  },
  {
   "cell_type": "markdown",
   "metadata": {
    "colab_type": "text",
    "id": "zeiwMiVceOgL"
   },
   "source": [
    "The test results reflect that our robust model works relatively well against various scales of FGSM attacks compared to our original model:\n",
    "\n",
    "| Epsilon          | 0.000 | 0.004 | 0.008 | 0.012 | 0.016 | 0.020 | 0.024 | 0.027 | 0.031 | 0.035 | 0.039 | 0.043 | 0.047 | 0.051 | 0.055 | 0.059 | 0.063 | 0.067 | 0.071 | 0.075 | 0.078 |\n",
    "|------------------|-------|-------|-------|-------|-------|-------|-------|-------|-------|-------|-------|-------|-------|-------|-------|-------|-------|-------|-------|-------|-------|\n",
    "| Test Accuracy(%) (O) | 88.20 | 81.10 | 73.83 | 66.03 | 58.97 | 52.61 | 48.42 | 44.89 | 42.50 | 40.79 | 39.33 | 38.07 | 36.93 | 35.87 | 34.82 | 33.94 | 33.05 | 32.24 | 31.43 | 30.70 | 30.08 |\n",
    "| Test Accuracy(%) (R) | 83.61 | 81.32 | 79.04 | 76.67 | 74.60 | 72.21 | 69.75 | 67.62 | 65.36 | 62.96 | 60.70 | 58.80 | 56.64 | 54.54 | 52.61 | 50.59 | 48.64 | 46.77 | 45.12 | 43.44 | 41.74 |"
   ]
  },
  {
   "cell_type": "code",
   "execution_count": 28,
   "metadata": {
    "colab": {
     "base_uri": "https://localhost:8080/",
     "height": 350
    },
    "colab_type": "code",
    "id": "qGHrQBNuLrlu",
    "outputId": "490de5a3-64d0-4a3b-a539-43efae8e6ccb",
    "scrolled": true
   },
   "outputs": [
    {
     "data": {
      "image/png": "[encoded data removed]",
      "text/plain": [
       "<Figure size 720x360 with 1 Axes>"
      ]
     },
     "metadata": {
      "tags": []
     },
     "output_type": "display_data"
    }
   ],
   "source": [
    "# visualization of epsilon vs test accuracy\n",
    "plt.figure(figsize=(10, 5))\n",
    "plt.plot(epsilon, np.array(accuracies)*100, \"*-\", label=\"Original Model\")\n",
    "plt.plot(epsilon, np.array(accuracies_robust)*100, \"*-\", label=\"Robust Model\")\n",
    "plt.yticks([20,30,40,50,60,70,80,90,100])\n",
    "plt.title(\"Accuracy vs Epsilon\")\n",
    "plt.xlabel(\"Epsilon\")\n",
    "plt.ylabel(\"Accuracy (%)\")\n",
    "plt.legend()\n",
    "plt.show()"
   ]
  },
  {
   "cell_type": "markdown",
   "metadata": {
    "colab_type": "text",
    "id": "ceNJCS9DeOgQ"
   },
   "source": [
    "#### Summary of the Attack and Defence results"
   ]
  },
  {
   "cell_type": "markdown",
   "metadata": {
    "colab_type": "text",
    "id": "7Vn6OfIxeOgR"
   },
   "source": [
    "Although our robust model is effective with the epsilon values we have specified, it is still quite limited. The test accuracy is relatively low compared to our final model without any attacks being conducted and the FGSM attack will still break the model with higher epsilon values. \n",
    "\n",
    "The robust model takes significantly longer to train, as for each batch the model outputs and gradients are calculated twice since there is an additional batch of perturbed images.\n",
    "\n",
    "This type of adversarial training on its own is not sufficient, as it is impossible to anticipate every type of attack that could be performed on the images. This method can be seen as a complementary enhancement to other types of defences. "
   ]
  },
  {
   "cell_type": "markdown",
   "metadata": {
    "colab_type": "text",
    "id": "5yXZOvkgHSQR"
   },
   "source": [
    "# Conclusion"
   ]
  },
  {
   "cell_type": "markdown",
   "metadata": {
    "colab_type": "text",
    "id": "2x9joslAHVTr"
   },
   "source": [
    "We developed a neural network with 5 convolutional layers and 1 fully connected layer and achieved a maximum test accuracy of 88.20% on CIFAR-10. Using strategies such as pre-training data augmentation (normalisation, cropping and flipping) as well as regularisation techniques included (max pooling and dropout). This model fared well when we attempted to classify other datasets including MNIST (98.87% test accuracy), CIFAR-100 (56.13% test accuracy) and Fashion MNIST (92.00% test accuracy).\n",
    "\n",
    " We then implemented an adversarial attack, fast gradient sign method (FGSM), which then showed our neural network model was vulnerable to adversarial attacks even with only small epsilon values. For instance, epsilon values as small as 0.008 were able to reduce the accuracy of our model by around 14%. However, we further developed our neural network model by defending against such attacks by incorporating adversarial attacks into the training of our model.\n",
    "\n",
    "We did this by creating perturbed images corresponding to each batch of training images in every epoch. We then trained our model with these perturbed images along with the original images to make it more robust. This improved the generalisation of the model. An epsilon value of 0.008 caused a 4% decrease in accuracy in comparison to 14% in the original model. Meanwhile the largest tested epsilon value of 0.078 resulted in a 42% decrease which is better than the 58% decrease in accuracy in the original model. We highlighted the accuracy differences between our original model and the robust model. Although the initial accuracy in the robust model was slightly lower than the original model, the robust model proved to better at classifying perturbed images. Given more time, we further aim to improve the model by exploring different network architecture structures to increase the accuracy and defend against more powerful attacks. "
   ]
  },
  {
   "cell_type": "markdown",
   "metadata": {
    "colab_type": "text",
    "id": "j5TZ4ArSXcKB"
   },
   "source": [
    "# References"
   ]
  },
  {
   "cell_type": "markdown",
   "metadata": {
    "colab_type": "text",
    "id": "x7uQ-hjdXfBO"
   },
   "source": [
    "Pytorch website: https://pytorch.org/tutorials/beginner/fgsm_tutorial.html\n",
    "<br>\n",
    "<br>\n",
    "pytorch-summary package by sksq96: https://github.com/sksq96/pytorch-summary\n",
    "<br>\n",
    "<br>\n",
    "Benjamin Graham, Spatially-sparse convolutional neural networks, September 2014,arXiv:1409.6070v1 [cs.CV], URL: https://arxiv.org/pdf/1409.6070.pdf\n",
    "<br>\n",
    "<br>\n",
    "Vincent Dumoulin and Francesco Visin, A guide to convolution arithmetic for deep\n",
    "learning, March 24 2016,\n",
    "arXiv:1603.07285v1 [stat.ML], URL:https://arxiv.org/pdf/1603.07285v1.pdf\n",
    "<br>\n",
    "<br>\n",
    "Mark D. McDonnell and Tony Vladusich, Enhanced Image Classification With a Fast-Learning Shallow Convolutional Neural Network, Computer Science, Neural and Evolutionary Computing, Cornell University, March 16 2015, arXiv:1503.04596 [cs.NE], URL:https://arxiv.org/abs/1503.04596\n",
    "<br>\n",
    "<br>\n",
    "Derek Wang, Chaoran Li, Sheng Wen, Surya Nepal, and Yang Xiang, Defending against Adversarial Attack towards\n",
    "Deep Neural Networks via Collaborative Multi-task Training, December 5 2018, arXiv:1803.05123 [cs.LG], URL:https://arxiv.org/abs/1803.05123v3\n",
    "<br>\n",
    "<br>\n",
    "Yi Wang, Zhen-Peng Bian, Junhui Hou, and Lap-Pui Chau, Convolutional Neural Networks with Dynamic Regularization, September 26 2019, arXiv:1909.11862 [cs.CV], URL:https://arxiv.org/abs/1909.11862\n"
   ]
  }
 ],
 "metadata": {
  "accelerator": "GPU",
  "colab": {
   "collapsed_sections": [
    "-YXZxf_84i7e"
   ],
   "machine_shape": "hm",
   "name": "Midterm Project (Version 5).ipynb",
   "provenance": []
  },
  "kernelspec": {
   "display_name": "Python 3",
   "language": "python",
   "name": "python3"
  },
  "language_info": {
   "codemirror_mode": {
    "name": "ipython",
    "version": 3
   },
   "file_extension": ".py",
   "mimetype": "text/x-python",
   "name": "python",
   "nbconvert_exporter": "python",
   "pygments_lexer": "ipython3",
   "version": "3.7.3"
  },
  "latex_envs": {
   "LaTeX_envs_menu_present": true,
   "autoclose": false,
   "autocomplete": true,
   "bibliofile": "biblio.bib",
   "cite_by": "apalike",
   "current_citInitial": 1,
   "eqLabelWithNumbers": true,
   "eqNumInitial": 1,
   "hotkeys": {
    "equation": "Ctrl-E",
    "itemize": "Ctrl-I"
   },
   "labels_anchors": false,
   "latex_user_defs": false,
   "report_style_numbering": false,
   "user_envs_cfg": false
  },
  "toc": {
   "base_numbering": 1,
   "nav_menu": {},
   "number_sections": true,
   "sideBar": true,
   "skip_h1_title": false,
   "title_cell": "Table of Contents",
   "title_sidebar": "Contents",
   "toc_cell": false,
   "toc_position": {},
   "toc_section_display": true,
   "toc_window_display": false
  },
  "varInspector": {
   "cols": {
    "lenName": 16,
    "lenType": 16,
    "lenVar": 40
   },
   "kernels_config": {
    "python": {
     "delete_cmd_postfix": "",
     "delete_cmd_prefix": "del ",
     "library": "var_list.py",
     "varRefreshCmd": "print(var_dic_list())"
    },
    "r": {
     "delete_cmd_postfix": ") ",
     "delete_cmd_prefix": "rm(",
     "library": "var_list.r",
     "varRefreshCmd": "cat(var_dic_list()) "
    }
   },
   "position": {
    "height": "405px",
    "left": "1447.22px",
    "right": "20px",
    "top": "150px",
    "width": "518px"
   },
   "types_to_exclude": [
    "module",
    "function",
    "builtin_function_or_method",
    "instance",
    "_Feature"
   ],
   "window_display": false
  }
 },
 "nbformat": 4,
 "nbformat_minor": 1
}

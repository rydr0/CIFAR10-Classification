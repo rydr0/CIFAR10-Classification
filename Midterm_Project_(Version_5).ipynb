{
  "nbformat": 4,
  "nbformat_minor": 0,
  "metadata": {
    "accelerator": "GPU",
    "colab": {
      "name": "Midterm_Project_(Version_5).ipynb",
      "provenance": [],
      "collapsed_sections": [
        "-YXZxf_84i7e"
      ],
      "machine_shape": "hm"
    },
    "kernelspec": {
      "display_name": "Python 3",
      "language": "python",
      "name": "python3"
    },
    "language_info": {
      "codemirror_mode": {
        "name": "ipython",
        "version": 3
      },
      "file_extension": ".py",
      "mimetype": "text/x-python",
      "name": "python",
      "nbconvert_exporter": "python",
      "pygments_lexer": "ipython3",
      "version": "3.7.3"
    },
    "toc": {
      "base_numbering": 1,
      "nav_menu": {},
      "number_sections": true,
      "sideBar": true,
      "skip_h1_title": false,
      "title_cell": "Table of Contents",
      "title_sidebar": "Contents",
      "toc_cell": false,
      "toc_position": {},
      "toc_section_display": true,
      "toc_window_display": true
    },
    "varInspector": {
      "cols": {
        "lenName": 16,
        "lenType": 16,
        "lenVar": 40
      },
      "kernels_config": {
        "python": {
          "delete_cmd_postfix": "",
          "delete_cmd_prefix": "del ",
          "library": "var_list.py",
          "varRefreshCmd": "print(var_dic_list())"
        },
        "r": {
          "delete_cmd_postfix": ") ",
          "delete_cmd_prefix": "rm(",
          "library": "var_list.r",
          "varRefreshCmd": "cat(var_dic_list()) "
        }
      },
      "position": {
        "height": "405px",
        "left": "1447.22px",
        "right": "20px",
        "top": "150px",
        "width": "518px"
      },
      "types_to_exclude": [
        "module",
        "function",
        "builtin_function_or_method",
        "instance",
        "_Feature"
      ],
      "window_display": false
    }
  },
  "cells": [
    {
      "cell_type": "markdown",
      "metadata": {
        "colab_type": "text",
        "id": "6GSWhnNW4i4t"
      },
      "source": [
        "# Classification of CIFAR 10 Image Dataset"
      ]
    },
    {
      "cell_type": "markdown",
      "metadata": {
        "colab_type": "text",
        "id": "ldaJLTi34i4w"
      },
      "source": [
        "### Starting lines and necessary imports"
      ]
    },
    {
      "cell_type": "code",
      "metadata": {
        "ExecuteTime": {
          "end_time": "2020-03-05T21:39:30.844285Z",
          "start_time": "2020-03-05T21:39:26.714772Z"
        },
        "colab_type": "code",
        "id": "Dsz_EbPK4i4z",
        "colab": {}
      },
      "source": [
        "from torchsummary import summary\n",
        "from torchvision import datasets, transforms\n",
        "import torchvision.transforms as transforms\n",
        "import torchvision\n",
        "from torch.autograd import Variable\n",
        "import torch.optim as optim\n",
        "import torch.nn as nn\n",
        "import torch\n",
        "import matplotlib.pyplot as plt\n",
        "import numpy as np\n",
        "%matplotlib inline\n",
        "\n",
        "\n",
        "%load_ext autoreload\n",
        "%autoreload 2"
      ],
      "execution_count": 0,
      "outputs": []
    },
    {
      "cell_type": "markdown",
      "metadata": {
        "colab_type": "text",
        "id": "0XIo3lSNpwev"
      },
      "source": [
        "Run the two cells below if using Google Colab (you need to have a folder called AdvMachineLearningProject with the files in it)"
      ]
    },
    {
      "cell_type": "code",
      "metadata": {
        "colab_type": "code",
        "id": "5Tzf-Hgb4pFr",
        "outputId": "1adc9d48-347c-499e-dfb5-c5fd6af1d9b9",
        "scrolled": true,
        "colab": {
          "base_uri": "https://localhost:8080/",
          "height": 122
        }
      },
      "source": [
        "from google.colab import drive\n",
        "drive.mount('/drive')"
      ],
      "execution_count": 2,
      "outputs": [
        {
          "output_type": "stream",
          "text": [
            "Go to this URL in a browser: https://accounts.google.com/o/oauth2/auth?client_id=947318989803-6bn6qk8qdgf4n4g3pfee6491hc0brc4i.apps.googleusercontent.com&redirect_uri=urn%3aietf%3awg%3aoauth%3a2.0%3aoob&response_type=code&scope=email%20https%3a%2f%2fwww.googleapis.com%2fauth%2fdocs.test%20https%3a%2f%2fwww.googleapis.com%2fauth%2fdrive%20https%3a%2f%2fwww.googleapis.com%2fauth%2fdrive.photos.readonly%20https%3a%2f%2fwww.googleapis.com%2fauth%2fpeopleapi.readonly\n",
            "\n",
            "Enter your authorization code:\n",
            "··········\n",
            "Mounted at /drive\n"
          ],
          "name": "stdout"
        }
      ]
    },
    {
      "cell_type": "code",
      "metadata": {
        "colab_type": "code",
        "id": "pPpRZwiy43Ev",
        "outputId": "73bbede4-41d2-4905-fd1d-e4b110d0f15e",
        "colab": {
          "base_uri": "https://localhost:8080/",
          "height": 34
        }
      },
      "source": [
        "cd /drive/My\\ Drive/AdvMachineLearningProject"
      ],
      "execution_count": 3,
      "outputs": [
        {
          "output_type": "stream",
          "text": [
            "/drive/My Drive/AdvMachineLearningProject\n"
          ],
          "name": "stdout"
        }
      ]
    },
    {
      "cell_type": "markdown",
      "metadata": {
        "colab_type": "text",
        "id": "TSTN90EK4i48"
      },
      "source": [
        "## Load CIFAR 10 Data using torchvision"
      ]
    },
    {
      "cell_type": "markdown",
      "metadata": {
        "colab_type": "text",
        "id": "-XZSdQej4i5T"
      },
      "source": [
        "### Data Pre-processing (Mean, Standard Deviation and Transforms)"
      ]
    },
    {
      "cell_type": "code",
      "metadata": {
        "ExecuteTime": {
          "start_time": "2020-03-05T21:39:33.991Z"
        },
        "colab_type": "code",
        "id": "ea3SByUy4i5V",
        "outputId": "a3955572-70bd-424c-f3fb-000f4464bcb0",
        "colab": {
          "base_uri": "https://localhost:8080/",
          "height": 51
        }
      },
      "source": [
        "# Data Sets without any processing\n",
        "train_dataset_raw = datasets.CIFAR10('CIFAR10',\n",
        "                                     train=True,\n",
        "                                     download=True,\n",
        "                                     transform=transforms.ToTensor())\n",
        "test_dataset_raw = datasets.CIFAR10('CIFAR10',\n",
        "                                    train=False,\n",
        "                                    download=True,\n",
        "                                    transform=transforms.ToTensor())"
      ],
      "execution_count": 4,
      "outputs": [
        {
          "output_type": "stream",
          "text": [
            "Files already downloaded and verified\n",
            "Files already downloaded and verified\n"
          ],
          "name": "stdout"
        }
      ]
    },
    {
      "cell_type": "code",
      "metadata": {
        "ExecuteTime": {
          "end_time": "2020-03-05T19:35:53.974302Z",
          "start_time": "2020-03-05T19:35:53.906115Z"
        },
        "colab_type": "code",
        "id": "n6Er1EsL4i5g",
        "colab": {}
      },
      "source": [
        "def calculate_mean(loader):\n",
        "    images, labels = iter(loader).next()\n",
        "    mean = images.sum(dim=(0, 2, 3), keepdim=True)\n",
        "    mean = mean/images.shape[0]/images.size(2)/images.size(3)\n",
        "    return mean"
      ],
      "execution_count": 0,
      "outputs": []
    },
    {
      "cell_type": "code",
      "metadata": {
        "ExecuteTime": {
          "end_time": "2020-03-05T19:35:54.407530Z",
          "start_time": "2020-03-05T19:35:54.336521Z"
        },
        "colab_type": "code",
        "id": "ovR2qSlB4i5o",
        "colab": {}
      },
      "source": [
        "def calculate_std(loader, mean):\n",
        "    images, labels = iter(loader).next()\n",
        "    std = (images - mean).pow(2).sum(dim=(0, 2, 3), keepdim=True)\n",
        "    std = torch.sqrt(std/(images.shape[0]*images.size(2)*images.size(3)-1))\n",
        "    return std"
      ],
      "execution_count": 0,
      "outputs": []
    },
    {
      "cell_type": "code",
      "metadata": {
        "ExecuteTime": {
          "end_time": "2020-03-05T19:35:54.827772Z",
          "start_time": "2020-03-05T19:35:54.754100Z"
        },
        "colab_type": "code",
        "id": "NrrltaFq4i5x",
        "colab": {}
      },
      "source": [
        "def mean_and_stddev():\n",
        "    train_loader = torch.utils.data.DataLoader(train_dataset_raw,\n",
        "                                               batch_size=50000,\n",
        "                                               shuffle=True)\n",
        "    test_loader = torch.utils.data.DataLoader(test_dataset_raw,\n",
        "                                              batch_size=10000,\n",
        "                                              shuffle=True)\n",
        "\n",
        "    tr_mean = calculate_mean(train_loader)\n",
        "    tst_mean = calculate_mean(test_loader)\n",
        "    tr_std = calculate_std(train_loader, tr_mean)\n",
        "    tst_std = calculate_std(test_loader, tst_mean)\n",
        "\n",
        "    return tr_mean.view(-1), tst_mean.view(-1), tr_std.view(-1), tst_std.view(-1)"
      ],
      "execution_count": 0,
      "outputs": []
    },
    {
      "cell_type": "markdown",
      "metadata": {
        "colab_type": "text",
        "id": "1mGc5kgnpwf-"
      },
      "source": [
        "#### Mean and Standard Deviation for Training and Test Datasets"
      ]
    },
    {
      "cell_type": "code",
      "metadata": {
        "ExecuteTime": {
          "end_time": "2020-03-05T19:36:08.797647Z",
          "start_time": "2020-03-05T19:35:56.112935Z"
        },
        "colab_type": "code",
        "id": "Q91W6K8P4i56",
        "outputId": "b2405099-be36-457c-b5a6-0d2dade376f9",
        "colab": {
          "base_uri": "https://localhost:8080/",
          "height": 85
        }
      },
      "source": [
        "tr_mean, tst_mean, tr_std, tst_std = mean_and_stddev()\n",
        "print(tr_mean)\n",
        "print(tst_mean)\n",
        "print(tr_std)\n",
        "print(tst_std)"
      ],
      "execution_count": 8,
      "outputs": [
        {
          "output_type": "stream",
          "text": [
            "tensor([0.4914, 0.4822, 0.4465])\n",
            "tensor([0.4942, 0.4851, 0.4504])\n",
            "tensor([0.2470, 0.2435, 0.2616])\n",
            "tensor([0.2467, 0.2429, 0.2616])\n"
          ],
          "name": "stdout"
        }
      ]
    },
    {
      "cell_type": "markdown",
      "metadata": {
        "colab_type": "text",
        "id": "1-uPfvXLpwgK"
      },
      "source": [
        "#### Transformations"
      ]
    },
    {
      "cell_type": "code",
      "metadata": {
        "ExecuteTime": {
          "end_time": "2020-03-05T19:36:09.232530Z",
          "start_time": "2020-03-05T19:36:09.164134Z"
        },
        "colab_type": "code",
        "id": "E8GIUBZE4i6B",
        "colab": {}
      },
      "source": [
        "# Transformations on training set\n",
        "# Crop, Horizontal Flip, Tensor, Normalize (3 channels)\n",
        "transform_tr = transforms.Compose([\n",
        "    transforms.RandomCrop(32, padding=4),\n",
        "    transforms.RandomHorizontalFlip(),\n",
        "    transforms.ToTensor(),\n",
        "    transforms.Normalize(tr_mean, tr_std)\n",
        "])\n",
        "\n",
        "# Transformations on testing set\n",
        "# Tensor and Normalize (3 channels)\n",
        "transform_tst = transforms.Compose([\n",
        "    transforms.ToTensor(),\n",
        "    transforms.Normalize(tst_mean, tst_std)\n",
        "])"
      ],
      "execution_count": 0,
      "outputs": []
    },
    {
      "cell_type": "markdown",
      "metadata": {
        "colab_type": "text",
        "id": "oPHpgoQO4i6K"
      },
      "source": [
        "### Load Training and Testing Data"
      ]
    },
    {
      "cell_type": "code",
      "metadata": {
        "ExecuteTime": {
          "end_time": "2020-03-05T19:36:14.241606Z",
          "start_time": "2020-03-05T19:36:09.589837Z"
        },
        "colab_type": "code",
        "id": "V4OnwQ3d4i6N",
        "outputId": "c421daf2-3a34-4f6e-9df4-b5db8ee2b737",
        "colab": {
          "base_uri": "https://localhost:8080/",
          "height": 51
        }
      },
      "source": [
        "# Batch Size Hyperparameters\n",
        "train_batch_size = 32\n",
        "val_batch_size = 5000  # representing a 90/10 train/validation split\n",
        "test_batch_size = 5000  # smaller test batches due to memory constraints\n",
        "\n",
        "# to randomly shuffle data\n",
        "indices = np.arange(50000)\n",
        "np.random.shuffle(indices)\n",
        "\n",
        "# samplers to split into training and validation set\n",
        "tr_sampler = torch.utils.data.SubsetRandomSampler(indices[:45000])\n",
        "val_sampler = torch.utils.data.SubsetRandomSampler(indices[45000:50000])\n",
        "\n",
        "\n",
        "# CIFAR-10 training dataset and data loader\n",
        "train_dataset = datasets.CIFAR10('CIFAR10',\n",
        "                                 train=True,\n",
        "                                 download=True,\n",
        "                                 transform=transform_tr)\n",
        "\n",
        "train_loader = torch.utils.data.DataLoader(train_dataset,\n",
        "                                           batch_size=train_batch_size,\n",
        "                                           shuffle=False,\n",
        "                                           sampler=tr_sampler)\n",
        "val_loader = torch.utils.data.DataLoader(train_dataset,\n",
        "                                         batch_size=val_batch_size,\n",
        "                                         shuffle=False,\n",
        "                                         sampler=val_sampler)\n",
        "\n",
        "# CIFAR-10 test dataset and data loader\n",
        "test_dataset = datasets.CIFAR10('CIFAR10',\n",
        "                                train=False,\n",
        "                                download=True,\n",
        "                                transform=transform_tst)\n",
        "\n",
        "test_loader = torch.utils.data.DataLoader(test_dataset,\n",
        "                                          batch_size=test_batch_size,\n",
        "                                          shuffle=True)"
      ],
      "execution_count": 10,
      "outputs": [
        {
          "output_type": "stream",
          "text": [
            "Files already downloaded and verified\n",
            "Files already downloaded and verified\n"
          ],
          "name": "stdout"
        }
      ]
    },
    {
      "cell_type": "markdown",
      "metadata": {
        "colab_type": "text",
        "id": "ZLOUbI5F4i6V"
      },
      "source": [
        "#### Check batches and image/label shapes"
      ]
    },
    {
      "cell_type": "code",
      "metadata": {
        "ExecuteTime": {
          "end_time": "2020-03-05T19:36:14.687934Z",
          "start_time": "2020-03-05T19:36:14.609890Z"
        },
        "colab_type": "code",
        "id": "Q_MP-CfJ4i6X",
        "outputId": "cca364e6-27a8-4085-8f22-c42923f94b2d",
        "colab": {
          "base_uri": "https://localhost:8080/",
          "height": 102
        }
      },
      "source": [
        "# check num of batches in each training epoch (should be 45,000/train_batch_size)\n",
        "print(len(train_loader))\n",
        "# check num of batches in each training epoch (should be 5,000/val_batch_size = 1)\n",
        "print(len(val_loader))\n",
        "# check num of batches in each test epoch (should be 10,000/test_batch_size)\n",
        "print(len(test_loader))\n",
        "# check shape\n",
        "images, labels = iter(train_loader).next()\n",
        "print(images.shape)  # shape = (train_batch_size, RGB channels, H, W)\n",
        "print(labels.shape)  # shape = (train_batch_size)"
      ],
      "execution_count": 11,
      "outputs": [
        {
          "output_type": "stream",
          "text": [
            "1407\n",
            "1\n",
            "2\n",
            "torch.Size([32, 3, 32, 32])\n",
            "torch.Size([32])\n"
          ],
          "name": "stdout"
        }
      ]
    },
    {
      "cell_type": "markdown",
      "metadata": {
        "colab_type": "text",
        "id": "av6sQUP64i6e"
      },
      "source": [
        "#### Function to show individual image and associated label"
      ]
    },
    {
      "cell_type": "code",
      "metadata": {
        "ExecuteTime": {
          "end_time": "2020-03-05T19:36:15.163373Z",
          "start_time": "2020-03-05T19:36:15.087372Z"
        },
        "colab_type": "code",
        "id": "Ol_bWLxo4i6j",
        "colab": {}
      },
      "source": [
        "def show_images():\n",
        "    train_loader = torch.utils.data.DataLoader(train_dataset_raw,\n",
        "                                               batch_size=1,\n",
        "                                               shuffle=True)\n",
        "\n",
        "    fig = plt.figure(figsize=(32, 32))\n",
        "    columns = 5\n",
        "    rows = 4\n",
        "\n",
        "    ax = []\n",
        "    plt.rcParams.update({'font.size': 22})\n",
        "    for i in range(1, columns * rows + 1):\n",
        "        image, label = iter(train_loader).next()\n",
        "        ax.append(fig.add_subplot(rows, columns, i))\n",
        "        ax[-1].set_title(\n",
        "            str(label.item()) + \" - \" +\n",
        "            str(train_loader.dataset.classes[label]))\n",
        "        plt.imshow(np.transpose(image[0], (1, 2, 0)))\n",
        "    plt.show()\n",
        "    plt.rcParams.update({'font.size': 12})"
      ],
      "execution_count": 0,
      "outputs": []
    },
    {
      "cell_type": "code",
      "metadata": {
        "ExecuteTime": {
          "end_time": "2020-03-05T19:36:17.367498Z",
          "start_time": "2020-03-05T19:36:15.556531Z"
        },
        "colab_type": "code",
        "id": "E-Sk3EfB4i6r",
        "outputId": "0babdbec-b8e1-4fd4-bfd4-06e674821701",
        "scrolled": false,
        "colab": {
          "base_uri": "https://localhost:8080/",
          "height": 1000
        }
      },
      "source": [
        "show_images()"
      ],
      "execution_count": 13,
      "outputs": [
        {
          "output_type": "display_data",
          "data": {
            "image/png": "[encoded data removed]",
            "text/plain": [
              "<Figure size 2304x2304 with 20 Axes>"
            ]
          },
          "metadata": {
            "tags": []
          }
        }
      ]
    },
    {
      "cell_type": "markdown",
      "metadata": {
        "colab_type": "text",
        "id": "yBGNZ9WP4i6z"
      },
      "source": [
        "# Helper functions for Neural Network"
      ]
    },
    {
      "cell_type": "code",
      "metadata": {
        "ExecuteTime": {
          "end_time": "2020-03-05T19:36:17.835266Z",
          "start_time": "2020-03-05T19:36:17.765316Z"
        },
        "colab_type": "code",
        "id": "9rT9PnCc4i62",
        "colab": {}
      },
      "source": [
        "def accuracy(outputs, labels):\n",
        "    \"\"\"Function for determining the accuracy of a set of model outputs compared to label values.\"\"\"\n",
        "    prediction = outputs.cpu().max(1, keepdim=True)[1].squeeze()\n",
        "    prediction_comp = torch.eq(prediction.cpu(), labels.cpu())\n",
        "    prediction_comp = prediction_comp.sum().numpy() / torch.numel(prediction.cpu())\n",
        "    return prediction_comp * 100"
      ],
      "execution_count": 0,
      "outputs": []
    },
    {
      "cell_type": "code",
      "metadata": {
        "ExecuteTime": {
          "end_time": "2020-03-05T19:36:18.287895Z",
          "start_time": "2020-03-05T19:36:18.218514Z"
        },
        "colab_type": "code",
        "id": "23GbaeTO4i7A",
        "colab": {}
      },
      "source": [
        "def cpu_or_gpu():\n",
        "    \"\"\"Function to determine whether to train using a GPU or CPU.\"\"\"\n",
        "    train_on_gpu = torch.cuda.is_available()\n",
        "    if not train_on_gpu:\n",
        "        device = torch.device('cpu')\n",
        "    else:\n",
        "        device = torch.device('cuda:0')\n",
        "    return device"
      ],
      "execution_count": 0,
      "outputs": []
    },
    {
      "cell_type": "code",
      "metadata": {
        "ExecuteTime": {
          "end_time": "2020-03-05T19:36:18.752387Z",
          "start_time": "2020-03-05T19:36:18.682445Z"
        },
        "colab_type": "code",
        "id": "1nc5gfNc4i7J",
        "colab": {}
      },
      "source": [
        "def reduce_step_size(iteration_cutoff, old_step_size, new_step_size, epoch):\n",
        "    \"\"\"Used in training to reduce step size\"\"\"\n",
        "    step_size = old_step_size\n",
        "    if epoch == iteration_cutoff:\n",
        "        step_size = new_step_size\n",
        "        if epoch == iteration_cutoff:\n",
        "            print(\n",
        "                \"Log -- Decreased Step size from {} to {}\".format(old_step_size, new_step_size))\n",
        "    return step_size"
      ],
      "execution_count": 0,
      "outputs": []
    },
    {
      "cell_type": "markdown",
      "metadata": {
        "colab_type": "text",
        "id": "XQEd9taj4i7U"
      },
      "source": [
        "# Initialize settings for Neural Network"
      ]
    },
    {
      "cell_type": "markdown",
      "metadata": {
        "colab_type": "text",
        "id": "V6M1D6jPpwhn"
      },
      "source": [
        "## Main Model"
      ]
    },
    {
      "cell_type": "code",
      "metadata": {
        "ExecuteTime": {
          "end_time": "2020-03-05T19:36:20.743751Z",
          "start_time": "2020-03-05T19:36:20.643000Z"
        },
        "colab_type": "code",
        "id": "NDvHbGwy4i7W",
        "colab": {}
      },
      "source": [
        "class Neural_Network(nn.Module):\n",
        "    def __init__(self):\n",
        "        super(Neural_Network, self).__init__()\n",
        "\n",
        "        # 5 Convolutional Layers\n",
        "        # 100 - 3x3, 200 - 2x2, 300 - 2x2, 400 - 2x2, 500 - 2x2\n",
        "        self.conv1 = nn.Conv2d(3, 100, 3, padding=1)\n",
        "        self.conv2 = nn.Conv2d(100, 200, 2, padding=1)\n",
        "        self.conv3 = nn.Conv2d(200, 300, 2, padding=1)\n",
        "        self.conv4 = nn.Conv2d(300, 400, 2, padding=1)\n",
        "        self.conv5 = nn.Conv2d(400, 500, 2, padding=1)\n",
        "\n",
        "        # Dropout Layer (p=0.5)\n",
        "        self.drop = nn.Dropout2d()\n",
        "\n",
        "        # Max Pooling Layer (2 x 2)\n",
        "        self.pool = nn.MaxPool2d(2, 2)\n",
        "\n",
        "        # Fully Connected Output Layer\n",
        "        self.fc1 = nn.Linear(4500, 10)\n",
        "\n",
        "        # Activation function\n",
        "        self.activ1 = nn.ReLU()\n",
        "\n",
        "    def forward(self, x):\n",
        "        # 5 convolutional / pooling layers\n",
        "        x = self.activ1(self.conv1(x))\n",
        "        x = self.pool(x)\n",
        "        x = self.activ1(self.conv2(x))\n",
        "        x = self.pool(x)\n",
        "        x = self.activ1(self.conv3(x))\n",
        "        x = self.pool(x)\n",
        "        x = self.activ1(self.conv4(x))\n",
        "        x = self.pool(x)\n",
        "        x = self.activ1(self.conv5(x))\n",
        "        x = self.drop(x)\n",
        "\n",
        "        # Final Output Layer\n",
        "        x = x.view(x.shape[0], -1)\n",
        "        x = self.fc1(x)\n",
        "\n",
        "        return x"
      ],
      "execution_count": 0,
      "outputs": []
    },
    {
      "cell_type": "markdown",
      "metadata": {
        "colab_type": "text",
        "id": "-YXZxf_84i7e"
      },
      "source": [
        "## Other attempts"
      ]
    },
    {
      "cell_type": "markdown",
      "metadata": {
        "colab_type": "text",
        "id": "pCYQfRNUpwiD"
      },
      "source": [
        "class Neural_Network_batch_norm(nn.Module):\n",
        "    def __init__(self):\n",
        "        super(Neural_Network2, self).__init__()\n",
        "\n",
        "        # 5 Convolutional Layers\n",
        "        # 100 - 3x3, 200 - 2x2, 300 - 2x2, 400 - 2x2, 500 - 2x2\n",
        "        self.conv1 = nn.Conv2d(3, 100, 3, padding=1)\n",
        "        self.conv2 = nn.Conv2d(100, 200, 2, padding=1)\n",
        "        self.conv3 = nn.Conv2d(200, 300, 2, padding=1)\n",
        "        self.conv4 = nn.Conv2d(300, 400, 2, padding=1)\n",
        "        self.conv5 = nn.Conv2d(400, 500, 2, padding=1)\n",
        "\n",
        "        # Max Pooling Layer (2 x 2)\n",
        "        self.maxpool = nn.MaxPool2d(2, 2)\n",
        "        \n",
        "        # Batch Normalization\n",
        "        self.bn1 = nn.BatchNorm2d(100)\n",
        "        self.bn2 = nn.BatchNorm2d(200)\n",
        "        self.bn3 = nn.BatchNorm2d(300)\n",
        "        self.bn4 = nn.BatchNorm2d(400)\n",
        "        self.bn5 = nn.BatchNorm2d(500)\n",
        "\n",
        "        # Fully Connected Output Layer\n",
        "        self.fc1 = nn.Linear(4500, 100)\n",
        "\n",
        "        # Activation function\n",
        "        self.activ1 = nn.ReLU(inplace=True)\n",
        "\n",
        "    def forward(self, x):\n",
        "        # 5 convolutional / pooling layers\n",
        "        x = self.activ1(self.bn1(self.conv1(x)))\n",
        "        x = self.maxpool(x)\n",
        "        x = self.activ1(self.bn2(self.conv2(x)))\n",
        "        x = self.maxpool(x)\n",
        "        x = self.activ1(self.bn3(self.conv3(x)))\n",
        "        x = self.maxpool(x)\n",
        "        x = self.activ1(self.bn4(self.conv4(x)))\n",
        "        x = self.maxpool(x)\n",
        "        x = self.activ1(self.bn5(self.conv5(x)))\n",
        "\n",
        "        # Final Output Layer\n",
        "        x = x.view(x.shape[0], -1)\n",
        "        x = self.fc1(x)\n",
        "\n",
        "        return x"
      ]
    },
    {
      "cell_type": "markdown",
      "metadata": {
        "colab_type": "text",
        "id": "iwISaGLD4i7g"
      },
      "source": [
        "class Neural_Network_3(nn.Module):\n",
        "    def __init__(self):\n",
        "        super(Neural_Network, self).__init__()\n",
        "        # Convolutional Layer -\n",
        "        self.conv1 = nn.Conv2d(3, 6, 5, padding=1)\n",
        "\n",
        "        # 2nd Convolutional Layer -\n",
        "        self.conv2 = nn.Conv2d(6, 16, 5, padding=1)\n",
        "\n",
        "        # 3rd Convolutional Layer -\n",
        "        self.conv3 = nn.Conv2d(16, 32, 5, padding=1)\n",
        "\n",
        "        # Max Pooling layers -\n",
        "        self.pool = nn.MaxPool2d(2, 2)\n",
        "\n",
        "        # 3 fully connected layers\n",
        "        self.fc1 = nn.Linear(2048, 250)\n",
        "        self.fc2 = nn.Linear(250, 120)\n",
        "        self.fc3 = nn.Linear(120, 84)\n",
        "        self.fc4 = nn.Linear(84, 10)\n",
        "\n",
        "        #Dropout for regularization using default p=0.5\n",
        "        #self.dr1 = nn.Dropout2d()\n",
        "        self.dr2 = nn.Dropout()\n",
        "\n",
        "        # Activation function\n",
        "        self.activ1 = nn.ReLU()\n",
        "        #self.activ1 = nn.Tanh()\n",
        "        #self.activ2 = nn.LocalResponseNorm(2)\n",
        "\n",
        "    def forward(self, x):\n",
        "        # 2 convolutional / pooling layers\n",
        "        x = self.activ1(self.conv1(x))\n",
        "        x = self.activ1(self.conv2(x))\n",
        "        x = self.pool(x)\n",
        "        x = self.activ1(self.conv3(x))\n",
        "\n",
        "        # 2 fully connected hidden layers\n",
        "        x = x.view(x.shape[0], -1)\n",
        "        x = self.activ1(self.fc1(x))\n",
        "        x = self.dr2(x)\n",
        "        x = self.activ1(self.fc2(x))\n",
        "        x = self.dr2(x)\n",
        "        x = self.activ1(self.fc3(x))\n",
        "        x = self.dr2(x)\n",
        "\n",
        "        # final output layer\n",
        "        x = self.fc4(x)\n",
        "\n",
        "        return x"
      ]
    },
    {
      "cell_type": "markdown",
      "metadata": {
        "colab_type": "text",
        "id": "0mCLpOB64i7o"
      },
      "source": [
        "class Neural_Network2(nn.Module):\n",
        "    def __init__(self):\n",
        "        super(Neural_Network2, self).__init__()\n",
        "        # Convolutional Layer - \n",
        "        self.conv1 = nn.Conv2d(3,6,3)\n",
        "        \n",
        "        # 2nd Convolutional Layer -\n",
        "        self.conv2 = nn.Conv2d(6,6,5)\n",
        "        \n",
        "        # 3rd Convolutional Layer -\n",
        "        self.conv3 = nn.Conv2d(6,8,5)\n",
        "        \n",
        "        # 4th Convolutional Layer\n",
        "        self.conv4 = nn.Conv2d(8,10,5)\n",
        "        \n",
        "        # Max Pooling layers - \n",
        "        self.pool = nn.MaxPool2d(2,2)\n",
        "             \n",
        "        # 3 fully connected layers\n",
        "        self.fc1 = nn.Linear(40, 10)\n",
        "        \n",
        "        # Activation function\n",
        "        self.activ1 = nn.ReLU()\n",
        "        \n",
        "    def forward(self, x):\n",
        "        # 2 convolutional / pooling layers\n",
        "        x = self.activ1(self.conv1(x))\n",
        "        x = self.activ1(self.conv2(x))\n",
        "        x = self.pool(x)\n",
        "        x = self.activ1(self.conv3(x))\n",
        "        x = self.activ1(self.conv4(x))\n",
        "        x = self.pool(x)\n",
        "        \n",
        "        # 2 fully connected hidden layers\n",
        "        x = x.view(-1,40)\n",
        "        x = self.activ1(self.fc1(x))\n",
        "        \n",
        "        return x"
      ]
    },
    {
      "cell_type": "markdown",
      "metadata": {
        "colab_type": "text",
        "id": "ER-kym1v4i7y"
      },
      "source": [
        "class Neural_Network_Linear(nn.Module):\n",
        "    def __init__(self):\n",
        "        super(Neural_Network, self).__init__()\n",
        "        self.fc1 = nn.Linear(32* 32 * 3, 256)\n",
        "        self.fc2 = nn.Linear(256,200)\n",
        "        self.fc3 = nn.Linear(200, 10)\n",
        "        self.activ = nn.functional.relu\n",
        "        \n",
        "    def forward(self, x):\n",
        "        x = self.activ(self.fc1(x))\n",
        "        x = self.activ(self.fc2(x))\n",
        "        x = self.fc3(x)\n",
        "        \n",
        "        return x"
      ]
    },
    {
      "cell_type": "markdown",
      "metadata": {
        "colab_type": "text",
        "id": "cmi-bKPd4i75"
      },
      "source": [
        "VGG16 architecture\n",
        "class CNN(nn.Module):\n",
        "    def __init__(self):\n",
        "        super(CNN,self).__init__()\n",
        "        \n",
        "        self.conv_layer = nn.Sequential(\n",
        "        \n",
        "            #1st conv layer block\n",
        "            nn.Conv2d(in_channels=3, out_channels=32, kernel_size=3, padding=1),\n",
        "            nn.BatchNorm2d(32),\n",
        "            nn.ReLU(inplace=True),\n",
        "            nn.Conv2d(in_channels=32, out_channels=64, kernel_size=3, padding=1),\n",
        "            nn.ReLU(inplace=True),\n",
        "            nn.MaxPool2d(kernel_size=2, stride=2),\n",
        "\n",
        "            #2nd conv layer block\n",
        "            nn.Conv2d(in_channels=64, out_channels=128, kernel_size=3, padding=1),\n",
        "            nn.BatchNorm2d(128),\n",
        "            nn.ReLU(inplace=True),\n",
        "            nn.Conv2d(in_channels=128, out_channels=128, kernel_size=3, padding=1),\n",
        "            nn.ReLU(inplace=True),\n",
        "            nn.MaxPool2d(kernel_size=2, stride=2),\n",
        "            nn.Dropout2d(p=0.05),\n",
        "\n",
        "            #3rd conv layer block\n",
        "            nn.Conv2d(in_channels=128, out_channels=256, kernel_size=3, padding=1),\n",
        "            nn.BatchNorm2d(256),\n",
        "            nn.ReLU(inplace=True),\n",
        "            nn.Conv2d(in_channels=256, out_channels=256, kernel_size=3, padding=1),\n",
        "            nn.ReLU(inplace=True),\n",
        "            nn.MaxPool2d(kernel_size=2, stride=2),\n",
        "        )\n",
        "        \n",
        "            #fully connected layers block\n",
        "        self.fc_layer = nn.Sequential(\n",
        "            nn.Dropout(p=0.1),\n",
        "            nn.Linear(4096,1024),\n",
        "            nn.ReLU(inplace=True),\n",
        "            nn.Linear(1024,512),\n",
        "            nn.ReLU(inplace=True),\n",
        "            nn.Dropout(p=0.1),\n",
        "            nn.Linear(512,10)\n",
        "        )\n",
        "        \n",
        "            #perform forward\n",
        "        def forward(self, x):\n",
        "            #conv layers\n",
        "            x = self.conv_layer(x)\n",
        "            #flatten\n",
        "            x = x.view(x.size(0), -1)\n",
        "            #fully connected layer\n",
        "            x = self.fc_layer(x)\n",
        "            \n",
        "            return x"
      ]
    },
    {
      "cell_type": "markdown",
      "metadata": {
        "colab_type": "text",
        "id": "FSnQKYqY4i8D"
      },
      "source": [
        "# Neural Network Training"
      ]
    },
    {
      "cell_type": "markdown",
      "metadata": {
        "colab_type": "text",
        "id": "rRw9k35opwiw"
      },
      "source": [
        "## Training new model"
      ]
    },
    {
      "cell_type": "code",
      "metadata": {
        "ExecuteTime": {
          "end_time": "2020-03-05T18:34:05.745488Z",
          "start_time": "2020-03-05T18:34:02.935691Z"
        },
        "colab_type": "code",
        "id": "yjXsgr7E4i8F",
        "outputId": "b97d9f40-248f-4015-c5f2-149bc19e59db",
        "colab": {
          "base_uri": "https://localhost:8080/",
          "height": 204
        }
      },
      "source": [
        "# Use this cell if training a new model\n",
        "model = Neural_Network()\n",
        "device = cpu_or_gpu()\n",
        "model.to(device)"
      ],
      "execution_count": 19,
      "outputs": [
        {
          "output_type": "execute_result",
          "data": {
            "text/plain": [
              "Neural_Network(\n",
              "  (conv1): Conv2d(3, 100, kernel_size=(3, 3), stride=(1, 1), padding=(1, 1))\n",
              "  (conv2): Conv2d(100, 200, kernel_size=(2, 2), stride=(1, 1), padding=(1, 1))\n",
              "  (conv3): Conv2d(200, 300, kernel_size=(2, 2), stride=(1, 1), padding=(1, 1))\n",
              "  (conv4): Conv2d(300, 400, kernel_size=(2, 2), stride=(1, 1), padding=(1, 1))\n",
              "  (conv5): Conv2d(400, 500, kernel_size=(2, 2), stride=(1, 1), padding=(1, 1))\n",
              "  (drop): Dropout2d(p=0.5, inplace=False)\n",
              "  (pool): MaxPool2d(kernel_size=2, stride=2, padding=0, dilation=1, ceil_mode=False)\n",
              "  (fc1): Linear(in_features=4500, out_features=10, bias=True)\n",
              "  (activ1): ReLU()\n",
              ")"
            ]
          },
          "metadata": {
            "tags": []
          },
          "execution_count": 19
        }
      ]
    },
    {
      "cell_type": "markdown",
      "metadata": {
        "colab_type": "text",
        "id": "26j1ZwrSpwi7"
      },
      "source": [
        "## Loading previously saved model"
      ]
    },
    {
      "cell_type": "code",
      "metadata": {
        "ExecuteTime": {
          "end_time": "2020-03-05T19:54:04.627247Z",
          "start_time": "2020-03-05T19:54:04.243891Z"
        },
        "colab_type": "code",
        "id": "4-XJAjsA4i8N",
        "colab": {}
      },
      "source": [
        "# Use this cell if loading a saved model\n",
        "model = Neural_Network()\n",
        "device = cpu_or_gpu()\n",
        "model.to(device)\n",
        "model.load_state_dict(\n",
        "    torch.load(\"finalmodelwithmaxdrop\"))\n",
        "               #Conv-NN-ReLU-88.5testaccuracy\"))  # <------- Insert path of saved model as string here\n",
        "\n",
        "model.eval()"
      ],
      "execution_count": 0,
      "outputs": []
    },
    {
      "cell_type": "markdown",
      "metadata": {
        "colab_type": "text",
        "id": "HzWoB1aKpwjK"
      },
      "source": [
        "## Model Summary"
      ]
    },
    {
      "cell_type": "code",
      "metadata": {
        "ExecuteTime": {
          "end_time": "2020-03-05T19:36:36.275179Z",
          "start_time": "2020-03-05T19:36:33.665663Z"
        },
        "colab_type": "code",
        "id": "kXLrfa4o4i8V",
        "outputId": "3abf8559-4476-4c0d-94a7-388317649aca",
        "colab": {
          "base_uri": "https://localhost:8080/",
          "height": 510
        }
      },
      "source": [
        "# Summary of layers, output shape, parameters, and size\n",
        "summary(model, input_size=(3, 32, 32))"
      ],
      "execution_count": 20,
      "outputs": [
        {
          "output_type": "stream",
          "text": [
            "----------------------------------------------------------------\n",
            "        Layer (type)               Output Shape         Param #\n",
            "================================================================\n",
            "            Conv2d-1          [-1, 100, 32, 32]           2,800\n",
            "              ReLU-2          [-1, 100, 32, 32]               0\n",
            "         MaxPool2d-3          [-1, 100, 16, 16]               0\n",
            "            Conv2d-4          [-1, 200, 17, 17]          80,200\n",
            "              ReLU-5          [-1, 200, 17, 17]               0\n",
            "         MaxPool2d-6            [-1, 200, 8, 8]               0\n",
            "            Conv2d-7            [-1, 300, 9, 9]         240,300\n",
            "              ReLU-8            [-1, 300, 9, 9]               0\n",
            "         MaxPool2d-9            [-1, 300, 4, 4]               0\n",
            "           Conv2d-10            [-1, 400, 5, 5]         480,400\n",
            "             ReLU-11            [-1, 400, 5, 5]               0\n",
            "        MaxPool2d-12            [-1, 400, 2, 2]               0\n",
            "           Conv2d-13            [-1, 500, 3, 3]         800,500\n",
            "             ReLU-14            [-1, 500, 3, 3]               0\n",
            "        Dropout2d-15            [-1, 500, 3, 3]               0\n",
            "           Linear-16                   [-1, 10]          45,010\n",
            "================================================================\n",
            "Total params: 1,649,210\n",
            "Trainable params: 1,649,210\n",
            "Non-trainable params: 0\n",
            "----------------------------------------------------------------\n",
            "Input size (MB): 0.01\n",
            "Forward/backward pass size (MB): 3.41\n",
            "Params size (MB): 6.29\n",
            "Estimated Total Size (MB): 9.72\n",
            "----------------------------------------------------------------\n"
          ],
          "name": "stdout"
        }
      ]
    },
    {
      "cell_type": "markdown",
      "metadata": {
        "colab_type": "text",
        "id": "CR59Tw-4pwjV"
      },
      "source": [
        "## Train function"
      ]
    },
    {
      "cell_type": "code",
      "metadata": {
        "ExecuteTime": {
          "end_time": "2020-03-05T19:36:36.727567Z",
          "start_time": "2020-03-05T19:36:36.659142Z"
        },
        "colab_type": "code",
        "id": "Wk5pSTPL4i8e",
        "colab": {}
      },
      "source": [
        "# Initialize cross entropy loss for use in training/testing\n",
        "criterion = nn.CrossEntropyLoss()"
      ],
      "execution_count": 0,
      "outputs": []
    },
    {
      "cell_type": "code",
      "metadata": {
        "ExecuteTime": {
          "end_time": "2020-03-05T19:54:16.694769Z",
          "start_time": "2020-03-05T19:54:16.428562Z"
        },
        "colab_type": "code",
        "id": "2UcjkYoy4i8m",
        "colab": {}
      },
      "source": [
        "def train():\n",
        "\n",
        "    # Initial hyperparameters\n",
        "    number_of_epochs = 100\n",
        "    step_size = 0.01\n",
        "    momentum_parameter = 0.9\n",
        "    lambda1 = 0.001\n",
        "\n",
        "    # L2 Regularization\n",
        "    all_linear1_params = torch.cat(\n",
        "        [x.view(-1) for x in model.fc1.parameters()])\n",
        "    l2_regularization = lambda1 * torch.norm(all_linear1_params, 1)\n",
        "\n",
        "    # Initialize optimiser\n",
        "    optimiser = optim.SGD(model.parameters(),\n",
        "                          lr=step_size,\n",
        "                          momentum=momentum_parameter)\n",
        "\n",
        "    # initialize lists for running counts of loss and accuracy\n",
        "    running_loss = []\n",
        "    running_val_loss = []\n",
        "    running_training_accuracy = []\n",
        "    running_training_accuracy.append(0)\n",
        "    running_val_accuracy = []\n",
        "    running_val_accuracy.append(0)\n",
        "\n",
        "    print(\"Log -- Step size: {}, Momentum: {}, batch_size = {}\".format(\n",
        "        step_size, momentum_parameter, train_batch_size))\n",
        "    \n",
        "    # loop for epochs\n",
        "    for k in range(number_of_epochs):\n",
        "        model.train()\n",
        "        device = cpu_or_gpu()\n",
        "        model.to(device)\n",
        "\n",
        "        # initialize epoch loss and training accuracy\n",
        "        epoch_loss = 0\n",
        "        training_accuracy = 0\n",
        "\n",
        "\n",
        "        # handle reducing step size at various iterations\n",
        "\n",
        "        step_size = reduce_step_size(iteration_cutoff=10,\n",
        "                                     old_step_size=step_size,\n",
        "                                     new_step_size=0.001,\n",
        "                                     epoch=k)\n",
        "\n",
        "        optimiser = optim.SGD(model.parameters(),\n",
        "                              lr=step_size,\n",
        "                              momentum=momentum_parameter)\n",
        "\n",
        "        # Main Training Loop\n",
        "        for j, (images, labels) in enumerate(train_loader):\n",
        "            images, labels = images.to(device), labels.to(device)\n",
        "            optimiser.zero_grad()\n",
        "            outputs = model(images)\n",
        "            loss = criterion(outputs, labels)+ (l2_regularization/len(images))\n",
        "            loss.backward(retain_graph=True)\n",
        "            optimiser.step()\n",
        "\n",
        "            epoch_loss += loss.item()\n",
        "            training_accuracy += accuracy(outputs, labels)\n",
        "\n",
        "        # Caclulate average loss and accuracy for each epoch\n",
        "        running_loss.append(epoch_loss / len(train_loader))\n",
        "        running_training_accuracy.append(training_accuracy / len(train_loader))\n",
        "\n",
        "        # Validation test once per epoch\n",
        "        device = torch.device('cpu')\n",
        "        model.eval()\n",
        "        model.to(device)\n",
        "        val_images, val_labels = iter(val_loader).next()\n",
        "        val_images, val_labels = val_images.to(device), val_labels.to(device)\n",
        "        val_outputs = model(val_images) + (l2_regularization/len(val_images))\n",
        "        val_loss = criterion(val_outputs, val_labels).item()\n",
        "\n",
        "        # Store validation loss and accuracy\n",
        "        running_val_loss.append(val_loss)\n",
        "        val_accuracy = accuracy(val_outputs, val_labels)\n",
        "        running_val_accuracy.append(val_accuracy)\n",
        "        \n",
        "        # Running log\n",
        "        if k % 1 == 0:\n",
        "            print(\n",
        "                \"Epoch {a}/{b} -> Tr. Loss = {c:.4f}, Val. Loss = {d:.4f}, Tr. Acc = {e:.2f}, Val. Acc = {f:.2f}\"\n",
        "                .format(a=k,\n",
        "                        b=number_of_epochs,\n",
        "                        c=running_loss[-1],\n",
        "                        d=running_val_loss[-1],\n",
        "                        e=running_training_accuracy[-1],\n",
        "                        f=running_val_accuracy[-1]))\n",
        "        \n",
        "        # Break condition (validation loss is rising)\n",
        "        \"\"\"if len(running_val_loss) > 30 and running_val_loss[-1] - running_val_loss[-30] > 0:\n",
        "            break\"\"\"\n",
        "\n",
        "    print(\"Final Epoch {} -> Loss = {}\".format(k, running_loss[-1]))\n",
        "\n",
        "    return running_loss, running_val_loss, running_training_accuracy, running_val_accuracy"
      ],
      "execution_count": 0,
      "outputs": []
    },
    {
      "cell_type": "code",
      "metadata": {
        "ExecuteTime": {
          "start_time": "2020-03-05T19:54:24.705Z"
        },
        "colab_type": "code",
        "id": "_P23_2xu4i8v",
        "outputId": "7f6a2f01-7076-4690-fbe1-f1e2bc63a2cb",
        "colab": {
          "base_uri": "https://localhost:8080/",
          "height": 425
        }
      },
      "source": [
        "running_loss, running_val_loss, running_training_accuracy, running_val_accuracy = train()"
      ],
      "execution_count": 0,
      "outputs": [
        {
          "output_type": "stream",
          "text": [
            "Log -- Step size: 0.01, Momentum: 0.9, batch_size = 32\n",
            "Epoch 0/100 -> Tr. Loss = 1.8013, Val. Loss = 1.4113, Tr. Acc = 32.91, Val. Acc = 47.14\n",
            "Epoch 1/100 -> Tr. Loss = 1.2784, Val. Loss = 1.1189, Tr. Acc = 53.87, Val. Acc = 59.68\n",
            "Epoch 2/100 -> Tr. Loss = 1.0326, Val. Loss = 0.9406, Tr. Acc = 63.82, Val. Acc = 66.46\n",
            "Epoch 3/100 -> Tr. Loss = 0.8952, Val. Loss = 0.8236, Tr. Acc = 69.05, Val. Acc = 71.86\n",
            "Epoch 4/100 -> Tr. Loss = 0.8170, Val. Loss = 0.7422, Tr. Acc = 71.70, Val. Acc = 73.60\n",
            "Epoch 5/100 -> Tr. Loss = 0.7564, Val. Loss = 0.6893, Tr. Acc = 73.88, Val. Acc = 76.32\n",
            "Epoch 6/100 -> Tr. Loss = 0.7160, Val. Loss = 0.6596, Tr. Acc = 75.37, Val. Acc = 76.92\n",
            "Epoch 7/100 -> Tr. Loss = 0.6656, Val. Loss = 0.6725, Tr. Acc = 77.08, Val. Acc = 76.96\n",
            "Epoch 8/100 -> Tr. Loss = 0.6440, Val. Loss = 0.6436, Tr. Acc = 78.35, Val. Acc = 77.70\n",
            "Epoch 9/100 -> Tr. Loss = 0.6100, Val. Loss = 0.6351, Tr. Acc = 78.97, Val. Acc = 78.42\n",
            "Log -- Decreased Step size from 0.01 to 0.001\n",
            "Epoch 10/100 -> Tr. Loss = 0.4721, Val. Loss = 0.4928, Tr. Acc = 83.98, Val. Acc = 83.34\n",
            "Epoch 11/100 -> Tr. Loss = 0.4364, Val. Loss = 0.4813, Tr. Acc = 85.08, Val. Acc = 83.74\n",
            "Epoch 12/100 -> Tr. Loss = 0.4170, Val. Loss = 0.4646, Tr. Acc = 85.97, Val. Acc = 83.96\n",
            "Epoch 13/100 -> Tr. Loss = 0.4073, Val. Loss = 0.4704, Tr. Acc = 86.09, Val. Acc = 84.56\n",
            "Epoch 14/100 -> Tr. Loss = 0.3976, Val. Loss = 0.4652, Tr. Acc = 86.35, Val. Acc = 84.68\n",
            "Epoch 15/100 -> Tr. Loss = 0.3844, Val. Loss = 0.4670, Tr. Acc = 86.84, Val. Acc = 84.24\n",
            "Epoch 16/100 -> Tr. Loss = 0.3794, Val. Loss = 0.4398, Tr. Acc = 87.10, Val. Acc = 85.40\n",
            "Epoch 17/100 -> Tr. Loss = 0.3730, Val. Loss = 0.4348, Tr. Acc = 87.34, Val. Acc = 85.40\n",
            "Epoch 18/100 -> Tr. Loss = 0.3669, Val. Loss = 0.4424, Tr. Acc = 87.46, Val. Acc = 84.86\n",
            "Epoch 19/100 -> Tr. Loss = 0.3572, Val. Loss = 0.4385, Tr. Acc = 87.96, Val. Acc = 85.48\n",
            "Epoch 20/100 -> Tr. Loss = 0.3537, Val. Loss = 0.4318, Tr. Acc = 87.87, Val. Acc = 85.72\n",
            "Epoch 21/100 -> Tr. Loss = 0.3441, Val. Loss = 0.4333, Tr. Acc = 88.30, Val. Acc = 85.86\n"
          ],
          "name": "stdout"
        }
      ]
    },
    {
      "cell_type": "markdown",
      "metadata": {
        "colab_type": "text",
        "id": "dJvsPHdK4i83"
      },
      "source": [
        "### Training Epoch Loss and Accuracy Visualizations"
      ]
    },
    {
      "cell_type": "code",
      "metadata": {
        "ExecuteTime": {
          "end_time": "2020-03-05T19:18:21.922933Z",
          "start_time": "2020-03-05T19:18:21.722216Z"
        },
        "colab_type": "code",
        "id": "YYDuywwX4i85",
        "outputId": "33f8d602-9750-41b4-da74-168187f09183",
        "colab": {
          "base_uri": "https://localhost:8080/",
          "height": 285
        }
      },
      "source": [
        "plt.plot(running_loss, label=\"Training Loss\")\n",
        "plt.plot(running_val_loss, label=\"Validation Loss\")\n",
        "for i in range(len(running_val_loss)):\n",
        "    if running_val_loss[i] == np.min(running_val_loss):\n",
        "        lowest_index = i\n",
        "plt.scatter(lowest_index,\n",
        "            running_val_loss[lowest_index],\n",
        "            label=\"Lowest Validation Loss\",\n",
        "            c=\"r\")\n",
        "plt.scatter(lowest_index,\n",
        "            running_loss[lowest_index],\n",
        "            label=\"Corresponding Train Loss\",\n",
        "            c=\"r\")\n",
        "plt.legend()\n",
        "plt.ylabel(\"Loss\")\n",
        "plt.xlabel(\"Epoch\")\n",
        "plt.grid()\n",
        "plt.show()"
      ],
      "execution_count": 0,
      "outputs": [
        {
          "output_type": "display_data",
          "data": {
            "image/png": "[encoded data removed]",
            "text/plain": [
              "<Figure size 432x288 with 1 Axes>"
            ]
          },
          "metadata": {
            "tags": []
          }
        }
      ]
    },
    {
      "cell_type": "code",
      "metadata": {
        "ExecuteTime": {
          "end_time": "2020-03-05T19:15:11.283120Z",
          "start_time": "2020-03-05T19:15:11.086733Z"
        },
        "colab_type": "code",
        "id": "lenIpOC-4i9B",
        "outputId": "431b93b4-8659-43f5-9e1a-ac8118da1928",
        "scrolled": true,
        "colab": {
          "base_uri": "https://localhost:8080/",
          "height": 285
        }
      },
      "source": [
        "plt.plot(running_training_accuracy, label=\"Training Accuracy\")\n",
        "plt.plot(running_val_accuracy, label=\"Test Accuracy\")\n",
        "for i in range(len(running_val_accuracy)):\n",
        "    if running_val_accuracy[i] == np.max(running_val_accuracy):\n",
        "        highest_index = i\n",
        "plt.scatter(highest_index,\n",
        "            running_val_accuracy[highest_index],\n",
        "            label=\"Highest Validation Accuracy\",\n",
        "            c=\"r\")\n",
        "plt.scatter(highest_index,\n",
        "            running_training_accuracy[highest_index],\n",
        "            label=\"Corresponding Train Accuracy\",\n",
        "            c=\"r\")\n",
        "plt.legend()\n",
        "plt.ylabel(\"Model Accuracy\")\n",
        "plt.xlabel(\"Epoch\")\n",
        "plt.grid()\n",
        "plt.show()"
      ],
      "execution_count": 0,
      "outputs": [
        {
          "output_type": "display_data",
          "data": {
            "image/png": "[encoded data removed]",
            "text/plain": [
              "<Figure size 432x288 with 1 Axes>"
            ]
          },
          "metadata": {
            "tags": []
          }
        }
      ]
    },
    {
      "cell_type": "markdown",
      "metadata": {
        "ExecuteTime": {
          "end_time": "2020-03-05T01:03:52.160790Z",
          "start_time": "2020-03-05T01:03:52.154815Z"
        },
        "colab_type": "text",
        "id": "1UCJOYMjpwkG"
      },
      "source": [
        "# Saving Model State_Dict"
      ]
    },
    {
      "cell_type": "code",
      "metadata": {
        "ExecuteTime": {
          "end_time": "2020-03-05T19:17:04.977111Z",
          "start_time": "2020-03-05T19:17:04.711372Z"
        },
        "colab_type": "code",
        "id": "XsdZjfnY4i9n",
        "colab": {}
      },
      "source": [
        "# For saving neural network parameters\n",
        "torch.save(model.state_dict(), \n",
        "           \"ourmodel96percentaccuracy\")  # <----- make sure to update the path if saving new model"
      ],
      "execution_count": 0,
      "outputs": []
    },
    {
      "cell_type": "markdown",
      "metadata": {
        "colab_type": "text",
        "id": "y5Q1kSXr4i9H"
      },
      "source": [
        "# Neural Network Testing"
      ]
    },
    {
      "cell_type": "markdown",
      "metadata": {
        "colab_type": "text",
        "id": "3cWSfOSlpwkZ"
      },
      "source": [
        "## Test on test dataset"
      ]
    },
    {
      "cell_type": "code",
      "metadata": {
        "ExecuteTime": {
          "end_time": "2020-03-05T19:52:37.423923Z",
          "start_time": "2020-03-05T19:52:37.322439Z"
        },
        "colab_type": "code",
        "id": "b72_n5c74i9J",
        "colab": {}
      },
      "source": [
        "# Accuracy on full test dataset (10,000 test images)\n",
        "def test_on_testing_data(model):\n",
        "    \"\"\"for testing model on test set (10,000 test images), batch size of 1000 \n",
        "    is used for computational purposes and accuracy/loss are averaged after\"\"\"\n",
        "\n",
        "    criterion = nn.CrossEntropyLoss()  # in case not previously defined\n",
        "\n",
        "    # initialize network to use CPU\n",
        "    device = torch.device('cpu')\n",
        "    model.to(device)\n",
        "    model.eval()\n",
        "\n",
        "    # initialize accuracy and loss\n",
        "    test_accuracy = 0\n",
        "    epoch_loss = 0\n",
        "\n",
        "    # loop through test batches and send to CPU\n",
        "    for j, (test_images, test_labels) in enumerate(test_loader):\n",
        "        test_images, test_labels = test_images.to(\n",
        "            device), test_labels.to(device)\n",
        "\n",
        "        # run images through model to create outputs\n",
        "        test_outputs = model(test_images)\n",
        "\n",
        "        # compare outputs to actual labels\n",
        "        epoch_loss += criterion(test_outputs, test_labels).item()\n",
        "        test_accuracy += accuracy(test_outputs, test_labels)\n",
        "\n",
        "    # average over the number of batches\n",
        "    test_accuracy = test_accuracy / len(test_loader)\n",
        "    test_loss = epoch_loss / len(test_loader)\n",
        "\n",
        "    # print results\n",
        "    print(\"Test Loss is : {a:.2f}\".format(a=test_loss))\n",
        "    print(\"Test Accuracy is : {a:.2f}%\".format(a=test_accuracy))"
      ],
      "execution_count": 0,
      "outputs": []
    },
    {
      "cell_type": "code",
      "metadata": {
        "ExecuteTime": {
          "end_time": "2020-03-05T19:53:29.126044Z",
          "start_time": "2020-03-05T19:52:39.688784Z"
        },
        "colab_type": "code",
        "id": "siywUy4t4i9P",
        "colab": {}
      },
      "source": [
        "test_on_testing_data()"
      ],
      "execution_count": 0,
      "outputs": []
    },
    {
      "cell_type": "markdown",
      "metadata": {
        "colab_type": "text",
        "id": "ldwTrAo7pwkv"
      },
      "source": [
        "## Test on training dataset"
      ]
    },
    {
      "cell_type": "code",
      "metadata": {
        "ExecuteTime": {
          "end_time": "2020-03-05T17:27:17.190002Z",
          "start_time": "2020-03-05T17:27:17.048808Z"
        },
        "colab_type": "code",
        "id": "D9TW85bM4i9Z",
        "colab": {}
      },
      "source": [
        "# Accuracy on full train dataset (50,000 training images) without data augmentation\n",
        "def test_on_training_data(model):\n",
        "    \"\"\"for testing model on training batch (50,000 test images), batch size of 1000 \n",
        "    is used for computational purposes and accuracy/loss are averaged after\"\"\"\n",
        "\n",
        "    criterion = nn.CrossEntropyLoss()  # in case not previously defined\n",
        "\n",
        "    # initialize network to use CPU\n",
        "    device = torch.device('cpu')\n",
        "    model.to(device)\n",
        "    model.eval()\n",
        "\n",
        "    # we want to test on data without additional transformations\n",
        "    transform_tr1 = transforms.Compose([\n",
        "        transforms.ToTensor(),\n",
        "        transforms.Normalize((0.4914, 0.4822, 0.4465),\n",
        "                             (0.2470, 0.2435, 0.2616))\n",
        "    ])\n",
        "\n",
        "    # define new train dataset using above transformations\n",
        "    train_dataset1 = datasets.CIFAR10('CIFAR10',\n",
        "                                      train=True,\n",
        "                                      download=True,\n",
        "                                      transform=transform_tr1)\n",
        "\n",
        "    # define new loader with batch size and dataset\n",
        "    train_loader1 = torch.utils.data.DataLoader(train_dataset1,\n",
        "                                                batch_size=1000,\n",
        "                                                shuffle=True)\n",
        "    # initialize accuracy and loss\n",
        "    test_accuracy = 0  \n",
        "    epoch_loss = 0\n",
        "\n",
        "    # loop through test batches and send to CPU\n",
        "    for j, (test_images, test_labels) in enumerate(train_loader1):\n",
        "        test_images, test_labels = test_images.to(device), test_labels.to(\n",
        "            device)\n",
        "\n",
        "        # run images through model to create outputs\n",
        "        test_outputs = model(test_images)\n",
        "\n",
        "        # compare outputs to actual labels\n",
        "        epoch_loss += criterion(test_outputs, test_labels).item()\n",
        "        test_accuracy += accuracy(test_outputs, test_labels)\n",
        "\n",
        "    # average over the number of batches\n",
        "    test_accuracy = test_accuracy / len(train_loader1)\n",
        "    test_loss = epoch_loss / len(train_loader1)\n",
        "\n",
        "    # print results\n",
        "    print(\"Training Loss (Full Dataset) is : {a:.2f}\".format(a=test_loss))\n",
        "    print(\"Training Accuracy (Full Dataset) is : {a:.2f}%\".format(\n",
        "        a=test_accuracy))"
      ],
      "execution_count": 0,
      "outputs": []
    },
    {
      "cell_type": "code",
      "metadata": {
        "ExecuteTime": {
          "end_time": "2020-03-05T17:29:38.846021Z",
          "start_time": "2020-03-05T17:27:18.903620Z"
        },
        "colab_type": "code",
        "id": "fHV2ORxx4i9h",
        "outputId": "b98433a5-50e4-4e15-aefc-4e164e4145e0",
        "scrolled": true,
        "colab": {
          "base_uri": "https://localhost:8080/",
          "height": 68
        }
      },
      "source": [
        "test_on_training_data()"
      ],
      "execution_count": 0,
      "outputs": [
        {
          "output_type": "stream",
          "text": [
            "Files already downloaded and verified\n",
            "Training Loss (Full Dataset) is : 0.22\n",
            "Training Accuracy (Full Dataset) is : 92.35%\n"
          ],
          "name": "stdout"
        }
      ]
    },
    {
      "cell_type": "markdown",
      "metadata": {
        "colab_type": "text",
        "id": "aJXfQhib4i9v"
      },
      "source": [
        "# Adversarial Attacks"
      ]
    },
    {
      "cell_type": "code",
      "metadata": {
        "ExecuteTime": {
          "end_time": "2020-03-05T00:37:20.069277Z",
          "start_time": "2020-03-05T00:37:19.875752Z"
        },
        "colab_type": "code",
        "id": "2v1eu9GG4i9y",
        "colab": {}
      },
      "source": [
        "# define loader with a single image loaded at a time\n",
        "test_loader1 = torch.utils.data.DataLoader(test_dataset,\n",
        "                                           batch_size=1,\n",
        "                                           shuffle=True)"
      ],
      "execution_count": 0,
      "outputs": []
    },
    {
      "cell_type": "markdown",
      "metadata": {
        "id": "kzwFpG6iRWO5",
        "colab_type": "text"
      },
      "source": [
        "## Define FGSM attack"
      ]
    },
    {
      "cell_type": "code",
      "metadata": {
        "ExecuteTime": {
          "end_time": "2020-03-05T00:37:21.747151Z",
          "start_time": "2020-03-05T00:37:21.552704Z"
        },
        "colab_type": "code",
        "id": "WKb-qTe84i93",
        "colab": {}
      },
      "source": [
        "def fgsm(images, epsilon, images_gradient):\n",
        "    \"\"\"given a set of images, stored image gradients, and epsilon,\n",
        "    return fast gradient sign method perturbed image\"\"\"\n",
        "    sign = images.grad.sign()\n",
        "    new_image = images + epsilon * sign\n",
        "    return new_image"
      ],
      "execution_count": 0,
      "outputs": []
    },
    {
      "cell_type": "markdown",
      "metadata": {
        "id": "8AhKQSJNRWPM",
        "colab_type": "text"
      },
      "source": [
        "## Test model with fgsm attack on single image"
      ]
    },
    {
      "cell_type": "code",
      "metadata": {
        "ExecuteTime": {
          "end_time": "2020-03-05T00:37:25.295902Z",
          "start_time": "2020-03-05T00:37:25.067466Z"
        },
        "colab_type": "code",
        "id": "m6s-QyUW4i99",
        "colab": {}
      },
      "source": [
        "def test_single_prediction(epsilon, model):\n",
        "    \"\"\"given one image and a value of epsilon, show the model \n",
        "    prediction with and without pertubation and visualize\"\"\"\n",
        "    # Run model on CPU\n",
        "    device = torch.device('cpu')\n",
        "    model.to(device)\n",
        "    model.eval()\n",
        "\n",
        "    # For randomly sampling one image from the data loader\n",
        "    indices = np.arange(10000)\n",
        "    np.random.shuffle(indices)\n",
        "    sampler = torch.utils.data.SubsetRandomSampler(indices[:1])\n",
        "\n",
        "    test_loader1 = torch.utils.data.DataLoader(test_dataset,\n",
        "                                               batch_size=1,\n",
        "                                               shuffle=False,\n",
        "                                               sampler=sampler)\n",
        "\n",
        "    # define sample image out of the batch in the correct shape for visualization\n",
        "    for test_images, test_labels in test_loader1:\n",
        "        sample_image = test_images[0, :, :]\n",
        "        sample_label = test_labels[0]\n",
        "\n",
        "    # fgsm requires that we track gradients\n",
        "    sample_image.requires_grad = True\n",
        "    test_images.requires_grad = True\n",
        "\n",
        "    # run model on single image in test_images and backward pass\n",
        "    output = model(test_images)\n",
        "\n",
        "    loss = criterion(output, test_labels)\n",
        "    model.zero_grad()\n",
        "    loss.backward()\n",
        "\n",
        "    # predicted label is the highest value in output\n",
        "    _, predicted = torch.max(output, 1)\n",
        "\n",
        "    # calculate confidence in prediction(probability)\n",
        "    # by applying softmax to output\n",
        "    confidence = torch.nn.functional.softmax(output, dim=1)\n",
        "    confidence = torch.max(confidence, 1)\n",
        "\n",
        "    # fgsm adversarial attack on test_images\n",
        "    fgsm_images = fgsm(test_images, epsilon, test_images.grad.data)\n",
        "\n",
        "    # run model on single perturbed image\n",
        "    fgsm_output = model(fgsm_images)\n",
        "\n",
        "    # predicted label is the highest value in output\n",
        "    _, fgsm_predicted = torch.max(fgsm_output, 1)\n",
        "\n",
        "    # calculate confidence in prediction(probability)\n",
        "    # by applying softmax to output\n",
        "    fgsm_confidence = torch.nn.functional.softmax(fgsm_output, dim=1)\n",
        "    fgsm_confidence = torch.max(fgsm_confidence, 1)\n",
        "\n",
        "    # logging model prediction before and after fgsm attack\n",
        "    print(\"True label is: {tl} - {tl_desc}\\n\\\n",
        "    \\nBefore fgsm - Model prediction: {pred1} - {pred1_desc} with {conf1:.2f}% Confidence\\n\\\n",
        "    \\nAfter fgsm - Model prediction: {pred2} - {pred2_desc} with {conf2:.2f}% Confidence\\n\\\n",
        "    \".format(tl=sample_label,\n",
        "             tl_desc=train_dataset.classes[sample_label],\n",
        "             pred1=predicted[0],\n",
        "             pred1_desc=train_dataset.classes[predicted[0]],\n",
        "             pred2=fgsm_predicted[0],\n",
        "             pred2_desc=train_dataset.classes[fgsm_predicted[0]],\n",
        "             conf1=confidence[0].item() * 100,\n",
        "             conf2=fgsm_confidence[0].item() * 100))\n",
        "\n",
        "    # define mean and standard deviation for reversing normalization\n",
        "    std = tst_std\n",
        "    mean = tst_mean\n",
        "    mean = mean[:, None, None]\n",
        "    std = std[:, None, None]\n",
        "\n",
        "    # reverse normalization\n",
        "    sample_image = sample_image * std + mean\n",
        "    adv_image = fgsm_images * std + mean\n",
        "    fgsm_vis = epsilon * test_images.grad.sign()\n",
        "\n",
        "    # list of images and label for visualization\n",
        "    images_list = [\n",
        "        sample_image.detach(),\n",
        "        fgsm_vis.detach()[0, :, :],\n",
        "        adv_image.detach()[0, :, :]\n",
        "    ]\n",
        "    labels_for_vis = [\"Original Image\", \"FGSM Noise\", \"Perturbed Image\"]\n",
        "\n",
        "    # setup figure with 3 columns and 1\n",
        "    ax = []\n",
        "    fig = plt.figure(figsize=(32, 32))\n",
        "    columns = 3\n",
        "    rows = 1\n",
        "\n",
        "    # visualization\n",
        "    plt.rcParams.update({'font.size': 22})\n",
        "    for i in range(1, columns * rows + 1):\n",
        "        ax.append(fig.add_subplot(rows, columns, i))\n",
        "        ax[-1].set_title(labels_for_vis[i - 1])\n",
        "        plt.imshow(np.transpose(images_list[i - 1], (1, 2, 0)))\n",
        "\n",
        "    plt.rcParams.update({'font.size': 12})\n",
        "    plt.show()"
      ],
      "execution_count": 0,
      "outputs": []
    },
    {
      "cell_type": "code",
      "metadata": {
        "ExecuteTime": {
          "end_time": "2020-03-05T00:37:28.900180Z",
          "start_time": "2020-03-05T00:37:28.703731Z"
        },
        "colab_type": "code",
        "id": "LB3oY2AhFwRS",
        "outputId": "21892028-a812-4a8c-90bd-ea9455c51836",
        "colab": {
          "base_uri": "https://localhost:8080/",
          "height": 51
        }
      },
      "source": [
        "print(\"Classes are: {}\\n\".format(test_dataset.classes))"
      ],
      "execution_count": 0,
      "outputs": [
        {
          "output_type": "stream",
          "text": [
            "Classes are: ['airplane', 'automobile', 'bird', 'cat', 'deer', 'dog', 'frog', 'horse', 'ship', 'truck']\n",
            "\n"
          ],
          "name": "stdout"
        }
      ]
    },
    {
      "cell_type": "code",
      "metadata": {
        "ExecuteTime": {
          "end_time": "2020-03-05T00:38:15.123581Z",
          "start_time": "2020-03-05T00:38:12.434212Z"
        },
        "colab_type": "code",
        "id": "BrS8Bdys4i-H",
        "outputId": "2b60e018-0579-4675-d187-23c27c7b710d",
        "scrolled": false,
        "colab": {
          "base_uri": "https://localhost:8080/",
          "height": 765
        }
      },
      "source": [
        "test_single_prediction(epsilon=0.02, model)"
      ],
      "execution_count": 0,
      "outputs": [
        {
          "output_type": "stream",
          "text": [
            "Clipping input data to the valid range for imshow with RGB data ([0..1] for floats or [0..255] for integers).\n",
            "Clipping input data to the valid range for imshow with RGB data ([0..1] for floats or [0..255] for integers).\n"
          ],
          "name": "stderr"
        },
        {
          "output_type": "stream",
          "text": [
            "True label is: 9 - truck\n",
            "    \n",
            "Before fgsm - Model prediction: 9 - truck with 100.00% Confidence\n",
            "    \n",
            "After fgsm - Model prediction: 9 - truck with 98.72% Confidence\n",
            "    \n"
          ],
          "name": "stdout"
        },
        {
          "output_type": "display_data",
          "data": {
            "image/png": "[encoded data removed]",
            "text/plain": [
              "<Figure size 2304x2304 with 3 Axes>"
            ]
          },
          "metadata": {
            "tags": []
          }
        }
      ]
    },
    {
      "cell_type": "code",
      "metadata": {
        "ExecuteTime": {
          "end_time": "2020-03-05T00:40:14.550367Z",
          "start_time": "2020-03-05T00:40:12.085995Z"
        },
        "colab_type": "code",
        "id": "pJ2XqsQWpwll",
        "outputId": "7eb1df03-21f8-4147-89bc-549fb4f56097",
        "colab": {
          "base_uri": "https://localhost:8080/",
          "height": 765
        }
      },
      "source": [
        "test_single_prediction(epsilon=0.1, model)"
      ],
      "execution_count": 0,
      "outputs": [
        {
          "output_type": "stream",
          "text": [
            "Clipping input data to the valid range for imshow with RGB data ([0..1] for floats or [0..255] for integers).\n",
            "Clipping input data to the valid range for imshow with RGB data ([0..1] for floats or [0..255] for integers).\n"
          ],
          "name": "stderr"
        },
        {
          "output_type": "stream",
          "text": [
            "True label is: 4 - deer\n",
            "    \n",
            "Before fgsm - Model prediction: 4 - deer with 99.94% Confidence\n",
            "    \n",
            "After fgsm - Model prediction: 2 - bird with 99.97% Confidence\n",
            "    \n"
          ],
          "name": "stdout"
        },
        {
          "output_type": "display_data",
          "data": {
            "image/png": "[encoded data removed]",
            "text/plain": [
              "<Figure size 2304x2304 with 3 Axes>"
            ]
          },
          "metadata": {
            "tags": []
          }
        }
      ]
    },
    {
      "cell_type": "markdown",
      "metadata": {
        "id": "TnoGAW0VRWPq",
        "colab_type": "text"
      },
      "source": [
        "## Test model with fgsm attacks on entire testing dataset"
      ]
    },
    {
      "cell_type": "code",
      "metadata": {
        "ExecuteTime": {
          "end_time": "2020-03-05T00:38:20.183365Z",
          "start_time": "2020-03-05T00:38:19.966050Z"
        },
        "colab_type": "code",
        "id": "4HLy1zRB4i-V",
        "colab": {}
      },
      "source": [
        "def test_fgsm(model, device, test_loader1, epsilon):\n",
        "    \"\"\"given value of epsilon, determine prediction accuracy on test set\n",
        "    without and without perturbation\"\"\"\n",
        "    \n",
        "    device = torch.device('cpu')\n",
        "    model.to(device)\n",
        "    model.eval()\n",
        "\n",
        "    # Accuracy counter\n",
        "    correct = 0\n",
        "    adv_examples = []\n",
        "\n",
        "    # Loop over all examples in test set\n",
        "    for images, labels in test_loader1:\n",
        "\n",
        "        # Send the data and label to the device\n",
        "        images, labels = images.to(device), labels.to(device)\n",
        "\n",
        "        # Set requires_grad attribute of tensor. Important for Attack\n",
        "        images.requires_grad = True\n",
        "\n",
        "        # Forward pass the data through the model\n",
        "        output = model(images)\n",
        "        init_pred = output.max(\n",
        "            1, keepdim=True)[1]  # get the index of the max log-probability\n",
        "\n",
        "        # If the initial prediction is wrong, dont bother attacking, just move on\n",
        "        if init_pred.item() != labels.item():\n",
        "            continue\n",
        "\n",
        "        # Calculate the loss\n",
        "        loss = criterion(output, labels)\n",
        "\n",
        "        # Zero all existing gradients\n",
        "        model.zero_grad()\n",
        "\n",
        "        # Calculate gradients of model in backward pass\n",
        "        loss.backward()\n",
        "\n",
        "        # Collect datagrad\n",
        "        images_gradient = images.grad.data\n",
        "\n",
        "        # Call FGSM Attack\n",
        "        perturbed_data = fgsm(images, epsilon, images_gradient)\n",
        "\n",
        "        # Re-classify the perturbed image\n",
        "        output = model(perturbed_data)\n",
        "\n",
        "        # Check for success\n",
        "        final_pred = output.max(\n",
        "            1, keepdim=True)[1]  # get the index of the max log-probability\n",
        "        if final_pred.item() == labels.item():\n",
        "            correct += 1\n",
        "            # Special case for saving 0 epsilon examples\n",
        "            if (epsilon == 0) and (len(adv_examples) < 5):\n",
        "                adv_ex = perturbed_data.squeeze().detach().cpu().numpy()\n",
        "                adv_examples.append(\n",
        "                    (init_pred.item(), final_pred.item(), adv_ex))\n",
        "        else:\n",
        "            # Save some adv examples for visualization later\n",
        "            if len(adv_examples) < 5:\n",
        "                adv_ex = perturbed_data.squeeze().detach().cpu().numpy()\n",
        "                adv_examples.append(\n",
        "                    (init_pred.item(), final_pred.item(), adv_ex))\n",
        "\n",
        "    # Calculate final accuracy for this epsilon\n",
        "    final_acc = correct / float(len(test_loader1))\n",
        "    print(\"Epsilon: {}\\tTest Accuracy = {} / {} = {}\".format(\n",
        "        epsilon, correct, len(test_loader1), final_acc))\n",
        "\n",
        "    # Return the accuracy and an adversarial example\n",
        "    return final_acc, adv_examples"
      ],
      "execution_count": 0,
      "outputs": []
    },
    {
      "cell_type": "code",
      "metadata": {
        "id": "UwyglKIsRWPw",
        "colab_type": "code",
        "colab": {}
      },
      "source": [
        "# List of epsilon values to test\n",
        "epsilon = np.array((0,1,2,3,4,5,6,7,8,9,10))/255"
      ],
      "execution_count": 0,
      "outputs": []
    },
    {
      "cell_type": "code",
      "metadata": {
        "ExecuteTime": {
          "end_time": "2020-03-03T19:15:19.306340Z",
          "start_time": "2020-03-03T18:56:52.266743Z"
        },
        "colab_type": "code",
        "id": "8hh0fubC4i-b",
        "outputId": "bc8f5e32-6b04-44e6-e6de-341ab6b4db44",
        "colab": {
          "base_uri": "https://localhost:8080/",
          "height": 51
        }
      },
      "source": [
        "accuracies = []\n",
        "examples = []\n",
        "\n",
        "# Run test for each epsilon\n",
        "for eps in epsilon:\n",
        "    acc, ex = test_fgsm(model, device, test_loader1, eps)\n",
        "    accuracies.append(acc)\n",
        "    examples.append(ex)"
      ],
      "execution_count": 0,
      "outputs": [
        {
          "output_type": "stream",
          "text": [
            "Epsilon: 0\tTest Accuracy = 8416 / 10000 = 0.8416\n",
            "Epsilon: 0.02\tTest Accuracy = 6933 / 10000 = 0.6933\n"
          ],
          "name": "stdout"
        }
      ]
    },
    {
      "cell_type": "code",
      "metadata": {
        "ExecuteTime": {
          "end_time": "2020-03-03T19:16:56.826262Z",
          "start_time": "2020-03-03T19:16:56.666353Z"
        },
        "colab_type": "code",
        "id": "2vtp5b_a4i-g",
        "colab": {}
      },
      "source": [
        "# visualization of epsilon vs test accuracy\n",
        "plt.figure(figsize=(5, 5))\n",
        "plt.plot(epsilon, accuracies, \"*-\")\n",
        "plt.yticks(np.arange(0, 0.4, step=0.1))\n",
        "plt.xticks(np.arange(0.05, 0.11, step=0.01))\n",
        "plt.title(\"Accuracy vs Epsilon\")\n",
        "plt.xlabel(\"Epsilon\")\n",
        "plt.ylabel(\"Accuracy\")\n",
        "plt.show()"
      ],
      "execution_count": 0,
      "outputs": []
    },
    {
      "cell_type": "markdown",
      "metadata": {
        "id": "JWg3Vg12RWQC",
        "colab_type": "text"
      },
      "source": [
        "# Defending From Adversarial Attacks"
      ]
    },
    {
      "cell_type": "markdown",
      "metadata": {
        "id": "q8xNvbcMRWQF",
        "colab_type": "text"
      },
      "source": [
        "## Set or load robust model"
      ]
    },
    {
      "cell_type": "code",
      "metadata": {
        "colab_type": "code",
        "id": "XOv_Rsd-K-eP",
        "colab": {}
      },
      "source": [
        "# Use this cell if training a new model\n",
        "model_robust = Neural_Network()\n",
        "device = cpu_or_gpu()\n",
        "model.to(device)"
      ],
      "execution_count": 0,
      "outputs": []
    },
    {
      "cell_type": "code",
      "metadata": {
        "id": "ztOpOYR2RWQM",
        "colab_type": "code",
        "colab": {}
      },
      "source": [
        "# Use this cell if loading a saved model\n",
        "model = Neural_Network()\n",
        "device = cpu_or_gpu()\n",
        "model.to(device)\n",
        "model.load_state_dict(\n",
        "    torch.load(\"finalmodelwithmaxdrop\"))\n",
        "               #Conv-NN-ReLU-88.5testaccuracy\"))  # <------- Insert path of saved model as string here\n",
        "\n",
        "model.eval()"
      ],
      "execution_count": 0,
      "outputs": []
    },
    {
      "cell_type": "code",
      "metadata": {
        "id": "I2-wPnYERWQT",
        "colab_type": "code",
        "colab": {}
      },
      "source": [
        "# Summary of layers, output shape, parameters, and size\n",
        "summary(model, input_size=(3, 32, 32))"
      ],
      "execution_count": 0,
      "outputs": []
    },
    {
      "cell_type": "markdown",
      "metadata": {
        "id": "73qIArCwRWQY",
        "colab_type": "text"
      },
      "source": [
        "## Robust training function"
      ]
    },
    {
      "cell_type": "code",
      "metadata": {
        "colab_type": "code",
        "id": "7d8rCEToLmPi",
        "colab": {}
      },
      "source": [
        "def train_robust():\n",
        "\n",
        "    # Initial hyperparameters\n",
        "    number_of_epochs = 100\n",
        "    step_size = 0.01\n",
        "    momentum_parameter = 0.9\n",
        "    lambda1 = 0.001\n",
        "\n",
        "    # L2 Regularization\n",
        "    all_linear1_params = torch.cat(\n",
        "        [x.view(-1) for x in model.fc1.parameters()])\n",
        "    l2_regularization = lambda1 * torch.norm(all_linear1_params, 1)\n",
        "\n",
        "    # Initialize optimiser\n",
        "    optimiser = optim.SGD(model.parameters(),\n",
        "                          lr=step_size,\n",
        "                          momentum=momentum_parameter)\n",
        "\n",
        "    # initialize lists for running counts of loss and accuracy\n",
        "    running_loss = []\n",
        "    running_val_loss = []\n",
        "    running_loss_robust = []\n",
        "    running_training_accuracy = []\n",
        "    running_training_accuracy.append(0)\n",
        "    running_val_accuracy = []\n",
        "    running_val_accuracy.append(0)\n",
        "\n",
        "    print(\"Log -- Step size: {}, Momentum: {}, batch_size = {}\".format(\n",
        "        step_size, momentum_parameter, train_batch_size))\n",
        "    \n",
        "    # loop for epochs\n",
        "    for k in range(number_of_epochs):\n",
        "        model.train()\n",
        "        device = cpu_or_gpu()\n",
        "        model.to(device)\n",
        "\n",
        "        # initialize epoch loss and training accuracy\n",
        "        epoch_loss = 0\n",
        "        epoch_loss_robust = 0\n",
        "        training_accuracy = 0\n",
        "\n",
        "\n",
        "        # handle reducing step size at various iterations\n",
        "\n",
        "        step_size = reduce_step_size(iteration_cutoff=10,\n",
        "                                     old_step_size=step_size,\n",
        "                                     new_step_size=0.001,\n",
        "                                     epoch=k)\n",
        "\n",
        "        optimiser = optim.SGD(model.parameters(),\n",
        "                              lr=step_size,\n",
        "                              momentum=momentum_parameter)\n",
        "\n",
        "        # Main Training Loop\n",
        "        for j, (images, labels) in enumerate(train_loader):\n",
        "            images, labels = images.to(device), labels.to(device)\n",
        "            images.requires_grad = True\n",
        "            \n",
        "             # pass inputs through model one time to get regular model loss\n",
        "            optimiser.zero_grad()\n",
        "            outputs = model(images)\n",
        "            loss = criterion(outputs, labels)+ (l2_regularization/len(images))\n",
        "            loss.backward(retain_graph=True)\n",
        "            \n",
        "            # with probablity p=0.5, perturb images using random epsilon between 0 and 0.3\n",
        "            probability = int(np.random.randint(1,10,1))\n",
        "            if probability > 5:\n",
        "              images = fgsm(images, int(np.random.randint(1,100,1))*0.03, images.grad.sign())\n",
        "            \n",
        "            # pass new inputs through model a second time to get robust model loss\n",
        "            optimiser.zero_grad()\n",
        "            outputs = model(images)\n",
        "            loss_robust = criterion(outputs, labels) + (l2_regularization/len(images))\n",
        "            loss_robust.backward(retain_graph=True)\n",
        "            optimiser.step()\n",
        "\n",
        "            epoch_loss += loss.item()\n",
        "            epoch_loss_robust += loss_robust.item()\n",
        "            training_accuracy += accuracy(outputs, labels)\n",
        "\n",
        "        # Caclulate average loss and accuracy for each epoch\n",
        "        running_loss.append(epoch_loss / len(train_loader))\n",
        "        running_loss_robust.append(epoch_loss_robust / len(train_loader))\n",
        "        running_training_accuracy.append(training_accuracy / len(train_loader))\n",
        "\n",
        "        # Validation test once per epoch\n",
        "        device = torch.device('cpu')\n",
        "        model.eval()\n",
        "        model.to(device)\n",
        "        val_images, val_labels = iter(val_loader).next()\n",
        "        val_images, val_labels = val_images.to(device), val_labels.to(device)\n",
        "        val_outputs = model(val_images) + (l2_regularization/len(val_images))\n",
        "        val_loss = criterion(val_outputs, val_labels).item()\n",
        "\n",
        "        # Store validation loss and accuracy\n",
        "        running_val_loss.append(val_loss)\n",
        "        val_accuracy = accuracy(val_outputs, val_labels)\n",
        "        running_val_accuracy.append(val_accuracy)\n",
        "        \n",
        "        # Running log\n",
        "        if k % 1 == 0:\n",
        "            print(\n",
        "                \"Epoch {a}/{b} -> Tr. Loss (Original) = {c:.4f}, Tr. Loss (Robust) = {g:.4f} Val. Loss = {d:.4f}, Tr. Acc = {e:.2f}, Val. Acc = {f:.2f}\"\n",
        "                .format(a=k,\n",
        "                        b=number_of_epochs,\n",
        "                        c=running_loss[-1],\n",
        "                        d=running_val_loss[-1],\n",
        "                        e=running_training_accuracy[-1],\n",
        "                        f=running_val_accuracy[-1]\n",
        "                        g=running_loss_robust[-1]))\n",
        "        \n",
        "        # Break condition (validation loss is rising)\n",
        "        \"\"\"if len(running_val_loss) > 30 and running_val_loss[-1] - running_val_loss[-30] > 0:\n",
        "            break\"\"\"\n",
        "\n",
        "    print(\"Final Epoch {} -> Loss = {}\".format(k, running_loss_robust[-1]))\n",
        "\n",
        "    return running_loss, running_loss_robust, running_val_loss, running_training_accuracy, running_val_accuracy"
      ],
      "execution_count": 0,
      "outputs": []
    },
    {
      "cell_type": "code",
      "metadata": {
        "colab_type": "code",
        "id": "GkaPA3zHaszi",
        "outputId": "e3ee3364-e277-4d74-c66f-c8c4d133b455",
        "colab": {
          "base_uri": "https://localhost:8080/",
          "height": 715
        }
      },
      "source": [
        "running_loss1, running_loss_robust, running_val_loss1, running_training_accuracy1, running_val_accuracy1 = train_robust()"
      ],
      "execution_count": 0,
      "outputs": [
        {
          "output_type": "stream",
          "text": [
            "Log -- Step size: 0.01, Momentum: 0.9, batch_size = 32\n",
            "Epoch 0/100 -> Tr. Loss = 1.8173, Val. Loss = 1.4291, Tr. Acc = 32.00, Val. Acc = 46.02\n",
            "Epoch 1/100 -> Tr. Loss = 1.3706, Val. Loss = 1.1677, Tr. Acc = 50.36, Val. Acc = 58.26\n",
            "Epoch 2/100 -> Tr. Loss = 1.1548, Val. Loss = 0.9418, Tr. Acc = 58.74, Val. Acc = 66.88\n",
            "Epoch 3/100 -> Tr. Loss = 1.0452, Val. Loss = 0.8227, Tr. Acc = 62.91, Val. Acc = 71.02\n",
            "Epoch 4/100 -> Tr. Loss = 0.9597, Val. Loss = 0.7760, Tr. Acc = 66.21, Val. Acc = 73.40\n",
            "Epoch 5/100 -> Tr. Loss = 0.8935, Val. Loss = 0.7362, Tr. Acc = 68.66, Val. Acc = 74.42\n",
            "Epoch 6/100 -> Tr. Loss = 0.8437, Val. Loss = 0.7332, Tr. Acc = 70.38, Val. Acc = 73.60\n",
            "Epoch 7/100 -> Tr. Loss = 0.8119, Val. Loss = 0.7099, Tr. Acc = 71.53, Val. Acc = 74.48\n",
            "Epoch 8/100 -> Tr. Loss = 0.7777, Val. Loss = 0.6595, Tr. Acc = 72.63, Val. Acc = 77.36\n",
            "Epoch 9/100 -> Tr. Loss = 0.7550, Val. Loss = 0.6434, Tr. Acc = 73.47, Val. Acc = 76.92\n",
            "Log -- Decreased Step size from 0.01 to 0.001\n",
            "Epoch 10/100 -> Tr. Loss = 0.6090, Val. Loss = 0.5271, Tr. Acc = 78.66, Val. Acc = 81.12\n",
            "Epoch 11/100 -> Tr. Loss = 0.5632, Val. Loss = 0.5282, Tr. Acc = 80.38, Val. Acc = 81.08\n",
            "Epoch 12/100 -> Tr. Loss = 0.5587, Val. Loss = 0.5188, Tr. Acc = 80.34, Val. Acc = 81.48\n",
            "Epoch 13/100 -> Tr. Loss = 0.5481, Val. Loss = 0.5153, Tr. Acc = 80.59, Val. Acc = 81.72\n",
            "Epoch 14/100 -> Tr. Loss = 0.5315, Val. Loss = 0.5124, Tr. Acc = 81.34, Val. Acc = 81.94\n",
            "Epoch 15/100 -> Tr. Loss = 0.5231, Val. Loss = 0.4945, Tr. Acc = 81.54, Val. Acc = 82.58\n",
            "Epoch 16/100 -> Tr. Loss = 0.5029, Val. Loss = 0.4986, Tr. Acc = 82.33, Val. Acc = 82.14\n",
            "Epoch 17/100 -> Tr. Loss = 0.5061, Val. Loss = 0.5005, Tr. Acc = 82.09, Val. Acc = 82.42\n",
            "Epoch 18/100 -> Tr. Loss = 0.5023, Val. Loss = 0.4976, Tr. Acc = 82.18, Val. Acc = 82.58\n",
            "Epoch 19/100 -> Tr. Loss = 0.4878, Val. Loss = 0.4878, Tr. Acc = 82.88, Val. Acc = 83.00\n",
            "Epoch 20/100 -> Tr. Loss = 0.4768, Val. Loss = 0.4837, Tr. Acc = 83.24, Val. Acc = 82.50\n",
            "Epoch 21/100 -> Tr. Loss = 0.4728, Val. Loss = 0.4814, Tr. Acc = 83.28, Val. Acc = 82.54\n"
          ],
          "name": "stdout"
        },
        {
          "output_type": "error",
          "ename": "KeyboardInterrupt",
          "evalue": "ignored",
          "traceback": [
            "\u001b[0;31m---------------------------------------------------------------------------\u001b[0m",
            "\u001b[0;31mKeyboardInterrupt\u001b[0m                         Traceback (most recent call last)",
            "\u001b[0;32m<ipython-input-32-19bf243fb5c5>\u001b[0m in \u001b[0;36m<module>\u001b[0;34m()\u001b[0m\n\u001b[0;32m----> 1\u001b[0;31m \u001b[0mrunning_loss1\u001b[0m\u001b[0;34m,\u001b[0m \u001b[0mrunning_val_loss1\u001b[0m\u001b[0;34m,\u001b[0m \u001b[0mrunning_training_accuracy1\u001b[0m\u001b[0;34m,\u001b[0m \u001b[0mrunning_val_accuracy1\u001b[0m \u001b[0;34m=\u001b[0m \u001b[0mtrain_robust\u001b[0m\u001b[0;34m(\u001b[0m\u001b[0;34m)\u001b[0m\u001b[0;34m\u001b[0m\u001b[0;34m\u001b[0m\u001b[0m\n\u001b[0m",
            "\u001b[0;32m<ipython-input-31-ce3e016c7b29>\u001b[0m in \u001b[0;36mtrain_robust\u001b[0;34m()\u001b[0m\n\u001b[1;32m     83\u001b[0m         \u001b[0mval_images\u001b[0m\u001b[0;34m,\u001b[0m \u001b[0mval_labels\u001b[0m \u001b[0;34m=\u001b[0m \u001b[0miter\u001b[0m\u001b[0;34m(\u001b[0m\u001b[0mval_loader\u001b[0m\u001b[0;34m)\u001b[0m\u001b[0;34m.\u001b[0m\u001b[0mnext\u001b[0m\u001b[0;34m(\u001b[0m\u001b[0;34m)\u001b[0m\u001b[0;34m\u001b[0m\u001b[0;34m\u001b[0m\u001b[0m\n\u001b[1;32m     84\u001b[0m         \u001b[0mval_images\u001b[0m\u001b[0;34m,\u001b[0m \u001b[0mval_labels\u001b[0m \u001b[0;34m=\u001b[0m \u001b[0mval_images\u001b[0m\u001b[0;34m.\u001b[0m\u001b[0mto\u001b[0m\u001b[0;34m(\u001b[0m\u001b[0mdevice\u001b[0m\u001b[0;34m)\u001b[0m\u001b[0;34m,\u001b[0m \u001b[0mval_labels\u001b[0m\u001b[0;34m.\u001b[0m\u001b[0mto\u001b[0m\u001b[0;34m(\u001b[0m\u001b[0mdevice\u001b[0m\u001b[0;34m)\u001b[0m\u001b[0;34m\u001b[0m\u001b[0;34m\u001b[0m\u001b[0m\n\u001b[0;32m---> 85\u001b[0;31m         \u001b[0mval_outputs\u001b[0m \u001b[0;34m=\u001b[0m \u001b[0mmodel\u001b[0m\u001b[0;34m(\u001b[0m\u001b[0mval_images\u001b[0m\u001b[0;34m)\u001b[0m \u001b[0;34m+\u001b[0m \u001b[0;34m(\u001b[0m\u001b[0ml2_regularization\u001b[0m\u001b[0;34m/\u001b[0m\u001b[0mlen\u001b[0m\u001b[0;34m(\u001b[0m\u001b[0mval_images\u001b[0m\u001b[0;34m)\u001b[0m\u001b[0;34m)\u001b[0m\u001b[0;34m\u001b[0m\u001b[0;34m\u001b[0m\u001b[0m\n\u001b[0m\u001b[1;32m     86\u001b[0m         \u001b[0mval_loss\u001b[0m \u001b[0;34m=\u001b[0m \u001b[0mcriterion\u001b[0m\u001b[0;34m(\u001b[0m\u001b[0mval_outputs\u001b[0m\u001b[0;34m,\u001b[0m \u001b[0mval_labels\u001b[0m\u001b[0;34m)\u001b[0m\u001b[0;34m.\u001b[0m\u001b[0mitem\u001b[0m\u001b[0;34m(\u001b[0m\u001b[0;34m)\u001b[0m\u001b[0;34m\u001b[0m\u001b[0;34m\u001b[0m\u001b[0m\n\u001b[1;32m     87\u001b[0m \u001b[0;34m\u001b[0m\u001b[0m\n",
            "\u001b[0;32m/usr/local/lib/python3.6/dist-packages/torch/nn/modules/module.py\u001b[0m in \u001b[0;36m__call__\u001b[0;34m(self, *input, **kwargs)\u001b[0m\n\u001b[1;32m    530\u001b[0m             \u001b[0mresult\u001b[0m \u001b[0;34m=\u001b[0m \u001b[0mself\u001b[0m\u001b[0;34m.\u001b[0m\u001b[0m_slow_forward\u001b[0m\u001b[0;34m(\u001b[0m\u001b[0;34m*\u001b[0m\u001b[0minput\u001b[0m\u001b[0;34m,\u001b[0m \u001b[0;34m**\u001b[0m\u001b[0mkwargs\u001b[0m\u001b[0;34m)\u001b[0m\u001b[0;34m\u001b[0m\u001b[0;34m\u001b[0m\u001b[0m\n\u001b[1;32m    531\u001b[0m         \u001b[0;32melse\u001b[0m\u001b[0;34m:\u001b[0m\u001b[0;34m\u001b[0m\u001b[0;34m\u001b[0m\u001b[0m\n\u001b[0;32m--> 532\u001b[0;31m             \u001b[0mresult\u001b[0m \u001b[0;34m=\u001b[0m \u001b[0mself\u001b[0m\u001b[0;34m.\u001b[0m\u001b[0mforward\u001b[0m\u001b[0;34m(\u001b[0m\u001b[0;34m*\u001b[0m\u001b[0minput\u001b[0m\u001b[0;34m,\u001b[0m \u001b[0;34m**\u001b[0m\u001b[0mkwargs\u001b[0m\u001b[0;34m)\u001b[0m\u001b[0;34m\u001b[0m\u001b[0;34m\u001b[0m\u001b[0m\n\u001b[0m\u001b[1;32m    533\u001b[0m         \u001b[0;32mfor\u001b[0m \u001b[0mhook\u001b[0m \u001b[0;32min\u001b[0m \u001b[0mself\u001b[0m\u001b[0;34m.\u001b[0m\u001b[0m_forward_hooks\u001b[0m\u001b[0;34m.\u001b[0m\u001b[0mvalues\u001b[0m\u001b[0;34m(\u001b[0m\u001b[0;34m)\u001b[0m\u001b[0;34m:\u001b[0m\u001b[0;34m\u001b[0m\u001b[0;34m\u001b[0m\u001b[0m\n\u001b[1;32m    534\u001b[0m             \u001b[0mhook_result\u001b[0m \u001b[0;34m=\u001b[0m \u001b[0mhook\u001b[0m\u001b[0;34m(\u001b[0m\u001b[0mself\u001b[0m\u001b[0;34m,\u001b[0m \u001b[0minput\u001b[0m\u001b[0;34m,\u001b[0m \u001b[0mresult\u001b[0m\u001b[0;34m)\u001b[0m\u001b[0;34m\u001b[0m\u001b[0;34m\u001b[0m\u001b[0m\n",
            "\u001b[0;32m<ipython-input-22-ba756d5ad3fb>\u001b[0m in \u001b[0;36mforward\u001b[0;34m(self, x)\u001b[0m\n\u001b[1;32m     26\u001b[0m         \u001b[0mx\u001b[0m \u001b[0;34m=\u001b[0m \u001b[0mself\u001b[0m\u001b[0;34m.\u001b[0m\u001b[0mactiv1\u001b[0m\u001b[0;34m(\u001b[0m\u001b[0mself\u001b[0m\u001b[0;34m.\u001b[0m\u001b[0mconv2\u001b[0m\u001b[0;34m(\u001b[0m\u001b[0mx\u001b[0m\u001b[0;34m)\u001b[0m\u001b[0;34m)\u001b[0m\u001b[0;34m\u001b[0m\u001b[0;34m\u001b[0m\u001b[0m\n\u001b[1;32m     27\u001b[0m         \u001b[0mx\u001b[0m \u001b[0;34m=\u001b[0m \u001b[0mself\u001b[0m\u001b[0;34m.\u001b[0m\u001b[0mpool\u001b[0m\u001b[0;34m(\u001b[0m\u001b[0mx\u001b[0m\u001b[0;34m)\u001b[0m\u001b[0;34m\u001b[0m\u001b[0;34m\u001b[0m\u001b[0m\n\u001b[0;32m---> 28\u001b[0;31m         \u001b[0mx\u001b[0m \u001b[0;34m=\u001b[0m \u001b[0mself\u001b[0m\u001b[0;34m.\u001b[0m\u001b[0mactiv1\u001b[0m\u001b[0;34m(\u001b[0m\u001b[0mself\u001b[0m\u001b[0;34m.\u001b[0m\u001b[0mconv3\u001b[0m\u001b[0;34m(\u001b[0m\u001b[0mx\u001b[0m\u001b[0;34m)\u001b[0m\u001b[0;34m)\u001b[0m\u001b[0;34m\u001b[0m\u001b[0;34m\u001b[0m\u001b[0m\n\u001b[0m\u001b[1;32m     29\u001b[0m         \u001b[0mx\u001b[0m \u001b[0;34m=\u001b[0m \u001b[0mself\u001b[0m\u001b[0;34m.\u001b[0m\u001b[0mpool\u001b[0m\u001b[0;34m(\u001b[0m\u001b[0mx\u001b[0m\u001b[0;34m)\u001b[0m\u001b[0;34m\u001b[0m\u001b[0;34m\u001b[0m\u001b[0m\n\u001b[1;32m     30\u001b[0m         \u001b[0mx\u001b[0m \u001b[0;34m=\u001b[0m \u001b[0mself\u001b[0m\u001b[0;34m.\u001b[0m\u001b[0mactiv1\u001b[0m\u001b[0;34m(\u001b[0m\u001b[0mself\u001b[0m\u001b[0;34m.\u001b[0m\u001b[0mconv4\u001b[0m\u001b[0;34m(\u001b[0m\u001b[0mx\u001b[0m\u001b[0;34m)\u001b[0m\u001b[0;34m)\u001b[0m\u001b[0;34m\u001b[0m\u001b[0;34m\u001b[0m\u001b[0m\n",
            "\u001b[0;32m/usr/local/lib/python3.6/dist-packages/torch/nn/modules/module.py\u001b[0m in \u001b[0;36m__call__\u001b[0;34m(self, *input, **kwargs)\u001b[0m\n\u001b[1;32m    530\u001b[0m             \u001b[0mresult\u001b[0m \u001b[0;34m=\u001b[0m \u001b[0mself\u001b[0m\u001b[0;34m.\u001b[0m\u001b[0m_slow_forward\u001b[0m\u001b[0;34m(\u001b[0m\u001b[0;34m*\u001b[0m\u001b[0minput\u001b[0m\u001b[0;34m,\u001b[0m \u001b[0;34m**\u001b[0m\u001b[0mkwargs\u001b[0m\u001b[0;34m)\u001b[0m\u001b[0;34m\u001b[0m\u001b[0;34m\u001b[0m\u001b[0m\n\u001b[1;32m    531\u001b[0m         \u001b[0;32melse\u001b[0m\u001b[0;34m:\u001b[0m\u001b[0;34m\u001b[0m\u001b[0;34m\u001b[0m\u001b[0m\n\u001b[0;32m--> 532\u001b[0;31m             \u001b[0mresult\u001b[0m \u001b[0;34m=\u001b[0m \u001b[0mself\u001b[0m\u001b[0;34m.\u001b[0m\u001b[0mforward\u001b[0m\u001b[0;34m(\u001b[0m\u001b[0;34m*\u001b[0m\u001b[0minput\u001b[0m\u001b[0;34m,\u001b[0m \u001b[0;34m**\u001b[0m\u001b[0mkwargs\u001b[0m\u001b[0;34m)\u001b[0m\u001b[0;34m\u001b[0m\u001b[0;34m\u001b[0m\u001b[0m\n\u001b[0m\u001b[1;32m    533\u001b[0m         \u001b[0;32mfor\u001b[0m \u001b[0mhook\u001b[0m \u001b[0;32min\u001b[0m \u001b[0mself\u001b[0m\u001b[0;34m.\u001b[0m\u001b[0m_forward_hooks\u001b[0m\u001b[0;34m.\u001b[0m\u001b[0mvalues\u001b[0m\u001b[0;34m(\u001b[0m\u001b[0;34m)\u001b[0m\u001b[0;34m:\u001b[0m\u001b[0;34m\u001b[0m\u001b[0;34m\u001b[0m\u001b[0m\n\u001b[1;32m    534\u001b[0m             \u001b[0mhook_result\u001b[0m \u001b[0;34m=\u001b[0m \u001b[0mhook\u001b[0m\u001b[0;34m(\u001b[0m\u001b[0mself\u001b[0m\u001b[0;34m,\u001b[0m \u001b[0minput\u001b[0m\u001b[0;34m,\u001b[0m \u001b[0mresult\u001b[0m\u001b[0;34m)\u001b[0m\u001b[0;34m\u001b[0m\u001b[0;34m\u001b[0m\u001b[0m\n",
            "\u001b[0;32m/usr/local/lib/python3.6/dist-packages/torch/nn/modules/conv.py\u001b[0m in \u001b[0;36mforward\u001b[0;34m(self, input)\u001b[0m\n\u001b[1;32m    343\u001b[0m \u001b[0;34m\u001b[0m\u001b[0m\n\u001b[1;32m    344\u001b[0m     \u001b[0;32mdef\u001b[0m \u001b[0mforward\u001b[0m\u001b[0;34m(\u001b[0m\u001b[0mself\u001b[0m\u001b[0;34m,\u001b[0m \u001b[0minput\u001b[0m\u001b[0;34m)\u001b[0m\u001b[0;34m:\u001b[0m\u001b[0;34m\u001b[0m\u001b[0;34m\u001b[0m\u001b[0m\n\u001b[0;32m--> 345\u001b[0;31m         \u001b[0;32mreturn\u001b[0m \u001b[0mself\u001b[0m\u001b[0;34m.\u001b[0m\u001b[0mconv2d_forward\u001b[0m\u001b[0;34m(\u001b[0m\u001b[0minput\u001b[0m\u001b[0;34m,\u001b[0m \u001b[0mself\u001b[0m\u001b[0;34m.\u001b[0m\u001b[0mweight\u001b[0m\u001b[0;34m)\u001b[0m\u001b[0;34m\u001b[0m\u001b[0;34m\u001b[0m\u001b[0m\n\u001b[0m\u001b[1;32m    346\u001b[0m \u001b[0;34m\u001b[0m\u001b[0m\n\u001b[1;32m    347\u001b[0m \u001b[0;32mclass\u001b[0m \u001b[0mConv3d\u001b[0m\u001b[0;34m(\u001b[0m\u001b[0m_ConvNd\u001b[0m\u001b[0;34m)\u001b[0m\u001b[0;34m:\u001b[0m\u001b[0;34m\u001b[0m\u001b[0;34m\u001b[0m\u001b[0m\n",
            "\u001b[0;32m/usr/local/lib/python3.6/dist-packages/torch/nn/modules/conv.py\u001b[0m in \u001b[0;36mconv2d_forward\u001b[0;34m(self, input, weight)\u001b[0m\n\u001b[1;32m    340\u001b[0m                             _pair(0), self.dilation, self.groups)\n\u001b[1;32m    341\u001b[0m         return F.conv2d(input, weight, self.bias, self.stride,\n\u001b[0;32m--> 342\u001b[0;31m                         self.padding, self.dilation, self.groups)\n\u001b[0m\u001b[1;32m    343\u001b[0m \u001b[0;34m\u001b[0m\u001b[0m\n\u001b[1;32m    344\u001b[0m     \u001b[0;32mdef\u001b[0m \u001b[0mforward\u001b[0m\u001b[0;34m(\u001b[0m\u001b[0mself\u001b[0m\u001b[0;34m,\u001b[0m \u001b[0minput\u001b[0m\u001b[0;34m)\u001b[0m\u001b[0;34m:\u001b[0m\u001b[0;34m\u001b[0m\u001b[0;34m\u001b[0m\u001b[0m\n",
            "\u001b[0;31mKeyboardInterrupt\u001b[0m: "
          ]
        }
      ]
    },
    {
      "cell_type": "code",
      "metadata": {
        "colab_type": "code",
        "id": "f3TlA1PWeaHv",
        "colab": {}
      },
      "source": [
        "test_on_testing_data()"
      ],
      "execution_count": 0,
      "outputs": []
    },
    {
      "cell_type": "code",
      "metadata": {
        "id": "iKkBJlHbRWQo",
        "colab_type": "code",
        "colab": {}
      },
      "source": [
        "# For saving neural network parameters\n",
        "torch.save(model_robust.state_dict(), \n",
        "           \"ourmodel96percentaccuracy\")  # <----- make sure to update the path if saving new model"
      ],
      "execution_count": 0,
      "outputs": []
    },
    {
      "cell_type": "code",
      "metadata": {
        "id": "4x6hOVJaRWQt",
        "colab_type": "code",
        "colab": {}
      },
      "source": [
        "accuracies_robust = []\n",
        "examples_robust = []\n",
        "\n",
        "# Run test for each epsilon\n",
        "for eps in epsilon:\n",
        "    acc_robust, ex_robust = test_fgsm(model_robust, device, test_loader1, eps)\n",
        "    accuracies_robust.append(acc)\n",
        "    examples_robust.append(ex)"
      ],
      "execution_count": 0,
      "outputs": []
    }
  ]
}
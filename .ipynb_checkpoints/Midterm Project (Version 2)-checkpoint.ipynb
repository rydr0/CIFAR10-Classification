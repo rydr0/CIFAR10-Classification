{
 "cells": [
  {
   "cell_type": "markdown",
   "metadata": {},
   "source": [
    "# Identifying objects in images.\n",
    "## 1st dataset to try: CIFAR 10"
   ]
  },
  {
   "cell_type": "markdown",
   "metadata": {},
   "source": [
    "Starting lines and imports"
   ]
  },
  {
   "cell_type": "code",
   "execution_count": 52,
   "metadata": {},
   "outputs": [
    {
     "name": "stdout",
     "output_type": "stream",
     "text": [
      "The autoreload extension is already loaded. To reload it, use:\n",
      "  %reload_ext autoreload\n"
     ]
    }
   ],
   "source": [
    "%matplotlib inline\n",
    "import numpy as np\n",
    "\n",
    "import matplotlib.pyplot as plt\n",
    "\n",
    "import torch\n",
    "import torch.nn as nn\n",
    "import torch.optim as optim\n",
    "from torch.autograd import Variable\n",
    "\n",
    "import torchvision\n",
    "import torchvision.transforms as transforms\n",
    "from torchvision import datasets, transforms\n",
    "\n",
    "%load_ext autoreload\n",
    "%autoreload 2"
   ]
  },
  {
   "cell_type": "markdown",
   "metadata": {},
   "source": [
    "## Load CIFAR 10"
   ]
  },
  {
   "cell_type": "markdown",
   "metadata": {},
   "source": [
    "#### Define transforms for the dataset and load"
   ]
  },
  {
   "cell_type": "code",
   "execution_count": 32,
   "metadata": {},
   "outputs": [],
   "source": [
    "transform_tr = transforms.Compose([transforms.RandomCrop(32, padding=4),\n",
    "                                   transforms.RandomHorizontalFlip(),\n",
    "                                   transforms.ToTensor(),\n",
    "                                   transforms.Normalize((0.4914, 0.4822, 0.4465),(0.2470, 0.2435, 0.2616))])\n",
    "transform_tst = transforms.Compose([transforms.ToTensor(), \n",
    "                                    transforms.Normalize((0.4942, 0.4851, 0.4504),(0.2467, 0.2429, 0.2616))])"
   ]
  },
  {
   "cell_type": "code",
   "execution_count": 40,
   "metadata": {},
   "outputs": [
    {
     "name": "stdout",
     "output_type": "stream",
     "text": [
      "Files already downloaded and verified\n"
     ]
    }
   ],
   "source": [
    "# CIFAR-10 training dataset and data loader\n",
    "train_batch_size = 64\n",
    "val_batch_size = 500\n",
    "\n",
    "indices = np.arange(50000)\n",
    "np.random.shuffle(indices)\n",
    "\n",
    "tr_sampler = torch.utils.data.SubsetRandomSampler(indices[:45000])\n",
    "val_sampler = torch.utils.data.SubsetRandomSampler(indices[45000:50000])\n",
    "\n",
    "train_dataset = datasets.CIFAR10('CIFAR10',\n",
    "                                 train=True, \n",
    "                                 download=True, \n",
    "                                 transform=transform_tr)\n",
    "\n",
    "train_loader = torch.utils.data.DataLoader(train_dataset,\n",
    "                                          batch_size=train_batch_size,\n",
    "                                          shuffle=False,\n",
    "                                          sampler=tr_sampler,\n",
    "                                          num_workers=2)\n",
    "val_loader = torch.utils.data.DataLoader(train_dataset,\n",
    "                                          batch_size=val_batch_size,\n",
    "                                          shuffle=False,\n",
    "                                          sampler=val_sampler)"
   ]
  },
  {
   "cell_type": "code",
   "execution_count": 41,
   "metadata": {},
   "outputs": [
    {
     "name": "stdout",
     "output_type": "stream",
     "text": [
      "Files already downloaded and verified\n"
     ]
    }
   ],
   "source": [
    "# CIFAR-10 test dataset and data loader\n",
    "test_batch_size = 10000\n",
    "\n",
    "test_dataset = datasets.CIFAR10('CIFAR10', \n",
    "                                train=False, \n",
    "                                download=True, \n",
    "                                transform=transform_tst)\n",
    "\n",
    "test_loader = torch.utils.data.DataLoader(test_dataset,\n",
    "                                          batch_size=test_batch_size,\n",
    "                                          shuffle=True,\n",
    "                                         num_workers=2)"
   ]
  },
  {
   "cell_type": "code",
   "execution_count": 5,
   "metadata": {},
   "outputs": [
    {
     "data": {
      "text/plain": [
       "704"
      ]
     },
     "execution_count": 5,
     "metadata": {},
     "output_type": "execute_result"
    }
   ],
   "source": [
    "# num of batches in each training epoch\n",
    "len(train_loader)"
   ]
  },
  {
   "cell_type": "code",
   "execution_count": 25,
   "metadata": {},
   "outputs": [],
   "source": [
    "def mean_and_stddev(loader):\n",
    "    chsum = 0\n",
    "    for j, (images, labels) in enumerate(loader):\n",
    "        chsum += images.sum(dim=(0,2,3), keepdim=True)\n",
    "    mean = chsum/len(loader.dataset.data)/images.size(2)/images.size(3)\n",
    "    print(mean.view(-1))\n",
    "    chsum = 0\n",
    "    for j, (images, labels) in enumerate(loader):\n",
    "        chsum += (images - mean).pow(2).sum(dim=(0,2,3), keepdim=True)\n",
    "    std = torch.sqrt(chsum/(len(loader.dataset.data)*images.size(2)*images.size(3)-1))\n",
    "    print(std.view(-1))"
   ]
  },
  {
   "cell_type": "code",
   "execution_count": 7,
   "metadata": {},
   "outputs": [
    {
     "name": "stdout",
     "output_type": "stream",
     "text": [
      "tensor([0.0011, 0.0005, 0.0007])\n",
      "tensor([0.9493, 0.9491, 0.9493])\n"
     ]
    }
   ],
   "source": [
    "mean_and_stddev(train_loader)"
   ]
  },
  {
   "cell_type": "code",
   "execution_count": 8,
   "metadata": {},
   "outputs": [
    {
     "name": "stdout",
     "output_type": "stream",
     "text": [
      "tensor([5.7950e-05, 1.2928e-04, 3.4801e-05])\n",
      "tensor([0.9998, 1.0000, 1.0000])\n"
     ]
    }
   ],
   "source": [
    "mean_and_stddev(test_loader)"
   ]
  },
  {
   "cell_type": "markdown",
   "metadata": {},
   "source": [
    "#### Function to show individual image and associated label"
   ]
  },
  {
   "cell_type": "code",
   "execution_count": 26,
   "metadata": {},
   "outputs": [],
   "source": [
    "def show_image(image_num):\n",
    "    plt.imshow(train_loader.dataset.data[image_num,:,:])\n",
    "    target = train_loader.dataset.targets[image_num]\n",
    "    print(\"This image is a(n) \" + str(train_loader.dataset.classes[target])+\".\")"
   ]
  },
  {
   "cell_type": "code",
   "execution_count": 27,
   "metadata": {
    "scrolled": true
   },
   "outputs": [
    {
     "name": "stdout",
     "output_type": "stream",
     "text": [
      "This image is a(n) airplane.\n"
     ]
    },
    {
     "data": {
      "image/png": "[encoded data removed]",
      "text/plain": [
       "<Figure size 432x288 with 1 Axes>"
      ]
     },
     "metadata": {
      "needs_background": "light"
     },
     "output_type": "display_data"
    }
   ],
   "source": [
    "show_image(1701)"
   ]
  },
  {
   "cell_type": "code",
   "execution_count": 11,
   "metadata": {},
   "outputs": [
    {
     "name": "stdout",
     "output_type": "stream",
     "text": [
      "This image is a(n) ship.\n"
     ]
    },
    {
     "data": {
      "image/png": "[encoded data removed]",
      "text/plain": [
       "<Figure size 432x288 with 1 Axes>"
      ]
     },
     "metadata": {
      "needs_background": "light"
     },
     "output_type": "display_data"
    }
   ],
   "source": [
    "show_image(9154)"
   ]
  },
  {
   "cell_type": "markdown",
   "metadata": {},
   "source": [
    "# Initialize settings for Neural Network"
   ]
  },
  {
   "cell_type": "markdown",
   "metadata": {},
   "source": [
    "class Neural_Network(nn.Module):\n",
    "    def __init__(self):\n",
    "        super(Neural_Network, self).__init__()\n",
    "        # Convolutional Layer - \n",
    "        self.conv1 = nn.Conv2d(3,6,5)\n",
    "        \n",
    "        # 2nd Convolutional Layer -\n",
    "        self.conv2 = nn.Conv2d(6,16,5)\n",
    "        \n",
    "        # 3rd Convolutional Layer -\n",
    "        self.conv3 = nn.Conv2d(16,32,5)\n",
    "        \n",
    "        # Max Pooling layers - \n",
    "        self.pool = nn.MaxPool2d(2,2)\n",
    "             \n",
    "        # 3 fully connected layers\n",
    "        self.fc1 = nn.Linear(2048, 250)\n",
    "        self.fc2 = nn.Linear(250, 120)\n",
    "        self.fc3 = nn.Linear(120, 84)\n",
    "        self.fc4 = nn.Linear(84, 10)\n",
    "        \n",
    "        #Dropout for regularization using default p=0.5\n",
    "        #self.dr1 = nn.Dropout2d()\n",
    "        self.dr2 = nn.Dropout()\n",
    "        \n",
    "        # Activation function\n",
    "        self.activ1 = nn.ReLU()\n",
    "        #self.activ1 = nn.Tanh()\n",
    "        #self.activ2 = nn.LocalResponseNorm(2)\n",
    "        \n",
    "    def forward(self, x):\n",
    "        # 2 convolutional / pooling layers\n",
    "        x = self.activ1(self.conv1(x))\n",
    "        x = self.activ1(self.conv2(x))\n",
    "        x = self.pool(x)\n",
    "        x = self.activ1(self.conv3(x))\n",
    "        \n",
    "        # 2 fully connected hidden layers\n",
    "        x = x.view(-1,2048)\n",
    "        x = self.activ1(self.fc1(x))\n",
    "        x = self.dr2(x)\n",
    "        x = self.activ1(self.fc2(x))\n",
    "        x = self.dr2(x)\n",
    "        x = self.activ1(self.fc3(x))\n",
    "        x = self.dr2(x)\n",
    "        \n",
    "        # final output layer\n",
    "        x = self.fc4(x)\n",
    "        \n",
    "        return x"
   ]
  },
  {
   "cell_type": "markdown",
   "metadata": {},
   "source": [
    "class Neural_Network2(nn.Module):\n",
    "    def __init__(self):\n",
    "        super(Neural_Network2, self).__init__()\n",
    "        # Convolutional Layer - \n",
    "        self.conv1 = nn.Conv2d(3,6,3)\n",
    "        \n",
    "        # 2nd Convolutional Layer -\n",
    "        self.conv2 = nn.Conv2d(6,6,5)\n",
    "        \n",
    "        # 3rd Convolutional Layer -\n",
    "        self.conv3 = nn.Conv2d(6,8,5)\n",
    "        \n",
    "        # 4th Convolutional Layer\n",
    "        self.conv4 = nn.Conv2d(8,10,5)\n",
    "        \n",
    "        # Max Pooling layers - \n",
    "        self.pool = nn.MaxPool2d(2,2)\n",
    "             \n",
    "        # 3 fully connected layers\n",
    "        self.fc1 = nn.Linear(40, 10)\n",
    "        \n",
    "        # Activation function\n",
    "        self.activ1 = nn.ReLU()\n",
    "        \n",
    "    def forward(self, x):\n",
    "        # 2 convolutional / pooling layers\n",
    "        x = self.activ1(self.conv1(x))\n",
    "        x = self.activ1(self.conv2(x))\n",
    "        x = self.pool(x)\n",
    "        x = self.activ1(self.conv3(x))\n",
    "        x = self.activ1(self.conv4(x))\n",
    "        x = self.pool(x)\n",
    "        \n",
    "        # 2 fully connected hidden layers\n",
    "        x = x.view(-1,40)\n",
    "        x = self.activ1(self.fc1(x))\n",
    "        \n",
    "        return x"
   ]
  },
  {
   "cell_type": "markdown",
   "metadata": {},
   "source": [
    "#All fully connected layer architecture\n",
    "class Neural_Network_Linear(nn.Module):\n",
    "    def __init__(self):\n",
    "        super(Neural_Network, self).__init__()\n",
    "        self.fc1 = nn.Linear(32* 32 * 3, 256)\n",
    "        self.fc2 = nn.Linear(256,200)\n",
    "        self.fc3 = nn.Linear(200, 10)\n",
    "        self.activ = nn.functional.relu\n",
    "        \n",
    "    def forward(self, x):\n",
    "        x = self.activ(self.fc1(x))\n",
    "        x = self.activ(self.fc2(x))\n",
    "        x = self.fc3(x)\n",
    "        \n",
    "        return x"
   ]
  },
  {
   "cell_type": "code",
   "execution_count": null,
   "metadata": {},
   "outputs": [],
   "source": [
    "#VGG16 architecture\n",
    "class CNN(nn.Module):\n",
    "    def __init__(self):\n",
    "        super(CNN,self).__init__()\n",
    "        \n",
    "        self.conv_layer = nn.Sequential(\n",
    "        \n",
    "            #1st conv layer block\n",
    "            nn.Conv2d(in_channels=3, out_channels=32, kernel_size=3, padding=1),\n",
    "            nn.BatchNorm2d(32),\n",
    "            nn.ReLU(inplace=True),\n",
    "            nn.Conv2d(in_channels=32, out_channels=64, kernel_size=3, padding=1),\n",
    "            nn.ReLU(inplace=True),\n",
    "            nn.MaxPool2d(kernel_size=2, stride=2),\n",
    "\n",
    "            #2nd conv layer block\n",
    "            nn.Conv2d(in_channels=64, out_channels=128, kernel_size=3, padding=1),\n",
    "            nn.BatchNorm2d(128),\n",
    "            nn.ReLU(inplace=True),\n",
    "            nn.Conv2d(in_channels=128, out_channels=128, kernel_size=3, padding=1),\n",
    "            nn.ReLU(inplace=True),\n",
    "            nn.MaxPool2d(kernel_size=2, stride=2),\n",
    "            nn.Dropout2d(p=0.05),\n",
    "\n",
    "            #3rd conv layer block\n",
    "            nn.Conv2d(in_channels=128, out_channels=256, kernel_size=3, padding=1),\n",
    "            nn.BatchNorm2d(256),\n",
    "            nn.ReLU(inplace=True),\n",
    "            nn.Conv2d(in_channels=256, out_channels=256, kernel_size=3, padding=1),\n",
    "            nn.ReLU(inplace=True),\n",
    "            nn.MaxPool2d(kernel_size=2, stride=2),\n",
    "        )\n",
    "        \n",
    "            #fully connected layers block\n",
    "        self.fc_layer = nn.Sequential(\n",
    "            nn.Dropout(p=0.1),\n",
    "            nn.Linear(4096,1024),\n",
    "            nn.ReLU(inplace=True),\n",
    "            nn.Linear(1024,512),\n",
    "            nn.ReLU(inplace=True),\n",
    "            nn.Dropout(p=0.1),\n",
    "            nn.Linear(512,10)\n",
    "        )\n",
    "        \n",
    "            #perform forward\n",
    "        def forward(self, x):\n",
    "            #conv layers\n",
    "            x = self.conv_layer(x)\n",
    "            #flatten\n",
    "            x = x.view(x.size(0), -1)\n",
    "            #fully connected layer\n",
    "            x = self.fc_layer(x)\n",
    "            \n",
    "            return x\n",
    "neural_network=CNN()"
   ]
  },
  {
   "cell_type": "markdown",
   "metadata": {},
   "source": [
    "## Function to calculate classification prediction accuracy"
   ]
  },
  {
   "cell_type": "code",
   "execution_count": 30,
   "metadata": {},
   "outputs": [
    {
     "name": "stdout",
     "output_type": "stream",
     "text": [
      "CUDA is available. Using GPU.\n"
     ]
    },
    {
     "data": {
      "text/plain": [
       "Neural_Network(\n",
       "  (conv1): Conv2d(3, 6, kernel_size=(5, 5), stride=(1, 1))\n",
       "  (conv2): Conv2d(6, 16, kernel_size=(5, 5), stride=(1, 1))\n",
       "  (conv3): Conv2d(16, 32, kernel_size=(5, 5), stride=(1, 1))\n",
       "  (pool): MaxPool2d(kernel_size=2, stride=2, padding=0, dilation=1, ceil_mode=False)\n",
       "  (fc1): Linear(in_features=2048, out_features=250, bias=True)\n",
       "  (fc2): Linear(in_features=250, out_features=120, bias=True)\n",
       "  (fc3): Linear(in_features=120, out_features=84, bias=True)\n",
       "  (fc4): Linear(in_features=84, out_features=10, bias=True)\n",
       "  (dr2): Dropout(p=0.5, inplace=False)\n",
       "  (activ1): ReLU()\n",
       ")"
      ]
     },
     "execution_count": 30,
     "metadata": {},
     "output_type": "execute_result"
    }
   ],
   "source": [
    "neural_network = Neural_Network()\n",
    "train_on_gpu = torch.cuda.is_available()\n",
    "if not train_on_gpu:\n",
    "    print(\"CUDA is not available. Using CPU.\")\n",
    "    device = torch.device('cpu')\n",
    "else:\n",
    "    print(\"CUDA is available. Using GPU.\")\n",
    "    device = torch.device('cuda:0')\n",
    "neural_network.to(device)"
   ]
  },
  {
   "cell_type": "code",
   "execution_count": 29,
   "metadata": {},
   "outputs": [],
   "source": [
    "def accuracy(outputs, labels):\n",
    "    prediction = outputs.cpu().max(1, keepdim=True)[1].squeeze()\n",
    "    prediction_comp = torch.eq(prediction.cpu(), labels.cpu())\n",
    "    prediction_comp = prediction_comp.sum().numpy() / torch.numel(prediction.cpu())\n",
    "    return prediction_comp * 100"
   ]
  },
  {
   "cell_type": "code",
   "execution_count": null,
   "metadata": {},
   "outputs": [],
   "source": [
    "neural_network.train()\n",
    "criterion = nn.CrossEntropyLoss()\n",
    "\n",
    "# Initial hyperparameters\n",
    "number_of_epochs = 100\n",
    "step_size = 0.01\n",
    "momentum_parameter = 0.9\n",
    "weight_decay = 0.001\n",
    "\n",
    "# Initialize optimiser\n",
    "optimiser = optim.SGD(neural_network.parameters(), lr=step_size, momentum=momentum_parameter, weight_decay=weight_decay)\n",
    "\n",
    "\n",
    "# initialize lists for running counts of loss and accuracy\n",
    "running_loss = []\n",
    "running_val_loss = []\n",
    "running_training_accuracy = []\n",
    "running_training_accuracy.append(0)\n",
    "running_val_accuracy = []\n",
    "running_val_accuracy.append(0)\n",
    "\n",
    "print(\"Log -- Step size: {}, Momentum: {}, batch_size = {}\".format(step_size,momentum_parameter,train_batch_size))\n",
    "# loop for epochs\n",
    "for k in range(number_of_epochs):\n",
    "    device = torch.device('cuda:0')\n",
    "    neural_network.to(device)\n",
    "    \n",
    "    # initialize epoch loss and training accuracy\n",
    "    epoch_loss = 0\n",
    "    training_accuracy = 0\n",
    "    \n",
    "    \n",
    "    # handle reducing step size at 15th iteration and 50th iteration.\n",
    "    if k > 49:\n",
    "        step_size = 0.001\n",
    "        optimiser = optim.SGD(neural_network.parameters(), lr=step_size, momentum=momentum_parameter, weight_decay=weight_decay)\n",
    "        if k == 50: \n",
    "            print(\"Log -- Step size: {}, Momentum: {}, batch_size = {}\".format(step_size,momentum_parameter,train_batch_size))\n",
    "            \n",
    "    elif k > 14:\n",
    "        step_size = 0.001\n",
    "        optimiser = optim.SGD(neural_network.parameters(), lr=step_size, momentum=momentum_parameter, weight_decay=weight_decay)\n",
    "        if k == 15: \n",
    "            print(\"Log -- Step size: {}, Momentum: {}, batch_size = {}\".format(step_size,momentum_parameter,train_batch_size))\n",
    "     \n",
    "    # Main Training Loop\n",
    "    for j, (images, labels) in enumerate(train_loader):\n",
    "        images, labels = images.to(device), labels.to(device)\n",
    "        optimiser.zero_grad()\n",
    "        outputs = neural_network(images)\n",
    "        loss = criterion(outputs, labels)\n",
    "        loss.backward()\n",
    "        optimiser.step()\n",
    "        \n",
    "        epoch_loss += loss.item()\n",
    "        training_accuracy += accuracy(outputs, labels)\n",
    "    \n",
    "    # Caclulate average loss and accuracy for each epoch\n",
    "    running_loss.append(epoch_loss/len(train_loader))\n",
    "    running_training_accuracy.append(training_accuracy/len(train_loader))\n",
    "    \n",
    "    # Validation test once per epoch\n",
    "    device = torch.device('cpu')\n",
    "    neural_network.to(device)\n",
    "    val_images, val_labels = iter(val_loader).next()\n",
    "    val_images, val_labels = val_images.to(device), val_labels.to(device)\n",
    "    val_outputs = neural_network(val_images)\n",
    "    val_loss = criterion(val_outputs, val_labels).item()\n",
    "    \n",
    "    # Store validation loss and accuracy\n",
    "    running_val_loss.append(val_loss)\n",
    "    val_accuracy = accuracy(val_outputs, val_labels)\n",
    "    running_val_accuracy.append(val_accuracy)\n",
    "    \n",
    "    if k % 1 == 0:\n",
    "        print(\"Epoch {a}/{b} -> Tr. Loss = {c:.2f}, Val. Loss = {d:.2f}, Tr. Acc = {e:.2f}, Val. Acc = {f:.2f}\".format(a=k, b=number_of_epochs, c=running_loss[-1], d=running_val_loss[-1], e=running_training_accuracy[-1], f=running_val_accuracy[-1]))\n",
    "    \n",
    "    #if (len(running_val_loss) > 3) and (running_val_loss[-3] - running_val_loss[-1] < 0):\n",
    "        #break\n",
    "        \n",
    "print(\"Final Epoch {} -> Loss = {}\".format(k, running_loss[-1]))"
   ]
  },
  {
   "cell_type": "code",
   "execution_count": 16,
   "metadata": {},
   "outputs": [
    {
     "data": {
      "image/png": "[encoded data removed]",
      "text/plain": [
       "<Figure size 432x288 with 1 Axes>"
      ]
     },
     "metadata": {
      "needs_background": "light"
     },
     "output_type": "display_data"
    }
   ],
   "source": [
    "plt.plot(running_loss, label=\"Training Loss\")\n",
    "plt.plot(running_val_loss, label=\"Validation Loss\")\n",
    "for i in range(len(running_val_loss)):\n",
    "    if running_val_loss[i] == np.min(running_val_loss):\n",
    "        lowest_index = i\n",
    "plt.scatter(lowest_index, running_val_loss[lowest_index], label=\"Lowest Validation Loss\", c=\"r\")\n",
    "plt.scatter(lowest_index, running_loss[lowest_index], label=\"Corresponding Train Loss\", c=\"r\")\n",
    "plt.legend()\n",
    "plt.ylabel(\"Loss\")\n",
    "plt.xlabel(\"Epoch\")\n",
    "plt.grid()\n",
    "plt.show()"
   ]
  },
  {
   "cell_type": "code",
   "execution_count": 17,
   "metadata": {
    "scrolled": true
   },
   "outputs": [
    {
     "data": {
      "image/png": "[encoded data removed]",
      "text/plain": [
       "<Figure size 432x288 with 1 Axes>"
      ]
     },
     "metadata": {
      "needs_background": "light"
     },
     "output_type": "display_data"
    }
   ],
   "source": [
    "plt.plot(running_training_accuracy, label=\"Training Accuracy\")\n",
    "plt.plot(running_val_accuracy, label=\"Test Accuracy\")\n",
    "for i in range(len(running_val_accuracy)):\n",
    "    if running_val_accuracy[i] == np.max(running_val_accuracy):\n",
    "        highest_index = i\n",
    "plt.scatter(highest_index, running_val_accuracy[highest_index], label=\"Highest Validation Accuracy\", c=\"r\")\n",
    "plt.scatter(highest_index, running_training_accuracy[highest_index], label=\"Corresponding Train Accuracy\", c=\"r\")\n",
    "plt.legend()\n",
    "plt.ylabel(\"Model Accuracy\")\n",
    "plt.xlabel(\"Epoch\")\n",
    "plt.grid()\n",
    "plt.show()"
   ]
  },
  {
   "cell_type": "code",
   "execution_count": 18,
   "metadata": {},
   "outputs": [
    {
     "name": "stdout",
     "output_type": "stream",
     "text": [
      "Test Loss is : 1.50\n",
      "Test Accuracy is : 68.28%\n"
     ]
    }
   ],
   "source": [
    "device = torch.device('cpu')\n",
    "neural_network.to(device)\n",
    "neural_network.eval()\n",
    "test_images, test_labels = iter(test_loader).next()\n",
    "test_outputs = neural_network(test_images)\n",
    "test_loss = criterion(test_outputs, test_labels).item()\n",
    "test_accuracy = accuracy(test_outputs, test_labels)\n",
    "print(\"Test Loss is : {a:.2f}\".format(a=test_loss))\n",
    "print(\"Test Accuracy is : {a:.2f}%\".format(a=test_accuracy))"
   ]
  },
  {
   "cell_type": "code",
   "execution_count": 19,
   "metadata": {},
   "outputs": [],
   "source": [
    "model = neural_network\n",
    "torch.save(model.state_dict(), \"Conv-NN-Relu-256batch-7layers-l2reg\")"
   ]
  },
  {
   "cell_type": "code",
   "execution_count": 20,
   "metadata": {},
   "outputs": [
    {
     "ename": "NameError",
     "evalue": "name 'TheModelClass' is not defined",
     "output_type": "error",
     "traceback": [
      "\u001b[1;31m---------------------------------------------------------------------------\u001b[0m",
      "\u001b[1;31mNameError\u001b[0m                                 Traceback (most recent call last)",
      "\u001b[1;32m<ipython-input-20-055c24f97c93>\u001b[0m in \u001b[0;36m<module>\u001b[1;34m\u001b[0m\n\u001b[1;32m----> 1\u001b[1;33m \u001b[0mmodel\u001b[0m \u001b[1;33m=\u001b[0m \u001b[0mTheModelClass\u001b[0m\u001b[1;33m(\u001b[0m\u001b[1;33m*\u001b[0m\u001b[0margs\u001b[0m\u001b[1;33m,\u001b[0m \u001b[1;33m**\u001b[0m\u001b[0mkwargs\u001b[0m\u001b[1;33m)\u001b[0m\u001b[1;33m\u001b[0m\u001b[1;33m\u001b[0m\u001b[0m\n\u001b[0m\u001b[0;32m      2\u001b[0m \u001b[0mmodel\u001b[0m\u001b[1;33m.\u001b[0m\u001b[0mload_state_dict\u001b[0m\u001b[1;33m(\u001b[0m\u001b[0mtorch\u001b[0m\u001b[1;33m.\u001b[0m\u001b[0mload\u001b[0m\u001b[1;33m(\u001b[0m\u001b[0mPATH\u001b[0m\u001b[1;33m)\u001b[0m\u001b[1;33m)\u001b[0m\u001b[1;33m\u001b[0m\u001b[1;33m\u001b[0m\u001b[0m\n\u001b[0;32m      3\u001b[0m \u001b[0mmodel\u001b[0m\u001b[1;33m.\u001b[0m\u001b[0meval\u001b[0m\u001b[1;33m(\u001b[0m\u001b[1;33m)\u001b[0m\u001b[1;33m\u001b[0m\u001b[1;33m\u001b[0m\u001b[0m\n",
      "\u001b[1;31mNameError\u001b[0m: name 'TheModelClass' is not defined"
     ]
    }
   ],
   "source": [
    "model = TheModelClass(*args, **kwargs)\n",
    "model.load_state_dict(torch.load(PATH))\n",
    "model.eval()"
   ]
  },
  {
   "cell_type": "code",
   "execution_count": null,
   "metadata": {},
   "outputs": [],
   "source": [
    "print(neural_network.)"
   ]
  }
 ],
 "metadata": {
  "kernelspec": {
   "display_name": "Python 3",
   "language": "python",
   "name": "python3"
  },
  "language_info": {
   "codemirror_mode": {
    "name": "ipython",
    "version": 3
   },
   "file_extension": ".py",
   "mimetype": "text/x-python",
   "name": "python",
   "nbconvert_exporter": "python",
   "pygments_lexer": "ipython3",
   "version": "3.7.4"
  }
 },
 "nbformat": 4,
 "nbformat_minor": 4
}

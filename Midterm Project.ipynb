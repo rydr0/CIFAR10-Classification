{
 "cells": [
  {
   "cell_type": "markdown",
   "metadata": {},
   "source": [
    "# Identifying objects in images.\n",
    "## 1st dataset to try: CIFAR 10"
   ]
  },
  {
   "cell_type": "markdown",
   "metadata": {},
   "source": [
    "Starting lines and imports"
   ]
  },
  {
   "cell_type": "code",
   "execution_count": 99,
   "metadata": {},
   "outputs": [
    {
     "name": "stdout",
     "output_type": "stream",
     "text": [
      "The autoreload extension is already loaded. To reload it, use:\n",
      "  %reload_ext autoreload\n"
     ]
    }
   ],
   "source": [
    "%matplotlib inline\n",
    "import numpy as np\n",
    "\n",
    "import matplotlib.pyplot as plt\n",
    "\n",
    "import torch\n",
    "import torch.nn as nn\n",
    "import torch.optim as optim\n",
    "from torch.autograd import Variable\n",
    "\n",
    "import torchvision\n",
    "import torchvision.transforms as transforms\n",
    "from torchvision import datasets, transforms\n",
    "\n",
    "%load_ext autoreload\n",
    "%autoreload 2"
   ]
  },
  {
   "cell_type": "markdown",
   "metadata": {},
   "source": [
    "## Load CIFAR 10"
   ]
  },
  {
   "cell_type": "code",
   "execution_count": 298,
   "metadata": {},
   "outputs": [
    {
     "data": {
      "text/plain": [
       "Normalize(mean=120.70756512369792, std=62.993219278136884)"
      ]
     },
     "execution_count": 298,
     "metadata": {},
     "output_type": "execute_result"
    }
   ],
   "source": [
    "c_mean_tr = np.mean(train_dataset.data)\n",
    "c_sd_tr = np.std(train_dataset.data[:,:,:, 0])\n",
    "transforms.Normalize((c_mean_tr),(c1_sd_tr))"
   ]
  },
  {
   "cell_type": "code",
   "execution_count": 300,
   "metadata": {},
   "outputs": [
    {
     "data": {
      "text/plain": [
       "Normalize(mean=121.52915475260417, std=64.06097012299574)"
      ]
     },
     "execution_count": 300,
     "metadata": {},
     "output_type": "execute_result"
    }
   ],
   "source": [
    "c1_mean_tst = np.mean(test_dataset.data)\n",
    "c1_sd_tst = np.std(test_dataset.data)\n",
    "transforms.Normalize((c1_mean_tst),(c1_sd_tst))"
   ]
  },
  {
   "cell_type": "markdown",
   "metadata": {},
   "source": [
    "#### Define transforms for the dataset and load"
   ]
  },
  {
   "cell_type": "code",
   "execution_count": 320,
   "metadata": {},
   "outputs": [],
   "source": [
    "transform_tr = transforms.Compose([transforms.ToTensor()])\n",
    "transform_tst = transforms.Compose([transforms.ToTensor()])"
   ]
  },
  {
   "cell_type": "code",
   "execution_count": 322,
   "metadata": {},
   "outputs": [
    {
     "name": "stdout",
     "output_type": "stream",
     "text": [
      "Files already downloaded and verified\n"
     ]
    }
   ],
   "source": [
    "# CIFAR-10 training dataset and data loader\n",
    "train_batch_size = 100\n",
    "\n",
    "train_dataset = datasets.CIFAR10('CIFAR10', train=True, download=True, transform=transform_tr)\n",
    "\n",
    "train_loader = torch.utils.data.DataLoader(train_dataset,\n",
    "                                          batch_size=train_batch_size,\n",
    "                                          shuffle=True)"
   ]
  },
  {
   "cell_type": "code",
   "execution_count": 325,
   "metadata": {},
   "outputs": [
    {
     "name": "stdout",
     "output_type": "stream",
     "text": [
      "Files already downloaded and verified\n"
     ]
    }
   ],
   "source": [
    "# CIFAR-10 test dataset and data loader\n",
    "test_batch_size = 10000\n",
    "\n",
    "test_dataset = datasets.CIFAR10('CIFAR10', train=False, download=True, transform=transform_tst)\n",
    "\n",
    "test_loader = torch.utils.data.DataLoader(test_dataset,\n",
    "                                          batch_size=test_batch_size,\n",
    "                                          shuffle=True)"
   ]
  },
  {
   "cell_type": "markdown",
   "metadata": {},
   "source": [
    "#### Function to show individual image and associated label"
   ]
  },
  {
   "cell_type": "code",
   "execution_count": 323,
   "metadata": {},
   "outputs": [],
   "source": [
    "def show_image(image_num):\n",
    "    plt.imshow(train_loader.dataset.data[image_num,:,:])\n",
    "    target = train_loader.dataset.targets[image_num]\n",
    "    print(\"This image is a(n) \" + str(train_loader.dataset.classes[target])+\".\")"
   ]
  },
  {
   "cell_type": "code",
   "execution_count": 324,
   "metadata": {
    "scrolled": true
   },
   "outputs": [
    {
     "name": "stdout",
     "output_type": "stream",
     "text": [
      "This image is a(n) airplane.\n"
     ]
    },
    {
     "data": {
      "image/png": "[encoded data removed]",
      "text/plain": [
       "<Figure size 432x288 with 1 Axes>"
      ]
     },
     "metadata": {
      "needs_background": "light"
     },
     "output_type": "display_data"
    }
   ],
   "source": [
    "show_image(1701)"
   ]
  },
  {
   "cell_type": "markdown",
   "metadata": {},
   "source": [
    "# Initialize settings for Neural Network"
   ]
  },
  {
   "cell_type": "code",
   "execution_count": 326,
   "metadata": {},
   "outputs": [],
   "source": [
    "class Neural_Network(nn.Module):\n",
    "    def __init__(self, dimensions):\n",
    "        super(Neural_Network, self).__init__()\n",
    "        self.conv1 = nn.Conv2d(3,6,5)\n",
    "        self.pool = nn.MaxPool2d(2,2)\n",
    "        self.conv2 = nn.Conv2d(6,16,5)\n",
    "        self.fc1 = nn.Linear(16*5*5, 120)\n",
    "        self.fc2 = nn.Linear(120,84)\n",
    "        self.fc3 = nn.Linear(84, 10)\n",
    "        self.activ = nn.Tanh()\n",
    "        \n",
    "    def forward(self, x):\n",
    "        x = self.pool(self.activ(self.conv1(x)))\n",
    "        x = self.pool(self.activ(self.conv2(x)))\n",
    "        x = x.view(-1,16*5*5)\n",
    "        x = self.activ(self.fc1(x))\n",
    "        x = self.activ(self.fc2(x))\n",
    "        x = self.fc3(x)\n",
    "        \n",
    "        return x"
   ]
  },
  {
   "cell_type": "markdown",
   "metadata": {},
   "source": [
    "## Function to calculate classification prediction accuracy"
   ]
  },
  {
   "cell_type": "code",
   "execution_count": 327,
   "metadata": {},
   "outputs": [],
   "source": [
    "def accuracy(outputs, labels):\n",
    "    prediction = outputs.max(1, keepdim=True)[1].squeeze()\n",
    "    prediction_comp = torch.eq(prediction, labels)\n",
    "    prediction_comp = prediction_comp.sum().numpy() / torch.numel(prediction)\n",
    "    return prediction_comp * 100"
   ]
  },
  {
   "cell_type": "code",
   "execution_count": 328,
   "metadata": {},
   "outputs": [],
   "source": [
    "neural_network = Neural_Network(dimensions)"
   ]
  },
  {
   "cell_type": "code",
   "execution_count": 329,
   "metadata": {},
   "outputs": [
    {
     "name": "stdout",
     "output_type": "stream",
     "text": [
      "Epoch 0/10 -> Tr. Loss = 1.74, Tst. Loss = 1.49, Tr. Acc = 36.614, Tst. Acc = 46.23\n",
      "Epoch 1/10 -> Tr. Loss = 1.41, Tst. Loss = 1.47, Tr. Acc = 49.1, Tst. Acc = 46.93\n",
      "Epoch 2/10 -> Tr. Loss = 1.30, Tst. Loss = 1.29, Tr. Acc = 53.698, Tst. Acc = 53.83\n",
      "Epoch 3/10 -> Tr. Loss = 1.21, Tst. Loss = 1.24, Tr. Acc = 56.864, Tst. Acc = 56.15\n",
      "Epoch 4/10 -> Tr. Loss = 1.16, Tst. Loss = 1.24, Tr. Acc = 59.216, Tst. Acc = 56.58\n",
      "Epoch 5/10 -> Tr. Loss = 1.11, Tst. Loss = 1.19, Tr. Acc = 60.814, Tst. Acc = 58.440000000000005\n",
      "Epoch 6/10 -> Tr. Loss = 1.06, Tst. Loss = 1.20, Tr. Acc = 62.622, Tst. Acc = 57.87\n",
      "Epoch 7/10 -> Tr. Loss = 1.02, Tst. Loss = 1.25, Tr. Acc = 64.198, Tst. Acc = 56.36\n",
      "Final Epoch 7 -> Loss = 1.0178268554210663\n"
     ]
    }
   ],
   "source": [
    "criterion = nn.CrossEntropyLoss()\n",
    "number_of_epochs = 10\n",
    "step_size = 0.1\n",
    "momentum_parameter = 0.7\n",
    "optimiser = optim.SGD(neural_network.parameters(), lr=step_size, momentum=momentum_parameter)\n",
    "\n",
    "running_loss = []\n",
    "running_test_loss = []\n",
    "running_training_accuracy = []\n",
    "running_training_accuracy.append(0)\n",
    "running_test_accuracy = []\n",
    "running_test_accuracy.append(0)\n",
    "\n",
    "# loop for epochs\n",
    "for k in range(number_of_epochs):\n",
    "    epoch_loss = 0\n",
    "    training_accuracy = 0\n",
    "    \n",
    "    for j, (images, labels) in enumerate(train_loader):\n",
    "        optimiser.zero_grad()\n",
    "        outputs = neural_network(images)\n",
    "        loss = criterion(outputs, labels)\n",
    "        loss.backward()\n",
    "        optimiser.step()\n",
    "        \n",
    "        epoch_loss += loss.item()\n",
    "        training_accuracy += accuracy(outputs, labels)\n",
    "    \n",
    "    running_loss.append(epoch_loss/len(train_loader))\n",
    "    running_training_accuracy.append(training_accuracy/len(train_loader))\n",
    "    \n",
    "    test_images, test_labels = iter(test_loader).next()\n",
    "    test_outputs = neural_network(test_images)\n",
    "    test_loss = criterion(test_outputs, test_labels).item()\n",
    "    running_test_loss.append(test_loss)\n",
    "    test_accuracy = accuracy(test_outputs, test_labels)\n",
    "    running_test_accuracy.append(test_accuracy)\n",
    "    \n",
    "    if k % 1 == 0:\n",
    "        print(\"Epoch {a}/{b} -> Tr. Loss = {c:.2f}, Tst. Loss = {d:.2f}, Tr. Acc = {e}, Tst. Acc = {f}\".format(a=k, b=number_of_epochs, c=running_loss[-1], d=running_test_loss[-1], e=running_training_accuracy[-1], f=running_test_accuracy[-1]))\n",
    "    \n",
    "    if (len(running_test_loss) > 3) and (running_test_loss[-3] - running_test_loss[-1] < 0):\n",
    "        break\n",
    "        \n",
    "print(\"Final Epoch {} -> Loss = {}\".format(k, running_loss[-1]))"
   ]
  },
  {
   "cell_type": "code",
   "execution_count": 343,
   "metadata": {},
   "outputs": [
    {
     "data": {
      "image/png": "[encoded data removed]",
      "text/plain": [
       "<Figure size 432x288 with 1 Axes>"
      ]
     },
     "metadata": {
      "needs_background": "light"
     },
     "output_type": "display_data"
    }
   ],
   "source": [
    "plt.plot(running_loss, label=\"Training Loss\")\n",
    "plt.plot(running_test_loss, label=\"Test Loss\")\n",
    "plt.scatter(5, running_loss[5], label=\"Corresponding Train Loss\")\n",
    "plt.scatter(5, running_test_loss[5], label=\"Lowest Test Loss\") \n",
    "plt.legend()\n",
    "plt.ylabel(\"Loss\")\n",
    "plt.xlabel(\"Epoch\")\n",
    "plt.show()"
   ]
  }
 ],
 "metadata": {
  "kernelspec": {
   "display_name": "Python 3",
   "language": "python",
   "name": "python3"
  },
  "language_info": {
   "codemirror_mode": {
    "name": "ipython",
    "version": 3
   },
   "file_extension": ".py",
   "mimetype": "text/x-python",
   "name": "python",
   "nbconvert_exporter": "python",
   "pygments_lexer": "ipython3",
   "version": "3.7.3"
  }
 },
 "nbformat": 4,
 "nbformat_minor": 2
}

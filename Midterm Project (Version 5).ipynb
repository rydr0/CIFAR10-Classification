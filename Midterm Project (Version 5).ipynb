{
 "cells": [
  {
   "cell_type": "markdown",
   "metadata": {
    "colab_type": "text",
    "id": "6GSWhnNW4i4t"
   },
   "source": [
    "# Classification of CIFAR 10 Image Dataset"
   ]
  },
  {
   "cell_type": "markdown",
   "metadata": {
    "colab_type": "text",
    "id": "ldaJLTi34i4w"
   },
   "source": [
    "### Starting lines and necessary imports"
   ]
  },
  {
   "cell_type": "code",
   "execution_count": 1,
   "metadata": {
    "ExecuteTime": {
     "end_time": "2020-03-07T23:16:40.495620Z",
     "start_time": "2020-03-07T23:16:35.961893Z"
    },
    "colab": {},
    "colab_type": "code",
    "id": "Dsz_EbPK4i4z"
   },
   "outputs": [],
   "source": [
    "from torchsummary import summary\n",
    "from torchvision import datasets, transforms\n",
    "import torchvision.transforms as transforms\n",
    "import torchvision\n",
    "from torch.autograd import Variable\n",
    "import torch.optim as optim\n",
    "import torch.nn as nn\n",
    "import torch\n",
    "import matplotlib.pyplot as plt\n",
    "import numpy as np\n",
    "%matplotlib inline\n",
    "\n",
    "%load_ext autoreload\n",
    "%autoreload 2"
   ]
  },
  {
   "cell_type": "markdown",
   "metadata": {
    "colab_type": "text",
    "id": "0XIo3lSNpwev"
   },
   "source": [
    "Run the two cells below if using Google Colab (you need to have a folder called AdvMachineLearningProject with the files in it)"
   ]
  },
  {
   "cell_type": "code",
   "execution_count": 2,
   "metadata": {
    "ExecuteTime": {
     "end_time": "2020-03-07T23:16:41.466140Z",
     "start_time": "2020-03-07T23:16:40.949733Z"
    },
    "colab": {
     "base_uri": "https://localhost:8080/",
     "height": 122
    },
    "colab_type": "code",
    "id": "5Tzf-Hgb4pFr",
    "outputId": "248e139e-4dcd-4d25-a613-bf55d786d2f0",
    "scrolled": true
   },
   "outputs": [
    {
     "ename": "ModuleNotFoundError",
     "evalue": "No module named 'google'",
     "output_type": "error",
     "traceback": [
      "\u001b[1;31m---------------------------------------------------------------------------\u001b[0m",
      "\u001b[1;31mModuleNotFoundError\u001b[0m                       Traceback (most recent call last)",
      "\u001b[1;32m<ipython-input-2-6c21181b7660>\u001b[0m in \u001b[0;36m<module>\u001b[1;34m\u001b[0m\n\u001b[1;32m----> 1\u001b[1;33m \u001b[1;32mfrom\u001b[0m \u001b[0mgoogle\u001b[0m\u001b[1;33m.\u001b[0m\u001b[0mcolab\u001b[0m \u001b[1;32mimport\u001b[0m \u001b[0mdrive\u001b[0m\u001b[1;33m\u001b[0m\u001b[1;33m\u001b[0m\u001b[0m\n\u001b[0m\u001b[0;32m      2\u001b[0m \u001b[0mdrive\u001b[0m\u001b[1;33m.\u001b[0m\u001b[0mmount\u001b[0m\u001b[1;33m(\u001b[0m\u001b[1;34m'/drive'\u001b[0m\u001b[1;33m)\u001b[0m\u001b[1;33m\u001b[0m\u001b[1;33m\u001b[0m\u001b[0m\n",
      "\u001b[1;31mModuleNotFoundError\u001b[0m: No module named 'google'"
     ]
    }
   ],
   "source": [
    "from google.colab import drive\n",
    "drive.mount('/drive')"
   ]
  },
  {
   "cell_type": "code",
   "execution_count": null,
   "metadata": {
    "ExecuteTime": {
     "end_time": "2020-03-07T23:16:41.477547Z",
     "start_time": "2020-03-07T23:16:40.781Z"
    },
    "colab": {
     "base_uri": "https://localhost:8080/",
     "height": 34
    },
    "colab_type": "code",
    "id": "pPpRZwiy43Ev",
    "outputId": "829013a7-be3e-48c8-8f3f-8a80fc68ed7f"
   },
   "outputs": [],
   "source": [
    "cd / drive/My\\ Drive/AdvMachineLearningProject"
   ]
  },
  {
   "cell_type": "markdown",
   "metadata": {
    "colab_type": "text",
    "id": "TSTN90EK4i48"
   },
   "source": [
    "## Load CIFAR 10 Data using torchvision"
   ]
  },
  {
   "cell_type": "markdown",
   "metadata": {
    "colab_type": "text",
    "id": "-XZSdQej4i5T"
   },
   "source": [
    "### Data Pre-processing (Mean, Standard Deviation and Transforms)"
   ]
  },
  {
   "cell_type": "code",
   "execution_count": 3,
   "metadata": {
    "ExecuteTime": {
     "end_time": "2020-03-07T23:16:51.901666Z",
     "start_time": "2020-03-07T23:16:46.687447Z"
    },
    "colab": {
     "base_uri": "https://localhost:8080/",
     "height": 51
    },
    "colab_type": "code",
    "id": "ea3SByUy4i5V",
    "outputId": "02c6df5b-f111-47ec-df79-3b5747ef4a07"
   },
   "outputs": [
    {
     "name": "stdout",
     "output_type": "stream",
     "text": [
      "Files already downloaded and verified\n",
      "Files already downloaded and verified\n"
     ]
    }
   ],
   "source": [
    "# Data Sets without any processing\n",
    "train_dataset_raw = datasets.CIFAR10('CIFAR10',\n",
    "                                     train=True,\n",
    "                                     download=True,\n",
    "                                     transform=transforms.ToTensor())\n",
    "test_dataset_raw = datasets.CIFAR10('CIFAR10',\n",
    "                                    train=False,\n",
    "                                    download=True,\n",
    "                                    transform=transforms.ToTensor())"
   ]
  },
  {
   "cell_type": "code",
   "execution_count": 5,
   "metadata": {
    "ExecuteTime": {
     "end_time": "2020-03-07T23:16:53.393133Z",
     "start_time": "2020-03-07T23:16:53.176748Z"
    },
    "colab": {},
    "colab_type": "code",
    "id": "n6Er1EsL4i5g"
   },
   "outputs": [],
   "source": [
    "def calculate_mean(loader):\n",
    "    images, labels = iter(loader).next()\n",
    "    mean = images.sum(dim=(0, 2, 3), keepdim=True)\n",
    "    mean = mean/images.shape[0]/images.size(2)/images.size(3)\n",
    "    return mean"
   ]
  },
  {
   "cell_type": "code",
   "execution_count": 6,
   "metadata": {
    "ExecuteTime": {
     "end_time": "2020-03-07T23:16:56.261430Z",
     "start_time": "2020-03-07T23:16:56.044239Z"
    },
    "colab": {},
    "colab_type": "code",
    "id": "ovR2qSlB4i5o"
   },
   "outputs": [],
   "source": [
    "def calculate_std(loader, mean):\n",
    "    images, labels = iter(loader).next()\n",
    "    std = (images - mean).pow(2).sum(dim=(0, 2, 3), keepdim=True)\n",
    "    std = torch.sqrt(std/(images.shape[0]*images.size(2)*images.size(3)-1))\n",
    "    return std"
   ]
  },
  {
   "cell_type": "code",
   "execution_count": 7,
   "metadata": {
    "ExecuteTime": {
     "end_time": "2020-03-07T23:16:57.562338Z",
     "start_time": "2020-03-07T23:16:57.310588Z"
    },
    "colab": {},
    "colab_type": "code",
    "id": "NrrltaFq4i5x"
   },
   "outputs": [],
   "source": [
    "def mean_and_stddev():\n",
    "    train_loader = torch.utils.data.DataLoader(train_dataset_raw,\n",
    "                                               batch_size=50000,\n",
    "                                               shuffle=True)\n",
    "    test_loader = torch.utils.data.DataLoader(test_dataset_raw,\n",
    "                                              batch_size=10000,\n",
    "                                              shuffle=True)\n",
    "\n",
    "    tr_mean = calculate_mean(train_loader)\n",
    "    tst_mean = calculate_mean(test_loader)\n",
    "    tr_std = calculate_std(train_loader, tr_mean)\n",
    "    tst_std = calculate_std(test_loader, tst_mean)\n",
    "\n",
    "    return tr_mean.view(-1), tst_mean.view(-1), tr_std.view(-1), tst_std.view(-1)"
   ]
  },
  {
   "cell_type": "markdown",
   "metadata": {
    "colab_type": "text",
    "id": "1mGc5kgnpwf-"
   },
   "source": [
    "#### Mean and Standard Deviation for Training and Test Datasets"
   ]
  },
  {
   "cell_type": "code",
   "execution_count": 8,
   "metadata": {
    "ExecuteTime": {
     "end_time": "2020-03-07T23:17:46.142042Z",
     "start_time": "2020-03-07T23:17:00.393006Z"
    },
    "colab": {
     "base_uri": "https://localhost:8080/",
     "height": 85
    },
    "colab_type": "code",
    "id": "Q91W6K8P4i56",
    "outputId": "787de0ae-24ba-4b1f-c7c2-5e5680f959c5"
   },
   "outputs": [
    {
     "name": "stdout",
     "output_type": "stream",
     "text": [
      "tensor([0.4914, 0.4822, 0.4465])\n",
      "tensor([0.4942, 0.4851, 0.4504])\n",
      "tensor([0.2470, 0.2435, 0.2616])\n",
      "tensor([0.2467, 0.2429, 0.2616])\n"
     ]
    }
   ],
   "source": [
    "tr_mean, tst_mean, tr_std, tst_std = mean_and_stddev()\n",
    "print(tr_mean)\n",
    "print(tst_mean)\n",
    "print(tr_std)\n",
    "print(tst_std)"
   ]
  },
  {
   "cell_type": "markdown",
   "metadata": {
    "colab_type": "text",
    "id": "1-uPfvXLpwgK"
   },
   "source": [
    "#### Transformations"
   ]
  },
  {
   "cell_type": "code",
   "execution_count": 9,
   "metadata": {
    "ExecuteTime": {
     "end_time": "2020-03-07T23:17:46.899729Z",
     "start_time": "2020-03-07T23:17:46.671966Z"
    },
    "colab": {},
    "colab_type": "code",
    "id": "E8GIUBZE4i6B"
   },
   "outputs": [],
   "source": [
    "# Transformations on training set\n",
    "# Crop, Horizontal Flip, Tensor, Normalize (3 channels)\n",
    "transform_tr = transforms.Compose([\n",
    "    transforms.RandomCrop(32, padding=4),\n",
    "    transforms.RandomHorizontalFlip(),\n",
    "    transforms.ToTensor(),\n",
    "    transforms.Normalize(tr_mean, tr_std)\n",
    "])\n",
    "\n",
    "# Transformations on testing set\n",
    "# Tensor and Normalize (3 channels)\n",
    "transform_tst = transforms.Compose([\n",
    "    transforms.ToTensor(),\n",
    "    transforms.Normalize(tst_mean, tst_std)\n",
    "])"
   ]
  },
  {
   "cell_type": "markdown",
   "metadata": {
    "colab_type": "text",
    "id": "oPHpgoQO4i6K"
   },
   "source": [
    "### Load Training and Testing Data"
   ]
  },
  {
   "cell_type": "code",
   "execution_count": 10,
   "metadata": {
    "ExecuteTime": {
     "end_time": "2020-03-07T23:17:52.691903Z",
     "start_time": "2020-03-07T23:17:47.426408Z"
    },
    "colab": {
     "base_uri": "https://localhost:8080/",
     "height": 51
    },
    "colab_type": "code",
    "id": "V4OnwQ3d4i6N",
    "outputId": "f3d0841f-e7c4-41a3-e77d-077ea1b9ae29"
   },
   "outputs": [
    {
     "name": "stdout",
     "output_type": "stream",
     "text": [
      "Files already downloaded and verified\n",
      "Files already downloaded and verified\n"
     ]
    }
   ],
   "source": [
    "# Batch Size Hyperparameters\n",
    "train_batch_size = 32\n",
    "val_batch_size = 5000  # representing a 90/10 train/validation split\n",
    "test_batch_size = 5000  # smaller test batches due to memory constraints\n",
    "\n",
    "# to randomly shuffle data\n",
    "indices = np.arange(50000)\n",
    "np.random.shuffle(indices)\n",
    "\n",
    "# samplers to split into training and validation set\n",
    "tr_sampler = torch.utils.data.SubsetRandomSampler(indices[:45000])\n",
    "val_sampler = torch.utils.data.SubsetRandomSampler(indices[45000:50000])\n",
    "\n",
    "\n",
    "# CIFAR-10 training dataset and data loader\n",
    "train_dataset = datasets.CIFAR10('CIFAR10',\n",
    "                                 train=True,\n",
    "                                 download=True,\n",
    "                                 transform=transform_tr)\n",
    "\n",
    "train_loader = torch.utils.data.DataLoader(train_dataset,\n",
    "                                           batch_size=train_batch_size,\n",
    "                                           shuffle=False,\n",
    "                                           sampler=tr_sampler)\n",
    "val_loader = torch.utils.data.DataLoader(train_dataset,\n",
    "                                         batch_size=val_batch_size,\n",
    "                                         shuffle=False,\n",
    "                                         sampler=val_sampler)\n",
    "\n",
    "# CIFAR-10 test dataset and data loader\n",
    "test_dataset = datasets.CIFAR10('CIFAR10',\n",
    "                                train=False,\n",
    "                                download=True,\n",
    "                                transform=transform_tst)\n",
    "\n",
    "test_loader = torch.utils.data.DataLoader(test_dataset,\n",
    "                                          batch_size=test_batch_size,\n",
    "                                          shuffle=True)"
   ]
  },
  {
   "cell_type": "markdown",
   "metadata": {
    "colab_type": "text",
    "id": "ZLOUbI5F4i6V"
   },
   "source": [
    "#### Check batches and image/label shapes"
   ]
  },
  {
   "cell_type": "code",
   "execution_count": 11,
   "metadata": {
    "ExecuteTime": {
     "end_time": "2020-03-07T23:17:53.581454Z",
     "start_time": "2020-03-07T23:17:53.287153Z"
    },
    "colab": {
     "base_uri": "https://localhost:8080/",
     "height": 102
    },
    "colab_type": "code",
    "id": "Q_MP-CfJ4i6X",
    "outputId": "73963801-479b-4c8d-d885-87b238f74c2e"
   },
   "outputs": [
    {
     "name": "stdout",
     "output_type": "stream",
     "text": [
      "1407\n",
      "1\n",
      "2\n",
      "torch.Size([32, 3, 32, 32])\n",
      "torch.Size([32])\n"
     ]
    }
   ],
   "source": [
    "# check num of batches in each training epoch (should be 45,000/train_batch_size)\n",
    "print(len(train_loader))\n",
    "# check num of batches in each training epoch (should be 5,000/val_batch_size = 1)\n",
    "print(len(val_loader))\n",
    "# check num of batches in each test epoch (should be 10,000/test_batch_size)\n",
    "print(len(test_loader))\n",
    "# check shape\n",
    "images, labels = iter(train_loader).next()\n",
    "print(images.shape)  # shape = (train_batch_size, RGB channels, H, W)\n",
    "print(labels.shape)  # shape = (train_batch_size)"
   ]
  },
  {
   "cell_type": "markdown",
   "metadata": {
    "colab_type": "text",
    "id": "av6sQUP64i6e"
   },
   "source": [
    "#### Function to show individual image and associated label"
   ]
  },
  {
   "cell_type": "code",
   "execution_count": 12,
   "metadata": {
    "ExecuteTime": {
     "end_time": "2020-03-07T23:17:54.410008Z",
     "start_time": "2020-03-07T23:17:54.153511Z"
    },
    "colab": {},
    "colab_type": "code",
    "id": "Ol_bWLxo4i6j"
   },
   "outputs": [],
   "source": [
    "def show_images():\n",
    "    train_loader = torch.utils.data.DataLoader(train_dataset_raw,\n",
    "                                               batch_size=1,\n",
    "                                               shuffle=True)\n",
    "\n",
    "    fig = plt.figure(figsize=(32, 32))\n",
    "    columns = 5\n",
    "    rows = 4\n",
    "\n",
    "    ax = []\n",
    "    plt.rcParams.update({'font.size': 22})\n",
    "    for i in range(1, columns * rows + 1):\n",
    "        image, label = iter(train_loader).next()\n",
    "        ax.append(fig.add_subplot(rows, columns, i))\n",
    "        ax[-1].set_title(\n",
    "            str(label.item()) + \" - \" +\n",
    "            str(train_loader.dataset.classes[label]))\n",
    "        plt.imshow(np.transpose(image[0], (1, 2, 0)))\n",
    "    plt.show()\n",
    "    plt.rcParams.update({'font.size': 12})"
   ]
  },
  {
   "cell_type": "code",
   "execution_count": 13,
   "metadata": {
    "ExecuteTime": {
     "end_time": "2020-03-07T23:18:03.411504Z",
     "start_time": "2020-03-07T23:17:55.021256Z"
    },
    "colab": {
     "base_uri": "https://localhost:8080/",
     "height": 1000
    },
    "colab_type": "code",
    "id": "E-Sk3EfB4i6r",
    "outputId": "359c6318-9521-4d95-9b88-c4e63f7a4b36",
    "scrolled": false
   },
   "outputs": [
    {
     "data": {
      "image/png": "[encoded data removed]",
      "text/plain": [
       "<Figure size 2304x2304 with 20 Axes>"
      ]
     },
     "metadata": {
      "needs_background": "light"
     },
     "output_type": "display_data"
    }
   ],
   "source": [
    "show_images()"
   ]
  },
  {
   "cell_type": "markdown",
   "metadata": {
    "colab_type": "text",
    "id": "yBGNZ9WP4i6z"
   },
   "source": [
    "# Helper functions for Neural Network"
   ]
  },
  {
   "cell_type": "code",
   "execution_count": 14,
   "metadata": {
    "ExecuteTime": {
     "end_time": "2020-03-07T23:18:04.265598Z",
     "start_time": "2020-03-07T23:18:04.032492Z"
    },
    "colab": {},
    "colab_type": "code",
    "id": "9rT9PnCc4i62"
   },
   "outputs": [],
   "source": [
    "def accuracy(outputs, labels):\n",
    "    \"\"\"Function for determining the accuracy of a set of model outputs compared to label values.\"\"\"\n",
    "    prediction = outputs.cpu().max(1, keepdim=True)[1].squeeze()\n",
    "    prediction_comp = torch.eq(prediction.cpu(), labels.cpu())\n",
    "    prediction_comp = prediction_comp.sum().numpy() / torch.numel(prediction.cpu())\n",
    "    return prediction_comp * 100"
   ]
  },
  {
   "cell_type": "code",
   "execution_count": 15,
   "metadata": {
    "ExecuteTime": {
     "end_time": "2020-03-07T23:18:05.036656Z",
     "start_time": "2020-03-07T23:18:04.830814Z"
    },
    "colab": {},
    "colab_type": "code",
    "id": "23GbaeTO4i7A"
   },
   "outputs": [],
   "source": [
    "def cpu_or_gpu():\n",
    "    \"\"\"Function to determine whether to train using a GPU or CPU.\"\"\"\n",
    "    train_on_gpu = torch.cuda.is_available()\n",
    "    if not train_on_gpu:\n",
    "        device = torch.device('cpu')\n",
    "    else:\n",
    "        device = torch.device('cuda:0')\n",
    "    return device"
   ]
  },
  {
   "cell_type": "code",
   "execution_count": 16,
   "metadata": {
    "ExecuteTime": {
     "end_time": "2020-03-07T23:18:05.883270Z",
     "start_time": "2020-03-07T23:18:05.666383Z"
    },
    "colab": {},
    "colab_type": "code",
    "id": "1nc5gfNc4i7J"
   },
   "outputs": [],
   "source": [
    "def reduce_step_size(iteration_cutoff, old_step_size, new_step_size, epoch):\n",
    "    \"\"\"Used in training to reduce step size\"\"\"\n",
    "    step_size = old_step_size\n",
    "    if epoch == iteration_cutoff:\n",
    "        step_size = new_step_size\n",
    "        if epoch == iteration_cutoff:\n",
    "            print(\n",
    "                \"Log -- Decreased Step size from {} to {}\".format(old_step_size, new_step_size))\n",
    "    return step_size"
   ]
  },
  {
   "cell_type": "markdown",
   "metadata": {
    "colab_type": "text",
    "id": "XQEd9taj4i7U"
   },
   "source": [
    "# Initialize settings for Neural Network"
   ]
  },
  {
   "cell_type": "markdown",
   "metadata": {
    "colab_type": "text",
    "id": "V6M1D6jPpwhn"
   },
   "source": [
    "## Main Model"
   ]
  },
  {
   "cell_type": "code",
   "execution_count": 17,
   "metadata": {
    "ExecuteTime": {
     "end_time": "2020-03-07T23:18:06.784003Z",
     "start_time": "2020-03-07T23:18:06.405101Z"
    },
    "colab": {},
    "colab_type": "code",
    "id": "NDvHbGwy4i7W"
   },
   "outputs": [],
   "source": [
    "class Neural_Network(nn.Module):\n",
    "    def __init__(self):\n",
    "        super(Neural_Network, self).__init__()\n",
    "\n",
    "        # 5 Convolutional Layers\n",
    "        # 100 - 3x3, 200 - 2x2, 300 - 2x2, 400 - 2x2, 500 - 2x2\n",
    "        self.conv1 = nn.Conv2d(3, 100, 3, padding=1)\n",
    "        self.conv2 = nn.Conv2d(100, 200, 2, padding=1)\n",
    "        self.conv3 = nn.Conv2d(200, 300, 2, padding=1)\n",
    "        self.conv4 = nn.Conv2d(300, 400, 2, padding=1)\n",
    "        self.conv5 = nn.Conv2d(400, 500, 2, padding=1)\n",
    "\n",
    "        # Dropout Layer (p=0.5)\n",
    "        self.drop = nn.Dropout2d()\n",
    "\n",
    "        # Max Pooling Layer (2 x 2)\n",
    "        self.pool = nn.MaxPool2d(2, 2)\n",
    "\n",
    "        # Fully Connected Output Layer\n",
    "        self.fc1 = nn.Linear(4500, 10)\n",
    "\n",
    "        # Activation function\n",
    "        self.activ1 = nn.ReLU()\n",
    "\n",
    "    def forward(self, x):\n",
    "        # 5 convolutional / pooling layers\n",
    "        x = self.activ1(self.conv1(x))\n",
    "        x = self.pool(x)\n",
    "        x = self.activ1(self.conv2(x))\n",
    "        x = self.pool(x)\n",
    "        x = self.activ1(self.conv3(x))\n",
    "        x = self.pool(x)\n",
    "        x = self.activ1(self.conv4(x))\n",
    "        x = self.pool(x)\n",
    "        x = self.activ1(self.conv5(x))\n",
    "        x = self.drop(x)\n",
    "\n",
    "        # Final Output Layer\n",
    "        x = x.view(x.shape[0], -1)\n",
    "        x = self.fc1(x)\n",
    "\n",
    "        return x"
   ]
  },
  {
   "cell_type": "markdown",
   "metadata": {
    "colab_type": "text",
    "heading_collapsed": true,
    "id": "-YXZxf_84i7e"
   },
   "source": [
    "## Other attempts"
   ]
  },
  {
   "cell_type": "markdown",
   "metadata": {
    "colab_type": "text",
    "hidden": true,
    "id": "pCYQfRNUpwiD"
   },
   "source": [
    "class Neural_Network_batch_norm(nn.Module):\n",
    "    def __init__(self):\n",
    "        super(Neural_Network2, self).__init__()\n",
    "\n",
    "        # 5 Convolutional Layers\n",
    "        # 100 - 3x3, 200 - 2x2, 300 - 2x2, 400 - 2x2, 500 - 2x2\n",
    "        self.conv1 = nn.Conv2d(3, 100, 3, padding=1)\n",
    "        self.conv2 = nn.Conv2d(100, 200, 2, padding=1)\n",
    "        self.conv3 = nn.Conv2d(200, 300, 2, padding=1)\n",
    "        self.conv4 = nn.Conv2d(300, 400, 2, padding=1)\n",
    "        self.conv5 = nn.Conv2d(400, 500, 2, padding=1)\n",
    "\n",
    "        # Max Pooling Layer (2 x 2)\n",
    "        self.maxpool = nn.MaxPool2d(2, 2)\n",
    "        \n",
    "        # Batch Normalization\n",
    "        self.bn1 = nn.BatchNorm2d(100)\n",
    "        self.bn2 = nn.BatchNorm2d(200)\n",
    "        self.bn3 = nn.BatchNorm2d(300)\n",
    "        self.bn4 = nn.BatchNorm2d(400)\n",
    "        self.bn5 = nn.BatchNorm2d(500)\n",
    "\n",
    "        # Fully Connected Output Layer\n",
    "        self.fc1 = nn.Linear(4500, 100)\n",
    "\n",
    "        # Activation function\n",
    "        self.activ1 = nn.ReLU(inplace=True)\n",
    "\n",
    "    def forward(self, x):\n",
    "        # 5 convolutional / pooling layers\n",
    "        x = self.activ1(self.bn1(self.conv1(x)))\n",
    "        x = self.maxpool(x)\n",
    "        x = self.activ1(self.bn2(self.conv2(x)))\n",
    "        x = self.maxpool(x)\n",
    "        x = self.activ1(self.bn3(self.conv3(x)))\n",
    "        x = self.maxpool(x)\n",
    "        x = self.activ1(self.bn4(self.conv4(x)))\n",
    "        x = self.maxpool(x)\n",
    "        x = self.activ1(self.bn5(self.conv5(x)))\n",
    "\n",
    "        # Final Output Layer\n",
    "        x = x.view(x.shape[0], -1)\n",
    "        x = self.fc1(x)\n",
    "\n",
    "        return x"
   ]
  },
  {
   "cell_type": "markdown",
   "metadata": {
    "colab_type": "text",
    "hidden": true,
    "id": "iwISaGLD4i7g"
   },
   "source": [
    "class Neural_Network_3(nn.Module):\n",
    "    def __init__(self):\n",
    "        super(Neural_Network, self).__init__()\n",
    "        # Convolutional Layer -\n",
    "        self.conv1 = nn.Conv2d(3, 6, 5, padding=1)\n",
    "\n",
    "        # 2nd Convolutional Layer -\n",
    "        self.conv2 = nn.Conv2d(6, 16, 5, padding=1)\n",
    "\n",
    "        # 3rd Convolutional Layer -\n",
    "        self.conv3 = nn.Conv2d(16, 32, 5, padding=1)\n",
    "\n",
    "        # Max Pooling layers -\n",
    "        self.pool = nn.MaxPool2d(2, 2)\n",
    "\n",
    "        # 3 fully connected layers\n",
    "        self.fc1 = nn.Linear(2048, 250)\n",
    "        self.fc2 = nn.Linear(250, 120)\n",
    "        self.fc3 = nn.Linear(120, 84)\n",
    "        self.fc4 = nn.Linear(84, 10)\n",
    "\n",
    "        #Dropout for regularization using default p=0.5\n",
    "        #self.dr1 = nn.Dropout2d()\n",
    "        self.dr2 = nn.Dropout()\n",
    "\n",
    "        # Activation function\n",
    "        self.activ1 = nn.ReLU()\n",
    "        #self.activ1 = nn.Tanh()\n",
    "        #self.activ2 = nn.LocalResponseNorm(2)\n",
    "\n",
    "    def forward(self, x):\n",
    "        # 2 convolutional / pooling layers\n",
    "        x = self.activ1(self.conv1(x))\n",
    "        x = self.activ1(self.conv2(x))\n",
    "        x = self.pool(x)\n",
    "        x = self.activ1(self.conv3(x))\n",
    "\n",
    "        # 2 fully connected hidden layers\n",
    "        x = x.view(x.shape[0], -1)\n",
    "        x = self.activ1(self.fc1(x))\n",
    "        x = self.dr2(x)\n",
    "        x = self.activ1(self.fc2(x))\n",
    "        x = self.dr2(x)\n",
    "        x = self.activ1(self.fc3(x))\n",
    "        x = self.dr2(x)\n",
    "\n",
    "        # final output layer\n",
    "        x = self.fc4(x)\n",
    "\n",
    "        return x"
   ]
  },
  {
   "cell_type": "markdown",
   "metadata": {
    "colab_type": "text",
    "hidden": true,
    "id": "0mCLpOB64i7o"
   },
   "source": [
    "class Neural_Network2(nn.Module):\n",
    "    def __init__(self):\n",
    "        super(Neural_Network2, self).__init__()\n",
    "        # Convolutional Layer - \n",
    "        self.conv1 = nn.Conv2d(3,6,3)\n",
    "        \n",
    "        # 2nd Convolutional Layer -\n",
    "        self.conv2 = nn.Conv2d(6,6,5)\n",
    "        \n",
    "        # 3rd Convolutional Layer -\n",
    "        self.conv3 = nn.Conv2d(6,8,5)\n",
    "        \n",
    "        # 4th Convolutional Layer\n",
    "        self.conv4 = nn.Conv2d(8,10,5)\n",
    "        \n",
    "        # Max Pooling layers - \n",
    "        self.pool = nn.MaxPool2d(2,2)\n",
    "             \n",
    "        # 3 fully connected layers\n",
    "        self.fc1 = nn.Linear(40, 10)\n",
    "        \n",
    "        # Activation function\n",
    "        self.activ1 = nn.ReLU()\n",
    "        \n",
    "    def forward(self, x):\n",
    "        # 2 convolutional / pooling layers\n",
    "        x = self.activ1(self.conv1(x))\n",
    "        x = self.activ1(self.conv2(x))\n",
    "        x = self.pool(x)\n",
    "        x = self.activ1(self.conv3(x))\n",
    "        x = self.activ1(self.conv4(x))\n",
    "        x = self.pool(x)\n",
    "        \n",
    "        # 2 fully connected hidden layers\n",
    "        x = x.view(-1,40)\n",
    "        x = self.activ1(self.fc1(x))\n",
    "        \n",
    "        return x"
   ]
  },
  {
   "cell_type": "markdown",
   "metadata": {
    "colab_type": "text",
    "hidden": true,
    "id": "ER-kym1v4i7y"
   },
   "source": [
    "class Neural_Network_Linear(nn.Module):\n",
    "    def __init__(self):\n",
    "        super(Neural_Network, self).__init__()\n",
    "        self.fc1 = nn.Linear(32* 32 * 3, 256)\n",
    "        self.fc2 = nn.Linear(256,200)\n",
    "        self.fc3 = nn.Linear(200, 10)\n",
    "        self.activ = nn.functional.relu\n",
    "        \n",
    "    def forward(self, x):\n",
    "        x = self.activ(self.fc1(x))\n",
    "        x = self.activ(self.fc2(x))\n",
    "        x = self.fc3(x)\n",
    "        \n",
    "        return x"
   ]
  },
  {
   "cell_type": "markdown",
   "metadata": {
    "colab_type": "text",
    "hidden": true,
    "id": "cmi-bKPd4i75"
   },
   "source": [
    "VGG16 architecture\n",
    "class CNN(nn.Module):\n",
    "    def __init__(self):\n",
    "        super(CNN,self).__init__()\n",
    "        \n",
    "        self.conv_layer = nn.Sequential(\n",
    "        \n",
    "            #1st conv layer block\n",
    "            nn.Conv2d(in_channels=3, out_channels=32, kernel_size=3, padding=1),\n",
    "            nn.BatchNorm2d(32),\n",
    "            nn.ReLU(inplace=True),\n",
    "            nn.Conv2d(in_channels=32, out_channels=64, kernel_size=3, padding=1),\n",
    "            nn.ReLU(inplace=True),\n",
    "            nn.MaxPool2d(kernel_size=2, stride=2),\n",
    "\n",
    "            #2nd conv layer block\n",
    "            nn.Conv2d(in_channels=64, out_channels=128, kernel_size=3, padding=1),\n",
    "            nn.BatchNorm2d(128),\n",
    "            nn.ReLU(inplace=True),\n",
    "            nn.Conv2d(in_channels=128, out_channels=128, kernel_size=3, padding=1),\n",
    "            nn.ReLU(inplace=True),\n",
    "            nn.MaxPool2d(kernel_size=2, stride=2),\n",
    "            nn.Dropout2d(p=0.05),\n",
    "\n",
    "            #3rd conv layer block\n",
    "            nn.Conv2d(in_channels=128, out_channels=256, kernel_size=3, padding=1),\n",
    "            nn.BatchNorm2d(256),\n",
    "            nn.ReLU(inplace=True),\n",
    "            nn.Conv2d(in_channels=256, out_channels=256, kernel_size=3, padding=1),\n",
    "            nn.ReLU(inplace=True),\n",
    "            nn.MaxPool2d(kernel_size=2, stride=2),\n",
    "        )\n",
    "        \n",
    "            #fully connected layers block\n",
    "        self.fc_layer = nn.Sequential(\n",
    "            nn.Dropout(p=0.1),\n",
    "            nn.Linear(4096,1024),\n",
    "            nn.ReLU(inplace=True),\n",
    "            nn.Linear(1024,512),\n",
    "            nn.ReLU(inplace=True),\n",
    "            nn.Dropout(p=0.1),\n",
    "            nn.Linear(512,10)\n",
    "        )\n",
    "        \n",
    "            #perform forward\n",
    "        def forward(self, x):\n",
    "            #conv layers\n",
    "            x = self.conv_layer(x)\n",
    "            #flatten\n",
    "            x = x.view(x.size(0), -1)\n",
    "            #fully connected layer\n",
    "            x = self.fc_layer(x)\n",
    "            \n",
    "            return x"
   ]
  },
  {
   "cell_type": "markdown",
   "metadata": {
    "colab_type": "text",
    "id": "FSnQKYqY4i8D"
   },
   "source": [
    "# Neural Network Training"
   ]
  },
  {
   "cell_type": "markdown",
   "metadata": {
    "colab_type": "text",
    "id": "rRw9k35opwiw"
   },
   "source": [
    "## Training new model"
   ]
  },
  {
   "cell_type": "code",
   "execution_count": 18,
   "metadata": {
    "ExecuteTime": {
     "end_time": "2020-03-07T23:18:11.407862Z",
     "start_time": "2020-03-07T23:18:11.136124Z"
    },
    "colab": {
     "base_uri": "https://localhost:8080/",
     "height": 187
    },
    "colab_type": "code",
    "id": "yjXsgr7E4i8F",
    "outputId": "9a470051-f060-4947-adce-e978520c7979"
   },
   "outputs": [
    {
     "data": {
      "text/plain": [
       "Neural_Network(\n",
       "  (conv1): Conv2d(3, 100, kernel_size=(3, 3), stride=(1, 1), padding=(1, 1))\n",
       "  (conv2): Conv2d(100, 200, kernel_size=(2, 2), stride=(1, 1), padding=(1, 1))\n",
       "  (conv3): Conv2d(200, 300, kernel_size=(2, 2), stride=(1, 1), padding=(1, 1))\n",
       "  (conv4): Conv2d(300, 400, kernel_size=(2, 2), stride=(1, 1), padding=(1, 1))\n",
       "  (conv5): Conv2d(400, 500, kernel_size=(2, 2), stride=(1, 1), padding=(1, 1))\n",
       "  (drop): Dropout2d(p=0.5, inplace=False)\n",
       "  (pool): MaxPool2d(kernel_size=2, stride=2, padding=0, dilation=1, ceil_mode=False)\n",
       "  (fc1): Linear(in_features=4500, out_features=10, bias=True)\n",
       "  (activ1): ReLU()\n",
       ")"
      ]
     },
     "execution_count": 18,
     "metadata": {},
     "output_type": "execute_result"
    }
   ],
   "source": [
    "# Use this cell if training a new model\n",
    "model = Neural_Network()\n",
    "device = cpu_or_gpu()\n",
    "model.to(device)"
   ]
  },
  {
   "cell_type": "markdown",
   "metadata": {
    "colab_type": "text",
    "id": "26j1ZwrSpwi7"
   },
   "source": [
    "## Loading previously saved model"
   ]
  },
  {
   "cell_type": "code",
   "execution_count": null,
   "metadata": {
    "ExecuteTime": {
     "end_time": "2020-03-05T19:54:04.627247Z",
     "start_time": "2020-03-05T19:54:04.243891Z"
    },
    "colab": {
     "base_uri": "https://localhost:8080/",
     "height": 375
    },
    "colab_type": "code",
    "id": "4-XJAjsA4i8N",
    "outputId": "a41fa5fa-bd4a-4fbc-8baf-af12c5481278"
   },
   "outputs": [],
   "source": [
    "# Use this cell if loading a saved model\n",
    "model = Neural_Network()\n",
    "device = cpu_or_gpu()\n",
    "model.to(device)\n",
    "model.load_state_dict(\n",
    "    torch.load(\"finalmodelwithmaxdrop\"))\n",
    "# Conv-NN-ReLU-88.5testaccuracy\"))  # <------- Insert path of saved model as string here\n",
    "\n",
    "model.eval()"
   ]
  },
  {
   "cell_type": "markdown",
   "metadata": {
    "colab_type": "text",
    "id": "HzWoB1aKpwjK"
   },
   "source": [
    "## Model Summary"
   ]
  },
  {
   "cell_type": "code",
   "execution_count": 19,
   "metadata": {
    "ExecuteTime": {
     "end_time": "2020-03-07T23:18:14.466923Z",
     "start_time": "2020-03-07T23:18:14.032926Z"
    },
    "colab": {
     "base_uri": "https://localhost:8080/",
     "height": 493
    },
    "colab_type": "code",
    "id": "kXLrfa4o4i8V",
    "outputId": "039ea559-02fb-4a09-cc93-101bd691a5b1"
   },
   "outputs": [
    {
     "name": "stdout",
     "output_type": "stream",
     "text": [
      "----------------------------------------------------------------\n",
      "        Layer (type)               Output Shape         Param #\n",
      "================================================================\n",
      "            Conv2d-1          [-1, 100, 32, 32]           2,800\n",
      "              ReLU-2          [-1, 100, 32, 32]               0\n",
      "         MaxPool2d-3          [-1, 100, 16, 16]               0\n",
      "            Conv2d-4          [-1, 200, 17, 17]          80,200\n",
      "              ReLU-5          [-1, 200, 17, 17]               0\n",
      "         MaxPool2d-6            [-1, 200, 8, 8]               0\n",
      "            Conv2d-7            [-1, 300, 9, 9]         240,300\n",
      "              ReLU-8            [-1, 300, 9, 9]               0\n",
      "         MaxPool2d-9            [-1, 300, 4, 4]               0\n",
      "           Conv2d-10            [-1, 400, 5, 5]         480,400\n",
      "             ReLU-11            [-1, 400, 5, 5]               0\n",
      "        MaxPool2d-12            [-1, 400, 2, 2]               0\n",
      "           Conv2d-13            [-1, 500, 3, 3]         800,500\n",
      "             ReLU-14            [-1, 500, 3, 3]               0\n",
      "        Dropout2d-15            [-1, 500, 3, 3]               0\n",
      "           Linear-16                   [-1, 10]          45,010\n",
      "================================================================\n",
      "Total params: 1,649,210\n",
      "Trainable params: 1,649,210\n",
      "Non-trainable params: 0\n",
      "----------------------------------------------------------------\n",
      "Input size (MB): 0.01\n",
      "Forward/backward pass size (MB): 3.41\n",
      "Params size (MB): 6.29\n",
      "Estimated Total Size (MB): 9.72\n",
      "----------------------------------------------------------------\n"
     ]
    }
   ],
   "source": [
    "# Summary of layers, output shape, parameters, and size\n",
    "summary(model, input_size=(3, 32, 32))"
   ]
  },
  {
   "cell_type": "markdown",
   "metadata": {
    "colab_type": "text",
    "id": "CR59Tw-4pwjV"
   },
   "source": [
    "## Train function"
   ]
  },
  {
   "cell_type": "code",
   "execution_count": 20,
   "metadata": {
    "ExecuteTime": {
     "end_time": "2020-03-07T23:18:18.231337Z",
     "start_time": "2020-03-07T23:18:18.022417Z"
    },
    "colab": {},
    "colab_type": "code",
    "id": "Wk5pSTPL4i8e"
   },
   "outputs": [],
   "source": [
    "# Initialize cross entropy loss for use in training/testing\n",
    "criterion = nn.CrossEntropyLoss()"
   ]
  },
  {
   "cell_type": "code",
   "execution_count": 0,
   "metadata": {
    "ExecuteTime": {
     "end_time": "2020-03-05T19:54:16.694769Z",
     "start_time": "2020-03-05T19:54:16.428562Z"
    },
    "colab": {},
    "colab_type": "code",
    "id": "2UcjkYoy4i8m"
   },
   "outputs": [],
   "source": [
    "def train():\n",
    "\n",
    "    # Initial hyperparameters\n",
    "    number_of_epochs = 100\n",
    "    step_size = 0.01\n",
    "    momentum_parameter = 0.9\n",
    "    weight_decay = 0\n",
    "    lambda1 = 0.001\n",
    "\n",
    "    # L2 Regularization\n",
    "    all_linear1_params = torch.cat(\n",
    "        [x.view(-1) for x in model.fc1.parameters()])\n",
    "    l2_regularization = lambda1 * torch.norm(all_linear1_params, 1)\n",
    "\n",
    "    # Initialize optimiser\n",
    "    optimiser = optim.SGD(model.parameters(),\n",
    "                          lr=step_size,\n",
    "                          momentum=momentum_parameter,\n",
    "                          weight_decay=weight_decay)\n",
    "\n",
    "    # initialize lists for running counts of loss and accuracy\n",
    "    running_loss = []\n",
    "    running_val_loss = []\n",
    "    running_training_accuracy = []\n",
    "    running_training_accuracy.append(0)\n",
    "    running_val_accuracy = []\n",
    "    running_val_accuracy.append(0)\n",
    "\n",
    "    print(\"Log -- Step size: {}, Momentum: {}, batch_size = {}\".format(\n",
    "        step_size, momentum_parameter, train_batch_size))\n",
    "\n",
    "    # loop for epochs\n",
    "    for k in range(number_of_epochs):\n",
    "        model.train()\n",
    "        device = cpu_or_gpu()\n",
    "        model.to(device)\n",
    "\n",
    "        # initialize epoch loss and training accuracy\n",
    "        epoch_loss = 0\n",
    "        training_accuracy = 0\n",
    "\n",
    "        # handle reducing step size at various iterations\n",
    "\n",
    "        step_size = reduce_step_size(iteration_cutoff=10,\n",
    "                                     old_step_size=step_size,\n",
    "                                     new_step_size=0.001,\n",
    "                                     epoch=k)\n",
    "\n",
    "        optimiser = optim.SGD(model.parameters(),\n",
    "                              lr=step_size,\n",
    "                              momentum=momentum_parameter,\n",
    "                              weight_decay=weight_decay)\n",
    "\n",
    "        # Main Training Loop\n",
    "        for j, (images, labels) in enumerate(train_loader):\n",
    "            images, labels = images.to(device), labels.to(device)\n",
    "            optimiser.zero_grad()\n",
    "            outputs = model(images)\n",
    "            loss = criterion(outputs, labels) + (l2_regularization/len(images))\n",
    "            loss.backward(retain_graph=True)\n",
    "            optimiser.step()\n",
    "\n",
    "            epoch_loss += loss.item()\n",
    "            training_accuracy += accuracy(outputs, labels)\n",
    "\n",
    "        # Caclulate average loss and accuracy for each epoch\n",
    "        running_loss.append(epoch_loss / len(train_loader))\n",
    "        running_training_accuracy.append(training_accuracy / len(train_loader))\n",
    "\n",
    "        # Validation test once per epoch\n",
    "        device = torch.device('cpu')\n",
    "        model.eval()\n",
    "        model.to(device)\n",
    "        val_images, val_labels = iter(val_loader).next()\n",
    "        val_images, val_labels = val_images.to(device), val_labels.to(device)\n",
    "        val_outputs = model(val_images) + (l2_regularization/len(val_images))\n",
    "        val_loss = criterion(val_outputs, val_labels).item()\n",
    "\n",
    "        # Store validation loss and accuracy\n",
    "        running_val_loss.append(val_loss)\n",
    "        val_accuracy = accuracy(val_outputs, val_labels)\n",
    "        running_val_accuracy.append(val_accuracy)\n",
    "\n",
    "        # Running log\n",
    "        if k % 1 == 0:\n",
    "            print(\n",
    "                \"Epoch {a}/{b} -> Tr. Loss = {c:.4f}, Val. Loss = {d:.4f}, Tr. Acc = {e:.2f}, Val. Acc = {f:.2f}\"\n",
    "                .format(a=k,\n",
    "                        b=number_of_epochs,\n",
    "                        c=running_loss[-1],\n",
    "                        d=running_val_loss[-1],\n",
    "                        e=running_training_accuracy[-1],\n",
    "                        f=running_val_accuracy[-1]))\n",
    "\n",
    "        # Break condition (validation loss is rising)\n",
    "        \"\"\"if len(running_val_loss) > 30 and running_val_loss[-1] - running_val_loss[-30] > 0:\n",
    "            break\"\"\"\n",
    "\n",
    "    print(\"Final Epoch {} -> Loss = {}\".format(k, running_loss[-1]))\n",
    "\n",
    "    return running_loss, running_val_loss, running_training_accuracy, running_val_accuracy"
   ]
  },
  {
   "cell_type": "code",
   "execution_count": 0,
   "metadata": {
    "ExecuteTime": {
     "start_time": "2020-03-05T19:54:24.705Z"
    },
    "colab": {
     "base_uri": "https://localhost:8080/",
     "height": 1000
    },
    "colab_type": "code",
    "id": "_P23_2xu4i8v",
    "outputId": "915a14dd-56bc-4f56-d066-0dfa799876a6"
   },
   "outputs": [
    {
     "name": "stdout",
     "output_type": "stream",
     "text": [
      "Log -- Step size: 0.01, Momentum: 0.9, batch_size = 32\n",
      "Epoch 0/100 -> Tr. Loss = 1.7407, Val. Loss = 1.4732, Tr. Acc = 35.67, Val. Acc = 47.12\n",
      "Epoch 1/100 -> Tr. Loss = 1.2376, Val. Loss = 1.0289, Tr. Acc = 55.95, Val. Acc = 63.46\n",
      "Epoch 2/100 -> Tr. Loss = 0.9902, Val. Loss = 0.9088, Tr. Acc = 65.50, Val. Acc = 67.46\n",
      "Epoch 3/100 -> Tr. Loss = 0.8616, Val. Loss = 0.8630, Tr. Acc = 70.05, Val. Acc = 70.84\n",
      "Epoch 4/100 -> Tr. Loss = 0.7722, Val. Loss = 0.7476, Tr. Acc = 73.20, Val. Acc = 74.42\n",
      "Epoch 5/100 -> Tr. Loss = 0.7078, Val. Loss = 0.6905, Tr. Acc = 75.43, Val. Acc = 75.68\n",
      "Epoch 6/100 -> Tr. Loss = 0.6575, Val. Loss = 0.6848, Tr. Acc = 77.31, Val. Acc = 76.48\n",
      "Epoch 7/100 -> Tr. Loss = 0.6165, Val. Loss = 0.6414, Tr. Acc = 79.10, Val. Acc = 77.70\n",
      "Epoch 8/100 -> Tr. Loss = 0.5838, Val. Loss = 0.6228, Tr. Acc = 79.71, Val. Acc = 78.48\n",
      "Epoch 9/100 -> Tr. Loss = 0.5541, Val. Loss = 0.6133, Tr. Acc = 81.00, Val. Acc = 79.68\n",
      "Log -- Decreased Step size from 0.01 to 0.001\n",
      "Epoch 10/100 -> Tr. Loss = 0.4136, Val. Loss = 0.4905, Tr. Acc = 85.74, Val. Acc = 83.20\n",
      "Epoch 11/100 -> Tr. Loss = 0.3757, Val. Loss = 0.4832, Tr. Acc = 87.20, Val. Acc = 83.00\n",
      "Epoch 12/100 -> Tr. Loss = 0.3604, Val. Loss = 0.4619, Tr. Acc = 87.66, Val. Acc = 83.64\n",
      "Epoch 13/100 -> Tr. Loss = 0.3478, Val. Loss = 0.4658, Tr. Acc = 88.07, Val. Acc = 84.36\n",
      "Epoch 14/100 -> Tr. Loss = 0.3375, Val. Loss = 0.4593, Tr. Acc = 88.67, Val. Acc = 84.18\n",
      "Epoch 15/100 -> Tr. Loss = 0.3292, Val. Loss = 0.4676, Tr. Acc = 88.83, Val. Acc = 84.18\n",
      "Epoch 16/100 -> Tr. Loss = 0.3204, Val. Loss = 0.4533, Tr. Acc = 89.02, Val. Acc = 84.40\n",
      "Epoch 17/100 -> Tr. Loss = 0.3127, Val. Loss = 0.4704, Tr. Acc = 89.38, Val. Acc = 84.66\n",
      "Epoch 18/100 -> Tr. Loss = 0.3060, Val. Loss = 0.4507, Tr. Acc = 89.66, Val. Acc = 84.34\n",
      "Epoch 19/100 -> Tr. Loss = 0.3000, Val. Loss = 0.4491, Tr. Acc = 89.81, Val. Acc = 85.16\n",
      "Epoch 20/100 -> Tr. Loss = 0.2923, Val. Loss = 0.4541, Tr. Acc = 90.07, Val. Acc = 84.60\n",
      "Epoch 21/100 -> Tr. Loss = 0.2834, Val. Loss = 0.4466, Tr. Acc = 90.38, Val. Acc = 85.00\n",
      "Epoch 22/100 -> Tr. Loss = 0.2782, Val. Loss = 0.4434, Tr. Acc = 90.76, Val. Acc = 85.18\n",
      "Epoch 23/100 -> Tr. Loss = 0.2776, Val. Loss = 0.4521, Tr. Acc = 90.53, Val. Acc = 85.04\n",
      "Epoch 24/100 -> Tr. Loss = 0.2668, Val. Loss = 0.4461, Tr. Acc = 90.92, Val. Acc = 85.28\n",
      "Epoch 25/100 -> Tr. Loss = 0.2584, Val. Loss = 0.4725, Tr. Acc = 91.18, Val. Acc = 84.80\n",
      "Epoch 26/100 -> Tr. Loss = 0.2537, Val. Loss = 0.4552, Tr. Acc = 91.29, Val. Acc = 84.42\n",
      "Epoch 27/100 -> Tr. Loss = 0.2513, Val. Loss = 0.4515, Tr. Acc = 91.41, Val. Acc = 85.60\n",
      "Epoch 28/100 -> Tr. Loss = 0.2464, Val. Loss = 0.4411, Tr. Acc = 91.65, Val. Acc = 85.40\n",
      "Epoch 29/100 -> Tr. Loss = 0.2399, Val. Loss = 0.4458, Tr. Acc = 91.97, Val. Acc = 85.32\n",
      "Epoch 30/100 -> Tr. Loss = 0.2344, Val. Loss = 0.4505, Tr. Acc = 92.13, Val. Acc = 85.34\n",
      "Epoch 31/100 -> Tr. Loss = 0.2296, Val. Loss = 0.4558, Tr. Acc = 92.28, Val. Acc = 85.72\n",
      "Epoch 32/100 -> Tr. Loss = 0.2246, Val. Loss = 0.4638, Tr. Acc = 92.46, Val. Acc = 85.26\n",
      "Epoch 33/100 -> Tr. Loss = 0.2172, Val. Loss = 0.4435, Tr. Acc = 92.72, Val. Acc = 86.28\n",
      "Epoch 34/100 -> Tr. Loss = 0.2137, Val. Loss = 0.4505, Tr. Acc = 92.77, Val. Acc = 85.76\n",
      "Epoch 35/100 -> Tr. Loss = 0.2130, Val. Loss = 0.4668, Tr. Acc = 92.83, Val. Acc = 85.62\n",
      "Epoch 36/100 -> Tr. Loss = 0.2098, Val. Loss = 0.4451, Tr. Acc = 93.01, Val. Acc = 85.66\n",
      "Epoch 37/100 -> Tr. Loss = 0.1992, Val. Loss = 0.4534, Tr. Acc = 93.33, Val. Acc = 86.38\n",
      "Epoch 38/100 -> Tr. Loss = 0.1940, Val. Loss = 0.4542, Tr. Acc = 93.53, Val. Acc = 85.84\n",
      "Epoch 39/100 -> Tr. Loss = 0.1945, Val. Loss = 0.4879, Tr. Acc = 93.47, Val. Acc = 85.24\n",
      "Epoch 40/100 -> Tr. Loss = 0.1848, Val. Loss = 0.4691, Tr. Acc = 93.84, Val. Acc = 85.42\n",
      "Epoch 41/100 -> Tr. Loss = 0.1841, Val. Loss = 0.4696, Tr. Acc = 93.82, Val. Acc = 85.82\n",
      "Epoch 42/100 -> Tr. Loss = 0.1811, Val. Loss = 0.4663, Tr. Acc = 93.99, Val. Acc = 86.36\n",
      "Epoch 43/100 -> Tr. Loss = 0.1738, Val. Loss = 0.4756, Tr. Acc = 94.27, Val. Acc = 85.62\n",
      "Epoch 44/100 -> Tr. Loss = 0.1717, Val. Loss = 0.4631, Tr. Acc = 94.17, Val. Acc = 85.80\n",
      "Epoch 45/100 -> Tr. Loss = 0.1663, Val. Loss = 0.4733, Tr. Acc = 94.41, Val. Acc = 85.96\n",
      "Epoch 46/100 -> Tr. Loss = 0.1620, Val. Loss = 0.4831, Tr. Acc = 94.60, Val. Acc = 86.42\n",
      "Epoch 47/100 -> Tr. Loss = 0.1597, Val. Loss = 0.4698, Tr. Acc = 94.67, Val. Acc = 85.92\n",
      "Epoch 48/100 -> Tr. Loss = 0.1593, Val. Loss = 0.5062, Tr. Acc = 94.71, Val. Acc = 85.22\n",
      "Epoch 49/100 -> Tr. Loss = 0.1544, Val. Loss = 0.4879, Tr. Acc = 94.93, Val. Acc = 86.12\n",
      "Epoch 50/100 -> Tr. Loss = 0.1487, Val. Loss = 0.4741, Tr. Acc = 95.15, Val. Acc = 86.14\n",
      "Epoch 51/100 -> Tr. Loss = 0.1453, Val. Loss = 0.4766, Tr. Acc = 95.05, Val. Acc = 86.04\n",
      "Epoch 52/100 -> Tr. Loss = 0.1406, Val. Loss = 0.5090, Tr. Acc = 95.43, Val. Acc = 85.70\n",
      "Epoch 53/100 -> Tr. Loss = 0.1391, Val. Loss = 0.4786, Tr. Acc = 95.51, Val. Acc = 86.08\n",
      "Epoch 54/100 -> Tr. Loss = 0.1367, Val. Loss = 0.5128, Tr. Acc = 95.49, Val. Acc = 86.22\n",
      "Epoch 55/100 -> Tr. Loss = 0.1348, Val. Loss = 0.4994, Tr. Acc = 95.59, Val. Acc = 85.46\n",
      "Epoch 56/100 -> Tr. Loss = 0.1328, Val. Loss = 0.5118, Tr. Acc = 95.56, Val. Acc = 85.90\n",
      "Epoch 57/100 -> Tr. Loss = 0.1275, Val. Loss = 0.5075, Tr. Acc = 95.75, Val. Acc = 85.92\n",
      "Epoch 58/100 -> Tr. Loss = 0.1243, Val. Loss = 0.4998, Tr. Acc = 95.93, Val. Acc = 86.14\n",
      "Epoch 60/100 -> Tr. Loss = 0.1179, Val. Loss = 0.5154, Tr. Acc = 96.28, Val. Acc = 85.60\n",
      "Epoch 61/100 -> Tr. Loss = 0.1163, Val. Loss = 0.5044, Tr. Acc = 96.22, Val. Acc = 86.18\n",
      "Epoch 62/100 -> Tr. Loss = 0.1139, Val. Loss = 0.5217, Tr. Acc = 96.33, Val. Acc = 85.62\n",
      "Epoch 63/100 -> Tr. Loss = 0.1119, Val. Loss = 0.5041, Tr. Acc = 96.53, Val. Acc = 86.26\n",
      "Epoch 64/100 -> Tr. Loss = 0.1095, Val. Loss = 0.5305, Tr. Acc = 96.47, Val. Acc = 85.74\n",
      "Epoch 65/100 -> Tr. Loss = 0.1069, Val. Loss = 0.5213, Tr. Acc = 96.54, Val. Acc = 85.84\n",
      "Epoch 66/100 -> Tr. Loss = 0.1067, Val. Loss = 0.5329, Tr. Acc = 96.60, Val. Acc = 85.82\n",
      "Epoch 67/100 -> Tr. Loss = 0.1019, Val. Loss = 0.5197, Tr. Acc = 96.72, Val. Acc = 86.92\n",
      "Epoch 68/100 -> Tr. Loss = 0.1028, Val. Loss = 0.5387, Tr. Acc = 96.78, Val. Acc = 86.38\n",
      "Epoch 69/100 -> Tr. Loss = 0.0992, Val. Loss = 0.5255, Tr. Acc = 96.87, Val. Acc = 86.96\n",
      "Epoch 70/100 -> Tr. Loss = 0.0975, Val. Loss = 0.5395, Tr. Acc = 96.85, Val. Acc = 86.02\n",
      "Epoch 71/100 -> Tr. Loss = 0.0961, Val. Loss = 0.5337, Tr. Acc = 96.97, Val. Acc = 85.94\n",
      "Epoch 72/100 -> Tr. Loss = 0.0925, Val. Loss = 0.5545, Tr. Acc = 97.20, Val. Acc = 86.08\n",
      "Epoch 73/100 -> Tr. Loss = 0.0923, Val. Loss = 0.5547, Tr. Acc = 97.08, Val. Acc = 85.94\n",
      "Epoch 74/100 -> Tr. Loss = 0.0929, Val. Loss = 0.5752, Tr. Acc = 97.11, Val. Acc = 86.30\n",
      "Epoch 75/100 -> Tr. Loss = 0.0873, Val. Loss = 0.5686, Tr. Acc = 97.42, Val. Acc = 85.92\n",
      "Epoch 76/100 -> Tr. Loss = 0.0896, Val. Loss = 0.5585, Tr. Acc = 97.20, Val. Acc = 86.64\n",
      "Epoch 77/100 -> Tr. Loss = 0.0830, Val. Loss = 0.5607, Tr. Acc = 97.54, Val. Acc = 85.86\n",
      "Epoch 78/100 -> Tr. Loss = 0.0813, Val. Loss = 0.5774, Tr. Acc = 97.55, Val. Acc = 86.32\n",
      "Epoch 79/100 -> Tr. Loss = 0.0836, Val. Loss = 0.5609, Tr. Acc = 97.41, Val. Acc = 85.86\n",
      "Epoch 80/100 -> Tr. Loss = 0.0781, Val. Loss = 0.5900, Tr. Acc = 97.58, Val. Acc = 86.10\n",
      "Epoch 81/100 -> Tr. Loss = 0.0761, Val. Loss = 0.5901, Tr. Acc = 97.75, Val. Acc = 86.00\n",
      "Epoch 82/100 -> Tr. Loss = 0.0769, Val. Loss = 0.5726, Tr. Acc = 97.61, Val. Acc = 85.82\n",
      "Epoch 83/100 -> Tr. Loss = 0.0768, Val. Loss = 0.6048, Tr. Acc = 97.64, Val. Acc = 85.58\n",
      "Epoch 84/100 -> Tr. Loss = 0.0774, Val. Loss = 0.5862, Tr. Acc = 97.66, Val. Acc = 85.74\n",
      "Epoch 85/100 -> Tr. Loss = 0.0724, Val. Loss = 0.5766, Tr. Acc = 97.83, Val. Acc = 86.30\n",
      "Epoch 86/100 -> Tr. Loss = 0.0707, Val. Loss = 0.5804, Tr. Acc = 97.91, Val. Acc = 86.14\n",
      "Epoch 87/100 -> Tr. Loss = 0.0712, Val. Loss = 0.6170, Tr. Acc = 97.87, Val. Acc = 85.36\n",
      "Epoch 88/100 -> Tr. Loss = 0.0687, Val. Loss = 0.6093, Tr. Acc = 97.89, Val. Acc = 86.38\n",
      "Epoch 89/100 -> Tr. Loss = 0.0697, Val. Loss = 0.6095, Tr. Acc = 97.87, Val. Acc = 86.30\n",
      "Epoch 90/100 -> Tr. Loss = 0.0673, Val. Loss = 0.6118, Tr. Acc = 98.00, Val. Acc = 86.30\n",
      "Epoch 91/100 -> Tr. Loss = 0.0686, Val. Loss = 0.6127, Tr. Acc = 97.97, Val. Acc = 85.96\n",
      "Epoch 92/100 -> Tr. Loss = 0.0648, Val. Loss = 0.6156, Tr. Acc = 98.04, Val. Acc = 85.90\n",
      "Epoch 93/100 -> Tr. Loss = 0.0623, Val. Loss = 0.6240, Tr. Acc = 98.22, Val. Acc = 86.66\n",
      "Epoch 94/100 -> Tr. Loss = 0.0625, Val. Loss = 0.6228, Tr. Acc = 98.26, Val. Acc = 85.96\n",
      "Epoch 95/100 -> Tr. Loss = 0.0622, Val. Loss = 0.6281, Tr. Acc = 98.22, Val. Acc = 86.66\n",
      "Epoch 96/100 -> Tr. Loss = 0.0619, Val. Loss = 0.6269, Tr. Acc = 98.24, Val. Acc = 86.26\n",
      "Epoch 97/100 -> Tr. Loss = 0.0601, Val. Loss = 0.6203, Tr. Acc = 98.27, Val. Acc = 86.54\n",
      "Epoch 98/100 -> Tr. Loss = 0.0638, Val. Loss = 0.5923, Tr. Acc = 98.16, Val. Acc = 85.74\n",
      "Epoch 99/100 -> Tr. Loss = 0.0569, Val. Loss = 0.6297, Tr. Acc = 98.39, Val. Acc = 86.16\n",
      "Final Epoch 99 -> Loss = 0.056937501136300916\n"
     ]
    }
   ],
   "source": [
    "running_loss, running_val_loss, running_training_accuracy, running_val_accuracy = train()"
   ]
  },
  {
   "cell_type": "markdown",
   "metadata": {
    "colab_type": "text",
    "id": "dJvsPHdK4i83"
   },
   "source": [
    "### Training Epoch Loss and Accuracy Visualizations"
   ]
  },
  {
   "cell_type": "code",
   "execution_count": 0,
   "metadata": {
    "ExecuteTime": {
     "end_time": "2020-03-05T19:18:21.922933Z",
     "start_time": "2020-03-05T19:18:21.722216Z"
    },
    "colab": {
     "base_uri": "https://localhost:8080/",
     "height": 285
    },
    "colab_type": "code",
    "id": "YYDuywwX4i85",
    "outputId": "33f8d602-9750-41b4-da74-168187f09183"
   },
   "outputs": [
    {
     "data": {
      "image/png": "[encoded data removed]",
      "text/plain": [
       "<Figure size 432x288 with 1 Axes>"
      ]
     },
     "metadata": {
      "tags": []
     },
     "output_type": "display_data"
    }
   ],
   "source": [
    "plt.plot(running_loss, label=\"Training Loss\")\n",
    "plt.plot(running_val_loss, label=\"Validation Loss\")\n",
    "for i in range(len(running_val_loss)):\n",
    "    if running_val_loss[i] == np.min(running_val_loss):\n",
    "        lowest_index = i\n",
    "plt.scatter(lowest_index,\n",
    "            running_val_loss[lowest_index],\n",
    "            label=\"Lowest Validation Loss\",\n",
    "            c=\"r\")\n",
    "plt.scatter(lowest_index,\n",
    "            running_loss[lowest_index],\n",
    "            label=\"Corresponding Train Loss\",\n",
    "            c=\"r\")\n",
    "plt.legend()\n",
    "plt.ylabel(\"Loss\")\n",
    "plt.xlabel(\"Epoch\")\n",
    "plt.grid()\n",
    "plt.show()"
   ]
  },
  {
   "cell_type": "code",
   "execution_count": 0,
   "metadata": {
    "ExecuteTime": {
     "end_time": "2020-03-05T19:15:11.283120Z",
     "start_time": "2020-03-05T19:15:11.086733Z"
    },
    "colab": {
     "base_uri": "https://localhost:8080/",
     "height": 285
    },
    "colab_type": "code",
    "id": "lenIpOC-4i9B",
    "outputId": "431b93b4-8659-43f5-9e1a-ac8118da1928",
    "scrolled": true
   },
   "outputs": [
    {
     "data": {
      "image/png": "[encoded data removed]",
      "text/plain": [
       "<Figure size 432x288 with 1 Axes>"
      ]
     },
     "metadata": {
      "tags": []
     },
     "output_type": "display_data"
    }
   ],
   "source": [
    "plt.plot(running_training_accuracy, label=\"Training Accuracy\")\n",
    "plt.plot(running_val_accuracy, label=\"Test Accuracy\")\n",
    "for i in range(len(running_val_accuracy)):\n",
    "    if running_val_accuracy[i] == np.max(running_val_accuracy):\n",
    "        highest_index = i\n",
    "plt.scatter(highest_index,\n",
    "            running_val_accuracy[highest_index],\n",
    "            label=\"Highest Validation Accuracy\",\n",
    "            c=\"r\")\n",
    "plt.scatter(highest_index,\n",
    "            running_training_accuracy[highest_index],\n",
    "            label=\"Corresponding Train Accuracy\",\n",
    "            c=\"r\")\n",
    "plt.legend()\n",
    "plt.ylabel(\"Model Accuracy\")\n",
    "plt.xlabel(\"Epoch\")\n",
    "plt.grid()\n",
    "plt.show()"
   ]
  },
  {
   "cell_type": "markdown",
   "metadata": {
    "ExecuteTime": {
     "end_time": "2020-03-05T01:03:52.160790Z",
     "start_time": "2020-03-05T01:03:52.154815Z"
    },
    "colab_type": "text",
    "id": "1UCJOYMjpwkG"
   },
   "source": [
    "# Saving Model State_Dict"
   ]
  },
  {
   "cell_type": "code",
   "execution_count": 0,
   "metadata": {
    "ExecuteTime": {
     "end_time": "2020-03-05T19:17:04.977111Z",
     "start_time": "2020-03-05T19:17:04.711372Z"
    },
    "colab": {},
    "colab_type": "code",
    "id": "XsdZjfnY4i9n"
   },
   "outputs": [],
   "source": [
    "# For saving neural network parameters\n",
    "torch.save(model.state_dict(),\n",
    "           \"ourmodel96percentaccuracy\")  # <----- make sure to update the path if saving new model"
   ]
  },
  {
   "cell_type": "markdown",
   "metadata": {
    "colab_type": "text",
    "id": "y5Q1kSXr4i9H"
   },
   "source": [
    "# Neural Network Testing"
   ]
  },
  {
   "cell_type": "markdown",
   "metadata": {
    "colab_type": "text",
    "id": "3cWSfOSlpwkZ"
   },
   "source": [
    "## Test on test dataset"
   ]
  },
  {
   "cell_type": "code",
   "execution_count": 21,
   "metadata": {
    "ExecuteTime": {
     "end_time": "2020-03-07T23:18:26.604966Z",
     "start_time": "2020-03-07T23:18:26.350083Z"
    },
    "colab": {},
    "colab_type": "code",
    "id": "b72_n5c74i9J"
   },
   "outputs": [],
   "source": [
    "# Accuracy on full test dataset (10,000 test images)\n",
    "def test_on_testing_data(model):\n",
    "    \"\"\"for testing model on test set (10,000 test images), batch size of 1000 \n",
    "    is used for computational purposes and accuracy/loss are averaged after\"\"\"\n",
    "\n",
    "    criterion = nn.CrossEntropyLoss()  # in case not previously defined\n",
    "\n",
    "    # initialize network to use CPU\n",
    "    device = torch.device('cpu')\n",
    "    model.to(device)\n",
    "    model.eval()\n",
    "\n",
    "    # initialize accuracy and loss\n",
    "    test_accuracy = 0\n",
    "    epoch_loss = 0\n",
    "\n",
    "    # loop through test batches and send to CPU\n",
    "    for j, (test_images, test_labels) in enumerate(test_loader):\n",
    "        test_images, test_labels = test_images.to(\n",
    "            device), test_labels.to(device)\n",
    "\n",
    "        # run images through model to create outputs\n",
    "        test_outputs = model(test_images)\n",
    "\n",
    "        # compare outputs to actual labels\n",
    "        epoch_loss += criterion(test_outputs, test_labels).item()\n",
    "        test_accuracy += accuracy(test_outputs, test_labels)\n",
    "\n",
    "    # average over the number of batches\n",
    "    test_accuracy = test_accuracy / len(test_loader)\n",
    "    test_loss = epoch_loss / len(test_loader)\n",
    "\n",
    "    # print results\n",
    "    print(\"Test Loss is : {a:.2f}\".format(a=test_loss))\n",
    "    print(\"Test Accuracy is : {a:.2f}%\".format(a=test_accuracy))"
   ]
  },
  {
   "cell_type": "code",
   "execution_count": 0,
   "metadata": {
    "ExecuteTime": {
     "end_time": "2020-03-05T19:53:29.126044Z",
     "start_time": "2020-03-05T19:52:39.688784Z"
    },
    "colab": {},
    "colab_type": "code",
    "id": "siywUy4t4i9P"
   },
   "outputs": [],
   "source": [
    "test_on_testing_data()"
   ]
  },
  {
   "cell_type": "markdown",
   "metadata": {
    "colab_type": "text",
    "id": "ldwTrAo7pwkv"
   },
   "source": [
    "## Test on training dataset"
   ]
  },
  {
   "cell_type": "code",
   "execution_count": 22,
   "metadata": {
    "ExecuteTime": {
     "end_time": "2020-03-07T23:18:28.339681Z",
     "start_time": "2020-03-07T23:18:28.105487Z"
    },
    "colab": {},
    "colab_type": "code",
    "id": "D9TW85bM4i9Z"
   },
   "outputs": [],
   "source": [
    "# Accuracy on full train dataset (50,000 training images) without data augmentation\n",
    "def test_on_training_data(model):\n",
    "    \"\"\"for testing model on training batch (50,000 test images), batch size of 1000 \n",
    "    is used for computational purposes and accuracy/loss are averaged after\"\"\"\n",
    "\n",
    "    criterion = nn.CrossEntropyLoss()  # in case not previously defined\n",
    "\n",
    "    # initialize network to use CPU\n",
    "    device = torch.device('cpu')\n",
    "    model.to(device)\n",
    "    model.eval()\n",
    "\n",
    "    # we want to test on data without additional transformations\n",
    "    transform_tr1 = transforms.Compose([\n",
    "        transforms.ToTensor(),\n",
    "        transforms.Normalize((0.4914, 0.4822, 0.4465),\n",
    "                             (0.2470, 0.2435, 0.2616))\n",
    "    ])\n",
    "\n",
    "    # define new train dataset using above transformations\n",
    "    train_dataset1 = datasets.CIFAR10('CIFAR10',\n",
    "                                      train=True,\n",
    "                                      download=True,\n",
    "                                      transform=transform_tr1)\n",
    "\n",
    "    # define new loader with batch size and dataset\n",
    "    train_loader1 = torch.utils.data.DataLoader(train_dataset1,\n",
    "                                                batch_size=1000,\n",
    "                                                shuffle=True)\n",
    "    # initialize accuracy and loss\n",
    "    test_accuracy = 0\n",
    "    epoch_loss = 0\n",
    "\n",
    "    # loop through test batches and send to CPU\n",
    "    for j, (test_images, test_labels) in enumerate(train_loader1):\n",
    "        test_images, test_labels = test_images.to(device), test_labels.to(\n",
    "            device)\n",
    "\n",
    "        # run images through model to create outputs\n",
    "        test_outputs = model(test_images)\n",
    "\n",
    "        # compare outputs to actual labels\n",
    "        epoch_loss += criterion(test_outputs, test_labels).item()\n",
    "        test_accuracy += accuracy(test_outputs, test_labels)\n",
    "\n",
    "    # average over the number of batches\n",
    "    test_accuracy = test_accuracy / len(train_loader1)\n",
    "    test_loss = epoch_loss / len(train_loader1)\n",
    "\n",
    "    # print results\n",
    "    print(\"Training Loss (Full Dataset) is : {a:.2f}\".format(a=test_loss))\n",
    "    print(\"Training Accuracy (Full Dataset) is : {a:.2f}%\".format(\n",
    "        a=test_accuracy))"
   ]
  },
  {
   "cell_type": "code",
   "execution_count": 0,
   "metadata": {
    "ExecuteTime": {
     "end_time": "2020-03-05T17:29:38.846021Z",
     "start_time": "2020-03-05T17:27:18.903620Z"
    },
    "colab": {
     "base_uri": "https://localhost:8080/",
     "height": 68
    },
    "colab_type": "code",
    "id": "fHV2ORxx4i9h",
    "outputId": "b98433a5-50e4-4e15-aefc-4e164e4145e0",
    "scrolled": true
   },
   "outputs": [
    {
     "name": "stdout",
     "output_type": "stream",
     "text": [
      "Files already downloaded and verified\n",
      "Training Loss (Full Dataset) is : 0.22\n",
      "Training Accuracy (Full Dataset) is : 92.35%\n"
     ]
    }
   ],
   "source": [
    "test_on_training_data()"
   ]
  },
  {
   "cell_type": "markdown",
   "metadata": {
    "colab_type": "text",
    "id": "aJXfQhib4i9v"
   },
   "source": [
    "# Adversarial Attacks"
   ]
  },
  {
   "cell_type": "code",
   "execution_count": 23,
   "metadata": {
    "ExecuteTime": {
     "end_time": "2020-03-07T23:18:35.348826Z",
     "start_time": "2020-03-07T23:18:35.134617Z"
    },
    "colab": {},
    "colab_type": "code",
    "id": "2v1eu9GG4i9y"
   },
   "outputs": [],
   "source": [
    "# define loader with a single image loaded at a time\n",
    "test_loader1 = torch.utils.data.DataLoader(test_dataset,\n",
    "                                           batch_size=1,\n",
    "                                           shuffle=True)"
   ]
  },
  {
   "cell_type": "markdown",
   "metadata": {},
   "source": [
    "## Define FGSM attack"
   ]
  },
  {
   "cell_type": "code",
   "execution_count": 24,
   "metadata": {
    "ExecuteTime": {
     "end_time": "2020-03-07T23:18:37.650768Z",
     "start_time": "2020-03-07T23:18:37.391123Z"
    },
    "colab": {},
    "colab_type": "code",
    "id": "WKb-qTe84i93"
   },
   "outputs": [],
   "source": [
    "def fgsm(images, epsilon, images_gradient):\n",
    "    \"\"\"given a set of images, stored image gradients, and epsilon,\n",
    "    return fast gradient sign method perturbed image\"\"\"\n",
    "    sign = images.grad.sign()\n",
    "    new_image = images + epsilon * sign\n",
    "    return new_image"
   ]
  },
  {
   "cell_type": "markdown",
   "metadata": {},
   "source": [
    "## Test model with fgsm attack on single image"
   ]
  },
  {
   "cell_type": "code",
   "execution_count": 25,
   "metadata": {
    "ExecuteTime": {
     "end_time": "2020-03-07T23:18:39.794690Z",
     "start_time": "2020-03-07T23:18:39.461333Z"
    },
    "colab": {},
    "colab_type": "code",
    "id": "m6s-QyUW4i99"
   },
   "outputs": [],
   "source": [
    "def test_single_prediction(epsilon, model):\n",
    "    \"\"\"given one image and a value of epsilon, show the model \n",
    "    prediction with and without pertubation and visualize\"\"\"\n",
    "    # Run model on CPU\n",
    "    device = torch.device('cpu')\n",
    "    model.to(device)\n",
    "    model.eval()\n",
    "\n",
    "    # For randomly sampling one image from the data loader\n",
    "    indices = np.arange(10000)\n",
    "    np.random.shuffle(indices)\n",
    "    sampler = torch.utils.data.SubsetRandomSampler(indices[:1])\n",
    "\n",
    "    test_loader1 = torch.utils.data.DataLoader(test_dataset,\n",
    "                                               batch_size=1,\n",
    "                                               shuffle=False,\n",
    "                                               sampler=sampler)\n",
    "\n",
    "    # define sample image out of the batch in the correct shape for visualization\n",
    "    for test_images, test_labels in test_loader1:\n",
    "        sample_image = test_images[0, :, :]\n",
    "        sample_label = test_labels[0]\n",
    "\n",
    "    # fgsm requires that we track gradients\n",
    "    sample_image.requires_grad = True\n",
    "    test_images.requires_grad = True\n",
    "\n",
    "    # run model on single image in test_images and backward pass\n",
    "    output = model(test_images)\n",
    "\n",
    "    loss = criterion(output, test_labels)\n",
    "    model.zero_grad()\n",
    "    loss.backward()\n",
    "\n",
    "    # predicted label is the highest value in output\n",
    "    _, predicted = torch.max(output, 1)\n",
    "\n",
    "    # calculate confidence in prediction(probability)\n",
    "    # by applying softmax to output\n",
    "    confidence = torch.nn.functional.softmax(output, dim=1)\n",
    "    confidence = torch.max(confidence, 1)\n",
    "\n",
    "    # fgsm adversarial attack on test_images\n",
    "    fgsm_images = fgsm(test_images, epsilon, test_images.grad.data)\n",
    "\n",
    "    # run model on single perturbed image\n",
    "    fgsm_output = model(fgsm_images)\n",
    "\n",
    "    # predicted label is the highest value in output\n",
    "    _, fgsm_predicted = torch.max(fgsm_output, 1)\n",
    "\n",
    "    # calculate confidence in prediction(probability)\n",
    "    # by applying softmax to output\n",
    "    fgsm_confidence = torch.nn.functional.softmax(fgsm_output, dim=1)\n",
    "    fgsm_confidence = torch.max(fgsm_confidence, 1)\n",
    "\n",
    "    # logging model prediction before and after fgsm attack\n",
    "    print(\"True label is: {tl} - {tl_desc}\\n\\\n",
    "    \\nBefore fgsm - Model prediction: {pred1} - {pred1_desc} with {conf1:.2f}% Confidence\\n\\\n",
    "    \\nAfter fgsm - Model prediction: {pred2} - {pred2_desc} with {conf2:.2f}% Confidence\\n\\\n",
    "    \".format(tl=sample_label,\n",
    "             tl_desc=train_dataset.classes[sample_label],\n",
    "             pred1=predicted[0],\n",
    "             pred1_desc=train_dataset.classes[predicted[0]],\n",
    "             pred2=fgsm_predicted[0],\n",
    "             pred2_desc=train_dataset.classes[fgsm_predicted[0]],\n",
    "             conf1=confidence[0].item() * 100,\n",
    "             conf2=fgsm_confidence[0].item() * 100))\n",
    "\n",
    "    # define mean and standard deviation for reversing normalization\n",
    "    std = tst_std\n",
    "    mean = tst_mean\n",
    "    mean = mean[:, None, None]\n",
    "    std = std[:, None, None]\n",
    "\n",
    "    # reverse normalization\n",
    "    sample_image = sample_image * std + mean\n",
    "    adv_image = fgsm_images * std + mean\n",
    "    fgsm_vis = epsilon * test_images.grad.sign()\n",
    "\n",
    "    # list of images and label for visualization\n",
    "    images_list = [\n",
    "        sample_image.detach(),\n",
    "        fgsm_vis.detach()[0, :, :],\n",
    "        adv_image.detach()[0, :, :]\n",
    "    ]\n",
    "    labels_for_vis = [\"Original Image\", \"FGSM Noise\", \"Perturbed Image\"]\n",
    "\n",
    "    # setup figure with 3 columns and 1\n",
    "    ax = []\n",
    "    fig = plt.figure(figsize=(32, 32))\n",
    "    columns = 3\n",
    "    rows = 1\n",
    "\n",
    "    # visualization\n",
    "    plt.rcParams.update({'font.size': 22})\n",
    "    for i in range(1, columns * rows + 1):\n",
    "        ax.append(fig.add_subplot(rows, columns, i))\n",
    "        ax[-1].set_title(labels_for_vis[i - 1])\n",
    "        plt.imshow(np.transpose(images_list[i - 1], (1, 2, 0)))\n",
    "\n",
    "    plt.rcParams.update({'font.size': 12})\n",
    "    plt.show()"
   ]
  },
  {
   "cell_type": "code",
   "execution_count": 0,
   "metadata": {
    "ExecuteTime": {
     "end_time": "2020-03-05T00:37:28.900180Z",
     "start_time": "2020-03-05T00:37:28.703731Z"
    },
    "colab": {
     "base_uri": "https://localhost:8080/",
     "height": 51
    },
    "colab_type": "code",
    "id": "LB3oY2AhFwRS",
    "outputId": "21892028-a812-4a8c-90bd-ea9455c51836"
   },
   "outputs": [
    {
     "name": "stdout",
     "output_type": "stream",
     "text": [
      "Classes are: ['airplane', 'automobile', 'bird', 'cat', 'deer', 'dog', 'frog', 'horse', 'ship', 'truck']\n",
      "\n"
     ]
    }
   ],
   "source": [
    "print(\"Classes are: {}\\n\".format(test_dataset.classes))"
   ]
  },
  {
   "cell_type": "code",
   "execution_count": 26,
   "metadata": {
    "ExecuteTime": {
     "end_time": "2020-03-07T23:18:46.108715Z",
     "start_time": "2020-03-07T23:18:45.835134Z"
    },
    "colab": {
     "base_uri": "https://localhost:8080/",
     "height": 765
    },
    "colab_type": "code",
    "id": "BrS8Bdys4i-H",
    "outputId": "2b60e018-0579-4675-d187-23c27c7b710d",
    "scrolled": false
   },
   "outputs": [
    {
     "ename": "SyntaxError",
     "evalue": "positional argument follows keyword argument (<ipython-input-26-9517a954f24d>, line 1)",
     "output_type": "error",
     "traceback": [
      "\u001b[1;36m  File \u001b[1;32m\"<ipython-input-26-9517a954f24d>\"\u001b[1;36m, line \u001b[1;32m1\u001b[0m\n\u001b[1;33m    test_single_prediction(epsilon=0.02, model)\u001b[0m\n\u001b[1;37m                                        ^\u001b[0m\n\u001b[1;31mSyntaxError\u001b[0m\u001b[1;31m:\u001b[0m positional argument follows keyword argument\n"
     ]
    }
   ],
   "source": [
    "test_single_prediction(epsilon=0.02, model=model)"
   ]
  },
  {
   "cell_type": "code",
   "execution_count": 0,
   "metadata": {
    "ExecuteTime": {
     "end_time": "2020-03-05T00:40:14.550367Z",
     "start_time": "2020-03-05T00:40:12.085995Z"
    },
    "colab": {
     "base_uri": "https://localhost:8080/",
     "height": 765
    },
    "colab_type": "code",
    "id": "pJ2XqsQWpwll",
    "outputId": "7eb1df03-21f8-4147-89bc-549fb4f56097"
   },
   "outputs": [
    {
     "name": "stderr",
     "output_type": "stream",
     "text": [
      "Clipping input data to the valid range for imshow with RGB data ([0..1] for floats or [0..255] for integers).\n",
      "Clipping input data to the valid range for imshow with RGB data ([0..1] for floats or [0..255] for integers).\n"
     ]
    },
    {
     "name": "stdout",
     "output_type": "stream",
     "text": [
      "True label is: 4 - deer\n",
      "    \n",
      "Before fgsm - Model prediction: 4 - deer with 99.94% Confidence\n",
      "    \n",
      "After fgsm - Model prediction: 2 - bird with 99.97% Confidence\n",
      "    \n"
     ]
    },
    {
     "data": {
      "image/png": "[encoded data removed]",
      "text/plain": [
       "<Figure size 2304x2304 with 3 Axes>"
      ]
     },
     "metadata": {
      "tags": []
     },
     "output_type": "display_data"
    }
   ],
   "source": [
    "test_single_prediction(epsilon=0.1, model=model)"
   ]
  },
  {
   "cell_type": "markdown",
   "metadata": {},
   "source": [
    "## Test model with fgsm attacks on entire testing dataset"
   ]
  },
  {
   "cell_type": "code",
   "execution_count": 27,
   "metadata": {
    "ExecuteTime": {
     "end_time": "2020-03-07T23:19:01.079972Z",
     "start_time": "2020-03-07T23:19:00.812152Z"
    },
    "colab": {},
    "colab_type": "code",
    "id": "4HLy1zRB4i-V"
   },
   "outputs": [],
   "source": [
    "def test_fgsm(model, device, test_loader1, epsilon):\n",
    "    \"\"\"given value of epsilon, determine prediction accuracy on test set\n",
    "    without and without perturbation\"\"\"\n",
    "\n",
    "    device = torch.device('cpu')\n",
    "    model.to(device)\n",
    "    model.eval()\n",
    "\n",
    "    # Accuracy counter\n",
    "    correct = 0\n",
    "    adv_examples = []\n",
    "\n",
    "    # Loop over all examples in test set\n",
    "    for images, labels in test_loader1:\n",
    "\n",
    "        # Send the data and label to the device\n",
    "        images, labels = images.to(device), labels.to(device)\n",
    "\n",
    "        # Set requires_grad attribute of tensor. Important for Attack\n",
    "        images.requires_grad = True\n",
    "\n",
    "        # Forward pass the data through the model\n",
    "        output = model(images)\n",
    "        init_pred = output.max(\n",
    "            1, keepdim=True)[1]  # get the index of the max log-probability\n",
    "\n",
    "        # If the initial prediction is wrong, dont bother attacking, just move on\n",
    "        if init_pred.item() != labels.item():\n",
    "            continue\n",
    "\n",
    "        # Calculate the loss\n",
    "        loss = criterion(output, labels)\n",
    "\n",
    "        # Zero all existing gradients\n",
    "        model.zero_grad()\n",
    "\n",
    "        # Calculate gradients of model in backward pass\n",
    "        loss.backward()\n",
    "\n",
    "        # Collect datagrad\n",
    "        images_gradient = images.grad.data\n",
    "\n",
    "        # Call FGSM Attack\n",
    "        perturbed_data = fgsm(images, epsilon, images_gradient)\n",
    "\n",
    "        # Re-classify the perturbed image\n",
    "        output = model(perturbed_data)\n",
    "\n",
    "        # Check for success\n",
    "        final_pred = output.max(\n",
    "            1, keepdim=True)[1]  # get the index of the max log-probability\n",
    "        if final_pred.item() == labels.item():\n",
    "            correct += 1\n",
    "            # Special case for saving 0 epsilon examples\n",
    "            if (epsilon == 0) and (len(adv_examples) < 5):\n",
    "                adv_ex = perturbed_data.squeeze().detach().cpu().numpy()\n",
    "                adv_examples.append(\n",
    "                    (init_pred.item(), final_pred.item(), adv_ex))\n",
    "        else:\n",
    "            # Save some adv examples for visualization later\n",
    "            if len(adv_examples) < 5:\n",
    "                adv_ex = perturbed_data.squeeze().detach().cpu().numpy()\n",
    "                adv_examples.append(\n",
    "                    (init_pred.item(), final_pred.item(), adv_ex))\n",
    "\n",
    "    # Calculate final accuracy for this epsilon\n",
    "    final_acc = correct / float(len(test_loader1))\n",
    "    print(\"Epsilon: {}\\tTest Accuracy = {} / {} = {}\".format(\n",
    "        epsilon, correct, len(test_loader1), final_acc))\n",
    "\n",
    "    # Return the accuracy and an adversarial example\n",
    "    return final_acc, adv_examples"
   ]
  },
  {
   "cell_type": "code",
   "execution_count": null,
   "metadata": {},
   "outputs": [],
   "source": [
    "# List of epsilon values to test\n",
    "epsilon = np.array((0, 1, 2, 3, 4, 5, 6, 7, 8, 9, 10))/255"
   ]
  },
  {
   "cell_type": "code",
   "execution_count": 33,
   "metadata": {
    "ExecuteTime": {
     "end_time": "2020-03-03T19:15:19.306340Z",
     "start_time": "2020-03-03T18:56:52.266743Z"
    },
    "colab": {
     "base_uri": "https://localhost:8080/",
     "height": 51
    },
    "colab_type": "code",
    "id": "8hh0fubC4i-b",
    "outputId": "bc8f5e32-6b04-44e6-e6de-341ab6b4db44"
   },
   "outputs": [
    {
     "name": "stdout",
     "output_type": "stream",
     "text": [
      "Epsilon: 0\tTest Accuracy = 8416 / 10000 = 0.8416\n",
      "Epsilon: 0.02\tTest Accuracy = 6933 / 10000 = 0.6933\n"
     ]
    }
   ],
   "source": [
    "accuracies = []\n",
    "examples = []\n",
    "\n",
    "# Run test for each epsilon\n",
    "for eps in epsilon:\n",
    "    acc, ex = test_fgsm(model, device, test_loader1, eps)\n",
    "    accuracies.append(acc)\n",
    "    examples.append(ex)"
   ]
  },
  {
   "cell_type": "code",
   "execution_count": 0,
   "metadata": {
    "ExecuteTime": {
     "end_time": "2020-03-03T19:16:56.826262Z",
     "start_time": "2020-03-03T19:16:56.666353Z"
    },
    "colab": {},
    "colab_type": "code",
    "id": "2vtp5b_a4i-g"
   },
   "outputs": [],
   "source": [
    "# visualization of epsilon vs test accuracy\n",
    "plt.figure(figsize=(5, 5))\n",
    "plt.plot(epsilon, accuracies, \"*-\")\n",
    "plt.yticks(np.arange(0, 0.4, step=0.1))\n",
    "plt.xticks(np.arange(0.05, 0.11, step=0.01))\n",
    "plt.title(\"Accuracy vs Epsilon\")\n",
    "plt.xlabel(\"Epsilon\")\n",
    "plt.ylabel(\"Accuracy\")\n",
    "plt.show()"
   ]
  },
  {
   "cell_type": "markdown",
   "metadata": {},
   "source": [
    "# Defending From Adversarial Attacks"
   ]
  },
  {
   "cell_type": "markdown",
   "metadata": {},
   "source": [
    "## Set or load robust model"
   ]
  },
  {
   "cell_type": "code",
   "execution_count": 28,
   "metadata": {
    "ExecuteTime": {
     "end_time": "2020-03-07T23:19:07.509221Z",
     "start_time": "2020-03-07T23:19:07.255476Z"
    },
    "colab": {},
    "colab_type": "code",
    "id": "XOv_Rsd-K-eP"
   },
   "outputs": [
    {
     "data": {
      "text/plain": [
       "Neural_Network(\n",
       "  (conv1): Conv2d(3, 100, kernel_size=(3, 3), stride=(1, 1), padding=(1, 1))\n",
       "  (conv2): Conv2d(100, 200, kernel_size=(2, 2), stride=(1, 1), padding=(1, 1))\n",
       "  (conv3): Conv2d(200, 300, kernel_size=(2, 2), stride=(1, 1), padding=(1, 1))\n",
       "  (conv4): Conv2d(300, 400, kernel_size=(2, 2), stride=(1, 1), padding=(1, 1))\n",
       "  (conv5): Conv2d(400, 500, kernel_size=(2, 2), stride=(1, 1), padding=(1, 1))\n",
       "  (drop): Dropout2d(p=0.5, inplace=False)\n",
       "  (pool): MaxPool2d(kernel_size=2, stride=2, padding=0, dilation=1, ceil_mode=False)\n",
       "  (fc1): Linear(in_features=4500, out_features=10, bias=True)\n",
       "  (activ1): ReLU()\n",
       ")"
      ]
     },
     "execution_count": 28,
     "metadata": {},
     "output_type": "execute_result"
    }
   ],
   "source": [
    "# Use this cell if training a new model\n",
    "model_robust = Neural_Network()\n",
    "device = cpu_or_gpu()\n",
    "model.to(device)"
   ]
  },
  {
   "cell_type": "code",
   "execution_count": null,
   "metadata": {},
   "outputs": [],
   "source": [
    "# Use this cell if loading a saved model\n",
    "model = Neural_Network()\n",
    "device = cpu_or_gpu()\n",
    "model.to(device)\n",
    "model.load_state_dict(\n",
    "    torch.load(\"finalmodelwithmaxdrop\"))\n",
    "# Conv-NN-ReLU-88.5testaccuracy\"))  # <------- Insert path of saved model as string here\n",
    "\n",
    "model.eval()"
   ]
  },
  {
   "cell_type": "code",
   "execution_count": 29,
   "metadata": {
    "ExecuteTime": {
     "end_time": "2020-03-07T23:19:10.445943Z",
     "start_time": "2020-03-07T23:19:10.063658Z"
    }
   },
   "outputs": [
    {
     "name": "stdout",
     "output_type": "stream",
     "text": [
      "----------------------------------------------------------------\n",
      "        Layer (type)               Output Shape         Param #\n",
      "================================================================\n",
      "            Conv2d-1          [-1, 100, 32, 32]           2,800\n",
      "              ReLU-2          [-1, 100, 32, 32]               0\n",
      "         MaxPool2d-3          [-1, 100, 16, 16]               0\n",
      "            Conv2d-4          [-1, 200, 17, 17]          80,200\n",
      "              ReLU-5          [-1, 200, 17, 17]               0\n",
      "         MaxPool2d-6            [-1, 200, 8, 8]               0\n",
      "            Conv2d-7            [-1, 300, 9, 9]         240,300\n",
      "              ReLU-8            [-1, 300, 9, 9]               0\n",
      "         MaxPool2d-9            [-1, 300, 4, 4]               0\n",
      "           Conv2d-10            [-1, 400, 5, 5]         480,400\n",
      "             ReLU-11            [-1, 400, 5, 5]               0\n",
      "        MaxPool2d-12            [-1, 400, 2, 2]               0\n",
      "           Conv2d-13            [-1, 500, 3, 3]         800,500\n",
      "             ReLU-14            [-1, 500, 3, 3]               0\n",
      "        Dropout2d-15            [-1, 500, 3, 3]               0\n",
      "           Linear-16                   [-1, 10]          45,010\n",
      "================================================================\n",
      "Total params: 1,649,210\n",
      "Trainable params: 1,649,210\n",
      "Non-trainable params: 0\n",
      "----------------------------------------------------------------\n",
      "Input size (MB): 0.01\n",
      "Forward/backward pass size (MB): 3.41\n",
      "Params size (MB): 6.29\n",
      "Estimated Total Size (MB): 9.72\n",
      "----------------------------------------------------------------\n"
     ]
    }
   ],
   "source": [
    "# Summary of layers, output shape, parameters, and size\n",
    "summary(model, input_size=(3, 32, 32))"
   ]
  },
  {
   "cell_type": "markdown",
   "metadata": {},
   "source": [
    "## Robust training function"
   ]
  },
  {
   "cell_type": "code",
   "execution_count": 31,
   "metadata": {
    "ExecuteTime": {
     "end_time": "2020-03-07T23:19:29.519187Z",
     "start_time": "2020-03-07T23:19:29.253220Z"
    },
    "colab": {},
    "colab_type": "code",
    "id": "7d8rCEToLmPi"
   },
   "outputs": [],
   "source": [
    "def train_robust():\n",
    "\n",
    "    # Initial hyperparameters\n",
    "    number_of_epochs = 100\n",
    "    step_size = 0.01\n",
    "    momentum_parameter = 0.9\n",
    "    weight_decay = 0\n",
    "    lambda1 = 0.001\n",
    "\n",
    "    # L2 Regularization\n",
    "    all_linear1_params = torch.cat(\n",
    "        [x.view(-1) for x in model.fc1.parameters()])\n",
    "    l2_regularization = lambda1 * torch.norm(all_linear1_params, 1)\n",
    "\n",
    "    # Initialize optimiser\n",
    "    optimiser = optim.SGD(model.parameters(),\n",
    "                          lr=step_size,\n",
    "                          momentum=momentum_parameter,\n",
    "                          weight_decay=weight_decay)\n",
    "\n",
    "    # initialize lists for running counts of loss and accuracy\n",
    "    running_loss = []\n",
    "    running_val_loss = []\n",
    "    running_loss_robust = []\n",
    "    running_training_accuracy = []\n",
    "    running_training_accuracy.append(0)\n",
    "    running_val_accuracy = []\n",
    "    running_val_accuracy.append(0)\n",
    "\n",
    "    print(\"Log -- Step size: {}, Momentum: {}, batch_size = {}\".format(\n",
    "        step_size, momentum_parameter, train_batch_size))\n",
    "\n",
    "    # loop for epochs\n",
    "    for k in range(number_of_epochs):\n",
    "        model.train()\n",
    "        device = cpu_or_gpu()\n",
    "        model.to(device)\n",
    "\n",
    "        # initialize epoch loss and training accuracy\n",
    "        epoch_loss = 0\n",
    "        epoch_loss_robust = 0\n",
    "        training_accuracy = 0\n",
    "\n",
    "        # handle reducing step size at various iterations\n",
    "\n",
    "        step_size = reduce_step_size(iteration_cutoff=10,\n",
    "                                     old_step_size=step_size,\n",
    "                                     new_step_size=0.001,\n",
    "                                     epoch=k)\n",
    "\n",
    "        optimiser = optim.SGD(model.parameters(),\n",
    "                              lr=step_size,\n",
    "                              momentum=momentum_parameter,\n",
    "                              weight_decay=weight_decay)\n",
    "\n",
    "        # Main Training Loop\n",
    "        for j, (images, labels) in enumerate(train_loader):\n",
    "            images, labels = images.to(device), labels.to(device)\n",
    "            images.requires_grad = True\n",
    "\n",
    "            # pass inputs through model one time to get regular model loss\n",
    "            optimiser.zero_grad()\n",
    "            outputs = model(images)\n",
    "            loss = criterion(outputs, labels) + (l2_regularization/len(images))\n",
    "            loss.backward(retain_graph=True)\n",
    "\n",
    "            # with probablity p=0.5, perturb images using random epsilon between 0 and 0.3\n",
    "            probability = int(np.random.randint(1, 10, 1))\n",
    "            if probability > 5:\n",
    "                images = fgsm(images, int(np.random.randint(\n",
    "                    1, 100, 1))*0.03, images.grad.sign())\n",
    "\n",
    "            # pass new inputs through model a second time to get robust model loss\n",
    "            optimiser.zero_grad()\n",
    "            outputs = model(images)\n",
    "            loss_robust = criterion(outputs, labels) + \\\n",
    "                (l2_regularization/len(images))\n",
    "            loss_robust.backward(retain_graph=True)\n",
    "            optimiser.step()\n",
    "\n",
    "            epoch_loss += loss.item()\n",
    "            epoch_loss_robust += loss_robust.item()\n",
    "            training_accuracy += accuracy(outputs, labels)\n",
    "\n",
    "        # Caclulate average loss and accuracy for each epoch\n",
    "        running_loss.append(epoch_loss / len(train_loader))\n",
    "        running_loss_robust.append(epoch_loss_robust / len(train_loader))\n",
    "        running_training_accuracy.append(training_accuracy / len(train_loader))\n",
    "\n",
    "        # Validation test once per epoch\n",
    "        device = torch.device('cpu')\n",
    "        model.eval()\n",
    "        model.to(device)\n",
    "        val_images, val_labels = iter(val_loader).next()\n",
    "        val_images, val_labels = val_images.to(device), val_labels.to(device)\n",
    "        val_outputs = model(val_images) + (l2_regularization/len(val_images))\n",
    "        val_loss = criterion(val_outputs, val_labels).item()\n",
    "\n",
    "        # Store validation loss and accuracy\n",
    "        running_val_loss.append(val_loss)\n",
    "        val_accuracy = accuracy(val_outputs, val_labels)\n",
    "        running_val_accuracy.append(val_accuracy)\n",
    "\n",
    "        # Running log\n",
    "        if k % 1 == 0:\n",
    "            print(\n",
    "                \"Epoch {a}/{b} -> Tr. Loss (Original) = {c:.4f}, Tr. Loss (Robust) = {g:.4f} Val. Loss = {d:.4f}, Tr. Acc = {e:.2f}, Val. Acc = {f:.2f}\"\n",
    "                .format(a=k,\n",
    "                        b=number_of_epochs,\n",
    "                        c=running_loss[-1],\n",
    "                        d=running_val_loss[-1],\n",
    "                        e=running_training_accuracy[-1],\n",
    "                        f=running_val_accuracy[-1],\n",
    "                        g=running_loss_robust[-1]))\n",
    "\n",
    "        # Break condition (validation loss is rising)\n",
    "        \"\"\"if len(running_val_loss) > 30 and running_val_loss[-1] - running_val_loss[-30] > 0:\n",
    "            break\"\"\"\n",
    "\n",
    "    print(\"Final Epoch {} -> Loss = {}\".format(k, running_loss_robust[-1]))\n",
    "\n",
    "    return running_loss, running_loss_robust, running_val_loss, running_training_accuracy, running_val_accuracy"
   ]
  },
  {
   "cell_type": "code",
   "execution_count": 32,
   "metadata": {
    "ExecuteTime": {
     "end_time": "2020-03-07T23:21:02.723724Z",
     "start_time": "2020-03-07T23:19:33.210585Z"
    },
    "colab": {
     "base_uri": "https://localhost:8080/",
     "height": 715
    },
    "colab_type": "code",
    "id": "GkaPA3zHaszi",
    "outputId": "e3ee3364-e277-4d74-c66f-c8c4d133b455"
   },
   "outputs": [
    {
     "name": "stdout",
     "output_type": "stream",
     "text": [
      "Log -- Step size: 0.01, Momentum: 0.9, batch_size = 32\n"
     ]
    },
    {
     "ename": "KeyboardInterrupt",
     "evalue": "",
     "output_type": "error",
     "traceback": [
      "\u001b[1;31m---------------------------------------------------------------------------\u001b[0m",
      "\u001b[1;31mKeyboardInterrupt\u001b[0m                         Traceback (most recent call last)",
      "\u001b[1;32m<ipython-input-32-75838d775e2c>\u001b[0m in \u001b[0;36m<module>\u001b[1;34m\u001b[0m\n\u001b[1;32m----> 1\u001b[1;33m \u001b[0mrunning_loss1\u001b[0m\u001b[1;33m,\u001b[0m \u001b[0mrunning_loss_robust\u001b[0m\u001b[1;33m,\u001b[0m \u001b[0mrunning_val_loss1\u001b[0m\u001b[1;33m,\u001b[0m \u001b[0mrunning_training_accuracy1\u001b[0m\u001b[1;33m,\u001b[0m \u001b[0mrunning_val_accuracy1\u001b[0m \u001b[1;33m=\u001b[0m \u001b[0mtrain_robust\u001b[0m\u001b[1;33m(\u001b[0m\u001b[1;33m)\u001b[0m\u001b[1;33m\u001b[0m\u001b[1;33m\u001b[0m\u001b[0m\n\u001b[0m",
      "\u001b[1;32m<ipython-input-31-4aa09fb2c04f>\u001b[0m in \u001b[0;36mtrain_robust\u001b[1;34m()\u001b[0m\n\u001b[0;32m     62\u001b[0m              \u001b[1;31m# pass inputs through model one time to get regular model loss\u001b[0m\u001b[1;33m\u001b[0m\u001b[1;33m\u001b[0m\u001b[1;33m\u001b[0m\u001b[0m\n\u001b[0;32m     63\u001b[0m             \u001b[0moptimiser\u001b[0m\u001b[1;33m.\u001b[0m\u001b[0mzero_grad\u001b[0m\u001b[1;33m(\u001b[0m\u001b[1;33m)\u001b[0m\u001b[1;33m\u001b[0m\u001b[1;33m\u001b[0m\u001b[0m\n\u001b[1;32m---> 64\u001b[1;33m             \u001b[0moutputs\u001b[0m \u001b[1;33m=\u001b[0m \u001b[0mmodel\u001b[0m\u001b[1;33m(\u001b[0m\u001b[0mimages\u001b[0m\u001b[1;33m)\u001b[0m\u001b[1;33m\u001b[0m\u001b[1;33m\u001b[0m\u001b[0m\n\u001b[0m\u001b[0;32m     65\u001b[0m             \u001b[0mloss\u001b[0m \u001b[1;33m=\u001b[0m \u001b[0mcriterion\u001b[0m\u001b[1;33m(\u001b[0m\u001b[0moutputs\u001b[0m\u001b[1;33m,\u001b[0m \u001b[0mlabels\u001b[0m\u001b[1;33m)\u001b[0m\u001b[1;33m+\u001b[0m \u001b[1;33m(\u001b[0m\u001b[0ml2_regularization\u001b[0m\u001b[1;33m/\u001b[0m\u001b[0mlen\u001b[0m\u001b[1;33m(\u001b[0m\u001b[0mimages\u001b[0m\u001b[1;33m)\u001b[0m\u001b[1;33m)\u001b[0m\u001b[1;33m\u001b[0m\u001b[1;33m\u001b[0m\u001b[0m\n\u001b[0;32m     66\u001b[0m             \u001b[0mloss\u001b[0m\u001b[1;33m.\u001b[0m\u001b[0mbackward\u001b[0m\u001b[1;33m(\u001b[0m\u001b[0mretain_graph\u001b[0m\u001b[1;33m=\u001b[0m\u001b[1;32mTrue\u001b[0m\u001b[1;33m)\u001b[0m\u001b[1;33m\u001b[0m\u001b[1;33m\u001b[0m\u001b[0m\n",
      "\u001b[1;32m~\\Anaconda3\\lib\\site-packages\\torch\\nn\\modules\\module.py\u001b[0m in \u001b[0;36m__call__\u001b[1;34m(self, *input, **kwargs)\u001b[0m\n\u001b[0;32m    530\u001b[0m             \u001b[0mresult\u001b[0m \u001b[1;33m=\u001b[0m \u001b[0mself\u001b[0m\u001b[1;33m.\u001b[0m\u001b[0m_slow_forward\u001b[0m\u001b[1;33m(\u001b[0m\u001b[1;33m*\u001b[0m\u001b[0minput\u001b[0m\u001b[1;33m,\u001b[0m \u001b[1;33m**\u001b[0m\u001b[0mkwargs\u001b[0m\u001b[1;33m)\u001b[0m\u001b[1;33m\u001b[0m\u001b[1;33m\u001b[0m\u001b[0m\n\u001b[0;32m    531\u001b[0m         \u001b[1;32melse\u001b[0m\u001b[1;33m:\u001b[0m\u001b[1;33m\u001b[0m\u001b[1;33m\u001b[0m\u001b[0m\n\u001b[1;32m--> 532\u001b[1;33m             \u001b[0mresult\u001b[0m \u001b[1;33m=\u001b[0m \u001b[0mself\u001b[0m\u001b[1;33m.\u001b[0m\u001b[0mforward\u001b[0m\u001b[1;33m(\u001b[0m\u001b[1;33m*\u001b[0m\u001b[0minput\u001b[0m\u001b[1;33m,\u001b[0m \u001b[1;33m**\u001b[0m\u001b[0mkwargs\u001b[0m\u001b[1;33m)\u001b[0m\u001b[1;33m\u001b[0m\u001b[1;33m\u001b[0m\u001b[0m\n\u001b[0m\u001b[0;32m    533\u001b[0m         \u001b[1;32mfor\u001b[0m \u001b[0mhook\u001b[0m \u001b[1;32min\u001b[0m \u001b[0mself\u001b[0m\u001b[1;33m.\u001b[0m\u001b[0m_forward_hooks\u001b[0m\u001b[1;33m.\u001b[0m\u001b[0mvalues\u001b[0m\u001b[1;33m(\u001b[0m\u001b[1;33m)\u001b[0m\u001b[1;33m:\u001b[0m\u001b[1;33m\u001b[0m\u001b[1;33m\u001b[0m\u001b[0m\n\u001b[0;32m    534\u001b[0m             \u001b[0mhook_result\u001b[0m \u001b[1;33m=\u001b[0m \u001b[0mhook\u001b[0m\u001b[1;33m(\u001b[0m\u001b[0mself\u001b[0m\u001b[1;33m,\u001b[0m \u001b[0minput\u001b[0m\u001b[1;33m,\u001b[0m \u001b[0mresult\u001b[0m\u001b[1;33m)\u001b[0m\u001b[1;33m\u001b[0m\u001b[1;33m\u001b[0m\u001b[0m\n",
      "\u001b[1;32m<ipython-input-17-1e50c792b0ef>\u001b[0m in \u001b[0;36mforward\u001b[1;34m(self, x)\u001b[0m\n\u001b[0;32m     25\u001b[0m     \u001b[1;32mdef\u001b[0m \u001b[0mforward\u001b[0m\u001b[1;33m(\u001b[0m\u001b[0mself\u001b[0m\u001b[1;33m,\u001b[0m \u001b[0mx\u001b[0m\u001b[1;33m)\u001b[0m\u001b[1;33m:\u001b[0m\u001b[1;33m\u001b[0m\u001b[1;33m\u001b[0m\u001b[0m\n\u001b[0;32m     26\u001b[0m         \u001b[1;31m# 5 convolutional / pooling layers\u001b[0m\u001b[1;33m\u001b[0m\u001b[1;33m\u001b[0m\u001b[1;33m\u001b[0m\u001b[0m\n\u001b[1;32m---> 27\u001b[1;33m         \u001b[0mx\u001b[0m \u001b[1;33m=\u001b[0m \u001b[0mself\u001b[0m\u001b[1;33m.\u001b[0m\u001b[0mactiv1\u001b[0m\u001b[1;33m(\u001b[0m\u001b[0mself\u001b[0m\u001b[1;33m.\u001b[0m\u001b[0mconv1\u001b[0m\u001b[1;33m(\u001b[0m\u001b[0mx\u001b[0m\u001b[1;33m)\u001b[0m\u001b[1;33m)\u001b[0m\u001b[1;33m\u001b[0m\u001b[1;33m\u001b[0m\u001b[0m\n\u001b[0m\u001b[0;32m     28\u001b[0m         \u001b[0mx\u001b[0m \u001b[1;33m=\u001b[0m \u001b[0mself\u001b[0m\u001b[1;33m.\u001b[0m\u001b[0mpool\u001b[0m\u001b[1;33m(\u001b[0m\u001b[0mx\u001b[0m\u001b[1;33m)\u001b[0m\u001b[1;33m\u001b[0m\u001b[1;33m\u001b[0m\u001b[0m\n\u001b[0;32m     29\u001b[0m         \u001b[0mx\u001b[0m \u001b[1;33m=\u001b[0m \u001b[0mself\u001b[0m\u001b[1;33m.\u001b[0m\u001b[0mactiv1\u001b[0m\u001b[1;33m(\u001b[0m\u001b[0mself\u001b[0m\u001b[1;33m.\u001b[0m\u001b[0mconv2\u001b[0m\u001b[1;33m(\u001b[0m\u001b[0mx\u001b[0m\u001b[1;33m)\u001b[0m\u001b[1;33m)\u001b[0m\u001b[1;33m\u001b[0m\u001b[1;33m\u001b[0m\u001b[0m\n",
      "\u001b[1;32m~\\Anaconda3\\lib\\site-packages\\torch\\nn\\modules\\module.py\u001b[0m in \u001b[0;36m__call__\u001b[1;34m(self, *input, **kwargs)\u001b[0m\n\u001b[0;32m    530\u001b[0m             \u001b[0mresult\u001b[0m \u001b[1;33m=\u001b[0m \u001b[0mself\u001b[0m\u001b[1;33m.\u001b[0m\u001b[0m_slow_forward\u001b[0m\u001b[1;33m(\u001b[0m\u001b[1;33m*\u001b[0m\u001b[0minput\u001b[0m\u001b[1;33m,\u001b[0m \u001b[1;33m**\u001b[0m\u001b[0mkwargs\u001b[0m\u001b[1;33m)\u001b[0m\u001b[1;33m\u001b[0m\u001b[1;33m\u001b[0m\u001b[0m\n\u001b[0;32m    531\u001b[0m         \u001b[1;32melse\u001b[0m\u001b[1;33m:\u001b[0m\u001b[1;33m\u001b[0m\u001b[1;33m\u001b[0m\u001b[0m\n\u001b[1;32m--> 532\u001b[1;33m             \u001b[0mresult\u001b[0m \u001b[1;33m=\u001b[0m \u001b[0mself\u001b[0m\u001b[1;33m.\u001b[0m\u001b[0mforward\u001b[0m\u001b[1;33m(\u001b[0m\u001b[1;33m*\u001b[0m\u001b[0minput\u001b[0m\u001b[1;33m,\u001b[0m \u001b[1;33m**\u001b[0m\u001b[0mkwargs\u001b[0m\u001b[1;33m)\u001b[0m\u001b[1;33m\u001b[0m\u001b[1;33m\u001b[0m\u001b[0m\n\u001b[0m\u001b[0;32m    533\u001b[0m         \u001b[1;32mfor\u001b[0m \u001b[0mhook\u001b[0m \u001b[1;32min\u001b[0m \u001b[0mself\u001b[0m\u001b[1;33m.\u001b[0m\u001b[0m_forward_hooks\u001b[0m\u001b[1;33m.\u001b[0m\u001b[0mvalues\u001b[0m\u001b[1;33m(\u001b[0m\u001b[1;33m)\u001b[0m\u001b[1;33m:\u001b[0m\u001b[1;33m\u001b[0m\u001b[1;33m\u001b[0m\u001b[0m\n\u001b[0;32m    534\u001b[0m             \u001b[0mhook_result\u001b[0m \u001b[1;33m=\u001b[0m \u001b[0mhook\u001b[0m\u001b[1;33m(\u001b[0m\u001b[0mself\u001b[0m\u001b[1;33m,\u001b[0m \u001b[0minput\u001b[0m\u001b[1;33m,\u001b[0m \u001b[0mresult\u001b[0m\u001b[1;33m)\u001b[0m\u001b[1;33m\u001b[0m\u001b[1;33m\u001b[0m\u001b[0m\n",
      "\u001b[1;32m~\\Anaconda3\\lib\\site-packages\\torch\\nn\\modules\\activation.py\u001b[0m in \u001b[0;36mforward\u001b[1;34m(self, input)\u001b[0m\n\u001b[0;32m     92\u001b[0m \u001b[1;33m\u001b[0m\u001b[0m\n\u001b[0;32m     93\u001b[0m     \u001b[1;32mdef\u001b[0m \u001b[0mforward\u001b[0m\u001b[1;33m(\u001b[0m\u001b[0mself\u001b[0m\u001b[1;33m,\u001b[0m \u001b[0minput\u001b[0m\u001b[1;33m)\u001b[0m\u001b[1;33m:\u001b[0m\u001b[1;33m\u001b[0m\u001b[1;33m\u001b[0m\u001b[0m\n\u001b[1;32m---> 94\u001b[1;33m         \u001b[1;32mreturn\u001b[0m \u001b[0mF\u001b[0m\u001b[1;33m.\u001b[0m\u001b[0mrelu\u001b[0m\u001b[1;33m(\u001b[0m\u001b[0minput\u001b[0m\u001b[1;33m,\u001b[0m \u001b[0minplace\u001b[0m\u001b[1;33m=\u001b[0m\u001b[0mself\u001b[0m\u001b[1;33m.\u001b[0m\u001b[0minplace\u001b[0m\u001b[1;33m)\u001b[0m\u001b[1;33m\u001b[0m\u001b[1;33m\u001b[0m\u001b[0m\n\u001b[0m\u001b[0;32m     95\u001b[0m \u001b[1;33m\u001b[0m\u001b[0m\n\u001b[0;32m     96\u001b[0m     \u001b[1;32mdef\u001b[0m \u001b[0mextra_repr\u001b[0m\u001b[1;33m(\u001b[0m\u001b[0mself\u001b[0m\u001b[1;33m)\u001b[0m\u001b[1;33m:\u001b[0m\u001b[1;33m\u001b[0m\u001b[1;33m\u001b[0m\u001b[0m\n",
      "\u001b[1;32m~\\Anaconda3\\lib\\site-packages\\torch\\nn\\functional.py\u001b[0m in \u001b[0;36mrelu\u001b[1;34m(input, inplace)\u001b[0m\n\u001b[0;32m    912\u001b[0m         \u001b[0mresult\u001b[0m \u001b[1;33m=\u001b[0m \u001b[0mtorch\u001b[0m\u001b[1;33m.\u001b[0m\u001b[0mrelu_\u001b[0m\u001b[1;33m(\u001b[0m\u001b[0minput\u001b[0m\u001b[1;33m)\u001b[0m\u001b[1;33m\u001b[0m\u001b[1;33m\u001b[0m\u001b[0m\n\u001b[0;32m    913\u001b[0m     \u001b[1;32melse\u001b[0m\u001b[1;33m:\u001b[0m\u001b[1;33m\u001b[0m\u001b[1;33m\u001b[0m\u001b[0m\n\u001b[1;32m--> 914\u001b[1;33m         \u001b[0mresult\u001b[0m \u001b[1;33m=\u001b[0m \u001b[0mtorch\u001b[0m\u001b[1;33m.\u001b[0m\u001b[0mrelu\u001b[0m\u001b[1;33m(\u001b[0m\u001b[0minput\u001b[0m\u001b[1;33m)\u001b[0m\u001b[1;33m\u001b[0m\u001b[1;33m\u001b[0m\u001b[0m\n\u001b[0m\u001b[0;32m    915\u001b[0m     \u001b[1;32mreturn\u001b[0m \u001b[0mresult\u001b[0m\u001b[1;33m\u001b[0m\u001b[1;33m\u001b[0m\u001b[0m\n\u001b[0;32m    916\u001b[0m \u001b[1;33m\u001b[0m\u001b[0m\n",
      "\u001b[1;31mKeyboardInterrupt\u001b[0m: "
     ]
    }
   ],
   "source": [
    "running_loss1, running_loss_robust, running_val_loss1, running_training_accuracy1, running_val_accuracy1 = train_robust()"
   ]
  },
  {
   "cell_type": "code",
   "execution_count": 0,
   "metadata": {
    "colab": {},
    "colab_type": "code",
    "id": "f3TlA1PWeaHv"
   },
   "outputs": [],
   "source": [
    "test_on_testing_data()"
   ]
  },
  {
   "cell_type": "code",
   "execution_count": null,
   "metadata": {},
   "outputs": [],
   "source": [
    "# For saving neural network parameters\n",
    "torch.save(model_robust.state_dict(),\n",
    "           \"ourmodel96percentaccuracy\")  # <----- make sure to update the path if saving new model"
   ]
  },
  {
   "cell_type": "code",
   "execution_count": null,
   "metadata": {},
   "outputs": [],
   "source": [
    "accuracies_robust = []\n",
    "examples_robust = []\n",
    "\n",
    "# Run test for each epsilon\n",
    "for eps in epsilon:\n",
    "    acc_robust, ex_robust = test_fgsm(model_robust, device, test_loader1, eps)\n",
    "    accuracies_robust.append(acc)\n",
    "    examples_robust.append(ex)"
   ]
  }
 ],
 "metadata": {
  "accelerator": "GPU",
  "colab": {
   "collapsed_sections": [
    "-YXZxf_84i7e"
   ],
   "machine_shape": "hm",
   "name": "Midterm Project (Version 4).ipynb",
   "provenance": []
  },
  "kernelspec": {
   "display_name": "Python 3",
   "language": "python",
   "name": "python3"
  },
  "language_info": {
   "codemirror_mode": {
    "name": "ipython",
    "version": 3
   },
   "file_extension": ".py",
   "mimetype": "text/x-python",
   "name": "python",
   "nbconvert_exporter": "python",
   "pygments_lexer": "ipython3",
   "version": "3.7.3"
  },
  "toc": {
   "base_numbering": 1,
   "nav_menu": {},
   "number_sections": true,
   "sideBar": true,
   "skip_h1_title": false,
   "title_cell": "Table of Contents",
   "title_sidebar": "Contents",
   "toc_cell": false,
   "toc_position": {
    "height": "calc(100% - 180px)",
    "left": "10px",
    "top": "150px",
    "width": "207.549px"
   },
   "toc_section_display": true,
   "toc_window_display": true
  },
  "varInspector": {
   "cols": {
    "lenName": 16,
    "lenType": 16,
    "lenVar": 40
   },
   "kernels_config": {
    "python": {
     "delete_cmd_postfix": "",
     "delete_cmd_prefix": "del ",
     "library": "var_list.py",
     "varRefreshCmd": "print(var_dic_list())"
    },
    "r": {
     "delete_cmd_postfix": ") ",
     "delete_cmd_prefix": "rm(",
     "library": "var_list.r",
     "varRefreshCmd": "cat(var_dic_list()) "
    }
   },
   "position": {
    "height": "405px",
    "left": "1447.22px",
    "right": "20px",
    "top": "150px",
    "width": "518px"
   },
   "types_to_exclude": [
    "module",
    "function",
    "builtin_function_or_method",
    "instance",
    "_Feature"
   ],
   "window_display": false
  }
 },
 "nbformat": 4,
 "nbformat_minor": 1
}

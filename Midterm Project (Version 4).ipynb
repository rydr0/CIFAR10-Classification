{
 "cells": [
  {
   "cell_type": "markdown",
   "metadata": {},
   "source": [
    "# Classification of CIFAR 10 Image Dataset\n",
    "## Using a Neural Network"
   ]
  },
  {
   "cell_type": "markdown",
   "metadata": {},
   "source": [
    "Starting lines and necessary imports"
   ]
  },
  {
   "cell_type": "code",
   "execution_count": 1,
   "metadata": {
    "ExecuteTime": {
     "end_time": "2020-03-04T14:50:19.286634Z",
     "start_time": "2020-03-04T14:50:17.562869Z"
    }
   },
   "outputs": [],
   "source": [
    "%matplotlib inline\n",
    "import numpy as np\n",
    "\n",
    "import matplotlib.pyplot as plt\n",
    "\n",
    "import torch\n",
    "import torch.nn as nn\n",
    "import torch.optim as optim\n",
    "from torch.autograd import Variable\n",
    "\n",
    "import torchvision\n",
    "import torchvision.transforms as transforms\n",
    "from torchvision import datasets, transforms\n",
    "\n",
    "from torchsummary import summary\n",
    "\n",
    "%load_ext autoreload\n",
    "%autoreload 2"
   ]
  },
  {
   "cell_type": "markdown",
   "metadata": {},
   "source": [
    "## Load CIFAR 10 Data using torchvision"
   ]
  },
  {
   "cell_type": "markdown",
   "metadata": {},
   "source": [
    "### Data Pre-processing (Mean, Standard Deviation and Transforms)"
   ]
  },
  {
   "cell_type": "code",
   "execution_count": 2,
   "metadata": {
    "ExecuteTime": {
     "end_time": "2020-03-04T14:50:30.126896Z",
     "start_time": "2020-03-04T14:50:25.276123Z"
    }
   },
   "outputs": [
    {
     "name": "stdout",
     "output_type": "stream",
     "text": [
      "Files already downloaded and verified\n",
      "Files already downloaded and verified\n"
     ]
    }
   ],
   "source": [
    "# Data Sets without any processing\n",
    "train_dataset_raw = datasets.CIFAR10('CIFAR10',\n",
    "                                 train=True,\n",
    "                                 download=True,\n",
    "                                 transform=transforms.ToTensor())\n",
    "test_dataset_raw = datasets.CIFAR10('CIFAR10',\n",
    "                                train=False,\n",
    "                                download=True,\n",
    "                                transform=transforms.ToTensor())"
   ]
  },
  {
   "cell_type": "code",
   "execution_count": 3,
   "metadata": {
    "ExecuteTime": {
     "end_time": "2020-03-04T14:50:30.196859Z",
     "start_time": "2020-03-04T14:50:30.126896Z"
    },
    "collapsed": true
   },
   "outputs": [],
   "source": [
    "def calculate_mean(loader):\n",
    "    images, labels = iter(loader).next()\n",
    "    mean = images.sum(dim=(0,2,3), keepdim=True)\n",
    "    mean = mean/images.shape[0]/images.size(2)/images.size(3)\n",
    "    return mean"
   ]
  },
  {
   "cell_type": "code",
   "execution_count": 4,
   "metadata": {
    "ExecuteTime": {
     "end_time": "2020-03-04T14:50:30.266403Z",
     "start_time": "2020-03-04T14:50:30.196859Z"
    },
    "collapsed": true
   },
   "outputs": [],
   "source": [
    "def calculate_std(loader, mean):\n",
    "    images, labels = iter(loader).next()\n",
    "    std = (images - mean).pow(2).sum(dim=(0,2,3), keepdim=True)\n",
    "    std = torch.sqrt(std/(images.shape[0]*images.size(2)*images.size(3)-1))\n",
    "    return std"
   ]
  },
  {
   "cell_type": "code",
   "execution_count": 5,
   "metadata": {
    "ExecuteTime": {
     "end_time": "2020-03-04T14:50:30.850196Z",
     "start_time": "2020-03-04T14:50:30.780210Z"
    },
    "collapsed": true
   },
   "outputs": [],
   "source": [
    "def mean_and_stddev():\n",
    "    train_loader = torch.utils.data.DataLoader(train_dataset_raw,\n",
    "                                           batch_size=50000,\n",
    "                                           shuffle=True)\n",
    "    test_loader = torch.utils.data.DataLoader(test_dataset_raw,\n",
    "                                              batch_size=10000,\n",
    "                                              shuffle=True)\n",
    "    \n",
    "    tr_mean = calculate_mean(train_loader)\n",
    "    tst_mean = calculate_mean(test_loader)\n",
    "    tr_std = calculate_std(train_loader, tr_mean)\n",
    "    tst_std = calculate_std(test_loader, tst_mean)\n",
    "    \n",
    "    return tr_mean.view(-1), tst_mean.view(-1), tr_std.view(-1), tst_std.view(-1)"
   ]
  },
  {
   "cell_type": "code",
   "execution_count": 6,
   "metadata": {
    "ExecuteTime": {
     "end_time": "2020-03-04T14:50:45.363209Z",
     "start_time": "2020-03-04T14:50:32.584518Z"
    }
   },
   "outputs": [
    {
     "name": "stdout",
     "output_type": "stream",
     "text": [
      "tensor([0.4914, 0.4822, 0.4465])\n",
      "tensor([0.4942, 0.4851, 0.4504])\n",
      "tensor([0.2470, 0.2435, 0.2616])\n",
      "tensor([0.2467, 0.2429, 0.2616])\n"
     ]
    }
   ],
   "source": [
    "tr_mean, tst_mean, tr_std, tst_std = mean_and_stddev()\n",
    "print(tr_mean)\n",
    "print(tst_mean)\n",
    "print(tr_std)\n",
    "print(tst_std)"
   ]
  },
  {
   "cell_type": "code",
   "execution_count": 7,
   "metadata": {
    "ExecuteTime": {
     "end_time": "2020-03-04T14:50:45.459624Z",
     "start_time": "2020-03-04T14:50:45.363209Z"
    },
    "collapsed": true
   },
   "outputs": [],
   "source": [
    "### Transformations on training set\n",
    "## Crop, Horizontal Flip, Tensor, Normalize (3 channels)\n",
    "transform_tr = transforms.Compose([\n",
    "    transforms.RandomCrop(32, padding=4),\n",
    "    transforms.RandomHorizontalFlip(),\n",
    "    transforms.ToTensor(),\n",
    "    transforms.Normalize(tr_mean, tr_std)\n",
    "])\n",
    "\n",
    "### Transformations on testing set\n",
    "## Tensor and Normalize (3 channels)\n",
    "transform_tst = transforms.Compose([\n",
    "    transforms.ToTensor(),\n",
    "    transforms.Normalize(tst_mean, tst_std)\n",
    "])"
   ]
  },
  {
   "cell_type": "markdown",
   "metadata": {},
   "source": [
    "## Load Training and Testing Data"
   ]
  },
  {
   "cell_type": "code",
   "execution_count": 8,
   "metadata": {
    "ExecuteTime": {
     "end_time": "2020-03-04T14:50:50.124056Z",
     "start_time": "2020-03-04T14:50:45.459624Z"
    }
   },
   "outputs": [
    {
     "name": "stdout",
     "output_type": "stream",
     "text": [
      "Files already downloaded and verified\n",
      "Files already downloaded and verified\n"
     ]
    }
   ],
   "source": [
    "# Batch Size Hyperparameters\n",
    "train_batch_size = 32\n",
    "val_batch_size = 5000 # representing a 90/10 train/validation split\n",
    "test_batch_size = 5000 # smaller test batches due to memory constraints\n",
    "\n",
    "# to randomly shuffle data\n",
    "indices = np.arange(50000)\n",
    "np.random.shuffle(indices)\n",
    "\n",
    "# samplers to split into training and validation set\n",
    "tr_sampler = torch.utils.data.SubsetRandomSampler(indices[:45000])\n",
    "val_sampler = torch.utils.data.SubsetRandomSampler(indices[45000:50000])\n",
    "\n",
    "\n",
    "# CIFAR-10 training dataset and data loader\n",
    "train_dataset = datasets.CIFAR10('CIFAR10',\n",
    "                                 train=True,\n",
    "                                 download=True,\n",
    "                                 transform=transform_tr)\n",
    "\n",
    "train_loader = torch.utils.data.DataLoader(train_dataset,\n",
    "                                           batch_size=train_batch_size,\n",
    "                                           shuffle=False,\n",
    "                                           sampler=tr_sampler)\n",
    "val_loader = torch.utils.data.DataLoader(train_dataset,\n",
    "                                         batch_size=val_batch_size,\n",
    "                                         shuffle=False,\n",
    "                                         sampler=val_sampler)\n",
    "\n",
    "# CIFAR-10 test dataset and data loader\n",
    "test_dataset = datasets.CIFAR10('CIFAR10',\n",
    "                                train=False,\n",
    "                                download=True,\n",
    "                                transform=transform_tst)\n",
    "\n",
    "test_loader = torch.utils.data.DataLoader(test_dataset,\n",
    "                                          batch_size=test_batch_size,\n",
    "                                          shuffle=True)"
   ]
  },
  {
   "cell_type": "markdown",
   "metadata": {},
   "source": [
    "#### Check batches and image/label shapes"
   ]
  },
  {
   "cell_type": "code",
   "execution_count": 9,
   "metadata": {
    "ExecuteTime": {
     "end_time": "2020-03-04T14:50:52.576314Z",
     "start_time": "2020-03-04T14:50:52.489018Z"
    }
   },
   "outputs": [
    {
     "name": "stdout",
     "output_type": "stream",
     "text": [
      "1407\n",
      "1\n",
      "2\n",
      "torch.Size([32, 3, 32, 32])\n",
      "torch.Size([32])\n"
     ]
    }
   ],
   "source": [
    "# check num of batches in each training epoch (should be 45,000/train_batch_size)\n",
    "print(len(train_loader))\n",
    "# check num of batches in each training epoch (should be 5,000/val_batch_size = 1)\n",
    "print(len(val_loader))\n",
    "# check num of batches in each test epoch (should be 10,000/test_batch_size)\n",
    "print(len(test_loader))\n",
    "# check shape\n",
    "images, labels = iter(train_loader).next()\n",
    "print(images.shape) # shape = (train_batch_size, RGB channels, H, W)\n",
    "print(labels.shape) # shape = (train_batch_size)"
   ]
  },
  {
   "cell_type": "markdown",
   "metadata": {},
   "source": [
    "#### Function to show individual image and associated label"
   ]
  },
  {
   "cell_type": "code",
   "execution_count": 10,
   "metadata": {
    "ExecuteTime": {
     "end_time": "2020-03-04T14:50:54.297216Z",
     "start_time": "2020-03-04T14:50:54.217234Z"
    },
    "collapsed": true
   },
   "outputs": [],
   "source": [
    "def show_images():\n",
    "    train_loader = torch.utils.data.DataLoader(train_dataset_raw,\n",
    "                                               batch_size=1,\n",
    "                                               shuffle=True)\n",
    "\n",
    "    fig = plt.figure(figsize=(32, 32))\n",
    "    columns = 5\n",
    "    rows = 4\n",
    "\n",
    "    ax = []\n",
    "    plt.rcParams.update({'font.size': 22})\n",
    "    for i in range(1, columns * rows + 1):\n",
    "        image, label = iter(train_loader).next()\n",
    "        ax.append(fig.add_subplot(rows, columns, i))\n",
    "        ax[-1].set_title(\n",
    "            str(label.item()) + \" - \" +\n",
    "            str(train_loader.dataset.classes[label]))\n",
    "        plt.imshow(np.transpose(image[0], (1, 2, 0)))\n",
    "    plt.show()\n",
    "    plt.rcParams.update({'font.size': 12})"
   ]
  },
  {
   "cell_type": "code",
   "execution_count": 11,
   "metadata": {
    "ExecuteTime": {
     "end_time": "2020-03-04T14:51:02.637321Z",
     "start_time": "2020-03-04T14:51:00.615715Z"
    },
    "scrolled": false
   },
   "outputs": [
    {
     "data": {
      "image/png": "[encoded data removed]",
      "text/plain": [
       "<Figure size 2304x2304 with 20 Axes>"
      ]
     },
     "metadata": {},
     "output_type": "display_data"
    }
   ],
   "source": [
    "show_images()"
   ]
  },
  {
   "cell_type": "markdown",
   "metadata": {},
   "source": [
    "## Helper functions"
   ]
  },
  {
   "cell_type": "code",
   "execution_count": 12,
   "metadata": {
    "ExecuteTime": {
     "end_time": "2020-03-04T14:51:06.303745Z",
     "start_time": "2020-03-04T14:51:06.233757Z"
    },
    "collapsed": true
   },
   "outputs": [],
   "source": [
    "def accuracy(outputs, labels):\n",
    "    \"\"\"Function for determining the accuracy of a set of model outputs compared to label values.\"\"\"\n",
    "    prediction = outputs.cpu().max(1, keepdim=True)[1].squeeze()\n",
    "    prediction_comp = torch.eq(prediction.cpu(), labels.cpu())\n",
    "    prediction_comp = prediction_comp.sum().numpy() / torch.numel(prediction.cpu())\n",
    "    return prediction_comp * 100"
   ]
  },
  {
   "cell_type": "code",
   "execution_count": 13,
   "metadata": {
    "ExecuteTime": {
     "end_time": "2020-03-04T14:51:51.145032Z",
     "start_time": "2020-03-04T14:51:51.060080Z"
    },
    "collapsed": true
   },
   "outputs": [],
   "source": [
    "def cpu_or_gpu():\n",
    "    \"\"\"Function to determine whether to train using a GPU or CPU.\"\"\"\n",
    "    train_on_gpu = torch.cuda.is_available()\n",
    "    if not train_on_gpu:\n",
    "        device = torch.device('cpu')\n",
    "    else:\n",
    "        device = torch.device('cuda:0')\n",
    "    return device"
   ]
  },
  {
   "cell_type": "code",
   "execution_count": 14,
   "metadata": {
    "ExecuteTime": {
     "end_time": "2020-03-04T14:51:52.635109Z",
     "start_time": "2020-03-04T14:51:52.563930Z"
    }
   },
   "outputs": [],
   "source": [
    "def reduce_step_size(iteration_cutoff, old_step_size, new_step_size, epoch):\n",
    "    \"\"\"Used in training to reduce step size\"\"\"\n",
    "    step_size = old_step_size\n",
    "    if epoch == iteration_cutoff:\n",
    "        step_size = new_step_size\n",
    "        if epoch == iteration_cutoff:\n",
    "            print(\"Log -- Decreased Step size from {} to {}\".format(old_step_size, new_step_size))\n",
    "    return step_size"
   ]
  },
  {
   "cell_type": "markdown",
   "metadata": {},
   "source": [
    "# Initialize settings for Neural Network"
   ]
  },
  {
   "cell_type": "code",
   "execution_count": 15,
   "metadata": {
    "ExecuteTime": {
     "end_time": "2020-03-04T14:51:54.295835Z",
     "start_time": "2020-03-04T14:51:54.195864Z"
    },
    "collapsed": true
   },
   "outputs": [],
   "source": [
    "class Neural_Network(nn.Module):\n",
    "    def __init__(self):\n",
    "        super(Neural_Network, self).__init__()\n",
    "        \n",
    "        # 5 Convolutional Layers\n",
    "        # 100 - 3x3, 200 - 2x2, 300 - 2x2, 400 - 2x2, 500 - 2x2\n",
    "        self.conv1 = nn.Conv2d(3, 100, 3, padding=1)\n",
    "        self.conv2 = nn.Conv2d(100, 200, 2, padding=1)\n",
    "        self.conv3 = nn.Conv2d(200, 300, 2, padding=1)\n",
    "        self.conv4 = nn.Conv2d(300, 400, 2, padding=1)\n",
    "        self.conv5 = nn.Conv2d(400, 500, 2, padding=1)\n",
    "\n",
    "        # Max Pooling Layer (2 x 2)\n",
    "        self.pool = nn.MaxPool2d(2, 2)\n",
    "\n",
    "        # Fully Connected Output Layer\n",
    "        self.fc4 = nn.Linear(4500, 10)\n",
    "\n",
    "        # Activation function\n",
    "        self.activ1 = nn.ReLU()\n",
    "\n",
    "    def forward(self, x):\n",
    "        # 5 convolutional / pooling layers\n",
    "        x = self.activ1(self.conv1(x))\n",
    "        x = self.pool(x)\n",
    "        x = self.activ1(self.conv2(x))\n",
    "        x = self.pool(x)\n",
    "        x = self.activ1(self.conv3(x))\n",
    "        x = self.pool(x)\n",
    "        x = self.activ1(self.conv4(x))\n",
    "        x = self.pool(x)\n",
    "        x = self.activ1(self.conv5(x))\n",
    "\n",
    "        # Final Output Layer\n",
    "        x = x.view(x.shape[0], -1)\n",
    "        x = self.fc4(x)\n",
    "\n",
    "        return x"
   ]
  },
  {
   "cell_type": "markdown",
   "metadata": {
    "heading_collapsed": true
   },
   "source": [
    "## Other attempts"
   ]
  },
  {
   "cell_type": "code",
   "execution_count": null,
   "metadata": {
    "ExecuteTime": {
     "end_time": "2020-03-03T22:02:36.061895Z",
     "start_time": "2020-03-03T22:02:35.831462Z"
    },
    "collapsed": true,
    "hidden": true
   },
   "outputs": [],
   "source": [
    "class Neural_Network(nn.Module):\n",
    "    def __init__(self):\n",
    "        super(Neural_Network, self).__init__()\n",
    "        # Convolutional Layer -\n",
    "        self.conv1 = nn.Conv2d(3, 6, 5, padding=1)\n",
    "\n",
    "        # 2nd Convolutional Layer -\n",
    "        self.conv2 = nn.Conv2d(6, 16, 5, padding=1)\n",
    "\n",
    "        # 3rd Convolutional Layer -\n",
    "        self.conv3 = nn.Conv2d(16, 32, 5, padding=1)\n",
    "\n",
    "        # Max Pooling layers -\n",
    "        self.pool = nn.MaxPool2d(2, 2)\n",
    "\n",
    "        # 3 fully connected layers\n",
    "        self.fc1 = nn.Linear(4608, 250)\n",
    "        self.fc2 = nn.Linear(250, 120)\n",
    "        self.fc3 = nn.Linear(120, 84)\n",
    "        self.fc4 = nn.Linear(84, 10)\n",
    "\n",
    "        #Dropout for regularization using default p=0.5\n",
    "        #self.dr1 = nn.Dropout2d()\n",
    "        self.dr2 = nn.Dropout()\n",
    "\n",
    "        # Activation function\n",
    "        self.activ1 = nn.ReLU()\n",
    "        #self.activ1 = nn.Tanh()\n",
    "        #self.activ2 = nn.LocalResponseNorm(2)\n",
    "\n",
    "    def forward(self, x):\n",
    "        # 2 convolutional / pooling layers\n",
    "        x = self.activ1(self.conv1(x))\n",
    "        x = self.activ1(self.conv2(x))\n",
    "        x = self.pool(x)\n",
    "        x = self.activ1(self.conv3(x))\n",
    "\n",
    "        # 2 fully connected hidden layers\n",
    "        x = x.view(x.shape[0], -1)\n",
    "        x = self.activ1(self.fc1(x))\n",
    "        x = self.dr2(x)\n",
    "        x = self.activ1(self.fc2(x))\n",
    "        x = self.dr2(x)\n",
    "        x = self.activ1(self.fc3(x))\n",
    "        x = self.dr2(x)\n",
    "\n",
    "        # final output layer\n",
    "        x = self.fc4(x)\n",
    "\n",
    "        return x"
   ]
  },
  {
   "cell_type": "code",
   "execution_count": null,
   "metadata": {
    "collapsed": true,
    "hidden": true
   },
   "outputs": [],
   "source": [
    "class Neural_Network2(nn.Module):\n",
    "    def __init__(self):\n",
    "        super(Neural_Network2, self).__init__()\n",
    "        # Convolutional Layer - \n",
    "        self.conv1 = nn.Conv2d(3,6,3)\n",
    "        \n",
    "        # 2nd Convolutional Layer -\n",
    "        self.conv2 = nn.Conv2d(6,6,5)\n",
    "        \n",
    "        # 3rd Convolutional Layer -\n",
    "        self.conv3 = nn.Conv2d(6,8,5)\n",
    "        \n",
    "        # 4th Convolutional Layer\n",
    "        self.conv4 = nn.Conv2d(8,10,5)\n",
    "        \n",
    "        # Max Pooling layers - \n",
    "        self.pool = nn.MaxPool2d(2,2)\n",
    "             \n",
    "        # 3 fully connected layers\n",
    "        self.fc1 = nn.Linear(40, 10)\n",
    "        \n",
    "        # Activation function\n",
    "        self.activ1 = nn.ReLU()\n",
    "        \n",
    "    def forward(self, x):\n",
    "        # 2 convolutional / pooling layers\n",
    "        x = self.activ1(self.conv1(x))\n",
    "        x = self.activ1(self.conv2(x))\n",
    "        x = self.pool(x)\n",
    "        x = self.activ1(self.conv3(x))\n",
    "        x = self.activ1(self.conv4(x))\n",
    "        x = self.pool(x)\n",
    "        \n",
    "        # 2 fully connected hidden layers\n",
    "        x = x.view(-1,40)\n",
    "        x = self.activ1(self.fc1(x))\n",
    "        \n",
    "        return x"
   ]
  },
  {
   "cell_type": "code",
   "execution_count": null,
   "metadata": {
    "collapsed": true,
    "hidden": true
   },
   "outputs": [],
   "source": [
    "#All fully connected layer architecture\n",
    "class Neural_Network_Linear(nn.Module):\n",
    "    def __init__(self):\n",
    "        super(Neural_Network, self).__init__()\n",
    "        self.fc1 = nn.Linear(32* 32 * 3, 256)\n",
    "        self.fc2 = nn.Linear(256,200)\n",
    "        self.fc3 = nn.Linear(200, 10)\n",
    "        self.activ = nn.functional.relu\n",
    "        \n",
    "    def forward(self, x):\n",
    "        x = self.activ(self.fc1(x))\n",
    "        x = self.activ(self.fc2(x))\n",
    "        x = self.fc3(x)\n",
    "        \n",
    "        return x"
   ]
  },
  {
   "cell_type": "code",
   "execution_count": null,
   "metadata": {
    "ExecuteTime": {
     "end_time": "2020-03-03T14:26:40.134256Z",
     "start_time": "2020-03-03T14:26:40.034281Z"
    },
    "collapsed": true,
    "hidden": true
   },
   "outputs": [],
   "source": [
    "#VGG16 architecture\n",
    "class CNN(nn.Module):\n",
    "    def __init__(self):\n",
    "        super(CNN,self).__init__()\n",
    "        \n",
    "        self.conv_layer = nn.Sequential(\n",
    "        \n",
    "            #1st conv layer block\n",
    "            nn.Conv2d(in_channels=3, out_channels=32, kernel_size=3, padding=1),\n",
    "            nn.BatchNorm2d(32),\n",
    "            nn.ReLU(inplace=True),\n",
    "            nn.Conv2d(in_channels=32, out_channels=64, kernel_size=3, padding=1),\n",
    "            nn.ReLU(inplace=True),\n",
    "            nn.MaxPool2d(kernel_size=2, stride=2),\n",
    "\n",
    "            #2nd conv layer block\n",
    "            nn.Conv2d(in_channels=64, out_channels=128, kernel_size=3, padding=1),\n",
    "            nn.BatchNorm2d(128),\n",
    "            nn.ReLU(inplace=True),\n",
    "            nn.Conv2d(in_channels=128, out_channels=128, kernel_size=3, padding=1),\n",
    "            nn.ReLU(inplace=True),\n",
    "            nn.MaxPool2d(kernel_size=2, stride=2),\n",
    "            nn.Dropout2d(p=0.05),\n",
    "\n",
    "            #3rd conv layer block\n",
    "            nn.Conv2d(in_channels=128, out_channels=256, kernel_size=3, padding=1),\n",
    "            nn.BatchNorm2d(256),\n",
    "            nn.ReLU(inplace=True),\n",
    "            nn.Conv2d(in_channels=256, out_channels=256, kernel_size=3, padding=1),\n",
    "            nn.ReLU(inplace=True),\n",
    "            nn.MaxPool2d(kernel_size=2, stride=2),\n",
    "        )\n",
    "        \n",
    "            #fully connected layers block\n",
    "        self.fc_layer = nn.Sequential(\n",
    "            nn.Dropout(p=0.1),\n",
    "            nn.Linear(4096,1024),\n",
    "            nn.ReLU(inplace=True),\n",
    "            nn.Linear(1024,512),\n",
    "            nn.ReLU(inplace=True),\n",
    "            nn.Dropout(p=0.1),\n",
    "            nn.Linear(512,10)\n",
    "        )\n",
    "        \n",
    "            #perform forward\n",
    "        def forward(self, x):\n",
    "            #conv layers\n",
    "            x = self.conv_layer(x)\n",
    "            #flatten\n",
    "            x = x.view(x.size(0), -1)\n",
    "            #fully connected layer\n",
    "            x = self.fc_layer(x)\n",
    "            \n",
    "            return x"
   ]
  },
  {
   "cell_type": "markdown",
   "metadata": {},
   "source": [
    "## Neural Network Training"
   ]
  },
  {
   "cell_type": "code",
   "execution_count": 16,
   "metadata": {
    "ExecuteTime": {
     "end_time": "2020-03-04T14:51:59.382408Z",
     "start_time": "2020-03-04T14:51:56.517530Z"
    }
   },
   "outputs": [
    {
     "data": {
      "text/plain": [
       "Neural_Network(\n",
       "  (conv1): Conv2d(3, 100, kernel_size=(3, 3), stride=(1, 1), padding=(1, 1))\n",
       "  (conv2): Conv2d(100, 200, kernel_size=(2, 2), stride=(1, 1), padding=(1, 1))\n",
       "  (conv3): Conv2d(200, 300, kernel_size=(2, 2), stride=(1, 1), padding=(1, 1))\n",
       "  (conv4): Conv2d(300, 400, kernel_size=(2, 2), stride=(1, 1), padding=(1, 1))\n",
       "  (conv5): Conv2d(400, 500, kernel_size=(2, 2), stride=(1, 1), padding=(1, 1))\n",
       "  (pool): MaxPool2d(kernel_size=2, stride=2, padding=0, dilation=1, ceil_mode=False)\n",
       "  (fc4): Linear(in_features=4500, out_features=10, bias=True)\n",
       "  (activ1): ReLU()\n",
       ")"
      ]
     },
     "execution_count": 16,
     "metadata": {},
     "output_type": "execute_result"
    }
   ],
   "source": [
    "# Use this cell if training a new model\n",
    "model = Neural_Network()\n",
    "device = cpu_or_gpu()\n",
    "model.to(device)"
   ]
  },
  {
   "cell_type": "code",
   "execution_count": 17,
   "metadata": {
    "ExecuteTime": {
     "end_time": "2020-03-04T14:52:01.727232Z",
     "start_time": "2020-03-04T14:52:01.447356Z"
    }
   },
   "outputs": [
    {
     "data": {
      "text/plain": [
       "Neural_Network(\n",
       "  (conv1): Conv2d(3, 100, kernel_size=(3, 3), stride=(1, 1), padding=(1, 1))\n",
       "  (conv2): Conv2d(100, 200, kernel_size=(2, 2), stride=(1, 1), padding=(1, 1))\n",
       "  (conv3): Conv2d(200, 300, kernel_size=(2, 2), stride=(1, 1), padding=(1, 1))\n",
       "  (conv4): Conv2d(300, 400, kernel_size=(2, 2), stride=(1, 1), padding=(1, 1))\n",
       "  (conv5): Conv2d(400, 500, kernel_size=(2, 2), stride=(1, 1), padding=(1, 1))\n",
       "  (pool): MaxPool2d(kernel_size=2, stride=2, padding=0, dilation=1, ceil_mode=False)\n",
       "  (fc4): Linear(in_features=4500, out_features=10, bias=True)\n",
       "  (activ1): ReLU()\n",
       ")"
      ]
     },
     "execution_count": 17,
     "metadata": {},
     "output_type": "execute_result"
    }
   ],
   "source": [
    "# Use this cell if loading a saved model\n",
    "model = Neural_Network()\n",
    "model.load_state_dict(\n",
    "    torch.load(\"Conv-NN-ReLU-100-200-300-400-500V2\"))  #<------- Insert path of saved model as string here\n",
    "\n",
    "model.eval()\n",
    "\n",
    "device = cpu_or_gpu()\n",
    "model.to(device)"
   ]
  },
  {
   "cell_type": "code",
   "execution_count": 18,
   "metadata": {
    "ExecuteTime": {
     "end_time": "2020-03-04T14:52:06.377578Z",
     "start_time": "2020-03-04T14:52:03.667357Z"
    }
   },
   "outputs": [
    {
     "name": "stdout",
     "output_type": "stream",
     "text": [
      "----------------------------------------------------------------\n",
      "        Layer (type)               Output Shape         Param #\n",
      "================================================================\n",
      "            Conv2d-1          [-1, 100, 32, 32]           2,800\n",
      "              ReLU-2          [-1, 100, 32, 32]               0\n",
      "         MaxPool2d-3          [-1, 100, 16, 16]               0\n",
      "            Conv2d-4          [-1, 200, 17, 17]          80,200\n",
      "              ReLU-5          [-1, 200, 17, 17]               0\n",
      "         MaxPool2d-6            [-1, 200, 8, 8]               0\n",
      "            Conv2d-7            [-1, 300, 9, 9]         240,300\n",
      "              ReLU-8            [-1, 300, 9, 9]               0\n",
      "         MaxPool2d-9            [-1, 300, 4, 4]               0\n",
      "           Conv2d-10            [-1, 400, 5, 5]         480,400\n",
      "             ReLU-11            [-1, 400, 5, 5]               0\n",
      "        MaxPool2d-12            [-1, 400, 2, 2]               0\n",
      "           Conv2d-13            [-1, 500, 3, 3]         800,500\n",
      "             ReLU-14            [-1, 500, 3, 3]               0\n",
      "           Linear-15                   [-1, 10]          45,010\n",
      "================================================================\n",
      "Total params: 1,649,210\n",
      "Trainable params: 1,649,210\n",
      "Non-trainable params: 0\n",
      "----------------------------------------------------------------\n",
      "Input size (MB): 0.01\n",
      "Forward/backward pass size (MB): 3.38\n",
      "Params size (MB): 6.29\n",
      "Estimated Total Size (MB): 9.68\n",
      "----------------------------------------------------------------\n"
     ]
    }
   ],
   "source": [
    "# Summary of layers, output shape, parameters, and size\n",
    "summary(model, input_size=(3, 32, 32))"
   ]
  },
  {
   "cell_type": "code",
   "execution_count": 19,
   "metadata": {
    "ExecuteTime": {
     "end_time": "2020-03-04T14:52:06.446215Z",
     "start_time": "2020-03-04T14:52:06.377578Z"
    },
    "collapsed": true
   },
   "outputs": [],
   "source": [
    "# Initialize cross entropy loss for use in training/testing\n",
    "criterion = nn.CrossEntropyLoss()"
   ]
  },
  {
   "cell_type": "code",
   "execution_count": 20,
   "metadata": {
    "ExecuteTime": {
     "end_time": "2020-03-04T14:52:09.096789Z",
     "start_time": "2020-03-04T14:52:08.901903Z"
    }
   },
   "outputs": [],
   "source": [
    "def train():\n",
    "    model.train()\n",
    "\n",
    "    # Initial hyperparameters\n",
    "    number_of_epochs = 100\n",
    "    step_size = 0.01\n",
    "    momentum_parameter = 0.9\n",
    "    weight_decay = 0\n",
    "    lambda1 = 0.001\n",
    "\n",
    "    # L1 Regularization\n",
    "    all_linear1_params = torch.cat(\n",
    "        [x.view(-1) for x in model.fc4.parameters()])\n",
    "    l1_regularization = lambda1 * torch.norm(all_linear1_params, 1)\n",
    "\n",
    "    # Initialize optimiser\n",
    "    optimiser = optim.SGD(model.parameters(),\n",
    "                          lr=step_size,\n",
    "                          momentum=momentum_parameter,\n",
    "                          weight_decay=weight_decay)\n",
    "\n",
    "    # initialize lists for running counts of loss and accuracy\n",
    "    running_loss = []\n",
    "    running_val_loss = []\n",
    "    running_training_accuracy = []\n",
    "    running_training_accuracy.append(0)\n",
    "    running_val_accuracy = []\n",
    "    running_val_accuracy.append(0)\n",
    "\n",
    "    print(\"Log -- Step size: {}, Momentum: {}, batch_size = {}\".format(\n",
    "        step_size, momentum_parameter, train_batch_size))\n",
    "    # loop for epochs\n",
    "    for k in range(number_of_epochs):\n",
    "        device = cpu_or_gpu()\n",
    "        model.to(device)\n",
    "\n",
    "        # initialize epoch loss and training accuracy\n",
    "        epoch_loss = 0\n",
    "        training_accuracy = 0\n",
    "\n",
    "        # handle reducing step size at various iterations\n",
    "\n",
    "        step_size = reduce_step_size(iteration_cutoff=10,\n",
    "                                     old_step_size=step_size,\n",
    "                                     new_step_size=0.001,\n",
    "                                     epoch=k)\n",
    "        step_size = reduce_step_size(iteration_cutoff=20,\n",
    "                                     old_step_size=step_size,\n",
    "                                     new_step_size=0.0005,\n",
    "                                     epoch=k)\n",
    "        step_size = reduce_step_size(iteration_cutoff=30,\n",
    "                                     old_step_size=step_size,\n",
    "                                     new_step_size=0.0001,\n",
    "                                     epoch=k)\n",
    "        step_size = reduce_step_size(iteration_cutoff=40,\n",
    "                                     old_step_size=step_size,\n",
    "                                     new_step_size=0.00005,\n",
    "                                     epoch=k)\n",
    "\n",
    "        optimiser = optim.SGD(model.parameters(),\n",
    "                              lr=step_size,\n",
    "                              momentum=momentum_parameter,\n",
    "                              weight_decay=weight_decay)\n",
    "\n",
    "        # Main Training Loop\n",
    "        for j, (images, labels) in enumerate(train_loader):\n",
    "            images, labels = images.to(device), labels.to(device)\n",
    "            optimiser.zero_grad()\n",
    "            outputs = model(images)\n",
    "            loss = criterion(outputs, labels) + l1_regularization/len(images)\n",
    "            loss.backward(retain_graph=True)\n",
    "            optimiser.step()\n",
    "\n",
    "            epoch_loss += loss.item()\n",
    "            training_accuracy += accuracy(outputs, labels)\n",
    "\n",
    "        # Caclulate average loss and accuracy for each epoch\n",
    "        running_loss.append(epoch_loss / len(train_loader))\n",
    "        running_training_accuracy.append(training_accuracy / len(train_loader))\n",
    "\n",
    "        # Validation test once per epoch\n",
    "        device = torch.device('cpu')\n",
    "        model.to(device)\n",
    "        val_images, val_labels = iter(val_loader).next()\n",
    "        val_images, val_labels = val_images.to(device), val_labels.to(device)\n",
    "        val_outputs = model(val_images) + l1_regularization/len(images)\n",
    "        val_loss = criterion(val_outputs, val_labels).item()\n",
    "\n",
    "        # Store validation loss and accuracy\n",
    "        running_val_loss.append(val_loss)\n",
    "        val_accuracy = accuracy(val_outputs, val_labels)\n",
    "        running_val_accuracy.append(val_accuracy)\n",
    "\n",
    "        if k % 1 == 0:\n",
    "            print(\n",
    "                \"Epoch {a}/{b} -> Tr. Loss = {c:.2f}, Val. Loss = {d:.2f}, Tr. Acc = {e:.2f}, Val. Acc = {f:.2f}\"\n",
    "                .format(a=k,\n",
    "                        b=number_of_epochs,\n",
    "                        c=running_loss[-1],\n",
    "                        d=running_val_loss[-1],\n",
    "                        e=running_training_accuracy[-1],\n",
    "                        f=running_val_accuracy[-1]))\n",
    "\n",
    "    print(\"Final Epoch {} -> Loss = {}\".format(k, running_loss[-1]))\n",
    "\n",
    "    return running_loss, running_val_loss, running_training_accuracy, running_val_accuracy"
   ]
  },
  {
   "cell_type": "code",
   "execution_count": null,
   "metadata": {
    "ExecuteTime": {
     "start_time": "2020-03-04T14:52:12.758Z"
    }
   },
   "outputs": [
    {
     "name": "stdout",
     "output_type": "stream",
     "text": [
      "Log -- Step size: 0.01, Momentum: 0.9, batch_size = 32\n",
      "Epoch 0/100 -> Tr. Loss = 0.65, Val. Loss = 0.59, Tr. Acc = 78.27, Val. Acc = 79.86\n",
      "Epoch 1/100 -> Tr. Loss = 0.57, Val. Loss = 0.52, Tr. Acc = 81.13, Val. Acc = 81.68\n",
      "Epoch 2/100 -> Tr. Loss = 0.54, Val. Loss = 0.49, Tr. Acc = 82.17, Val. Acc = 83.44\n",
      "Epoch 3/100 -> Tr. Loss = 0.50, Val. Loss = 0.50, Tr. Acc = 83.52, Val. Acc = 82.76\n",
      "Epoch 4/100 -> Tr. Loss = 0.48, Val. Loss = 0.49, Tr. Acc = 84.57, Val. Acc = 83.32\n",
      "Epoch 5/100 -> Tr. Loss = 0.46, Val. Loss = 0.46, Tr. Acc = 84.82, Val. Acc = 84.22\n"
     ]
    }
   ],
   "source": [
    "running_loss, running_val_loss, running_training_accuracy, running_val_accuracy = train()"
   ]
  },
  {
   "cell_type": "markdown",
   "metadata": {},
   "source": [
    "### Loss and Accuracy Visualizations"
   ]
  },
  {
   "cell_type": "code",
   "execution_count": null,
   "metadata": {
    "ExecuteTime": {
     "end_time": "2020-03-03T17:10:01.720624Z",
     "start_time": "2020-03-03T17:10:00.812932Z"
    }
   },
   "outputs": [],
   "source": [
    "plt.plot(running_loss, label=\"Training Loss\")\n",
    "plt.plot(running_val_loss, label=\"Validation Loss\")\n",
    "for i in range(len(running_val_loss)):\n",
    "    if running_val_loss[i] == np.min(running_val_loss):\n",
    "        lowest_index = i\n",
    "plt.scatter(lowest_index,\n",
    "            running_val_loss[lowest_index],\n",
    "            label=\"Lowest Validation Loss\",\n",
    "            c=\"r\")\n",
    "plt.scatter(lowest_index,\n",
    "            running_loss[lowest_index],\n",
    "            label=\"Corresponding Train Loss\",\n",
    "            c=\"r\")\n",
    "plt.legend()\n",
    "plt.ylabel(\"Loss\")\n",
    "plt.xlabel(\"Epoch\")\n",
    "plt.grid()\n",
    "plt.show()"
   ]
  },
  {
   "cell_type": "code",
   "execution_count": null,
   "metadata": {
    "ExecuteTime": {
     "end_time": "2020-03-03T17:10:13.055282Z",
     "start_time": "2020-03-03T17:10:12.820407Z"
    },
    "scrolled": true
   },
   "outputs": [],
   "source": [
    "plt.plot(running_training_accuracy, label=\"Training Accuracy\")\n",
    "plt.plot(running_val_accuracy, label=\"Test Accuracy\")\n",
    "for i in range(len(running_val_accuracy)):\n",
    "    if running_val_accuracy[i] == np.max(running_val_accuracy):\n",
    "        highest_index = i\n",
    "plt.scatter(highest_index,\n",
    "            running_val_accuracy[highest_index],\n",
    "            label=\"Highest Validation Accuracy\",\n",
    "            c=\"r\")\n",
    "plt.scatter(highest_index,\n",
    "            running_training_accuracy[highest_index],\n",
    "            label=\"Corresponding Train Accuracy\",\n",
    "            c=\"r\")\n",
    "plt.legend()\n",
    "plt.ylabel(\"Model Accuracy\")\n",
    "plt.xlabel(\"Epoch\")\n",
    "plt.grid()\n",
    "plt.show()"
   ]
  },
  {
   "cell_type": "markdown",
   "metadata": {},
   "source": [
    "## Neural Network Testing"
   ]
  },
  {
   "cell_type": "code",
   "execution_count": null,
   "metadata": {
    "ExecuteTime": {
     "end_time": "2020-03-03T22:52:39.087503Z",
     "start_time": "2020-03-03T22:52:38.846144Z"
    },
    "collapsed": true
   },
   "outputs": [],
   "source": [
    "## Accuracy on full test dataset (10,000 test images)\n",
    "def test_on_testing_data():\n",
    "    \"\"\"for testing model on test set (10,000 test images), batch size of 1000 \n",
    "    is used for computational purposes and accuracy/loss are averaged after\"\"\"\n",
    "    \n",
    "    criterion = nn.CrossEntropyLoss() # in case not previously defined\n",
    "    \n",
    "    # initialize network to use CPU\n",
    "    device = torch.device('cpu')\n",
    "    model.to(device)\n",
    "    model.eval()\n",
    "    \n",
    "    # initialize accuracy and loss\n",
    "    test_accuracy = 0\n",
    "    epoch_loss = 0\n",
    "    \n",
    "    # loop through test batches and send to CPU\n",
    "    for j, (test_images, test_labels) in enumerate(test_loader):\n",
    "        test_images, test_labels = test_images.to(device), test_labels.to(device)\n",
    "\n",
    "        # run images through model to create outputs\n",
    "        test_outputs = model(test_images)\n",
    "        \n",
    "        # compare outputs to actual labels\n",
    "        epoch_loss += criterion(test_outputs, test_labels).item()\n",
    "        test_accuracy += accuracy(test_outputs, test_labels)\n",
    "    \n",
    "    # average over the number of batches\n",
    "    test_accuracy = test_accuracy / len(test_loader1)\n",
    "    test_loss = epoch_loss / len(test_loader1)\n",
    "    \n",
    "    # print results\n",
    "    print(\"Test Loss is : {a:.2f}\".format(a=test_loss))\n",
    "    print(\"Test Accuracy is : {a:.2f}%\".format(a=test_accuracy))"
   ]
  },
  {
   "cell_type": "code",
   "execution_count": null,
   "metadata": {
    "ExecuteTime": {
     "end_time": "2020-03-03T22:54:39.557097Z",
     "start_time": "2020-03-03T22:52:45.913663Z"
    }
   },
   "outputs": [],
   "source": [
    "test_on_testing_data()"
   ]
  },
  {
   "cell_type": "code",
   "execution_count": null,
   "metadata": {
    "ExecuteTime": {
     "end_time": "2020-03-03T22:54:48.786009Z",
     "start_time": "2020-03-03T22:54:48.551633Z"
    },
    "collapsed": true
   },
   "outputs": [],
   "source": [
    "## Accuracy on full train dataset (50,000 training images) without data augmentation\n",
    "def test_on_training_data():\n",
    "    \"\"\"for testing model on training batch (50,000 test images), batch size of 1000 \n",
    "    is used for computational purposes and accuracy/loss are averaged after\"\"\"\n",
    "\n",
    "    criterion = nn.CrossEntropyLoss()  # in case not previously defined\n",
    "\n",
    "    # initialize network to use CPU\n",
    "    device = torch.device('cpu')\n",
    "    model.to(device)\n",
    "    model.eval()\n",
    "\n",
    "    # we want to test on data without additional transformations\n",
    "    transform_tr1 = transforms.Compose([\n",
    "        transforms.ToTensor(),\n",
    "        transforms.Normalize((0.4914, 0.4822, 0.4465),\n",
    "                             (0.2470, 0.2435, 0.2616))\n",
    "    ])\n",
    "\n",
    "    # define new train dataset using above transformations\n",
    "    train_dataset1 = datasets.CIFAR10('CIFAR10',\n",
    "                                      train=True,\n",
    "                                      download=True,\n",
    "                                      transform=transform_tr1)\n",
    "\n",
    "    # define new loader with batch size and dataset\n",
    "    train_loader1 = torch.utils.data.DataLoader(train_dataset1,\n",
    "                                                batch_size=1000,\n",
    "                                                shuffle=True)\n",
    "    # initialize accuracy and loss\n",
    "    test_accuracy = 0\n",
    "    epoch_loss = 0\n",
    "\n",
    "    # loop through test batches and send to CPU\n",
    "    for j, (test_images, test_labels) in enumerate(train_loader1):\n",
    "        test_images, test_labels = test_images.to(device), test_labels.to(\n",
    "            device)\n",
    "\n",
    "        # run images through model to create outputs\n",
    "        test_outputs = model(test_images)\n",
    "\n",
    "        # compare outputs to actual labels\n",
    "        epoch_loss += criterion(test_outputs, test_labels).item()\n",
    "        test_accuracy += accuracy(test_outputs, test_labels)\n",
    "\n",
    "    # average over the number of batches\n",
    "    test_accuracy = test_accuracy / len(train_loader1)\n",
    "    test_loss = epoch_loss / len(train_loader1)\n",
    "\n",
    "    # print results\n",
    "    print(\"Training Loss (Full Dataset) is : {a:.2f}\".format(a=test_loss))\n",
    "    print(\"Training Accuracy (Full Dataset) is : {a:.2f}%\".format(a=test_accuracy))"
   ]
  },
  {
   "cell_type": "code",
   "execution_count": null,
   "metadata": {
    "ExecuteTime": {
     "end_time": "2020-03-03T23:04:28.299117Z",
     "start_time": "2020-03-03T22:54:52.516675Z"
    },
    "scrolled": true
   },
   "outputs": [],
   "source": [
    "test_on_training_data()"
   ]
  },
  {
   "cell_type": "code",
   "execution_count": null,
   "metadata": {
    "ExecuteTime": {
     "end_time": "2020-03-04T00:11:08.281078Z",
     "start_time": "2020-03-04T00:11:08.053636Z"
    },
    "collapsed": true
   },
   "outputs": [],
   "source": [
    "def test_single_prediction():\n",
    "    device = torch.device('cpu')\n",
    "    model.to(device)\n",
    "    model.eval()\n",
    "\n",
    "    indices = np.arange(10000)\n",
    "    np.random.shuffle(indices)\n",
    "    sampler = torch.utils.data.SubsetRandomSampler(indices[:1])\n",
    "\n",
    "    test_loader1 = torch.utils.data.DataLoader(test_dataset,\n",
    "                                               batch_size=1,\n",
    "                                               shuffle=False,\n",
    "                                               sampler=sampler)\n",
    "    \n",
    "    for test_images, test_labels in test_loader1:\n",
    "        sample_image = test_images[0, :, :]\n",
    "        sample_label = test_labels[0]\n",
    "        \n",
    "    output = model(test_images)\n",
    "    _, predicted = torch.max(output, 1)\n",
    "    print(\"Predicted label is: {} - {}\".format(predicted[0], train_dataset.classes[predicted[0]]))\n",
    "    print(\"Actual label is: {} - {}\".format(sample_label, train_dataset.classes[sample_label]))\n",
    "\n",
    "    std = tst_std\n",
    "    mean = tst_mean\n",
    "    mean = mean[:, None, None]\n",
    "    std = std[:, None, None]\n",
    "\n",
    "    sample_image = sample_image * std + mean\n",
    "\n",
    "    plt.imshow(np.transpose(sample_image, (1, 2, 0)))"
   ]
  },
  {
   "cell_type": "code",
   "execution_count": null,
   "metadata": {
    "ExecuteTime": {
     "end_time": "2020-03-04T00:11:29.354503Z",
     "start_time": "2020-03-04T00:11:28.603515Z"
    },
    "scrolled": true
   },
   "outputs": [],
   "source": [
    "print(\"Classes are: {}\".format(test_dataset.classes))\n",
    "test_single_prediction()"
   ]
  },
  {
   "cell_type": "code",
   "execution_count": null,
   "metadata": {
    "ExecuteTime": {
     "end_time": "2020-03-03T18:44:41.921207Z",
     "start_time": "2020-03-03T18:44:41.189456Z"
    },
    "collapsed": true
   },
   "outputs": [],
   "source": [
    "## For saving neural network parameters\n",
    "model = neural_network\n",
    "torch.save(model.state_dict(),\n",
    "           \"Conv-NN-ReLU-100-200-300-400-500V2\")  #<----- make sure to update the path if saving new model"
   ]
  },
  {
   "cell_type": "markdown",
   "metadata": {},
   "source": [
    "# Adversarial Attacks"
   ]
  },
  {
   "cell_type": "code",
   "execution_count": null,
   "metadata": {
    "ExecuteTime": {
     "end_time": "2020-03-03T18:54:31.135254Z",
     "start_time": "2020-03-03T18:54:31.056934Z"
    },
    "collapsed": true
   },
   "outputs": [],
   "source": [
    "test_loader1 = torch.utils.data.DataLoader(test_dataset,\n",
    "                                           batch_size=1,\n",
    "                                           shuffle=True)\n",
    "epsilon = [0.05, 0.07, 0.1]"
   ]
  },
  {
   "cell_type": "code",
   "execution_count": null,
   "metadata": {
    "ExecuteTime": {
     "end_time": "2020-03-03T18:54:34.052853Z",
     "start_time": "2020-03-03T18:54:33.987890Z"
    },
    "collapsed": true
   },
   "outputs": [],
   "source": [
    "def fgsm(images, epsilon, images_gradient):\n",
    "    sign = images.grad.sign()\n",
    "    new_image = images + epsilon * sign\n",
    "\n",
    "    return new_image"
   ]
  },
  {
   "cell_type": "code",
   "execution_count": null,
   "metadata": {
    "ExecuteTime": {
     "end_time": "2020-03-03T18:56:50.240921Z",
     "start_time": "2020-03-03T18:56:50.105998Z"
    },
    "collapsed": true
   },
   "outputs": [],
   "source": [
    "def test(model, device, test_loader1, epsilon):\n",
    "    device = torch.device('cpu')\n",
    "    model.to(device)\n",
    "    model.eval()\n",
    "\n",
    "    # Accuracy counter\n",
    "    correct = 0\n",
    "    adv_examples = []\n",
    "\n",
    "    # Loop over all examples in test set\n",
    "    for images, labels in test_loader1:\n",
    "\n",
    "        # Send the data and label to the device\n",
    "        images, labels = images.to(device), labels.to(device)\n",
    "\n",
    "        # Set requires_grad attribute of tensor. Important for Attack\n",
    "        images.requires_grad = True\n",
    "\n",
    "        # Forward pass the data through the model\n",
    "        output = neural_network(images)\n",
    "        init_pred = output.max(\n",
    "            1, keepdim=True)[1]  # get the index of the max log-probability\n",
    "\n",
    "        # If the initial prediction is wrong, dont bother attacking, just move on\n",
    "        if init_pred.item() != labels.item():\n",
    "            continue\n",
    "\n",
    "        # Calculate the loss\n",
    "        loss = torch.nn.functional.nll_loss(output, labels)\n",
    "\n",
    "        # Zero all existing gradients\n",
    "        model.zero_grad()\n",
    "\n",
    "        # Calculate gradients of model in backward pass\n",
    "        loss.backward()\n",
    "\n",
    "        # Collect datagrad\n",
    "        images_gradient = images.grad.data\n",
    "\n",
    "        # Call FGSM Attack\n",
    "        perturbed_data = fgsm(images, epsilon, images_gradient)\n",
    "\n",
    "        # Re-classify the perturbed image\n",
    "        output = model(perturbed_data)\n",
    "\n",
    "        # Check for success\n",
    "        final_pred = output.max(\n",
    "            1, keepdim=True)[1]  # get the index of the max log-probability\n",
    "        if final_pred.item() == labels.item():\n",
    "            correct += 1\n",
    "            # Special case for saving 0 epsilon examples\n",
    "            if (epsilon == 0) and (len(adv_examples) < 5):\n",
    "                adv_ex = perturbed_data.squeeze().detach().cpu().numpy()\n",
    "                adv_examples.append(\n",
    "                    (init_pred.item(), final_pred.item(), adv_ex))\n",
    "        else:\n",
    "            # Save some adv examples for visualization later\n",
    "            if len(adv_examples) < 5:\n",
    "                adv_ex = perturbed_data.squeeze().detach().cpu().numpy()\n",
    "                adv_examples.append(\n",
    "                    (init_pred.item(), final_pred.item(), adv_ex))\n",
    "\n",
    "    # Calculate final accuracy for this epsilon\n",
    "    final_acc = correct / float(len(test_loader1))\n",
    "    print(\"Epsilon: {}\\tTest Accuracy = {} / {} = {}\".format(\n",
    "        epsilon, correct, len(test_loader1), final_acc))\n",
    "\n",
    "    # Return the accuracy and an adversarial example\n",
    "    return final_acc, adv_examples"
   ]
  },
  {
   "cell_type": "code",
   "execution_count": null,
   "metadata": {
    "ExecuteTime": {
     "end_time": "2020-03-03T19:15:19.306340Z",
     "start_time": "2020-03-03T18:56:52.266743Z"
    }
   },
   "outputs": [],
   "source": [
    "accuracies = []\n",
    "examples = []\n",
    "\n",
    "# Run test for each epsilon\n",
    "for eps in epsilon:\n",
    "    acc, ex = test(model, device, test_loader1, eps)\n",
    "    accuracies.append(acc)\n",
    "    examples.append(ex)"
   ]
  },
  {
   "cell_type": "code",
   "execution_count": null,
   "metadata": {
    "ExecuteTime": {
     "end_time": "2020-03-03T19:16:56.826262Z",
     "start_time": "2020-03-03T19:16:56.666353Z"
    }
   },
   "outputs": [],
   "source": [
    "plt.figure(figsize=(5, 5))\n",
    "plt.plot(epsilon, accuracies, \"*-\")\n",
    "plt.yticks(np.arange(0, 0.4, step=0.1))\n",
    "plt.xticks(np.arange(0.05, 0.11, step=0.01))\n",
    "plt.title(\"Accuracy vs Epsilon\")\n",
    "plt.xlabel(\"Epsilon\")\n",
    "plt.ylabel(\"Accuracy\")\n",
    "plt.show()"
   ]
  }
 ],
 "metadata": {
  "kernelspec": {
   "display_name": "Python 3",
   "language": "python",
   "name": "python3"
  },
  "language_info": {
   "codemirror_mode": {
    "name": "ipython",
    "version": 3
   },
   "file_extension": ".py",
   "mimetype": "text/x-python",
   "name": "python",
   "nbconvert_exporter": "python",
   "pygments_lexer": "ipython3",
   "version": "3.6.2"
  },
  "varInspector": {
   "cols": {
    "lenName": 16,
    "lenType": 16,
    "lenVar": 40
   },
   "kernels_config": {
    "python": {
     "delete_cmd_postfix": "",
     "delete_cmd_prefix": "del ",
     "library": "var_list.py",
     "varRefreshCmd": "print(var_dic_list())"
    },
    "r": {
     "delete_cmd_postfix": ") ",
     "delete_cmd_prefix": "rm(",
     "library": "var_list.r",
     "varRefreshCmd": "cat(var_dic_list()) "
    }
   },
   "position": {
    "height": "404.667px",
    "left": "878.222px",
    "right": "20px",
    "top": "122px",
    "width": "518.111px"
   },
   "types_to_exclude": [
    "module",
    "function",
    "builtin_function_or_method",
    "instance",
    "_Feature"
   ],
   "window_display": false
  }
 },
 "nbformat": 4,
 "nbformat_minor": 4
}

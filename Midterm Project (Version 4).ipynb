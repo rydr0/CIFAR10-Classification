{
 "cells": [
  {
   "cell_type": "markdown",
   "metadata": {
    "colab_type": "text",
    "id": "6GSWhnNW4i4t"
   },
   "source": [
    "# Classification of CIFAR 10 Image Dataset"
   ]
  },
  {
   "cell_type": "markdown",
   "metadata": {
    "colab_type": "text",
    "id": "ldaJLTi34i4w"
   },
   "source": [
    "### Starting lines and necessary imports"
   ]
  },
  {
   "cell_type": "code",
   "execution_count": 1,
   "metadata": {
    "ExecuteTime": {
     "end_time": "2020-03-05T19:35:48.017782Z",
     "start_time": "2020-03-05T19:35:46.498912Z"
    },
    "colab": {},
    "colab_type": "code",
    "collapsed": true,
    "id": "Dsz_EbPK4i4z"
   },
   "outputs": [],
   "source": [
    "from torchsummary import summary\n",
    "from torchvision import datasets, transforms\n",
    "import torchvision.transforms as transforms\n",
    "import torchvision\n",
    "from torch.autograd import Variable\n",
    "import torch.optim as optim\n",
    "import torch.nn as nn\n",
    "import torch\n",
    "import matplotlib.pyplot as plt\n",
    "import numpy as np\n",
    "%matplotlib inline\n",
    "\n",
    "\n",
    "%load_ext autoreload\n",
    "%autoreload 2"
   ]
  },
  {
   "cell_type": "markdown",
   "metadata": {},
   "source": [
    "Run the two cells below if using Google Colab (you need to have a folder called AdvMachineLearningProject with the files in it)"
   ]
  },
  {
   "cell_type": "code",
   "execution_count": 2,
   "metadata": {
    "colab": {
     "base_uri": "https://localhost:8080/",
     "height": 125
    },
    "colab_type": "code",
    "id": "5Tzf-Hgb4pFr",
    "outputId": "e8710589-8dee-4794-b5d8-a2365f528a58",
    "scrolled": true
   },
   "outputs": [
    {
     "name": "stdout",
     "output_type": "stream",
     "text": [
      "Go to this URL in a browser: https://accounts.google.com/o/oauth2/auth?client_id=947318989803-6bn6qk8qdgf4n4g3pfee6491hc0brc4i.apps.googleusercontent.com&redirect_uri=urn%3aietf%3awg%3aoauth%3a2.0%3aoob&response_type=code&scope=email%20https%3a%2f%2fwww.googleapis.com%2fauth%2fdocs.test%20https%3a%2f%2fwww.googleapis.com%2fauth%2fdrive%20https%3a%2f%2fwww.googleapis.com%2fauth%2fdrive.photos.readonly%20https%3a%2f%2fwww.googleapis.com%2fauth%2fpeopleapi.readonly\n",
      "\n",
      "Enter your authorization code:\n",
      "··········\n",
      "Mounted at /drive\n"
     ]
    }
   ],
   "source": [
    "from google.colab import drive\n",
    "drive.mount('/drive')"
   ]
  },
  {
   "cell_type": "code",
   "execution_count": 6,
   "metadata": {
    "colab": {
     "base_uri": "https://localhost:8080/",
     "height": 35
    },
    "colab_type": "code",
    "id": "pPpRZwiy43Ev",
    "outputId": "6fd5541b-a90a-48c0-c179-5b1793192bc5"
   },
   "outputs": [
    {
     "name": "stdout",
     "output_type": "stream",
     "text": [
      "/drive/My Drive/AdvMachineLearningProject\n"
     ]
    }
   ],
   "source": [
    "cd /drive/My\\ Drive/AdvMachineLearningProject"
   ]
  },
  {
   "cell_type": "markdown",
   "metadata": {
    "colab_type": "text",
    "id": "TSTN90EK4i48"
   },
   "source": [
    "## Load CIFAR 10 Data using torchvision"
   ]
  },
  {
   "cell_type": "markdown",
   "metadata": {
    "colab_type": "text",
    "id": "-XZSdQej4i5T"
   },
   "source": [
    "### Data Pre-processing (Mean, Standard Deviation and Transforms)"
   ]
  },
  {
   "cell_type": "code",
   "execution_count": 2,
   "metadata": {
    "ExecuteTime": {
     "end_time": "2020-03-05T19:35:53.565753Z",
     "start_time": "2020-03-05T19:35:48.803349Z"
    },
    "colab": {
     "base_uri": "https://localhost:8080/",
     "height": 52
    },
    "colab_type": "code",
    "id": "ea3SByUy4i5V",
    "outputId": "8252ad99-857e-40f5-fe1c-894503d9cc89"
   },
   "outputs": [
    {
     "name": "stdout",
     "output_type": "stream",
     "text": [
      "Files already downloaded and verified\n",
      "Files already downloaded and verified\n"
     ]
    }
   ],
   "source": [
    "# Data Sets without any processing\n",
    "train_dataset_raw = datasets.CIFAR10('CIFAR10',\n",
    "                                     train=True,\n",
    "                                     download=True,\n",
    "                                     transform=transforms.ToTensor())\n",
    "test_dataset_raw = datasets.CIFAR10('CIFAR10',\n",
    "                                    train=False,\n",
    "                                    download=True,\n",
    "                                    transform=transforms.ToTensor())"
   ]
  },
  {
   "cell_type": "code",
   "execution_count": 3,
   "metadata": {
    "ExecuteTime": {
     "end_time": "2020-03-05T19:35:53.974302Z",
     "start_time": "2020-03-05T19:35:53.906115Z"
    },
    "colab": {},
    "colab_type": "code",
    "collapsed": true,
    "id": "n6Er1EsL4i5g"
   },
   "outputs": [],
   "source": [
    "def calculate_mean(loader):\n",
    "    images, labels = iter(loader).next()\n",
    "    mean = images.sum(dim=(0, 2, 3), keepdim=True)\n",
    "    mean = mean/images.shape[0]/images.size(2)/images.size(3)\n",
    "    return mean"
   ]
  },
  {
   "cell_type": "code",
   "execution_count": 4,
   "metadata": {
    "ExecuteTime": {
     "end_time": "2020-03-05T19:35:54.407530Z",
     "start_time": "2020-03-05T19:35:54.336521Z"
    },
    "colab": {},
    "colab_type": "code",
    "collapsed": true,
    "id": "ovR2qSlB4i5o"
   },
   "outputs": [],
   "source": [
    "def calculate_std(loader, mean):\n",
    "    images, labels = iter(loader).next()\n",
    "    std = (images - mean).pow(2).sum(dim=(0, 2, 3), keepdim=True)\n",
    "    std = torch.sqrt(std/(images.shape[0]*images.size(2)*images.size(3)-1))\n",
    "    return std"
   ]
  },
  {
   "cell_type": "code",
   "execution_count": 5,
   "metadata": {
    "ExecuteTime": {
     "end_time": "2020-03-05T19:35:54.827772Z",
     "start_time": "2020-03-05T19:35:54.754100Z"
    },
    "colab": {},
    "colab_type": "code",
    "collapsed": true,
    "id": "NrrltaFq4i5x"
   },
   "outputs": [],
   "source": [
    "def mean_and_stddev():\n",
    "    train_loader = torch.utils.data.DataLoader(train_dataset_raw,\n",
    "                                               batch_size=50000,\n",
    "                                               shuffle=True)\n",
    "    test_loader = torch.utils.data.DataLoader(test_dataset_raw,\n",
    "                                              batch_size=10000,\n",
    "                                              shuffle=True)\n",
    "\n",
    "    tr_mean = calculate_mean(train_loader)\n",
    "    tst_mean = calculate_mean(test_loader)\n",
    "    tr_std = calculate_std(train_loader, tr_mean)\n",
    "    tst_std = calculate_std(test_loader, tst_mean)\n",
    "\n",
    "    return tr_mean.view(-1), tst_mean.view(-1), tr_std.view(-1), tst_std.view(-1)"
   ]
  },
  {
   "cell_type": "markdown",
   "metadata": {},
   "source": [
    "#### Mean and Standard Deviation for Training and Test Datasets"
   ]
  },
  {
   "cell_type": "code",
   "execution_count": 6,
   "metadata": {
    "ExecuteTime": {
     "end_time": "2020-03-05T19:36:08.797647Z",
     "start_time": "2020-03-05T19:35:56.112935Z"
    },
    "colab": {
     "base_uri": "https://localhost:8080/",
     "height": 87
    },
    "colab_type": "code",
    "id": "Q91W6K8P4i56",
    "outputId": "03932748-410b-4929-a81f-7410beaf26da"
   },
   "outputs": [
    {
     "name": "stdout",
     "output_type": "stream",
     "text": [
      "tensor([0.4914, 0.4822, 0.4465])\n",
      "tensor([0.4942, 0.4851, 0.4504])\n",
      "tensor([0.2470, 0.2435, 0.2616])\n",
      "tensor([0.2467, 0.2429, 0.2616])\n"
     ]
    }
   ],
   "source": [
    "tr_mean, tst_mean, tr_std, tst_std = mean_and_stddev()\n",
    "print(tr_mean)\n",
    "print(tst_mean)\n",
    "print(tr_std)\n",
    "print(tst_std)"
   ]
  },
  {
   "cell_type": "markdown",
   "metadata": {},
   "source": [
    "#### Transformations"
   ]
  },
  {
   "cell_type": "code",
   "execution_count": 7,
   "metadata": {
    "ExecuteTime": {
     "end_time": "2020-03-05T19:36:09.232530Z",
     "start_time": "2020-03-05T19:36:09.164134Z"
    },
    "colab": {},
    "colab_type": "code",
    "collapsed": true,
    "id": "E8GIUBZE4i6B"
   },
   "outputs": [],
   "source": [
    "# Transformations on training set\n",
    "# Crop, Horizontal Flip, Tensor, Normalize (3 channels)\n",
    "transform_tr = transforms.Compose([\n",
    "    transforms.RandomCrop(32, padding=4),\n",
    "    transforms.RandomHorizontalFlip(),\n",
    "    transforms.ToTensor(),\n",
    "    transforms.Normalize(tr_mean, tr_std)\n",
    "])\n",
    "\n",
    "# Transformations on testing set\n",
    "# Tensor and Normalize (3 channels)\n",
    "transform_tst = transforms.Compose([\n",
    "    transforms.ToTensor(),\n",
    "    transforms.Normalize(tst_mean, tst_std)\n",
    "])"
   ]
  },
  {
   "cell_type": "markdown",
   "metadata": {
    "colab_type": "text",
    "id": "oPHpgoQO4i6K"
   },
   "source": [
    "### Load Training and Testing Data"
   ]
  },
  {
   "cell_type": "code",
   "execution_count": 8,
   "metadata": {
    "ExecuteTime": {
     "end_time": "2020-03-05T19:36:14.241606Z",
     "start_time": "2020-03-05T19:36:09.589837Z"
    },
    "colab": {
     "base_uri": "https://localhost:8080/",
     "height": 52
    },
    "colab_type": "code",
    "id": "V4OnwQ3d4i6N",
    "outputId": "4975ecf3-1b68-419b-e44f-55f03835b45a"
   },
   "outputs": [
    {
     "name": "stdout",
     "output_type": "stream",
     "text": [
      "Files already downloaded and verified\n",
      "Files already downloaded and verified\n"
     ]
    }
   ],
   "source": [
    "# Batch Size Hyperparameters\n",
    "train_batch_size = 32\n",
    "val_batch_size = 5000  # representing a 90/10 train/validation split\n",
    "test_batch_size = 5000  # smaller test batches due to memory constraints\n",
    "\n",
    "# to randomly shuffle data\n",
    "indices = np.arange(50000)\n",
    "np.random.shuffle(indices)\n",
    "\n",
    "# samplers to split into training and validation set\n",
    "tr_sampler = torch.utils.data.SubsetRandomSampler(indices[:45000])\n",
    "val_sampler = torch.utils.data.SubsetRandomSampler(indices[45000:50000])\n",
    "\n",
    "\n",
    "# CIFAR-10 training dataset and data loader\n",
    "train_dataset = datasets.CIFAR10('CIFAR10',\n",
    "                                 train=True,\n",
    "                                 download=True,\n",
    "                                 transform=transform_tr)\n",
    "\n",
    "train_loader = torch.utils.data.DataLoader(train_dataset,\n",
    "                                           batch_size=train_batch_size,\n",
    "                                           shuffle=False,\n",
    "                                           sampler=tr_sampler)\n",
    "val_loader = torch.utils.data.DataLoader(train_dataset,\n",
    "                                         batch_size=val_batch_size,\n",
    "                                         shuffle=False,\n",
    "                                         sampler=val_sampler)\n",
    "\n",
    "# CIFAR-10 test dataset and data loader\n",
    "test_dataset = datasets.CIFAR10('CIFAR10',\n",
    "                                train=False,\n",
    "                                download=True,\n",
    "                                transform=transform_tst)\n",
    "\n",
    "test_loader = torch.utils.data.DataLoader(test_dataset,\n",
    "                                          batch_size=test_batch_size,\n",
    "                                          shuffle=True)"
   ]
  },
  {
   "cell_type": "markdown",
   "metadata": {
    "colab_type": "text",
    "id": "ZLOUbI5F4i6V"
   },
   "source": [
    "#### Check batches and image/label shapes"
   ]
  },
  {
   "cell_type": "code",
   "execution_count": 9,
   "metadata": {
    "ExecuteTime": {
     "end_time": "2020-03-05T19:36:14.687934Z",
     "start_time": "2020-03-05T19:36:14.609890Z"
    },
    "colab": {
     "base_uri": "https://localhost:8080/",
     "height": 105
    },
    "colab_type": "code",
    "id": "Q_MP-CfJ4i6X",
    "outputId": "fd8eee4c-a8ff-44d1-fdfe-254eccbbe494"
   },
   "outputs": [
    {
     "name": "stdout",
     "output_type": "stream",
     "text": [
      "1407\n",
      "1\n",
      "2\n",
      "torch.Size([32, 3, 32, 32])\n",
      "torch.Size([32])\n"
     ]
    }
   ],
   "source": [
    "# check num of batches in each training epoch (should be 45,000/train_batch_size)\n",
    "print(len(train_loader))\n",
    "# check num of batches in each training epoch (should be 5,000/val_batch_size = 1)\n",
    "print(len(val_loader))\n",
    "# check num of batches in each test epoch (should be 10,000/test_batch_size)\n",
    "print(len(test_loader))\n",
    "# check shape\n",
    "images, labels = iter(train_loader).next()\n",
    "print(images.shape)  # shape = (train_batch_size, RGB channels, H, W)\n",
    "print(labels.shape)  # shape = (train_batch_size)"
   ]
  },
  {
   "cell_type": "markdown",
   "metadata": {
    "colab_type": "text",
    "id": "av6sQUP64i6e"
   },
   "source": [
    "#### Function to show individual image and associated label"
   ]
  },
  {
   "cell_type": "code",
   "execution_count": 10,
   "metadata": {
    "ExecuteTime": {
     "end_time": "2020-03-05T19:36:15.163373Z",
     "start_time": "2020-03-05T19:36:15.087372Z"
    },
    "colab": {},
    "colab_type": "code",
    "collapsed": true,
    "id": "Ol_bWLxo4i6j"
   },
   "outputs": [],
   "source": [
    "def show_images():\n",
    "    train_loader = torch.utils.data.DataLoader(train_dataset_raw,\n",
    "                                               batch_size=1,\n",
    "                                               shuffle=True)\n",
    "\n",
    "    fig = plt.figure(figsize=(32, 32))\n",
    "    columns = 5\n",
    "    rows = 4\n",
    "\n",
    "    ax = []\n",
    "    plt.rcParams.update({'font.size': 22})\n",
    "    for i in range(1, columns * rows + 1):\n",
    "        image, label = iter(train_loader).next()\n",
    "        ax.append(fig.add_subplot(rows, columns, i))\n",
    "        ax[-1].set_title(\n",
    "            str(label.item()) + \" - \" +\n",
    "            str(train_loader.dataset.classes[label]))\n",
    "        plt.imshow(np.transpose(image[0], (1, 2, 0)))\n",
    "    plt.show()\n",
    "    plt.rcParams.update({'font.size': 12})"
   ]
  },
  {
   "cell_type": "code",
   "execution_count": 11,
   "metadata": {
    "ExecuteTime": {
     "end_time": "2020-03-05T19:36:17.367498Z",
     "start_time": "2020-03-05T19:36:15.556531Z"
    },
    "colab": {},
    "colab_type": "code",
    "id": "E-Sk3EfB4i6r",
    "outputId": "a044b53b-6825-4187-b3bd-ea8dbba23741",
    "scrolled": false
   },
   "outputs": [
    {
     "data": {
      "image/png": "[encoded data removed]",
      "text/plain": [
       "<Figure size 2304x2304 with 20 Axes>"
      ]
     },
     "metadata": {},
     "output_type": "display_data"
    }
   ],
   "source": [
    "show_images()"
   ]
  },
  {
   "cell_type": "markdown",
   "metadata": {
    "colab_type": "text",
    "id": "yBGNZ9WP4i6z"
   },
   "source": [
    "# Helper functions for Neural Network"
   ]
  },
  {
   "cell_type": "code",
   "execution_count": 12,
   "metadata": {
    "ExecuteTime": {
     "end_time": "2020-03-05T19:36:17.835266Z",
     "start_time": "2020-03-05T19:36:17.765316Z"
    },
    "colab": {},
    "colab_type": "code",
    "collapsed": true,
    "id": "9rT9PnCc4i62"
   },
   "outputs": [],
   "source": [
    "def accuracy(outputs, labels):\n",
    "    \"\"\"Function for determining the accuracy of a set of model outputs compared to label values.\"\"\"\n",
    "    prediction = outputs.cpu().max(1, keepdim=True)[1].squeeze()\n",
    "    prediction_comp = torch.eq(prediction.cpu(), labels.cpu())\n",
    "    prediction_comp = prediction_comp.sum().numpy() / torch.numel(prediction.cpu())\n",
    "    return prediction_comp * 100"
   ]
  },
  {
   "cell_type": "code",
   "execution_count": 13,
   "metadata": {
    "ExecuteTime": {
     "end_time": "2020-03-05T19:36:18.287895Z",
     "start_time": "2020-03-05T19:36:18.218514Z"
    },
    "colab": {},
    "colab_type": "code",
    "collapsed": true,
    "id": "23GbaeTO4i7A"
   },
   "outputs": [],
   "source": [
    "def cpu_or_gpu():\n",
    "    \"\"\"Function to determine whether to train using a GPU or CPU.\"\"\"\n",
    "    train_on_gpu = torch.cuda.is_available()\n",
    "    if not train_on_gpu:\n",
    "        device = torch.device('cpu')\n",
    "    else:\n",
    "        device = torch.device('cuda:0')\n",
    "    return device"
   ]
  },
  {
   "cell_type": "code",
   "execution_count": 14,
   "metadata": {
    "ExecuteTime": {
     "end_time": "2020-03-05T19:36:18.752387Z",
     "start_time": "2020-03-05T19:36:18.682445Z"
    },
    "colab": {},
    "colab_type": "code",
    "collapsed": true,
    "id": "1nc5gfNc4i7J"
   },
   "outputs": [],
   "source": [
    "def reduce_step_size(iteration_cutoff, old_step_size, new_step_size, epoch):\n",
    "    \"\"\"Used in training to reduce step size\"\"\"\n",
    "    step_size = old_step_size\n",
    "    if epoch == iteration_cutoff:\n",
    "        step_size = new_step_size\n",
    "        if epoch == iteration_cutoff:\n",
    "            print(\n",
    "                \"Log -- Decreased Step size from {} to {}\".format(old_step_size, new_step_size))\n",
    "    return step_size"
   ]
  },
  {
   "cell_type": "markdown",
   "metadata": {
    "colab_type": "text",
    "id": "XQEd9taj4i7U"
   },
   "source": [
    "# Initialize settings for Neural Network"
   ]
  },
  {
   "cell_type": "markdown",
   "metadata": {},
   "source": [
    "## Main Model"
   ]
  },
  {
   "cell_type": "code",
   "execution_count": 15,
   "metadata": {
    "ExecuteTime": {
     "end_time": "2020-03-05T19:36:20.743751Z",
     "start_time": "2020-03-05T19:36:20.643000Z"
    },
    "colab": {},
    "colab_type": "code",
    "collapsed": true,
    "id": "NDvHbGwy4i7W"
   },
   "outputs": [],
   "source": [
    "class Neural_Network(nn.Module):\n",
    "    def __init__(self):\n",
    "        super(Neural_Network, self).__init__()\n",
    "\n",
    "        # 5 Convolutional Layers\n",
    "        # 100 - 3x3, 200 - 2x2, 300 - 2x2, 400 - 2x2, 500 - 2x2\n",
    "        self.conv1 = nn.Conv2d(3, 100, 3, padding=1)\n",
    "        self.conv2 = nn.Conv2d(100, 200, 2, padding=1)\n",
    "        self.conv3 = nn.Conv2d(200, 300, 2, padding=1)\n",
    "        self.conv4 = nn.Conv2d(300, 400, 2, padding=1)\n",
    "        self.conv5 = nn.Conv2d(400, 500, 2, padding=1)\n",
    "\n",
    "        # Max Pooling Layer (2 x 2)\n",
    "        self.pool = nn.MaxPool2d(2, 2)\n",
    "\n",
    "        # Fully Connected Output Layer\n",
    "        self.fc1 = nn.Linear(4500, 10)\n",
    "\n",
    "        # Activation function\n",
    "        self.activ1 = nn.ReLU()\n",
    "\n",
    "    def forward(self, x):\n",
    "        # 5 convolutional / pooling layers\n",
    "        x = self.activ1(self.conv1(x))\n",
    "        x = self.pool(x)\n",
    "        x = self.activ1(self.conv2(x))\n",
    "        x = self.pool(x)\n",
    "        x = self.activ1(self.conv3(x))\n",
    "        x = self.pool(x)\n",
    "        x = self.activ1(self.conv4(x))\n",
    "        x = self.pool(x)\n",
    "        x = self.activ1(self.conv5(x))\n",
    "\n",
    "        # Final Output Layer\n",
    "        x = x.view(x.shape[0], -1)\n",
    "        x = self.fc1(x)\n",
    "\n",
    "        return x"
   ]
  },
  {
   "cell_type": "code",
   "execution_count": 16,
   "metadata": {
    "ExecuteTime": {
     "end_time": "2020-03-05T18:33:53.873808Z",
     "start_time": "2020-03-05T18:33:53.800814Z"
    },
    "collapsed": true
   },
   "outputs": [],
   "source": [
    "def maxdrop(x, p):\n",
    "    channels = x.shape[1]\n",
    "    channels_list = []\n",
    "    for i in range(0,channels):\n",
    "        if torch.randint(0,11,(1,1)) * 0.1 <= p:\n",
    "            channels_list.append(i)\n",
    "    for channel in channels_list:\n",
    "        x[:,channel,:,:][x[:,channel,:,:]==torch.max(x[:,channel,:,:])] = 0\n",
    "    return x"
   ]
  },
  {
   "cell_type": "code",
   "execution_count": 183,
   "metadata": {
    "ExecuteTime": {
     "end_time": "2020-03-05T18:12:11.222710Z",
     "start_time": "2020-03-05T18:12:11.138551Z"
    }
   },
   "outputs": [
    {
     "data": {
      "text/plain": [
       "tensor([[[[0., 1., 1.,  ..., 1., 1., 1.],\n",
       "          [1., 1., 1.,  ..., 1., 1., 1.],\n",
       "          [1., 1., 1.,  ..., 1., 1., 1.],\n",
       "          ...,\n",
       "          [1., 1., 1.,  ..., 1., 1., 1.],\n",
       "          [1., 1., 1.,  ..., 1., 1., 1.],\n",
       "          [1., 1., 1.,  ..., 1., 1., 1.]],\n",
       "\n",
       "         [[5., 1., 1.,  ..., 1., 1., 1.],\n",
       "          [1., 1., 1.,  ..., 1., 1., 1.],\n",
       "          [1., 1., 1.,  ..., 1., 1., 1.],\n",
       "          ...,\n",
       "          [1., 1., 1.,  ..., 1., 1., 1.],\n",
       "          [1., 1., 1.,  ..., 1., 1., 1.],\n",
       "          [1., 1., 1.,  ..., 1., 1., 1.]],\n",
       "\n",
       "         [[0., 1., 1.,  ..., 1., 1., 1.],\n",
       "          [1., 1., 1.,  ..., 1., 1., 1.],\n",
       "          [1., 1., 1.,  ..., 1., 1., 1.],\n",
       "          ...,\n",
       "          [1., 1., 1.,  ..., 1., 1., 1.],\n",
       "          [1., 1., 1.,  ..., 1., 1., 1.],\n",
       "          [1., 1., 1.,  ..., 1., 1., 1.]]],\n",
       "\n",
       "\n",
       "        [[[1., 1., 1.,  ..., 1., 1., 1.],\n",
       "          [1., 1., 1.,  ..., 1., 1., 1.],\n",
       "          [1., 1., 1.,  ..., 1., 1., 1.],\n",
       "          ...,\n",
       "          [1., 1., 1.,  ..., 1., 1., 1.],\n",
       "          [1., 1., 1.,  ..., 1., 1., 1.],\n",
       "          [1., 1., 1.,  ..., 1., 1., 1.]],\n",
       "\n",
       "         [[1., 1., 1.,  ..., 1., 1., 1.],\n",
       "          [1., 1., 1.,  ..., 1., 1., 1.],\n",
       "          [1., 1., 1.,  ..., 1., 1., 1.],\n",
       "          ...,\n",
       "          [1., 1., 1.,  ..., 1., 1., 1.],\n",
       "          [1., 1., 1.,  ..., 1., 1., 1.],\n",
       "          [1., 1., 1.,  ..., 1., 1., 1.]],\n",
       "\n",
       "         [[1., 1., 1.,  ..., 1., 1., 1.],\n",
       "          [1., 1., 1.,  ..., 1., 1., 1.],\n",
       "          [1., 1., 1.,  ..., 1., 1., 1.],\n",
       "          ...,\n",
       "          [1., 1., 1.,  ..., 1., 1., 1.],\n",
       "          [1., 1., 1.,  ..., 1., 1., 1.],\n",
       "          [1., 1., 1.,  ..., 1., 1., 1.]]],\n",
       "\n",
       "\n",
       "        [[[1., 1., 1.,  ..., 1., 1., 1.],\n",
       "          [1., 1., 1.,  ..., 1., 1., 1.],\n",
       "          [1., 1., 1.,  ..., 1., 1., 1.],\n",
       "          ...,\n",
       "          [1., 1., 1.,  ..., 1., 1., 1.],\n",
       "          [1., 1., 1.,  ..., 1., 1., 1.],\n",
       "          [1., 1., 1.,  ..., 1., 1., 1.]],\n",
       "\n",
       "         [[1., 1., 1.,  ..., 1., 1., 1.],\n",
       "          [1., 1., 1.,  ..., 1., 1., 1.],\n",
       "          [1., 1., 1.,  ..., 1., 1., 1.],\n",
       "          ...,\n",
       "          [1., 1., 1.,  ..., 1., 1., 1.],\n",
       "          [1., 1., 1.,  ..., 1., 1., 1.],\n",
       "          [1., 1., 1.,  ..., 1., 1., 1.]],\n",
       "\n",
       "         [[1., 1., 1.,  ..., 1., 1., 1.],\n",
       "          [1., 1., 1.,  ..., 1., 1., 1.],\n",
       "          [1., 1., 1.,  ..., 1., 1., 1.],\n",
       "          ...,\n",
       "          [1., 1., 1.,  ..., 1., 1., 1.],\n",
       "          [1., 1., 1.,  ..., 1., 1., 1.],\n",
       "          [1., 1., 1.,  ..., 1., 1., 1.]]],\n",
       "\n",
       "\n",
       "        ...,\n",
       "\n",
       "\n",
       "        [[[1., 1., 1.,  ..., 1., 1., 1.],\n",
       "          [1., 1., 1.,  ..., 1., 1., 1.],\n",
       "          [1., 1., 1.,  ..., 1., 1., 1.],\n",
       "          ...,\n",
       "          [1., 1., 1.,  ..., 1., 1., 1.],\n",
       "          [1., 1., 1.,  ..., 1., 1., 1.],\n",
       "          [1., 1., 1.,  ..., 1., 1., 1.]],\n",
       "\n",
       "         [[1., 1., 1.,  ..., 1., 1., 1.],\n",
       "          [1., 1., 1.,  ..., 1., 1., 1.],\n",
       "          [1., 1., 1.,  ..., 1., 1., 1.],\n",
       "          ...,\n",
       "          [1., 1., 1.,  ..., 1., 1., 1.],\n",
       "          [1., 1., 1.,  ..., 1., 1., 1.],\n",
       "          [1., 1., 1.,  ..., 1., 1., 1.]],\n",
       "\n",
       "         [[1., 1., 1.,  ..., 1., 1., 1.],\n",
       "          [1., 1., 1.,  ..., 1., 1., 1.],\n",
       "          [1., 1., 1.,  ..., 1., 1., 1.],\n",
       "          ...,\n",
       "          [1., 1., 1.,  ..., 1., 1., 1.],\n",
       "          [1., 1., 1.,  ..., 1., 1., 1.],\n",
       "          [1., 1., 1.,  ..., 1., 1., 1.]]],\n",
       "\n",
       "\n",
       "        [[[1., 1., 1.,  ..., 1., 1., 1.],\n",
       "          [1., 1., 1.,  ..., 1., 1., 1.],\n",
       "          [1., 1., 1.,  ..., 1., 1., 1.],\n",
       "          ...,\n",
       "          [1., 1., 1.,  ..., 1., 1., 1.],\n",
       "          [1., 1., 1.,  ..., 1., 1., 1.],\n",
       "          [1., 1., 1.,  ..., 1., 1., 1.]],\n",
       "\n",
       "         [[1., 1., 1.,  ..., 1., 1., 1.],\n",
       "          [1., 1., 1.,  ..., 1., 1., 1.],\n",
       "          [1., 1., 1.,  ..., 1., 1., 1.],\n",
       "          ...,\n",
       "          [1., 1., 1.,  ..., 1., 1., 1.],\n",
       "          [1., 1., 1.,  ..., 1., 1., 1.],\n",
       "          [1., 1., 1.,  ..., 1., 1., 1.]],\n",
       "\n",
       "         [[1., 1., 1.,  ..., 1., 1., 1.],\n",
       "          [1., 1., 1.,  ..., 1., 1., 1.],\n",
       "          [1., 1., 1.,  ..., 1., 1., 1.],\n",
       "          ...,\n",
       "          [1., 1., 1.,  ..., 1., 1., 1.],\n",
       "          [1., 1., 1.,  ..., 1., 1., 1.],\n",
       "          [1., 1., 1.,  ..., 1., 1., 1.]]],\n",
       "\n",
       "\n",
       "        [[[1., 1., 1.,  ..., 1., 1., 1.],\n",
       "          [1., 1., 1.,  ..., 1., 1., 1.],\n",
       "          [1., 1., 1.,  ..., 1., 1., 1.],\n",
       "          ...,\n",
       "          [1., 1., 1.,  ..., 1., 1., 1.],\n",
       "          [1., 1., 1.,  ..., 1., 1., 1.],\n",
       "          [1., 1., 1.,  ..., 1., 1., 1.]],\n",
       "\n",
       "         [[1., 1., 1.,  ..., 1., 1., 1.],\n",
       "          [1., 1., 1.,  ..., 1., 1., 1.],\n",
       "          [1., 1., 1.,  ..., 1., 1., 1.],\n",
       "          ...,\n",
       "          [1., 1., 1.,  ..., 1., 1., 1.],\n",
       "          [1., 1., 1.,  ..., 1., 1., 1.],\n",
       "          [1., 1., 1.,  ..., 1., 1., 1.]],\n",
       "\n",
       "         [[1., 1., 1.,  ..., 1., 1., 1.],\n",
       "          [1., 1., 1.,  ..., 1., 1., 1.],\n",
       "          [1., 1., 1.,  ..., 1., 1., 1.],\n",
       "          ...,\n",
       "          [1., 1., 1.,  ..., 1., 1., 1.],\n",
       "          [1., 1., 1.,  ..., 1., 1., 1.],\n",
       "          [1., 1., 1.,  ..., 1., 1., 1.]]]])"
      ]
     },
     "execution_count": 183,
     "metadata": {},
     "output_type": "execute_result"
    }
   ],
   "source": [
    "test_tensor = torch.ones((32,3,32,32))\n",
    "test_tensor[0,0,0,0] = 5\n",
    "test_tensor[0,1,0,0] = 5\n",
    "test_tensor[0,2,0,0] = 5\n",
    "maxdrop(test_tensor, 0.5)"
   ]
  },
  {
   "cell_type": "code",
   "execution_count": 184,
   "metadata": {
    "ExecuteTime": {
     "end_time": "2020-03-05T18:17:28.127000Z",
     "start_time": "2020-03-05T18:17:27.991001Z"
    },
    "colab": {},
    "colab_type": "code",
    "collapsed": true,
    "id": "NDvHbGwy4i7W"
   },
   "outputs": [],
   "source": [
    "class Neural_Network2(nn.Module):\n",
    "    def __init__(self):\n",
    "        super(Neural_Network2, self).__init__()\n",
    "\n",
    "        # 5 Convolutional Layers\n",
    "        # 100 - 3x3, 200 - 2x2, 300 - 2x2, 400 - 2x2, 500 - 2x2\n",
    "        self.conv1 = nn.Conv2d(3, 100, 3, padding=1)\n",
    "        self.conv2 = nn.Conv2d(100, 200, 2, padding=1)\n",
    "        self.conv3 = nn.Conv2d(200, 300, 2, padding=1)\n",
    "        self.conv4 = nn.Conv2d(300, 400, 2, padding=1)\n",
    "        self.conv5 = nn.Conv2d(400, 500, 2, padding=1)\n",
    "\n",
    "        # Max Pooling Layer (2 x 2)\n",
    "        self.maxpool = nn.MaxPool2d(2, 2)\n",
    "        \n",
    "        # Dropout Layer (p=0.5)\n",
    "        self.maxdrop = maxdrop\n",
    "\n",
    "        # Fully Connected Output Layer\n",
    "        self.fc1 = nn.Linear(4500, 10)\n",
    "\n",
    "        # Activation function\n",
    "        self.activ1 = nn.ReLU()\n",
    "\n",
    "    def forward(self, x):\n",
    "        # 5 convolutional / pooling layers\n",
    "        x = self.activ1(self.conv1(x))\n",
    "        x = self.maxpool(x)\n",
    "        if self.train():\n",
    "            x = maxdrop(x, 0.8)\n",
    "        x = self.activ1(self.conv2(x))\n",
    "        x = self.maxpool(x)\n",
    "        x = self.activ1(self.conv3(x))\n",
    "        x = self.maxpool(x)\n",
    "        x = self.activ1(self.conv4(x))\n",
    "        x = self.maxpool(x)\n",
    "        x = self.activ1(self.conv5(x))\n",
    "\n",
    "        # Final Output Layer\n",
    "        x = x.view(x.shape[0], -1)\n",
    "        x = self.fc1(x)\n",
    "\n",
    "        return x"
   ]
  },
  {
   "cell_type": "markdown",
   "metadata": {
    "colab_type": "text",
    "id": "-YXZxf_84i7e"
   },
   "source": [
    "## Other attempts"
   ]
  },
  {
   "cell_type": "code",
   "execution_count": 0,
   "metadata": {
    "ExecuteTime": {
     "end_time": "2020-03-04T16:22:23.379325Z",
     "start_time": "2020-03-04T16:22:23.260135Z"
    },
    "colab": {},
    "colab_type": "code",
    "collapsed": true,
    "id": "iwISaGLD4i7g"
   },
   "outputs": [],
   "source": [
    "class Neural_Network_3(nn.Module):\n",
    "    def __init__(self):\n",
    "        super(Neural_Network, self).__init__()\n",
    "        # Convolutional Layer -\n",
    "        self.conv1 = nn.Conv2d(3, 6, 5, padding=1)\n",
    "\n",
    "        # 2nd Convolutional Layer -\n",
    "        self.conv2 = nn.Conv2d(6, 16, 5, padding=1)\n",
    "\n",
    "        # 3rd Convolutional Layer -\n",
    "        self.conv3 = nn.Conv2d(16, 32, 5, padding=1)\n",
    "\n",
    "        # Max Pooling layers -\n",
    "        self.pool = nn.MaxPool2d(2, 2)\n",
    "\n",
    "        # 3 fully connected layers\n",
    "        self.fc1 = nn.Linear(2048, 250)\n",
    "        self.fc2 = nn.Linear(250, 120)\n",
    "        self.fc3 = nn.Linear(120, 84)\n",
    "        self.fc4 = nn.Linear(84, 10)\n",
    "\n",
    "        #Dropout for regularization using default p=0.5\n",
    "        #self.dr1 = nn.Dropout2d()\n",
    "        self.dr2 = nn.Dropout()\n",
    "\n",
    "        # Activation function\n",
    "        self.activ1 = nn.ReLU()\n",
    "        #self.activ1 = nn.Tanh()\n",
    "        #self.activ2 = nn.LocalResponseNorm(2)\n",
    "\n",
    "    def forward(self, x):\n",
    "        # 2 convolutional / pooling layers\n",
    "        x = self.activ1(self.conv1(x))\n",
    "        x = self.activ1(self.conv2(x))\n",
    "        x = self.pool(x)\n",
    "        x = self.activ1(self.conv3(x))\n",
    "\n",
    "        # 2 fully connected hidden layers\n",
    "        x = x.view(x.shape[0], -1)\n",
    "        x = self.activ1(self.fc1(x))\n",
    "        x = self.dr2(x)\n",
    "        x = self.activ1(self.fc2(x))\n",
    "        x = self.dr2(x)\n",
    "        x = self.activ1(self.fc3(x))\n",
    "        x = self.dr2(x)\n",
    "\n",
    "        # final output layer\n",
    "        x = self.fc4(x)\n",
    "\n",
    "        return x"
   ]
  },
  {
   "cell_type": "code",
   "execution_count": 0,
   "metadata": {
    "colab": {},
    "colab_type": "code",
    "collapsed": true,
    "id": "0mCLpOB64i7o"
   },
   "outputs": [],
   "source": [
    "class Neural_Network2(nn.Module):\n",
    "    def __init__(self):\n",
    "        super(Neural_Network2, self).__init__()\n",
    "        # Convolutional Layer - \n",
    "        self.conv1 = nn.Conv2d(3,6,3)\n",
    "        \n",
    "        # 2nd Convolutional Layer -\n",
    "        self.conv2 = nn.Conv2d(6,6,5)\n",
    "        \n",
    "        # 3rd Convolutional Layer -\n",
    "        self.conv3 = nn.Conv2d(6,8,5)\n",
    "        \n",
    "        # 4th Convolutional Layer\n",
    "        self.conv4 = nn.Conv2d(8,10,5)\n",
    "        \n",
    "        # Max Pooling layers - \n",
    "        self.pool = nn.MaxPool2d(2,2)\n",
    "             \n",
    "        # 3 fully connected layers\n",
    "        self.fc1 = nn.Linear(40, 10)\n",
    "        \n",
    "        # Activation function\n",
    "        self.activ1 = nn.ReLU()\n",
    "        \n",
    "    def forward(self, x):\n",
    "        # 2 convolutional / pooling layers\n",
    "        x = self.activ1(self.conv1(x))\n",
    "        x = self.activ1(self.conv2(x))\n",
    "        x = self.pool(x)\n",
    "        x = self.activ1(self.conv3(x))\n",
    "        x = self.activ1(self.conv4(x))\n",
    "        x = self.pool(x)\n",
    "        \n",
    "        # 2 fully connected hidden layers\n",
    "        x = x.view(-1,40)\n",
    "        x = self.activ1(self.fc1(x))\n",
    "        \n",
    "        return x"
   ]
  },
  {
   "cell_type": "code",
   "execution_count": 0,
   "metadata": {
    "colab": {},
    "colab_type": "code",
    "collapsed": true,
    "id": "ER-kym1v4i7y"
   },
   "outputs": [],
   "source": [
    "#All fully connected layer architecture\n",
    "class Neural_Network_Linear(nn.Module):\n",
    "    def __init__(self):\n",
    "        super(Neural_Network, self).__init__()\n",
    "        self.fc1 = nn.Linear(32* 32 * 3, 256)\n",
    "        self.fc2 = nn.Linear(256,200)\n",
    "        self.fc3 = nn.Linear(200, 10)\n",
    "        self.activ = nn.functional.relu\n",
    "        \n",
    "    def forward(self, x):\n",
    "        x = self.activ(self.fc1(x))\n",
    "        x = self.activ(self.fc2(x))\n",
    "        x = self.fc3(x)\n",
    "        \n",
    "        return x"
   ]
  },
  {
   "cell_type": "code",
   "execution_count": 0,
   "metadata": {
    "ExecuteTime": {
     "end_time": "2020-03-03T14:26:40.134256Z",
     "start_time": "2020-03-03T14:26:40.034281Z"
    },
    "colab": {},
    "colab_type": "code",
    "collapsed": true,
    "id": "cmi-bKPd4i75"
   },
   "outputs": [],
   "source": [
    "#VGG16 architecture\n",
    "class CNN(nn.Module):\n",
    "    def __init__(self):\n",
    "        super(CNN,self).__init__()\n",
    "        \n",
    "        self.conv_layer = nn.Sequential(\n",
    "        \n",
    "            #1st conv layer block\n",
    "            nn.Conv2d(in_channels=3, out_channels=32, kernel_size=3, padding=1),\n",
    "            nn.BatchNorm2d(32),\n",
    "            nn.ReLU(inplace=True),\n",
    "            nn.Conv2d(in_channels=32, out_channels=64, kernel_size=3, padding=1),\n",
    "            nn.ReLU(inplace=True),\n",
    "            nn.MaxPool2d(kernel_size=2, stride=2),\n",
    "\n",
    "            #2nd conv layer block\n",
    "            nn.Conv2d(in_channels=64, out_channels=128, kernel_size=3, padding=1),\n",
    "            nn.BatchNorm2d(128),\n",
    "            nn.ReLU(inplace=True),\n",
    "            nn.Conv2d(in_channels=128, out_channels=128, kernel_size=3, padding=1),\n",
    "            nn.ReLU(inplace=True),\n",
    "            nn.MaxPool2d(kernel_size=2, stride=2),\n",
    "            nn.Dropout2d(p=0.05),\n",
    "\n",
    "            #3rd conv layer block\n",
    "            nn.Conv2d(in_channels=128, out_channels=256, kernel_size=3, padding=1),\n",
    "            nn.BatchNorm2d(256),\n",
    "            nn.ReLU(inplace=True),\n",
    "            nn.Conv2d(in_channels=256, out_channels=256, kernel_size=3, padding=1),\n",
    "            nn.ReLU(inplace=True),\n",
    "            nn.MaxPool2d(kernel_size=2, stride=2),\n",
    "        )\n",
    "        \n",
    "            #fully connected layers block\n",
    "        self.fc_layer = nn.Sequential(\n",
    "            nn.Dropout(p=0.1),\n",
    "            nn.Linear(4096,1024),\n",
    "            nn.ReLU(inplace=True),\n",
    "            nn.Linear(1024,512),\n",
    "            nn.ReLU(inplace=True),\n",
    "            nn.Dropout(p=0.1),\n",
    "            nn.Linear(512,10)\n",
    "        )\n",
    "        \n",
    "            #perform forward\n",
    "        def forward(self, x):\n",
    "            #conv layers\n",
    "            x = self.conv_layer(x)\n",
    "            #flatten\n",
    "            x = x.view(x.size(0), -1)\n",
    "            #fully connected layer\n",
    "            x = self.fc_layer(x)\n",
    "            \n",
    "            return x"
   ]
  },
  {
   "cell_type": "markdown",
   "metadata": {
    "colab_type": "text",
    "id": "FSnQKYqY4i8D"
   },
   "source": [
    "# Neural Network Training"
   ]
  },
  {
   "cell_type": "markdown",
   "metadata": {},
   "source": [
    "## Training new model"
   ]
  },
  {
   "cell_type": "code",
   "execution_count": 17,
   "metadata": {
    "ExecuteTime": {
     "end_time": "2020-03-05T18:34:05.745488Z",
     "start_time": "2020-03-05T18:34:02.935691Z"
    },
    "colab": {
     "base_uri": "https://localhost:8080/",
     "height": 193
    },
    "colab_type": "code",
    "id": "yjXsgr7E4i8F",
    "outputId": "e09fe667-80ba-46bc-d588-31d643e1f7b6"
   },
   "outputs": [
    {
     "data": {
      "text/plain": [
       "Neural_Network(\n",
       "  (conv1): Conv2d(3, 100, kernel_size=(3, 3), stride=(1, 1), padding=(1, 1))\n",
       "  (conv2): Conv2d(100, 200, kernel_size=(2, 2), stride=(1, 1), padding=(1, 1))\n",
       "  (conv3): Conv2d(200, 300, kernel_size=(2, 2), stride=(1, 1), padding=(1, 1))\n",
       "  (conv4): Conv2d(300, 400, kernel_size=(2, 2), stride=(1, 1), padding=(1, 1))\n",
       "  (conv5): Conv2d(400, 500, kernel_size=(2, 2), stride=(1, 1), padding=(1, 1))\n",
       "  (pool): MaxPool2d(kernel_size=2, stride=2, padding=0, dilation=1, ceil_mode=False)\n",
       "  (fc1): Linear(in_features=4500, out_features=10, bias=True)\n",
       "  (activ1): ReLU()\n",
       ")"
      ]
     },
     "execution_count": 17,
     "metadata": {},
     "output_type": "execute_result"
    }
   ],
   "source": [
    "# Use this cell if training a new model\n",
    "model = Neural_Network()\n",
    "device = cpu_or_gpu()\n",
    "model.to(device)"
   ]
  },
  {
   "cell_type": "markdown",
   "metadata": {},
   "source": [
    "## Loading previously saved model"
   ]
  },
  {
   "cell_type": "code",
   "execution_count": 24,
   "metadata": {
    "ExecuteTime": {
     "end_time": "2020-03-05T19:54:04.627247Z",
     "start_time": "2020-03-05T19:54:04.243891Z"
    },
    "colab": {
     "base_uri": "https://localhost:8080/",
     "height": 193
    },
    "colab_type": "code",
    "id": "4-XJAjsA4i8N",
    "outputId": "7e5379f6-c92d-438e-c5b6-3f37a24ed5ae"
   },
   "outputs": [
    {
     "data": {
      "text/plain": [
       "Neural_Network(\n",
       "  (conv1): Conv2d(3, 100, kernel_size=(3, 3), stride=(1, 1), padding=(1, 1))\n",
       "  (conv2): Conv2d(100, 200, kernel_size=(2, 2), stride=(1, 1), padding=(1, 1))\n",
       "  (conv3): Conv2d(200, 300, kernel_size=(2, 2), stride=(1, 1), padding=(1, 1))\n",
       "  (conv4): Conv2d(300, 400, kernel_size=(2, 2), stride=(1, 1), padding=(1, 1))\n",
       "  (conv5): Conv2d(400, 500, kernel_size=(2, 2), stride=(1, 1), padding=(1, 1))\n",
       "  (pool): MaxPool2d(kernel_size=2, stride=2, padding=0, dilation=1, ceil_mode=False)\n",
       "  (fc1): Linear(in_features=4500, out_features=10, bias=True)\n",
       "  (activ1): ReLU()\n",
       ")"
      ]
     },
     "execution_count": 24,
     "metadata": {},
     "output_type": "execute_result"
    }
   ],
   "source": [
    "# Use this cell if loading a saved model\n",
    "model = Neural_Network()\n",
    "model.load_state_dict(\n",
    "    torch.load(\"finalmodel1\"))\n",
    "               #Conv-NN-ReLU-88.5testaccuracy\"))  # <------- Insert path of saved model as string here\n",
    "\n",
    "model.eval()\n",
    "\n",
    "device = cpu_or_gpu()\n",
    "model.to(device)"
   ]
  },
  {
   "cell_type": "markdown",
   "metadata": {},
   "source": [
    "## Model Summary"
   ]
  },
  {
   "cell_type": "code",
   "execution_count": 17,
   "metadata": {
    "ExecuteTime": {
     "end_time": "2020-03-05T19:36:36.275179Z",
     "start_time": "2020-03-05T19:36:33.665663Z"
    },
    "colab": {
     "base_uri": "https://localhost:8080/",
     "height": 510
    },
    "colab_type": "code",
    "id": "kXLrfa4o4i8V",
    "outputId": "6f81d85f-9981-4704-adf8-b22930b85f94"
   },
   "outputs": [
    {
     "name": "stdout",
     "output_type": "stream",
     "text": [
      "----------------------------------------------------------------\n",
      "        Layer (type)               Output Shape         Param #\n",
      "================================================================\n",
      "            Conv2d-1          [-1, 100, 32, 32]           2,800\n",
      "              ReLU-2          [-1, 100, 32, 32]               0\n",
      "         MaxPool2d-3          [-1, 100, 16, 16]               0\n",
      "            Conv2d-4          [-1, 200, 17, 17]          80,200\n",
      "              ReLU-5          [-1, 200, 17, 17]               0\n",
      "         MaxPool2d-6            [-1, 200, 8, 8]               0\n",
      "            Conv2d-7            [-1, 300, 9, 9]         240,300\n",
      "              ReLU-8            [-1, 300, 9, 9]               0\n",
      "         MaxPool2d-9            [-1, 300, 4, 4]               0\n",
      "           Conv2d-10            [-1, 400, 5, 5]         480,400\n",
      "             ReLU-11            [-1, 400, 5, 5]               0\n",
      "        MaxPool2d-12            [-1, 400, 2, 2]               0\n",
      "           Conv2d-13            [-1, 500, 3, 3]         800,500\n",
      "             ReLU-14            [-1, 500, 3, 3]               0\n",
      "           Linear-15                   [-1, 10]          45,010\n",
      "================================================================\n",
      "Total params: 1,649,210\n",
      "Trainable params: 1,649,210\n",
      "Non-trainable params: 0\n",
      "----------------------------------------------------------------\n",
      "Input size (MB): 0.01\n",
      "Forward/backward pass size (MB): 3.38\n",
      "Params size (MB): 6.29\n",
      "Estimated Total Size (MB): 9.68\n",
      "----------------------------------------------------------------\n"
     ]
    }
   ],
   "source": [
    "# Summary of layers, output shape, parameters, and size\n",
    "summary(model, input_size=(3, 32, 32))"
   ]
  },
  {
   "cell_type": "markdown",
   "metadata": {},
   "source": [
    "## Train function"
   ]
  },
  {
   "cell_type": "code",
   "execution_count": 18,
   "metadata": {
    "ExecuteTime": {
     "end_time": "2020-03-05T19:36:36.727567Z",
     "start_time": "2020-03-05T19:36:36.659142Z"
    },
    "colab": {},
    "colab_type": "code",
    "collapsed": true,
    "id": "Wk5pSTPL4i8e"
   },
   "outputs": [],
   "source": [
    "# Initialize cross entropy loss for use in training/testing\n",
    "criterion = nn.CrossEntropyLoss()"
   ]
  },
  {
   "cell_type": "code",
   "execution_count": 25,
   "metadata": {
    "ExecuteTime": {
     "end_time": "2020-03-05T19:54:16.694769Z",
     "start_time": "2020-03-05T19:54:16.428562Z"
    },
    "colab": {},
    "colab_type": "code",
    "collapsed": true,
    "id": "2UcjkYoy4i8m"
   },
   "outputs": [],
   "source": [
    "def train():\n",
    "\n",
    "    # Initial hyperparameters\n",
    "    number_of_epochs = 100\n",
    "    step_size = 0.001\n",
    "    momentum_parameter = 0.9\n",
    "    weight_decay = 0\n",
    "    lambda1 = 0.001\n",
    "\n",
    "    # L1 Regularization\n",
    "    all_linear1_params = torch.cat(\n",
    "        [x.view(-1) for x in model.fc1.parameters()])\n",
    "    l1_regularization = lambda1 * torch.norm(all_linear1_params, 1)\n",
    "\n",
    "    # Initialize optimiser\n",
    "    optimiser = optim.SGD(model.parameters(),\n",
    "                          lr=step_size,\n",
    "                          momentum=momentum_parameter,\n",
    "                          weight_decay=weight_decay)\n",
    "\n",
    "    # initialize lists for running counts of loss and accuracy\n",
    "    running_loss = []\n",
    "    running_val_loss = []\n",
    "    running_training_accuracy = []\n",
    "    running_training_accuracy.append(0)\n",
    "    running_val_accuracy = []\n",
    "    running_val_accuracy.append(0)\n",
    "\n",
    "    print(\"Log -- Step size: {}, Momentum: {}, batch_size = {}\".format(\n",
    "        step_size, momentum_parameter, train_batch_size))\n",
    "    # loop for epochs\n",
    "    for k in range(number_of_epochs):\n",
    "        model.train()\n",
    "        device = cpu_or_gpu()\n",
    "        model.to(device)\n",
    "\n",
    "        # initialize epoch loss and training accuracy\n",
    "        epoch_loss = 0\n",
    "        training_accuracy = 0\n",
    "\n",
    "\n",
    "        # handle reducing step size at various iterations\n",
    "\n",
    "        \"\"\"step_size = reduce_step_size(iteration_cutoff=10,\n",
    "                                     old_step_size=step_size,\n",
    "                                     new_step_size=0.001,\n",
    "                                     epoch=k)\n",
    "        step_size = reduce_step_size(iteration_cutoff=20,\n",
    "                                     old_step_size=step_size,\n",
    "                                     new_step_size=0.0001,\n",
    "                                     epoch=k)\n",
    "        step_size = reduce_step_size(iteration_cutoff=30,\n",
    "                                     old_step_size=step_size,\n",
    "                                     new_step_size=0.00001,\n",
    "                                     epoch=k)\n",
    "        step_size = reduce_step_size(iteration_cutoff=40,\n",
    "                                     old_step_size=step_size,\n",
    "                                     new_step_size=0.000001,\n",
    "                                     epoch=k)\"\"\"\n",
    "\n",
    "        optimiser = optim.SGD(model.parameters(),\n",
    "                              lr=step_size,\n",
    "                              momentum=momentum_parameter,\n",
    "                              weight_decay=weight_decay)\n",
    "\n",
    "        # Main Training Loop\n",
    "        for j, (images, labels) in enumerate(train_loader):\n",
    "            images, labels = images.to(device), labels.to(device)\n",
    "            optimiser.zero_grad()\n",
    "            outputs = model(images)\n",
    "            loss = criterion(outputs, labels) + l1_regularization/len(images)\n",
    "            loss.backward(retain_graph=True)\n",
    "            optimiser.step()\n",
    "\n",
    "            epoch_loss += loss.item()\n",
    "            training_accuracy += accuracy(outputs, labels)\n",
    "\n",
    "        # Caclulate average loss and accuracy for each epoch\n",
    "        running_loss.append(epoch_loss / len(train_loader))\n",
    "        running_training_accuracy.append(training_accuracy / len(train_loader))\n",
    "\n",
    "        # Validation test once per epoch\n",
    "        device = torch.device('cpu')\n",
    "        model.eval()\n",
    "        model.to(device)\n",
    "        val_images, val_labels = iter(val_loader).next()\n",
    "        val_images, val_labels = val_images.to(device), val_labels.to(device)\n",
    "        val_outputs = model(val_images) + l1_regularization/len(images)\n",
    "        val_loss = criterion(val_outputs, val_labels).item()\n",
    "\n",
    "        # Store validation loss and accuracy\n",
    "        running_val_loss.append(val_loss)\n",
    "        val_accuracy = accuracy(val_outputs, val_labels)\n",
    "        running_val_accuracy.append(val_accuracy)\n",
    "        \n",
    "        # Running log\n",
    "        if k % 1 == 0:\n",
    "            print(\n",
    "                \"Epoch {a}/{b} -> Tr. Loss = {c:.2f}, Val. Loss = {d:.2f}, Tr. Acc = {e:.2f}, Val. Acc = {f:.2f}\"\n",
    "                .format(a=k+27,\n",
    "                        b=number_of_epochs,\n",
    "                        c=running_loss[-1],\n",
    "                        d=running_val_loss[-1],\n",
    "                        e=running_training_accuracy[-1],\n",
    "                        f=running_val_accuracy[-1]))\n",
    "        \n",
    "        # Break condition (validation loss is rising)\n",
    "        if len(running_val_loss) > 8 and running_val_loss[-1] - running_val_loss[-8] > 0:\n",
    "            break\n",
    "\n",
    "    print(\"Final Epoch {} -> Loss = {}\".format(k, running_loss[-1]))\n",
    "\n",
    "    return running_loss, running_val_loss, running_training_accuracy, running_val_accuracy"
   ]
  },
  {
   "cell_type": "code",
   "execution_count": null,
   "metadata": {
    "ExecuteTime": {
     "start_time": "2020-03-05T19:54:24.705Z"
    },
    "colab": {},
    "colab_type": "code",
    "id": "_P23_2xu4i8v",
    "outputId": "d3ce65e6-7586-4696-cf24-a4ccbd8e4276"
   },
   "outputs": [
    {
     "name": "stdout",
     "output_type": "stream",
     "text": [
      "Log -- Step size: 0.001, Momentum: 0.9, batch_size = 32\n",
      "Epoch 27/100 -> Tr. Loss = 0.36, Val. Loss = 0.30, Tr. Acc = 89.65, Val. Acc = 89.40\n",
      "Epoch 28/100 -> Tr. Loss = 0.36, Val. Loss = 0.31, Tr. Acc = 89.85, Val. Acc = 88.94\n",
      "Epoch 29/100 -> Tr. Loss = 0.35, Val. Loss = 0.31, Tr. Acc = 89.94, Val. Acc = 89.06\n",
      "Epoch 30/100 -> Tr. Loss = 0.34, Val. Loss = 0.32, Tr. Acc = 90.13, Val. Acc = 88.94\n",
      "Epoch 31/100 -> Tr. Loss = 0.34, Val. Loss = 0.31, Tr. Acc = 90.40, Val. Acc = 89.38\n",
      "Epoch 32/100 -> Tr. Loss = 0.34, Val. Loss = 0.31, Tr. Acc = 90.56, Val. Acc = 89.06\n",
      "Epoch 33/100 -> Tr. Loss = 0.33, Val. Loss = 0.30, Tr. Acc = 90.87, Val. Acc = 89.14\n"
     ]
    }
   ],
   "source": [
    "running_loss, running_val_loss, running_training_accuracy, running_val_accuracy = train()"
   ]
  },
  {
   "cell_type": "markdown",
   "metadata": {
    "colab_type": "text",
    "id": "dJvsPHdK4i83"
   },
   "source": [
    "### Training Epoch Loss and Accuracy Visualizations"
   ]
  },
  {
   "cell_type": "code",
   "execution_count": 31,
   "metadata": {
    "ExecuteTime": {
     "end_time": "2020-03-05T19:18:21.922933Z",
     "start_time": "2020-03-05T19:18:21.722216Z"
    },
    "colab": {},
    "colab_type": "code",
    "id": "YYDuywwX4i85",
    "outputId": "15845407-b789-40cc-b31b-cc90ff8c0d41"
   },
   "outputs": [
    {
     "data": {
      "image/png": "[encoded data removed]",
      "text/plain": [
       "<Figure size 432x288 with 1 Axes>"
      ]
     },
     "metadata": {},
     "output_type": "display_data"
    }
   ],
   "source": [
    "plt.plot(running_loss, label=\"Training Loss\")\n",
    "plt.plot(running_val_loss, label=\"Validation Loss\")\n",
    "for i in range(len(running_val_loss)):\n",
    "    if running_val_loss[i] == np.min(running_val_loss):\n",
    "        lowest_index = i\n",
    "plt.scatter(lowest_index,\n",
    "            running_val_loss[lowest_index],\n",
    "            label=\"Lowest Validation Loss\",\n",
    "            c=\"r\")\n",
    "plt.scatter(lowest_index,\n",
    "            running_loss[lowest_index],\n",
    "            label=\"Corresponding Train Loss\",\n",
    "            c=\"r\")\n",
    "plt.legend()\n",
    "plt.ylabel(\"Loss\")\n",
    "plt.xlabel(\"Epoch\")\n",
    "plt.grid()\n",
    "plt.show()"
   ]
  },
  {
   "cell_type": "code",
   "execution_count": 24,
   "metadata": {
    "ExecuteTime": {
     "end_time": "2020-03-05T19:15:11.283120Z",
     "start_time": "2020-03-05T19:15:11.086733Z"
    },
    "colab": {},
    "colab_type": "code",
    "id": "lenIpOC-4i9B",
    "scrolled": true
   },
   "outputs": [
    {
     "data": {
      "image/png": "[encoded data removed]",
      "text/plain": [
       "<Figure size 432x288 with 1 Axes>"
      ]
     },
     "metadata": {},
     "output_type": "display_data"
    }
   ],
   "source": [
    "plt.plot(running_training_accuracy, label=\"Training Accuracy\")\n",
    "plt.plot(running_val_accuracy, label=\"Test Accuracy\")\n",
    "for i in range(len(running_val_accuracy)):\n",
    "    if running_val_accuracy[i] == np.max(running_val_accuracy):\n",
    "        highest_index = i\n",
    "plt.scatter(highest_index,\n",
    "            running_val_accuracy[highest_index],\n",
    "            label=\"Highest Validation Accuracy\",\n",
    "            c=\"r\")\n",
    "plt.scatter(highest_index,\n",
    "            running_training_accuracy[highest_index],\n",
    "            label=\"Corresponding Train Accuracy\",\n",
    "            c=\"r\")\n",
    "plt.legend()\n",
    "plt.ylabel(\"Model Accuracy\")\n",
    "plt.xlabel(\"Epoch\")\n",
    "plt.grid()\n",
    "plt.show()"
   ]
  },
  {
   "cell_type": "markdown",
   "metadata": {
    "ExecuteTime": {
     "end_time": "2020-03-05T01:03:52.160790Z",
     "start_time": "2020-03-05T01:03:52.154815Z"
    }
   },
   "source": [
    "# Saving Model State_Dict"
   ]
  },
  {
   "cell_type": "code",
   "execution_count": 25,
   "metadata": {
    "ExecuteTime": {
     "end_time": "2020-03-05T19:17:04.977111Z",
     "start_time": "2020-03-05T19:17:04.711372Z"
    },
    "colab": {},
    "colab_type": "code",
    "collapsed": true,
    "id": "XsdZjfnY4i9n"
   },
   "outputs": [],
   "source": [
    "# For saving neural network parameters\n",
    "torch.save(model.state_dict(), \n",
    "           \"finalmodel1\")  # <----- make sure to update the path if saving new model"
   ]
  },
  {
   "cell_type": "markdown",
   "metadata": {
    "colab_type": "text",
    "id": "y5Q1kSXr4i9H"
   },
   "source": [
    "# Neural Network Testing"
   ]
  },
  {
   "cell_type": "markdown",
   "metadata": {},
   "source": [
    "## Test on test dataset"
   ]
  },
  {
   "cell_type": "code",
   "execution_count": 22,
   "metadata": {
    "ExecuteTime": {
     "end_time": "2020-03-05T19:52:37.423923Z",
     "start_time": "2020-03-05T19:52:37.322439Z"
    },
    "colab": {},
    "colab_type": "code",
    "collapsed": true,
    "id": "b72_n5c74i9J"
   },
   "outputs": [],
   "source": [
    "# Accuracy on full test dataset (10,000 test images)\n",
    "def test_on_testing_data():\n",
    "    \"\"\"for testing model on test set (10,000 test images), batch size of 1000 \n",
    "    is used for computational purposes and accuracy/loss are averaged after\"\"\"\n",
    "\n",
    "    criterion = nn.CrossEntropyLoss()  # in case not previously defined\n",
    "\n",
    "    # initialize network to use CPU\n",
    "    device = torch.device('cpu')\n",
    "    model.to(device)\n",
    "    model.eval()\n",
    "\n",
    "    # initialize accuracy and loss\n",
    "    test_accuracy = 0\n",
    "    epoch_loss = 0\n",
    "\n",
    "    # loop through test batches and send to CPU\n",
    "    for j, (test_images, test_labels) in enumerate(test_loader):\n",
    "        test_images, test_labels = test_images.to(\n",
    "            device), test_labels.to(device)\n",
    "\n",
    "        # run images through model to create outputs\n",
    "        test_outputs = model(test_images)\n",
    "\n",
    "        # compare outputs to actual labels\n",
    "        epoch_loss += criterion(test_outputs, test_labels).item()\n",
    "        test_accuracy += accuracy(test_outputs, test_labels)\n",
    "\n",
    "    # average over the number of batches\n",
    "    test_accuracy = test_accuracy / len(test_loader)\n",
    "    test_loss = epoch_loss / len(test_loader)\n",
    "\n",
    "    # print results\n",
    "    print(\"Test Loss is : {a:.2f}\".format(a=test_loss))\n",
    "    print(\"Test Accuracy is : {a:.2f}%\".format(a=test_accuracy))"
   ]
  },
  {
   "cell_type": "code",
   "execution_count": 23,
   "metadata": {
    "ExecuteTime": {
     "end_time": "2020-03-05T19:53:29.126044Z",
     "start_time": "2020-03-05T19:52:39.688784Z"
    },
    "colab": {
     "base_uri": "https://localhost:8080/",
     "height": 52
    },
    "colab_type": "code",
    "id": "siywUy4t4i9P",
    "outputId": "9b6c68ea-5acf-4c5a-962c-71f6aaaeb595"
   },
   "outputs": [
    {
     "name": "stdout",
     "output_type": "stream",
     "text": [
      "Test Loss is : 0.43\n",
      "Test Accuracy is : 85.65%\n"
     ]
    }
   ],
   "source": [
    "test_on_testing_data()"
   ]
  },
  {
   "cell_type": "markdown",
   "metadata": {},
   "source": [
    "## Test on training dataset"
   ]
  },
  {
   "cell_type": "code",
   "execution_count": 147,
   "metadata": {
    "ExecuteTime": {
     "end_time": "2020-03-05T17:27:17.190002Z",
     "start_time": "2020-03-05T17:27:17.048808Z"
    },
    "colab": {},
    "colab_type": "code",
    "collapsed": true,
    "id": "D9TW85bM4i9Z"
   },
   "outputs": [],
   "source": [
    "# Accuracy on full train dataset (50,000 training images) without data augmentation\n",
    "def test_on_training_data():\n",
    "    \"\"\"for testing model on training batch (50,000 test images), batch size of 1000 \n",
    "    is used for computational purposes and accuracy/loss are averaged after\"\"\"\n",
    "\n",
    "    criterion = nn.CrossEntropyLoss()  # in case not previously defined\n",
    "\n",
    "    # initialize network to use CPU\n",
    "    device = torch.device('cpu')\n",
    "    model.to(device)\n",
    "    model.eval()\n",
    "\n",
    "    # we want to test on data without additional transformations\n",
    "    transform_tr1 = transforms.Compose([\n",
    "        transforms.ToTensor(),\n",
    "        transforms.Normalize((0.4914, 0.4822, 0.4465),\n",
    "                             (0.2470, 0.2435, 0.2616))\n",
    "    ])\n",
    "\n",
    "    # define new train dataset using above transformations\n",
    "    train_dataset1 = datasets.CIFAR10('CIFAR10',\n",
    "                                      train=True,\n",
    "                                      download=True,\n",
    "                                      transform=transform_tr1)\n",
    "\n",
    "    # define new loader with batch size and dataset\n",
    "    train_loader1 = torch.utils.data.DataLoader(train_dataset1,\n",
    "                                                batch_size=1000,\n",
    "                                                shuffle=True)\n",
    "    # initialize accuracy and loss\n",
    "    test_accuracy = 0  \n",
    "    epoch_loss = 0\n",
    "\n",
    "    # loop through test batches and send to CPU\n",
    "    for j, (test_images, test_labels) in enumerate(train_loader1):\n",
    "        test_images, test_labels = test_images.to(device), test_labels.to(\n",
    "            device)\n",
    "\n",
    "        # run images through model to create outputs\n",
    "        test_outputs = model(test_images)\n",
    "\n",
    "        # compare outputs to actual labels\n",
    "        epoch_loss += criterion(test_outputs, test_labels).item()\n",
    "        test_accuracy += accuracy(test_outputs, test_labels)\n",
    "\n",
    "    # average over the number of batches\n",
    "    test_accuracy = test_accuracy / len(train_loader1)\n",
    "    test_loss = epoch_loss / len(train_loader1)\n",
    "\n",
    "    # print results\n",
    "    print(\"Training Loss (Full Dataset) is : {a:.2f}\".format(a=test_loss))\n",
    "    print(\"Training Accuracy (Full Dataset) is : {a:.2f}%\".format(\n",
    "        a=test_accuracy))"
   ]
  },
  {
   "cell_type": "code",
   "execution_count": 148,
   "metadata": {
    "ExecuteTime": {
     "end_time": "2020-03-05T17:29:38.846021Z",
     "start_time": "2020-03-05T17:27:18.903620Z"
    },
    "colab": {
     "base_uri": "https://localhost:8080/",
     "height": 70
    },
    "colab_type": "code",
    "id": "fHV2ORxx4i9h",
    "outputId": "70b4c3db-fb6b-4800-cd0f-c996223a06c2",
    "scrolled": true
   },
   "outputs": [
    {
     "name": "stdout",
     "output_type": "stream",
     "text": [
      "Files already downloaded and verified\n",
      "Training Loss (Full Dataset) is : 0.26\n",
      "Training Accuracy (Full Dataset) is : 90.92%\n"
     ]
    }
   ],
   "source": [
    "test_on_training_data()"
   ]
  },
  {
   "cell_type": "markdown",
   "metadata": {
    "colab_type": "text",
    "id": "aJXfQhib4i9v"
   },
   "source": [
    "# Adversarial Attacks"
   ]
  },
  {
   "cell_type": "code",
   "execution_count": 24,
   "metadata": {
    "ExecuteTime": {
     "end_time": "2020-03-05T00:37:20.069277Z",
     "start_time": "2020-03-05T00:37:19.875752Z"
    },
    "colab": {},
    "colab_type": "code",
    "collapsed": true,
    "id": "2v1eu9GG4i9y"
   },
   "outputs": [],
   "source": [
    "test_loader1 = torch.utils.data.DataLoader(test_dataset,\n",
    "                                           batch_size=1,\n",
    "                                           shuffle=True)\n",
    "epsilon = [0, 0.05, 0.1, 0.2, 0.3]"
   ]
  },
  {
   "cell_type": "code",
   "execution_count": 25,
   "metadata": {
    "ExecuteTime": {
     "end_time": "2020-03-05T00:37:21.747151Z",
     "start_time": "2020-03-05T00:37:21.552704Z"
    },
    "colab": {},
    "colab_type": "code",
    "collapsed": true,
    "id": "WKb-qTe84i93"
   },
   "outputs": [],
   "source": [
    "def fgsm(images, epsilon, images_gradient):\n",
    "    sign = images.grad.sign()\n",
    "    new_image = images + epsilon * sign\n",
    "\n",
    "    return new_image"
   ]
  },
  {
   "cell_type": "code",
   "execution_count": 26,
   "metadata": {
    "ExecuteTime": {
     "end_time": "2020-03-05T00:37:25.295902Z",
     "start_time": "2020-03-05T00:37:25.067466Z"
    },
    "colab": {},
    "colab_type": "code",
    "collapsed": true,
    "id": "m6s-QyUW4i99"
   },
   "outputs": [],
   "source": [
    "def test_single_prediction(epsilon):\n",
    "\n",
    "    # Run model on CPU\n",
    "    device = torch.device('cpu')\n",
    "    model.to(device)\n",
    "    model.eval()\n",
    "\n",
    "    # For randomly sampling one image from the data loader\n",
    "    indices = np.arange(10000)\n",
    "    np.random.shuffle(indices)\n",
    "    sampler = torch.utils.data.SubsetRandomSampler(indices[:1])\n",
    "\n",
    "    test_loader1 = torch.utils.data.DataLoader(test_dataset,\n",
    "                                               batch_size=1,\n",
    "                                               shuffle=False,\n",
    "                                               sampler=sampler)\n",
    "\n",
    "    # define sample image out of the batch in the correct shape for visualization\n",
    "    for test_images, test_labels in test_loader1:\n",
    "        sample_image = test_images[0, :, :]\n",
    "        sample_label = test_labels[0]\n",
    "\n",
    "    # fgsm requires that we track gradients\n",
    "    sample_image.requires_grad = True\n",
    "    test_images.requires_grad = True\n",
    "\n",
    "    # run model on single image in test_images and backward pass\n",
    "    output = model(test_images)\n",
    "\n",
    "    loss = criterion(output, test_labels)\n",
    "    model.zero_grad()\n",
    "    loss.backward()\n",
    "\n",
    "    # predicted label is the highest value in output\n",
    "    _, predicted = torch.max(output, 1)\n",
    "\n",
    "    # calculate confidence in prediction(probability)\n",
    "    # by applying softmax to output\n",
    "    confidence = torch.nn.functional.softmax(output, dim=1)\n",
    "    confidence = torch.max(confidence, 1)\n",
    "\n",
    "    # fgsm adversarial attack on test_images\n",
    "    fgsm_images = fgsm(test_images, epsilon, test_images.grad.data)\n",
    "\n",
    "    # run model on single perturbed image\n",
    "    fgsm_output = model(fgsm_images)\n",
    "\n",
    "    # predicted label is the highest value in output\n",
    "    _, fgsm_predicted = torch.max(fgsm_output, 1)\n",
    "\n",
    "    # calculate confidence in prediction(probability)\n",
    "    # by applying softmax to output\n",
    "    fgsm_confidence = torch.nn.functional.softmax(fgsm_output, dim=1)\n",
    "    fgsm_confidence = torch.max(fgsm_confidence, 1)\n",
    "\n",
    "    # logging model prediction before and after fgsm attack\n",
    "    print(\"True label is: {tl} - {tl_desc}\\n\\\n",
    "    \\nBefore fgsm - Model prediction: {pred1} - {pred1_desc} with {conf1:.2f}% Confidence\\n\\\n",
    "    \\nAfter fgsm - Model prediction: {pred2} - {pred2_desc} with {conf2:.2f}% Confidence\\n\\\n",
    "    \".format(tl=sample_label,\n",
    "             tl_desc=train_dataset.classes[sample_label],\n",
    "             pred1=predicted[0],\n",
    "             pred1_desc=train_dataset.classes[predicted[0]],\n",
    "             pred2=fgsm_predicted[0],\n",
    "             pred2_desc=train_dataset.classes[fgsm_predicted[0]],\n",
    "             conf1=confidence[0].item() * 100,\n",
    "             conf2=fgsm_confidence[0].item() * 100))\n",
    "\n",
    "    # define mean and standard deviation for reversing normalization\n",
    "    std = tst_std\n",
    "    mean = tst_mean\n",
    "    mean = mean[:, None, None]\n",
    "    std = std[:, None, None]\n",
    "\n",
    "    # reverse normalization\n",
    "    sample_image = sample_image * std + mean\n",
    "    adv_image = fgsm_images * std + mean\n",
    "    fgsm_vis = epsilon * test_images.grad.sign()\n",
    "\n",
    "    # list of images and label for visualization\n",
    "    images_list = [\n",
    "        sample_image.detach(),\n",
    "        fgsm_vis.detach()[0, :, :],\n",
    "        adv_image.detach()[0, :, :]\n",
    "    ]\n",
    "    labels_for_vis = [\"Original Image\", \"FGSM Noise\", \"Perturbed Image\"]\n",
    "\n",
    "    # setup figure with 3 columns and 1\n",
    "    ax = []\n",
    "    fig = plt.figure(figsize=(32, 32))\n",
    "    columns = 3\n",
    "    rows = 1\n",
    "\n",
    "    # visualization\n",
    "    plt.rcParams.update({'font.size': 22})\n",
    "    for i in range(1, columns * rows + 1):\n",
    "        ax.append(fig.add_subplot(rows, columns, i))\n",
    "        ax[-1].set_title(labels_for_vis[i - 1])\n",
    "        plt.imshow(np.transpose(images_list[i - 1], (1, 2, 0)))\n",
    "\n",
    "    plt.rcParams.update({'font.size': 12})\n",
    "    plt.show()"
   ]
  },
  {
   "cell_type": "code",
   "execution_count": 27,
   "metadata": {
    "ExecuteTime": {
     "end_time": "2020-03-05T00:37:28.900180Z",
     "start_time": "2020-03-05T00:37:28.703731Z"
    },
    "colab": {
     "base_uri": "https://localhost:8080/",
     "height": 52
    },
    "colab_type": "code",
    "id": "LB3oY2AhFwRS",
    "outputId": "a3ed5a18-bf18-4bbf-b0c4-af9357f238f7"
   },
   "outputs": [
    {
     "name": "stdout",
     "output_type": "stream",
     "text": [
      "Classes are: ['airplane', 'automobile', 'bird', 'cat', 'deer', 'dog', 'frog', 'horse', 'ship', 'truck']\n",
      "\n"
     ]
    }
   ],
   "source": [
    "print(\"Classes are: {}\\n\".format(test_dataset.classes))"
   ]
  },
  {
   "cell_type": "code",
   "execution_count": 32,
   "metadata": {
    "ExecuteTime": {
     "end_time": "2020-03-05T00:38:15.123581Z",
     "start_time": "2020-03-05T00:38:12.434212Z"
    },
    "colab": {
     "base_uri": "https://localhost:8080/",
     "height": 752
    },
    "colab_type": "code",
    "id": "BrS8Bdys4i-H",
    "outputId": "a8c3c066-9efd-4350-c763-df84d0256dd8",
    "scrolled": false
   },
   "outputs": [
    {
     "name": "stdout",
     "output_type": "stream",
     "text": [
      "True label is: 3 - cat\n",
      "    \n",
      "Before fgsm - Model prediction: 3 - cat with 99.57% Confidence\n",
      "    \n",
      "After fgsm - Model prediction: 5 - dog with 99.32% Confidence\n",
      "    \n"
     ]
    },
    {
     "name": "stderr",
     "output_type": "stream",
     "text": [
      "Clipping input data to the valid range for imshow with RGB data ([0..1] for floats or [0..255] for integers).\n",
      "Clipping input data to the valid range for imshow with RGB data ([0..1] for floats or [0..255] for integers).\n"
     ]
    },
    {
     "data": {
      "image/png": "[encoded data removed]",
      "text/plain": [
       "<Figure size 2304x2304 with 3 Axes>"
      ]
     },
     "metadata": {
      "needs_background": "light"
     },
     "output_type": "display_data"
    }
   ],
   "source": [
    "test_single_prediction(epsilon=0.05)"
   ]
  },
  {
   "cell_type": "code",
   "execution_count": 41,
   "metadata": {
    "ExecuteTime": {
     "end_time": "2020-03-05T00:40:14.550367Z",
     "start_time": "2020-03-05T00:40:12.085995Z"
    }
   },
   "outputs": [
    {
     "name": "stdout",
     "output_type": "stream",
     "text": [
      "True label is: 5 - dog\n",
      "    \n",
      "Before fgsm - Model prediction: 5 - dog with 41.43% Confidence\n",
      "    \n",
      "After fgsm - Model prediction: 9 - truck with 99.87% Confidence\n",
      "    \n"
     ]
    },
    {
     "name": "stderr",
     "output_type": "stream",
     "text": [
      "Clipping input data to the valid range for imshow with RGB data ([0..1] for floats or [0..255] for integers).\n"
     ]
    },
    {
     "data": {
      "image/png": "[encoded data removed]",
      "text/plain": [
       "<Figure size 2304x2304 with 3 Axes>"
      ]
     },
     "metadata": {
      "needs_background": "light"
     },
     "output_type": "display_data"
    }
   ],
   "source": [
    "test_single_prediction(epsilon=0.1)"
   ]
  },
  {
   "cell_type": "code",
   "execution_count": 33,
   "metadata": {
    "ExecuteTime": {
     "end_time": "2020-03-05T00:38:20.183365Z",
     "start_time": "2020-03-05T00:38:19.966050Z"
    },
    "colab": {},
    "colab_type": "code",
    "collapsed": true,
    "id": "4HLy1zRB4i-V"
   },
   "outputs": [],
   "source": [
    "def test_fgsm(model, device, test_loader1, epsilon):\n",
    "    device = torch.device('cpu')\n",
    "    model.to(device)\n",
    "    model.eval()\n",
    "\n",
    "    # Accuracy counter\n",
    "    correct = 0\n",
    "    adv_examples = []\n",
    "\n",
    "    # Loop over all examples in test set\n",
    "    for images, labels in test_loader1:\n",
    "\n",
    "        # Send the data and label to the device\n",
    "        images, labels = images.to(device), labels.to(device)\n",
    "\n",
    "        # Set requires_grad attribute of tensor. Important for Attack\n",
    "        images.requires_grad = True\n",
    "\n",
    "        # Forward pass the data through the model\n",
    "        output = neural_network(images)\n",
    "        init_pred = output.max(\n",
    "            1, keepdim=True)[1]  # get the index of the max log-probability\n",
    "\n",
    "        # If the initial prediction is wrong, dont bother attacking, just move on\n",
    "        if init_pred.item() != labels.item():\n",
    "            continue\n",
    "\n",
    "        # Calculate the loss\n",
    "        loss = criterion(output, labels)\n",
    "\n",
    "        # Zero all existing gradients\n",
    "        model.zero_grad()\n",
    "\n",
    "        # Calculate gradients of model in backward pass\n",
    "        loss.backward()\n",
    "\n",
    "        # Collect datagrad\n",
    "        images_gradient = images.grad.data\n",
    "\n",
    "        # Call FGSM Attack\n",
    "        perturbed_data = fgsm(images, epsilon, images_gradient)\n",
    "\n",
    "        # Re-classify the perturbed image\n",
    "        output = model(perturbed_data)\n",
    "\n",
    "        # Check for success\n",
    "        final_pred = output.max(\n",
    "            1, keepdim=True)[1]  # get the index of the max log-probability\n",
    "        if final_pred.item() == labels.item():\n",
    "            correct += 1\n",
    "            # Special case for saving 0 epsilon examples\n",
    "            if (epsilon == 0) and (len(adv_examples) < 5):\n",
    "                adv_ex = perturbed_data.squeeze().detach().cpu().numpy()\n",
    "                adv_examples.append(\n",
    "                    (init_pred.item(), final_pred.item(), adv_ex))\n",
    "        else:\n",
    "            # Save some adv examples for visualization later\n",
    "            if len(adv_examples) < 5:\n",
    "                adv_ex = perturbed_data.squeeze().detach().cpu().numpy()\n",
    "                adv_examples.append(\n",
    "                    (init_pred.item(), final_pred.item(), adv_ex))\n",
    "\n",
    "    # Calculate final accuracy for this epsilon\n",
    "    final_acc = correct / float(len(test_loader1))\n",
    "    print(\"Epsilon: {}\\tTest Accuracy = {} / {} = {}\".format(\n",
    "        epsilon, correct, len(test_loader1), final_acc))\n",
    "\n",
    "    # Return the accuracy and an adversarial example\n",
    "    return final_acc, adv_examples"
   ]
  },
  {
   "cell_type": "code",
   "execution_count": 0,
   "metadata": {
    "ExecuteTime": {
     "end_time": "2020-03-03T19:15:19.306340Z",
     "start_time": "2020-03-03T18:56:52.266743Z"
    },
    "colab": {},
    "colab_type": "code",
    "collapsed": true,
    "id": "8hh0fubC4i-b"
   },
   "outputs": [],
   "source": [
    "accuracies = []\n",
    "examples = []\n",
    "\n",
    "# Run test for each epsilon\n",
    "for eps in epsilon:\n",
    "    acc, ex = test_fgsm(model, device, test_loader1, eps)\n",
    "    accuracies.append(acc)\n",
    "    examples.append(ex)"
   ]
  },
  {
   "cell_type": "code",
   "execution_count": 0,
   "metadata": {
    "ExecuteTime": {
     "end_time": "2020-03-03T19:16:56.826262Z",
     "start_time": "2020-03-03T19:16:56.666353Z"
    },
    "colab": {},
    "colab_type": "code",
    "collapsed": true,
    "id": "2vtp5b_a4i-g"
   },
   "outputs": [],
   "source": [
    "plt.figure(figsize=(5, 5))\n",
    "plt.plot(epsilon, accuracies, \"*-\")\n",
    "plt.yticks(np.arange(0, 0.4, step=0.1))\n",
    "plt.xticks(np.arange(0.05, 0.11, step=0.01))\n",
    "plt.title(\"Accuracy vs Epsilon\")\n",
    "plt.xlabel(\"Epsilon\")\n",
    "plt.ylabel(\"Accuracy\")\n",
    "plt.show()"
   ]
  }
 ],
 "metadata": {
  "colab": {
   "machine_shape": "hm",
   "name": "Midterm Project (Version 4).ipynb",
   "provenance": []
  },
  "kernelspec": {
   "display_name": "Python 3",
   "language": "python",
   "name": "python3"
  },
  "language_info": {
   "codemirror_mode": {
    "name": "ipython",
    "version": 3
   },
   "file_extension": ".py",
   "mimetype": "text/x-python",
   "name": "python",
   "nbconvert_exporter": "python",
   "pygments_lexer": "ipython3",
   "version": "3.6.2"
  },
  "toc": {
   "base_numbering": 1,
   "nav_menu": {},
   "number_sections": true,
   "sideBar": true,
   "skip_h1_title": false,
   "title_cell": "Table of Contents",
   "title_sidebar": "Contents",
   "toc_cell": false,
   "toc_position": {},
   "toc_section_display": true,
   "toc_window_display": false
  },
  "varInspector": {
   "cols": {
    "lenName": 16,
    "lenType": 16,
    "lenVar": 40
   },
   "kernels_config": {
    "python": {
     "delete_cmd_postfix": "",
     "delete_cmd_prefix": "del ",
     "library": "var_list.py",
     "varRefreshCmd": "print(var_dic_list())"
    },
    "r": {
     "delete_cmd_postfix": ") ",
     "delete_cmd_prefix": "rm(",
     "library": "var_list.r",
     "varRefreshCmd": "cat(var_dic_list()) "
    }
   },
   "position": {
    "height": "405px",
    "left": "1447.22px",
    "right": "20px",
    "top": "150px",
    "width": "518px"
   },
   "types_to_exclude": [
    "module",
    "function",
    "builtin_function_or_method",
    "instance",
    "_Feature"
   ],
   "window_display": false
  }
 },
 "nbformat": 4,
 "nbformat_minor": 1
}

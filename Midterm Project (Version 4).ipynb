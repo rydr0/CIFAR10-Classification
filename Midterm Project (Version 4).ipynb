{
  "nbformat": 4,
  "nbformat_minor": 0,
  "metadata": {
    "kernelspec": {
      "display_name": "Python 3",
      "language": "python",
      "name": "python3"
    },
    "language_info": {
      "codemirror_mode": {
        "name": "ipython",
        "version": 3
      },
      "file_extension": ".py",
      "mimetype": "text/x-python",
      "name": "python",
      "nbconvert_exporter": "python",
      "pygments_lexer": "ipython3",
      "version": "3.6.2"
    },
    "varInspector": {
      "cols": {
        "lenName": 16,
        "lenType": 16,
        "lenVar": 40
      },
      "kernels_config": {
        "python": {
          "delete_cmd_postfix": "",
          "delete_cmd_prefix": "del ",
          "library": "var_list.py",
          "varRefreshCmd": "print(var_dic_list())"
        },
        "r": {
          "delete_cmd_postfix": ") ",
          "delete_cmd_prefix": "rm(",
          "library": "var_list.r",
          "varRefreshCmd": "cat(var_dic_list()) "
        }
      },
      "position": {
        "height": "404.667px",
        "left": "878.222px",
        "right": "20px",
        "top": "122px",
        "width": "518.111px"
      },
      "types_to_exclude": [
        "module",
        "function",
        "builtin_function_or_method",
        "instance",
        "_Feature"
      ],
      "window_display": false
    },
    "colab": {
      "name": "Midterm Project (Version 4).ipynb",
      "provenance": [],
      "machine_shape": "hm"
    }
  },
  "cells": [
    {
      "cell_type": "markdown",
      "metadata": {
        "heading_collapsed": true,
        "id": "6GSWhnNW4i4t",
        "colab_type": "text"
      },
      "source": [
        "# Classification of CIFAR 10 Image Dataset\n",
        "## Using a Neural Network"
      ]
    },
    {
      "cell_type": "markdown",
      "metadata": {
        "hidden": true,
        "id": "ldaJLTi34i4w",
        "colab_type": "text"
      },
      "source": [
        "Starting lines and necessary imports"
      ]
    },
    {
      "cell_type": "code",
      "metadata": {
        "ExecuteTime": {
          "end_time": "2020-03-04T14:50:19.286634Z",
          "start_time": "2020-03-04T14:50:17.562869Z"
        },
        "hidden": true,
        "id": "Dsz_EbPK4i4z",
        "colab_type": "code",
        "colab": {}
      },
      "source": [
        "%matplotlib inline\n",
        "import numpy as np\n",
        "\n",
        "import matplotlib.pyplot as plt\n",
        "\n",
        "import torch\n",
        "import torch.nn as nn\n",
        "import torch.optim as optim\n",
        "from torch.autograd import Variable\n",
        "\n",
        "import torchvision\n",
        "import torchvision.transforms as transforms\n",
        "from torchvision import datasets, transforms\n",
        "\n",
        "from torchsummary import summary\n",
        "\n",
        "%load_ext autoreload\n",
        "%autoreload 2"
      ],
      "execution_count": 0,
      "outputs": []
    },
    {
      "cell_type": "code",
      "metadata": {
        "id": "5Tzf-Hgb4pFr",
        "colab_type": "code",
        "colab": {
          "base_uri": "https://localhost:8080/",
          "height": 125
        },
        "outputId": "e8710589-8dee-4794-b5d8-a2365f528a58"
      },
      "source": [
        "from google.colab import drive\n",
        "drive.mount('/drive')"
      ],
      "execution_count": 2,
      "outputs": [
        {
          "output_type": "stream",
          "text": [
            "Go to this URL in a browser: https://accounts.google.com/o/oauth2/auth?client_id=947318989803-6bn6qk8qdgf4n4g3pfee6491hc0brc4i.apps.googleusercontent.com&redirect_uri=urn%3aietf%3awg%3aoauth%3a2.0%3aoob&response_type=code&scope=email%20https%3a%2f%2fwww.googleapis.com%2fauth%2fdocs.test%20https%3a%2f%2fwww.googleapis.com%2fauth%2fdrive%20https%3a%2f%2fwww.googleapis.com%2fauth%2fdrive.photos.readonly%20https%3a%2f%2fwww.googleapis.com%2fauth%2fpeopleapi.readonly\n",
            "\n",
            "Enter your authorization code:\n",
            "··········\n",
            "Mounted at /drive\n"
          ],
          "name": "stdout"
        }
      ]
    },
    {
      "cell_type": "code",
      "metadata": {
        "id": "pPpRZwiy43Ev",
        "colab_type": "code",
        "colab": {
          "base_uri": "https://localhost:8080/",
          "height": 35
        },
        "outputId": "6fd5541b-a90a-48c0-c179-5b1793192bc5"
      },
      "source": [
        "cd /drive/My\\ Drive/AdvMachineLearningProject"
      ],
      "execution_count": 6,
      "outputs": [
        {
          "output_type": "stream",
          "text": [
            "/drive/My Drive/AdvMachineLearningProject\n"
          ],
          "name": "stdout"
        }
      ]
    },
    {
      "cell_type": "markdown",
      "metadata": {
        "hidden": true,
        "id": "TSTN90EK4i48",
        "colab_type": "text"
      },
      "source": [
        "## Load CIFAR 10 Data using torchvision"
      ]
    },
    {
      "cell_type": "markdown",
      "metadata": {
        "hidden": true,
        "id": "-XZSdQej4i5T",
        "colab_type": "text"
      },
      "source": [
        "### Data Pre-processing (Mean, Standard Deviation and Transforms)"
      ]
    },
    {
      "cell_type": "code",
      "metadata": {
        "ExecuteTime": {
          "end_time": "2020-03-04T14:50:30.126896Z",
          "start_time": "2020-03-04T14:50:25.276123Z"
        },
        "hidden": true,
        "id": "ea3SByUy4i5V",
        "colab_type": "code",
        "colab": {
          "base_uri": "https://localhost:8080/",
          "height": 52
        },
        "outputId": "8252ad99-857e-40f5-fe1c-894503d9cc89"
      },
      "source": [
        "# Data Sets without any processing\n",
        "train_dataset_raw = datasets.CIFAR10('CIFAR10',\n",
        "                                 train=True,\n",
        "                                 download=True,\n",
        "                                 transform=transforms.ToTensor())\n",
        "test_dataset_raw = datasets.CIFAR10('CIFAR10',\n",
        "                                train=False,\n",
        "                                download=True,\n",
        "                                transform=transforms.ToTensor())"
      ],
      "execution_count": 4,
      "outputs": [
        {
          "output_type": "stream",
          "text": [
            "Files already downloaded and verified\n",
            "Files already downloaded and verified\n"
          ],
          "name": "stdout"
        }
      ]
    },
    {
      "cell_type": "code",
      "metadata": {
        "ExecuteTime": {
          "end_time": "2020-03-04T14:50:30.196859Z",
          "start_time": "2020-03-04T14:50:30.126896Z"
        },
        "hidden": true,
        "id": "n6Er1EsL4i5g",
        "colab_type": "code",
        "colab": {}
      },
      "source": [
        "def calculate_mean(loader):\n",
        "    images, labels = iter(loader).next()\n",
        "    mean = images.sum(dim=(0,2,3), keepdim=True)\n",
        "    mean = mean/images.shape[0]/images.size(2)/images.size(3)\n",
        "    return mean"
      ],
      "execution_count": 0,
      "outputs": []
    },
    {
      "cell_type": "code",
      "metadata": {
        "ExecuteTime": {
          "end_time": "2020-03-04T14:50:30.266403Z",
          "start_time": "2020-03-04T14:50:30.196859Z"
        },
        "hidden": true,
        "id": "ovR2qSlB4i5o",
        "colab_type": "code",
        "colab": {}
      },
      "source": [
        "def calculate_std(loader, mean):\n",
        "    images, labels = iter(loader).next()\n",
        "    std = (images - mean).pow(2).sum(dim=(0,2,3), keepdim=True)\n",
        "    std = torch.sqrt(std/(images.shape[0]*images.size(2)*images.size(3)-1))\n",
        "    return std"
      ],
      "execution_count": 0,
      "outputs": []
    },
    {
      "cell_type": "code",
      "metadata": {
        "ExecuteTime": {
          "end_time": "2020-03-04T14:50:30.850196Z",
          "start_time": "2020-03-04T14:50:30.780210Z"
        },
        "hidden": true,
        "id": "NrrltaFq4i5x",
        "colab_type": "code",
        "colab": {}
      },
      "source": [
        "def mean_and_stddev():\n",
        "    train_loader = torch.utils.data.DataLoader(train_dataset_raw,\n",
        "                                           batch_size=50000,\n",
        "                                           shuffle=True)\n",
        "    test_loader = torch.utils.data.DataLoader(test_dataset_raw,\n",
        "                                              batch_size=10000,\n",
        "                                              shuffle=True)\n",
        "    \n",
        "    tr_mean = calculate_mean(train_loader)\n",
        "    tst_mean = calculate_mean(test_loader)\n",
        "    tr_std = calculate_std(train_loader, tr_mean)\n",
        "    tst_std = calculate_std(test_loader, tst_mean)\n",
        "    \n",
        "    return tr_mean.view(-1), tst_mean.view(-1), tr_std.view(-1), tst_std.view(-1)"
      ],
      "execution_count": 0,
      "outputs": []
    },
    {
      "cell_type": "code",
      "metadata": {
        "ExecuteTime": {
          "end_time": "2020-03-04T14:50:45.363209Z",
          "start_time": "2020-03-04T14:50:32.584518Z"
        },
        "hidden": true,
        "id": "Q91W6K8P4i56",
        "colab_type": "code",
        "colab": {
          "base_uri": "https://localhost:8080/",
          "height": 87
        },
        "outputId": "03932748-410b-4929-a81f-7410beaf26da"
      },
      "source": [
        "tr_mean, tst_mean, tr_std, tst_std = mean_and_stddev()\n",
        "print(tr_mean)\n",
        "print(tst_mean)\n",
        "print(tr_std)\n",
        "print(tst_std)"
      ],
      "execution_count": 9,
      "outputs": [
        {
          "output_type": "stream",
          "text": [
            "tensor([0.4914, 0.4822, 0.4465])\n",
            "tensor([0.4942, 0.4851, 0.4504])\n",
            "tensor([0.2470, 0.2435, 0.2616])\n",
            "tensor([0.2467, 0.2429, 0.2616])\n"
          ],
          "name": "stdout"
        }
      ]
    },
    {
      "cell_type": "code",
      "metadata": {
        "ExecuteTime": {
          "end_time": "2020-03-04T14:50:45.459624Z",
          "start_time": "2020-03-04T14:50:45.363209Z"
        },
        "hidden": true,
        "id": "E8GIUBZE4i6B",
        "colab_type": "code",
        "colab": {}
      },
      "source": [
        "### Transformations on training set\n",
        "## Crop, Horizontal Flip, Tensor, Normalize (3 channels)\n",
        "transform_tr = transforms.Compose([\n",
        "    transforms.RandomCrop(32, padding=4),\n",
        "    transforms.RandomHorizontalFlip(),\n",
        "    transforms.ToTensor(),\n",
        "    transforms.Normalize(tr_mean, tr_std)\n",
        "])\n",
        "\n",
        "### Transformations on testing set\n",
        "## Tensor and Normalize (3 channels)\n",
        "transform_tst = transforms.Compose([\n",
        "    transforms.ToTensor(),\n",
        "    transforms.Normalize(tst_mean, tst_std)\n",
        "])"
      ],
      "execution_count": 0,
      "outputs": []
    },
    {
      "cell_type": "markdown",
      "metadata": {
        "hidden": true,
        "id": "oPHpgoQO4i6K",
        "colab_type": "text"
      },
      "source": [
        "## Load Training and Testing Data"
      ]
    },
    {
      "cell_type": "code",
      "metadata": {
        "ExecuteTime": {
          "end_time": "2020-03-04T16:22:05.882452Z",
          "start_time": "2020-03-04T16:22:01.054369Z"
        },
        "hidden": true,
        "id": "V4OnwQ3d4i6N",
        "colab_type": "code",
        "colab": {
          "base_uri": "https://localhost:8080/",
          "height": 52
        },
        "outputId": "4975ecf3-1b68-419b-e44f-55f03835b45a"
      },
      "source": [
        "# Batch Size Hyperparameters\n",
        "train_batch_size = 32\n",
        "val_batch_size = 5000 # representing a 90/10 train/validation split\n",
        "test_batch_size = 5000 # smaller test batches due to memory constraints\n",
        "\n",
        "# to randomly shuffle data\n",
        "indices = np.arange(50000)\n",
        "np.random.shuffle(indices)\n",
        "\n",
        "# samplers to split into training and validation set\n",
        "tr_sampler = torch.utils.data.SubsetRandomSampler(indices[:45000])\n",
        "val_sampler = torch.utils.data.SubsetRandomSampler(indices[45000:50000])\n",
        "\n",
        "\n",
        "# CIFAR-10 training dataset and data loader\n",
        "train_dataset = datasets.CIFAR10('CIFAR10',\n",
        "                                 train=True,\n",
        "                                 download=True,\n",
        "                                 transform=transform_tr)\n",
        "\n",
        "train_loader = torch.utils.data.DataLoader(train_dataset,\n",
        "                                           batch_size=train_batch_size,\n",
        "                                           shuffle=False,\n",
        "                                           sampler=tr_sampler)\n",
        "val_loader = torch.utils.data.DataLoader(train_dataset,\n",
        "                                         batch_size=val_batch_size,\n",
        "                                         shuffle=False,\n",
        "                                         sampler=val_sampler)\n",
        "\n",
        "# CIFAR-10 test dataset and data loader\n",
        "test_dataset = datasets.CIFAR10('CIFAR10',\n",
        "                                train=False,\n",
        "                                download=True,\n",
        "                                transform=transform_tst)\n",
        "\n",
        "test_loader = torch.utils.data.DataLoader(test_dataset,\n",
        "                                          batch_size=test_batch_size,\n",
        "                                          shuffle=True)"
      ],
      "execution_count": 12,
      "outputs": [
        {
          "output_type": "stream",
          "text": [
            "Files already downloaded and verified\n",
            "Files already downloaded and verified\n"
          ],
          "name": "stdout"
        }
      ]
    },
    {
      "cell_type": "markdown",
      "metadata": {
        "hidden": true,
        "id": "ZLOUbI5F4i6V",
        "colab_type": "text"
      },
      "source": [
        "#### Check batches and image/label shapes"
      ]
    },
    {
      "cell_type": "code",
      "metadata": {
        "ExecuteTime": {
          "end_time": "2020-03-04T14:50:52.576314Z",
          "start_time": "2020-03-04T14:50:52.489018Z"
        },
        "hidden": true,
        "id": "Q_MP-CfJ4i6X",
        "colab_type": "code",
        "colab": {
          "base_uri": "https://localhost:8080/",
          "height": 105
        },
        "outputId": "fd8eee4c-a8ff-44d1-fdfe-254eccbbe494"
      },
      "source": [
        "# check num of batches in each training epoch (should be 45,000/train_batch_size)\n",
        "print(len(train_loader))\n",
        "# check num of batches in each training epoch (should be 5,000/val_batch_size = 1)\n",
        "print(len(val_loader))\n",
        "# check num of batches in each test epoch (should be 10,000/test_batch_size)\n",
        "print(len(test_loader))\n",
        "# check shape\n",
        "images, labels = iter(train_loader).next()\n",
        "print(images.shape) # shape = (train_batch_size, RGB channels, H, W)\n",
        "print(labels.shape) # shape = (train_batch_size)"
      ],
      "execution_count": 13,
      "outputs": [
        {
          "output_type": "stream",
          "text": [
            "1407\n",
            "1\n",
            "2\n",
            "torch.Size([32, 3, 32, 32])\n",
            "torch.Size([32])\n"
          ],
          "name": "stdout"
        }
      ]
    },
    {
      "cell_type": "markdown",
      "metadata": {
        "hidden": true,
        "id": "av6sQUP64i6e",
        "colab_type": "text"
      },
      "source": [
        "#### Function to show individual image and associated label"
      ]
    },
    {
      "cell_type": "code",
      "metadata": {
        "ExecuteTime": {
          "end_time": "2020-03-04T14:50:54.297216Z",
          "start_time": "2020-03-04T14:50:54.217234Z"
        },
        "collapsed": true,
        "hidden": true,
        "id": "Ol_bWLxo4i6j",
        "colab_type": "code",
        "colab": {}
      },
      "source": [
        "def show_images():\n",
        "    train_loader = torch.utils.data.DataLoader(train_dataset_raw,\n",
        "                                               batch_size=1,\n",
        "                                               shuffle=True)\n",
        "\n",
        "    fig = plt.figure(figsize=(32, 32))\n",
        "    columns = 5\n",
        "    rows = 4\n",
        "\n",
        "    ax = []\n",
        "    plt.rcParams.update({'font.size': 22})\n",
        "    for i in range(1, columns * rows + 1):\n",
        "        image, label = iter(train_loader).next()\n",
        "        ax.append(fig.add_subplot(rows, columns, i))\n",
        "        ax[-1].set_title(\n",
        "            str(label.item()) + \" - \" +\n",
        "            str(train_loader.dataset.classes[label]))\n",
        "        plt.imshow(np.transpose(image[0], (1, 2, 0)))\n",
        "    plt.show()\n",
        "    plt.rcParams.update({'font.size': 12})"
      ],
      "execution_count": 0,
      "outputs": []
    },
    {
      "cell_type": "code",
      "metadata": {
        "ExecuteTime": {
          "end_time": "2020-03-04T14:51:02.637321Z",
          "start_time": "2020-03-04T14:51:00.615715Z"
        },
        "hidden": true,
        "scrolled": false,
        "id": "E-Sk3EfB4i6r",
        "colab_type": "code",
        "colab": {},
        "outputId": "a044b53b-6825-4187-b3bd-ea8dbba23741"
      },
      "source": [
        "show_images()"
      ],
      "execution_count": 0,
      "outputs": [
        {
          "output_type": "display_data",
          "data": {
            "image/png": "[encoded data removed]",
            "text/plain": [
              "<Figure size 2304x2304 with 20 Axes>"
            ]
          },
          "metadata": {
            "tags": []
          }
        }
      ]
    },
    {
      "cell_type": "markdown",
      "metadata": {
        "hidden": true,
        "id": "yBGNZ9WP4i6z",
        "colab_type": "text"
      },
      "source": [
        "## Helper functions"
      ]
    },
    {
      "cell_type": "code",
      "metadata": {
        "ExecuteTime": {
          "end_time": "2020-03-04T14:51:06.303745Z",
          "start_time": "2020-03-04T14:51:06.233757Z"
        },
        "hidden": true,
        "id": "9rT9PnCc4i62",
        "colab_type": "code",
        "colab": {}
      },
      "source": [
        "def accuracy(outputs, labels):\n",
        "    \"\"\"Function for determining the accuracy of a set of model outputs compared to label values.\"\"\"\n",
        "    prediction = outputs.cpu().max(1, keepdim=True)[1].squeeze()\n",
        "    prediction_comp = torch.eq(prediction.cpu(), labels.cpu())\n",
        "    prediction_comp = prediction_comp.sum().numpy() / torch.numel(prediction.cpu())\n",
        "    return prediction_comp * 100"
      ],
      "execution_count": 0,
      "outputs": []
    },
    {
      "cell_type": "code",
      "metadata": {
        "ExecuteTime": {
          "end_time": "2020-03-04T14:51:51.145032Z",
          "start_time": "2020-03-04T14:51:51.060080Z"
        },
        "hidden": true,
        "id": "23GbaeTO4i7A",
        "colab_type": "code",
        "colab": {}
      },
      "source": [
        "def cpu_or_gpu():\n",
        "    \"\"\"Function to determine whether to train using a GPU or CPU.\"\"\"\n",
        "    train_on_gpu = torch.cuda.is_available()\n",
        "    if not train_on_gpu:\n",
        "        device = torch.device('cpu')\n",
        "    else:\n",
        "        device = torch.device('cuda:0')\n",
        "    return device"
      ],
      "execution_count": 0,
      "outputs": []
    },
    {
      "cell_type": "code",
      "metadata": {
        "ExecuteTime": {
          "end_time": "2020-03-04T14:51:52.635109Z",
          "start_time": "2020-03-04T14:51:52.563930Z"
        },
        "hidden": true,
        "id": "1nc5gfNc4i7J",
        "colab_type": "code",
        "colab": {}
      },
      "source": [
        "def reduce_step_size(iteration_cutoff, old_step_size, new_step_size, epoch):\n",
        "    \"\"\"Used in training to reduce step size\"\"\"\n",
        "    step_size = old_step_size\n",
        "    if epoch == iteration_cutoff:\n",
        "        step_size = new_step_size\n",
        "        if epoch == iteration_cutoff:\n",
        "            print(\"Log -- Decreased Step size from {} to {}\".format(old_step_size, new_step_size))\n",
        "    return step_size"
      ],
      "execution_count": 0,
      "outputs": []
    },
    {
      "cell_type": "markdown",
      "metadata": {
        "heading_collapsed": true,
        "id": "XQEd9taj4i7U",
        "colab_type": "text"
      },
      "source": [
        "# Initialize settings for Neural Network"
      ]
    },
    {
      "cell_type": "code",
      "metadata": {
        "ExecuteTime": {
          "end_time": "2020-03-04T16:23:02.951401Z",
          "start_time": "2020-03-04T16:23:02.847567Z"
        },
        "hidden": true,
        "id": "NDvHbGwy4i7W",
        "colab_type": "code",
        "colab": {}
      },
      "source": [
        "class Neural_Network(nn.Module):\n",
        "    def __init__(self):\n",
        "        super(Neural_Network, self).__init__()\n",
        "        \n",
        "        # 5 Convolutional Layers\n",
        "        # 100 - 3x3, 200 - 2x2, 300 - 2x2, 400 - 2x2, 500 - 2x2\n",
        "        self.conv1 = nn.Conv2d(3, 100, 3, padding=1)\n",
        "        self.conv2 = nn.Conv2d(100, 200, 2, padding=1)\n",
        "        self.conv3 = nn.Conv2d(200, 300, 2, padding=1)\n",
        "        self.conv4 = nn.Conv2d(300, 400, 2, padding=1)\n",
        "        self.conv5 = nn.Conv2d(400, 500, 2, padding=1)\n",
        "\n",
        "        # Max Pooling Layer (2 x 2)\n",
        "        self.pool = nn.MaxPool2d(2, 2)\n",
        "\n",
        "        # Fully Connected Output Layer\n",
        "        self.fc4 = nn.Linear(4500, 10)\n",
        "\n",
        "        # Activation function\n",
        "        self.activ1 = nn.ReLU()\n",
        "\n",
        "    def forward(self, x):\n",
        "        # 5 convolutional / pooling layers\n",
        "        x = self.activ1(self.conv1(x))\n",
        "        x = self.pool(x)\n",
        "        x = self.activ1(self.conv2(x))\n",
        "        x = self.pool(x)\n",
        "        x = self.activ1(self.conv3(x))\n",
        "        x = self.pool(x)\n",
        "        x = self.activ1(self.conv4(x))\n",
        "        x = self.pool(x)\n",
        "        x = self.activ1(self.conv5(x))\n",
        "\n",
        "        # Final Output Layer\n",
        "        x = x.view(x.shape[0], -1)\n",
        "        x = self.fc4(x)\n",
        "\n",
        "        return x"
      ],
      "execution_count": 0,
      "outputs": []
    },
    {
      "cell_type": "markdown",
      "metadata": {
        "hidden": true,
        "id": "-YXZxf_84i7e",
        "colab_type": "text"
      },
      "source": [
        "## Other attempts"
      ]
    },
    {
      "cell_type": "code",
      "metadata": {
        "ExecuteTime": {
          "end_time": "2020-03-04T16:22:23.379325Z",
          "start_time": "2020-03-04T16:22:23.260135Z"
        },
        "hidden": true,
        "id": "iwISaGLD4i7g",
        "colab_type": "code",
        "colab": {}
      },
      "source": [
        "class Neural_Network(nn.Module):\n",
        "    def __init__(self):\n",
        "        super(Neural_Network, self).__init__()\n",
        "        # Convolutional Layer -\n",
        "        self.conv1 = nn.Conv2d(3, 6, 5, padding=1)\n",
        "\n",
        "        # 2nd Convolutional Layer -\n",
        "        self.conv2 = nn.Conv2d(6, 16, 5, padding=1)\n",
        "\n",
        "        # 3rd Convolutional Layer -\n",
        "        self.conv3 = nn.Conv2d(16, 32, 5, padding=1)\n",
        "\n",
        "        # Max Pooling layers -\n",
        "        self.pool = nn.MaxPool2d(2, 2)\n",
        "\n",
        "        # 3 fully connected layers\n",
        "        self.fc1 = nn.Linear(2048, 250)\n",
        "        self.fc2 = nn.Linear(250, 120)\n",
        "        self.fc3 = nn.Linear(120, 84)\n",
        "        self.fc4 = nn.Linear(84, 10)\n",
        "\n",
        "        #Dropout for regularization using default p=0.5\n",
        "        #self.dr1 = nn.Dropout2d()\n",
        "        self.dr2 = nn.Dropout()\n",
        "\n",
        "        # Activation function\n",
        "        self.activ1 = nn.ReLU()\n",
        "        #self.activ1 = nn.Tanh()\n",
        "        #self.activ2 = nn.LocalResponseNorm(2)\n",
        "\n",
        "    def forward(self, x):\n",
        "        # 2 convolutional / pooling layers\n",
        "        x = self.activ1(self.conv1(x))\n",
        "        x = self.activ1(self.conv2(x))\n",
        "        x = self.pool(x)\n",
        "        x = self.activ1(self.conv3(x))\n",
        "\n",
        "        # 2 fully connected hidden layers\n",
        "        x = x.view(x.shape[0], -1)\n",
        "        x = self.activ1(self.fc1(x))\n",
        "        x = self.dr2(x)\n",
        "        x = self.activ1(self.fc2(x))\n",
        "        x = self.dr2(x)\n",
        "        x = self.activ1(self.fc3(x))\n",
        "        x = self.dr2(x)\n",
        "\n",
        "        # final output layer\n",
        "        x = self.fc4(x)\n",
        "\n",
        "        return x"
      ],
      "execution_count": 0,
      "outputs": []
    },
    {
      "cell_type": "code",
      "metadata": {
        "hidden": true,
        "id": "0mCLpOB64i7o",
        "colab_type": "code",
        "colab": {}
      },
      "source": [
        "class Neural_Network2(nn.Module):\n",
        "    def __init__(self):\n",
        "        super(Neural_Network2, self).__init__()\n",
        "        # Convolutional Layer - \n",
        "        self.conv1 = nn.Conv2d(3,6,3)\n",
        "        \n",
        "        # 2nd Convolutional Layer -\n",
        "        self.conv2 = nn.Conv2d(6,6,5)\n",
        "        \n",
        "        # 3rd Convolutional Layer -\n",
        "        self.conv3 = nn.Conv2d(6,8,5)\n",
        "        \n",
        "        # 4th Convolutional Layer\n",
        "        self.conv4 = nn.Conv2d(8,10,5)\n",
        "        \n",
        "        # Max Pooling layers - \n",
        "        self.pool = nn.MaxPool2d(2,2)\n",
        "             \n",
        "        # 3 fully connected layers\n",
        "        self.fc1 = nn.Linear(40, 10)\n",
        "        \n",
        "        # Activation function\n",
        "        self.activ1 = nn.ReLU()\n",
        "        \n",
        "    def forward(self, x):\n",
        "        # 2 convolutional / pooling layers\n",
        "        x = self.activ1(self.conv1(x))\n",
        "        x = self.activ1(self.conv2(x))\n",
        "        x = self.pool(x)\n",
        "        x = self.activ1(self.conv3(x))\n",
        "        x = self.activ1(self.conv4(x))\n",
        "        x = self.pool(x)\n",
        "        \n",
        "        # 2 fully connected hidden layers\n",
        "        x = x.view(-1,40)\n",
        "        x = self.activ1(self.fc1(x))\n",
        "        \n",
        "        return x"
      ],
      "execution_count": 0,
      "outputs": []
    },
    {
      "cell_type": "code",
      "metadata": {
        "hidden": true,
        "id": "ER-kym1v4i7y",
        "colab_type": "code",
        "colab": {}
      },
      "source": [
        "#All fully connected layer architecture\n",
        "class Neural_Network_Linear(nn.Module):\n",
        "    def __init__(self):\n",
        "        super(Neural_Network, self).__init__()\n",
        "        self.fc1 = nn.Linear(32* 32 * 3, 256)\n",
        "        self.fc2 = nn.Linear(256,200)\n",
        "        self.fc3 = nn.Linear(200, 10)\n",
        "        self.activ = nn.functional.relu\n",
        "        \n",
        "    def forward(self, x):\n",
        "        x = self.activ(self.fc1(x))\n",
        "        x = self.activ(self.fc2(x))\n",
        "        x = self.fc3(x)\n",
        "        \n",
        "        return x"
      ],
      "execution_count": 0,
      "outputs": []
    },
    {
      "cell_type": "code",
      "metadata": {
        "ExecuteTime": {
          "end_time": "2020-03-03T14:26:40.134256Z",
          "start_time": "2020-03-03T14:26:40.034281Z"
        },
        "hidden": true,
        "id": "cmi-bKPd4i75",
        "colab_type": "code",
        "colab": {}
      },
      "source": [
        "#VGG16 architecture\n",
        "class CNN(nn.Module):\n",
        "    def __init__(self):\n",
        "        super(CNN,self).__init__()\n",
        "        \n",
        "        self.conv_layer = nn.Sequential(\n",
        "        \n",
        "            #1st conv layer block\n",
        "            nn.Conv2d(in_channels=3, out_channels=32, kernel_size=3, padding=1),\n",
        "            nn.BatchNorm2d(32),\n",
        "            nn.ReLU(inplace=True),\n",
        "            nn.Conv2d(in_channels=32, out_channels=64, kernel_size=3, padding=1),\n",
        "            nn.ReLU(inplace=True),\n",
        "            nn.MaxPool2d(kernel_size=2, stride=2),\n",
        "\n",
        "            #2nd conv layer block\n",
        "            nn.Conv2d(in_channels=64, out_channels=128, kernel_size=3, padding=1),\n",
        "            nn.BatchNorm2d(128),\n",
        "            nn.ReLU(inplace=True),\n",
        "            nn.Conv2d(in_channels=128, out_channels=128, kernel_size=3, padding=1),\n",
        "            nn.ReLU(inplace=True),\n",
        "            nn.MaxPool2d(kernel_size=2, stride=2),\n",
        "            nn.Dropout2d(p=0.05),\n",
        "\n",
        "            #3rd conv layer block\n",
        "            nn.Conv2d(in_channels=128, out_channels=256, kernel_size=3, padding=1),\n",
        "            nn.BatchNorm2d(256),\n",
        "            nn.ReLU(inplace=True),\n",
        "            nn.Conv2d(in_channels=256, out_channels=256, kernel_size=3, padding=1),\n",
        "            nn.ReLU(inplace=True),\n",
        "            nn.MaxPool2d(kernel_size=2, stride=2),\n",
        "        )\n",
        "        \n",
        "            #fully connected layers block\n",
        "        self.fc_layer = nn.Sequential(\n",
        "            nn.Dropout(p=0.1),\n",
        "            nn.Linear(4096,1024),\n",
        "            nn.ReLU(inplace=True),\n",
        "            nn.Linear(1024,512),\n",
        "            nn.ReLU(inplace=True),\n",
        "            nn.Dropout(p=0.1),\n",
        "            nn.Linear(512,10)\n",
        "        )\n",
        "        \n",
        "            #perform forward\n",
        "        def forward(self, x):\n",
        "            #conv layers\n",
        "            x = self.conv_layer(x)\n",
        "            #flatten\n",
        "            x = x.view(x.size(0), -1)\n",
        "            #fully connected layer\n",
        "            x = self.fc_layer(x)\n",
        "            \n",
        "            return x"
      ],
      "execution_count": 0,
      "outputs": []
    },
    {
      "cell_type": "markdown",
      "metadata": {
        "heading_collapsed": true,
        "id": "FSnQKYqY4i8D",
        "colab_type": "text"
      },
      "source": [
        "# Neural Network Training"
      ]
    },
    {
      "cell_type": "code",
      "metadata": {
        "ExecuteTime": {
          "end_time": "2020-03-04T14:51:59.382408Z",
          "start_time": "2020-03-04T14:51:56.517530Z"
        },
        "hidden": true,
        "id": "yjXsgr7E4i8F",
        "colab_type": "code",
        "colab": {
          "base_uri": "https://localhost:8080/",
          "height": 193
        },
        "outputId": "e09fe667-80ba-46bc-d588-31d643e1f7b6"
      },
      "source": [
        "# Use this cell if training a new model\n",
        "model = Neural_Network()\n",
        "device = cpu_or_gpu()\n",
        "model.to(device)"
      ],
      "execution_count": 22,
      "outputs": [
        {
          "output_type": "execute_result",
          "data": {
            "text/plain": [
              "Neural_Network(\n",
              "  (conv1): Conv2d(3, 100, kernel_size=(3, 3), stride=(1, 1), padding=(1, 1))\n",
              "  (conv2): Conv2d(100, 200, kernel_size=(2, 2), stride=(1, 1), padding=(1, 1))\n",
              "  (conv3): Conv2d(200, 300, kernel_size=(2, 2), stride=(1, 1), padding=(1, 1))\n",
              "  (conv4): Conv2d(300, 400, kernel_size=(2, 2), stride=(1, 1), padding=(1, 1))\n",
              "  (conv5): Conv2d(400, 500, kernel_size=(2, 2), stride=(1, 1), padding=(1, 1))\n",
              "  (pool): MaxPool2d(kernel_size=2, stride=2, padding=0, dilation=1, ceil_mode=False)\n",
              "  (fc4): Linear(in_features=4500, out_features=10, bias=True)\n",
              "  (activ1): ReLU()\n",
              ")"
            ]
          },
          "metadata": {
            "tags": []
          },
          "execution_count": 22
        }
      ]
    },
    {
      "cell_type": "code",
      "metadata": {
        "ExecuteTime": {
          "end_time": "2020-03-04T16:39:55.773959Z",
          "start_time": "2020-03-04T16:39:55.509015Z"
        },
        "hidden": true,
        "id": "4-XJAjsA4i8N",
        "colab_type": "code",
        "colab": {
          "base_uri": "https://localhost:8080/",
          "height": 193
        },
        "outputId": "7e5379f6-c92d-438e-c5b6-3f37a24ed5ae"
      },
      "source": [
        "# Use this cell if loading a saved model\n",
        "model = Neural_Network()\n",
        "model.load_state_dict(\n",
        "    torch.load(\"Conv-NN-ReLU-88.5testaccuracy\"))  #<------- Insert path of saved model as string here\n",
        "\n",
        "model.eval()\n",
        "\n",
        "device = cpu_or_gpu()\n",
        "model.to(device)"
      ],
      "execution_count": 18,
      "outputs": [
        {
          "output_type": "execute_result",
          "data": {
            "text/plain": [
              "Neural_Network(\n",
              "  (conv1): Conv2d(3, 100, kernel_size=(3, 3), stride=(1, 1), padding=(1, 1))\n",
              "  (conv2): Conv2d(100, 200, kernel_size=(2, 2), stride=(1, 1), padding=(1, 1))\n",
              "  (conv3): Conv2d(200, 300, kernel_size=(2, 2), stride=(1, 1), padding=(1, 1))\n",
              "  (conv4): Conv2d(300, 400, kernel_size=(2, 2), stride=(1, 1), padding=(1, 1))\n",
              "  (conv5): Conv2d(400, 500, kernel_size=(2, 2), stride=(1, 1), padding=(1, 1))\n",
              "  (pool): MaxPool2d(kernel_size=2, stride=2, padding=0, dilation=1, ceil_mode=False)\n",
              "  (fc4): Linear(in_features=4500, out_features=10, bias=True)\n",
              "  (activ1): ReLU()\n",
              ")"
            ]
          },
          "metadata": {
            "tags": []
          },
          "execution_count": 18
        }
      ]
    },
    {
      "cell_type": "code",
      "metadata": {
        "ExecuteTime": {
          "end_time": "2020-03-04T16:40:05.938648Z",
          "start_time": "2020-03-04T16:40:05.814768Z"
        },
        "hidden": true,
        "id": "kXLrfa4o4i8V",
        "colab_type": "code",
        "colab": {
          "base_uri": "https://localhost:8080/",
          "height": 510
        },
        "outputId": "6f81d85f-9981-4704-adf8-b22930b85f94"
      },
      "source": [
        "# Summary of layers, output shape, parameters, and size\n",
        "summary(model, input_size=(3, 32, 32))"
      ],
      "execution_count": 19,
      "outputs": [
        {
          "output_type": "stream",
          "text": [
            "----------------------------------------------------------------\n",
            "        Layer (type)               Output Shape         Param #\n",
            "================================================================\n",
            "            Conv2d-1          [-1, 100, 32, 32]           2,800\n",
            "              ReLU-2          [-1, 100, 32, 32]               0\n",
            "         MaxPool2d-3          [-1, 100, 16, 16]               0\n",
            "            Conv2d-4          [-1, 200, 17, 17]          80,200\n",
            "              ReLU-5          [-1, 200, 17, 17]               0\n",
            "         MaxPool2d-6            [-1, 200, 8, 8]               0\n",
            "            Conv2d-7            [-1, 300, 9, 9]         240,300\n",
            "              ReLU-8            [-1, 300, 9, 9]               0\n",
            "         MaxPool2d-9            [-1, 300, 4, 4]               0\n",
            "           Conv2d-10            [-1, 400, 5, 5]         480,400\n",
            "             ReLU-11            [-1, 400, 5, 5]               0\n",
            "        MaxPool2d-12            [-1, 400, 2, 2]               0\n",
            "           Conv2d-13            [-1, 500, 3, 3]         800,500\n",
            "             ReLU-14            [-1, 500, 3, 3]               0\n",
            "           Linear-15                   [-1, 10]          45,010\n",
            "================================================================\n",
            "Total params: 1,649,210\n",
            "Trainable params: 1,649,210\n",
            "Non-trainable params: 0\n",
            "----------------------------------------------------------------\n",
            "Input size (MB): 0.01\n",
            "Forward/backward pass size (MB): 3.38\n",
            "Params size (MB): 6.29\n",
            "Estimated Total Size (MB): 9.68\n",
            "----------------------------------------------------------------\n"
          ],
          "name": "stdout"
        }
      ]
    },
    {
      "cell_type": "code",
      "metadata": {
        "ExecuteTime": {
          "end_time": "2020-03-04T16:23:23.135103Z",
          "start_time": "2020-03-04T16:23:23.055149Z"
        },
        "hidden": true,
        "id": "Wk5pSTPL4i8e",
        "colab_type": "code",
        "colab": {}
      },
      "source": [
        "# Initialize cross entropy loss for use in training/testing\n",
        "criterion = nn.CrossEntropyLoss()"
      ],
      "execution_count": 0,
      "outputs": []
    },
    {
      "cell_type": "code",
      "metadata": {
        "ExecuteTime": {
          "end_time": "2020-03-04T14:52:09.096789Z",
          "start_time": "2020-03-04T14:52:08.901903Z"
        },
        "hidden": true,
        "id": "2UcjkYoy4i8m",
        "colab_type": "code",
        "colab": {}
      },
      "source": [
        "def train():\n",
        "    model.train()\n",
        "\n",
        "    # Initial hyperparameters\n",
        "    number_of_epochs = 100\n",
        "    step_size = 0.01\n",
        "    momentum_parameter = 0.9\n",
        "    weight_decay = 0\n",
        "    lambda1 = 0.001\n",
        "\n",
        "    # L1 Regularization\n",
        "    all_linear1_params = torch.cat(\n",
        "        [x.view(-1) for x in model.fc4.parameters()])\n",
        "    l1_regularization = lambda1 * torch.norm(all_linear1_params, 1)\n",
        "\n",
        "    # Initialize optimiser\n",
        "    optimiser = optim.SGD(model.parameters(),\n",
        "                          lr=step_size,\n",
        "                          momentum=momentum_parameter,\n",
        "                          weight_decay=weight_decay)\n",
        "\n",
        "    # initialize lists for running counts of loss and accuracy\n",
        "    running_loss = []\n",
        "    running_val_loss = []\n",
        "    running_training_accuracy = []\n",
        "    running_training_accuracy.append(0)\n",
        "    running_val_accuracy = []\n",
        "    running_val_accuracy.append(0)\n",
        "\n",
        "    print(\"Log -- Step size: {}, Momentum: {}, batch_size = {}\".format(\n",
        "        step_size, momentum_parameter, train_batch_size))\n",
        "    # loop for epochs\n",
        "    for k in range(number_of_epochs):\n",
        "        device = cpu_or_gpu()\n",
        "        model.to(device)\n",
        "\n",
        "        # initialize epoch loss and training accuracy\n",
        "        epoch_loss = 0\n",
        "        training_accuracy = 0\n",
        "\n",
        "        # handle reducing step size at various iterations\n",
        "\n",
        "        step_size = reduce_step_size(iteration_cutoff=10,\n",
        "                                     old_step_size=step_size,\n",
        "                                     new_step_size=0.001,\n",
        "                                     epoch=k)\n",
        "        step_size = reduce_step_size(iteration_cutoff=20,\n",
        "                                     old_step_size=step_size,\n",
        "                                     new_step_size=0.0005,\n",
        "                                     epoch=k)\n",
        "        step_size = reduce_step_size(iteration_cutoff=30,\n",
        "                                     old_step_size=step_size,\n",
        "                                     new_step_size=0.0001,\n",
        "                                     epoch=k)\n",
        "        step_size = reduce_step_size(iteration_cutoff=40,\n",
        "                                     old_step_size=step_size,\n",
        "                                     new_step_size=0.00005,\n",
        "                                     epoch=k)\n",
        "\n",
        "        optimiser = optim.SGD(model.parameters(),\n",
        "                              lr=step_size,\n",
        "                              momentum=momentum_parameter,\n",
        "                              weight_decay=weight_decay)\n",
        "\n",
        "        # Main Training Loop\n",
        "        for j, (images, labels) in enumerate(train_loader):\n",
        "            images, labels = images.to(device), labels.to(device)\n",
        "            optimiser.zero_grad()\n",
        "            outputs = model(images)\n",
        "            loss = criterion(outputs, labels) + l1_regularization/len(images)\n",
        "            loss.backward(retain_graph=True)\n",
        "            optimiser.step()\n",
        "\n",
        "            epoch_loss += loss.item()\n",
        "            training_accuracy += accuracy(outputs, labels)\n",
        "\n",
        "        # Caclulate average loss and accuracy for each epoch\n",
        "        running_loss.append(epoch_loss / len(train_loader))\n",
        "        running_training_accuracy.append(training_accuracy / len(train_loader))\n",
        "\n",
        "        # Validation test once per epoch\n",
        "        device = torch.device('cpu')\n",
        "        model.to(device)\n",
        "        val_images, val_labels = iter(val_loader).next()\n",
        "        val_images, val_labels = val_images.to(device), val_labels.to(device)\n",
        "        val_outputs = model(val_images) + l1_regularization/len(images)\n",
        "        val_loss = criterion(val_outputs, val_labels).item()\n",
        "\n",
        "        # Store validation loss and accuracy\n",
        "        running_val_loss.append(val_loss)\n",
        "        val_accuracy = accuracy(val_outputs, val_labels)\n",
        "        running_val_accuracy.append(val_accuracy)\n",
        "\n",
        "        if k % 1 == 0:\n",
        "            print(\n",
        "                \"Epoch {a}/{b} -> Tr. Loss = {c:.2f}, Val. Loss = {d:.2f}, Tr. Acc = {e:.2f}, Val. Acc = {f:.2f}\"\n",
        "                .format(a=k,\n",
        "                        b=number_of_epochs,\n",
        "                        c=running_loss[-1],\n",
        "                        d=running_val_loss[-1],\n",
        "                        e=running_training_accuracy[-1],\n",
        "                        f=running_val_accuracy[-1]))\n",
        "\n",
        "    print(\"Final Epoch {} -> Loss = {}\".format(k, running_loss[-1]))\n",
        "\n",
        "    return running_loss, running_val_loss, running_training_accuracy, running_val_accuracy"
      ],
      "execution_count": 0,
      "outputs": []
    },
    {
      "cell_type": "code",
      "metadata": {
        "ExecuteTime": {
          "end_time": "2020-03-04T15:53:57.246216Z",
          "start_time": "2020-03-04T14:52:12.741889Z"
        },
        "hidden": true,
        "id": "_P23_2xu4i8v",
        "colab_type": "code",
        "colab": {},
        "outputId": "d3ce65e6-7586-4696-cf24-a4ccbd8e4276"
      },
      "source": [
        "running_loss, running_val_loss, running_training_accuracy, running_val_accuracy = train()"
      ],
      "execution_count": 0,
      "outputs": [
        {
          "output_type": "stream",
          "text": [
            "Log -- Step size: 0.01, Momentum: 0.9, batch_size = 32\n",
            "Epoch 0/100 -> Tr. Loss = 0.65, Val. Loss = 0.59, Tr. Acc = 78.27, Val. Acc = 79.86\n",
            "Epoch 1/100 -> Tr. Loss = 0.57, Val. Loss = 0.52, Tr. Acc = 81.13, Val. Acc = 81.68\n",
            "Epoch 2/100 -> Tr. Loss = 0.54, Val. Loss = 0.49, Tr. Acc = 82.17, Val. Acc = 83.44\n",
            "Epoch 3/100 -> Tr. Loss = 0.50, Val. Loss = 0.50, Tr. Acc = 83.52, Val. Acc = 82.76\n",
            "Epoch 4/100 -> Tr. Loss = 0.48, Val. Loss = 0.49, Tr. Acc = 84.57, Val. Acc = 83.32\n",
            "Epoch 5/100 -> Tr. Loss = 0.46, Val. Loss = 0.46, Tr. Acc = 84.82, Val. Acc = 84.22\n",
            "Epoch 6/100 -> Tr. Loss = 0.44, Val. Loss = 0.50, Tr. Acc = 85.92, Val. Acc = 82.56\n",
            "Epoch 7/100 -> Tr. Loss = 0.42, Val. Loss = 0.47, Tr. Acc = 86.30, Val. Acc = 84.10\n",
            "Epoch 8/100 -> Tr. Loss = 0.41, Val. Loss = 0.50, Tr. Acc = 86.72, Val. Acc = 83.06\n",
            "Epoch 9/100 -> Tr. Loss = 0.40, Val. Loss = 0.47, Tr. Acc = 86.98, Val. Acc = 84.28\n",
            "Log -- Decreased Step size from 0.01 to 0.001\n",
            "Epoch 10/100 -> Tr. Loss = 0.27, Val. Loss = 0.37, Tr. Acc = 91.43, Val. Acc = 87.62\n",
            "Epoch 11/100 -> Tr. Loss = 0.24, Val. Loss = 0.35, Tr. Acc = 92.74, Val. Acc = 88.40\n",
            "Epoch 12/100 -> Tr. Loss = 0.23, Val. Loss = 0.36, Tr. Acc = 93.10, Val. Acc = 88.06\n",
            "Epoch 13/100 -> Tr. Loss = 0.22, Val. Loss = 0.34, Tr. Acc = 93.40, Val. Acc = 88.40\n",
            "Epoch 14/100 -> Tr. Loss = 0.21, Val. Loss = 0.34, Tr. Acc = 93.73, Val. Acc = 88.70\n",
            "Epoch 15/100 -> Tr. Loss = 0.20, Val. Loss = 0.35, Tr. Acc = 93.91, Val. Acc = 88.62\n",
            "Epoch 16/100 -> Tr. Loss = 0.19, Val. Loss = 0.35, Tr. Acc = 94.29, Val. Acc = 88.86\n",
            "Epoch 17/100 -> Tr. Loss = 0.19, Val. Loss = 0.34, Tr. Acc = 94.42, Val. Acc = 88.96\n",
            "Epoch 18/100 -> Tr. Loss = 0.18, Val. Loss = 0.34, Tr. Acc = 94.62, Val. Acc = 89.16\n",
            "Epoch 19/100 -> Tr. Loss = 0.18, Val. Loss = 0.35, Tr. Acc = 94.86, Val. Acc = 89.08\n",
            "Log -- Decreased Step size from 0.001 to 0.0005\n",
            "Epoch 20/100 -> Tr. Loss = 0.17, Val. Loss = 0.34, Tr. Acc = 95.04, Val. Acc = 89.10\n",
            "Epoch 21/100 -> Tr. Loss = 0.17, Val. Loss = 0.36, Tr. Acc = 95.10, Val. Acc = 88.98\n",
            "Epoch 22/100 -> Tr. Loss = 0.16, Val. Loss = 0.35, Tr. Acc = 95.17, Val. Acc = 89.12\n",
            "Epoch 23/100 -> Tr. Loss = 0.16, Val. Loss = 0.34, Tr. Acc = 95.44, Val. Acc = 89.22\n",
            "Epoch 24/100 -> Tr. Loss = 0.16, Val. Loss = 0.34, Tr. Acc = 95.58, Val. Acc = 88.98\n",
            "Epoch 25/100 -> Tr. Loss = 0.16, Val. Loss = 0.34, Tr. Acc = 95.50, Val. Acc = 89.34\n",
            "Epoch 26/100 -> Tr. Loss = 0.15, Val. Loss = 0.36, Tr. Acc = 95.64, Val. Acc = 88.92\n",
            "Epoch 27/100 -> Tr. Loss = 0.15, Val. Loss = 0.34, Tr. Acc = 95.74, Val. Acc = 89.00\n",
            "Epoch 28/100 -> Tr. Loss = 0.15, Val. Loss = 0.34, Tr. Acc = 95.80, Val. Acc = 90.24\n",
            "Epoch 29/100 -> Tr. Loss = 0.15, Val. Loss = 0.34, Tr. Acc = 95.80, Val. Acc = 89.22\n",
            "Log -- Decreased Step size from 0.0005 to 0.0001\n",
            "Epoch 30/100 -> Tr. Loss = 0.14, Val. Loss = 0.34, Tr. Acc = 96.00, Val. Acc = 89.28\n",
            "Epoch 31/100 -> Tr. Loss = 0.14, Val. Loss = 0.33, Tr. Acc = 96.11, Val. Acc = 90.04\n",
            "Epoch 32/100 -> Tr. Loss = 0.14, Val. Loss = 0.34, Tr. Acc = 96.09, Val. Acc = 89.08\n",
            "Epoch 33/100 -> Tr. Loss = 0.14, Val. Loss = 0.34, Tr. Acc = 96.19, Val. Acc = 89.32\n",
            "Epoch 34/100 -> Tr. Loss = 0.14, Val. Loss = 0.35, Tr. Acc = 96.18, Val. Acc = 89.48\n",
            "Epoch 35/100 -> Tr. Loss = 0.14, Val. Loss = 0.35, Tr. Acc = 96.27, Val. Acc = 89.26\n",
            "Epoch 36/100 -> Tr. Loss = 0.14, Val. Loss = 0.34, Tr. Acc = 96.22, Val. Acc = 89.44\n",
            "Epoch 37/100 -> Tr. Loss = 0.14, Val. Loss = 0.34, Tr. Acc = 96.30, Val. Acc = 89.40\n",
            "Epoch 38/100 -> Tr. Loss = 0.14, Val. Loss = 0.35, Tr. Acc = 96.22, Val. Acc = 89.60\n",
            "Epoch 39/100 -> Tr. Loss = 0.14, Val. Loss = 0.35, Tr. Acc = 96.09, Val. Acc = 90.02\n",
            "Log -- Decreased Step size from 0.0001 to 5e-05\n",
            "Epoch 40/100 -> Tr. Loss = 0.14, Val. Loss = 0.34, Tr. Acc = 96.29, Val. Acc = 89.48\n",
            "Epoch 41/100 -> Tr. Loss = 0.14, Val. Loss = 0.36, Tr. Acc = 96.25, Val. Acc = 88.82\n",
            "Epoch 42/100 -> Tr. Loss = 0.13, Val. Loss = 0.35, Tr. Acc = 96.30, Val. Acc = 89.04\n",
            "Epoch 43/100 -> Tr. Loss = 0.13, Val. Loss = 0.33, Tr. Acc = 96.30, Val. Acc = 89.90\n",
            "Epoch 44/100 -> Tr. Loss = 0.13, Val. Loss = 0.36, Tr. Acc = 96.34, Val. Acc = 89.28\n",
            "Epoch 45/100 -> Tr. Loss = 0.13, Val. Loss = 0.36, Tr. Acc = 96.40, Val. Acc = 89.06\n"
          ],
          "name": "stdout"
        },
        {
          "output_type": "error",
          "ename": "KeyboardInterrupt",
          "evalue": "",
          "traceback": [
            "\u001b[1;31m---------------------------------------------------------------------------\u001b[0m",
            "\u001b[1;31mKeyboardInterrupt\u001b[0m                         Traceback (most recent call last)",
            "\u001b[1;32m<ipython-input-21-2c57a5352f2c>\u001b[0m in \u001b[0;36m<module>\u001b[1;34m()\u001b[0m\n\u001b[1;32m----> 1\u001b[1;33m \u001b[0mrunning_loss\u001b[0m\u001b[1;33m,\u001b[0m \u001b[0mrunning_val_loss\u001b[0m\u001b[1;33m,\u001b[0m \u001b[0mrunning_training_accuracy\u001b[0m\u001b[1;33m,\u001b[0m \u001b[0mrunning_val_accuracy\u001b[0m \u001b[1;33m=\u001b[0m \u001b[0mtrain\u001b[0m\u001b[1;33m(\u001b[0m\u001b[1;33m)\u001b[0m\u001b[1;33m\u001b[0m\u001b[0m\n\u001b[0m",
            "\u001b[1;32m<ipython-input-20-79f8f9d9d2d6>\u001b[0m in \u001b[0;36mtrain\u001b[1;34m()\u001b[0m\n\u001b[0;32m     72\u001b[0m             \u001b[0moptimiser\u001b[0m\u001b[1;33m.\u001b[0m\u001b[0mstep\u001b[0m\u001b[1;33m(\u001b[0m\u001b[1;33m)\u001b[0m\u001b[1;33m\u001b[0m\u001b[0m\n\u001b[0;32m     73\u001b[0m \u001b[1;33m\u001b[0m\u001b[0m\n\u001b[1;32m---> 74\u001b[1;33m             \u001b[0mepoch_loss\u001b[0m \u001b[1;33m+=\u001b[0m \u001b[0mloss\u001b[0m\u001b[1;33m.\u001b[0m\u001b[0mitem\u001b[0m\u001b[1;33m(\u001b[0m\u001b[1;33m)\u001b[0m\u001b[1;33m\u001b[0m\u001b[0m\n\u001b[0m\u001b[0;32m     75\u001b[0m             \u001b[0mtraining_accuracy\u001b[0m \u001b[1;33m+=\u001b[0m \u001b[0maccuracy\u001b[0m\u001b[1;33m(\u001b[0m\u001b[0moutputs\u001b[0m\u001b[1;33m,\u001b[0m \u001b[0mlabels\u001b[0m\u001b[1;33m)\u001b[0m\u001b[1;33m\u001b[0m\u001b[0m\n\u001b[0;32m     76\u001b[0m \u001b[1;33m\u001b[0m\u001b[0m\n",
            "\u001b[1;31mKeyboardInterrupt\u001b[0m: "
          ]
        }
      ]
    },
    {
      "cell_type": "markdown",
      "metadata": {
        "hidden": true,
        "id": "dJvsPHdK4i83",
        "colab_type": "text"
      },
      "source": [
        "### Loss and Accuracy Visualizations"
      ]
    },
    {
      "cell_type": "code",
      "metadata": {
        "ExecuteTime": {
          "end_time": "2020-03-04T15:54:01.000479Z",
          "start_time": "2020-03-04T15:54:00.880543Z"
        },
        "hidden": true,
        "id": "YYDuywwX4i85",
        "colab_type": "code",
        "colab": {},
        "outputId": "15845407-b789-40cc-b31b-cc90ff8c0d41"
      },
      "source": [
        "plt.plot(running_loss, label=\"Training Loss\")\n",
        "plt.plot(running_val_loss, label=\"Validation Loss\")\n",
        "for i in range(len(running_val_loss)):\n",
        "    if running_val_loss[i] == np.min(running_val_loss):\n",
        "        lowest_index = i\n",
        "plt.scatter(lowest_index,\n",
        "            running_val_loss[lowest_index],\n",
        "            label=\"Lowest Validation Loss\",\n",
        "            c=\"r\")\n",
        "plt.scatter(lowest_index,\n",
        "            running_loss[lowest_index],\n",
        "            label=\"Corresponding Train Loss\",\n",
        "            c=\"r\")\n",
        "plt.legend()\n",
        "plt.ylabel(\"Loss\")\n",
        "plt.xlabel(\"Epoch\")\n",
        "plt.grid()\n",
        "plt.show()"
      ],
      "execution_count": 0,
      "outputs": [
        {
          "output_type": "error",
          "ename": "NameError",
          "evalue": "name 'running_loss' is not defined",
          "traceback": [
            "\u001b[1;31m---------------------------------------------------------------------------\u001b[0m",
            "\u001b[1;31mNameError\u001b[0m                                 Traceback (most recent call last)",
            "\u001b[1;32m<ipython-input-22-283ba322a910>\u001b[0m in \u001b[0;36m<module>\u001b[1;34m()\u001b[0m\n\u001b[1;32m----> 1\u001b[1;33m \u001b[0mplt\u001b[0m\u001b[1;33m.\u001b[0m\u001b[0mplot\u001b[0m\u001b[1;33m(\u001b[0m\u001b[0mrunning_loss\u001b[0m\u001b[1;33m,\u001b[0m \u001b[0mlabel\u001b[0m\u001b[1;33m=\u001b[0m\u001b[1;34m\"Training Loss\"\u001b[0m\u001b[1;33m)\u001b[0m\u001b[1;33m\u001b[0m\u001b[0m\n\u001b[0m\u001b[0;32m      2\u001b[0m \u001b[0mplt\u001b[0m\u001b[1;33m.\u001b[0m\u001b[0mplot\u001b[0m\u001b[1;33m(\u001b[0m\u001b[0mrunning_val_loss\u001b[0m\u001b[1;33m,\u001b[0m \u001b[0mlabel\u001b[0m\u001b[1;33m=\u001b[0m\u001b[1;34m\"Validation Loss\"\u001b[0m\u001b[1;33m)\u001b[0m\u001b[1;33m\u001b[0m\u001b[0m\n\u001b[0;32m      3\u001b[0m \u001b[1;32mfor\u001b[0m \u001b[0mi\u001b[0m \u001b[1;32min\u001b[0m \u001b[0mrange\u001b[0m\u001b[1;33m(\u001b[0m\u001b[0mlen\u001b[0m\u001b[1;33m(\u001b[0m\u001b[0mrunning_val_loss\u001b[0m\u001b[1;33m)\u001b[0m\u001b[1;33m)\u001b[0m\u001b[1;33m:\u001b[0m\u001b[1;33m\u001b[0m\u001b[0m\n\u001b[0;32m      4\u001b[0m     \u001b[1;32mif\u001b[0m \u001b[0mrunning_val_loss\u001b[0m\u001b[1;33m[\u001b[0m\u001b[0mi\u001b[0m\u001b[1;33m]\u001b[0m \u001b[1;33m==\u001b[0m \u001b[0mnp\u001b[0m\u001b[1;33m.\u001b[0m\u001b[0mmin\u001b[0m\u001b[1;33m(\u001b[0m\u001b[0mrunning_val_loss\u001b[0m\u001b[1;33m)\u001b[0m\u001b[1;33m:\u001b[0m\u001b[1;33m\u001b[0m\u001b[0m\n\u001b[0;32m      5\u001b[0m         \u001b[0mlowest_index\u001b[0m \u001b[1;33m=\u001b[0m \u001b[0mi\u001b[0m\u001b[1;33m\u001b[0m\u001b[0m\n",
            "\u001b[1;31mNameError\u001b[0m: name 'running_loss' is not defined"
          ]
        }
      ]
    },
    {
      "cell_type": "code",
      "metadata": {
        "ExecuteTime": {
          "end_time": "2020-03-03T17:10:13.055282Z",
          "start_time": "2020-03-03T17:10:12.820407Z"
        },
        "hidden": true,
        "scrolled": true,
        "id": "lenIpOC-4i9B",
        "colab_type": "code",
        "colab": {}
      },
      "source": [
        "plt.plot(running_training_accuracy, label=\"Training Accuracy\")\n",
        "plt.plot(running_val_accuracy, label=\"Test Accuracy\")\n",
        "for i in range(len(running_val_accuracy)):\n",
        "    if running_val_accuracy[i] == np.max(running_val_accuracy):\n",
        "        highest_index = i\n",
        "plt.scatter(highest_index,\n",
        "            running_val_accuracy[highest_index],\n",
        "            label=\"Highest Validation Accuracy\",\n",
        "            c=\"r\")\n",
        "plt.scatter(highest_index,\n",
        "            running_training_accuracy[highest_index],\n",
        "            label=\"Corresponding Train Accuracy\",\n",
        "            c=\"r\")\n",
        "plt.legend()\n",
        "plt.ylabel(\"Model Accuracy\")\n",
        "plt.xlabel(\"Epoch\")\n",
        "plt.grid()\n",
        "plt.show()"
      ],
      "execution_count": 0,
      "outputs": []
    },
    {
      "cell_type": "markdown",
      "metadata": {
        "heading_collapsed": true,
        "id": "y5Q1kSXr4i9H",
        "colab_type": "text"
      },
      "source": [
        "# Neural Network Testing"
      ]
    },
    {
      "cell_type": "code",
      "metadata": {
        "ExecuteTime": {
          "end_time": "2020-03-04T16:23:31.688126Z",
          "start_time": "2020-03-04T16:23:31.597161Z"
        },
        "hidden": true,
        "id": "b72_n5c74i9J",
        "colab_type": "code",
        "colab": {}
      },
      "source": [
        "## Accuracy on full test dataset (10,000 test images)\n",
        "def test_on_testing_data():\n",
        "    \"\"\"for testing model on test set (10,000 test images), batch size of 1000 \n",
        "    is used for computational purposes and accuracy/loss are averaged after\"\"\"\n",
        "    \n",
        "    criterion = nn.CrossEntropyLoss() # in case not previously defined\n",
        "    \n",
        "    # initialize network to use CPU\n",
        "    device = torch.device('cpu')\n",
        "    model.to(device)\n",
        "    model.eval()\n",
        "    \n",
        "    # initialize accuracy and loss\n",
        "    test_accuracy = 0\n",
        "    epoch_loss = 0\n",
        "    \n",
        "    # loop through test batches and send to CPU\n",
        "    for j, (test_images, test_labels) in enumerate(test_loader):\n",
        "        test_images, test_labels = test_images.to(device), test_labels.to(device)\n",
        "\n",
        "        # run images through model to create outputs\n",
        "        test_outputs = model(test_images)\n",
        "        \n",
        "        # compare outputs to actual labels\n",
        "        epoch_loss += criterion(test_outputs, test_labels).item()\n",
        "        test_accuracy += accuracy(test_outputs, test_labels)\n",
        "    \n",
        "    # average over the number of batches\n",
        "    test_accuracy = test_accuracy / len(test_loader)\n",
        "    test_loss = epoch_loss / len(test_loader)\n",
        "    \n",
        "    # print results\n",
        "    print(\"Test Loss is : {a:.2f}\".format(a=test_loss))\n",
        "    print(\"Test Accuracy is : {a:.2f}%\".format(a=test_accuracy))"
      ],
      "execution_count": 0,
      "outputs": []
    },
    {
      "cell_type": "code",
      "metadata": {
        "ExecuteTime": {
          "end_time": "2020-03-04T16:24:32.545088Z",
          "start_time": "2020-03-04T16:23:34.857789Z"
        },
        "hidden": true,
        "id": "siywUy4t4i9P",
        "colab_type": "code",
        "colab": {
          "base_uri": "https://localhost:8080/",
          "height": 52
        },
        "outputId": "9b6c68ea-5acf-4c5a-962c-71f6aaaeb595"
      },
      "source": [
        "test_on_testing_data()"
      ],
      "execution_count": 22,
      "outputs": [
        {
          "output_type": "stream",
          "text": [
            "Test Loss is : 0.40\n",
            "Test Accuracy is : 88.47%\n"
          ],
          "name": "stdout"
        }
      ]
    },
    {
      "cell_type": "code",
      "metadata": {
        "ExecuteTime": {
          "end_time": "2020-03-04T15:57:33.854075Z",
          "start_time": "2020-03-04T15:57:32.993570Z"
        },
        "hidden": true,
        "id": "D9TW85bM4i9Z",
        "colab_type": "code",
        "colab": {}
      },
      "source": [
        "## Accuracy on full train dataset (50,000 training images) without data augmentation\n",
        "def test_on_training_data():\n",
        "    \"\"\"for testing model on training batch (50,000 test images), batch size of 1000 \n",
        "    is used for computational purposes and accuracy/loss are averaged after\"\"\"\n",
        "\n",
        "    criterion = nn.CrossEntropyLoss()  # in case not previously defined\n",
        "\n",
        "    # initialize network to use CPU\n",
        "    device = torch.device('cpu')\n",
        "    model.to(device)\n",
        "    model.eval()\n",
        "\n",
        "    # we want to test on data without additional transformations\n",
        "    transform_tr1 = transforms.Compose([\n",
        "        transforms.ToTensor(),\n",
        "        transforms.Normalize((0.4914, 0.4822, 0.4465),\n",
        "                             (0.2470, 0.2435, 0.2616))\n",
        "    ])\n",
        "\n",
        "    # define new train dataset using above transformations\n",
        "    train_dataset1 = datasets.CIFAR10('CIFAR10',\n",
        "                                      train=True,\n",
        "                                      download=True,\n",
        "                                      transform=transform_tr1)\n",
        "\n",
        "    # define new loader with batch size and dataset\n",
        "    train_loader1 = torch.utils.data.DataLoader(train_dataset1,\n",
        "                                                batch_size=1000,\n",
        "                                                shuffle=True)\n",
        "    # initialize accuracy and loss\n",
        "    test_accuracy = 0\n",
        "    epoch_loss = 0\n",
        "\n",
        "    # loop through test batches and send to CPU\n",
        "    for j, (test_images, test_labels) in enumerate(train_loader1):\n",
        "        test_images, test_labels = test_images.to(device), test_labels.to(\n",
        "            device)\n",
        "\n",
        "        # run images through model to create outputs\n",
        "        test_outputs = model(test_images)\n",
        "\n",
        "        # compare outputs to actual labels\n",
        "        epoch_loss += criterion(test_outputs, test_labels).item()\n",
        "        test_accuracy += accuracy(test_outputs, test_labels)\n",
        "\n",
        "    # average over the number of batches\n",
        "    test_accuracy = test_accuracy / len(train_loader1)\n",
        "    test_loss = epoch_loss / len(train_loader1)\n",
        "\n",
        "    # print results\n",
        "    print(\"Training Loss (Full Dataset) is : {a:.2f}\".format(a=test_loss))\n",
        "    print(\"Training Accuracy (Full Dataset) is : {a:.2f}%\".format(a=test_accuracy))"
      ],
      "execution_count": 0,
      "outputs": []
    },
    {
      "cell_type": "code",
      "metadata": {
        "ExecuteTime": {
          "end_time": "2020-03-04T15:59:48.415556Z",
          "start_time": "2020-03-04T15:57:37.374746Z"
        },
        "hidden": true,
        "scrolled": true,
        "id": "fHV2ORxx4i9h",
        "colab_type": "code",
        "colab": {
          "base_uri": "https://localhost:8080/",
          "height": 70
        },
        "outputId": "70b4c3db-fb6b-4800-cd0f-c996223a06c2"
      },
      "source": [
        "test_on_training_data()"
      ],
      "execution_count": 24,
      "outputs": [
        {
          "output_type": "stream",
          "text": [
            "Files already downloaded and verified\n",
            "Training Loss (Full Dataset) is : 0.11\n",
            "Training Accuracy (Full Dataset) is : 96.38%\n"
          ],
          "name": "stdout"
        }
      ]
    },
    {
      "cell_type": "code",
      "metadata": {
        "ExecuteTime": {
          "end_time": "2020-03-04T16:13:57.860967Z",
          "start_time": "2020-03-04T16:13:57.611064Z"
        },
        "hidden": true,
        "id": "XsdZjfnY4i9n",
        "colab_type": "code",
        "colab": {}
      },
      "source": [
        "## For saving neural network parameters\n",
        "torch.save(model.state_dict(),\n",
        "           \"Conv-NN-ReLU-88.5testaccuracy\")  #<----- make sure to update the path if saving new model"
      ],
      "execution_count": 0,
      "outputs": []
    },
    {
      "cell_type": "markdown",
      "metadata": {
        "heading_collapsed": true,
        "id": "aJXfQhib4i9v",
        "colab_type": "text"
      },
      "source": [
        "# Adversarial Attacks"
      ]
    },
    {
      "cell_type": "code",
      "metadata": {
        "ExecuteTime": {
          "end_time": "2020-03-04T17:42:39.356734Z",
          "start_time": "2020-03-04T17:42:39.279366Z"
        },
        "hidden": true,
        "id": "2v1eu9GG4i9y",
        "colab_type": "code",
        "colab": {}
      },
      "source": [
        "test_loader1 = torch.utils.data.DataLoader(test_dataset,\n",
        "                                           batch_size=1,\n",
        "                                           shuffle=True)\n",
        "epsilon = [0, 0.05, 0.1, 0.2, 0.3]"
      ],
      "execution_count": 0,
      "outputs": []
    },
    {
      "cell_type": "code",
      "metadata": {
        "ExecuteTime": {
          "end_time": "2020-03-04T16:42:30.966834Z",
          "start_time": "2020-03-04T16:42:30.896841Z"
        },
        "hidden": true,
        "id": "WKb-qTe84i93",
        "colab_type": "code",
        "colab": {}
      },
      "source": [
        "def fgsm(images, epsilon, images_gradient):\n",
        "    sign = images.grad.sign()\n",
        "    new_image = images + epsilon * sign\n",
        "\n",
        "    return new_image"
      ],
      "execution_count": 0,
      "outputs": []
    },
    {
      "cell_type": "code",
      "metadata": {
        "ExecuteTime": {
          "end_time": "2020-03-04T17:40:51.865100Z",
          "start_time": "2020-03-04T17:40:51.630097Z"
        },
        "hidden": true,
        "id": "m6s-QyUW4i99",
        "colab_type": "code",
        "colab": {}
      },
      "source": [
        "def test_single_prediction(epsilon):\n",
        "    \n",
        "    # Run model on CPU\n",
        "    device = torch.device('cpu')\n",
        "    model.to(device)\n",
        "    model.eval()\n",
        "\n",
        "    # For randomly sampling one image from the data loader\n",
        "    indices = np.arange(10000)\n",
        "    np.random.shuffle(indices)\n",
        "    sampler = torch.utils.data.SubsetRandomSampler(indices[:1])\n",
        "\n",
        "    test_loader1 = torch.utils.data.DataLoader(test_dataset,\n",
        "                                               batch_size=1,\n",
        "                                               shuffle=False,\n",
        "                                               sampler=sampler)\n",
        "\n",
        "    # define sample image out of the batch in the correct shape for visualization\n",
        "    for test_images, test_labels in test_loader1:\n",
        "        sample_image = test_images[0, :, :]\n",
        "        sample_label = test_labels[0]\n",
        "\n",
        "    # fgsm requires that we track gradients\n",
        "    sample_image.requires_grad = True\n",
        "    test_images.requires_grad = True\n",
        "\n",
        "    # run model on single image in test_images and backward pass\n",
        "    output = model(test_images)\n",
        "    loss = criterion(output, test_labels)\n",
        "    model.zero_grad()\n",
        "    loss.backward()\n",
        "\n",
        "    # predicted label is the highest value in output\n",
        "    _, predicted = torch.max(output, 1)\n",
        "\n",
        "    # calculate confidence in prediction(probability)\n",
        "    # by applying softmax to output\n",
        "    confidence = torch.nn.functional.softmax(output, dim=1)\n",
        "    confidence = torch.max(confidence, 1)\n",
        "\n",
        "    # fgsm adversarial attack on test_images\n",
        "    fgsm_images = fgsm(test_images, epsilon, test_images.grad.data)\n",
        "\n",
        "    # run model on single perturbed image\n",
        "    fgsm_output = model(fgsm_images)\n",
        "\n",
        "    # predicted label is the highest value in output\n",
        "    _, fgsm_predicted = torch.max(fgsm_output, 1)\n",
        "\n",
        "    # calculate confidence in prediction(probability)\n",
        "    # by applying softmax to output\n",
        "    fgsm_confidence = torch.nn.functional.softmax(fgsm_output, dim=1)\n",
        "    fgsm_confidence = torch.max(fgsm_confidence, 1)\n",
        "\n",
        "    # logging model prediction before and after fgsm attack\n",
        "    print(\"True label is: {tl} - {tl_desc}\\n\\\n",
        "    \\nBefore fgsm - Model prediction: {pred1} - {pred1_desc} with {conf1:.2f}% Confidence\\n\\\n",
        "    \\nAfter fgsm - Model prediction: {pred2} - {pred2_desc} with {conf2:.2f}% Confidence\\n\\\n",
        "    \".format(tl=sample_label,\n",
        "             tl_desc=train_dataset.classes[sample_label],\n",
        "             pred1=predicted[0],\n",
        "             pred1_desc=train_dataset.classes[predicted[0]],\n",
        "             pred2=fgsm_predicted[0],\n",
        "             pred2_desc=train_dataset.classes[fgsm_predicted[0]],\n",
        "             conf1=confidence[0].item() * 100,\n",
        "             conf2=fgsm_confidence[0].item() * 100))\n",
        "    \n",
        "    # define mean and standard deviation for reversing normalization\n",
        "    std = tst_std\n",
        "    mean = tst_mean\n",
        "    mean = mean[:, None, None]\n",
        "    std = std[:, None, None]\n",
        "\n",
        "    # reverse normalization\n",
        "    sample_image = sample_image * std + mean\n",
        "    adv_image = fgsm_images * std + mean\n",
        "    fgsm_vis = epsilon * test_images.grad.sign()\n",
        "\n",
        "    # list of images and label for visualization\n",
        "    images_list = [\n",
        "        sample_image.detach(), \n",
        "        fgsm_vis.detach()[0, :, :],\n",
        "        adv_image.detach()[0, :, :]\n",
        "    ]\n",
        "    labels_for_vis = [\"Original Image\", \"FGSM Noise\", \"Perturbed Image\"]\n",
        "    \n",
        "    # setup figure with 3 columns and 1\n",
        "    ax = []\n",
        "    fig = plt.figure(figsize=(32, 32))\n",
        "    columns = 3\n",
        "    rows = 1\n",
        "\n",
        "    # visualization\n",
        "    plt.rcParams.update({'font.size': 22})\n",
        "    for i in range(1, columns * rows + 1):\n",
        "        ax.append(fig.add_subplot(rows, columns, i))\n",
        "        ax[-1].set_title(labels_for_vis[i - 1])\n",
        "        plt.imshow(np.transpose(images_list[i - 1], (1, 2, 0)))\n",
        "\n",
        "    plt.rcParams.update({'font.size': 12})\n",
        "    plt.show()"
      ],
      "execution_count": 0,
      "outputs": []
    },
    {
      "cell_type": "code",
      "metadata": {
        "id": "LB3oY2AhFwRS",
        "colab_type": "code",
        "colab": {
          "base_uri": "https://localhost:8080/",
          "height": 52
        },
        "outputId": "a3ed5a18-bf18-4bbf-b0c4-af9357f238f7"
      },
      "source": [
        "print(\"Classes are: {}\\n\".format(test_dataset.classes))"
      ],
      "execution_count": 52,
      "outputs": [
        {
          "output_type": "stream",
          "text": [
            "Classes are: ['airplane', 'automobile', 'bird', 'cat', 'deer', 'dog', 'frog', 'horse', 'ship', 'truck']\n",
            "\n"
          ],
          "name": "stdout"
        }
      ]
    },
    {
      "cell_type": "code",
      "metadata": {
        "ExecuteTime": {
          "end_time": "2020-03-04T17:42:49.300770Z",
          "start_time": "2020-03-04T17:42:48.542937Z"
        },
        "hidden": true,
        "scrolled": true,
        "id": "BrS8Bdys4i-H",
        "colab_type": "code",
        "colab": {
          "base_uri": "https://localhost:8080/",
          "height": 752
        },
        "outputId": "a8c3c066-9efd-4350-c763-df84d0256dd8"
      },
      "source": [
        "test_single_prediction(epsilon=0.05)"
      ],
      "execution_count": 53,
      "outputs": [
        {
          "output_type": "stream",
          "text": [
            "Clipping input data to the valid range for imshow with RGB data ([0..1] for floats or [0..255] for integers).\n"
          ],
          "name": "stderr"
        },
        {
          "output_type": "stream",
          "text": [
            "True label is: 6 - frog\n",
            "    \n",
            "Before fgsm - Model prediction: 6 - frog with 99.82% Confidence\n",
            "    \n",
            "After fgsm - Model prediction: 3 - cat with 41.61% Confidence\n",
            "    \n"
          ],
          "name": "stdout"
        },
        {
          "output_type": "display_data",
          "data": {
            "image/png": "[encoded data removed]",
            "text/plain": [
              "<Figure size 2304x2304 with 3 Axes>"
            ]
          },
          "metadata": {
            "tags": []
          }
        }
      ]
    },
    {
      "cell_type": "code",
      "metadata": {
        "ExecuteTime": {
          "end_time": "2020-03-04T17:41:20.547527Z",
          "start_time": "2020-03-04T17:41:20.413932Z"
        },
        "hidden": true,
        "id": "4HLy1zRB4i-V",
        "colab_type": "code",
        "colab": {}
      },
      "source": [
        "def test_fgsm(model, device, test_loader1, epsilon):\n",
        "    device = torch.device('cpu')\n",
        "    model.to(device)\n",
        "    model.eval()\n",
        "\n",
        "    # Accuracy counter\n",
        "    correct = 0\n",
        "    adv_examples = []\n",
        "\n",
        "    # Loop over all examples in test set\n",
        "    for images, labels in test_loader1:\n",
        "\n",
        "        # Send the data and label to the device\n",
        "        images, labels = images.to(device), labels.to(device)\n",
        "\n",
        "        # Set requires_grad attribute of tensor. Important for Attack\n",
        "        images.requires_grad = True\n",
        "\n",
        "        # Forward pass the data through the model\n",
        "        output = neural_network(images)\n",
        "        init_pred = output.max(\n",
        "            1, keepdim=True)[1]  # get the index of the max log-probability\n",
        "\n",
        "        # If the initial prediction is wrong, dont bother attacking, just move on\n",
        "        if init_pred.item() != labels.item():\n",
        "            continue\n",
        "\n",
        "        # Calculate the loss\n",
        "        loss = criterion(output, labels)\n",
        "\n",
        "        # Zero all existing gradients\n",
        "        model.zero_grad()\n",
        "\n",
        "        # Calculate gradients of model in backward pass\n",
        "        loss.backward()\n",
        "\n",
        "        # Collect datagrad\n",
        "        images_gradient = images.grad.data\n",
        "\n",
        "        # Call FGSM Attack\n",
        "        perturbed_data = fgsm(images, epsilon, images_gradient)\n",
        "\n",
        "        # Re-classify the perturbed image\n",
        "        output = model(perturbed_data)\n",
        "\n",
        "        # Check for success\n",
        "        final_pred = output.max(\n",
        "            1, keepdim=True)[1]  # get the index of the max log-probability\n",
        "        if final_pred.item() == labels.item():\n",
        "            correct += 1\n",
        "            # Special case for saving 0 epsilon examples\n",
        "            if (epsilon == 0) and (len(adv_examples) < 5):\n",
        "                adv_ex = perturbed_data.squeeze().detach().cpu().numpy()\n",
        "                adv_examples.append(\n",
        "                    (init_pred.item(), final_pred.item(), adv_ex))\n",
        "        else:\n",
        "            # Save some adv examples for visualization later\n",
        "            if len(adv_examples) < 5:\n",
        "                adv_ex = perturbed_data.squeeze().detach().cpu().numpy()\n",
        "                adv_examples.append(\n",
        "                    (init_pred.item(), final_pred.item(), adv_ex))\n",
        "\n",
        "    # Calculate final accuracy for this epsilon\n",
        "    final_acc = correct / float(len(test_loader1))\n",
        "    print(\"Epsilon: {}\\tTest Accuracy = {} / {} = {}\".format(\n",
        "        epsilon, correct, len(test_loader1), final_acc))\n",
        "\n",
        "    # Return the accuracy and an adversarial example\n",
        "    return final_acc, adv_examples"
      ],
      "execution_count": 0,
      "outputs": []
    },
    {
      "cell_type": "code",
      "metadata": {
        "ExecuteTime": {
          "end_time": "2020-03-03T19:15:19.306340Z",
          "start_time": "2020-03-03T18:56:52.266743Z"
        },
        "hidden": true,
        "id": "8hh0fubC4i-b",
        "colab_type": "code",
        "colab": {}
      },
      "source": [
        "accuracies = []\n",
        "examples = []\n",
        "\n",
        "# Run test for each epsilon\n",
        "for eps in epsilon:\n",
        "    acc, ex = test_fgsm(model, device, test_loader1, eps)\n",
        "    accuracies.append(acc)\n",
        "    examples.append(ex)"
      ],
      "execution_count": 0,
      "outputs": []
    },
    {
      "cell_type": "code",
      "metadata": {
        "ExecuteTime": {
          "end_time": "2020-03-03T19:16:56.826262Z",
          "start_time": "2020-03-03T19:16:56.666353Z"
        },
        "hidden": true,
        "id": "2vtp5b_a4i-g",
        "colab_type": "code",
        "colab": {}
      },
      "source": [
        "plt.figure(figsize=(5, 5))\n",
        "plt.plot(epsilon, accuracies, \"*-\")\n",
        "plt.yticks(np.arange(0, 0.4, step=0.1))\n",
        "plt.xticks(np.arange(0.05, 0.11, step=0.01))\n",
        "plt.title(\"Accuracy vs Epsilon\")\n",
        "plt.xlabel(\"Epsilon\")\n",
        "plt.ylabel(\"Accuracy\")\n",
        "plt.show()"
      ],
      "execution_count": 0,
      "outputs": []
    }
  ]
}
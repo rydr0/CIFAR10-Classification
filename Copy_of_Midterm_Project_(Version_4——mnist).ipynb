{
  "nbformat": 4,
  "nbformat_minor": 0,
  "metadata": {
    "colab": {
      "name": "Copy of Midterm Project (Version 4).ipynb",
      "provenance": [],
      "collapsed_sections": [
        "oPHpgoQO4i6K",
        "ZLOUbI5F4i6V",
        "av6sQUP64i6e",
        "zC3tToJU1ZQj",
        "-YXZxf_84i7e",
        "r-T9_Ju91ZQu",
        "LZPCH-AV1ZQw",
        "-95uTCS31ZQy",
        "dJvsPHdK4i83",
        "hRigKPde1ZRC",
        "H9ZUYPlB1ZRG"
      ],
      "machine_shape": "hm",
      "include_colab_link": true
    },
    "kernelspec": {
      "display_name": "Python 3",
      "language": "python",
      "name": "python3"
    },
    "language_info": {
      "codemirror_mode": {
        "name": "ipython",
        "version": 3
      },
      "file_extension": ".py",
      "mimetype": "text/x-python",
      "name": "python",
      "nbconvert_exporter": "python",
      "pygments_lexer": "ipython3",
      "version": "3.7.3"
    },
    "toc": {
      "base_numbering": 1,
      "nav_menu": {},
      "number_sections": true,
      "sideBar": true,
      "skip_h1_title": false,
      "title_cell": "Table of Contents",
      "title_sidebar": "Contents",
      "toc_cell": false,
      "toc_position": {},
      "toc_section_display": true,
      "toc_window_display": true
    },
    "varInspector": {
      "cols": {
        "lenName": 16,
        "lenType": 16,
        "lenVar": 40
      },
      "kernels_config": {
        "python": {
          "delete_cmd_postfix": "",
          "delete_cmd_prefix": "del ",
          "library": "var_list.py",
          "varRefreshCmd": "print(var_dic_list())"
        },
        "r": {
          "delete_cmd_postfix": ") ",
          "delete_cmd_prefix": "rm(",
          "library": "var_list.r",
          "varRefreshCmd": "cat(var_dic_list()) "
        }
      },
      "position": {
        "height": "404.667px",
        "left": "878.222px",
        "right": "20px",
        "top": "122px",
        "width": "518.111px"
      },
      "types_to_exclude": [
        "module",
        "function",
        "builtin_function_or_method",
        "instance",
        "_Feature"
      ],
      "window_display": false
    },
    "widgets": {
      "application/vnd.jupyter.widget-state+json": {
        "2f30184dca45459895ccee430f9eaaec": {
          "model_module": "@jupyter-widgets/controls",
          "model_name": "HBoxModel",
          "state": {
            "_view_name": "HBoxView",
            "_dom_classes": [],
            "_model_name": "HBoxModel",
            "_view_module": "@jupyter-widgets/controls",
            "_model_module_version": "1.5.0",
            "_view_count": null,
            "_view_module_version": "1.5.0",
            "box_style": "",
            "layout": "IPY_MODEL_824923290af048698f6bb8345df4b39b",
            "_model_module": "@jupyter-widgets/controls",
            "children": [
              "IPY_MODEL_6d22631762314d00a866832a9175fa1c",
              "IPY_MODEL_608fee042f554bc7ae80f4dab1598bb5"
            ]
          }
        },
        "824923290af048698f6bb8345df4b39b": {
          "model_module": "@jupyter-widgets/base",
          "model_name": "LayoutModel",
          "state": {
            "_view_name": "LayoutView",
            "grid_template_rows": null,
            "right": null,
            "justify_content": null,
            "_view_module": "@jupyter-widgets/base",
            "overflow": null,
            "_model_module_version": "1.2.0",
            "_view_count": null,
            "flex_flow": null,
            "width": null,
            "min_width": null,
            "border": null,
            "align_items": null,
            "bottom": null,
            "_model_module": "@jupyter-widgets/base",
            "top": null,
            "grid_column": null,
            "overflow_y": null,
            "overflow_x": null,
            "grid_auto_flow": null,
            "grid_area": null,
            "grid_template_columns": null,
            "flex": null,
            "_model_name": "LayoutModel",
            "justify_items": null,
            "grid_row": null,
            "max_height": null,
            "align_content": null,
            "visibility": null,
            "align_self": null,
            "height": null,
            "min_height": null,
            "padding": null,
            "grid_auto_rows": null,
            "grid_gap": null,
            "max_width": null,
            "order": null,
            "_view_module_version": "1.2.0",
            "grid_template_areas": null,
            "object_position": null,
            "object_fit": null,
            "grid_auto_columns": null,
            "margin": null,
            "display": null,
            "left": null
          }
        },
        "6d22631762314d00a866832a9175fa1c": {
          "model_module": "@jupyter-widgets/controls",
          "model_name": "IntProgressModel",
          "state": {
            "_view_name": "ProgressView",
            "style": "IPY_MODEL_c6ce8fb3bb2240198fd30ea2de120236",
            "_dom_classes": [],
            "description": "",
            "_model_name": "IntProgressModel",
            "bar_style": "success",
            "max": 1,
            "_view_module": "@jupyter-widgets/controls",
            "_model_module_version": "1.5.0",
            "value": 1,
            "_view_count": null,
            "_view_module_version": "1.5.0",
            "orientation": "horizontal",
            "min": 0,
            "description_tooltip": null,
            "_model_module": "@jupyter-widgets/controls",
            "layout": "IPY_MODEL_871133cae2a1474d949b459bafbbb1b5"
          }
        },
        "608fee042f554bc7ae80f4dab1598bb5": {
          "model_module": "@jupyter-widgets/controls",
          "model_name": "HTMLModel",
          "state": {
            "_view_name": "HTMLView",
            "style": "IPY_MODEL_f18670834b164349a5027b5aa8c28f59",
            "_dom_classes": [],
            "description": "",
            "_model_name": "HTMLModel",
            "placeholder": "​",
            "_view_module": "@jupyter-widgets/controls",
            "_model_module_version": "1.5.0",
            "value": "9920512it [00:00, 24050718.59it/s]",
            "_view_count": null,
            "_view_module_version": "1.5.0",
            "description_tooltip": null,
            "_model_module": "@jupyter-widgets/controls",
            "layout": "IPY_MODEL_fa66a451baac43d6b05a298f75b75fba"
          }
        },
        "c6ce8fb3bb2240198fd30ea2de120236": {
          "model_module": "@jupyter-widgets/controls",
          "model_name": "ProgressStyleModel",
          "state": {
            "_view_name": "StyleView",
            "_model_name": "ProgressStyleModel",
            "description_width": "",
            "_view_module": "@jupyter-widgets/base",
            "_model_module_version": "1.5.0",
            "_view_count": null,
            "_view_module_version": "1.2.0",
            "bar_color": null,
            "_model_module": "@jupyter-widgets/controls"
          }
        },
        "871133cae2a1474d949b459bafbbb1b5": {
          "model_module": "@jupyter-widgets/base",
          "model_name": "LayoutModel",
          "state": {
            "_view_name": "LayoutView",
            "grid_template_rows": null,
            "right": null,
            "justify_content": null,
            "_view_module": "@jupyter-widgets/base",
            "overflow": null,
            "_model_module_version": "1.2.0",
            "_view_count": null,
            "flex_flow": null,
            "width": null,
            "min_width": null,
            "border": null,
            "align_items": null,
            "bottom": null,
            "_model_module": "@jupyter-widgets/base",
            "top": null,
            "grid_column": null,
            "overflow_y": null,
            "overflow_x": null,
            "grid_auto_flow": null,
            "grid_area": null,
            "grid_template_columns": null,
            "flex": null,
            "_model_name": "LayoutModel",
            "justify_items": null,
            "grid_row": null,
            "max_height": null,
            "align_content": null,
            "visibility": null,
            "align_self": null,
            "height": null,
            "min_height": null,
            "padding": null,
            "grid_auto_rows": null,
            "grid_gap": null,
            "max_width": null,
            "order": null,
            "_view_module_version": "1.2.0",
            "grid_template_areas": null,
            "object_position": null,
            "object_fit": null,
            "grid_auto_columns": null,
            "margin": null,
            "display": null,
            "left": null
          }
        },
        "f18670834b164349a5027b5aa8c28f59": {
          "model_module": "@jupyter-widgets/controls",
          "model_name": "DescriptionStyleModel",
          "state": {
            "_view_name": "StyleView",
            "_model_name": "DescriptionStyleModel",
            "description_width": "",
            "_view_module": "@jupyter-widgets/base",
            "_model_module_version": "1.5.0",
            "_view_count": null,
            "_view_module_version": "1.2.0",
            "_model_module": "@jupyter-widgets/controls"
          }
        },
        "fa66a451baac43d6b05a298f75b75fba": {
          "model_module": "@jupyter-widgets/base",
          "model_name": "LayoutModel",
          "state": {
            "_view_name": "LayoutView",
            "grid_template_rows": null,
            "right": null,
            "justify_content": null,
            "_view_module": "@jupyter-widgets/base",
            "overflow": null,
            "_model_module_version": "1.2.0",
            "_view_count": null,
            "flex_flow": null,
            "width": null,
            "min_width": null,
            "border": null,
            "align_items": null,
            "bottom": null,
            "_model_module": "@jupyter-widgets/base",
            "top": null,
            "grid_column": null,
            "overflow_y": null,
            "overflow_x": null,
            "grid_auto_flow": null,
            "grid_area": null,
            "grid_template_columns": null,
            "flex": null,
            "_model_name": "LayoutModel",
            "justify_items": null,
            "grid_row": null,
            "max_height": null,
            "align_content": null,
            "visibility": null,
            "align_self": null,
            "height": null,
            "min_height": null,
            "padding": null,
            "grid_auto_rows": null,
            "grid_gap": null,
            "max_width": null,
            "order": null,
            "_view_module_version": "1.2.0",
            "grid_template_areas": null,
            "object_position": null,
            "object_fit": null,
            "grid_auto_columns": null,
            "margin": null,
            "display": null,
            "left": null
          }
        },
        "a1445d51ab904000920d9d0180adbc86": {
          "model_module": "@jupyter-widgets/controls",
          "model_name": "HBoxModel",
          "state": {
            "_view_name": "HBoxView",
            "_dom_classes": [],
            "_model_name": "HBoxModel",
            "_view_module": "@jupyter-widgets/controls",
            "_model_module_version": "1.5.0",
            "_view_count": null,
            "_view_module_version": "1.5.0",
            "box_style": "",
            "layout": "IPY_MODEL_334e598da09e4bbaa7f2d98e522e465f",
            "_model_module": "@jupyter-widgets/controls",
            "children": [
              "IPY_MODEL_be4dacde8c9a456e81b2e1d5fc86f514",
              "IPY_MODEL_55a19270988448e6b0d4337dc8a5a63f"
            ]
          }
        },
        "334e598da09e4bbaa7f2d98e522e465f": {
          "model_module": "@jupyter-widgets/base",
          "model_name": "LayoutModel",
          "state": {
            "_view_name": "LayoutView",
            "grid_template_rows": null,
            "right": null,
            "justify_content": null,
            "_view_module": "@jupyter-widgets/base",
            "overflow": null,
            "_model_module_version": "1.2.0",
            "_view_count": null,
            "flex_flow": null,
            "width": null,
            "min_width": null,
            "border": null,
            "align_items": null,
            "bottom": null,
            "_model_module": "@jupyter-widgets/base",
            "top": null,
            "grid_column": null,
            "overflow_y": null,
            "overflow_x": null,
            "grid_auto_flow": null,
            "grid_area": null,
            "grid_template_columns": null,
            "flex": null,
            "_model_name": "LayoutModel",
            "justify_items": null,
            "grid_row": null,
            "max_height": null,
            "align_content": null,
            "visibility": null,
            "align_self": null,
            "height": null,
            "min_height": null,
            "padding": null,
            "grid_auto_rows": null,
            "grid_gap": null,
            "max_width": null,
            "order": null,
            "_view_module_version": "1.2.0",
            "grid_template_areas": null,
            "object_position": null,
            "object_fit": null,
            "grid_auto_columns": null,
            "margin": null,
            "display": null,
            "left": null
          }
        },
        "be4dacde8c9a456e81b2e1d5fc86f514": {
          "model_module": "@jupyter-widgets/controls",
          "model_name": "IntProgressModel",
          "state": {
            "_view_name": "ProgressView",
            "style": "IPY_MODEL_586a9ab779df4ce18d309bd6bb494051",
            "_dom_classes": [],
            "description": "",
            "_model_name": "IntProgressModel",
            "bar_style": "success",
            "max": 1,
            "_view_module": "@jupyter-widgets/controls",
            "_model_module_version": "1.5.0",
            "value": 1,
            "_view_count": null,
            "_view_module_version": "1.5.0",
            "orientation": "horizontal",
            "min": 0,
            "description_tooltip": null,
            "_model_module": "@jupyter-widgets/controls",
            "layout": "IPY_MODEL_e9a1f61ca164446ebb9ea176d82ffeea"
          }
        },
        "55a19270988448e6b0d4337dc8a5a63f": {
          "model_module": "@jupyter-widgets/controls",
          "model_name": "HTMLModel",
          "state": {
            "_view_name": "HTMLView",
            "style": "IPY_MODEL_2441f62f840c49289a00422b0357a1ac",
            "_dom_classes": [],
            "description": "",
            "_model_name": "HTMLModel",
            "placeholder": "​",
            "_view_module": "@jupyter-widgets/controls",
            "_model_module_version": "1.5.0",
            "value": "32768it [00:00, 217385.18it/s]",
            "_view_count": null,
            "_view_module_version": "1.5.0",
            "description_tooltip": null,
            "_model_module": "@jupyter-widgets/controls",
            "layout": "IPY_MODEL_4a910ec65a794560aaa6394360e21f45"
          }
        },
        "586a9ab779df4ce18d309bd6bb494051": {
          "model_module": "@jupyter-widgets/controls",
          "model_name": "ProgressStyleModel",
          "state": {
            "_view_name": "StyleView",
            "_model_name": "ProgressStyleModel",
            "description_width": "",
            "_view_module": "@jupyter-widgets/base",
            "_model_module_version": "1.5.0",
            "_view_count": null,
            "_view_module_version": "1.2.0",
            "bar_color": null,
            "_model_module": "@jupyter-widgets/controls"
          }
        },
        "e9a1f61ca164446ebb9ea176d82ffeea": {
          "model_module": "@jupyter-widgets/base",
          "model_name": "LayoutModel",
          "state": {
            "_view_name": "LayoutView",
            "grid_template_rows": null,
            "right": null,
            "justify_content": null,
            "_view_module": "@jupyter-widgets/base",
            "overflow": null,
            "_model_module_version": "1.2.0",
            "_view_count": null,
            "flex_flow": null,
            "width": null,
            "min_width": null,
            "border": null,
            "align_items": null,
            "bottom": null,
            "_model_module": "@jupyter-widgets/base",
            "top": null,
            "grid_column": null,
            "overflow_y": null,
            "overflow_x": null,
            "grid_auto_flow": null,
            "grid_area": null,
            "grid_template_columns": null,
            "flex": null,
            "_model_name": "LayoutModel",
            "justify_items": null,
            "grid_row": null,
            "max_height": null,
            "align_content": null,
            "visibility": null,
            "align_self": null,
            "height": null,
            "min_height": null,
            "padding": null,
            "grid_auto_rows": null,
            "grid_gap": null,
            "max_width": null,
            "order": null,
            "_view_module_version": "1.2.0",
            "grid_template_areas": null,
            "object_position": null,
            "object_fit": null,
            "grid_auto_columns": null,
            "margin": null,
            "display": null,
            "left": null
          }
        },
        "2441f62f840c49289a00422b0357a1ac": {
          "model_module": "@jupyter-widgets/controls",
          "model_name": "DescriptionStyleModel",
          "state": {
            "_view_name": "StyleView",
            "_model_name": "DescriptionStyleModel",
            "description_width": "",
            "_view_module": "@jupyter-widgets/base",
            "_model_module_version": "1.5.0",
            "_view_count": null,
            "_view_module_version": "1.2.0",
            "_model_module": "@jupyter-widgets/controls"
          }
        },
        "4a910ec65a794560aaa6394360e21f45": {
          "model_module": "@jupyter-widgets/base",
          "model_name": "LayoutModel",
          "state": {
            "_view_name": "LayoutView",
            "grid_template_rows": null,
            "right": null,
            "justify_content": null,
            "_view_module": "@jupyter-widgets/base",
            "overflow": null,
            "_model_module_version": "1.2.0",
            "_view_count": null,
            "flex_flow": null,
            "width": null,
            "min_width": null,
            "border": null,
            "align_items": null,
            "bottom": null,
            "_model_module": "@jupyter-widgets/base",
            "top": null,
            "grid_column": null,
            "overflow_y": null,
            "overflow_x": null,
            "grid_auto_flow": null,
            "grid_area": null,
            "grid_template_columns": null,
            "flex": null,
            "_model_name": "LayoutModel",
            "justify_items": null,
            "grid_row": null,
            "max_height": null,
            "align_content": null,
            "visibility": null,
            "align_self": null,
            "height": null,
            "min_height": null,
            "padding": null,
            "grid_auto_rows": null,
            "grid_gap": null,
            "max_width": null,
            "order": null,
            "_view_module_version": "1.2.0",
            "grid_template_areas": null,
            "object_position": null,
            "object_fit": null,
            "grid_auto_columns": null,
            "margin": null,
            "display": null,
            "left": null
          }
        },
        "d878cf7a1970460cae435a802b82a7ed": {
          "model_module": "@jupyter-widgets/controls",
          "model_name": "HBoxModel",
          "state": {
            "_view_name": "HBoxView",
            "_dom_classes": [],
            "_model_name": "HBoxModel",
            "_view_module": "@jupyter-widgets/controls",
            "_model_module_version": "1.5.0",
            "_view_count": null,
            "_view_module_version": "1.5.0",
            "box_style": "",
            "layout": "IPY_MODEL_11a62ef477194414887ae37f81cdd255",
            "_model_module": "@jupyter-widgets/controls",
            "children": [
              "IPY_MODEL_3ddbf77e79f64022823977df97058af7",
              "IPY_MODEL_5c5e91cdf8ef4385b02c01c8c4475f45"
            ]
          }
        },
        "11a62ef477194414887ae37f81cdd255": {
          "model_module": "@jupyter-widgets/base",
          "model_name": "LayoutModel",
          "state": {
            "_view_name": "LayoutView",
            "grid_template_rows": null,
            "right": null,
            "justify_content": null,
            "_view_module": "@jupyter-widgets/base",
            "overflow": null,
            "_model_module_version": "1.2.0",
            "_view_count": null,
            "flex_flow": null,
            "width": null,
            "min_width": null,
            "border": null,
            "align_items": null,
            "bottom": null,
            "_model_module": "@jupyter-widgets/base",
            "top": null,
            "grid_column": null,
            "overflow_y": null,
            "overflow_x": null,
            "grid_auto_flow": null,
            "grid_area": null,
            "grid_template_columns": null,
            "flex": null,
            "_model_name": "LayoutModel",
            "justify_items": null,
            "grid_row": null,
            "max_height": null,
            "align_content": null,
            "visibility": null,
            "align_self": null,
            "height": null,
            "min_height": null,
            "padding": null,
            "grid_auto_rows": null,
            "grid_gap": null,
            "max_width": null,
            "order": null,
            "_view_module_version": "1.2.0",
            "grid_template_areas": null,
            "object_position": null,
            "object_fit": null,
            "grid_auto_columns": null,
            "margin": null,
            "display": null,
            "left": null
          }
        },
        "3ddbf77e79f64022823977df97058af7": {
          "model_module": "@jupyter-widgets/controls",
          "model_name": "IntProgressModel",
          "state": {
            "_view_name": "ProgressView",
            "style": "IPY_MODEL_78a81fd528ac498695b6446d1eacb464",
            "_dom_classes": [],
            "description": "",
            "_model_name": "IntProgressModel",
            "bar_style": "success",
            "max": 1,
            "_view_module": "@jupyter-widgets/controls",
            "_model_module_version": "1.5.0",
            "value": 1,
            "_view_count": null,
            "_view_module_version": "1.5.0",
            "orientation": "horizontal",
            "min": 0,
            "description_tooltip": null,
            "_model_module": "@jupyter-widgets/controls",
            "layout": "IPY_MODEL_c029018fd7874a3a97dbe77b5755b13f"
          }
        },
        "5c5e91cdf8ef4385b02c01c8c4475f45": {
          "model_module": "@jupyter-widgets/controls",
          "model_name": "HTMLModel",
          "state": {
            "_view_name": "HTMLView",
            "style": "IPY_MODEL_6ae6aa2a0ff446dd95a33abb08e6938f",
            "_dom_classes": [],
            "description": "",
            "_model_name": "HTMLModel",
            "placeholder": "​",
            "_view_module": "@jupyter-widgets/controls",
            "_model_module_version": "1.5.0",
            "value": "1654784it [00:00, 5788505.63it/s]",
            "_view_count": null,
            "_view_module_version": "1.5.0",
            "description_tooltip": null,
            "_model_module": "@jupyter-widgets/controls",
            "layout": "IPY_MODEL_322e938c0e494ca19acc11f2819b1929"
          }
        },
        "78a81fd528ac498695b6446d1eacb464": {
          "model_module": "@jupyter-widgets/controls",
          "model_name": "ProgressStyleModel",
          "state": {
            "_view_name": "StyleView",
            "_model_name": "ProgressStyleModel",
            "description_width": "",
            "_view_module": "@jupyter-widgets/base",
            "_model_module_version": "1.5.0",
            "_view_count": null,
            "_view_module_version": "1.2.0",
            "bar_color": null,
            "_model_module": "@jupyter-widgets/controls"
          }
        },
        "c029018fd7874a3a97dbe77b5755b13f": {
          "model_module": "@jupyter-widgets/base",
          "model_name": "LayoutModel",
          "state": {
            "_view_name": "LayoutView",
            "grid_template_rows": null,
            "right": null,
            "justify_content": null,
            "_view_module": "@jupyter-widgets/base",
            "overflow": null,
            "_model_module_version": "1.2.0",
            "_view_count": null,
            "flex_flow": null,
            "width": null,
            "min_width": null,
            "border": null,
            "align_items": null,
            "bottom": null,
            "_model_module": "@jupyter-widgets/base",
            "top": null,
            "grid_column": null,
            "overflow_y": null,
            "overflow_x": null,
            "grid_auto_flow": null,
            "grid_area": null,
            "grid_template_columns": null,
            "flex": null,
            "_model_name": "LayoutModel",
            "justify_items": null,
            "grid_row": null,
            "max_height": null,
            "align_content": null,
            "visibility": null,
            "align_self": null,
            "height": null,
            "min_height": null,
            "padding": null,
            "grid_auto_rows": null,
            "grid_gap": null,
            "max_width": null,
            "order": null,
            "_view_module_version": "1.2.0",
            "grid_template_areas": null,
            "object_position": null,
            "object_fit": null,
            "grid_auto_columns": null,
            "margin": null,
            "display": null,
            "left": null
          }
        },
        "6ae6aa2a0ff446dd95a33abb08e6938f": {
          "model_module": "@jupyter-widgets/controls",
          "model_name": "DescriptionStyleModel",
          "state": {
            "_view_name": "StyleView",
            "_model_name": "DescriptionStyleModel",
            "description_width": "",
            "_view_module": "@jupyter-widgets/base",
            "_model_module_version": "1.5.0",
            "_view_count": null,
            "_view_module_version": "1.2.0",
            "_model_module": "@jupyter-widgets/controls"
          }
        },
        "322e938c0e494ca19acc11f2819b1929": {
          "model_module": "@jupyter-widgets/base",
          "model_name": "LayoutModel",
          "state": {
            "_view_name": "LayoutView",
            "grid_template_rows": null,
            "right": null,
            "justify_content": null,
            "_view_module": "@jupyter-widgets/base",
            "overflow": null,
            "_model_module_version": "1.2.0",
            "_view_count": null,
            "flex_flow": null,
            "width": null,
            "min_width": null,
            "border": null,
            "align_items": null,
            "bottom": null,
            "_model_module": "@jupyter-widgets/base",
            "top": null,
            "grid_column": null,
            "overflow_y": null,
            "overflow_x": null,
            "grid_auto_flow": null,
            "grid_area": null,
            "grid_template_columns": null,
            "flex": null,
            "_model_name": "LayoutModel",
            "justify_items": null,
            "grid_row": null,
            "max_height": null,
            "align_content": null,
            "visibility": null,
            "align_self": null,
            "height": null,
            "min_height": null,
            "padding": null,
            "grid_auto_rows": null,
            "grid_gap": null,
            "max_width": null,
            "order": null,
            "_view_module_version": "1.2.0",
            "grid_template_areas": null,
            "object_position": null,
            "object_fit": null,
            "grid_auto_columns": null,
            "margin": null,
            "display": null,
            "left": null
          }
        },
        "00fe33a6ce13440995536bdfe79f2aed": {
          "model_module": "@jupyter-widgets/controls",
          "model_name": "HBoxModel",
          "state": {
            "_view_name": "HBoxView",
            "_dom_classes": [],
            "_model_name": "HBoxModel",
            "_view_module": "@jupyter-widgets/controls",
            "_model_module_version": "1.5.0",
            "_view_count": null,
            "_view_module_version": "1.5.0",
            "box_style": "",
            "layout": "IPY_MODEL_a6d88ec4f6c946718cb71db1cc6e5d03",
            "_model_module": "@jupyter-widgets/controls",
            "children": [
              "IPY_MODEL_f4794251ccef4c8d98cc4a2b8cd3132b",
              "IPY_MODEL_9c5c079868bf4044b4b2e8d1a643de47"
            ]
          }
        },
        "a6d88ec4f6c946718cb71db1cc6e5d03": {
          "model_module": "@jupyter-widgets/base",
          "model_name": "LayoutModel",
          "state": {
            "_view_name": "LayoutView",
            "grid_template_rows": null,
            "right": null,
            "justify_content": null,
            "_view_module": "@jupyter-widgets/base",
            "overflow": null,
            "_model_module_version": "1.2.0",
            "_view_count": null,
            "flex_flow": null,
            "width": null,
            "min_width": null,
            "border": null,
            "align_items": null,
            "bottom": null,
            "_model_module": "@jupyter-widgets/base",
            "top": null,
            "grid_column": null,
            "overflow_y": null,
            "overflow_x": null,
            "grid_auto_flow": null,
            "grid_area": null,
            "grid_template_columns": null,
            "flex": null,
            "_model_name": "LayoutModel",
            "justify_items": null,
            "grid_row": null,
            "max_height": null,
            "align_content": null,
            "visibility": null,
            "align_self": null,
            "height": null,
            "min_height": null,
            "padding": null,
            "grid_auto_rows": null,
            "grid_gap": null,
            "max_width": null,
            "order": null,
            "_view_module_version": "1.2.0",
            "grid_template_areas": null,
            "object_position": null,
            "object_fit": null,
            "grid_auto_columns": null,
            "margin": null,
            "display": null,
            "left": null
          }
        },
        "f4794251ccef4c8d98cc4a2b8cd3132b": {
          "model_module": "@jupyter-widgets/controls",
          "model_name": "IntProgressModel",
          "state": {
            "_view_name": "ProgressView",
            "style": "IPY_MODEL_a06cdf9947ec45fab8f097def1207646",
            "_dom_classes": [],
            "description": "",
            "_model_name": "IntProgressModel",
            "bar_style": "success",
            "max": 1,
            "_view_module": "@jupyter-widgets/controls",
            "_model_module_version": "1.5.0",
            "value": 1,
            "_view_count": null,
            "_view_module_version": "1.5.0",
            "orientation": "horizontal",
            "min": 0,
            "description_tooltip": null,
            "_model_module": "@jupyter-widgets/controls",
            "layout": "IPY_MODEL_8be2ad510e324847a684469d73dffacf"
          }
        },
        "9c5c079868bf4044b4b2e8d1a643de47": {
          "model_module": "@jupyter-widgets/controls",
          "model_name": "HTMLModel",
          "state": {
            "_view_name": "HTMLView",
            "style": "IPY_MODEL_e0a204eba851452e976ae1b0445b8936",
            "_dom_classes": [],
            "description": "",
            "_model_name": "HTMLModel",
            "placeholder": "​",
            "_view_module": "@jupyter-widgets/controls",
            "_model_module_version": "1.5.0",
            "value": "8192it [00:00, 65089.56it/s]",
            "_view_count": null,
            "_view_module_version": "1.5.0",
            "description_tooltip": null,
            "_model_module": "@jupyter-widgets/controls",
            "layout": "IPY_MODEL_314e170eedef422294ecb21012f43c75"
          }
        },
        "a06cdf9947ec45fab8f097def1207646": {
          "model_module": "@jupyter-widgets/controls",
          "model_name": "ProgressStyleModel",
          "state": {
            "_view_name": "StyleView",
            "_model_name": "ProgressStyleModel",
            "description_width": "",
            "_view_module": "@jupyter-widgets/base",
            "_model_module_version": "1.5.0",
            "_view_count": null,
            "_view_module_version": "1.2.0",
            "bar_color": null,
            "_model_module": "@jupyter-widgets/controls"
          }
        },
        "8be2ad510e324847a684469d73dffacf": {
          "model_module": "@jupyter-widgets/base",
          "model_name": "LayoutModel",
          "state": {
            "_view_name": "LayoutView",
            "grid_template_rows": null,
            "right": null,
            "justify_content": null,
            "_view_module": "@jupyter-widgets/base",
            "overflow": null,
            "_model_module_version": "1.2.0",
            "_view_count": null,
            "flex_flow": null,
            "width": null,
            "min_width": null,
            "border": null,
            "align_items": null,
            "bottom": null,
            "_model_module": "@jupyter-widgets/base",
            "top": null,
            "grid_column": null,
            "overflow_y": null,
            "overflow_x": null,
            "grid_auto_flow": null,
            "grid_area": null,
            "grid_template_columns": null,
            "flex": null,
            "_model_name": "LayoutModel",
            "justify_items": null,
            "grid_row": null,
            "max_height": null,
            "align_content": null,
            "visibility": null,
            "align_self": null,
            "height": null,
            "min_height": null,
            "padding": null,
            "grid_auto_rows": null,
            "grid_gap": null,
            "max_width": null,
            "order": null,
            "_view_module_version": "1.2.0",
            "grid_template_areas": null,
            "object_position": null,
            "object_fit": null,
            "grid_auto_columns": null,
            "margin": null,
            "display": null,
            "left": null
          }
        },
        "e0a204eba851452e976ae1b0445b8936": {
          "model_module": "@jupyter-widgets/controls",
          "model_name": "DescriptionStyleModel",
          "state": {
            "_view_name": "StyleView",
            "_model_name": "DescriptionStyleModel",
            "description_width": "",
            "_view_module": "@jupyter-widgets/base",
            "_model_module_version": "1.5.0",
            "_view_count": null,
            "_view_module_version": "1.2.0",
            "_model_module": "@jupyter-widgets/controls"
          }
        },
        "314e170eedef422294ecb21012f43c75": {
          "model_module": "@jupyter-widgets/base",
          "model_name": "LayoutModel",
          "state": {
            "_view_name": "LayoutView",
            "grid_template_rows": null,
            "right": null,
            "justify_content": null,
            "_view_module": "@jupyter-widgets/base",
            "overflow": null,
            "_model_module_version": "1.2.0",
            "_view_count": null,
            "flex_flow": null,
            "width": null,
            "min_width": null,
            "border": null,
            "align_items": null,
            "bottom": null,
            "_model_module": "@jupyter-widgets/base",
            "top": null,
            "grid_column": null,
            "overflow_y": null,
            "overflow_x": null,
            "grid_auto_flow": null,
            "grid_area": null,
            "grid_template_columns": null,
            "flex": null,
            "_model_name": "LayoutModel",
            "justify_items": null,
            "grid_row": null,
            "max_height": null,
            "align_content": null,
            "visibility": null,
            "align_self": null,
            "height": null,
            "min_height": null,
            "padding": null,
            "grid_auto_rows": null,
            "grid_gap": null,
            "max_width": null,
            "order": null,
            "_view_module_version": "1.2.0",
            "grid_template_areas": null,
            "object_position": null,
            "object_fit": null,
            "grid_auto_columns": null,
            "margin": null,
            "display": null,
            "left": null
          }
        }
      }
    }
  },
  "cells": [
    {
      "cell_type": "markdown",
      "metadata": {
        "id": "view-in-github",
        "colab_type": "text"
      },
      "source": [
        "<a href=\"https://colab.research.google.com/github/rydr0/AdvMachineLearningProject/blob/master/Copy_of_Midterm_Project_(Version_4%E2%80%94%E2%80%94mnist).ipynb\" target=\"_parent\"><img src=\"https://colab.research.google.com/assets/colab-badge.svg\" alt=\"Open In Colab\"/></a>"
      ]
    },
    {
      "cell_type": "markdown",
      "metadata": {
        "colab_type": "text",
        "id": "6GSWhnNW4i4t"
      },
      "source": [
        "# Classification of CIFAR 10 Image Dataset"
      ]
    },
    {
      "cell_type": "markdown",
      "metadata": {
        "colab_type": "text",
        "id": "ldaJLTi34i4w"
      },
      "source": [
        "### Starting lines and necessary imports"
      ]
    },
    {
      "cell_type": "code",
      "metadata": {
        "ExecuteTime": {
          "end_time": "2020-03-05T00:34:03.113296Z",
          "start_time": "2020-03-05T00:33:59.190262Z"
        },
        "colab_type": "code",
        "id": "Dsz_EbPK4i4z",
        "colab": {}
      },
      "source": [
        "from torchsummary import summary\n",
        "from torchvision import datasets, transforms\n",
        "import torchvision.transforms as transforms\n",
        "import torchvision\n",
        "from torch.autograd import Variable\n",
        "import torch.optim as optim\n",
        "import torch.nn as nn\n",
        "import torch\n",
        "import matplotlib.pyplot as plt\n",
        "import numpy as np\n",
        "%matplotlib inline\n",
        "\n",
        "\n",
        "%load_ext autoreload\n",
        "%autoreload 2"
      ],
      "execution_count": 0,
      "outputs": []
    },
    {
      "cell_type": "markdown",
      "metadata": {
        "id": "wVxPkCoy1ZP6",
        "colab_type": "text"
      },
      "source": [
        "Run the two cells below if using Google Colab (you need to have a folder called AdvMachineLearningProject with the files in it)"
      ]
    },
    {
      "cell_type": "code",
      "metadata": {
        "colab_type": "code",
        "id": "5Tzf-Hgb4pFr",
        "outputId": "5090f6ff-7c63-4879-fa41-0f24e6078299",
        "colab": {
          "base_uri": "https://localhost:8080/",
          "height": 122
        }
      },
      "source": [
        "from google.colab import drive\n",
        "drive.mount('/drive')"
      ],
      "execution_count": 0,
      "outputs": [
        {
          "output_type": "stream",
          "text": [
            "Go to this URL in a browser: https://accounts.google.com/o/oauth2/auth?client_id=947318989803-6bn6qk8qdgf4n4g3pfee6491hc0brc4i.apps.googleusercontent.com&redirect_uri=urn%3aietf%3awg%3aoauth%3a2.0%3aoob&response_type=code&scope=email%20https%3a%2f%2fwww.googleapis.com%2fauth%2fdocs.test%20https%3a%2f%2fwww.googleapis.com%2fauth%2fdrive%20https%3a%2f%2fwww.googleapis.com%2fauth%2fdrive.photos.readonly%20https%3a%2f%2fwww.googleapis.com%2fauth%2fpeopleapi.readonly\n",
            "\n",
            "Enter your authorization code:\n",
            "··········\n",
            "Mounted at /drive\n"
          ],
          "name": "stdout"
        }
      ]
    },
    {
      "cell_type": "code",
      "metadata": {
        "colab_type": "code",
        "id": "pPpRZwiy43Ev",
        "outputId": "6fd5541b-a90a-48c0-c179-5b1793192bc5",
        "colab": {
          "base_uri": "https://localhost:8080/",
          "height": 35
        }
      },
      "source": [
        "cd /drive/My\\ Drive/AdvMachineLearningProject"
      ],
      "execution_count": 0,
      "outputs": [
        {
          "output_type": "stream",
          "text": [
            "/drive/My Drive/AdvMachineLearningProject\n"
          ],
          "name": "stdout"
        }
      ]
    },
    {
      "cell_type": "markdown",
      "metadata": {
        "colab_type": "text",
        "id": "TSTN90EK4i48"
      },
      "source": [
        "## Load CIFAR 10 Data using torchvision"
      ]
    },
    {
      "cell_type": "markdown",
      "metadata": {
        "colab_type": "text",
        "id": "-XZSdQej4i5T"
      },
      "source": [
        "### Data Pre-processing (Mean, Standard Deviation and Transforms)"
      ]
    },
    {
      "cell_type": "code",
      "metadata": {
        "ExecuteTime": {
          "end_time": "2020-03-05T00:34:11.673368Z",
          "start_time": "2020-03-05T00:34:06.562985Z"
        },
        "colab_type": "code",
        "id": "ea3SByUy4i5V",
        "outputId": "d5a9a8e8-4c22-40c3-aadc-10046f37c8ba",
        "colab": {
          "base_uri": "https://localhost:8080/",
          "height": 403,
          "referenced_widgets": [
            "2f30184dca45459895ccee430f9eaaec",
            "824923290af048698f6bb8345df4b39b",
            "6d22631762314d00a866832a9175fa1c",
            "608fee042f554bc7ae80f4dab1598bb5",
            "c6ce8fb3bb2240198fd30ea2de120236",
            "871133cae2a1474d949b459bafbbb1b5",
            "f18670834b164349a5027b5aa8c28f59",
            "fa66a451baac43d6b05a298f75b75fba",
            "a1445d51ab904000920d9d0180adbc86",
            "334e598da09e4bbaa7f2d98e522e465f",
            "be4dacde8c9a456e81b2e1d5fc86f514",
            "55a19270988448e6b0d4337dc8a5a63f",
            "586a9ab779df4ce18d309bd6bb494051",
            "e9a1f61ca164446ebb9ea176d82ffeea",
            "2441f62f840c49289a00422b0357a1ac",
            "4a910ec65a794560aaa6394360e21f45",
            "d878cf7a1970460cae435a802b82a7ed",
            "11a62ef477194414887ae37f81cdd255",
            "3ddbf77e79f64022823977df97058af7",
            "5c5e91cdf8ef4385b02c01c8c4475f45",
            "78a81fd528ac498695b6446d1eacb464",
            "c029018fd7874a3a97dbe77b5755b13f",
            "6ae6aa2a0ff446dd95a33abb08e6938f",
            "322e938c0e494ca19acc11f2819b1929",
            "00fe33a6ce13440995536bdfe79f2aed",
            "a6d88ec4f6c946718cb71db1cc6e5d03",
            "f4794251ccef4c8d98cc4a2b8cd3132b",
            "9c5c079868bf4044b4b2e8d1a643de47",
            "a06cdf9947ec45fab8f097def1207646",
            "8be2ad510e324847a684469d73dffacf",
            "e0a204eba851452e976ae1b0445b8936",
            "314e170eedef422294ecb21012f43c75"
          ]
        }
      },
      "source": [
        "# Data Sets without any processing\n",
        "train_dataset_mnist = datasets.MNIST('MNIST',\n",
        "                                     train=True,\n",
        "                                     download=True,\n",
        "                                     transform=transforms.ToTensor())\n",
        "test_dataset_mnist = datasets.MNIST('MNIST',\n",
        "                                    train=False,\n",
        "                                    download=True,\n",
        "                                    transform=transforms.ToTensor())"
      ],
      "execution_count": 0,
      "outputs": [
        {
          "output_type": "stream",
          "text": [
            "Downloading http://yann.lecun.com/exdb/mnist/train-images-idx3-ubyte.gz to MNIST/MNIST/raw/train-images-idx3-ubyte.gz\n"
          ],
          "name": "stdout"
        },
        {
          "output_type": "display_data",
          "data": {
            "application/vnd.jupyter.widget-view+json": {
              "model_id": "2f30184dca45459895ccee430f9eaaec",
              "version_minor": 0,
              "version_major": 2
            },
            "text/plain": [
              "HBox(children=(IntProgress(value=1, bar_style='info', max=1), HTML(value='')))"
            ]
          },
          "metadata": {
            "tags": []
          }
        },
        {
          "output_type": "stream",
          "text": [
            "\n",
            "Extracting MNIST/MNIST/raw/train-images-idx3-ubyte.gz to MNIST/MNIST/raw\n",
            "Downloading http://yann.lecun.com/exdb/mnist/train-labels-idx1-ubyte.gz to MNIST/MNIST/raw/train-labels-idx1-ubyte.gz\n"
          ],
          "name": "stdout"
        },
        {
          "output_type": "display_data",
          "data": {
            "application/vnd.jupyter.widget-view+json": {
              "model_id": "a1445d51ab904000920d9d0180adbc86",
              "version_minor": 0,
              "version_major": 2
            },
            "text/plain": [
              "HBox(children=(IntProgress(value=1, bar_style='info', max=1), HTML(value='')))"
            ]
          },
          "metadata": {
            "tags": []
          }
        },
        {
          "output_type": "stream",
          "text": [
            "\n",
            "Extracting MNIST/MNIST/raw/train-labels-idx1-ubyte.gz to MNIST/MNIST/raw\n",
            "Downloading http://yann.lecun.com/exdb/mnist/t10k-images-idx3-ubyte.gz to MNIST/MNIST/raw/t10k-images-idx3-ubyte.gz\n"
          ],
          "name": "stdout"
        },
        {
          "output_type": "display_data",
          "data": {
            "application/vnd.jupyter.widget-view+json": {
              "model_id": "d878cf7a1970460cae435a802b82a7ed",
              "version_minor": 0,
              "version_major": 2
            },
            "text/plain": [
              "HBox(children=(IntProgress(value=1, bar_style='info', max=1), HTML(value='')))"
            ]
          },
          "metadata": {
            "tags": []
          }
        },
        {
          "output_type": "stream",
          "text": [
            "\n",
            "Extracting MNIST/MNIST/raw/t10k-images-idx3-ubyte.gz to MNIST/MNIST/raw\n",
            "Downloading http://yann.lecun.com/exdb/mnist/t10k-labels-idx1-ubyte.gz to MNIST/MNIST/raw/t10k-labels-idx1-ubyte.gz\n"
          ],
          "name": "stdout"
        },
        {
          "output_type": "display_data",
          "data": {
            "application/vnd.jupyter.widget-view+json": {
              "model_id": "00fe33a6ce13440995536bdfe79f2aed",
              "version_minor": 0,
              "version_major": 2
            },
            "text/plain": [
              "HBox(children=(IntProgress(value=1, bar_style='info', max=1), HTML(value='')))"
            ]
          },
          "metadata": {
            "tags": []
          }
        },
        {
          "output_type": "stream",
          "text": [
            "\n",
            "Extracting MNIST/MNIST/raw/t10k-labels-idx1-ubyte.gz to MNIST/MNIST/raw\n",
            "Processing...\n",
            "Done!\n"
          ],
          "name": "stdout"
        }
      ]
    },
    {
      "cell_type": "code",
      "metadata": {
        "ExecuteTime": {
          "end_time": "2020-03-05T00:34:12.378806Z",
          "start_time": "2020-03-05T00:34:12.190316Z"
        },
        "colab_type": "code",
        "id": "n6Er1EsL4i5g",
        "colab": {}
      },
      "source": [
        "def calculate_mean(loader):\n",
        "    images, labels = iter(loader).next()\n",
        "    mean = images.sum(dim=(0, 2, 3), keepdim=True)\n",
        "    mean = mean/images.shape[0]/images.size(2)/images.size(3)\n",
        "    return mean"
      ],
      "execution_count": 0,
      "outputs": []
    },
    {
      "cell_type": "code",
      "metadata": {
        "ExecuteTime": {
          "end_time": "2020-03-05T00:34:13.490930Z",
          "start_time": "2020-03-05T00:34:13.294509Z"
        },
        "colab_type": "code",
        "id": "ovR2qSlB4i5o",
        "colab": {}
      },
      "source": [
        "def calculate_std(loader, mean):\n",
        "    images, labels = iter(loader).next()\n",
        "    std = (images - mean).pow(2).sum(dim=(0, 2, 3), keepdim=True)\n",
        "    std = torch.sqrt(std/(images.shape[0]*images.size(2)*images.size(3)-1))\n",
        "    return std"
      ],
      "execution_count": 0,
      "outputs": []
    },
    {
      "cell_type": "code",
      "metadata": {
        "ExecuteTime": {
          "end_time": "2020-03-05T00:34:15.169354Z",
          "start_time": "2020-03-05T00:34:14.958923Z"
        },
        "colab_type": "code",
        "id": "NrrltaFq4i5x",
        "colab": {}
      },
      "source": [
        "def mean_and_stddev():\n",
        "    train_loader = torch.utils.data.DataLoader(train_dataset_mnist,\n",
        "                                               batch_size=50000,\n",
        "                                               shuffle=True)\n",
        "    test_loader = torch.utils.data.DataLoader(test_dataset_mnist,\n",
        "                                              batch_size=10000,\n",
        "                                              shuffle=True)\n",
        "\n",
        "    tr_mean = calculate_mean(train_loader)\n",
        "    tst_mean = calculate_mean(test_loader)\n",
        "    tr_std = calculate_std(train_loader, tr_mean)\n",
        "    tst_std = calculate_std(test_loader, tst_mean)\n",
        "\n",
        "    return tr_mean.view(-1), tst_mean.view(-1), tr_std.view(-1), tst_std.view(-1)"
      ],
      "execution_count": 0,
      "outputs": []
    },
    {
      "cell_type": "markdown",
      "metadata": {
        "id": "H53m2e9v1ZQK",
        "colab_type": "text"
      },
      "source": [
        "#### Mean and Standard Deviation for Training and Test Datasets"
      ]
    },
    {
      "cell_type": "code",
      "metadata": {
        "ExecuteTime": {
          "end_time": "2020-03-05T00:35:01.859899Z",
          "start_time": "2020-03-05T00:34:16.848139Z"
        },
        "colab_type": "code",
        "id": "Q91W6K8P4i56",
        "outputId": "ff41b189-0efd-4480-e28e-52706644fdae",
        "colab": {
          "base_uri": "https://localhost:8080/",
          "height": 85
        }
      },
      "source": [
        "tr_mean, tst_mean, tr_std, tst_std = mean_and_stddev()\n",
        "print(tr_mean)\n",
        "print(tst_mean)\n",
        "print(tr_std)\n",
        "print(tst_std)"
      ],
      "execution_count": 0,
      "outputs": [
        {
          "output_type": "stream",
          "text": [
            "tensor([0.1308])\n",
            "tensor([0.1325])\n",
            "tensor([0.3075])\n",
            "tensor([0.3105])\n"
          ],
          "name": "stdout"
        }
      ]
    },
    {
      "cell_type": "markdown",
      "metadata": {
        "id": "qKZUmImv1ZQN",
        "colab_type": "text"
      },
      "source": [
        "#### Transformations"
      ]
    },
    {
      "cell_type": "code",
      "metadata": {
        "ExecuteTime": {
          "end_time": "2020-03-05T00:35:02.643804Z",
          "start_time": "2020-03-05T00:35:02.422395Z"
        },
        "colab_type": "code",
        "id": "E8GIUBZE4i6B",
        "colab": {}
      },
      "source": [
        "# Transformations on training set\n",
        "# Crop, Horizontal Flip, Tensor, Normalize (3 channels)\n",
        "transform_tr = transforms.Compose([\n",
        "    transforms.RandomCrop(28, padding=4),\n",
        "    transforms.RandomHorizontalFlip(),\n",
        "    transforms.ToTensor(),\n",
        "    transforms.Normalize(tr_mean, tr_std)\n",
        "])\n",
        "\n",
        "# Transformations on testing set\n",
        "# Tensor and Normalize (3 channels)\n",
        "transform_tst = transforms.Compose([\n",
        "    transforms.ToTensor(),\n",
        "    transforms.Normalize(tst_mean, tst_std)\n",
        "])"
      ],
      "execution_count": 0,
      "outputs": []
    },
    {
      "cell_type": "markdown",
      "metadata": {
        "colab_type": "text",
        "id": "oPHpgoQO4i6K"
      },
      "source": [
        "### Load Training and Testing Data"
      ]
    },
    {
      "cell_type": "code",
      "metadata": {
        "ExecuteTime": {
          "end_time": "2020-03-05T00:35:08.725536Z",
          "start_time": "2020-03-05T00:35:03.135488Z"
        },
        "colab_type": "code",
        "id": "V4OnwQ3d4i6N",
        "colab": {}
      },
      "source": [
        "# Batch Size Hyperparameters\n",
        "train_batch_size = 32\n",
        "val_batch_size = 5000  # representing a 90/10 train/validation split\n",
        "test_batch_size = 5000  # smaller test batches due to memory constraints\n",
        "\n",
        "# to randomly shuffle data\n",
        "indices = np.arange(50000)\n",
        "np.random.shuffle(indices)\n",
        "\n",
        "# samplers to split into training and validation set\n",
        "tr_sampler = torch.utils.data.SubsetRandomSampler(indices[:45000])\n",
        "val_sampler = torch.utils.data.SubsetRandomSampler(indices[45000:50000])\n",
        "\n",
        "\n",
        "# CIFAR-10 training dataset and data loader\n",
        "train_dataset = datasets.MNIST('MNIST',\n",
        "                                 train=True,\n",
        "                                 download=True,\n",
        "                                 transform=transform_tr)\n",
        "\n",
        "train_loader = torch.utils.data.DataLoader(train_dataset,\n",
        "                                           batch_size=train_batch_size,\n",
        "                                           shuffle=False,\n",
        "                                           sampler=tr_sampler)\n",
        "val_loader = torch.utils.data.DataLoader(train_dataset,\n",
        "                                         batch_size=val_batch_size,\n",
        "                                         shuffle=False,\n",
        "                                         sampler=val_sampler)\n",
        "\n",
        "# CIFAR-10 test dataset and data loader\n",
        "test_dataset = datasets.MNIST('MNIST',\n",
        "                                train=False,\n",
        "                                download=True,\n",
        "                                transform=transform_tst)\n",
        "\n",
        "test_loader = torch.utils.data.DataLoader(test_dataset,\n",
        "                                          batch_size=test_batch_size,\n",
        "                                          shuffle=True)"
      ],
      "execution_count": 0,
      "outputs": []
    },
    {
      "cell_type": "markdown",
      "metadata": {
        "colab_type": "text",
        "id": "ZLOUbI5F4i6V"
      },
      "source": [
        "#### Check batches and image/label shapes"
      ]
    },
    {
      "cell_type": "code",
      "metadata": {
        "ExecuteTime": {
          "end_time": "2020-03-05T00:35:09.720877Z",
          "start_time": "2020-03-05T00:35:09.388765Z"
        },
        "colab_type": "code",
        "id": "Q_MP-CfJ4i6X",
        "outputId": "0fd9f894-45f4-4d31-a7f9-36af8c3554f0",
        "colab": {
          "base_uri": "https://localhost:8080/",
          "height": 102
        }
      },
      "source": [
        "# check num of batches in each training epoch (should be 45,000/train_batch_size)\n",
        "print(len(train_loader))\n",
        "# check num of batches in each training epoch (should be 5,000/val_batch_size = 1)\n",
        "print(len(val_loader))\n",
        "# check num of batches in each test epoch (should be 10,000/test_batch_size)\n",
        "print(len(test_loader))\n",
        "# check shape\n",
        "images, labels = iter(train_loader).next()\n",
        "print(images.shape)  # shape = (train_batch_size, RGB channels, H, W)\n",
        "print(labels.shape)  # shape = (train_batch_size)"
      ],
      "execution_count": 0,
      "outputs": [
        {
          "output_type": "stream",
          "text": [
            "1407\n",
            "1\n",
            "2\n",
            "torch.Size([32, 1, 28, 28])\n",
            "torch.Size([32])\n"
          ],
          "name": "stdout"
        }
      ]
    },
    {
      "cell_type": "markdown",
      "metadata": {
        "colab_type": "text",
        "id": "av6sQUP64i6e"
      },
      "source": [
        "#### Function to show individual image and associated label"
      ]
    },
    {
      "cell_type": "code",
      "metadata": {
        "ExecuteTime": {
          "end_time": "2020-03-05T00:36:22.836027Z",
          "start_time": "2020-03-05T00:36:22.615577Z"
        },
        "colab_type": "code",
        "id": "Ol_bWLxo4i6j",
        "colab": {}
      },
      "source": [
        "def show_images():\n",
        "    train_loader = torch.utils.data.DataLoader(train_dataset_mnist,\n",
        "                                               batch_size=1,\n",
        "                                               shuffle=True)\n",
        "\n",
        "    fig = plt.figure(figsize=(28, 28))\n",
        "    columns = 5\n",
        "    rows = 4\n",
        "\n",
        "    ax = []\n",
        "    plt.rcParams.update({'font.size': 22})\n",
        "    for i in range(1, columns * rows + 1):\n",
        "        image, label = iter(train_loader).next()\n",
        "        ax.append(fig.add_subplot(rows, columns, i))\n",
        "        ax[-1].set_title(\n",
        "            str(label.item()) + \" - \" +\n",
        "            str(train_loader.dataset.classes[label]))\n",
        "        plt.imshow(np.transpose(image, (1, 2, 0)))\n",
        "    plt.show()\n",
        "    plt.rcParams.update({'font.size': 12})"
      ],
      "execution_count": 0,
      "outputs": []
    },
    {
      "cell_type": "code",
      "metadata": {
        "ExecuteTime": {
          "end_time": "2020-03-05T00:36:32.334445Z",
          "start_time": "2020-03-05T00:36:24.728539Z"
        },
        "colab_type": "code",
        "id": "E-Sk3EfB4i6r",
        "outputId": "6e5b51fe-8ece-4e13-af35-66f68abdc552",
        "scrolled": false,
        "colab": {
          "base_uri": "https://localhost:8080/",
          "height": 929
        }
      },
      "source": [
        "show_images()"
      ],
      "execution_count": 0,
      "outputs": [
        {
          "output_type": "error",
          "ename": "ValueError",
          "evalue": "ignored",
          "traceback": [
            "\u001b[0;31m---------------------------------------------------------------------------\u001b[0m",
            "\u001b[0;31mTypeError\u001b[0m                                 Traceback (most recent call last)",
            "\u001b[0;32m/usr/local/lib/python3.6/dist-packages/numpy/core/fromnumeric.py\u001b[0m in \u001b[0;36m_wrapfunc\u001b[0;34m(obj, method, *args, **kwds)\u001b[0m\n\u001b[1;32m     60\u001b[0m     \u001b[0;32mtry\u001b[0m\u001b[0;34m:\u001b[0m\u001b[0;34m\u001b[0m\u001b[0;34m\u001b[0m\u001b[0m\n\u001b[0;32m---> 61\u001b[0;31m         \u001b[0;32mreturn\u001b[0m \u001b[0mbound\u001b[0m\u001b[0;34m(\u001b[0m\u001b[0;34m*\u001b[0m\u001b[0margs\u001b[0m\u001b[0;34m,\u001b[0m \u001b[0;34m**\u001b[0m\u001b[0mkwds\u001b[0m\u001b[0;34m)\u001b[0m\u001b[0;34m\u001b[0m\u001b[0;34m\u001b[0m\u001b[0m\n\u001b[0m\u001b[1;32m     62\u001b[0m     \u001b[0;32mexcept\u001b[0m \u001b[0mTypeError\u001b[0m\u001b[0;34m:\u001b[0m\u001b[0;34m\u001b[0m\u001b[0;34m\u001b[0m\u001b[0m\n",
            "\u001b[0;31mTypeError\u001b[0m: transpose() received an invalid combination of arguments - got (tuple), but expected one of:\n * (name dim0, name dim1)\n * (int dim0, int dim1)\n",
            "\nDuring handling of the above exception, another exception occurred:\n",
            "\u001b[0;31mValueError\u001b[0m                                Traceback (most recent call last)",
            "\u001b[0;32m<ipython-input-17-1b173cd6f70f>\u001b[0m in \u001b[0;36m<module>\u001b[0;34m()\u001b[0m\n\u001b[0;32m----> 1\u001b[0;31m \u001b[0mshow_images\u001b[0m\u001b[0;34m(\u001b[0m\u001b[0;34m)\u001b[0m\u001b[0;34m\u001b[0m\u001b[0;34m\u001b[0m\u001b[0m\n\u001b[0m",
            "\u001b[0;32m<ipython-input-16-b0dda97d2d51>\u001b[0m in \u001b[0;36mshow_images\u001b[0;34m()\u001b[0m\n\u001b[1;32m     16\u001b[0m             \u001b[0mstr\u001b[0m\u001b[0;34m(\u001b[0m\u001b[0mlabel\u001b[0m\u001b[0;34m.\u001b[0m\u001b[0mitem\u001b[0m\u001b[0;34m(\u001b[0m\u001b[0;34m)\u001b[0m\u001b[0;34m)\u001b[0m \u001b[0;34m+\u001b[0m \u001b[0;34m\" - \"\u001b[0m \u001b[0;34m+\u001b[0m\u001b[0;34m\u001b[0m\u001b[0;34m\u001b[0m\u001b[0m\n\u001b[1;32m     17\u001b[0m             str(train_loader.dataset.classes[label]))\n\u001b[0;32m---> 18\u001b[0;31m         \u001b[0mplt\u001b[0m\u001b[0;34m.\u001b[0m\u001b[0mimshow\u001b[0m\u001b[0;34m(\u001b[0m\u001b[0mnp\u001b[0m\u001b[0;34m.\u001b[0m\u001b[0mtranspose\u001b[0m\u001b[0;34m(\u001b[0m\u001b[0mimage\u001b[0m\u001b[0;34m,\u001b[0m \u001b[0;34m(\u001b[0m\u001b[0;36m1\u001b[0m\u001b[0;34m,\u001b[0m \u001b[0;36m2\u001b[0m\u001b[0;34m,\u001b[0m \u001b[0;36m0\u001b[0m\u001b[0;34m)\u001b[0m\u001b[0;34m)\u001b[0m\u001b[0;34m)\u001b[0m\u001b[0;34m\u001b[0m\u001b[0;34m\u001b[0m\u001b[0m\n\u001b[0m\u001b[1;32m     19\u001b[0m     \u001b[0mplt\u001b[0m\u001b[0;34m.\u001b[0m\u001b[0mshow\u001b[0m\u001b[0;34m(\u001b[0m\u001b[0;34m)\u001b[0m\u001b[0;34m\u001b[0m\u001b[0;34m\u001b[0m\u001b[0m\n\u001b[1;32m     20\u001b[0m     \u001b[0mplt\u001b[0m\u001b[0;34m.\u001b[0m\u001b[0mrcParams\u001b[0m\u001b[0;34m.\u001b[0m\u001b[0mupdate\u001b[0m\u001b[0;34m(\u001b[0m\u001b[0;34m{\u001b[0m\u001b[0;34m'font.size'\u001b[0m\u001b[0;34m:\u001b[0m \u001b[0;36m12\u001b[0m\u001b[0;34m}\u001b[0m\u001b[0;34m)\u001b[0m\u001b[0;34m\u001b[0m\u001b[0;34m\u001b[0m\u001b[0m\n",
            "\u001b[0;32m<__array_function__ internals>\u001b[0m in \u001b[0;36mtranspose\u001b[0;34m(*args, **kwargs)\u001b[0m\n",
            "\u001b[0;32m/usr/local/lib/python3.6/dist-packages/numpy/core/fromnumeric.py\u001b[0m in \u001b[0;36mtranspose\u001b[0;34m(a, axes)\u001b[0m\n\u001b[1;32m    648\u001b[0m \u001b[0;34m\u001b[0m\u001b[0m\n\u001b[1;32m    649\u001b[0m     \"\"\"\n\u001b[0;32m--> 650\u001b[0;31m     \u001b[0;32mreturn\u001b[0m \u001b[0m_wrapfunc\u001b[0m\u001b[0;34m(\u001b[0m\u001b[0ma\u001b[0m\u001b[0;34m,\u001b[0m \u001b[0;34m'transpose'\u001b[0m\u001b[0;34m,\u001b[0m \u001b[0maxes\u001b[0m\u001b[0;34m)\u001b[0m\u001b[0;34m\u001b[0m\u001b[0;34m\u001b[0m\u001b[0m\n\u001b[0m\u001b[1;32m    651\u001b[0m \u001b[0;34m\u001b[0m\u001b[0m\n\u001b[1;32m    652\u001b[0m \u001b[0;34m\u001b[0m\u001b[0m\n",
            "\u001b[0;32m/usr/local/lib/python3.6/dist-packages/numpy/core/fromnumeric.py\u001b[0m in \u001b[0;36m_wrapfunc\u001b[0;34m(obj, method, *args, **kwds)\u001b[0m\n\u001b[1;32m     68\u001b[0m         \u001b[0;31m# Call _wrapit from within the except clause to ensure a potential\u001b[0m\u001b[0;34m\u001b[0m\u001b[0;34m\u001b[0m\u001b[0;34m\u001b[0m\u001b[0m\n\u001b[1;32m     69\u001b[0m         \u001b[0;31m# exception has a traceback chain.\u001b[0m\u001b[0;34m\u001b[0m\u001b[0;34m\u001b[0m\u001b[0;34m\u001b[0m\u001b[0m\n\u001b[0;32m---> 70\u001b[0;31m         \u001b[0;32mreturn\u001b[0m \u001b[0m_wrapit\u001b[0m\u001b[0;34m(\u001b[0m\u001b[0mobj\u001b[0m\u001b[0;34m,\u001b[0m \u001b[0mmethod\u001b[0m\u001b[0;34m,\u001b[0m \u001b[0;34m*\u001b[0m\u001b[0margs\u001b[0m\u001b[0;34m,\u001b[0m \u001b[0;34m**\u001b[0m\u001b[0mkwds\u001b[0m\u001b[0;34m)\u001b[0m\u001b[0;34m\u001b[0m\u001b[0;34m\u001b[0m\u001b[0m\n\u001b[0m\u001b[1;32m     71\u001b[0m \u001b[0;34m\u001b[0m\u001b[0m\n\u001b[1;32m     72\u001b[0m \u001b[0;34m\u001b[0m\u001b[0m\n",
            "\u001b[0;32m/usr/local/lib/python3.6/dist-packages/numpy/core/fromnumeric.py\u001b[0m in \u001b[0;36m_wrapit\u001b[0;34m(obj, method, *args, **kwds)\u001b[0m\n\u001b[1;32m     45\u001b[0m     \u001b[0;32mexcept\u001b[0m \u001b[0mAttributeError\u001b[0m\u001b[0;34m:\u001b[0m\u001b[0;34m\u001b[0m\u001b[0;34m\u001b[0m\u001b[0m\n\u001b[1;32m     46\u001b[0m         \u001b[0mwrap\u001b[0m \u001b[0;34m=\u001b[0m \u001b[0;32mNone\u001b[0m\u001b[0;34m\u001b[0m\u001b[0;34m\u001b[0m\u001b[0m\n\u001b[0;32m---> 47\u001b[0;31m     \u001b[0mresult\u001b[0m \u001b[0;34m=\u001b[0m \u001b[0mgetattr\u001b[0m\u001b[0;34m(\u001b[0m\u001b[0masarray\u001b[0m\u001b[0;34m(\u001b[0m\u001b[0mobj\u001b[0m\u001b[0;34m)\u001b[0m\u001b[0;34m,\u001b[0m \u001b[0mmethod\u001b[0m\u001b[0;34m)\u001b[0m\u001b[0;34m(\u001b[0m\u001b[0;34m*\u001b[0m\u001b[0margs\u001b[0m\u001b[0;34m,\u001b[0m \u001b[0;34m**\u001b[0m\u001b[0mkwds\u001b[0m\u001b[0;34m)\u001b[0m\u001b[0;34m\u001b[0m\u001b[0;34m\u001b[0m\u001b[0m\n\u001b[0m\u001b[1;32m     48\u001b[0m     \u001b[0;32mif\u001b[0m \u001b[0mwrap\u001b[0m\u001b[0;34m:\u001b[0m\u001b[0;34m\u001b[0m\u001b[0;34m\u001b[0m\u001b[0m\n\u001b[1;32m     49\u001b[0m         \u001b[0;32mif\u001b[0m \u001b[0;32mnot\u001b[0m \u001b[0misinstance\u001b[0m\u001b[0;34m(\u001b[0m\u001b[0mresult\u001b[0m\u001b[0;34m,\u001b[0m \u001b[0mmu\u001b[0m\u001b[0;34m.\u001b[0m\u001b[0mndarray\u001b[0m\u001b[0;34m)\u001b[0m\u001b[0;34m:\u001b[0m\u001b[0;34m\u001b[0m\u001b[0;34m\u001b[0m\u001b[0m\n",
            "\u001b[0;31mValueError\u001b[0m: axes don't match array"
          ]
        },
        {
          "output_type": "display_data",
          "data": {
            "image/png": "[encoded data removed]",
            "text/plain": [
              "<Figure size 2016x2016 with 1 Axes>"
            ]
          },
          "metadata": {
            "tags": []
          }
        }
      ]
    },
    {
      "cell_type": "markdown",
      "metadata": {
        "colab_type": "text",
        "id": "yBGNZ9WP4i6z"
      },
      "source": [
        "# Helper functions for Neural Network"
      ]
    },
    {
      "cell_type": "code",
      "metadata": {
        "ExecuteTime": {
          "end_time": "2020-03-05T00:36:40.408108Z",
          "start_time": "2020-03-05T00:36:40.206690Z"
        },
        "colab_type": "code",
        "id": "9rT9PnCc4i62",
        "colab": {}
      },
      "source": [
        "def accuracy(outputs, labels):\n",
        "    \"\"\"Function for determining the accuracy of a set of model outputs compared to label values.\"\"\"\n",
        "    prediction = outputs.cpu().max(1, keepdim=True)[1].squeeze()\n",
        "    prediction_comp = torch.eq(prediction.cpu(), labels.cpu())\n",
        "    prediction_comp = prediction_comp.sum().numpy() / torch.numel(prediction.cpu())\n",
        "    return prediction_comp * 100"
      ],
      "execution_count": 0,
      "outputs": []
    },
    {
      "cell_type": "code",
      "metadata": {
        "ExecuteTime": {
          "end_time": "2020-03-05T00:36:42.109866Z",
          "start_time": "2020-03-05T00:36:41.914382Z"
        },
        "colab_type": "code",
        "id": "23GbaeTO4i7A",
        "colab": {}
      },
      "source": [
        "def cpu_or_gpu():\n",
        "    \"\"\"Function to determine whether to train using a GPU or CPU.\"\"\"\n",
        "    train_on_gpu = torch.cuda.is_available()\n",
        "    if not train_on_gpu:\n",
        "        device = torch.device('cpu')\n",
        "    else:\n",
        "        device = torch.device('cuda:0')\n",
        "    return device"
      ],
      "execution_count": 0,
      "outputs": []
    },
    {
      "cell_type": "code",
      "metadata": {
        "ExecuteTime": {
          "end_time": "2020-03-05T00:36:43.817124Z",
          "start_time": "2020-03-05T00:36:43.620662Z"
        },
        "colab_type": "code",
        "id": "1nc5gfNc4i7J",
        "colab": {}
      },
      "source": [
        "def reduce_step_size(iteration_cutoff, old_step_size, new_step_size, epoch):\n",
        "    \"\"\"Used in training to reduce step size\"\"\"\n",
        "    step_size = old_step_size\n",
        "    if epoch == iteration_cutoff:\n",
        "        step_size = new_step_size\n",
        "        if epoch == iteration_cutoff:\n",
        "            print(\n",
        "                \"Log -- Decreased Step size from {} to {}\".format(old_step_size, new_step_size))\n",
        "    return step_size"
      ],
      "execution_count": 0,
      "outputs": []
    },
    {
      "cell_type": "markdown",
      "metadata": {
        "colab_type": "text",
        "id": "XQEd9taj4i7U"
      },
      "source": [
        "# Initialize settings for Neural Network"
      ]
    },
    {
      "cell_type": "markdown",
      "metadata": {
        "id": "zC3tToJU1ZQj",
        "colab_type": "text"
      },
      "source": [
        "## Main Model"
      ]
    },
    {
      "cell_type": "code",
      "metadata": {
        "ExecuteTime": {
          "end_time": "2020-03-05T00:36:47.886231Z",
          "start_time": "2020-03-05T00:36:47.675743Z"
        },
        "colab_type": "code",
        "id": "NDvHbGwy4i7W",
        "colab": {}
      },
      "source": [
        "class Neural_Network(nn.Module):\n",
        "    def __init__(self):\n",
        "        super(Neural_Network, self).__init__()\n",
        "\n",
        "        # 5 Convolutional Layers\n",
        "        # 100 - 3x3, 200 - 2x2, 300 - 2x2, 400 - 2x2, 500 - 2x2\n",
        "        self.conv1 = nn.Conv2d(1, 100, 3, padding=1)\n",
        "        self.conv2 = nn.Conv2d(100, 200, 2, padding=1)\n",
        "        self.conv3 = nn.Conv2d(200, 300, 2, padding=1)\n",
        "        self.conv4 = nn.Conv2d(300, 400, 2, padding=1)\n",
        "        self.conv5 = nn.Conv2d(400, 500, 2, padding=1)\n",
        "\n",
        "        # Max Pooling Layer (2 x 2)\n",
        "        self.pool = nn.MaxPool2d(2, 2)\n",
        "\n",
        "        # Fully Connected Output Layer\n",
        "        self.fc4 = nn.Linear(4500, 10)\n",
        "\n",
        "        # Activation function\n",
        "        self.activ1 = nn.ReLU()\n",
        "\n",
        "    def forward(self, x):\n",
        "        # 5 convolutional / pooling layers\n",
        "        x = self.activ1(self.conv1(x))\n",
        "        x = self.pool(x)\n",
        "        x = self.activ1(self.conv2(x))\n",
        "        x = self.pool(x)\n",
        "        x = self.activ1(self.conv3(x))\n",
        "        x = self.pool(x)\n",
        "        x = self.activ1(self.conv4(x))\n",
        "        x = self.pool(x)\n",
        "        x = self.activ1(self.conv5(x))\n",
        "\n",
        "        # Final Output Layer\n",
        "        x = x.view(x.shape[0], -1)\n",
        "        x = self.fc4(x)\n",
        "\n",
        "        return x"
      ],
      "execution_count": 0,
      "outputs": []
    },
    {
      "cell_type": "markdown",
      "metadata": {
        "colab_type": "text",
        "id": "-YXZxf_84i7e"
      },
      "source": [
        "## Other attempts"
      ]
    },
    {
      "cell_type": "code",
      "metadata": {
        "ExecuteTime": {
          "end_time": "2020-03-04T16:22:23.379325Z",
          "start_time": "2020-03-04T16:22:23.260135Z"
        },
        "colab_type": "code",
        "id": "iwISaGLD4i7g",
        "colab": {}
      },
      "source": [
        "class Neural_Network_3(nn.Module):\n",
        "    def __init__(self):\n",
        "        super(Neural_Network, self).__init__()\n",
        "        # Convolutional Layer -\n",
        "        self.conv1 = nn.Conv2d(3, 6, 5, padding=1)\n",
        "\n",
        "        # 2nd Convolutional Layer -\n",
        "        self.conv2 = nn.Conv2d(6, 16, 5, padding=1)\n",
        "\n",
        "        # 3rd Convolutional Layer -\n",
        "        self.conv3 = nn.Conv2d(16, 32, 5, padding=1)\n",
        "\n",
        "        # Max Pooling layers -\n",
        "        self.pool = nn.MaxPool2d(2, 2)\n",
        "\n",
        "        # 3 fully connected layers\n",
        "        self.fc1 = nn.Linear(2048, 250)\n",
        "        self.fc2 = nn.Linear(250, 120)\n",
        "        self.fc3 = nn.Linear(120, 84)\n",
        "        self.fc4 = nn.Linear(84, 10)\n",
        "\n",
        "        #Dropout for regularization using default p=0.5\n",
        "        #self.dr1 = nn.Dropout2d()\n",
        "        self.dr2 = nn.Dropout()\n",
        "\n",
        "        # Activation function\n",
        "        self.activ1 = nn.ReLU()\n",
        "        #self.activ1 = nn.Tanh()\n",
        "        #self.activ2 = nn.LocalResponseNorm(2)\n",
        "\n",
        "    def forward(self, x):\n",
        "        # 2 convolutional / pooling layers\n",
        "        x = self.activ1(self.conv1(x))\n",
        "        x = self.activ1(self.conv2(x))\n",
        "        x = self.pool(x)\n",
        "        x = self.activ1(self.conv3(x))\n",
        "\n",
        "        # 2 fully connected hidden layers\n",
        "        x = x.view(x.shape[0], -1)\n",
        "        x = self.activ1(self.fc1(x))\n",
        "        x = self.dr2(x)\n",
        "        x = self.activ1(self.fc2(x))\n",
        "        x = self.dr2(x)\n",
        "        x = self.activ1(self.fc3(x))\n",
        "        x = self.dr2(x)\n",
        "\n",
        "        # final output layer\n",
        "        x = self.fc4(x)\n",
        "\n",
        "        return x"
      ],
      "execution_count": 0,
      "outputs": []
    },
    {
      "cell_type": "code",
      "metadata": {
        "colab_type": "code",
        "id": "0mCLpOB64i7o",
        "colab": {}
      },
      "source": [
        "class Neural_Network2(nn.Module):\n",
        "    def __init__(self):\n",
        "        super(Neural_Network2, self).__init__()\n",
        "        # Convolutional Layer - \n",
        "        self.conv1 = nn.Conv2d(3,6,3)\n",
        "        \n",
        "        # 2nd Convolutional Layer -\n",
        "        self.conv2 = nn.Conv2d(6,6,5)\n",
        "        \n",
        "        # 3rd Convolutional Layer -\n",
        "        self.conv3 = nn.Conv2d(6,8,5)\n",
        "        \n",
        "        # 4th Convolutional Layer\n",
        "        self.conv4 = nn.Conv2d(8,10,5)\n",
        "        \n",
        "        # Max Pooling layers - \n",
        "        self.pool = nn.MaxPool2d(2,2)\n",
        "             \n",
        "        # 3 fully connected layers\n",
        "        self.fc1 = nn.Linear(40, 10)\n",
        "        \n",
        "        # Activation function\n",
        "        self.activ1 = nn.ReLU()\n",
        "        \n",
        "    def forward(self, x):\n",
        "        # 2 convolutional / pooling layers\n",
        "        x = self.activ1(self.conv1(x))\n",
        "        x = self.activ1(self.conv2(x))\n",
        "        x = self.pool(x)\n",
        "        x = self.activ1(self.conv3(x))\n",
        "        x = self.activ1(self.conv4(x))\n",
        "        x = self.pool(x)\n",
        "        \n",
        "        # 2 fully connected hidden layers\n",
        "        x = x.view(-1,40)\n",
        "        x = self.activ1(self.fc1(x))\n",
        "        \n",
        "        return x"
      ],
      "execution_count": 0,
      "outputs": []
    },
    {
      "cell_type": "code",
      "metadata": {
        "colab_type": "code",
        "id": "ER-kym1v4i7y",
        "colab": {}
      },
      "source": [
        "#All fully connected layer architecture\n",
        "class Neural_Network_Linear(nn.Module):\n",
        "    def __init__(self):\n",
        "        super(Neural_Network, self).__init__()\n",
        "        self.fc1 = nn.Linear(32* 32 * 3, 256)\n",
        "        self.fc2 = nn.Linear(256,200)\n",
        "        self.fc3 = nn.Linear(200, 10)\n",
        "        self.activ = nn.functional.relu\n",
        "        \n",
        "    def forward(self, x):\n",
        "        x = self.activ(self.fc1(x))\n",
        "        x = self.activ(self.fc2(x))\n",
        "        x = self.fc3(x)\n",
        "        \n",
        "        return x"
      ],
      "execution_count": 0,
      "outputs": []
    },
    {
      "cell_type": "code",
      "metadata": {
        "ExecuteTime": {
          "end_time": "2020-03-03T14:26:40.134256Z",
          "start_time": "2020-03-03T14:26:40.034281Z"
        },
        "colab_type": "code",
        "id": "cmi-bKPd4i75",
        "colab": {}
      },
      "source": [
        "#VGG16 architecture\n",
        "class CNN(nn.Module):\n",
        "    def __init__(self):\n",
        "        super(CNN,self).__init__()\n",
        "        \n",
        "        self.conv_layer = nn.Sequential(\n",
        "        \n",
        "            #1st conv layer block\n",
        "            nn.Conv2d(in_channels=3, out_channels=32, kernel_size=3, padding=1),\n",
        "            nn.BatchNorm2d(32),\n",
        "            nn.ReLU(inplace=True),\n",
        "            nn.Conv2d(in_channels=32, out_channels=64, kernel_size=3, padding=1),\n",
        "            nn.ReLU(inplace=True),\n",
        "            nn.MaxPool2d(kernel_size=2, stride=2),\n",
        "\n",
        "            #2nd conv layer block\n",
        "            nn.Conv2d(in_channels=64, out_channels=128, kernel_size=3, padding=1),\n",
        "            nn.BatchNorm2d(128),\n",
        "            nn.ReLU(inplace=True),\n",
        "            nn.Conv2d(in_channels=128, out_channels=128, kernel_size=3, padding=1),\n",
        "            nn.ReLU(inplace=True),\n",
        "            nn.MaxPool2d(kernel_size=2, stride=2),\n",
        "            nn.Dropout2d(p=0.05),\n",
        "\n",
        "            #3rd conv layer block\n",
        "            nn.Conv2d(in_channels=128, out_channels=256, kernel_size=3, padding=1),\n",
        "            nn.BatchNorm2d(256),\n",
        "            nn.ReLU(inplace=True),\n",
        "            nn.Conv2d(in_channels=256, out_channels=256, kernel_size=3, padding=1),\n",
        "            nn.ReLU(inplace=True),\n",
        "            nn.MaxPool2d(kernel_size=2, stride=2),\n",
        "        )\n",
        "        \n",
        "            #fully connected layers block\n",
        "        self.fc_layer = nn.Sequential(\n",
        "            nn.Dropout(p=0.1),\n",
        "            nn.Linear(4096,1024),\n",
        "            nn.ReLU(inplace=True),\n",
        "            nn.Linear(1024,512),\n",
        "            nn.ReLU(inplace=True),\n",
        "            nn.Dropout(p=0.1),\n",
        "            nn.Linear(512,10)\n",
        "        )\n",
        "        \n",
        "            #perform forward\n",
        "        def forward(self, x):\n",
        "            #conv layers\n",
        "            x = self.conv_layer(x)\n",
        "            #flatten\n",
        "            x = x.view(x.size(0), -1)\n",
        "            #fully connected layer\n",
        "            x = self.fc_layer(x)\n",
        "            \n",
        "            return x"
      ],
      "execution_count": 0,
      "outputs": []
    },
    {
      "cell_type": "markdown",
      "metadata": {
        "colab_type": "text",
        "id": "FSnQKYqY4i8D"
      },
      "source": [
        "# Neural Network Training"
      ]
    },
    {
      "cell_type": "markdown",
      "metadata": {
        "id": "r-T9_Ju91ZQu",
        "colab_type": "text"
      },
      "source": [
        "## Training new model"
      ]
    },
    {
      "cell_type": "code",
      "metadata": {
        "ExecuteTime": {
          "end_time": "2020-03-05T00:36:53.961314Z",
          "start_time": "2020-03-05T00:36:53.714935Z"
        },
        "colab_type": "code",
        "id": "yjXsgr7E4i8F",
        "outputId": "5421bb57-7da1-4cca-d7a2-4ce36158f325",
        "colab": {
          "base_uri": "https://localhost:8080/",
          "height": 207
        }
      },
      "source": [
        "# Use this cell if training a new model\n",
        "model = Neural_Network()\n",
        "device = cpu_or_gpu()\n",
        "model.to(device)"
      ],
      "execution_count": 0,
      "outputs": [
        {
          "output_type": "execute_result",
          "data": {
            "text/plain": [
              "Neural_Network(\n",
              "  (conv1): Conv2d(1, 100, kernel_size=(3, 3), stride=(1, 1), padding=(1, 1))\n",
              "  (conv2): Conv2d(100, 200, kernel_size=(2, 2), stride=(1, 1), padding=(1, 1))\n",
              "  (conv3): Conv2d(200, 300, kernel_size=(2, 2), stride=(1, 1), padding=(1, 1))\n",
              "  (conv4): Conv2d(300, 400, kernel_size=(2, 2), stride=(1, 1), padding=(1, 1))\n",
              "  (conv5): Conv2d(400, 500, kernel_size=(2, 2), stride=(1, 1), padding=(1, 1))\n",
              "  (pool): MaxPool2d(kernel_size=2, stride=2, padding=0, dilation=1, ceil_mode=False)\n",
              "  (fc4): Linear(in_features=4500, out_features=10, bias=True)\n",
              "  (activ1): ReLU()\n",
              ")"
            ]
          },
          "metadata": {
            "tags": []
          },
          "execution_count": 22
        }
      ]
    },
    {
      "cell_type": "markdown",
      "metadata": {
        "id": "LZPCH-AV1ZQw",
        "colab_type": "text"
      },
      "source": [
        "## Loading previously saved model"
      ]
    },
    {
      "cell_type": "code",
      "metadata": {
        "ExecuteTime": {
          "end_time": "2020-03-05T00:36:56.771414Z",
          "start_time": "2020-03-05T00:36:56.528114Z"
        },
        "colab_type": "code",
        "id": "4-XJAjsA4i8N",
        "outputId": "7e5379f6-c92d-438e-c5b6-3f37a24ed5ae",
        "colab": {
          "base_uri": "https://localhost:8080/",
          "height": 193
        }
      },
      "source": [
        "# Use this cell if loading a saved model\n",
        "model = Neural_Network()\n",
        "model.load_state_dict(\n",
        "    torch.load(\"Conv-NN-ReLU-88.5testaccuracy\"))  # <------- Insert path of saved model as string here\n",
        "\n",
        "model.eval()\n",
        "\n",
        "device = cpu_or_gpu()\n",
        "model.to(device)"
      ],
      "execution_count": 0,
      "outputs": [
        {
          "output_type": "execute_result",
          "data": {
            "text/plain": [
              "Neural_Network(\n",
              "  (conv1): Conv2d(3, 100, kernel_size=(3, 3), stride=(1, 1), padding=(1, 1))\n",
              "  (conv2): Conv2d(100, 200, kernel_size=(2, 2), stride=(1, 1), padding=(1, 1))\n",
              "  (conv3): Conv2d(200, 300, kernel_size=(2, 2), stride=(1, 1), padding=(1, 1))\n",
              "  (conv4): Conv2d(300, 400, kernel_size=(2, 2), stride=(1, 1), padding=(1, 1))\n",
              "  (conv5): Conv2d(400, 500, kernel_size=(2, 2), stride=(1, 1), padding=(1, 1))\n",
              "  (pool): MaxPool2d(kernel_size=2, stride=2, padding=0, dilation=1, ceil_mode=False)\n",
              "  (fc4): Linear(in_features=4500, out_features=10, bias=True)\n",
              "  (activ1): ReLU()\n",
              ")"
            ]
          },
          "metadata": {
            "tags": []
          },
          "execution_count": 19
        }
      ]
    },
    {
      "cell_type": "markdown",
      "metadata": {
        "id": "-95uTCS31ZQy",
        "colab_type": "text"
      },
      "source": [
        "## Model Summary"
      ]
    },
    {
      "cell_type": "code",
      "metadata": {
        "ExecuteTime": {
          "end_time": "2020-03-05T00:36:59.356175Z",
          "start_time": "2020-03-05T00:36:58.974100Z"
        },
        "colab_type": "code",
        "id": "kXLrfa4o4i8V",
        "outputId": "f4443c0a-19f9-411f-fe6c-aa9a779eb1c4",
        "colab": {
          "base_uri": "https://localhost:8080/",
          "height": 493
        }
      },
      "source": [
        "# Summary of layers, output shape, parameters, and size\n",
        "summary(model, input_size=(1, 28, 28))"
      ],
      "execution_count": 0,
      "outputs": [
        {
          "output_type": "stream",
          "text": [
            "----------------------------------------------------------------\n",
            "        Layer (type)               Output Shape         Param #\n",
            "================================================================\n",
            "            Conv2d-1          [-1, 100, 28, 28]           1,000\n",
            "              ReLU-2          [-1, 100, 28, 28]               0\n",
            "         MaxPool2d-3          [-1, 100, 14, 14]               0\n",
            "            Conv2d-4          [-1, 200, 15, 15]          80,200\n",
            "              ReLU-5          [-1, 200, 15, 15]               0\n",
            "         MaxPool2d-6            [-1, 200, 7, 7]               0\n",
            "            Conv2d-7            [-1, 300, 8, 8]         240,300\n",
            "              ReLU-8            [-1, 300, 8, 8]               0\n",
            "         MaxPool2d-9            [-1, 300, 4, 4]               0\n",
            "           Conv2d-10            [-1, 400, 5, 5]         480,400\n",
            "             ReLU-11            [-1, 400, 5, 5]               0\n",
            "        MaxPool2d-12            [-1, 400, 2, 2]               0\n",
            "           Conv2d-13            [-1, 500, 3, 3]         800,500\n",
            "             ReLU-14            [-1, 500, 3, 3]               0\n",
            "           Linear-15                   [-1, 10]          45,010\n",
            "================================================================\n",
            "Total params: 1,647,410\n",
            "Trainable params: 1,647,410\n",
            "Non-trainable params: 0\n",
            "----------------------------------------------------------------\n",
            "Input size (MB): 0.00\n",
            "Forward/backward pass size (MB): 2.67\n",
            "Params size (MB): 6.28\n",
            "Estimated Total Size (MB): 8.96\n",
            "----------------------------------------------------------------\n"
          ],
          "name": "stdout"
        }
      ]
    },
    {
      "cell_type": "markdown",
      "metadata": {
        "id": "bH4Mw0hU1ZQ0",
        "colab_type": "text"
      },
      "source": [
        "## Train function"
      ]
    },
    {
      "cell_type": "code",
      "metadata": {
        "ExecuteTime": {
          "end_time": "2020-03-05T00:37:03.082195Z",
          "start_time": "2020-03-05T00:37:02.891714Z"
        },
        "colab_type": "code",
        "id": "Wk5pSTPL4i8e",
        "colab": {}
      },
      "source": [
        "# Initialize cross entropy loss for use in training/testing\n",
        "criterion = nn.CrossEntropyLoss()"
      ],
      "execution_count": 0,
      "outputs": []
    },
    {
      "cell_type": "code",
      "metadata": {
        "ExecuteTime": {
          "end_time": "2020-03-04T14:52:09.096789Z",
          "start_time": "2020-03-04T14:52:08.901903Z"
        },
        "colab_type": "code",
        "id": "2UcjkYoy4i8m",
        "colab": {}
      },
      "source": [
        "def train():\n",
        "    model.train()\n",
        "\n",
        "    # Initial hyperparameters\n",
        "    number_of_epochs = 100\n",
        "    step_size = 0.01\n",
        "    momentum_parameter = 0.9\n",
        "    weight_decay = 0\n",
        "    lambda1 = 0.001\n",
        "\n",
        "    # L1 Regularization\n",
        "    all_linear1_params = torch.cat(\n",
        "        [x.view(-1) for x in model.fc4.parameters()])\n",
        "    l1_regularization = lambda1 * torch.norm(all_linear1_params, 1)\n",
        "\n",
        "    # Initialize optimiser\n",
        "    optimiser = optim.SGD(model.parameters(),\n",
        "                          lr=step_size,\n",
        "                          momentum=momentum_parameter,\n",
        "                          weight_decay=weight_decay)\n",
        "\n",
        "    # initialize lists for running counts of loss and accuracy\n",
        "    running_loss = []\n",
        "    running_val_loss = []\n",
        "    running_training_accuracy = []\n",
        "    running_training_accuracy.append(0)\n",
        "    running_val_accuracy = []\n",
        "    running_val_accuracy.append(0)\n",
        "\n",
        "    print(\"Log -- Step size: {}, Momentum: {}, batch_size = {}\".format(\n",
        "        step_size, momentum_parameter, train_batch_size))\n",
        "    # loop for epochs\n",
        "    for k in range(number_of_epochs):\n",
        "        device = cpu_or_gpu()\n",
        "        model.to(device)\n",
        "\n",
        "        # initialize epoch loss and training accuracy\n",
        "        epoch_loss = 0\n",
        "        training_accuracy = 0\n",
        "\n",
        "        # handle reducing step size at various iterations\n",
        "\n",
        "        step_size = reduce_step_size(iteration_cutoff=10,\n",
        "                                     old_step_size=step_size,\n",
        "                                     new_step_size=0.001,\n",
        "                                     epoch=k)\n",
        "        step_size = reduce_step_size(iteration_cutoff=20,\n",
        "                                     old_step_size=step_size,\n",
        "                                     new_step_size=0.0005,\n",
        "                                     epoch=k)\n",
        "        step_size = reduce_step_size(iteration_cutoff=30,\n",
        "                                     old_step_size=step_size,\n",
        "                                     new_step_size=0.0001,\n",
        "                                     epoch=k)\n",
        "        step_size = reduce_step_size(iteration_cutoff=40,\n",
        "                                     old_step_size=step_size,\n",
        "                                     new_step_size=0.00005,\n",
        "                                     epoch=k)\n",
        "\n",
        "        optimiser = optim.SGD(model.parameters(),\n",
        "                              lr=step_size,\n",
        "                              momentum=momentum_parameter,\n",
        "                              weight_decay=weight_decay)\n",
        "\n",
        "        # Main Training Loop\n",
        "        for j, (images, labels) in enumerate(train_loader):\n",
        "            images, labels = images.to(device), labels.to(device)\n",
        "            optimiser.zero_grad()\n",
        "            outputs = model(images)\n",
        "            loss = criterion(outputs, labels) + l1_regularization/len(images)\n",
        "            loss.backward(retain_graph=True)\n",
        "            optimiser.step()\n",
        "\n",
        "            epoch_loss += loss.item()\n",
        "            training_accuracy += accuracy(outputs, labels)\n",
        "\n",
        "        # Caclulate average loss and accuracy for each epoch\n",
        "        running_loss.append(epoch_loss / len(train_loader))\n",
        "        running_training_accuracy.append(training_accuracy / len(train_loader))\n",
        "\n",
        "        # Validation test once per epoch\n",
        "        device = torch.device('cpu')\n",
        "        model.to(device)\n",
        "        val_images, val_labels = iter(val_loader).next()\n",
        "        val_images, val_labels = val_images.to(device), val_labels.to(device)\n",
        "        val_outputs = model(val_images) + l1_regularization/len(images)\n",
        "        val_loss = criterion(val_outputs, val_labels).item()\n",
        "\n",
        "        # Store validation loss and accuracy\n",
        "        running_val_loss.append(val_loss)\n",
        "        val_accuracy = accuracy(val_outputs, val_labels)\n",
        "        running_val_accuracy.append(val_accuracy)\n",
        "\n",
        "        if k % 1 == 0:\n",
        "            print(\n",
        "                \"Epoch {a}/{b} -> Tr. Loss = {c:.2f}, Val. Loss = {d:.2f}, Tr. Acc = {e:.2f}, Val. Acc = {f:.2f}\"\n",
        "                .format(a=k,\n",
        "                        b=number_of_epochs,\n",
        "                        c=running_loss[-1],\n",
        "                        d=running_val_loss[-1],\n",
        "                        e=running_training_accuracy[-1],\n",
        "                        f=running_val_accuracy[-1]))\n",
        "\n",
        "    print(\"Final Epoch {} -> Loss = {}\".format(k, running_loss[-1]))\n",
        "\n",
        "    return running_loss, running_val_loss, running_training_accuracy, running_val_accuracy"
      ],
      "execution_count": 0,
      "outputs": []
    },
    {
      "cell_type": "code",
      "metadata": {
        "ExecuteTime": {
          "end_time": "2020-03-04T15:53:57.246216Z",
          "start_time": "2020-03-04T14:52:12.741889Z"
        },
        "colab_type": "code",
        "id": "_P23_2xu4i8v",
        "outputId": "a6c6b3e5-1bcd-4cba-c838-553016631865",
        "colab": {
          "base_uri": "https://localhost:8080/",
          "height": 429
        }
      },
      "source": [
        "running_loss, running_val_loss, running_training_accuracy, running_val_accuracy = train()"
      ],
      "execution_count": 0,
      "outputs": [
        {
          "output_type": "stream",
          "text": [
            "Log -- Step size: 0.01, Momentum: 0.9, batch_size = 32\n",
            "Epoch 0/100 -> Tr. Loss = 0.61, Val. Loss = 0.17, Tr. Acc = 79.24, Val. Acc = 94.86\n",
            "Epoch 1/100 -> Tr. Loss = 0.14, Val. Loss = 0.12, Tr. Acc = 95.72, Val. Acc = 96.36\n",
            "Epoch 2/100 -> Tr. Loss = 0.11, Val. Loss = 0.09, Tr. Acc = 96.92, Val. Acc = 97.32\n",
            "Epoch 3/100 -> Tr. Loss = 0.09, Val. Loss = 0.08, Tr. Acc = 97.31, Val. Acc = 97.30\n",
            "Epoch 4/100 -> Tr. Loss = 0.08, Val. Loss = 0.06, Tr. Acc = 97.73, Val. Acc = 98.14\n"
          ],
          "name": "stdout"
        },
        {
          "output_type": "error",
          "ename": "KeyboardInterrupt",
          "evalue": "ignored",
          "traceback": [
            "\u001b[0;31m---------------------------------------------------------------------------\u001b[0m",
            "\u001b[0;31mKeyboardInterrupt\u001b[0m                         Traceback (most recent call last)",
            "\u001b[0;32m<ipython-input-26-ecbbed34de86>\u001b[0m in \u001b[0;36m<module>\u001b[0;34m()\u001b[0m\n\u001b[0;32m----> 1\u001b[0;31m \u001b[0mrunning_loss\u001b[0m\u001b[0;34m,\u001b[0m \u001b[0mrunning_val_loss\u001b[0m\u001b[0;34m,\u001b[0m \u001b[0mrunning_training_accuracy\u001b[0m\u001b[0;34m,\u001b[0m \u001b[0mrunning_val_accuracy\u001b[0m \u001b[0;34m=\u001b[0m \u001b[0mtrain\u001b[0m\u001b[0;34m(\u001b[0m\u001b[0;34m)\u001b[0m\u001b[0;34m\u001b[0m\u001b[0;34m\u001b[0m\u001b[0m\n\u001b[0m",
            "\u001b[0;32m<ipython-input-25-206d387ee06b>\u001b[0m in \u001b[0;36mtrain\u001b[0;34m()\u001b[0m\n\u001b[1;32m     67\u001b[0m             \u001b[0mimages\u001b[0m\u001b[0;34m,\u001b[0m \u001b[0mlabels\u001b[0m \u001b[0;34m=\u001b[0m \u001b[0mimages\u001b[0m\u001b[0;34m.\u001b[0m\u001b[0mto\u001b[0m\u001b[0;34m(\u001b[0m\u001b[0mdevice\u001b[0m\u001b[0;34m)\u001b[0m\u001b[0;34m,\u001b[0m \u001b[0mlabels\u001b[0m\u001b[0;34m.\u001b[0m\u001b[0mto\u001b[0m\u001b[0;34m(\u001b[0m\u001b[0mdevice\u001b[0m\u001b[0;34m)\u001b[0m\u001b[0;34m\u001b[0m\u001b[0;34m\u001b[0m\u001b[0m\n\u001b[1;32m     68\u001b[0m             \u001b[0moptimiser\u001b[0m\u001b[0;34m.\u001b[0m\u001b[0mzero_grad\u001b[0m\u001b[0;34m(\u001b[0m\u001b[0;34m)\u001b[0m\u001b[0;34m\u001b[0m\u001b[0;34m\u001b[0m\u001b[0m\n\u001b[0;32m---> 69\u001b[0;31m             \u001b[0moutputs\u001b[0m \u001b[0;34m=\u001b[0m \u001b[0mmodel\u001b[0m\u001b[0;34m(\u001b[0m\u001b[0mimages\u001b[0m\u001b[0;34m)\u001b[0m\u001b[0;34m\u001b[0m\u001b[0;34m\u001b[0m\u001b[0m\n\u001b[0m\u001b[1;32m     70\u001b[0m             \u001b[0mloss\u001b[0m \u001b[0;34m=\u001b[0m \u001b[0mcriterion\u001b[0m\u001b[0;34m(\u001b[0m\u001b[0moutputs\u001b[0m\u001b[0;34m,\u001b[0m \u001b[0mlabels\u001b[0m\u001b[0;34m)\u001b[0m \u001b[0;34m+\u001b[0m \u001b[0ml1_regularization\u001b[0m\u001b[0;34m/\u001b[0m\u001b[0mlen\u001b[0m\u001b[0;34m(\u001b[0m\u001b[0mimages\u001b[0m\u001b[0;34m)\u001b[0m\u001b[0;34m\u001b[0m\u001b[0;34m\u001b[0m\u001b[0m\n\u001b[1;32m     71\u001b[0m             \u001b[0mloss\u001b[0m\u001b[0;34m.\u001b[0m\u001b[0mbackward\u001b[0m\u001b[0;34m(\u001b[0m\u001b[0mretain_graph\u001b[0m\u001b[0;34m=\u001b[0m\u001b[0;32mTrue\u001b[0m\u001b[0;34m)\u001b[0m\u001b[0;34m\u001b[0m\u001b[0;34m\u001b[0m\u001b[0m\n",
            "\u001b[0;32m/usr/local/lib/python3.6/dist-packages/torch/nn/modules/module.py\u001b[0m in \u001b[0;36m__call__\u001b[0;34m(self, *input, **kwargs)\u001b[0m\n\u001b[1;32m    530\u001b[0m             \u001b[0mresult\u001b[0m \u001b[0;34m=\u001b[0m \u001b[0mself\u001b[0m\u001b[0;34m.\u001b[0m\u001b[0m_slow_forward\u001b[0m\u001b[0;34m(\u001b[0m\u001b[0;34m*\u001b[0m\u001b[0minput\u001b[0m\u001b[0;34m,\u001b[0m \u001b[0;34m**\u001b[0m\u001b[0mkwargs\u001b[0m\u001b[0;34m)\u001b[0m\u001b[0;34m\u001b[0m\u001b[0;34m\u001b[0m\u001b[0m\n\u001b[1;32m    531\u001b[0m         \u001b[0;32melse\u001b[0m\u001b[0;34m:\u001b[0m\u001b[0;34m\u001b[0m\u001b[0;34m\u001b[0m\u001b[0m\n\u001b[0;32m--> 532\u001b[0;31m             \u001b[0mresult\u001b[0m \u001b[0;34m=\u001b[0m \u001b[0mself\u001b[0m\u001b[0;34m.\u001b[0m\u001b[0mforward\u001b[0m\u001b[0;34m(\u001b[0m\u001b[0;34m*\u001b[0m\u001b[0minput\u001b[0m\u001b[0;34m,\u001b[0m \u001b[0;34m**\u001b[0m\u001b[0mkwargs\u001b[0m\u001b[0;34m)\u001b[0m\u001b[0;34m\u001b[0m\u001b[0;34m\u001b[0m\u001b[0m\n\u001b[0m\u001b[1;32m    533\u001b[0m         \u001b[0;32mfor\u001b[0m \u001b[0mhook\u001b[0m \u001b[0;32min\u001b[0m \u001b[0mself\u001b[0m\u001b[0;34m.\u001b[0m\u001b[0m_forward_hooks\u001b[0m\u001b[0;34m.\u001b[0m\u001b[0mvalues\u001b[0m\u001b[0;34m(\u001b[0m\u001b[0;34m)\u001b[0m\u001b[0;34m:\u001b[0m\u001b[0;34m\u001b[0m\u001b[0;34m\u001b[0m\u001b[0m\n\u001b[1;32m    534\u001b[0m             \u001b[0mhook_result\u001b[0m \u001b[0;34m=\u001b[0m \u001b[0mhook\u001b[0m\u001b[0;34m(\u001b[0m\u001b[0mself\u001b[0m\u001b[0;34m,\u001b[0m \u001b[0minput\u001b[0m\u001b[0;34m,\u001b[0m \u001b[0mresult\u001b[0m\u001b[0;34m)\u001b[0m\u001b[0;34m\u001b[0m\u001b[0;34m\u001b[0m\u001b[0m\n",
            "\u001b[0;32m<ipython-input-21-15efe4afe818>\u001b[0m in \u001b[0;36mforward\u001b[0;34m(self, x)\u001b[0m\n\u001b[1;32m     26\u001b[0m         \u001b[0mx\u001b[0m \u001b[0;34m=\u001b[0m \u001b[0mself\u001b[0m\u001b[0;34m.\u001b[0m\u001b[0mactiv1\u001b[0m\u001b[0;34m(\u001b[0m\u001b[0mself\u001b[0m\u001b[0;34m.\u001b[0m\u001b[0mconv2\u001b[0m\u001b[0;34m(\u001b[0m\u001b[0mx\u001b[0m\u001b[0;34m)\u001b[0m\u001b[0;34m)\u001b[0m\u001b[0;34m\u001b[0m\u001b[0;34m\u001b[0m\u001b[0m\n\u001b[1;32m     27\u001b[0m         \u001b[0mx\u001b[0m \u001b[0;34m=\u001b[0m \u001b[0mself\u001b[0m\u001b[0;34m.\u001b[0m\u001b[0mpool\u001b[0m\u001b[0;34m(\u001b[0m\u001b[0mx\u001b[0m\u001b[0;34m)\u001b[0m\u001b[0;34m\u001b[0m\u001b[0;34m\u001b[0m\u001b[0m\n\u001b[0;32m---> 28\u001b[0;31m         \u001b[0mx\u001b[0m \u001b[0;34m=\u001b[0m \u001b[0mself\u001b[0m\u001b[0;34m.\u001b[0m\u001b[0mactiv1\u001b[0m\u001b[0;34m(\u001b[0m\u001b[0mself\u001b[0m\u001b[0;34m.\u001b[0m\u001b[0mconv3\u001b[0m\u001b[0;34m(\u001b[0m\u001b[0mx\u001b[0m\u001b[0;34m)\u001b[0m\u001b[0;34m)\u001b[0m\u001b[0;34m\u001b[0m\u001b[0;34m\u001b[0m\u001b[0m\n\u001b[0m\u001b[1;32m     29\u001b[0m         \u001b[0mx\u001b[0m \u001b[0;34m=\u001b[0m \u001b[0mself\u001b[0m\u001b[0;34m.\u001b[0m\u001b[0mpool\u001b[0m\u001b[0;34m(\u001b[0m\u001b[0mx\u001b[0m\u001b[0;34m)\u001b[0m\u001b[0;34m\u001b[0m\u001b[0;34m\u001b[0m\u001b[0m\n\u001b[1;32m     30\u001b[0m         \u001b[0mx\u001b[0m \u001b[0;34m=\u001b[0m \u001b[0mself\u001b[0m\u001b[0;34m.\u001b[0m\u001b[0mactiv1\u001b[0m\u001b[0;34m(\u001b[0m\u001b[0mself\u001b[0m\u001b[0;34m.\u001b[0m\u001b[0mconv4\u001b[0m\u001b[0;34m(\u001b[0m\u001b[0mx\u001b[0m\u001b[0;34m)\u001b[0m\u001b[0;34m)\u001b[0m\u001b[0;34m\u001b[0m\u001b[0;34m\u001b[0m\u001b[0m\n",
            "\u001b[0;32m/usr/local/lib/python3.6/dist-packages/torch/nn/modules/module.py\u001b[0m in \u001b[0;36m__call__\u001b[0;34m(self, *input, **kwargs)\u001b[0m\n\u001b[1;32m    530\u001b[0m             \u001b[0mresult\u001b[0m \u001b[0;34m=\u001b[0m \u001b[0mself\u001b[0m\u001b[0;34m.\u001b[0m\u001b[0m_slow_forward\u001b[0m\u001b[0;34m(\u001b[0m\u001b[0;34m*\u001b[0m\u001b[0minput\u001b[0m\u001b[0;34m,\u001b[0m \u001b[0;34m**\u001b[0m\u001b[0mkwargs\u001b[0m\u001b[0;34m)\u001b[0m\u001b[0;34m\u001b[0m\u001b[0;34m\u001b[0m\u001b[0m\n\u001b[1;32m    531\u001b[0m         \u001b[0;32melse\u001b[0m\u001b[0;34m:\u001b[0m\u001b[0;34m\u001b[0m\u001b[0;34m\u001b[0m\u001b[0m\n\u001b[0;32m--> 532\u001b[0;31m             \u001b[0mresult\u001b[0m \u001b[0;34m=\u001b[0m \u001b[0mself\u001b[0m\u001b[0;34m.\u001b[0m\u001b[0mforward\u001b[0m\u001b[0;34m(\u001b[0m\u001b[0;34m*\u001b[0m\u001b[0minput\u001b[0m\u001b[0;34m,\u001b[0m \u001b[0;34m**\u001b[0m\u001b[0mkwargs\u001b[0m\u001b[0;34m)\u001b[0m\u001b[0;34m\u001b[0m\u001b[0;34m\u001b[0m\u001b[0m\n\u001b[0m\u001b[1;32m    533\u001b[0m         \u001b[0;32mfor\u001b[0m \u001b[0mhook\u001b[0m \u001b[0;32min\u001b[0m \u001b[0mself\u001b[0m\u001b[0;34m.\u001b[0m\u001b[0m_forward_hooks\u001b[0m\u001b[0;34m.\u001b[0m\u001b[0mvalues\u001b[0m\u001b[0;34m(\u001b[0m\u001b[0;34m)\u001b[0m\u001b[0;34m:\u001b[0m\u001b[0;34m\u001b[0m\u001b[0;34m\u001b[0m\u001b[0m\n\u001b[1;32m    534\u001b[0m             \u001b[0mhook_result\u001b[0m \u001b[0;34m=\u001b[0m \u001b[0mhook\u001b[0m\u001b[0;34m(\u001b[0m\u001b[0mself\u001b[0m\u001b[0;34m,\u001b[0m \u001b[0minput\u001b[0m\u001b[0;34m,\u001b[0m \u001b[0mresult\u001b[0m\u001b[0;34m)\u001b[0m\u001b[0;34m\u001b[0m\u001b[0;34m\u001b[0m\u001b[0m\n",
            "\u001b[0;32m/usr/local/lib/python3.6/dist-packages/torch/nn/modules/conv.py\u001b[0m in \u001b[0;36mforward\u001b[0;34m(self, input)\u001b[0m\n\u001b[1;32m    343\u001b[0m \u001b[0;34m\u001b[0m\u001b[0m\n\u001b[1;32m    344\u001b[0m     \u001b[0;32mdef\u001b[0m \u001b[0mforward\u001b[0m\u001b[0;34m(\u001b[0m\u001b[0mself\u001b[0m\u001b[0;34m,\u001b[0m \u001b[0minput\u001b[0m\u001b[0;34m)\u001b[0m\u001b[0;34m:\u001b[0m\u001b[0;34m\u001b[0m\u001b[0;34m\u001b[0m\u001b[0m\n\u001b[0;32m--> 345\u001b[0;31m         \u001b[0;32mreturn\u001b[0m \u001b[0mself\u001b[0m\u001b[0;34m.\u001b[0m\u001b[0mconv2d_forward\u001b[0m\u001b[0;34m(\u001b[0m\u001b[0minput\u001b[0m\u001b[0;34m,\u001b[0m \u001b[0mself\u001b[0m\u001b[0;34m.\u001b[0m\u001b[0mweight\u001b[0m\u001b[0;34m)\u001b[0m\u001b[0;34m\u001b[0m\u001b[0;34m\u001b[0m\u001b[0m\n\u001b[0m\u001b[1;32m    346\u001b[0m \u001b[0;34m\u001b[0m\u001b[0m\n\u001b[1;32m    347\u001b[0m \u001b[0;32mclass\u001b[0m \u001b[0mConv3d\u001b[0m\u001b[0;34m(\u001b[0m\u001b[0m_ConvNd\u001b[0m\u001b[0;34m)\u001b[0m\u001b[0;34m:\u001b[0m\u001b[0;34m\u001b[0m\u001b[0;34m\u001b[0m\u001b[0m\n",
            "\u001b[0;32m/usr/local/lib/python3.6/dist-packages/torch/nn/modules/conv.py\u001b[0m in \u001b[0;36mconv2d_forward\u001b[0;34m(self, input, weight)\u001b[0m\n\u001b[1;32m    340\u001b[0m                             _pair(0), self.dilation, self.groups)\n\u001b[1;32m    341\u001b[0m         return F.conv2d(input, weight, self.bias, self.stride,\n\u001b[0;32m--> 342\u001b[0;31m                         self.padding, self.dilation, self.groups)\n\u001b[0m\u001b[1;32m    343\u001b[0m \u001b[0;34m\u001b[0m\u001b[0m\n\u001b[1;32m    344\u001b[0m     \u001b[0;32mdef\u001b[0m \u001b[0mforward\u001b[0m\u001b[0;34m(\u001b[0m\u001b[0mself\u001b[0m\u001b[0;34m,\u001b[0m \u001b[0minput\u001b[0m\u001b[0;34m)\u001b[0m\u001b[0;34m:\u001b[0m\u001b[0;34m\u001b[0m\u001b[0;34m\u001b[0m\u001b[0m\n",
            "\u001b[0;31mKeyboardInterrupt\u001b[0m: "
          ]
        }
      ]
    },
    {
      "cell_type": "markdown",
      "metadata": {
        "colab_type": "text",
        "id": "dJvsPHdK4i83"
      },
      "source": [
        "### Training Epoch Loss and Accuracy Visualizations"
      ]
    },
    {
      "cell_type": "code",
      "metadata": {
        "ExecuteTime": {
          "end_time": "2020-03-04T15:54:01.000479Z",
          "start_time": "2020-03-04T15:54:00.880543Z"
        },
        "colab_type": "code",
        "id": "YYDuywwX4i85",
        "outputId": "f49f8a5a-1bba-4963-b93c-d09037d2e74f",
        "colab": {
          "base_uri": "https://localhost:8080/",
          "height": 232
        }
      },
      "source": [
        "plt.plot(running_loss, label=\"Training Loss\")\n",
        "plt.plot(running_val_loss, label=\"Validation Loss\")\n",
        "for i in range(len(running_val_loss)):\n",
        "    if running_val_loss[i] == np.min(running_val_loss):\n",
        "        lowest_index = i\n",
        "plt.scatter(lowest_index,\n",
        "            running_val_loss[lowest_index],\n",
        "            label=\"Lowest Validation Loss\",\n",
        "            c=\"r\")\n",
        "plt.scatter(lowest_index,\n",
        "            running_loss[lowest_index],\n",
        "            label=\"Corresponding Train Loss\",\n",
        "            c=\"r\")\n",
        "plt.legend()\n",
        "plt.ylabel(\"Loss\")\n",
        "plt.xlabel(\"Epoch\")\n",
        "plt.grid()\n",
        "plt.show()"
      ],
      "execution_count": 0,
      "outputs": [
        {
          "output_type": "error",
          "ename": "NameError",
          "evalue": "ignored",
          "traceback": [
            "\u001b[0;31m---------------------------------------------------------------------------\u001b[0m",
            "\u001b[0;31mNameError\u001b[0m                                 Traceback (most recent call last)",
            "\u001b[0;32m<ipython-input-27-ef47f65ab61c>\u001b[0m in \u001b[0;36m<module>\u001b[0;34m()\u001b[0m\n\u001b[0;32m----> 1\u001b[0;31m \u001b[0mplt\u001b[0m\u001b[0;34m.\u001b[0m\u001b[0mplot\u001b[0m\u001b[0;34m(\u001b[0m\u001b[0mrunning_loss\u001b[0m\u001b[0;34m,\u001b[0m \u001b[0mlabel\u001b[0m\u001b[0;34m=\u001b[0m\u001b[0;34m\"Training Loss\"\u001b[0m\u001b[0;34m)\u001b[0m\u001b[0;34m\u001b[0m\u001b[0;34m\u001b[0m\u001b[0m\n\u001b[0m\u001b[1;32m      2\u001b[0m \u001b[0mplt\u001b[0m\u001b[0;34m.\u001b[0m\u001b[0mplot\u001b[0m\u001b[0;34m(\u001b[0m\u001b[0mrunning_val_loss\u001b[0m\u001b[0;34m,\u001b[0m \u001b[0mlabel\u001b[0m\u001b[0;34m=\u001b[0m\u001b[0;34m\"Validation Loss\"\u001b[0m\u001b[0;34m)\u001b[0m\u001b[0;34m\u001b[0m\u001b[0;34m\u001b[0m\u001b[0m\n\u001b[1;32m      3\u001b[0m \u001b[0;32mfor\u001b[0m \u001b[0mi\u001b[0m \u001b[0;32min\u001b[0m \u001b[0mrange\u001b[0m\u001b[0;34m(\u001b[0m\u001b[0mlen\u001b[0m\u001b[0;34m(\u001b[0m\u001b[0mrunning_val_loss\u001b[0m\u001b[0;34m)\u001b[0m\u001b[0;34m)\u001b[0m\u001b[0;34m:\u001b[0m\u001b[0;34m\u001b[0m\u001b[0;34m\u001b[0m\u001b[0m\n\u001b[1;32m      4\u001b[0m     \u001b[0;32mif\u001b[0m \u001b[0mrunning_val_loss\u001b[0m\u001b[0;34m[\u001b[0m\u001b[0mi\u001b[0m\u001b[0;34m]\u001b[0m \u001b[0;34m==\u001b[0m \u001b[0mnp\u001b[0m\u001b[0;34m.\u001b[0m\u001b[0mmin\u001b[0m\u001b[0;34m(\u001b[0m\u001b[0mrunning_val_loss\u001b[0m\u001b[0;34m)\u001b[0m\u001b[0;34m:\u001b[0m\u001b[0;34m\u001b[0m\u001b[0;34m\u001b[0m\u001b[0m\n\u001b[1;32m      5\u001b[0m         \u001b[0mlowest_index\u001b[0m \u001b[0;34m=\u001b[0m \u001b[0mi\u001b[0m\u001b[0;34m\u001b[0m\u001b[0;34m\u001b[0m\u001b[0m\n",
            "\u001b[0;31mNameError\u001b[0m: name 'running_loss' is not defined"
          ]
        }
      ]
    },
    {
      "cell_type": "code",
      "metadata": {
        "ExecuteTime": {
          "end_time": "2020-03-03T17:10:13.055282Z",
          "start_time": "2020-03-03T17:10:12.820407Z"
        },
        "colab_type": "code",
        "id": "lenIpOC-4i9B",
        "scrolled": true,
        "colab": {}
      },
      "source": [
        "plt.plot(running_training_accuracy, label=\"Training Accuracy\")\n",
        "plt.plot(running_val_accuracy, label=\"Test Accuracy\")\n",
        "for i in range(len(running_val_accuracy)):\n",
        "    if running_val_accuracy[i] == np.max(running_val_accuracy):\n",
        "        highest_index = i\n",
        "plt.scatter(highest_index,\n",
        "            running_val_accuracy[highest_index],\n",
        "            label=\"Highest Validation Accuracy\",\n",
        "            c=\"r\")\n",
        "plt.scatter(highest_index,\n",
        "            running_training_accuracy[highest_index],\n",
        "            label=\"Corresponding Train Accuracy\",\n",
        "            c=\"r\")\n",
        "plt.legend()\n",
        "plt.ylabel(\"Model Accuracy\")\n",
        "plt.xlabel(\"Epoch\")\n",
        "plt.grid()\n",
        "plt.show()"
      ],
      "execution_count": 0,
      "outputs": []
    },
    {
      "cell_type": "markdown",
      "metadata": {
        "ExecuteTime": {
          "end_time": "2020-03-05T01:03:52.160790Z",
          "start_time": "2020-03-05T01:03:52.154815Z"
        },
        "id": "-7Hn60BT1ZQ_",
        "colab_type": "text"
      },
      "source": [
        "# Saving Model State_Dict"
      ]
    },
    {
      "cell_type": "code",
      "metadata": {
        "ExecuteTime": {
          "end_time": "2020-03-04T16:13:57.860967Z",
          "start_time": "2020-03-04T16:13:57.611064Z"
        },
        "colab_type": "code",
        "id": "XsdZjfnY4i9n",
        "colab": {}
      },
      "source": [
        "# For saving neural network parameters\n",
        "torch.save(model.state_dict(),\n",
        "           \"Name_Here\")  # <----- make sure to update the path if saving new model"
      ],
      "execution_count": 0,
      "outputs": []
    },
    {
      "cell_type": "markdown",
      "metadata": {
        "colab_type": "text",
        "id": "y5Q1kSXr4i9H"
      },
      "source": [
        "# Neural Network Testing"
      ]
    },
    {
      "cell_type": "markdown",
      "metadata": {
        "id": "hRigKPde1ZRC",
        "colab_type": "text"
      },
      "source": [
        "## Test on test dataset"
      ]
    },
    {
      "cell_type": "code",
      "metadata": {
        "ExecuteTime": {
          "end_time": "2020-03-05T00:37:10.560708Z",
          "start_time": "2020-03-05T00:37:10.362229Z"
        },
        "colab_type": "code",
        "id": "b72_n5c74i9J",
        "colab": {}
      },
      "source": [
        "# Accuracy on full test dataset (10,000 test images)\n",
        "def test_on_testing_data():\n",
        "    \"\"\"for testing model on test set (10,000 test images), batch size of 1000 \n",
        "    is used for computational purposes and accuracy/loss are averaged after\"\"\"\n",
        "\n",
        "    criterion = nn.CrossEntropyLoss()  # in case not previously defined\n",
        "\n",
        "    # initialize network to use CPU\n",
        "    device = torch.device('cpu')\n",
        "    model.to(device)\n",
        "    model.eval()\n",
        "\n",
        "    # initialize accuracy and loss\n",
        "    test_accuracy = 0\n",
        "    epoch_loss = 0\n",
        "\n",
        "    # loop through test batches and send to CPU\n",
        "    for j, (test_images, test_labels) in enumerate(test_loader):\n",
        "        test_images, test_labels = test_images.to(\n",
        "            device), test_labels.to(device)\n",
        "\n",
        "        # run images through model to create outputs\n",
        "        test_outputs = model(test_images)\n",
        "\n",
        "        # compare outputs to actual labels\n",
        "        epoch_loss += criterion(test_outputs, test_labels).item()\n",
        "        test_accuracy += accuracy(test_outputs, test_labels)\n",
        "\n",
        "    # average over the number of batches\n",
        "    test_accuracy = test_accuracy / len(test_loader)\n",
        "    test_loss = epoch_loss / len(test_loader)\n",
        "\n",
        "    # print results\n",
        "    print(\"Test Loss is : {a:.2f}\".format(a=test_loss))\n",
        "    print(\"Test Accuracy is : {a:.2f}%\".format(a=test_accuracy))"
      ],
      "execution_count": 0,
      "outputs": []
    },
    {
      "cell_type": "code",
      "metadata": {
        "ExecuteTime": {
          "end_time": "2020-03-04T16:24:32.545088Z",
          "start_time": "2020-03-04T16:23:34.857789Z"
        },
        "colab_type": "code",
        "id": "siywUy4t4i9P",
        "outputId": "2ee4f707-0add-4f08-cad5-12f21aaf259a",
        "colab": {
          "base_uri": "https://localhost:8080/",
          "height": 51
        }
      },
      "source": [
        "test_on_testing_data()"
      ],
      "execution_count": 0,
      "outputs": [
        {
          "output_type": "stream",
          "text": [
            "Test Loss is : 0.05\n",
            "Test Accuracy is : 98.42%\n"
          ],
          "name": "stdout"
        }
      ]
    },
    {
      "cell_type": "markdown",
      "metadata": {
        "id": "H9ZUYPlB1ZRG",
        "colab_type": "text"
      },
      "source": [
        "## Test on training dataset"
      ]
    },
    {
      "cell_type": "code",
      "metadata": {
        "ExecuteTime": {
          "end_time": "2020-03-05T00:37:15.095681Z",
          "start_time": "2020-03-05T00:37:14.888237Z"
        },
        "colab_type": "code",
        "id": "D9TW85bM4i9Z",
        "colab": {}
      },
      "source": [
        "# Accuracy on full train dataset (50,000 training images) without data augmentation\n",
        "def test_on_training_data():\n",
        "    \"\"\"for testing model on training batch (50,000 test images), batch size of 1000 \n",
        "    is used for computational purposes and accuracy/loss are averaged after\"\"\"\n",
        "\n",
        "    criterion = nn.CrossEntropyLoss()  # in case not previously defined\n",
        "\n",
        "    # initialize network to use CPU\n",
        "    device = torch.device('cpu')\n",
        "    model.to(device)\n",
        "    model.eval()\n",
        "\n",
        "    # we want to test on data without additional transformations\n",
        "    transform_tr1 = transforms.Compose([\n",
        "        transforms.ToTensor(),\n",
        "        transforms.Normalize((0.4914, 0.4822, 0.4465),\n",
        "                             (0.2470, 0.2435, 0.2616))\n",
        "    ])\n",
        "\n",
        "    # define new train dataset using above transformations\n",
        "    train_dataset1 = datasets.CIFAR10('CIFAR10',\n",
        "                                      train=True,\n",
        "                                      download=True,\n",
        "                                      transform=transform_tr1)\n",
        "\n",
        "    # define new loader with batch size and dataset\n",
        "    train_loader1 = torch.utils.data.DataLoader(train_dataset1,\n",
        "                                                batch_size=1000,\n",
        "                                                shuffle=True)\n",
        "    # initialize accuracy and loss\n",
        "    test_accuracy = 0\n",
        "    epoch_loss = 0\n",
        "\n",
        "    # loop through test batches and send to CPU\n",
        "    for j, (test_images, test_labels) in enumerate(train_loader1):\n",
        "        test_images, test_labels = test_images.to(device), test_labels.to(\n",
        "            device)\n",
        "\n",
        "        # run images through model to create outputs\n",
        "        test_outputs = model(test_images)\n",
        "\n",
        "        # compare outputs to actual labels\n",
        "        epoch_loss += criterion(test_outputs, test_labels).item()\n",
        "        test_accuracy += accuracy(test_outputs, test_labels)\n",
        "\n",
        "    # average over the number of batches\n",
        "    test_accuracy = test_accuracy / len(train_loader1)\n",
        "    test_loss = epoch_loss / len(train_loader1)\n",
        "\n",
        "    # print results\n",
        "    print(\"Training Loss (Full Dataset) is : {a:.2f}\".format(a=test_loss))\n",
        "    print(\"Training Accuracy (Full Dataset) is : {a:.2f}%\".format(\n",
        "        a=test_accuracy))"
      ],
      "execution_count": 0,
      "outputs": []
    },
    {
      "cell_type": "code",
      "metadata": {
        "ExecuteTime": {
          "end_time": "2020-03-04T15:59:48.415556Z",
          "start_time": "2020-03-04T15:57:37.374746Z"
        },
        "colab_type": "code",
        "id": "fHV2ORxx4i9h",
        "outputId": "70b4c3db-fb6b-4800-cd0f-c996223a06c2",
        "scrolled": true,
        "colab": {
          "base_uri": "https://localhost:8080/",
          "height": 70
        }
      },
      "source": [
        "test_on_training_data()"
      ],
      "execution_count": 0,
      "outputs": [
        {
          "output_type": "stream",
          "text": [
            "Files already downloaded and verified\n",
            "Training Loss (Full Dataset) is : 0.11\n",
            "Training Accuracy (Full Dataset) is : 96.38%\n"
          ],
          "name": "stdout"
        }
      ]
    },
    {
      "cell_type": "markdown",
      "metadata": {
        "colab_type": "text",
        "id": "aJXfQhib4i9v"
      },
      "source": [
        "# Adversarial Attacks"
      ]
    },
    {
      "cell_type": "code",
      "metadata": {
        "ExecuteTime": {
          "end_time": "2020-03-05T00:37:20.069277Z",
          "start_time": "2020-03-05T00:37:19.875752Z"
        },
        "colab_type": "code",
        "id": "2v1eu9GG4i9y",
        "colab": {}
      },
      "source": [
        "test_loader1 = torch.utils.data.DataLoader(test_dataset,\n",
        "                                           batch_size=1,\n",
        "                                           shuffle=True)\n",
        "epsilon = [0, 0.05, 0.1, 0.2, 0.3]"
      ],
      "execution_count": 0,
      "outputs": []
    },
    {
      "cell_type": "code",
      "metadata": {
        "ExecuteTime": {
          "end_time": "2020-03-05T00:37:21.747151Z",
          "start_time": "2020-03-05T00:37:21.552704Z"
        },
        "colab_type": "code",
        "id": "WKb-qTe84i93",
        "colab": {}
      },
      "source": [
        "def fgsm(images, epsilon, images_gradient):\n",
        "    sign = images.grad.sign()\n",
        "    new_image = images + epsilon* sign\n",
        "\n",
        "    return new_image"
      ],
      "execution_count": 0,
      "outputs": []
    },
    {
      "cell_type": "code",
      "metadata": {
        "id": "xWkalCuHKbgU",
        "colab_type": "code",
        "colab": {}
      },
      "source": [
        ""
      ],
      "execution_count": 0,
      "outputs": []
    },
    {
      "cell_type": "code",
      "metadata": {
        "ExecuteTime": {
          "end_time": "2020-03-05T00:37:21.747151Z",
          "start_time": "2020-03-05T00:37:21.552704Z"
        },
        "colab_type": "code",
        "id": "dvYVjlLaKb4G",
        "colab": {}
      },
      "source": [
        "def iter_fgsm(images, epsilon, iterations, images_gradient):\n",
        "    for i in range(iterations):\n",
        "      images_adv = images_adv.to(device)\n",
        "      outputs = Neural_Network(images_adv)\n",
        "      loss = criterion(outputs, Variable(labels))\n",
        "\n",
        "      new_image1 = images_adv + (epsilon/iterations)*grad\n",
        "\n",
        "    return new_image1"
      ],
      "execution_count": 0,
      "outputs": []
    },
    {
      "cell_type": "code",
      "metadata": {
        "ExecuteTime": {
          "end_time": "2020-03-05T00:37:25.295902Z",
          "start_time": "2020-03-05T00:37:25.067466Z"
        },
        "colab_type": "code",
        "id": "m6s-QyUW4i99",
        "colab": {}
      },
      "source": [
        "def test_single_prediction(epsilon):\n",
        "\n",
        "    # Run model on CPU\n",
        "    device = torch.device('cpu')\n",
        "    model.to(device)\n",
        "    model.eval()\n",
        "\n",
        "    # For randomly sampling one image from the data loader\n",
        "    indices = np.arange(10000)\n",
        "    np.random.shuffle(indices)\n",
        "    sampler = torch.utils.data.SubsetRandomSampler(indices[:1])\n",
        "\n",
        "    test_loader1 = torch.utils.data.DataLoader(test_dataset,\n",
        "                                               batch_size=1,\n",
        "                                               shuffle=False,\n",
        "                                               sampler=sampler)\n",
        "\n",
        "    # define sample image out of the batch in the correct shape for visualization\n",
        "    for test_images, test_labels in test_loader1:\n",
        "        sample_image = test_images[0, :, :]\n",
        "        sample_label = test_labels[0]\n",
        "\n",
        "    # fgsm requires that we track gradients\n",
        "    sample_image.requires_grad = True\n",
        "    test_images.requires_grad = True\n",
        "\n",
        "    # run model on single image in test_images and backward pass\n",
        "    output = model(test_images)\n",
        "    loss = criterion(output, test_labels)\n",
        "    model.zero_grad()\n",
        "    loss.backward()\n",
        "\n",
        "    # predicted label is the highest value in output\n",
        "    _, predicted = torch.max(output, 1)\n",
        "\n",
        "    # calculate confidence in prediction(probability)\n",
        "    # by applying softmax to output\n",
        "    confidence = torch.nn.functional.softmax(output, dim=1)\n",
        "    confidence = torch.max(confidence, 1)\n",
        "\n",
        "    # fgsm adversarial attack on test_images\n",
        "    fgsm_images = iter_FGSM(test_images, epsilon, test_images.grad.data)\n",
        "\n",
        "    # run model on single perturbed image\n",
        "    fgsm_output = model(fgsm_images)\n",
        "\n",
        "    # predicted label is the highest value in output\n",
        "    _, fgsm_predicted = torch.max(fgsm_output, 1)\n",
        "\n",
        "    # calculate confidence in prediction(probability)\n",
        "    # by applying softmax to output\n",
        "    fgsm_confidence = torch.nn.functional.softmax(fgsm_output, dim=1)\n",
        "    fgsm_confidence = torch.max(fgsm_confidence, 1)\n",
        "\n",
        "    # logging model prediction before and after fgsm attack\n",
        "    print(\"True label is: {tl} - {tl_desc}\\n\\\n",
        "    \\nBefore fgsm - Model prediction: {pred1} - {pred1_desc} with {conf1:.2f}% Confidence\\n\\\n",
        "    \\nAfter fgsm - Model prediction: {pred2} - {pred2_desc} with {conf2:.2f}% Confidence\\n\\\n",
        "    \".format(tl=sample_label,\n",
        "             tl_desc=train_dataset.classes[sample_label],\n",
        "             pred1=predicted[0],\n",
        "             pred1_desc=train_dataset.classes[predicted[0]],\n",
        "             pred2=fgsm_predicted[0],\n",
        "             pred2_desc=train_dataset.classes[fgsm_predicted[0]],\n",
        "             conf1=confidence[0].item() * 100,\n",
        "             conf2=fgsm_confidence[0].item() * 100))\n",
        "\n",
        "    # define mean and standard deviation for reversing normalization\n",
        "    std = tst_std\n",
        "    mean = tst_mean\n",
        "    mean = mean[:, None, None]\n",
        "    std = std[:, None, None]\n",
        "\n",
        "    # reverse normalization\n",
        "    sample_image = sample_image * std + mean\n",
        "    adv_image = fgsm_images * std + mean\n",
        "    fgsm_vis = epsilon * test_images.grad.sign()\n",
        "\n",
        "    # list of images and label for visualization\n",
        "    images_list = [\n",
        "        sample_image.detach(),\n",
        "        fgsm_vis.detach()[0, :, :],\n",
        "        adv_image.detach()[0, :, :]\n",
        "    ]\n",
        "    labels_for_vis = [\"Original Image\", \"FGSM Noise\", \"Perturbed Image\"]\n",
        "\n",
        "    # setup figure with 3 columns and 1\n",
        "    ax = []\n",
        "    fig = plt.figure(figsize=(32, 32))\n",
        "    columns = 3\n",
        "    rows = 1\n",
        "\n",
        "    # visualization\n",
        "    plt.rcParams.update({'font.size': 22})\n",
        "    for i in range(1, columns * rows + 1):\n",
        "        ax.append(fig.add_subplot(rows, columns, i))\n",
        "        ax[-1].set_title(labels_for_vis[i - 1])\n",
        "        plt.imshow(np.transpose(images_list[i - 1], (1, 2, 0)))\n",
        "\n",
        "    plt.rcParams.update({'font.size': 12})\n",
        "    plt.show()"
      ],
      "execution_count": 0,
      "outputs": []
    },
    {
      "cell_type": "code",
      "metadata": {
        "ExecuteTime": {
          "end_time": "2020-03-05T00:37:28.900180Z",
          "start_time": "2020-03-05T00:37:28.703731Z"
        },
        "colab_type": "code",
        "id": "LB3oY2AhFwRS",
        "outputId": "42c4aeec-7700-42c1-c67d-6bbec13063bb",
        "colab": {
          "base_uri": "https://localhost:8080/",
          "height": 71
        }
      },
      "source": [
        "print(\"Classes are: {}\\n\".format(test_dataset.classes))"
      ],
      "execution_count": 0,
      "outputs": [
        {
          "output_type": "stream",
          "text": [
            "Classes are: ['airplane', 'automobile', 'bird', 'cat', 'deer', 'dog', 'frog', 'horse', 'ship', 'truck']\n",
            "\n"
          ],
          "name": "stdout"
        }
      ]
    },
    {
      "cell_type": "code",
      "metadata": {
        "ExecuteTime": {
          "end_time": "2020-03-05T00:38:15.123581Z",
          "start_time": "2020-03-05T00:38:12.434212Z"
        },
        "colab_type": "code",
        "id": "BrS8Bdys4i-H",
        "outputId": "8dda5188-d86c-47e8-9db6-b73cce766e04",
        "scrolled": false,
        "colab": {
          "base_uri": "https://localhost:8080/",
          "height": 164
        }
      },
      "source": [
        "test_single_prediction(epsilon=0.05, iterations = 15)"
      ],
      "execution_count": 0,
      "outputs": [
        {
          "output_type": "error",
          "ename": "NameError",
          "evalue": "ignored",
          "traceback": [
            "\u001b[0;31m---------------------------------------------------------------------------\u001b[0m",
            "\u001b[0;31mNameError\u001b[0m                                 Traceback (most recent call last)",
            "\u001b[0;32m<ipython-input-20-e5870f2d9713>\u001b[0m in \u001b[0;36m<module>\u001b[0;34m()\u001b[0m\n\u001b[0;32m----> 1\u001b[0;31m \u001b[0mtest_single_prediction\u001b[0m\u001b[0;34m(\u001b[0m\u001b[0mepsilon\u001b[0m\u001b[0;34m=\u001b[0m\u001b[0;36m0.05\u001b[0m\u001b[0;34m,\u001b[0m \u001b[0miterations\u001b[0m \u001b[0;34m=\u001b[0m \u001b[0;36m15\u001b[0m\u001b[0;34m)\u001b[0m\u001b[0;34m\u001b[0m\u001b[0;34m\u001b[0m\u001b[0m\n\u001b[0m",
            "\u001b[0;31mNameError\u001b[0m: name 'test_single_prediction' is not defined"
          ]
        }
      ]
    },
    {
      "cell_type": "code",
      "metadata": {
        "ExecuteTime": {
          "end_time": "2020-03-05T00:40:14.550367Z",
          "start_time": "2020-03-05T00:40:12.085995Z"
        },
        "id": "T4X_vUW91ZRb",
        "colab_type": "code",
        "outputId": "5e42d567-b4aa-4541-af4c-a4de90f9cd89",
        "colab": {}
      },
      "source": [
        "test_single_prediction(epsilon=0.1)"
      ],
      "execution_count": 0,
      "outputs": [
        {
          "output_type": "stream",
          "text": [
            "True label is: 5 - dog\n",
            "    \n",
            "Before fgsm - Model prediction: 5 - dog with 41.43% Confidence\n",
            "    \n",
            "After fgsm - Model prediction: 9 - truck with 99.87% Confidence\n",
            "    \n"
          ],
          "name": "stdout"
        },
        {
          "output_type": "stream",
          "text": [
            "Clipping input data to the valid range for imshow with RGB data ([0..1] for floats or [0..255] for integers).\n"
          ],
          "name": "stderr"
        },
        {
          "output_type": "display_data",
          "data": {
            "image/png": "[encoded data removed]",
            "text/plain": [
              "<Figure size 2304x2304 with 3 Axes>"
            ]
          },
          "metadata": {
            "tags": [],
            "needs_background": "light"
          }
        }
      ]
    },
    {
      "cell_type": "code",
      "metadata": {
        "ExecuteTime": {
          "end_time": "2020-03-05T00:38:20.183365Z",
          "start_time": "2020-03-05T00:38:19.966050Z"
        },
        "colab_type": "code",
        "id": "pupXuoRGL3L0",
        "colab": {}
      },
      "source": [
        "def test_fgsm(model, device, test_loader1, epsilon,iterations):\n",
        "    device = torch.device('cpu')\n",
        "    model.to(device)\n",
        "    model.eval()\n",
        "\n",
        "    # Accuracy counter\n",
        "    correct = 0\n",
        "    adv_examples = []\n",
        "\n",
        "    # Loop over all examples in test set\n",
        "    for images, labels in test_loader1:\n",
        "\n",
        "        # Send the data and label to the device\n",
        "        images, labels = images.to(device), labels.to(device)\n",
        "\n",
        "        # Set requires_grad attribute of tensor. Important for Attack\n",
        "        images.requires_grad = True\n",
        "\n",
        "        # Forward pass the data through the model\n",
        "        output = neural_network(images)\n",
        "        init_pred = output.max(\n",
        "            1, keepdim=True)[1]  # get the index of the max log-probability\n",
        "\n",
        "        # If the initial prediction is wrong, dont bother attacking, just move on\n",
        "        if init_pred.item() != labels.item():\n",
        "            continue\n",
        "\n",
        "        # Calculate the loss\n",
        "        loss = criterion(output, labels)\n",
        "\n",
        "        # Zero all existing gradients\n",
        "        model.zero_grad()\n",
        "\n",
        "        # Calculate gradients of model in backward pass\n",
        "        loss.backward()\n",
        "\n",
        "        # Collect datagrad\n",
        "        images_gradient = images.grad.data\n",
        "\n",
        "        # Call iter_FGSM Attack\n",
        "        perturbed_data = iter_fgsm(images, epsilon, iterations, images_gradient)\n",
        "\n",
        "        # Re-classify the perturbed image\n",
        "        output = model(perturbed_data)\n",
        "\n",
        "        # Check for success\n",
        "        final_pred = output.max(\n",
        "            1, keepdim=True)[1]  # get the index of the max log-probability\n",
        "        if final_pred.item() == labels.item():\n",
        "            correct += 1\n",
        "            # Special case for saving 0 epsilon examples\n",
        "            if (epsilon == 0) and (len(adv_examples) < 5):\n",
        "                adv_ex = perturbed_data.squeeze().detach().cpu().numpy()\n",
        "                adv_examples.append(\n",
        "                    (init_pred.item(), final_pred.item(), adv_ex))\n",
        "        else:\n",
        "            # Save some adv examples for visualization later\n",
        "            if len(adv_examples) < 5:\n",
        "                adv_ex = perturbed_data.squeeze().detach().cpu().numpy()\n",
        "                adv_examples.append(\n",
        "                    (init_pred.item(), final_pred.item(), adv_ex))\n",
        "\n",
        "    # Calculate final accuracy for this epsilon\n",
        "    final_acc = correct / float(len(test_loader1))\n",
        "    print(\"Epsilon: {}\\tTest Accuracy = {} / {} = {}\".format(\n",
        "        epsilon, correct, len(test_loader1), final_acc))\n",
        "\n",
        "    # Return the accuracy and an adversarial example\n",
        "    return final_acc, adv_examples"
      ],
      "execution_count": 0,
      "outputs": []
    },
    {
      "cell_type": "code",
      "metadata": {
        "ExecuteTime": {
          "end_time": "2020-03-03T19:15:19.306340Z",
          "start_time": "2020-03-03T18:56:52.266743Z"
        },
        "colab_type": "code",
        "id": "8hh0fubC4i-b",
        "outputId": "e99aec56-f4af-4082-88e4-67450a520a16",
        "colab": {
          "base_uri": "https://localhost:8080/",
          "height": 232
        }
      },
      "source": [
        "accuracies = []\n",
        "examples = []\n",
        "\n",
        "# Run test for each epsilon\n",
        "for eps in epsilon:\n",
        "    acc, ex = test_iter_fgsm(model, device, test_loader1, eps)\n",
        "    accuracies.append(acc)\n",
        "    examples.append(ex)"
      ],
      "execution_count": 0,
      "outputs": [
        {
          "output_type": "error",
          "ename": "NameError",
          "evalue": "ignored",
          "traceback": [
            "\u001b[0;31m---------------------------------------------------------------------------\u001b[0m",
            "\u001b[0;31mNameError\u001b[0m                                 Traceback (most recent call last)",
            "\u001b[0;32m<ipython-input-18-3ae542f377d2>\u001b[0m in \u001b[0;36m<module>\u001b[0;34m()\u001b[0m\n\u001b[1;32m      3\u001b[0m \u001b[0;34m\u001b[0m\u001b[0m\n\u001b[1;32m      4\u001b[0m \u001b[0;31m# Run test for each epsilon\u001b[0m\u001b[0;34m\u001b[0m\u001b[0;34m\u001b[0m\u001b[0;34m\u001b[0m\u001b[0m\n\u001b[0;32m----> 5\u001b[0;31m \u001b[0;32mfor\u001b[0m \u001b[0meps\u001b[0m \u001b[0;32min\u001b[0m \u001b[0mepsilon\u001b[0m\u001b[0;34m:\u001b[0m\u001b[0;34m\u001b[0m\u001b[0;34m\u001b[0m\u001b[0m\n\u001b[0m\u001b[1;32m      6\u001b[0m     \u001b[0macc\u001b[0m\u001b[0;34m,\u001b[0m \u001b[0mex\u001b[0m \u001b[0;34m=\u001b[0m \u001b[0mtest_iter_fgsm\u001b[0m\u001b[0;34m(\u001b[0m\u001b[0mmodel\u001b[0m\u001b[0;34m,\u001b[0m \u001b[0mdevice\u001b[0m\u001b[0;34m,\u001b[0m \u001b[0mtest_loader1\u001b[0m\u001b[0;34m,\u001b[0m \u001b[0meps\u001b[0m\u001b[0;34m)\u001b[0m\u001b[0;34m\u001b[0m\u001b[0;34m\u001b[0m\u001b[0m\n\u001b[1;32m      7\u001b[0m     \u001b[0maccuracies\u001b[0m\u001b[0;34m.\u001b[0m\u001b[0mappend\u001b[0m\u001b[0;34m(\u001b[0m\u001b[0macc\u001b[0m\u001b[0;34m)\u001b[0m\u001b[0;34m\u001b[0m\u001b[0;34m\u001b[0m\u001b[0m\n",
            "\u001b[0;31mNameError\u001b[0m: name 'epsilon' is not defined"
          ]
        }
      ]
    },
    {
      "cell_type": "code",
      "metadata": {
        "ExecuteTime": {
          "end_time": "2020-03-03T19:16:56.826262Z",
          "start_time": "2020-03-03T19:16:56.666353Z"
        },
        "colab_type": "code",
        "id": "2vtp5b_a4i-g",
        "colab": {}
      },
      "source": [
        "plt.figure(figsize=(5, 5))\n",
        "plt.plot(epsilon, accuracies, \"*-\")\n",
        "plt.yticks(np.arange(0, 0.4, step=0.1))\n",
        "plt.xticks(np.arange(0.05, 0.11, step=0.01))\n",
        "plt.title(\"Accuracy vs Epsilon\")\n",
        "plt.xlabel(\"Epsilon\")\n",
        "plt.ylabel(\"Accuracy\")\n",
        "plt.show()"
      ],
      "execution_count": 0,
      "outputs": []
    },
    {
      "cell_type": "code",
      "metadata": {
        "id": "Ho9Ao2VsJ8tt",
        "colab_type": "code",
        "colab": {}
      },
      "source": [
        ""
      ],
      "execution_count": 0,
      "outputs": []
    },
    {
      "cell_type": "code",
      "metadata": {
        "ExecuteTime": {
          "end_time": "2020-03-05T00:38:20.183365Z",
          "start_time": "2020-03-05T00:38:19.966050Z"
        },
        "colab_type": "code",
        "id": "pYCN-GgjJ8-u",
        "colab": {}
      },
      "source": [
        "def test_fgsm(model, device, test_loader1, epsilon,iterations):\n",
        "    device = torch.device('cpu')\n",
        "    model.to(device)\n",
        "    model.eval()\n",
        "\n",
        "    # Accuracy counter\n",
        "    correct = 0\n",
        "    adv_examples = []\n",
        "\n",
        "    # Loop over all examples in test set\n",
        "    for images, labels in test_loader1:\n",
        "\n",
        "        # Send the data and label to the device\n",
        "        images, labels = images.to(device), labels.to(device)\n",
        "\n",
        "        # Set requires_grad attribute of tensor. Important for Attack\n",
        "        images.requires_grad = True\n",
        "\n",
        "        # Forward pass the data through the model\n",
        "        output = neural_network(images)\n",
        "        init_pred = output.max(\n",
        "            1, keepdim=True)[1]  # get the index of the max log-probability\n",
        "\n",
        "        # If the initial prediction is wrong, dont bother attacking, just move on\n",
        "        if init_pred.item() != labels.item():\n",
        "            continue\n",
        "\n",
        "        # Calculate the loss\n",
        "        loss = criterion(output, labels)\n",
        "\n",
        "        # Zero all existing gradients\n",
        "        model.zero_grad()\n",
        "\n",
        "        # Calculate gradients of model in backward pass\n",
        "        loss.backward()\n",
        "\n",
        "        # Collect datagrad\n",
        "        images_gradient = images.grad.data\n",
        "\n",
        "        # Call FGSM Attack\n",
        "        perturbed_data = fgsm(images, epsilon, images_gradient)\n",
        "\n",
        "        # Re-classify the perturbed image\n",
        "        output = model(perturbed_data)\n",
        "\n",
        "        # Check for success\n",
        "        final_pred = output.max(\n",
        "            1, keepdim=True)[1]  # get the index of the max log-probability\n",
        "        if final_pred.item() == labels.item():\n",
        "            correct += 1\n",
        "            # Special case for saving 0 epsilon examples\n",
        "            if (epsilon == 0) and (len(adv_examples) < 5):\n",
        "                adv_ex = perturbed_data.squeeze().detach().cpu().numpy()\n",
        "                adv_examples.append(\n",
        "                    (init_pred.item(), final_pred.item(), adv_ex))\n",
        "        else:\n",
        "            # Save some adv examples for visualization later\n",
        "            if len(adv_examples) < 5:\n",
        "                adv_ex = perturbed_data.squeeze().detach().cpu().numpy()\n",
        "                adv_examples.append(\n",
        "                    (init_pred.item(), final_pred.item(), adv_ex))\n",
        "\n",
        "    # Calculate final accuracy for this epsilon\n",
        "    final_acc = correct / float(len(test_loader1))\n",
        "    print(\"Epsilon: {}\\tTest Accuracy = {} / {} = {}\".format(\n",
        "        epsilon, correct, len(test_loader1), final_acc))\n",
        "\n",
        "    # Return the accuracy and an adversarial example\n",
        "    return final_acc, adv_examples"
      ],
      "execution_count": 0,
      "outputs": []
    }
  ]
}